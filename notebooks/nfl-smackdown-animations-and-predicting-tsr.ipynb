{
 "cells": [
  {
   "cell_type": "markdown",
   "id": "e2f209ee",
   "metadata": {
    "papermill": {
     "duration": 0.014145,
     "end_time": "2024-01-04T08:56:09.564073",
     "exception": false,
     "start_time": "2024-01-04T08:56:09.549928",
     "status": "completed"
    },
    "tags": []
   },
   "source": [
    "## Here's to my first competition ever!\n",
    "\n",
    "#### My semester just started again, so I might not be able to remain as (super) active I recently was on Kaggle, but it sure feels amazing to finally participate in a competition.\n",
    "\n",
    "#### This notebook took a lot out of me. While Travis Kelce has been on my radar since he started dating Taylor Swift, I have absolutely **zero** knowledge of football, and analysing this data taught me more about it than any TV show or internet search did. \n",
    "\n",
    "### This notebook contains a few fun features:\n",
    "#### 1. Tackle animations on a graphed football field! (felt really cool completing that) \n",
    "#### 2. A classification model with an accuracy of 88.47% classifying by the tackle success.\n",
    "#### 3. Data processing and visualisations that will explain how tackles were affected by different metrics.\n",
    "\n",
    "##### Hope you have fun reading this notebook, let me know of any feedbacks!\n"
   ]
  },
  {
   "cell_type": "code",
   "execution_count": 1,
   "id": "1a4037bf",
   "metadata": {
    "_cell_guid": "b1076dfc-b9ad-4769-8c92-a6c4dae69d19",
    "_uuid": "8f2839f25d086af736a60e9eeb907d3b93b6e0e5",
    "execution": {
     "iopub.execute_input": "2024-01-04T08:56:09.599670Z",
     "iopub.status.busy": "2024-01-04T08:56:09.598770Z",
     "iopub.status.idle": "2024-01-04T08:56:10.014158Z",
     "shell.execute_reply": "2024-01-04T08:56:10.012852Z"
    },
    "papermill": {
     "duration": 0.433999,
     "end_time": "2024-01-04T08:56:10.016604",
     "exception": false,
     "start_time": "2024-01-04T08:56:09.582605",
     "status": "completed"
    },
    "tags": []
   },
   "outputs": [
    {
     "name": "stdout",
     "output_type": "stream",
     "text": [
      "/kaggle/input/nfl-big-data-bowl-2024/players.csv\n",
      "/kaggle/input/nfl-big-data-bowl-2024/tracking_week_7.csv\n",
      "/kaggle/input/nfl-big-data-bowl-2024/tracking_week_9.csv\n",
      "/kaggle/input/nfl-big-data-bowl-2024/tracking_week_6.csv\n",
      "/kaggle/input/nfl-big-data-bowl-2024/games.csv\n",
      "/kaggle/input/nfl-big-data-bowl-2024/tracking_week_8.csv\n",
      "/kaggle/input/nfl-big-data-bowl-2024/tracking_week_4.csv\n",
      "/kaggle/input/nfl-big-data-bowl-2024/tracking_week_3.csv\n",
      "/kaggle/input/nfl-big-data-bowl-2024/tackles.csv\n",
      "/kaggle/input/nfl-big-data-bowl-2024/tracking_week_5.csv\n",
      "/kaggle/input/nfl-big-data-bowl-2024/tracking_week_1.csv\n",
      "/kaggle/input/nfl-big-data-bowl-2024/plays.csv\n",
      "/kaggle/input/nfl-big-data-bowl-2024/tracking_week_2.csv\n"
     ]
    }
   ],
   "source": [
    "# This Python 3 environment comes with many helpful analytics libraries installed\n",
    "# It is defined by the kaggle/python Docker image: https://github.com/kaggle/docker-python\n",
    "# For example, here's several helpful packages to load\n",
    "\n",
    "import numpy as np # linear algebra\n",
    "import pandas as pd # data processing, CSV file I/O (e.g. pd.read_csv)\n",
    "\n",
    "\n",
    "# Input data files are available in the read-only \"../input/\" directory\n",
    "# For example, running this (by clicking run or pressing Shift+Enter) will list all files under the input directory\n",
    "\n",
    "import os\n",
    "for dirname, _, filenames in os.walk('/kaggle/input'):\n",
    "    for filename in filenames:\n",
    "        print(os.path.join(dirname, filename))\n",
    "\n",
    "# You can write up to 20GB to the current directory (/kaggle/working/) that gets preserved as output when you create a version using \"Save & Run All\" \n",
    "# You can also write temporary files to /kaggle/temp/, but they won't be saved outside of the current session"
   ]
  },
  {
   "cell_type": "markdown",
   "id": "cd61600d",
   "metadata": {
    "execution": {
     "iopub.execute_input": "2023-12-26T07:41:04.185583Z",
     "iopub.status.busy": "2023-12-26T07:41:04.185211Z",
     "iopub.status.idle": "2023-12-26T07:41:04.190233Z",
     "shell.execute_reply": "2023-12-26T07:41:04.189053Z",
     "shell.execute_reply.started": "2023-12-26T07:41:04.185532Z"
    },
    "papermill": {
     "duration": 0.014377,
     "end_time": "2024-01-04T08:56:10.045061",
     "exception": false,
     "start_time": "2024-01-04T08:56:10.030684",
     "status": "completed"
    },
    "tags": []
   },
   "source": [
    "## Loading datasets"
   ]
  },
  {
   "cell_type": "code",
   "execution_count": 2,
   "id": "68116a45",
   "metadata": {
    "execution": {
     "iopub.execute_input": "2024-01-04T08:56:10.075182Z",
     "iopub.status.busy": "2024-01-04T08:56:10.074687Z",
     "iopub.status.idle": "2024-01-04T08:56:10.113635Z",
     "shell.execute_reply": "2024-01-04T08:56:10.112479Z"
    },
    "papermill": {
     "duration": 0.056303,
     "end_time": "2024-01-04T08:56:10.116055",
     "exception": false,
     "start_time": "2024-01-04T08:56:10.059752",
     "status": "completed"
    },
    "tags": []
   },
   "outputs": [
    {
     "data": {
      "text/html": [
       "<div>\n",
       "<style scoped>\n",
       "    .dataframe tbody tr th:only-of-type {\n",
       "        vertical-align: middle;\n",
       "    }\n",
       "\n",
       "    .dataframe tbody tr th {\n",
       "        vertical-align: top;\n",
       "    }\n",
       "\n",
       "    .dataframe thead th {\n",
       "        text-align: right;\n",
       "    }\n",
       "</style>\n",
       "<table border=\"1\" class=\"dataframe\">\n",
       "  <thead>\n",
       "    <tr style=\"text-align: right;\">\n",
       "      <th></th>\n",
       "      <th>gameId</th>\n",
       "      <th>season</th>\n",
       "      <th>week</th>\n",
       "      <th>gameDate</th>\n",
       "      <th>gameTimeEastern</th>\n",
       "      <th>homeTeamAbbr</th>\n",
       "      <th>visitorTeamAbbr</th>\n",
       "      <th>homeFinalScore</th>\n",
       "      <th>visitorFinalScore</th>\n",
       "    </tr>\n",
       "  </thead>\n",
       "  <tbody>\n",
       "    <tr>\n",
       "      <th>0</th>\n",
       "      <td>2022090800</td>\n",
       "      <td>2022</td>\n",
       "      <td>1</td>\n",
       "      <td>09/08/2022</td>\n",
       "      <td>20:20:00</td>\n",
       "      <td>LA</td>\n",
       "      <td>BUF</td>\n",
       "      <td>10</td>\n",
       "      <td>31</td>\n",
       "    </tr>\n",
       "    <tr>\n",
       "      <th>1</th>\n",
       "      <td>2022091100</td>\n",
       "      <td>2022</td>\n",
       "      <td>1</td>\n",
       "      <td>09/11/2022</td>\n",
       "      <td>13:00:00</td>\n",
       "      <td>ATL</td>\n",
       "      <td>NO</td>\n",
       "      <td>26</td>\n",
       "      <td>27</td>\n",
       "    </tr>\n",
       "    <tr>\n",
       "      <th>2</th>\n",
       "      <td>2022091101</td>\n",
       "      <td>2022</td>\n",
       "      <td>1</td>\n",
       "      <td>09/11/2022</td>\n",
       "      <td>13:00:00</td>\n",
       "      <td>CAR</td>\n",
       "      <td>CLE</td>\n",
       "      <td>24</td>\n",
       "      <td>26</td>\n",
       "    </tr>\n",
       "    <tr>\n",
       "      <th>3</th>\n",
       "      <td>2022091102</td>\n",
       "      <td>2022</td>\n",
       "      <td>1</td>\n",
       "      <td>09/11/2022</td>\n",
       "      <td>13:00:00</td>\n",
       "      <td>CHI</td>\n",
       "      <td>SF</td>\n",
       "      <td>19</td>\n",
       "      <td>10</td>\n",
       "    </tr>\n",
       "    <tr>\n",
       "      <th>4</th>\n",
       "      <td>2022091103</td>\n",
       "      <td>2022</td>\n",
       "      <td>1</td>\n",
       "      <td>09/11/2022</td>\n",
       "      <td>13:00:00</td>\n",
       "      <td>CIN</td>\n",
       "      <td>PIT</td>\n",
       "      <td>20</td>\n",
       "      <td>23</td>\n",
       "    </tr>\n",
       "  </tbody>\n",
       "</table>\n",
       "</div>"
      ],
      "text/plain": [
       "       gameId  season  week    gameDate gameTimeEastern homeTeamAbbr  \\\n",
       "0  2022090800    2022     1  09/08/2022        20:20:00           LA   \n",
       "1  2022091100    2022     1  09/11/2022        13:00:00          ATL   \n",
       "2  2022091101    2022     1  09/11/2022        13:00:00          CAR   \n",
       "3  2022091102    2022     1  09/11/2022        13:00:00          CHI   \n",
       "4  2022091103    2022     1  09/11/2022        13:00:00          CIN   \n",
       "\n",
       "  visitorTeamAbbr  homeFinalScore  visitorFinalScore  \n",
       "0             BUF              10                 31  \n",
       "1              NO              26                 27  \n",
       "2             CLE              24                 26  \n",
       "3              SF              19                 10  \n",
       "4             PIT              20                 23  "
      ]
     },
     "execution_count": 2,
     "metadata": {},
     "output_type": "execute_result"
    }
   ],
   "source": [
    "games = pd.read_csv('/kaggle/input/nfl-big-data-bowl-2024/games.csv')\n",
    "games.head()"
   ]
  },
  {
   "cell_type": "code",
   "execution_count": 3,
   "id": "ad5c7aea",
   "metadata": {
    "execution": {
     "iopub.execute_input": "2024-01-04T08:56:10.147165Z",
     "iopub.status.busy": "2024-01-04T08:56:10.146281Z",
     "iopub.status.idle": "2024-01-04T08:56:10.171101Z",
     "shell.execute_reply": "2024-01-04T08:56:10.169817Z"
    },
    "papermill": {
     "duration": 0.042386,
     "end_time": "2024-01-04T08:56:10.173294",
     "exception": false,
     "start_time": "2024-01-04T08:56:10.130908",
     "status": "completed"
    },
    "tags": []
   },
   "outputs": [
    {
     "name": "stdout",
     "output_type": "stream",
     "text": [
      "<class 'pandas.core.frame.DataFrame'>\n",
      "RangeIndex: 136 entries, 0 to 135\n",
      "Data columns (total 9 columns):\n",
      " #   Column             Non-Null Count  Dtype \n",
      "---  ------             --------------  ----- \n",
      " 0   gameId             136 non-null    int64 \n",
      " 1   season             136 non-null    int64 \n",
      " 2   week               136 non-null    int64 \n",
      " 3   gameDate           136 non-null    object\n",
      " 4   gameTimeEastern    136 non-null    object\n",
      " 5   homeTeamAbbr       136 non-null    object\n",
      " 6   visitorTeamAbbr    136 non-null    object\n",
      " 7   homeFinalScore     136 non-null    int64 \n",
      " 8   visitorFinalScore  136 non-null    int64 \n",
      "dtypes: int64(5), object(4)\n",
      "memory usage: 9.7+ KB\n"
     ]
    }
   ],
   "source": [
    "games.info()"
   ]
  },
  {
   "cell_type": "code",
   "execution_count": 4,
   "id": "3c259189",
   "metadata": {
    "execution": {
     "iopub.execute_input": "2024-01-04T08:56:10.203237Z",
     "iopub.status.busy": "2024-01-04T08:56:10.202835Z",
     "iopub.status.idle": "2024-01-04T08:56:10.225815Z",
     "shell.execute_reply": "2024-01-04T08:56:10.224958Z"
    },
    "papermill": {
     "duration": 0.040356,
     "end_time": "2024-01-04T08:56:10.228036",
     "exception": false,
     "start_time": "2024-01-04T08:56:10.187680",
     "status": "completed"
    },
    "tags": []
   },
   "outputs": [
    {
     "data": {
      "text/html": [
       "<div>\n",
       "<style scoped>\n",
       "    .dataframe tbody tr th:only-of-type {\n",
       "        vertical-align: middle;\n",
       "    }\n",
       "\n",
       "    .dataframe tbody tr th {\n",
       "        vertical-align: top;\n",
       "    }\n",
       "\n",
       "    .dataframe thead th {\n",
       "        text-align: right;\n",
       "    }\n",
       "</style>\n",
       "<table border=\"1\" class=\"dataframe\">\n",
       "  <thead>\n",
       "    <tr style=\"text-align: right;\">\n",
       "      <th></th>\n",
       "      <th>nflId</th>\n",
       "      <th>height</th>\n",
       "      <th>weight</th>\n",
       "      <th>birthDate</th>\n",
       "      <th>collegeName</th>\n",
       "      <th>position</th>\n",
       "      <th>displayName</th>\n",
       "    </tr>\n",
       "  </thead>\n",
       "  <tbody>\n",
       "    <tr>\n",
       "      <th>0</th>\n",
       "      <td>25511</td>\n",
       "      <td>6-4</td>\n",
       "      <td>225</td>\n",
       "      <td>1977-08-03</td>\n",
       "      <td>Michigan</td>\n",
       "      <td>QB</td>\n",
       "      <td>Tom Brady</td>\n",
       "    </tr>\n",
       "    <tr>\n",
       "      <th>1</th>\n",
       "      <td>29550</td>\n",
       "      <td>6-4</td>\n",
       "      <td>328</td>\n",
       "      <td>1982-01-22</td>\n",
       "      <td>Arkansas</td>\n",
       "      <td>T</td>\n",
       "      <td>Jason Peters</td>\n",
       "    </tr>\n",
       "    <tr>\n",
       "      <th>2</th>\n",
       "      <td>29851</td>\n",
       "      <td>6-2</td>\n",
       "      <td>225</td>\n",
       "      <td>1983-12-02</td>\n",
       "      <td>California</td>\n",
       "      <td>QB</td>\n",
       "      <td>Aaron Rodgers</td>\n",
       "    </tr>\n",
       "    <tr>\n",
       "      <th>3</th>\n",
       "      <td>30842</td>\n",
       "      <td>6-6</td>\n",
       "      <td>267</td>\n",
       "      <td>1984-05-19</td>\n",
       "      <td>UCLA</td>\n",
       "      <td>TE</td>\n",
       "      <td>Marcedes Lewis</td>\n",
       "    </tr>\n",
       "    <tr>\n",
       "      <th>4</th>\n",
       "      <td>33084</td>\n",
       "      <td>6-4</td>\n",
       "      <td>217</td>\n",
       "      <td>1985-05-17</td>\n",
       "      <td>Boston College</td>\n",
       "      <td>QB</td>\n",
       "      <td>Matt Ryan</td>\n",
       "    </tr>\n",
       "  </tbody>\n",
       "</table>\n",
       "</div>"
      ],
      "text/plain": [
       "   nflId height  weight   birthDate     collegeName position     displayName\n",
       "0  25511    6-4     225  1977-08-03        Michigan       QB       Tom Brady\n",
       "1  29550    6-4     328  1982-01-22        Arkansas        T    Jason Peters\n",
       "2  29851    6-2     225  1983-12-02      California       QB   Aaron Rodgers\n",
       "3  30842    6-6     267  1984-05-19            UCLA       TE  Marcedes Lewis\n",
       "4  33084    6-4     217  1985-05-17  Boston College       QB       Matt Ryan"
      ]
     },
     "execution_count": 4,
     "metadata": {},
     "output_type": "execute_result"
    }
   ],
   "source": [
    "players = pd.read_csv('/kaggle/input/nfl-big-data-bowl-2024/players.csv')\n",
    "players.head()"
   ]
  },
  {
   "cell_type": "code",
   "execution_count": 5,
   "id": "41201bcc",
   "metadata": {
    "execution": {
     "iopub.execute_input": "2024-01-04T08:56:10.259535Z",
     "iopub.status.busy": "2024-01-04T08:56:10.259078Z",
     "iopub.status.idle": "2024-01-04T08:56:10.271208Z",
     "shell.execute_reply": "2024-01-04T08:56:10.270014Z"
    },
    "papermill": {
     "duration": 0.031026,
     "end_time": "2024-01-04T08:56:10.273625",
     "exception": false,
     "start_time": "2024-01-04T08:56:10.242599",
     "status": "completed"
    },
    "tags": []
   },
   "outputs": [
    {
     "name": "stdout",
     "output_type": "stream",
     "text": [
      "<class 'pandas.core.frame.DataFrame'>\n",
      "RangeIndex: 1683 entries, 0 to 1682\n",
      "Data columns (total 7 columns):\n",
      " #   Column       Non-Null Count  Dtype \n",
      "---  ------       --------------  ----- \n",
      " 0   nflId        1683 non-null   int64 \n",
      " 1   height       1683 non-null   object\n",
      " 2   weight       1683 non-null   int64 \n",
      " 3   birthDate    1204 non-null   object\n",
      " 4   collegeName  1683 non-null   object\n",
      " 5   position     1683 non-null   object\n",
      " 6   displayName  1683 non-null   object\n",
      "dtypes: int64(2), object(5)\n",
      "memory usage: 92.2+ KB\n"
     ]
    }
   ],
   "source": [
    "players.info()"
   ]
  },
  {
   "cell_type": "code",
   "execution_count": 6,
   "id": "53058cdc",
   "metadata": {
    "execution": {
     "iopub.execute_input": "2024-01-04T08:56:10.304560Z",
     "iopub.status.busy": "2024-01-04T08:56:10.304151Z",
     "iopub.status.idle": "2024-01-04T08:56:10.463104Z",
     "shell.execute_reply": "2024-01-04T08:56:10.462291Z"
    },
    "papermill": {
     "duration": 0.176901,
     "end_time": "2024-01-04T08:56:10.465427",
     "exception": false,
     "start_time": "2024-01-04T08:56:10.288526",
     "status": "completed"
    },
    "tags": []
   },
   "outputs": [
    {
     "data": {
      "text/html": [
       "<div>\n",
       "<style scoped>\n",
       "    .dataframe tbody tr th:only-of-type {\n",
       "        vertical-align: middle;\n",
       "    }\n",
       "\n",
       "    .dataframe tbody tr th {\n",
       "        vertical-align: top;\n",
       "    }\n",
       "\n",
       "    .dataframe thead th {\n",
       "        text-align: right;\n",
       "    }\n",
       "</style>\n",
       "<table border=\"1\" class=\"dataframe\">\n",
       "  <thead>\n",
       "    <tr style=\"text-align: right;\">\n",
       "      <th></th>\n",
       "      <th>gameId</th>\n",
       "      <th>playId</th>\n",
       "      <th>ballCarrierId</th>\n",
       "      <th>ballCarrierDisplayName</th>\n",
       "      <th>playDescription</th>\n",
       "      <th>quarter</th>\n",
       "      <th>down</th>\n",
       "      <th>yardsToGo</th>\n",
       "      <th>possessionTeam</th>\n",
       "      <th>defensiveTeam</th>\n",
       "      <th>...</th>\n",
       "      <th>preSnapHomeTeamWinProbability</th>\n",
       "      <th>preSnapVisitorTeamWinProbability</th>\n",
       "      <th>homeTeamWinProbabilityAdded</th>\n",
       "      <th>visitorTeamWinProbilityAdded</th>\n",
       "      <th>expectedPoints</th>\n",
       "      <th>expectedPointsAdded</th>\n",
       "      <th>foulName1</th>\n",
       "      <th>foulName2</th>\n",
       "      <th>foulNFLId1</th>\n",
       "      <th>foulNFLId2</th>\n",
       "    </tr>\n",
       "  </thead>\n",
       "  <tbody>\n",
       "    <tr>\n",
       "      <th>0</th>\n",
       "      <td>2022100908</td>\n",
       "      <td>3537</td>\n",
       "      <td>48723</td>\n",
       "      <td>Parker Hesse</td>\n",
       "      <td>(7:52) (Shotgun) M.Mariota pass short middle t...</td>\n",
       "      <td>4</td>\n",
       "      <td>1</td>\n",
       "      <td>10</td>\n",
       "      <td>ATL</td>\n",
       "      <td>TB</td>\n",
       "      <td>...</td>\n",
       "      <td>0.976785</td>\n",
       "      <td>0.023215</td>\n",
       "      <td>-0.006110</td>\n",
       "      <td>0.006110</td>\n",
       "      <td>2.360609</td>\n",
       "      <td>0.981955</td>\n",
       "      <td>NaN</td>\n",
       "      <td>NaN</td>\n",
       "      <td>NaN</td>\n",
       "      <td>NaN</td>\n",
       "    </tr>\n",
       "    <tr>\n",
       "      <th>1</th>\n",
       "      <td>2022091103</td>\n",
       "      <td>3126</td>\n",
       "      <td>52457</td>\n",
       "      <td>Chase Claypool</td>\n",
       "      <td>(7:38) (Shotgun) C.Claypool right end to PIT 3...</td>\n",
       "      <td>4</td>\n",
       "      <td>1</td>\n",
       "      <td>10</td>\n",
       "      <td>PIT</td>\n",
       "      <td>CIN</td>\n",
       "      <td>...</td>\n",
       "      <td>0.160485</td>\n",
       "      <td>0.839515</td>\n",
       "      <td>-0.010865</td>\n",
       "      <td>0.010865</td>\n",
       "      <td>1.733344</td>\n",
       "      <td>-0.263424</td>\n",
       "      <td>NaN</td>\n",
       "      <td>NaN</td>\n",
       "      <td>NaN</td>\n",
       "      <td>NaN</td>\n",
       "    </tr>\n",
       "    <tr>\n",
       "      <th>2</th>\n",
       "      <td>2022091111</td>\n",
       "      <td>1148</td>\n",
       "      <td>42547</td>\n",
       "      <td>Darren Waller</td>\n",
       "      <td>(8:57) D.Carr pass short middle to D.Waller to...</td>\n",
       "      <td>2</td>\n",
       "      <td>2</td>\n",
       "      <td>5</td>\n",
       "      <td>LV</td>\n",
       "      <td>LAC</td>\n",
       "      <td>...</td>\n",
       "      <td>0.756661</td>\n",
       "      <td>0.243339</td>\n",
       "      <td>-0.037409</td>\n",
       "      <td>0.037409</td>\n",
       "      <td>1.312855</td>\n",
       "      <td>1.133666</td>\n",
       "      <td>NaN</td>\n",
       "      <td>NaN</td>\n",
       "      <td>NaN</td>\n",
       "      <td>NaN</td>\n",
       "    </tr>\n",
       "    <tr>\n",
       "      <th>3</th>\n",
       "      <td>2022100212</td>\n",
       "      <td>2007</td>\n",
       "      <td>46461</td>\n",
       "      <td>Mike Boone</td>\n",
       "      <td>(13:12) M.Boone left tackle to DEN 44 for 7 ya...</td>\n",
       "      <td>3</td>\n",
       "      <td>2</td>\n",
       "      <td>10</td>\n",
       "      <td>DEN</td>\n",
       "      <td>LV</td>\n",
       "      <td>...</td>\n",
       "      <td>0.620552</td>\n",
       "      <td>0.379448</td>\n",
       "      <td>-0.002451</td>\n",
       "      <td>0.002451</td>\n",
       "      <td>1.641006</td>\n",
       "      <td>-0.043580</td>\n",
       "      <td>NaN</td>\n",
       "      <td>NaN</td>\n",
       "      <td>NaN</td>\n",
       "      <td>NaN</td>\n",
       "    </tr>\n",
       "    <tr>\n",
       "      <th>4</th>\n",
       "      <td>2022091900</td>\n",
       "      <td>1372</td>\n",
       "      <td>47857</td>\n",
       "      <td>Devin Singletary</td>\n",
       "      <td>(8:33) D.Singletary right guard to TEN 32 for ...</td>\n",
       "      <td>2</td>\n",
       "      <td>1</td>\n",
       "      <td>10</td>\n",
       "      <td>BUF</td>\n",
       "      <td>TEN</td>\n",
       "      <td>...</td>\n",
       "      <td>0.836290</td>\n",
       "      <td>0.163710</td>\n",
       "      <td>0.001053</td>\n",
       "      <td>-0.001053</td>\n",
       "      <td>3.686428</td>\n",
       "      <td>-0.167903</td>\n",
       "      <td>NaN</td>\n",
       "      <td>NaN</td>\n",
       "      <td>NaN</td>\n",
       "      <td>NaN</td>\n",
       "    </tr>\n",
       "  </tbody>\n",
       "</table>\n",
       "<p>5 rows × 35 columns</p>\n",
       "</div>"
      ],
      "text/plain": [
       "       gameId  playId  ballCarrierId ballCarrierDisplayName  \\\n",
       "0  2022100908    3537          48723           Parker Hesse   \n",
       "1  2022091103    3126          52457         Chase Claypool   \n",
       "2  2022091111    1148          42547          Darren Waller   \n",
       "3  2022100212    2007          46461             Mike Boone   \n",
       "4  2022091900    1372          47857       Devin Singletary   \n",
       "\n",
       "                                     playDescription  quarter  down  \\\n",
       "0  (7:52) (Shotgun) M.Mariota pass short middle t...        4     1   \n",
       "1  (7:38) (Shotgun) C.Claypool right end to PIT 3...        4     1   \n",
       "2  (8:57) D.Carr pass short middle to D.Waller to...        2     2   \n",
       "3  (13:12) M.Boone left tackle to DEN 44 for 7 ya...        3     2   \n",
       "4  (8:33) D.Singletary right guard to TEN 32 for ...        2     1   \n",
       "\n",
       "   yardsToGo possessionTeam defensiveTeam  ... preSnapHomeTeamWinProbability  \\\n",
       "0         10            ATL            TB  ...                      0.976785   \n",
       "1         10            PIT           CIN  ...                      0.160485   \n",
       "2          5             LV           LAC  ...                      0.756661   \n",
       "3         10            DEN            LV  ...                      0.620552   \n",
       "4         10            BUF           TEN  ...                      0.836290   \n",
       "\n",
       "   preSnapVisitorTeamWinProbability homeTeamWinProbabilityAdded  \\\n",
       "0                          0.023215                   -0.006110   \n",
       "1                          0.839515                   -0.010865   \n",
       "2                          0.243339                   -0.037409   \n",
       "3                          0.379448                   -0.002451   \n",
       "4                          0.163710                    0.001053   \n",
       "\n",
       "   visitorTeamWinProbilityAdded  expectedPoints expectedPointsAdded  \\\n",
       "0                      0.006110        2.360609            0.981955   \n",
       "1                      0.010865        1.733344           -0.263424   \n",
       "2                      0.037409        1.312855            1.133666   \n",
       "3                      0.002451        1.641006           -0.043580   \n",
       "4                     -0.001053        3.686428           -0.167903   \n",
       "\n",
       "   foulName1  foulName2  foulNFLId1  foulNFLId2  \n",
       "0        NaN        NaN         NaN         NaN  \n",
       "1        NaN        NaN         NaN         NaN  \n",
       "2        NaN        NaN         NaN         NaN  \n",
       "3        NaN        NaN         NaN         NaN  \n",
       "4        NaN        NaN         NaN         NaN  \n",
       "\n",
       "[5 rows x 35 columns]"
      ]
     },
     "execution_count": 6,
     "metadata": {},
     "output_type": "execute_result"
    }
   ],
   "source": [
    "plays = pd.read_csv('/kaggle/input/nfl-big-data-bowl-2024/plays.csv')\n",
    "plays.head()"
   ]
  },
  {
   "cell_type": "code",
   "execution_count": 7,
   "id": "f68cecde",
   "metadata": {
    "execution": {
     "iopub.execute_input": "2024-01-04T08:56:10.499045Z",
     "iopub.status.busy": "2024-01-04T08:56:10.497835Z",
     "iopub.status.idle": "2024-01-04T08:56:10.519077Z",
     "shell.execute_reply": "2024-01-04T08:56:10.517978Z"
    },
    "papermill": {
     "duration": 0.040337,
     "end_time": "2024-01-04T08:56:10.521453",
     "exception": false,
     "start_time": "2024-01-04T08:56:10.481116",
     "status": "completed"
    },
    "tags": []
   },
   "outputs": [
    {
     "name": "stdout",
     "output_type": "stream",
     "text": [
      "<class 'pandas.core.frame.DataFrame'>\n",
      "RangeIndex: 12486 entries, 0 to 12485\n",
      "Data columns (total 35 columns):\n",
      " #   Column                            Non-Null Count  Dtype  \n",
      "---  ------                            --------------  -----  \n",
      " 0   gameId                            12486 non-null  int64  \n",
      " 1   playId                            12486 non-null  int64  \n",
      " 2   ballCarrierId                     12486 non-null  int64  \n",
      " 3   ballCarrierDisplayName            12486 non-null  object \n",
      " 4   playDescription                   12486 non-null  object \n",
      " 5   quarter                           12486 non-null  int64  \n",
      " 6   down                              12486 non-null  int64  \n",
      " 7   yardsToGo                         12486 non-null  int64  \n",
      " 8   possessionTeam                    12486 non-null  object \n",
      " 9   defensiveTeam                     12486 non-null  object \n",
      " 10  yardlineSide                      12319 non-null  object \n",
      " 11  yardlineNumber                    12486 non-null  int64  \n",
      " 12  gameClock                         12486 non-null  object \n",
      " 13  preSnapHomeScore                  12486 non-null  int64  \n",
      " 14  preSnapVisitorScore               12486 non-null  int64  \n",
      " 15  passResult                        6105 non-null   object \n",
      " 16  passLength                        5634 non-null   float64\n",
      " 17  penaltyYards                      615 non-null    float64\n",
      " 18  prePenaltyPlayResult              12486 non-null  int64  \n",
      " 19  playResult                        12486 non-null  int64  \n",
      " 20  playNullifiedByPenalty            12486 non-null  object \n",
      " 21  absoluteYardlineNumber            12486 non-null  int64  \n",
      " 22  offenseFormation                  12482 non-null  object \n",
      " 23  defendersInTheBox                 12481 non-null  float64\n",
      " 24  passProbability                   12149 non-null  float64\n",
      " 25  preSnapHomeTeamWinProbability     12486 non-null  float64\n",
      " 26  preSnapVisitorTeamWinProbability  12486 non-null  float64\n",
      " 27  homeTeamWinProbabilityAdded       12486 non-null  float64\n",
      " 28  visitorTeamWinProbilityAdded      12486 non-null  float64\n",
      " 29  expectedPoints                    12486 non-null  float64\n",
      " 30  expectedPointsAdded               12485 non-null  float64\n",
      " 31  foulName1                         592 non-null    object \n",
      " 32  foulName2                         25 non-null     object \n",
      " 33  foulNFLId1                        592 non-null    float64\n",
      " 34  foulNFLId2                        25 non-null     float64\n",
      "dtypes: float64(12), int64(12), object(11)\n",
      "memory usage: 3.3+ MB\n"
     ]
    }
   ],
   "source": [
    "plays.info()"
   ]
  },
  {
   "cell_type": "code",
   "execution_count": 8,
   "id": "4a3c10dc",
   "metadata": {
    "execution": {
     "iopub.execute_input": "2024-01-04T08:56:10.553760Z",
     "iopub.status.busy": "2024-01-04T08:56:10.552915Z",
     "iopub.status.idle": "2024-01-04T08:56:10.585530Z",
     "shell.execute_reply": "2024-01-04T08:56:10.584422Z"
    },
    "papermill": {
     "duration": 0.051246,
     "end_time": "2024-01-04T08:56:10.587865",
     "exception": false,
     "start_time": "2024-01-04T08:56:10.536619",
     "status": "completed"
    },
    "tags": []
   },
   "outputs": [
    {
     "data": {
      "text/html": [
       "<div>\n",
       "<style scoped>\n",
       "    .dataframe tbody tr th:only-of-type {\n",
       "        vertical-align: middle;\n",
       "    }\n",
       "\n",
       "    .dataframe tbody tr th {\n",
       "        vertical-align: top;\n",
       "    }\n",
       "\n",
       "    .dataframe thead th {\n",
       "        text-align: right;\n",
       "    }\n",
       "</style>\n",
       "<table border=\"1\" class=\"dataframe\">\n",
       "  <thead>\n",
       "    <tr style=\"text-align: right;\">\n",
       "      <th></th>\n",
       "      <th>gameId</th>\n",
       "      <th>playId</th>\n",
       "      <th>nflId</th>\n",
       "      <th>tackle</th>\n",
       "      <th>assist</th>\n",
       "      <th>forcedFumble</th>\n",
       "      <th>pff_missedTackle</th>\n",
       "    </tr>\n",
       "  </thead>\n",
       "  <tbody>\n",
       "    <tr>\n",
       "      <th>0</th>\n",
       "      <td>2022090800</td>\n",
       "      <td>101</td>\n",
       "      <td>42816</td>\n",
       "      <td>1</td>\n",
       "      <td>0</td>\n",
       "      <td>0</td>\n",
       "      <td>0</td>\n",
       "    </tr>\n",
       "    <tr>\n",
       "      <th>1</th>\n",
       "      <td>2022090800</td>\n",
       "      <td>393</td>\n",
       "      <td>46232</td>\n",
       "      <td>1</td>\n",
       "      <td>0</td>\n",
       "      <td>0</td>\n",
       "      <td>0</td>\n",
       "    </tr>\n",
       "    <tr>\n",
       "      <th>2</th>\n",
       "      <td>2022090800</td>\n",
       "      <td>486</td>\n",
       "      <td>40166</td>\n",
       "      <td>1</td>\n",
       "      <td>0</td>\n",
       "      <td>0</td>\n",
       "      <td>0</td>\n",
       "    </tr>\n",
       "    <tr>\n",
       "      <th>3</th>\n",
       "      <td>2022090800</td>\n",
       "      <td>646</td>\n",
       "      <td>47939</td>\n",
       "      <td>1</td>\n",
       "      <td>0</td>\n",
       "      <td>0</td>\n",
       "      <td>0</td>\n",
       "    </tr>\n",
       "    <tr>\n",
       "      <th>4</th>\n",
       "      <td>2022090800</td>\n",
       "      <td>818</td>\n",
       "      <td>40107</td>\n",
       "      <td>1</td>\n",
       "      <td>0</td>\n",
       "      <td>0</td>\n",
       "      <td>0</td>\n",
       "    </tr>\n",
       "  </tbody>\n",
       "</table>\n",
       "</div>"
      ],
      "text/plain": [
       "       gameId  playId  nflId  tackle  assist  forcedFumble  pff_missedTackle\n",
       "0  2022090800     101  42816       1       0             0                 0\n",
       "1  2022090800     393  46232       1       0             0                 0\n",
       "2  2022090800     486  40166       1       0             0                 0\n",
       "3  2022090800     646  47939       1       0             0                 0\n",
       "4  2022090800     818  40107       1       0             0                 0"
      ]
     },
     "execution_count": 8,
     "metadata": {},
     "output_type": "execute_result"
    }
   ],
   "source": [
    "tackles = pd.read_csv('/kaggle/input/nfl-big-data-bowl-2024/tackles.csv')\n",
    "tackles.head()"
   ]
  },
  {
   "cell_type": "code",
   "execution_count": 9,
   "id": "cb9ff514",
   "metadata": {
    "execution": {
     "iopub.execute_input": "2024-01-04T08:56:10.682563Z",
     "iopub.status.busy": "2024-01-04T08:56:10.682144Z",
     "iopub.status.idle": "2024-01-04T08:56:10.694113Z",
     "shell.execute_reply": "2024-01-04T08:56:10.692807Z"
    },
    "papermill": {
     "duration": 0.092659,
     "end_time": "2024-01-04T08:56:10.696227",
     "exception": false,
     "start_time": "2024-01-04T08:56:10.603568",
     "status": "completed"
    },
    "tags": []
   },
   "outputs": [
    {
     "name": "stdout",
     "output_type": "stream",
     "text": [
      "<class 'pandas.core.frame.DataFrame'>\n",
      "RangeIndex: 17426 entries, 0 to 17425\n",
      "Data columns (total 7 columns):\n",
      " #   Column            Non-Null Count  Dtype\n",
      "---  ------            --------------  -----\n",
      " 0   gameId            17426 non-null  int64\n",
      " 1   playId            17426 non-null  int64\n",
      " 2   nflId             17426 non-null  int64\n",
      " 3   tackle            17426 non-null  int64\n",
      " 4   assist            17426 non-null  int64\n",
      " 5   forcedFumble      17426 non-null  int64\n",
      " 6   pff_missedTackle  17426 non-null  int64\n",
      "dtypes: int64(7)\n",
      "memory usage: 953.1 KB\n"
     ]
    }
   ],
   "source": [
    "tackles.info()"
   ]
  },
  {
   "cell_type": "code",
   "execution_count": 10,
   "id": "2089e99a",
   "metadata": {
    "execution": {
     "iopub.execute_input": "2024-01-04T08:56:10.730330Z",
     "iopub.status.busy": "2024-01-04T08:56:10.729418Z",
     "iopub.status.idle": "2024-01-04T08:56:15.688454Z",
     "shell.execute_reply": "2024-01-04T08:56:15.687141Z"
    },
    "papermill": {
     "duration": 4.979265,
     "end_time": "2024-01-04T08:56:15.691066",
     "exception": false,
     "start_time": "2024-01-04T08:56:10.711801",
     "status": "completed"
    },
    "tags": []
   },
   "outputs": [
    {
     "data": {
      "text/html": [
       "<div>\n",
       "<style scoped>\n",
       "    .dataframe tbody tr th:only-of-type {\n",
       "        vertical-align: middle;\n",
       "    }\n",
       "\n",
       "    .dataframe tbody tr th {\n",
       "        vertical-align: top;\n",
       "    }\n",
       "\n",
       "    .dataframe thead th {\n",
       "        text-align: right;\n",
       "    }\n",
       "</style>\n",
       "<table border=\"1\" class=\"dataframe\">\n",
       "  <thead>\n",
       "    <tr style=\"text-align: right;\">\n",
       "      <th></th>\n",
       "      <th>gameId</th>\n",
       "      <th>playId</th>\n",
       "      <th>nflId</th>\n",
       "      <th>displayName</th>\n",
       "      <th>frameId</th>\n",
       "      <th>time</th>\n",
       "      <th>jerseyNumber</th>\n",
       "      <th>club</th>\n",
       "      <th>playDirection</th>\n",
       "      <th>x</th>\n",
       "      <th>y</th>\n",
       "      <th>s</th>\n",
       "      <th>a</th>\n",
       "      <th>dis</th>\n",
       "      <th>o</th>\n",
       "      <th>dir</th>\n",
       "      <th>event</th>\n",
       "    </tr>\n",
       "  </thead>\n",
       "  <tbody>\n",
       "    <tr>\n",
       "      <th>0</th>\n",
       "      <td>2022090800</td>\n",
       "      <td>56</td>\n",
       "      <td>35472.0</td>\n",
       "      <td>Rodger Saffold</td>\n",
       "      <td>1</td>\n",
       "      <td>2022-09-08 20:24:05.200000</td>\n",
       "      <td>76.0</td>\n",
       "      <td>BUF</td>\n",
       "      <td>left</td>\n",
       "      <td>88.37</td>\n",
       "      <td>27.27</td>\n",
       "      <td>1.62</td>\n",
       "      <td>1.15</td>\n",
       "      <td>0.16</td>\n",
       "      <td>231.74</td>\n",
       "      <td>147.90</td>\n",
       "      <td>NaN</td>\n",
       "    </tr>\n",
       "    <tr>\n",
       "      <th>1</th>\n",
       "      <td>2022090800</td>\n",
       "      <td>56</td>\n",
       "      <td>35472.0</td>\n",
       "      <td>Rodger Saffold</td>\n",
       "      <td>2</td>\n",
       "      <td>2022-09-08 20:24:05.299999</td>\n",
       "      <td>76.0</td>\n",
       "      <td>BUF</td>\n",
       "      <td>left</td>\n",
       "      <td>88.47</td>\n",
       "      <td>27.13</td>\n",
       "      <td>1.67</td>\n",
       "      <td>0.61</td>\n",
       "      <td>0.17</td>\n",
       "      <td>230.98</td>\n",
       "      <td>148.53</td>\n",
       "      <td>pass_arrived</td>\n",
       "    </tr>\n",
       "    <tr>\n",
       "      <th>2</th>\n",
       "      <td>2022090800</td>\n",
       "      <td>56</td>\n",
       "      <td>35472.0</td>\n",
       "      <td>Rodger Saffold</td>\n",
       "      <td>3</td>\n",
       "      <td>2022-09-08 20:24:05.400000</td>\n",
       "      <td>76.0</td>\n",
       "      <td>BUF</td>\n",
       "      <td>left</td>\n",
       "      <td>88.56</td>\n",
       "      <td>27.01</td>\n",
       "      <td>1.57</td>\n",
       "      <td>0.49</td>\n",
       "      <td>0.15</td>\n",
       "      <td>230.98</td>\n",
       "      <td>147.05</td>\n",
       "      <td>NaN</td>\n",
       "    </tr>\n",
       "    <tr>\n",
       "      <th>3</th>\n",
       "      <td>2022090800</td>\n",
       "      <td>56</td>\n",
       "      <td>35472.0</td>\n",
       "      <td>Rodger Saffold</td>\n",
       "      <td>4</td>\n",
       "      <td>2022-09-08 20:24:05.500000</td>\n",
       "      <td>76.0</td>\n",
       "      <td>BUF</td>\n",
       "      <td>left</td>\n",
       "      <td>88.64</td>\n",
       "      <td>26.90</td>\n",
       "      <td>1.44</td>\n",
       "      <td>0.89</td>\n",
       "      <td>0.14</td>\n",
       "      <td>232.38</td>\n",
       "      <td>145.42</td>\n",
       "      <td>NaN</td>\n",
       "    </tr>\n",
       "    <tr>\n",
       "      <th>4</th>\n",
       "      <td>2022090800</td>\n",
       "      <td>56</td>\n",
       "      <td>35472.0</td>\n",
       "      <td>Rodger Saffold</td>\n",
       "      <td>5</td>\n",
       "      <td>2022-09-08 20:24:05.599999</td>\n",
       "      <td>76.0</td>\n",
       "      <td>BUF</td>\n",
       "      <td>left</td>\n",
       "      <td>88.72</td>\n",
       "      <td>26.80</td>\n",
       "      <td>1.29</td>\n",
       "      <td>1.24</td>\n",
       "      <td>0.13</td>\n",
       "      <td>233.36</td>\n",
       "      <td>141.95</td>\n",
       "      <td>NaN</td>\n",
       "    </tr>\n",
       "  </tbody>\n",
       "</table>\n",
       "</div>"
      ],
      "text/plain": [
       "       gameId  playId    nflId     displayName  frameId  \\\n",
       "0  2022090800      56  35472.0  Rodger Saffold        1   \n",
       "1  2022090800      56  35472.0  Rodger Saffold        2   \n",
       "2  2022090800      56  35472.0  Rodger Saffold        3   \n",
       "3  2022090800      56  35472.0  Rodger Saffold        4   \n",
       "4  2022090800      56  35472.0  Rodger Saffold        5   \n",
       "\n",
       "                         time  jerseyNumber club playDirection      x      y  \\\n",
       "0  2022-09-08 20:24:05.200000          76.0  BUF          left  88.37  27.27   \n",
       "1  2022-09-08 20:24:05.299999          76.0  BUF          left  88.47  27.13   \n",
       "2  2022-09-08 20:24:05.400000          76.0  BUF          left  88.56  27.01   \n",
       "3  2022-09-08 20:24:05.500000          76.0  BUF          left  88.64  26.90   \n",
       "4  2022-09-08 20:24:05.599999          76.0  BUF          left  88.72  26.80   \n",
       "\n",
       "      s     a   dis       o     dir         event  \n",
       "0  1.62  1.15  0.16  231.74  147.90           NaN  \n",
       "1  1.67  0.61  0.17  230.98  148.53  pass_arrived  \n",
       "2  1.57  0.49  0.15  230.98  147.05           NaN  \n",
       "3  1.44  0.89  0.14  232.38  145.42           NaN  \n",
       "4  1.29  1.24  0.13  233.36  141.95           NaN  "
      ]
     },
     "execution_count": 10,
     "metadata": {},
     "output_type": "execute_result"
    }
   ],
   "source": [
    "track1 = pd.read_csv('/kaggle/input/nfl-big-data-bowl-2024/tracking_week_1.csv')\n",
    "track1.head()"
   ]
  },
  {
   "cell_type": "code",
   "execution_count": 11,
   "id": "56eaf34f",
   "metadata": {
    "execution": {
     "iopub.execute_input": "2024-01-04T08:56:15.725284Z",
     "iopub.status.busy": "2024-01-04T08:56:15.724893Z",
     "iopub.status.idle": "2024-01-04T08:56:16.095248Z",
     "shell.execute_reply": "2024-01-04T08:56:16.094003Z"
    },
    "papermill": {
     "duration": 0.391874,
     "end_time": "2024-01-04T08:56:16.099046",
     "exception": false,
     "start_time": "2024-01-04T08:56:15.707172",
     "status": "completed"
    },
    "tags": []
   },
   "outputs": [
    {
     "name": "stdout",
     "output_type": "stream",
     "text": [
      "<class 'pandas.core.frame.DataFrame'>\n",
      "RangeIndex: 1407439 entries, 0 to 1407438\n",
      "Data columns (total 17 columns):\n",
      " #   Column         Non-Null Count    Dtype  \n",
      "---  ------         --------------    -----  \n",
      " 0   gameId         1407439 non-null  int64  \n",
      " 1   playId         1407439 non-null  int64  \n",
      " 2   nflId          1346246 non-null  float64\n",
      " 3   displayName    1407439 non-null  object \n",
      " 4   frameId        1407439 non-null  int64  \n",
      " 5   time           1407439 non-null  object \n",
      " 6   jerseyNumber   1346246 non-null  float64\n",
      " 7   club           1407439 non-null  object \n",
      " 8   playDirection  1407439 non-null  object \n",
      " 9   x              1407439 non-null  float64\n",
      " 10  y              1407439 non-null  float64\n",
      " 11  s              1407439 non-null  float64\n",
      " 12  a              1407439 non-null  float64\n",
      " 13  dis            1407439 non-null  float64\n",
      " 14  o              1346397 non-null  float64\n",
      " 15  dir            1346397 non-null  float64\n",
      " 16  event          130268 non-null   object \n",
      "dtypes: float64(9), int64(3), object(5)\n",
      "memory usage: 182.5+ MB\n"
     ]
    }
   ],
   "source": [
    "track1.info()"
   ]
  },
  {
   "cell_type": "markdown",
   "id": "a73c8cce",
   "metadata": {
    "papermill": {
     "duration": 0.020018,
     "end_time": "2024-01-04T08:56:16.142925",
     "exception": false,
     "start_time": "2024-01-04T08:56:16.122907",
     "status": "completed"
    },
    "tags": []
   },
   "source": [
    "## Data Processing"
   ]
  },
  {
   "cell_type": "markdown",
   "id": "b611c4bf",
   "metadata": {
    "papermill": {
     "duration": 0.018475,
     "end_time": "2024-01-04T08:56:16.181210",
     "exception": false,
     "start_time": "2024-01-04T08:56:16.162735",
     "status": "completed"
    },
    "tags": []
   },
   "source": [
    "#### To understand the factors that influence the success tackle rate,let's merge all data into one final dataframe\n",
    "\n",
    "#### The merging will be performed on the common columns as coded below."
   ]
  },
  {
   "cell_type": "code",
   "execution_count": 12,
   "id": "025ba447",
   "metadata": {
    "execution": {
     "iopub.execute_input": "2024-01-04T08:56:16.214849Z",
     "iopub.status.busy": "2024-01-04T08:56:16.214222Z",
     "iopub.status.idle": "2024-01-04T08:56:16.282396Z",
     "shell.execute_reply": "2024-01-04T08:56:16.281100Z"
    },
    "papermill": {
     "duration": 0.087613,
     "end_time": "2024-01-04T08:56:16.284708",
     "exception": false,
     "start_time": "2024-01-04T08:56:16.197095",
     "status": "completed"
    },
    "tags": []
   },
   "outputs": [
    {
     "data": {
      "text/html": [
       "<div>\n",
       "<style scoped>\n",
       "    .dataframe tbody tr th:only-of-type {\n",
       "        vertical-align: middle;\n",
       "    }\n",
       "\n",
       "    .dataframe tbody tr th {\n",
       "        vertical-align: top;\n",
       "    }\n",
       "\n",
       "    .dataframe thead th {\n",
       "        text-align: right;\n",
       "    }\n",
       "</style>\n",
       "<table border=\"1\" class=\"dataframe\">\n",
       "  <thead>\n",
       "    <tr style=\"text-align: right;\">\n",
       "      <th></th>\n",
       "      <th>gameId</th>\n",
       "      <th>playId</th>\n",
       "      <th>nflId</th>\n",
       "      <th>tackle</th>\n",
       "      <th>assist</th>\n",
       "      <th>forcedFumble</th>\n",
       "      <th>pff_missedTackle</th>\n",
       "      <th>height</th>\n",
       "      <th>weight</th>\n",
       "      <th>birthDate</th>\n",
       "      <th>...</th>\n",
       "      <th>foulNFLId1</th>\n",
       "      <th>foulNFLId2</th>\n",
       "      <th>season</th>\n",
       "      <th>week</th>\n",
       "      <th>gameDate</th>\n",
       "      <th>gameTimeEastern</th>\n",
       "      <th>homeTeamAbbr</th>\n",
       "      <th>visitorTeamAbbr</th>\n",
       "      <th>homeFinalScore</th>\n",
       "      <th>visitorFinalScore</th>\n",
       "    </tr>\n",
       "  </thead>\n",
       "  <tbody>\n",
       "    <tr>\n",
       "      <th>0</th>\n",
       "      <td>2022090800</td>\n",
       "      <td>101</td>\n",
       "      <td>42816</td>\n",
       "      <td>1</td>\n",
       "      <td>0</td>\n",
       "      <td>0</td>\n",
       "      <td>0</td>\n",
       "      <td>5-11</td>\n",
       "      <td>184</td>\n",
       "      <td>1991-08-29</td>\n",
       "      <td>...</td>\n",
       "      <td>NaN</td>\n",
       "      <td>NaN</td>\n",
       "      <td>2022</td>\n",
       "      <td>1</td>\n",
       "      <td>09/08/2022</td>\n",
       "      <td>20:20:00</td>\n",
       "      <td>LA</td>\n",
       "      <td>BUF</td>\n",
       "      <td>10</td>\n",
       "      <td>31</td>\n",
       "    </tr>\n",
       "    <tr>\n",
       "      <th>1</th>\n",
       "      <td>2022090800</td>\n",
       "      <td>1102</td>\n",
       "      <td>42816</td>\n",
       "      <td>1</td>\n",
       "      <td>0</td>\n",
       "      <td>0</td>\n",
       "      <td>0</td>\n",
       "      <td>5-11</td>\n",
       "      <td>184</td>\n",
       "      <td>1991-08-29</td>\n",
       "      <td>...</td>\n",
       "      <td>NaN</td>\n",
       "      <td>NaN</td>\n",
       "      <td>2022</td>\n",
       "      <td>1</td>\n",
       "      <td>09/08/2022</td>\n",
       "      <td>20:20:00</td>\n",
       "      <td>LA</td>\n",
       "      <td>BUF</td>\n",
       "      <td>10</td>\n",
       "      <td>31</td>\n",
       "    </tr>\n",
       "    <tr>\n",
       "      <th>2</th>\n",
       "      <td>2022090800</td>\n",
       "      <td>1102</td>\n",
       "      <td>52492</td>\n",
       "      <td>0</td>\n",
       "      <td>0</td>\n",
       "      <td>0</td>\n",
       "      <td>1</td>\n",
       "      <td>6-5</td>\n",
       "      <td>252</td>\n",
       "      <td>1998-08-25</td>\n",
       "      <td>...</td>\n",
       "      <td>NaN</td>\n",
       "      <td>NaN</td>\n",
       "      <td>2022</td>\n",
       "      <td>1</td>\n",
       "      <td>09/08/2022</td>\n",
       "      <td>20:20:00</td>\n",
       "      <td>LA</td>\n",
       "      <td>BUF</td>\n",
       "      <td>10</td>\n",
       "      <td>31</td>\n",
       "    </tr>\n",
       "    <tr>\n",
       "      <th>3</th>\n",
       "      <td>2022090800</td>\n",
       "      <td>2043</td>\n",
       "      <td>42816</td>\n",
       "      <td>1</td>\n",
       "      <td>0</td>\n",
       "      <td>0</td>\n",
       "      <td>0</td>\n",
       "      <td>5-11</td>\n",
       "      <td>184</td>\n",
       "      <td>1991-08-29</td>\n",
       "      <td>...</td>\n",
       "      <td>NaN</td>\n",
       "      <td>NaN</td>\n",
       "      <td>2022</td>\n",
       "      <td>1</td>\n",
       "      <td>09/08/2022</td>\n",
       "      <td>20:20:00</td>\n",
       "      <td>LA</td>\n",
       "      <td>BUF</td>\n",
       "      <td>10</td>\n",
       "      <td>31</td>\n",
       "    </tr>\n",
       "    <tr>\n",
       "      <th>4</th>\n",
       "      <td>2022090800</td>\n",
       "      <td>2527</td>\n",
       "      <td>42816</td>\n",
       "      <td>1</td>\n",
       "      <td>0</td>\n",
       "      <td>0</td>\n",
       "      <td>0</td>\n",
       "      <td>5-11</td>\n",
       "      <td>184</td>\n",
       "      <td>1991-08-29</td>\n",
       "      <td>...</td>\n",
       "      <td>NaN</td>\n",
       "      <td>NaN</td>\n",
       "      <td>2022</td>\n",
       "      <td>1</td>\n",
       "      <td>09/08/2022</td>\n",
       "      <td>20:20:00</td>\n",
       "      <td>LA</td>\n",
       "      <td>BUF</td>\n",
       "      <td>10</td>\n",
       "      <td>31</td>\n",
       "    </tr>\n",
       "  </tbody>\n",
       "</table>\n",
       "<p>5 rows × 54 columns</p>\n",
       "</div>"
      ],
      "text/plain": [
       "       gameId  playId  nflId  tackle  assist  forcedFumble  pff_missedTackle  \\\n",
       "0  2022090800     101  42816       1       0             0                 0   \n",
       "1  2022090800    1102  42816       1       0             0                 0   \n",
       "2  2022090800    1102  52492       0       0             0                 1   \n",
       "3  2022090800    2043  42816       1       0             0                 0   \n",
       "4  2022090800    2527  42816       1       0             0                 0   \n",
       "\n",
       "  height  weight   birthDate  ... foulNFLId1 foulNFLId2 season  week  \\\n",
       "0   5-11     184  1991-08-29  ...        NaN        NaN   2022     1   \n",
       "1   5-11     184  1991-08-29  ...        NaN        NaN   2022     1   \n",
       "2    6-5     252  1998-08-25  ...        NaN        NaN   2022     1   \n",
       "3   5-11     184  1991-08-29  ...        NaN        NaN   2022     1   \n",
       "4   5-11     184  1991-08-29  ...        NaN        NaN   2022     1   \n",
       "\n",
       "     gameDate gameTimeEastern  homeTeamAbbr  visitorTeamAbbr  homeFinalScore  \\\n",
       "0  09/08/2022        20:20:00            LA              BUF              10   \n",
       "1  09/08/2022        20:20:00            LA              BUF              10   \n",
       "2  09/08/2022        20:20:00            LA              BUF              10   \n",
       "3  09/08/2022        20:20:00            LA              BUF              10   \n",
       "4  09/08/2022        20:20:00            LA              BUF              10   \n",
       "\n",
       "  visitorFinalScore  \n",
       "0                31  \n",
       "1                31  \n",
       "2                31  \n",
       "3                31  \n",
       "4                31  \n",
       "\n",
       "[5 rows x 54 columns]"
      ]
     },
     "execution_count": 12,
     "metadata": {},
     "output_type": "execute_result"
    }
   ],
   "source": [
    "df_1 = pd.merge(tackles, players, on = 'nflId')\n",
    "\n",
    "df_2 = pd.merge(df_1, plays, on = ['gameId', 'playId'])\n",
    "\n",
    "df = pd.merge(df_2, games, on = 'gameId')\n",
    "\n",
    "df.head()"
   ]
  },
  {
   "cell_type": "code",
   "execution_count": 13,
   "id": "68556258",
   "metadata": {
    "execution": {
     "iopub.execute_input": "2024-01-04T08:56:16.319928Z",
     "iopub.status.busy": "2024-01-04T08:56:16.319546Z",
     "iopub.status.idle": "2024-01-04T08:56:16.328101Z",
     "shell.execute_reply": "2024-01-04T08:56:16.326791Z"
    },
    "papermill": {
     "duration": 0.028934,
     "end_time": "2024-01-04T08:56:16.330448",
     "exception": false,
     "start_time": "2024-01-04T08:56:16.301514",
     "status": "completed"
    },
    "tags": []
   },
   "outputs": [
    {
     "data": {
      "text/plain": [
       "array(['BUF', 'ATL', 'LA', 'SF', 'GB', 'TEN', 'CAR', 'DAL', 'PIT', 'NO',\n",
       "       'TB', 'CIN', 'BAL', 'LV', 'SEA', 'MIN', 'CLE', 'LAC', 'NYJ', 'NE',\n",
       "       'ARI', 'KC', 'HOU', 'CHI', 'WAS', 'MIA', 'PHI', 'DET', 'JAX',\n",
       "       'IND', 'NYG', 'DEN'], dtype=object)"
      ]
     },
     "execution_count": 13,
     "metadata": {},
     "output_type": "execute_result"
    }
   ],
   "source": [
    "df['visitorTeamAbbr'].unique()"
   ]
  },
  {
   "cell_type": "code",
   "execution_count": 14,
   "id": "2afcc4d7",
   "metadata": {
    "execution": {
     "iopub.execute_input": "2024-01-04T08:56:16.366205Z",
     "iopub.status.busy": "2024-01-04T08:56:16.365600Z",
     "iopub.status.idle": "2024-01-04T08:56:16.382873Z",
     "shell.execute_reply": "2024-01-04T08:56:16.382053Z"
    },
    "papermill": {
     "duration": 0.037392,
     "end_time": "2024-01-04T08:56:16.385023",
     "exception": false,
     "start_time": "2024-01-04T08:56:16.347631",
     "status": "completed"
    },
    "tags": []
   },
   "outputs": [
    {
     "data": {
      "text/plain": [
       "Index(['height', 'birthDate', 'collegeName', 'position', 'displayName',\n",
       "       'ballCarrierDisplayName', 'playDescription', 'possessionTeam',\n",
       "       'defensiveTeam', 'yardlineSide', 'gameClock', 'passResult',\n",
       "       'playNullifiedByPenalty', 'offenseFormation', 'foulName1', 'foulName2',\n",
       "       'gameDate', 'gameTimeEastern', 'homeTeamAbbr', 'visitorTeamAbbr'],\n",
       "      dtype='object')"
      ]
     },
     "execution_count": 14,
     "metadata": {},
     "output_type": "execute_result"
    }
   ],
   "source": [
    "df.select_dtypes(include=['object']).columns"
   ]
  },
  {
   "cell_type": "code",
   "execution_count": 15,
   "id": "9698caa5",
   "metadata": {
    "execution": {
     "iopub.execute_input": "2024-01-04T08:56:16.421188Z",
     "iopub.status.busy": "2024-01-04T08:56:16.420567Z",
     "iopub.status.idle": "2024-01-04T08:56:16.428206Z",
     "shell.execute_reply": "2024-01-04T08:56:16.426776Z"
    },
    "papermill": {
     "duration": 0.028372,
     "end_time": "2024-01-04T08:56:16.430428",
     "exception": false,
     "start_time": "2024-01-04T08:56:16.402056",
     "status": "completed"
    },
    "tags": []
   },
   "outputs": [
    {
     "data": {
      "text/plain": [
       "array(['N', 'Y'], dtype=object)"
      ]
     },
     "execution_count": 15,
     "metadata": {},
     "output_type": "execute_result"
    }
   ],
   "source": [
    "df['playNullifiedByPenalty'].unique()"
   ]
  },
  {
   "cell_type": "code",
   "execution_count": 16,
   "id": "a1a335b2",
   "metadata": {
    "execution": {
     "iopub.execute_input": "2024-01-04T08:56:16.476663Z",
     "iopub.status.busy": "2024-01-04T08:56:16.475859Z",
     "iopub.status.idle": "2024-01-04T08:56:16.484556Z",
     "shell.execute_reply": "2024-01-04T08:56:16.483664Z"
    },
    "papermill": {
     "duration": 0.03848,
     "end_time": "2024-01-04T08:56:16.487329",
     "exception": false,
     "start_time": "2024-01-04T08:56:16.448849",
     "status": "completed"
    },
    "tags": []
   },
   "outputs": [
    {
     "data": {
      "text/plain": [
       "array([nan, 'C', 'R'], dtype=object)"
      ]
     },
     "execution_count": 16,
     "metadata": {},
     "output_type": "execute_result"
    }
   ],
   "source": [
    "df['passResult'].unique()"
   ]
  },
  {
   "cell_type": "code",
   "execution_count": 17,
   "id": "c05c81c2",
   "metadata": {
    "execution": {
     "iopub.execute_input": "2024-01-04T08:56:16.530414Z",
     "iopub.status.busy": "2024-01-04T08:56:16.529999Z",
     "iopub.status.idle": "2024-01-04T08:56:16.644728Z",
     "shell.execute_reply": "2024-01-04T08:56:16.643667Z"
    },
    "papermill": {
     "duration": 0.138597,
     "end_time": "2024-01-04T08:56:16.647337",
     "exception": false,
     "start_time": "2024-01-04T08:56:16.508740",
     "status": "completed"
    },
    "tags": []
   },
   "outputs": [
    {
     "data": {
      "text/html": [
       "<div>\n",
       "<style scoped>\n",
       "    .dataframe tbody tr th:only-of-type {\n",
       "        vertical-align: middle;\n",
       "    }\n",
       "\n",
       "    .dataframe tbody tr th {\n",
       "        vertical-align: top;\n",
       "    }\n",
       "\n",
       "    .dataframe thead th {\n",
       "        text-align: right;\n",
       "    }\n",
       "</style>\n",
       "<table border=\"1\" class=\"dataframe\">\n",
       "  <thead>\n",
       "    <tr style=\"text-align: right;\">\n",
       "      <th></th>\n",
       "      <th>gameId</th>\n",
       "      <th>playId</th>\n",
       "      <th>nflId</th>\n",
       "      <th>tackle</th>\n",
       "      <th>assist</th>\n",
       "      <th>forcedFumble</th>\n",
       "      <th>pff_missedTackle</th>\n",
       "      <th>weight</th>\n",
       "      <th>ballCarrierId</th>\n",
       "      <th>quarter</th>\n",
       "      <th>...</th>\n",
       "      <th>homeTeamWinProbabilityAdded</th>\n",
       "      <th>visitorTeamWinProbilityAdded</th>\n",
       "      <th>expectedPoints</th>\n",
       "      <th>expectedPointsAdded</th>\n",
       "      <th>foulNFLId1</th>\n",
       "      <th>foulNFLId2</th>\n",
       "      <th>season</th>\n",
       "      <th>week</th>\n",
       "      <th>homeFinalScore</th>\n",
       "      <th>visitorFinalScore</th>\n",
       "    </tr>\n",
       "  </thead>\n",
       "  <tbody>\n",
       "    <tr>\n",
       "      <th>count</th>\n",
       "      <td>1.742600e+04</td>\n",
       "      <td>17426.000000</td>\n",
       "      <td>17426.000000</td>\n",
       "      <td>17426.000000</td>\n",
       "      <td>17426.000000</td>\n",
       "      <td>17426.000000</td>\n",
       "      <td>17426.000000</td>\n",
       "      <td>17426.000000</td>\n",
       "      <td>17426.000000</td>\n",
       "      <td>17426.000000</td>\n",
       "      <td>...</td>\n",
       "      <td>17426.000000</td>\n",
       "      <td>17426.000000</td>\n",
       "      <td>17426.000000</td>\n",
       "      <td>17424.000000</td>\n",
       "      <td>761.000000</td>\n",
       "      <td>31.000000</td>\n",
       "      <td>17426.0</td>\n",
       "      <td>17426.000000</td>\n",
       "      <td>17426.000000</td>\n",
       "      <td>17426.000000</td>\n",
       "    </tr>\n",
       "    <tr>\n",
       "      <th>mean</th>\n",
       "      <td>2.022099e+09</td>\n",
       "      <td>1982.974578</td>\n",
       "      <td>47602.719442</td>\n",
       "      <td>0.569207</td>\n",
       "      <td>0.315276</td>\n",
       "      <td>0.005681</td>\n",
       "      <td>0.119936</td>\n",
       "      <td>232.930391</td>\n",
       "      <td>48188.776770</td>\n",
       "      <td>2.550212</td>\n",
       "      <td>...</td>\n",
       "      <td>-0.000067</td>\n",
       "      <td>0.000067</td>\n",
       "      <td>2.215160</td>\n",
       "      <td>0.242920</td>\n",
       "      <td>47765.601840</td>\n",
       "      <td>49575.258065</td>\n",
       "      <td>2022.0</td>\n",
       "      <td>4.874670</td>\n",
       "      <td>22.704178</td>\n",
       "      <td>21.055664</td>\n",
       "    </tr>\n",
       "    <tr>\n",
       "      <th>std</th>\n",
       "      <td>5.978775e+03</td>\n",
       "      <td>1170.990596</td>\n",
       "      <td>4846.585868</td>\n",
       "      <td>0.495201</td>\n",
       "      <td>0.464639</td>\n",
       "      <td>0.075161</td>\n",
       "      <td>0.324896</td>\n",
       "      <td>39.927658</td>\n",
       "      <td>4606.422151</td>\n",
       "      <td>1.132602</td>\n",
       "      <td>...</td>\n",
       "      <td>0.034437</td>\n",
       "      <td>0.034437</td>\n",
       "      <td>1.585774</td>\n",
       "      <td>1.136264</td>\n",
       "      <td>4987.646861</td>\n",
       "      <td>3570.559657</td>\n",
       "      <td>0.0</td>\n",
       "      <td>2.561432</td>\n",
       "      <td>8.580195</td>\n",
       "      <td>9.530385</td>\n",
       "    </tr>\n",
       "    <tr>\n",
       "      <th>min</th>\n",
       "      <td>2.022091e+09</td>\n",
       "      <td>54.000000</td>\n",
       "      <td>33131.000000</td>\n",
       "      <td>0.000000</td>\n",
       "      <td>0.000000</td>\n",
       "      <td>0.000000</td>\n",
       "      <td>0.000000</td>\n",
       "      <td>170.000000</td>\n",
       "      <td>25511.000000</td>\n",
       "      <td>1.000000</td>\n",
       "      <td>...</td>\n",
       "      <td>-0.521181</td>\n",
       "      <td>-0.410824</td>\n",
       "      <td>-2.366872</td>\n",
       "      <td>-9.986150</td>\n",
       "      <td>33107.000000</td>\n",
       "      <td>43586.000000</td>\n",
       "      <td>2022.0</td>\n",
       "      <td>1.000000</td>\n",
       "      <td>3.000000</td>\n",
       "      <td>0.000000</td>\n",
       "    </tr>\n",
       "    <tr>\n",
       "      <th>25%</th>\n",
       "      <td>2.022093e+09</td>\n",
       "      <td>952.000000</td>\n",
       "      <td>43797.000000</td>\n",
       "      <td>0.000000</td>\n",
       "      <td>0.000000</td>\n",
       "      <td>0.000000</td>\n",
       "      <td>0.000000</td>\n",
       "      <td>200.000000</td>\n",
       "      <td>44874.000000</td>\n",
       "      <td>2.000000</td>\n",
       "      <td>...</td>\n",
       "      <td>-0.010758</td>\n",
       "      <td>-0.010872</td>\n",
       "      <td>1.046297</td>\n",
       "      <td>-0.445271</td>\n",
       "      <td>43503.000000</td>\n",
       "      <td>46527.000000</td>\n",
       "      <td>2022.0</td>\n",
       "      <td>3.000000</td>\n",
       "      <td>17.000000</td>\n",
       "      <td>15.000000</td>\n",
       "    </tr>\n",
       "    <tr>\n",
       "      <th>50%</th>\n",
       "      <td>2.022101e+09</td>\n",
       "      <td>1991.000000</td>\n",
       "      <td>46669.000000</td>\n",
       "      <td>1.000000</td>\n",
       "      <td>0.000000</td>\n",
       "      <td>0.000000</td>\n",
       "      <td>0.000000</td>\n",
       "      <td>227.000000</td>\n",
       "      <td>47807.000000</td>\n",
       "      <td>3.000000</td>\n",
       "      <td>...</td>\n",
       "      <td>0.000007</td>\n",
       "      <td>-0.000007</td>\n",
       "      <td>1.992672</td>\n",
       "      <td>0.063363</td>\n",
       "      <td>47791.000000</td>\n",
       "      <td>47996.000000</td>\n",
       "      <td>2022.0</td>\n",
       "      <td>5.000000</td>\n",
       "      <td>22.000000</td>\n",
       "      <td>20.000000</td>\n",
       "    </tr>\n",
       "    <tr>\n",
       "      <th>75%</th>\n",
       "      <td>2.022102e+09</td>\n",
       "      <td>2981.750000</td>\n",
       "      <td>52546.000000</td>\n",
       "      <td>1.000000</td>\n",
       "      <td>1.000000</td>\n",
       "      <td>0.000000</td>\n",
       "      <td>0.000000</td>\n",
       "      <td>252.000000</td>\n",
       "      <td>52754.750000</td>\n",
       "      <td>4.000000</td>\n",
       "      <td>...</td>\n",
       "      <td>0.010872</td>\n",
       "      <td>0.010758</td>\n",
       "      <td>3.360313</td>\n",
       "      <td>0.818275</td>\n",
       "      <td>53063.000000</td>\n",
       "      <td>53046.000000</td>\n",
       "      <td>2022.0</td>\n",
       "      <td>7.000000</td>\n",
       "      <td>27.000000</td>\n",
       "      <td>27.000000</td>\n",
       "    </tr>\n",
       "    <tr>\n",
       "      <th>max</th>\n",
       "      <td>2.022111e+09</td>\n",
       "      <td>5096.000000</td>\n",
       "      <td>55241.000000</td>\n",
       "      <td>1.000000</td>\n",
       "      <td>1.000000</td>\n",
       "      <td>1.000000</td>\n",
       "      <td>1.000000</td>\n",
       "      <td>379.000000</td>\n",
       "      <td>55158.000000</td>\n",
       "      <td>5.000000</td>\n",
       "      <td>...</td>\n",
       "      <td>0.410824</td>\n",
       "      <td>0.521181</td>\n",
       "      <td>6.556614</td>\n",
       "      <td>7.130048</td>\n",
       "      <td>55157.000000</td>\n",
       "      <td>54650.000000</td>\n",
       "      <td>2022.0</td>\n",
       "      <td>9.000000</td>\n",
       "      <td>49.000000</td>\n",
       "      <td>48.000000</td>\n",
       "    </tr>\n",
       "  </tbody>\n",
       "</table>\n",
       "<p>8 rows × 34 columns</p>\n",
       "</div>"
      ],
      "text/plain": [
       "             gameId        playId         nflId        tackle        assist  \\\n",
       "count  1.742600e+04  17426.000000  17426.000000  17426.000000  17426.000000   \n",
       "mean   2.022099e+09   1982.974578  47602.719442      0.569207      0.315276   \n",
       "std    5.978775e+03   1170.990596   4846.585868      0.495201      0.464639   \n",
       "min    2.022091e+09     54.000000  33131.000000      0.000000      0.000000   \n",
       "25%    2.022093e+09    952.000000  43797.000000      0.000000      0.000000   \n",
       "50%    2.022101e+09   1991.000000  46669.000000      1.000000      0.000000   \n",
       "75%    2.022102e+09   2981.750000  52546.000000      1.000000      1.000000   \n",
       "max    2.022111e+09   5096.000000  55241.000000      1.000000      1.000000   \n",
       "\n",
       "       forcedFumble  pff_missedTackle        weight  ballCarrierId  \\\n",
       "count  17426.000000      17426.000000  17426.000000   17426.000000   \n",
       "mean       0.005681          0.119936    232.930391   48188.776770   \n",
       "std        0.075161          0.324896     39.927658    4606.422151   \n",
       "min        0.000000          0.000000    170.000000   25511.000000   \n",
       "25%        0.000000          0.000000    200.000000   44874.000000   \n",
       "50%        0.000000          0.000000    227.000000   47807.000000   \n",
       "75%        0.000000          0.000000    252.000000   52754.750000   \n",
       "max        1.000000          1.000000    379.000000   55158.000000   \n",
       "\n",
       "            quarter  ...  homeTeamWinProbabilityAdded  \\\n",
       "count  17426.000000  ...                 17426.000000   \n",
       "mean       2.550212  ...                    -0.000067   \n",
       "std        1.132602  ...                     0.034437   \n",
       "min        1.000000  ...                    -0.521181   \n",
       "25%        2.000000  ...                    -0.010758   \n",
       "50%        3.000000  ...                     0.000007   \n",
       "75%        4.000000  ...                     0.010872   \n",
       "max        5.000000  ...                     0.410824   \n",
       "\n",
       "       visitorTeamWinProbilityAdded  expectedPoints  expectedPointsAdded  \\\n",
       "count                  17426.000000    17426.000000         17424.000000   \n",
       "mean                       0.000067        2.215160             0.242920   \n",
       "std                        0.034437        1.585774             1.136264   \n",
       "min                       -0.410824       -2.366872            -9.986150   \n",
       "25%                       -0.010872        1.046297            -0.445271   \n",
       "50%                       -0.000007        1.992672             0.063363   \n",
       "75%                        0.010758        3.360313             0.818275   \n",
       "max                        0.521181        6.556614             7.130048   \n",
       "\n",
       "         foulNFLId1    foulNFLId2   season          week  homeFinalScore  \\\n",
       "count    761.000000     31.000000  17426.0  17426.000000    17426.000000   \n",
       "mean   47765.601840  49575.258065   2022.0      4.874670       22.704178   \n",
       "std     4987.646861   3570.559657      0.0      2.561432        8.580195   \n",
       "min    33107.000000  43586.000000   2022.0      1.000000        3.000000   \n",
       "25%    43503.000000  46527.000000   2022.0      3.000000       17.000000   \n",
       "50%    47791.000000  47996.000000   2022.0      5.000000       22.000000   \n",
       "75%    53063.000000  53046.000000   2022.0      7.000000       27.000000   \n",
       "max    55157.000000  54650.000000   2022.0      9.000000       49.000000   \n",
       "\n",
       "       visitorFinalScore  \n",
       "count       17426.000000  \n",
       "mean           21.055664  \n",
       "std             9.530385  \n",
       "min             0.000000  \n",
       "25%            15.000000  \n",
       "50%            20.000000  \n",
       "75%            27.000000  \n",
       "max            48.000000  \n",
       "\n",
       "[8 rows x 34 columns]"
      ]
     },
     "execution_count": 17,
     "metadata": {},
     "output_type": "execute_result"
    }
   ],
   "source": [
    "df.describe()"
   ]
  },
  {
   "cell_type": "markdown",
   "id": "ce9bd196",
   "metadata": {
    "papermill": {
     "duration": 0.017206,
     "end_time": "2024-01-04T08:56:16.681998",
     "exception": false,
     "start_time": "2024-01-04T08:56:16.664792",
     "status": "completed"
    },
    "tags": []
   },
   "source": [
    "#### From the observations, we can convert a few columns from string to integer type by encoding or conversion."
   ]
  },
  {
   "cell_type": "code",
   "execution_count": 18,
   "id": "84a9c36c",
   "metadata": {
    "execution": {
     "iopub.execute_input": "2024-01-04T08:56:16.721994Z",
     "iopub.status.busy": "2024-01-04T08:56:16.721205Z",
     "iopub.status.idle": "2024-01-04T08:56:16.745814Z",
     "shell.execute_reply": "2024-01-04T08:56:16.744888Z"
    },
    "papermill": {
     "duration": 0.04783,
     "end_time": "2024-01-04T08:56:16.748308",
     "exception": false,
     "start_time": "2024-01-04T08:56:16.700478",
     "status": "completed"
    },
    "tags": []
   },
   "outputs": [],
   "source": [
    "#Converting height in feet-inchs format to inches\n",
    "\n",
    "def convert_height_to_inches(height):\n",
    "    feet, inches = map(int, height.split('-'))\n",
    "    # Convert feet to inches and sum with inches\n",
    "    return feet * 12 + inches\n",
    "\n",
    "df['height'] = df['height'].apply(convert_height_to_inches)"
   ]
  },
  {
   "cell_type": "code",
   "execution_count": 19,
   "id": "c57524f2",
   "metadata": {
    "execution": {
     "iopub.execute_input": "2024-01-04T08:56:16.786014Z",
     "iopub.status.busy": "2024-01-04T08:56:16.785220Z",
     "iopub.status.idle": "2024-01-04T08:56:16.808682Z",
     "shell.execute_reply": "2024-01-04T08:56:16.807655Z"
    },
    "papermill": {
     "duration": 0.045702,
     "end_time": "2024-01-04T08:56:16.811281",
     "exception": false,
     "start_time": "2024-01-04T08:56:16.765579",
     "status": "completed"
    },
    "tags": []
   },
   "outputs": [],
   "source": [
    "df['playNullifiedByPenalty'] = df['playNullifiedByPenalty'].replace({'N': 0, 'Y': 1})\n",
    "df['passResult'] = df['passResult'].replace({'C': 0, 'R': 1})\n",
    "df = df.drop('season', axis=1) #as all values equal to 2022"
   ]
  },
  {
   "cell_type": "code",
   "execution_count": 20,
   "id": "42a731ad",
   "metadata": {
    "execution": {
     "iopub.execute_input": "2024-01-04T08:56:16.847986Z",
     "iopub.status.busy": "2024-01-04T08:56:16.847621Z",
     "iopub.status.idle": "2024-01-04T08:56:16.879721Z",
     "shell.execute_reply": "2024-01-04T08:56:16.878438Z"
    },
    "papermill": {
     "duration": 0.053341,
     "end_time": "2024-01-04T08:56:16.882285",
     "exception": false,
     "start_time": "2024-01-04T08:56:16.828944",
     "status": "completed"
    },
    "tags": []
   },
   "outputs": [
    {
     "name": "stdout",
     "output_type": "stream",
     "text": [
      "<class 'pandas.core.frame.DataFrame'>\n",
      "RangeIndex: 17426 entries, 0 to 17425\n",
      "Data columns (total 53 columns):\n",
      " #   Column                            Non-Null Count  Dtype  \n",
      "---  ------                            --------------  -----  \n",
      " 0   gameId                            17426 non-null  int64  \n",
      " 1   playId                            17426 non-null  int64  \n",
      " 2   nflId                             17426 non-null  int64  \n",
      " 3   tackle                            17426 non-null  int64  \n",
      " 4   assist                            17426 non-null  int64  \n",
      " 5   forcedFumble                      17426 non-null  int64  \n",
      " 6   pff_missedTackle                  17426 non-null  int64  \n",
      " 7   height                            17426 non-null  int64  \n",
      " 8   weight                            17426 non-null  int64  \n",
      " 9   birthDate                         13526 non-null  object \n",
      " 10  collegeName                       17426 non-null  object \n",
      " 11  position                          17426 non-null  object \n",
      " 12  displayName                       17426 non-null  object \n",
      " 13  ballCarrierId                     17426 non-null  int64  \n",
      " 14  ballCarrierDisplayName            17426 non-null  object \n",
      " 15  playDescription                   17426 non-null  object \n",
      " 16  quarter                           17426 non-null  int64  \n",
      " 17  down                              17426 non-null  int64  \n",
      " 18  yardsToGo                         17426 non-null  int64  \n",
      " 19  possessionTeam                    17426 non-null  object \n",
      " 20  defensiveTeam                     17426 non-null  object \n",
      " 21  yardlineSide                      17197 non-null  object \n",
      " 22  yardlineNumber                    17426 non-null  int64  \n",
      " 23  gameClock                         17426 non-null  object \n",
      " 24  preSnapHomeScore                  17426 non-null  int64  \n",
      " 25  preSnapVisitorScore               17426 non-null  int64  \n",
      " 26  passResult                        7606 non-null   float64\n",
      " 27  passLength                        7018 non-null   float64\n",
      " 28  penaltyYards                      794 non-null    float64\n",
      " 29  prePenaltyPlayResult              17426 non-null  int64  \n",
      " 30  playResult                        17426 non-null  int64  \n",
      " 31  playNullifiedByPenalty            17426 non-null  int64  \n",
      " 32  absoluteYardlineNumber            17426 non-null  int64  \n",
      " 33  offenseFormation                  17422 non-null  object \n",
      " 34  defendersInTheBox                 17421 non-null  float64\n",
      " 35  passProbability                   16994 non-null  float64\n",
      " 36  preSnapHomeTeamWinProbability     17426 non-null  float64\n",
      " 37  preSnapVisitorTeamWinProbability  17426 non-null  float64\n",
      " 38  homeTeamWinProbabilityAdded       17426 non-null  float64\n",
      " 39  visitorTeamWinProbilityAdded      17426 non-null  float64\n",
      " 40  expectedPoints                    17426 non-null  float64\n",
      " 41  expectedPointsAdded               17424 non-null  float64\n",
      " 42  foulName1                         761 non-null    object \n",
      " 43  foulName2                         31 non-null     object \n",
      " 44  foulNFLId1                        761 non-null    float64\n",
      " 45  foulNFLId2                        31 non-null     float64\n",
      " 46  week                              17426 non-null  int64  \n",
      " 47  gameDate                          17426 non-null  object \n",
      " 48  gameTimeEastern                   17426 non-null  object \n",
      " 49  homeTeamAbbr                      17426 non-null  object \n",
      " 50  visitorTeamAbbr                   17426 non-null  object \n",
      " 51  homeFinalScore                    17426 non-null  int64  \n",
      " 52  visitorFinalScore                 17426 non-null  int64  \n",
      "dtypes: float64(13), int64(23), object(17)\n",
      "memory usage: 7.0+ MB\n"
     ]
    }
   ],
   "source": [
    "df.info()"
   ]
  },
  {
   "cell_type": "code",
   "execution_count": 21,
   "id": "353dca7b",
   "metadata": {
    "execution": {
     "iopub.execute_input": "2024-01-04T08:56:16.920053Z",
     "iopub.status.busy": "2024-01-04T08:56:16.919655Z",
     "iopub.status.idle": "2024-01-04T08:56:17.707985Z",
     "shell.execute_reply": "2024-01-04T08:56:17.706813Z"
    },
    "papermill": {
     "duration": 0.810967,
     "end_time": "2024-01-04T08:56:17.710944",
     "exception": false,
     "start_time": "2024-01-04T08:56:16.899977",
     "status": "completed"
    },
    "tags": []
   },
   "outputs": [],
   "source": [
    "import plotly.express as px"
   ]
  },
  {
   "cell_type": "code",
   "execution_count": 22,
   "id": "5c6a5c6f",
   "metadata": {
    "execution": {
     "iopub.execute_input": "2024-01-04T08:56:17.749302Z",
     "iopub.status.busy": "2024-01-04T08:56:17.748458Z",
     "iopub.status.idle": "2024-01-04T08:56:17.764674Z",
     "shell.execute_reply": "2024-01-04T08:56:17.763567Z"
    },
    "papermill": {
     "duration": 0.038387,
     "end_time": "2024-01-04T08:56:17.766959",
     "exception": false,
     "start_time": "2024-01-04T08:56:17.728572",
     "status": "completed"
    },
    "tags": []
   },
   "outputs": [
    {
     "name": "stdout",
     "output_type": "stream",
     "text": [
      "<class 'pandas.core.frame.DataFrame'>\n",
      "RangeIndex: 17426 entries, 0 to 17425\n",
      "Data columns (total 12 columns):\n",
      " #   Column             Non-Null Count  Dtype  \n",
      "---  ------             --------------  -----  \n",
      " 0   tackle             17426 non-null  int64  \n",
      " 1   assist             17426 non-null  int64  \n",
      " 2   forcedFumble       17426 non-null  int64  \n",
      " 3   pff_missedTackle   17426 non-null  int64  \n",
      " 4   height             17426 non-null  int64  \n",
      " 5   weight             17426 non-null  int64  \n",
      " 6   position           17426 non-null  object \n",
      " 7   playResult         17426 non-null  int64  \n",
      " 8   passResult         7606 non-null   float64\n",
      " 9   passLength         7018 non-null   float64\n",
      " 10  defendersInTheBox  17421 non-null  float64\n",
      " 11  passProbability    16994 non-null  float64\n",
      "dtypes: float64(4), int64(7), object(1)\n",
      "memory usage: 1.6+ MB\n"
     ]
    }
   ],
   "source": [
    "# Create a correlation matrix\n",
    "df_corr = df[['tackle','assist', 'forcedFumble', 'pff_missedTackle', 'height', 'weight', 'position', 'playResult', 'passResult', 'passLength', 'defendersInTheBox', 'passProbability']]\n",
    "\n",
    "df_corr.info()"
   ]
  },
  {
   "cell_type": "code",
   "execution_count": 23,
   "id": "f53130ed",
   "metadata": {
    "execution": {
     "iopub.execute_input": "2024-01-04T08:56:17.804794Z",
     "iopub.status.busy": "2024-01-04T08:56:17.804150Z",
     "iopub.status.idle": "2024-01-04T08:56:17.812088Z",
     "shell.execute_reply": "2024-01-04T08:56:17.811013Z"
    },
    "papermill": {
     "duration": 0.02911,
     "end_time": "2024-01-04T08:56:17.814521",
     "exception": false,
     "start_time": "2024-01-04T08:56:17.785411",
     "status": "completed"
    },
    "tags": []
   },
   "outputs": [
    {
     "data": {
      "text/plain": [
       "array(['CB', 'OLB', 'DE', 'DT', 'FS', 'ILB', 'SS', 'NT', 'MLB', 'DB'],\n",
       "      dtype=object)"
      ]
     },
     "execution_count": 23,
     "metadata": {},
     "output_type": "execute_result"
    }
   ],
   "source": [
    "#Converting position from categorical to numerical dummy values\n",
    "df['position'].unique()"
   ]
  },
  {
   "cell_type": "code",
   "execution_count": 24,
   "id": "293f90c6",
   "metadata": {
    "execution": {
     "iopub.execute_input": "2024-01-04T08:56:17.851785Z",
     "iopub.status.busy": "2024-01-04T08:56:17.851128Z",
     "iopub.status.idle": "2024-01-04T08:56:17.863827Z",
     "shell.execute_reply": "2024-01-04T08:56:17.862811Z"
    },
    "papermill": {
     "duration": 0.033778,
     "end_time": "2024-01-04T08:56:17.866161",
     "exception": false,
     "start_time": "2024-01-04T08:56:17.832383",
     "status": "completed"
    },
    "tags": []
   },
   "outputs": [],
   "source": [
    "df_corr = pd.get_dummies(df_corr, columns=['position'], prefix='')"
   ]
  },
  {
   "cell_type": "code",
   "execution_count": 25,
   "id": "69273c1b",
   "metadata": {
    "execution": {
     "iopub.execute_input": "2024-01-04T08:56:17.903955Z",
     "iopub.status.busy": "2024-01-04T08:56:17.903263Z",
     "iopub.status.idle": "2024-01-04T08:56:17.916502Z",
     "shell.execute_reply": "2024-01-04T08:56:17.915359Z"
    },
    "papermill": {
     "duration": 0.034853,
     "end_time": "2024-01-04T08:56:17.918882",
     "exception": false,
     "start_time": "2024-01-04T08:56:17.884029",
     "status": "completed"
    },
    "tags": []
   },
   "outputs": [
    {
     "name": "stdout",
     "output_type": "stream",
     "text": [
      "<class 'pandas.core.frame.DataFrame'>\n",
      "RangeIndex: 17426 entries, 0 to 17425\n",
      "Data columns (total 21 columns):\n",
      " #   Column             Non-Null Count  Dtype  \n",
      "---  ------             --------------  -----  \n",
      " 0   tackle             17426 non-null  int64  \n",
      " 1   assist             17426 non-null  int64  \n",
      " 2   forcedFumble       17426 non-null  int64  \n",
      " 3   pff_missedTackle   17426 non-null  int64  \n",
      " 4   height             17426 non-null  int64  \n",
      " 5   weight             17426 non-null  int64  \n",
      " 6   playResult         17426 non-null  int64  \n",
      " 7   passResult         7606 non-null   float64\n",
      " 8   passLength         7018 non-null   float64\n",
      " 9   defendersInTheBox  17421 non-null  float64\n",
      " 10  passProbability    16994 non-null  float64\n",
      " 11  _CB                17426 non-null  bool   \n",
      " 12  _DB                17426 non-null  bool   \n",
      " 13  _DE                17426 non-null  bool   \n",
      " 14  _DT                17426 non-null  bool   \n",
      " 15  _FS                17426 non-null  bool   \n",
      " 16  _ILB               17426 non-null  bool   \n",
      " 17  _MLB               17426 non-null  bool   \n",
      " 18  _NT                17426 non-null  bool   \n",
      " 19  _OLB               17426 non-null  bool   \n",
      " 20  _SS                17426 non-null  bool   \n",
      "dtypes: bool(10), float64(4), int64(7)\n",
      "memory usage: 1.6 MB\n"
     ]
    }
   ],
   "source": [
    "df_corr.info()"
   ]
  },
  {
   "cell_type": "code",
   "execution_count": 26,
   "id": "6923aa8f",
   "metadata": {
    "execution": {
     "iopub.execute_input": "2024-01-04T08:56:17.957818Z",
     "iopub.status.busy": "2024-01-04T08:56:17.957163Z",
     "iopub.status.idle": "2024-01-04T08:56:19.923467Z",
     "shell.execute_reply": "2024-01-04T08:56:19.922439Z"
    },
    "papermill": {
     "duration": 1.988451,
     "end_time": "2024-01-04T08:56:19.926309",
     "exception": false,
     "start_time": "2024-01-04T08:56:17.937858",
     "status": "completed"
    },
    "tags": []
   },
   "outputs": [
    {
     "data": {
      "text/html": [
       "        <script type=\"text/javascript\">\n",
       "        window.PlotlyConfig = {MathJaxConfig: 'local'};\n",
       "        if (window.MathJax && window.MathJax.Hub && window.MathJax.Hub.Config) {window.MathJax.Hub.Config({SVG: {font: \"STIX-Web\"}});}\n",
       "        if (typeof require !== 'undefined') {\n",
       "        require.undef(\"plotly\");\n",
       "        requirejs.config({\n",
       "            paths: {\n",
       "                'plotly': ['https://cdn.plot.ly/plotly-2.25.2.min']\n",
       "            }\n",
       "        });\n",
       "        require(['plotly'], function(Plotly) {\n",
       "            window._Plotly = Plotly;\n",
       "        });\n",
       "        }\n",
       "        </script>\n",
       "        "
      ]
     },
     "metadata": {},
     "output_type": "display_data"
    },
    {
     "data": {
      "text/html": [
       "<div>                            <div id=\"cc8b94ce-a1c3-4bae-884a-ceb798f06db4\" class=\"plotly-graph-div\" style=\"height:525px; width:100%;\"></div>            <script type=\"text/javascript\">                require([\"plotly\"], function(Plotly) {                    window.PLOTLYENV=window.PLOTLYENV || {};                                    if (document.getElementById(\"cc8b94ce-a1c3-4bae-884a-ceb798f06db4\")) {                    Plotly.newPlot(                        \"cc8b94ce-a1c3-4bae-884a-ceb798f06db4\",                        [{\"coloraxis\":\"coloraxis\",\"name\":\"0\",\"x\":[\"tackle\",\"assist\",\"forcedFumble\",\"pff_missedTackle\",\"height\",\"weight\",\"playResult\",\"passResult\",\"passLength\",\"defendersInTheBox\",\"passProbability\",\"_CB\",\"_DB\",\"_DE\",\"_DT\",\"_FS\",\"_ILB\",\"_MLB\",\"_NT\",\"_OLB\",\"_SS\"],\"y\":[\"tackle\",\"assist\",\"forcedFumble\",\"pff_missedTackle\",\"height\",\"weight\",\"playResult\",\"passResult\",\"passLength\",\"defendersInTheBox\",\"passProbability\",\"_CB\",\"_DB\",\"_DE\",\"_DT\",\"_FS\",\"_ILB\",\"_MLB\",\"_NT\",\"_OLB\",\"_SS\"],\"z\":[[1.0,-0.7799889360867911,0.0287538164392656,-0.41185932003618525,-0.08999015443307985,-0.1349792266021123,0.012940321414016886,0.03191946255916639,0.15493350492181435,-0.0653245806678806,0.09903426228981194,0.10602801317557495,0.004102585521932836,-0.05561382416737143,-0.07742821631933659,0.030576500768886128,-0.00771871954109373,-0.0040029217265070164,-0.03847242644800612,-0.036505026752977156,0.02222958541589129],[-0.7799889360867911,1.0,-0.011852032895710104,-0.23453154670065793,0.10453803598543142,0.15734151074914707,-0.13464893640690134,-0.08011476842291834,-0.10854147862822908,0.08759918443689246,-0.11399391858933818,-0.13208258927108787,-0.006024225937439093,0.053231869513752465,0.08989673020512151,-0.023873092077724808,0.028808813795156082,0.011936020803926077,0.05041375618054679,0.028602414323383948,-0.030426625743956597],[0.0287538164392656,-0.011852032895710104,1.0,-0.025554304538298458,-0.0167987895242647,-0.022796869474840043,-0.02421864890283333,0.0056712459738667495,0.022590915406825826,-0.015890792791656533,0.01778789698701772,0.02292392461108809,0.010991651346955485,-0.017499678603514764,-0.011709452168860194,-0.0005577324882861195,-0.00898163326898641,-0.0028530149264114086,0.0021052087550973682,-0.004890644319686959,0.011707453772521038],[-0.41185932003618525,-0.23453154670065793,-0.025554304538298458,1.0,-0.012621198927585814,-0.020405512221633285,0.1780374533831958,0.05393201011197338,-0.09187969841486386,-0.02770300646124654,0.014447512024856361,0.02651748801263367,0.0016625424074501634,0.00894411745308421,-0.011390045096834509,-0.013429661474554988,-0.028739839930009118,-0.011155182065077932,-0.014562925327278703,0.01469433894146908,0.012048539967759604],[-0.08999015443307985,0.10453803598543142,-0.0167987895242647,-0.012621198927585814,1.0,0.6870550994924419,-0.21167731870285966,0.12772481556008167,-0.14674212638430076,0.1457322446932982,-0.15499514474656836,-0.3910177132069485,0.035534698840553665,0.3820698090690372,0.2743611540538753,-0.2341235414946218,0.007076546092923623,0.028544890472763106,0.1396417653879246,0.26477597321417107,-0.23602574384582503],[-0.1349792266021123,0.15734151074914707,-0.022796869474840043,-0.020405512221633285,0.6870550994924419,1.0,-0.28552780004139794,0.18933392152071143,-0.24798013800729232,0.1825595107598012,-0.21899229656672542,-0.5205303766242033,-0.010218502932247483,0.31032785744916697,0.6145903151240955,-0.2595691709033205,0.024224451062359268,0.019052222844360728,0.3571871831696602,0.13457389935562858,-0.27028540569631476],[0.012940321414016886,-0.13464893640690134,-0.02421864890283333,0.1780374533831958,-0.21167731870285966,-0.28552780004139794,1.0,-0.08560871058978788,0.6278507660555095,-0.1538660344255524,0.18139924497916124,0.146297428700196,0.0007528175531140376,-0.12247267302278078,-0.1429493527097523,0.16023126322056064,-0.06228553918224669,-0.01653877236047671,-0.07625251069638175,-0.09975944354118521,0.12144600212915703],[0.03191946255916639,-0.08011476842291834,0.0056712459738667495,0.05393201011197338,0.12772481556008167,0.18933392152071143,-0.08560871058978788,1.0,null,-0.005358903829773684,0.07130957086960078,-0.1160513044744827,-0.0025071061779614314,0.10618109032530933,0.12715378989752255,-0.043836653831306124,0.03994789830125067,-0.007479770084763812,0.02203033460981406,0.06447129279800587,-0.009978833156324828],[0.15493350492181435,-0.10854147862822908,0.022590915406825826,-0.09187969841486386,-0.14674212638430076,-0.24798013800729232,0.6278507660555095,null,1.0,0.031007086823017362,0.047479202561629824,0.114782589958097,-0.010485215652715763,-0.09603651215258335,-0.11150588091694837,0.11532810988514132,-0.13528734346117494,-0.03280365746311005,-0.04643992926460023,-0.12219642131003304,0.0911212215135922],[-0.0653245806678806,0.08759918443689246,-0.015890792791656533,-0.02770300646124654,0.1457322446932982,0.1825595107598012,-0.1538660344255524,-0.005358903829773684,0.031007086823017362,1.0,-0.5377847578039572,-0.14327607217754404,-0.011065712161204163,0.06391431662497538,0.10108221281123744,-0.030913444358403593,0.009828477317972673,0.025556392204630834,0.05591718730102553,0.03565958736662393,-0.02010763833319695],[0.09903426228981194,-0.11399391858933818,0.01778789698701772,0.014447512024856361,-0.15499514474656836,-0.21899229656672542,0.18139924497916124,0.07130957086960078,0.047479202561629824,-0.5377847578039572,1.0,0.15740540741384712,0.006365498057809475,-0.09157743450972664,-0.12089663009920473,0.034497566215078795,0.006966924095643613,-0.024036488930707145,-0.08089184706056592,-0.04866412734664934,0.047396078641801676],[0.10602801317557495,-0.13208258927108787,0.02292392461108809,0.02651748801263367,-0.3910177132069485,-0.5205303766242033,0.146297428700196,-0.1160513044744827,0.114782589958097,-0.14327607217754404,0.15740540741384712,1.0,-0.027177391373757968,-0.16064077527178508,-0.17232586489401547,-0.18897610212168517,-0.25404022464359544,-0.06437630336704804,-0.0861067342682659,-0.21660187086610924,-0.1882205380850339],[0.004102585521932836,-0.006024225937439093,0.010991651346955485,0.0016625424074501634,0.035534698840553665,-0.010218502932247483,0.0007528175531140376,-0.0025071061779614314,-0.010485215652715763,-0.011065712161204163,0.006365498057809475,-0.027177391373757968,1.0,-0.015644298087127462,-0.016782272084798225,-0.018403786136696694,-0.024740175672840217,-0.006269404999555866,-0.008385663079144907,-0.021094172561890463,-0.018330204139888593],[-0.05561382416737143,0.053231869513752465,-0.017499678603514764,0.00894411745308421,0.3820698090690372,0.31032785744916697,-0.12247267302278078,0.10618109032530933,-0.09603651215258335,0.06391431662497538,-0.09157743450972664,-0.16064077527178508,-0.015644298087127462,1.0,-0.09919705542921163,-0.10878153948909634,-0.1462348223855921,-0.03705734909473007,-0.04956617799243782,-0.12468393995057503,-0.10834660926158725],[-0.07742821631933659,0.08989673020512151,-0.011709452168860194,-0.011390045096834509,0.2743611540538753,0.6145903151240955,-0.1429493527097523,0.12715378989752255,-0.11150588091694837,0.10108221281123744,-0.12089663009920473,-0.17232586489401547,-0.016782272084798225,-0.09919705542921163,1.0,-0.11669436259408747,-0.15687201585390959,-0.03975291903705398,-0.05317164634935472,-0.13375351154788712,-0.11622779532623621],[0.030576500768886128,-0.023873092077724808,-0.0005577324882861195,-0.013429661474554988,-0.2341235414946218,-0.2595691709033205,0.16023126322056064,-0.043836653831306124,0.11532810988514132,-0.030913444358403593,0.034497566215078795,-0.18897610212168517,-0.018403786136696694,-0.10878153948909634,-0.11669436259408747,1.0,-0.17202909212889003,-0.043593871948367655,-0.05830912542742028,-0.146676862889693,-0.1274578005597579],[-0.00771871954109373,0.028808813795156082,-0.00898163326898641,-0.028739839930009118,0.007076546092923623,0.024224451062359268,-0.06228553918224669,0.03994789830125067,-0.13528734346117494,0.009828477317972673,0.006966924095643613,-0.25404022464359544,-0.024740175672840217,-0.1462348223855921,-0.15687201585390959,-0.17202909212889003,1.0,-0.05860316145009787,-0.07838484949178964,-0.19717743556019685,-0.17134128560832285],[-0.0040029217265070164,0.011936020803926077,-0.0028530149264114086,-0.011155182065077932,0.028544890472763106,0.019052222844360728,-0.01653877236047671,-0.007479770084763812,-0.03280365746311005,0.025556392204630834,-0.024036488930707145,-0.06437630336704804,-0.006269404999555866,-0.03705734909473007,-0.03975291903705398,-0.043593871948367655,-0.05860316145009787,1.0,-0.019863495465505015,-0.0499667106914596,-0.04341957497910645],[-0.03847242644800612,0.05041375618054679,0.0021052087550973682,-0.014562925327278703,0.1396417653879246,0.3571871831696602,-0.07625251069638175,0.02203033460981406,-0.04643992926460023,0.05591718730102553,-0.08089184706056592,-0.0861067342682659,-0.008385663079144907,-0.04956617799243782,-0.05317164634935472,-0.05830912542742028,-0.07838484949178964,-0.019863495465505015,1.0,-0.06683313664715745,-0.058075993948429105],[-0.036505026752977156,0.028602414323383948,-0.004890644319686959,0.01469433894146908,0.26477597321417107,0.13457389935562858,-0.09975944354118521,0.06447129279800587,-0.12219642131003304,0.03565958736662393,-0.04866412734664934,-0.21660187086610924,-0.021094172561890463,-0.12468393995057503,-0.13375351154788712,-0.146676862889693,-0.19717743556019685,-0.0499667106914596,-0.06683313664715745,1.0,-0.1460904196232482],[0.02222958541589129,-0.030426625743956597,0.011707453772521038,0.012048539967759604,-0.23602574384582503,-0.27028540569631476,0.12144600212915703,-0.009978833156324828,0.0911212215135922,-0.02010763833319695,0.047396078641801676,-0.1882205380850339,-0.018330204139888593,-0.10834660926158725,-0.11622779532623621,-0.1274578005597579,-0.17134128560832285,-0.04341957497910645,-0.058075993948429105,-0.1460904196232482,1.0]],\"type\":\"heatmap\",\"xaxis\":\"x\",\"yaxis\":\"y\",\"hovertemplate\":\"x: %{x}\\u003cbr\\u003ey: %{y}\\u003cbr\\u003eCorrelation: %{z}\\u003cextra\\u003e\\u003c\\u002fextra\\u003e\"}],                        {\"template\":{\"data\":{\"histogram2dcontour\":[{\"type\":\"histogram2dcontour\",\"colorbar\":{\"outlinewidth\":0,\"ticks\":\"\"},\"colorscale\":[[0.0,\"#0d0887\"],[0.1111111111111111,\"#46039f\"],[0.2222222222222222,\"#7201a8\"],[0.3333333333333333,\"#9c179e\"],[0.4444444444444444,\"#bd3786\"],[0.5555555555555556,\"#d8576b\"],[0.6666666666666666,\"#ed7953\"],[0.7777777777777778,\"#fb9f3a\"],[0.8888888888888888,\"#fdca26\"],[1.0,\"#f0f921\"]]}],\"choropleth\":[{\"type\":\"choropleth\",\"colorbar\":{\"outlinewidth\":0,\"ticks\":\"\"}}],\"histogram2d\":[{\"type\":\"histogram2d\",\"colorbar\":{\"outlinewidth\":0,\"ticks\":\"\"},\"colorscale\":[[0.0,\"#0d0887\"],[0.1111111111111111,\"#46039f\"],[0.2222222222222222,\"#7201a8\"],[0.3333333333333333,\"#9c179e\"],[0.4444444444444444,\"#bd3786\"],[0.5555555555555556,\"#d8576b\"],[0.6666666666666666,\"#ed7953\"],[0.7777777777777778,\"#fb9f3a\"],[0.8888888888888888,\"#fdca26\"],[1.0,\"#f0f921\"]]}],\"heatmap\":[{\"type\":\"heatmap\",\"colorbar\":{\"outlinewidth\":0,\"ticks\":\"\"},\"colorscale\":[[0.0,\"#0d0887\"],[0.1111111111111111,\"#46039f\"],[0.2222222222222222,\"#7201a8\"],[0.3333333333333333,\"#9c179e\"],[0.4444444444444444,\"#bd3786\"],[0.5555555555555556,\"#d8576b\"],[0.6666666666666666,\"#ed7953\"],[0.7777777777777778,\"#fb9f3a\"],[0.8888888888888888,\"#fdca26\"],[1.0,\"#f0f921\"]]}],\"heatmapgl\":[{\"type\":\"heatmapgl\",\"colorbar\":{\"outlinewidth\":0,\"ticks\":\"\"},\"colorscale\":[[0.0,\"#0d0887\"],[0.1111111111111111,\"#46039f\"],[0.2222222222222222,\"#7201a8\"],[0.3333333333333333,\"#9c179e\"],[0.4444444444444444,\"#bd3786\"],[0.5555555555555556,\"#d8576b\"],[0.6666666666666666,\"#ed7953\"],[0.7777777777777778,\"#fb9f3a\"],[0.8888888888888888,\"#fdca26\"],[1.0,\"#f0f921\"]]}],\"contourcarpet\":[{\"type\":\"contourcarpet\",\"colorbar\":{\"outlinewidth\":0,\"ticks\":\"\"}}],\"contour\":[{\"type\":\"contour\",\"colorbar\":{\"outlinewidth\":0,\"ticks\":\"\"},\"colorscale\":[[0.0,\"#0d0887\"],[0.1111111111111111,\"#46039f\"],[0.2222222222222222,\"#7201a8\"],[0.3333333333333333,\"#9c179e\"],[0.4444444444444444,\"#bd3786\"],[0.5555555555555556,\"#d8576b\"],[0.6666666666666666,\"#ed7953\"],[0.7777777777777778,\"#fb9f3a\"],[0.8888888888888888,\"#fdca26\"],[1.0,\"#f0f921\"]]}],\"surface\":[{\"type\":\"surface\",\"colorbar\":{\"outlinewidth\":0,\"ticks\":\"\"},\"colorscale\":[[0.0,\"#0d0887\"],[0.1111111111111111,\"#46039f\"],[0.2222222222222222,\"#7201a8\"],[0.3333333333333333,\"#9c179e\"],[0.4444444444444444,\"#bd3786\"],[0.5555555555555556,\"#d8576b\"],[0.6666666666666666,\"#ed7953\"],[0.7777777777777778,\"#fb9f3a\"],[0.8888888888888888,\"#fdca26\"],[1.0,\"#f0f921\"]]}],\"mesh3d\":[{\"type\":\"mesh3d\",\"colorbar\":{\"outlinewidth\":0,\"ticks\":\"\"}}],\"scatter\":[{\"fillpattern\":{\"fillmode\":\"overlay\",\"size\":10,\"solidity\":0.2},\"type\":\"scatter\"}],\"parcoords\":[{\"type\":\"parcoords\",\"line\":{\"colorbar\":{\"outlinewidth\":0,\"ticks\":\"\"}}}],\"scatterpolargl\":[{\"type\":\"scatterpolargl\",\"marker\":{\"colorbar\":{\"outlinewidth\":0,\"ticks\":\"\"}}}],\"bar\":[{\"error_x\":{\"color\":\"#2a3f5f\"},\"error_y\":{\"color\":\"#2a3f5f\"},\"marker\":{\"line\":{\"color\":\"#E5ECF6\",\"width\":0.5},\"pattern\":{\"fillmode\":\"overlay\",\"size\":10,\"solidity\":0.2}},\"type\":\"bar\"}],\"scattergeo\":[{\"type\":\"scattergeo\",\"marker\":{\"colorbar\":{\"outlinewidth\":0,\"ticks\":\"\"}}}],\"scatterpolar\":[{\"type\":\"scatterpolar\",\"marker\":{\"colorbar\":{\"outlinewidth\":0,\"ticks\":\"\"}}}],\"histogram\":[{\"marker\":{\"pattern\":{\"fillmode\":\"overlay\",\"size\":10,\"solidity\":0.2}},\"type\":\"histogram\"}],\"scattergl\":[{\"type\":\"scattergl\",\"marker\":{\"colorbar\":{\"outlinewidth\":0,\"ticks\":\"\"}}}],\"scatter3d\":[{\"type\":\"scatter3d\",\"line\":{\"colorbar\":{\"outlinewidth\":0,\"ticks\":\"\"}},\"marker\":{\"colorbar\":{\"outlinewidth\":0,\"ticks\":\"\"}}}],\"scattermapbox\":[{\"type\":\"scattermapbox\",\"marker\":{\"colorbar\":{\"outlinewidth\":0,\"ticks\":\"\"}}}],\"scatterternary\":[{\"type\":\"scatterternary\",\"marker\":{\"colorbar\":{\"outlinewidth\":0,\"ticks\":\"\"}}}],\"scattercarpet\":[{\"type\":\"scattercarpet\",\"marker\":{\"colorbar\":{\"outlinewidth\":0,\"ticks\":\"\"}}}],\"carpet\":[{\"aaxis\":{\"endlinecolor\":\"#2a3f5f\",\"gridcolor\":\"white\",\"linecolor\":\"white\",\"minorgridcolor\":\"white\",\"startlinecolor\":\"#2a3f5f\"},\"baxis\":{\"endlinecolor\":\"#2a3f5f\",\"gridcolor\":\"white\",\"linecolor\":\"white\",\"minorgridcolor\":\"white\",\"startlinecolor\":\"#2a3f5f\"},\"type\":\"carpet\"}],\"table\":[{\"cells\":{\"fill\":{\"color\":\"#EBF0F8\"},\"line\":{\"color\":\"white\"}},\"header\":{\"fill\":{\"color\":\"#C8D4E3\"},\"line\":{\"color\":\"white\"}},\"type\":\"table\"}],\"barpolar\":[{\"marker\":{\"line\":{\"color\":\"#E5ECF6\",\"width\":0.5},\"pattern\":{\"fillmode\":\"overlay\",\"size\":10,\"solidity\":0.2}},\"type\":\"barpolar\"}],\"pie\":[{\"automargin\":true,\"type\":\"pie\"}]},\"layout\":{\"autotypenumbers\":\"strict\",\"colorway\":[\"#636efa\",\"#EF553B\",\"#00cc96\",\"#ab63fa\",\"#FFA15A\",\"#19d3f3\",\"#FF6692\",\"#B6E880\",\"#FF97FF\",\"#FECB52\"],\"font\":{\"color\":\"#2a3f5f\"},\"hovermode\":\"closest\",\"hoverlabel\":{\"align\":\"left\"},\"paper_bgcolor\":\"white\",\"plot_bgcolor\":\"#E5ECF6\",\"polar\":{\"bgcolor\":\"#E5ECF6\",\"angularaxis\":{\"gridcolor\":\"white\",\"linecolor\":\"white\",\"ticks\":\"\"},\"radialaxis\":{\"gridcolor\":\"white\",\"linecolor\":\"white\",\"ticks\":\"\"}},\"ternary\":{\"bgcolor\":\"#E5ECF6\",\"aaxis\":{\"gridcolor\":\"white\",\"linecolor\":\"white\",\"ticks\":\"\"},\"baxis\":{\"gridcolor\":\"white\",\"linecolor\":\"white\",\"ticks\":\"\"},\"caxis\":{\"gridcolor\":\"white\",\"linecolor\":\"white\",\"ticks\":\"\"}},\"coloraxis\":{\"colorbar\":{\"outlinewidth\":0,\"ticks\":\"\"}},\"colorscale\":{\"sequential\":[[0.0,\"#0d0887\"],[0.1111111111111111,\"#46039f\"],[0.2222222222222222,\"#7201a8\"],[0.3333333333333333,\"#9c179e\"],[0.4444444444444444,\"#bd3786\"],[0.5555555555555556,\"#d8576b\"],[0.6666666666666666,\"#ed7953\"],[0.7777777777777778,\"#fb9f3a\"],[0.8888888888888888,\"#fdca26\"],[1.0,\"#f0f921\"]],\"sequentialminus\":[[0.0,\"#0d0887\"],[0.1111111111111111,\"#46039f\"],[0.2222222222222222,\"#7201a8\"],[0.3333333333333333,\"#9c179e\"],[0.4444444444444444,\"#bd3786\"],[0.5555555555555556,\"#d8576b\"],[0.6666666666666666,\"#ed7953\"],[0.7777777777777778,\"#fb9f3a\"],[0.8888888888888888,\"#fdca26\"],[1.0,\"#f0f921\"]],\"diverging\":[[0,\"#8e0152\"],[0.1,\"#c51b7d\"],[0.2,\"#de77ae\"],[0.3,\"#f1b6da\"],[0.4,\"#fde0ef\"],[0.5,\"#f7f7f7\"],[0.6,\"#e6f5d0\"],[0.7,\"#b8e186\"],[0.8,\"#7fbc41\"],[0.9,\"#4d9221\"],[1,\"#276419\"]]},\"xaxis\":{\"gridcolor\":\"white\",\"linecolor\":\"white\",\"ticks\":\"\",\"title\":{\"standoff\":15},\"zerolinecolor\":\"white\",\"automargin\":true,\"zerolinewidth\":2},\"yaxis\":{\"gridcolor\":\"white\",\"linecolor\":\"white\",\"ticks\":\"\",\"title\":{\"standoff\":15},\"zerolinecolor\":\"white\",\"automargin\":true,\"zerolinewidth\":2},\"scene\":{\"xaxis\":{\"backgroundcolor\":\"#E5ECF6\",\"gridcolor\":\"white\",\"linecolor\":\"white\",\"showbackground\":true,\"ticks\":\"\",\"zerolinecolor\":\"white\",\"gridwidth\":2},\"yaxis\":{\"backgroundcolor\":\"#E5ECF6\",\"gridcolor\":\"white\",\"linecolor\":\"white\",\"showbackground\":true,\"ticks\":\"\",\"zerolinecolor\":\"white\",\"gridwidth\":2},\"zaxis\":{\"backgroundcolor\":\"#E5ECF6\",\"gridcolor\":\"white\",\"linecolor\":\"white\",\"showbackground\":true,\"ticks\":\"\",\"zerolinecolor\":\"white\",\"gridwidth\":2}},\"shapedefaults\":{\"line\":{\"color\":\"#2a3f5f\"}},\"annotationdefaults\":{\"arrowcolor\":\"#2a3f5f\",\"arrowhead\":0,\"arrowwidth\":1},\"geo\":{\"bgcolor\":\"white\",\"landcolor\":\"#E5ECF6\",\"subunitcolor\":\"white\",\"showland\":true,\"showlakes\":true,\"lakecolor\":\"white\"},\"title\":{\"x\":0.05},\"mapbox\":{\"style\":\"light\"}}},\"xaxis\":{\"anchor\":\"y\",\"domain\":[0.0,1.0],\"scaleanchor\":\"y\",\"constrain\":\"domain\"},\"yaxis\":{\"anchor\":\"x\",\"domain\":[0.0,1.0],\"autorange\":\"reversed\",\"constrain\":\"domain\"},\"coloraxis\":{\"colorbar\":{\"title\":{\"text\":\"Correlation\"}},\"colorscale\":[[0.0,\"#0d0887\"],[0.1111111111111111,\"#46039f\"],[0.2222222222222222,\"#7201a8\"],[0.3333333333333333,\"#9c179e\"],[0.4444444444444444,\"#bd3786\"],[0.5555555555555556,\"#d8576b\"],[0.6666666666666666,\"#ed7953\"],[0.7777777777777778,\"#fb9f3a\"],[0.8888888888888888,\"#fdca26\"],[1.0,\"#f0f921\"]]},\"title\":{\"text\":\"Correlation Heatmap of Features\"}},                        {\"responsive\": true}                    ).then(function(){\n",
       "                            \n",
       "var gd = document.getElementById('cc8b94ce-a1c3-4bae-884a-ceb798f06db4');\n",
       "var x = new MutationObserver(function (mutations, observer) {{\n",
       "        var display = window.getComputedStyle(gd).display;\n",
       "        if (!display || display === 'none') {{\n",
       "            console.log([gd, 'removed!']);\n",
       "            Plotly.purge(gd);\n",
       "            observer.disconnect();\n",
       "        }}\n",
       "}});\n",
       "\n",
       "// Listen for the removal of the full notebook cells\n",
       "var notebookContainer = gd.closest('#notebook-container');\n",
       "if (notebookContainer) {{\n",
       "    x.observe(notebookContainer, {childList: true});\n",
       "}}\n",
       "\n",
       "// Listen for the clearing of the current output cell\n",
       "var outputEl = gd.closest('.output');\n",
       "if (outputEl) {{\n",
       "    x.observe(outputEl, {childList: true});\n",
       "}}\n",
       "\n",
       "                        })                };                });            </script>        </div>"
      ]
     },
     "metadata": {},
     "output_type": "display_data"
    }
   ],
   "source": [
    "correlation_matrix = df_corr.corr()\n",
    "\n",
    "fig = px.imshow(correlation_matrix,\n",
    "                labels=dict(color=\"Correlation\"),\n",
    "                x=correlation_matrix.index,\n",
    "                y=correlation_matrix.columns,\n",
    "                color_continuous_scale='Plasma',\n",
    "                title='Correlation Heatmap of Features')\n",
    "\n",
    "# Show the plot\n",
    "fig.show()"
   ]
  },
  {
   "cell_type": "code",
   "execution_count": 27,
   "id": "5b1022cc",
   "metadata": {
    "execution": {
     "iopub.execute_input": "2024-01-04T08:56:19.968168Z",
     "iopub.status.busy": "2024-01-04T08:56:19.966959Z",
     "iopub.status.idle": "2024-01-04T08:56:20.001919Z",
     "shell.execute_reply": "2024-01-04T08:56:20.000373Z"
    },
    "papermill": {
     "duration": 0.059277,
     "end_time": "2024-01-04T08:56:20.005416",
     "exception": false,
     "start_time": "2024-01-04T08:56:19.946139",
     "status": "completed"
    },
    "tags": []
   },
   "outputs": [
    {
     "data": {
      "text/plain": [
       "tackle               1.000000\n",
       "passLength           0.154934\n",
       "_CB                  0.106028\n",
       "passProbability      0.099034\n",
       "passResult           0.031919\n",
       "_FS                  0.030577\n",
       "forcedFumble         0.028754\n",
       "_SS                  0.022230\n",
       "playResult           0.012940\n",
       "_DB                  0.004103\n",
       "_MLB                -0.004003\n",
       "_ILB                -0.007719\n",
       "_OLB                -0.036505\n",
       "_NT                 -0.038472\n",
       "_DE                 -0.055614\n",
       "defendersInTheBox   -0.065325\n",
       "_DT                 -0.077428\n",
       "height              -0.089990\n",
       "weight              -0.134979\n",
       "pff_missedTackle    -0.411859\n",
       "assist              -0.779989\n",
       "Name: tackle, dtype: float64"
      ]
     },
     "execution_count": 27,
     "metadata": {},
     "output_type": "execute_result"
    }
   ],
   "source": [
    "correlation_matrix = df_corr.corr()\n",
    "tackle_correlation = correlation_matrix['tackle'].sort_values(ascending=False)\n",
    "tackle_correlation"
   ]
  },
  {
   "cell_type": "code",
   "execution_count": 28,
   "id": "43a57885",
   "metadata": {
    "execution": {
     "iopub.execute_input": "2024-01-04T08:56:20.046090Z",
     "iopub.status.busy": "2024-01-04T08:56:20.045442Z",
     "iopub.status.idle": "2024-01-04T08:56:20.054712Z",
     "shell.execute_reply": "2024-01-04T08:56:20.053545Z"
    },
    "papermill": {
     "duration": 0.032815,
     "end_time": "2024-01-04T08:56:20.056949",
     "exception": false,
     "start_time": "2024-01-04T08:56:20.024134",
     "status": "completed"
    },
    "tags": []
   },
   "outputs": [
    {
     "data": {
      "text/plain": [
       "tackle               1.000000\n",
       "passLength           0.154934\n",
       "_CB                  0.106028\n",
       "passProbability      0.099034\n",
       "passResult           0.031919\n",
       "_FS                  0.030577\n",
       "forcedFumble         0.028754\n",
       "_SS                  0.022230\n",
       "playResult           0.012940\n",
       "_DB                  0.004103\n",
       "_MLB                -0.004003\n",
       "_ILB                -0.007719\n",
       "_OLB                -0.036505\n",
       "_NT                 -0.038472\n",
       "_DE                 -0.055614\n",
       "defendersInTheBox   -0.065325\n",
       "_DT                 -0.077428\n",
       "height              -0.089990\n",
       "weight              -0.134979\n",
       "pff_missedTackle    -0.411859\n",
       "assist              -0.779989\n",
       "Name: tackle, dtype: float64"
      ]
     },
     "execution_count": 28,
     "metadata": {},
     "output_type": "execute_result"
    }
   ],
   "source": [
    "tackle_correlation"
   ]
  },
  {
   "cell_type": "code",
   "execution_count": 29,
   "id": "6d3cd65b",
   "metadata": {
    "execution": {
     "iopub.execute_input": "2024-01-04T08:56:20.097018Z",
     "iopub.status.busy": "2024-01-04T08:56:20.096112Z",
     "iopub.status.idle": "2024-01-04T08:56:20.234996Z",
     "shell.execute_reply": "2024-01-04T08:56:20.234167Z"
    },
    "papermill": {
     "duration": 0.161656,
     "end_time": "2024-01-04T08:56:20.237254",
     "exception": false,
     "start_time": "2024-01-04T08:56:20.075598",
     "status": "completed"
    },
    "tags": []
   },
   "outputs": [
    {
     "data": {
      "text/html": [
       "<div>                            <div id=\"559819d5-84cb-4225-8f2e-5f535fbe9cbc\" class=\"plotly-graph-div\" style=\"height:525px; width:100%;\"></div>            <script type=\"text/javascript\">                require([\"plotly\"], function(Plotly) {                    window.PLOTLYENV=window.PLOTLYENV || {};                                    if (document.getElementById(\"559819d5-84cb-4225-8f2e-5f535fbe9cbc\")) {                    Plotly.newPlot(                        \"559819d5-84cb-4225-8f2e-5f535fbe9cbc\",                        [{\"alignmentgroup\":\"True\",\"hovertemplate\":\"Correlation=%{x}\\u003cbr\\u003eColumns=%{y}\\u003cextra\\u003e\\u003c\\u002fextra\\u003e\",\"legendgroup\":\"\",\"marker\":{\"color\":\"#636efa\",\"pattern\":{\"shape\":\"\"}},\"name\":\"\",\"offsetgroup\":\"\",\"orientation\":\"h\",\"showlegend\":false,\"textposition\":\"auto\",\"x\":[1.0,0.15493350492181435,0.10602801317557495,0.09903426228981194,0.03191946255916639,0.030576500768886128,0.0287538164392656,0.02222958541589129,0.012940321414016886,0.004102585521932836,-0.0040029217265070164,-0.00771871954109373,-0.036505026752977156,-0.03847242644800612,-0.05561382416737143,-0.0653245806678806,-0.07742821631933659,-0.08999015443307985,-0.1349792266021123,-0.41185932003618525,-0.7799889360867911],\"xaxis\":\"x\",\"y\":[\"tackle\",\"passLength\",\"_CB\",\"passProbability\",\"passResult\",\"_FS\",\"forcedFumble\",\"_SS\",\"playResult\",\"_DB\",\"_MLB\",\"_ILB\",\"_OLB\",\"_NT\",\"_DE\",\"defendersInTheBox\",\"_DT\",\"height\",\"weight\",\"pff_missedTackle\",\"assist\"],\"yaxis\":\"y\",\"type\":\"bar\"}],                        {\"template\":{\"data\":{\"histogram2dcontour\":[{\"type\":\"histogram2dcontour\",\"colorbar\":{\"outlinewidth\":0,\"ticks\":\"\"},\"colorscale\":[[0.0,\"#0d0887\"],[0.1111111111111111,\"#46039f\"],[0.2222222222222222,\"#7201a8\"],[0.3333333333333333,\"#9c179e\"],[0.4444444444444444,\"#bd3786\"],[0.5555555555555556,\"#d8576b\"],[0.6666666666666666,\"#ed7953\"],[0.7777777777777778,\"#fb9f3a\"],[0.8888888888888888,\"#fdca26\"],[1.0,\"#f0f921\"]]}],\"choropleth\":[{\"type\":\"choropleth\",\"colorbar\":{\"outlinewidth\":0,\"ticks\":\"\"}}],\"histogram2d\":[{\"type\":\"histogram2d\",\"colorbar\":{\"outlinewidth\":0,\"ticks\":\"\"},\"colorscale\":[[0.0,\"#0d0887\"],[0.1111111111111111,\"#46039f\"],[0.2222222222222222,\"#7201a8\"],[0.3333333333333333,\"#9c179e\"],[0.4444444444444444,\"#bd3786\"],[0.5555555555555556,\"#d8576b\"],[0.6666666666666666,\"#ed7953\"],[0.7777777777777778,\"#fb9f3a\"],[0.8888888888888888,\"#fdca26\"],[1.0,\"#f0f921\"]]}],\"heatmap\":[{\"type\":\"heatmap\",\"colorbar\":{\"outlinewidth\":0,\"ticks\":\"\"},\"colorscale\":[[0.0,\"#0d0887\"],[0.1111111111111111,\"#46039f\"],[0.2222222222222222,\"#7201a8\"],[0.3333333333333333,\"#9c179e\"],[0.4444444444444444,\"#bd3786\"],[0.5555555555555556,\"#d8576b\"],[0.6666666666666666,\"#ed7953\"],[0.7777777777777778,\"#fb9f3a\"],[0.8888888888888888,\"#fdca26\"],[1.0,\"#f0f921\"]]}],\"heatmapgl\":[{\"type\":\"heatmapgl\",\"colorbar\":{\"outlinewidth\":0,\"ticks\":\"\"},\"colorscale\":[[0.0,\"#0d0887\"],[0.1111111111111111,\"#46039f\"],[0.2222222222222222,\"#7201a8\"],[0.3333333333333333,\"#9c179e\"],[0.4444444444444444,\"#bd3786\"],[0.5555555555555556,\"#d8576b\"],[0.6666666666666666,\"#ed7953\"],[0.7777777777777778,\"#fb9f3a\"],[0.8888888888888888,\"#fdca26\"],[1.0,\"#f0f921\"]]}],\"contourcarpet\":[{\"type\":\"contourcarpet\",\"colorbar\":{\"outlinewidth\":0,\"ticks\":\"\"}}],\"contour\":[{\"type\":\"contour\",\"colorbar\":{\"outlinewidth\":0,\"ticks\":\"\"},\"colorscale\":[[0.0,\"#0d0887\"],[0.1111111111111111,\"#46039f\"],[0.2222222222222222,\"#7201a8\"],[0.3333333333333333,\"#9c179e\"],[0.4444444444444444,\"#bd3786\"],[0.5555555555555556,\"#d8576b\"],[0.6666666666666666,\"#ed7953\"],[0.7777777777777778,\"#fb9f3a\"],[0.8888888888888888,\"#fdca26\"],[1.0,\"#f0f921\"]]}],\"surface\":[{\"type\":\"surface\",\"colorbar\":{\"outlinewidth\":0,\"ticks\":\"\"},\"colorscale\":[[0.0,\"#0d0887\"],[0.1111111111111111,\"#46039f\"],[0.2222222222222222,\"#7201a8\"],[0.3333333333333333,\"#9c179e\"],[0.4444444444444444,\"#bd3786\"],[0.5555555555555556,\"#d8576b\"],[0.6666666666666666,\"#ed7953\"],[0.7777777777777778,\"#fb9f3a\"],[0.8888888888888888,\"#fdca26\"],[1.0,\"#f0f921\"]]}],\"mesh3d\":[{\"type\":\"mesh3d\",\"colorbar\":{\"outlinewidth\":0,\"ticks\":\"\"}}],\"scatter\":[{\"fillpattern\":{\"fillmode\":\"overlay\",\"size\":10,\"solidity\":0.2},\"type\":\"scatter\"}],\"parcoords\":[{\"type\":\"parcoords\",\"line\":{\"colorbar\":{\"outlinewidth\":0,\"ticks\":\"\"}}}],\"scatterpolargl\":[{\"type\":\"scatterpolargl\",\"marker\":{\"colorbar\":{\"outlinewidth\":0,\"ticks\":\"\"}}}],\"bar\":[{\"error_x\":{\"color\":\"#2a3f5f\"},\"error_y\":{\"color\":\"#2a3f5f\"},\"marker\":{\"line\":{\"color\":\"#E5ECF6\",\"width\":0.5},\"pattern\":{\"fillmode\":\"overlay\",\"size\":10,\"solidity\":0.2}},\"type\":\"bar\"}],\"scattergeo\":[{\"type\":\"scattergeo\",\"marker\":{\"colorbar\":{\"outlinewidth\":0,\"ticks\":\"\"}}}],\"scatterpolar\":[{\"type\":\"scatterpolar\",\"marker\":{\"colorbar\":{\"outlinewidth\":0,\"ticks\":\"\"}}}],\"histogram\":[{\"marker\":{\"pattern\":{\"fillmode\":\"overlay\",\"size\":10,\"solidity\":0.2}},\"type\":\"histogram\"}],\"scattergl\":[{\"type\":\"scattergl\",\"marker\":{\"colorbar\":{\"outlinewidth\":0,\"ticks\":\"\"}}}],\"scatter3d\":[{\"type\":\"scatter3d\",\"line\":{\"colorbar\":{\"outlinewidth\":0,\"ticks\":\"\"}},\"marker\":{\"colorbar\":{\"outlinewidth\":0,\"ticks\":\"\"}}}],\"scattermapbox\":[{\"type\":\"scattermapbox\",\"marker\":{\"colorbar\":{\"outlinewidth\":0,\"ticks\":\"\"}}}],\"scatterternary\":[{\"type\":\"scatterternary\",\"marker\":{\"colorbar\":{\"outlinewidth\":0,\"ticks\":\"\"}}}],\"scattercarpet\":[{\"type\":\"scattercarpet\",\"marker\":{\"colorbar\":{\"outlinewidth\":0,\"ticks\":\"\"}}}],\"carpet\":[{\"aaxis\":{\"endlinecolor\":\"#2a3f5f\",\"gridcolor\":\"white\",\"linecolor\":\"white\",\"minorgridcolor\":\"white\",\"startlinecolor\":\"#2a3f5f\"},\"baxis\":{\"endlinecolor\":\"#2a3f5f\",\"gridcolor\":\"white\",\"linecolor\":\"white\",\"minorgridcolor\":\"white\",\"startlinecolor\":\"#2a3f5f\"},\"type\":\"carpet\"}],\"table\":[{\"cells\":{\"fill\":{\"color\":\"#EBF0F8\"},\"line\":{\"color\":\"white\"}},\"header\":{\"fill\":{\"color\":\"#C8D4E3\"},\"line\":{\"color\":\"white\"}},\"type\":\"table\"}],\"barpolar\":[{\"marker\":{\"line\":{\"color\":\"#E5ECF6\",\"width\":0.5},\"pattern\":{\"fillmode\":\"overlay\",\"size\":10,\"solidity\":0.2}},\"type\":\"barpolar\"}],\"pie\":[{\"automargin\":true,\"type\":\"pie\"}]},\"layout\":{\"autotypenumbers\":\"strict\",\"colorway\":[\"#636efa\",\"#EF553B\",\"#00cc96\",\"#ab63fa\",\"#FFA15A\",\"#19d3f3\",\"#FF6692\",\"#B6E880\",\"#FF97FF\",\"#FECB52\"],\"font\":{\"color\":\"#2a3f5f\"},\"hovermode\":\"closest\",\"hoverlabel\":{\"align\":\"left\"},\"paper_bgcolor\":\"white\",\"plot_bgcolor\":\"#E5ECF6\",\"polar\":{\"bgcolor\":\"#E5ECF6\",\"angularaxis\":{\"gridcolor\":\"white\",\"linecolor\":\"white\",\"ticks\":\"\"},\"radialaxis\":{\"gridcolor\":\"white\",\"linecolor\":\"white\",\"ticks\":\"\"}},\"ternary\":{\"bgcolor\":\"#E5ECF6\",\"aaxis\":{\"gridcolor\":\"white\",\"linecolor\":\"white\",\"ticks\":\"\"},\"baxis\":{\"gridcolor\":\"white\",\"linecolor\":\"white\",\"ticks\":\"\"},\"caxis\":{\"gridcolor\":\"white\",\"linecolor\":\"white\",\"ticks\":\"\"}},\"coloraxis\":{\"colorbar\":{\"outlinewidth\":0,\"ticks\":\"\"}},\"colorscale\":{\"sequential\":[[0.0,\"#0d0887\"],[0.1111111111111111,\"#46039f\"],[0.2222222222222222,\"#7201a8\"],[0.3333333333333333,\"#9c179e\"],[0.4444444444444444,\"#bd3786\"],[0.5555555555555556,\"#d8576b\"],[0.6666666666666666,\"#ed7953\"],[0.7777777777777778,\"#fb9f3a\"],[0.8888888888888888,\"#fdca26\"],[1.0,\"#f0f921\"]],\"sequentialminus\":[[0.0,\"#0d0887\"],[0.1111111111111111,\"#46039f\"],[0.2222222222222222,\"#7201a8\"],[0.3333333333333333,\"#9c179e\"],[0.4444444444444444,\"#bd3786\"],[0.5555555555555556,\"#d8576b\"],[0.6666666666666666,\"#ed7953\"],[0.7777777777777778,\"#fb9f3a\"],[0.8888888888888888,\"#fdca26\"],[1.0,\"#f0f921\"]],\"diverging\":[[0,\"#8e0152\"],[0.1,\"#c51b7d\"],[0.2,\"#de77ae\"],[0.3,\"#f1b6da\"],[0.4,\"#fde0ef\"],[0.5,\"#f7f7f7\"],[0.6,\"#e6f5d0\"],[0.7,\"#b8e186\"],[0.8,\"#7fbc41\"],[0.9,\"#4d9221\"],[1,\"#276419\"]]},\"xaxis\":{\"gridcolor\":\"white\",\"linecolor\":\"white\",\"ticks\":\"\",\"title\":{\"standoff\":15},\"zerolinecolor\":\"white\",\"automargin\":true,\"zerolinewidth\":2},\"yaxis\":{\"gridcolor\":\"white\",\"linecolor\":\"white\",\"ticks\":\"\",\"title\":{\"standoff\":15},\"zerolinecolor\":\"white\",\"automargin\":true,\"zerolinewidth\":2},\"scene\":{\"xaxis\":{\"backgroundcolor\":\"#E5ECF6\",\"gridcolor\":\"white\",\"linecolor\":\"white\",\"showbackground\":true,\"ticks\":\"\",\"zerolinecolor\":\"white\",\"gridwidth\":2},\"yaxis\":{\"backgroundcolor\":\"#E5ECF6\",\"gridcolor\":\"white\",\"linecolor\":\"white\",\"showbackground\":true,\"ticks\":\"\",\"zerolinecolor\":\"white\",\"gridwidth\":2},\"zaxis\":{\"backgroundcolor\":\"#E5ECF6\",\"gridcolor\":\"white\",\"linecolor\":\"white\",\"showbackground\":true,\"ticks\":\"\",\"zerolinecolor\":\"white\",\"gridwidth\":2}},\"shapedefaults\":{\"line\":{\"color\":\"#2a3f5f\"}},\"annotationdefaults\":{\"arrowcolor\":\"#2a3f5f\",\"arrowhead\":0,\"arrowwidth\":1},\"geo\":{\"bgcolor\":\"white\",\"landcolor\":\"#E5ECF6\",\"subunitcolor\":\"white\",\"showland\":true,\"showlakes\":true,\"lakecolor\":\"white\"},\"title\":{\"x\":0.05},\"mapbox\":{\"style\":\"light\"}}},\"xaxis\":{\"anchor\":\"y\",\"domain\":[0.0,1.0],\"title\":{\"text\":\"Correlation\"}},\"yaxis\":{\"anchor\":\"x\",\"domain\":[0.0,1.0],\"title\":{\"text\":\"Columns\"}},\"legend\":{\"tracegroupgap\":0},\"title\":{\"text\":\"Correlation with Tackles\"},\"barmode\":\"relative\"},                        {\"responsive\": true}                    ).then(function(){\n",
       "                            \n",
       "var gd = document.getElementById('559819d5-84cb-4225-8f2e-5f535fbe9cbc');\n",
       "var x = new MutationObserver(function (mutations, observer) {{\n",
       "        var display = window.getComputedStyle(gd).display;\n",
       "        if (!display || display === 'none') {{\n",
       "            console.log([gd, 'removed!']);\n",
       "            Plotly.purge(gd);\n",
       "            observer.disconnect();\n",
       "        }}\n",
       "}});\n",
       "\n",
       "// Listen for the removal of the full notebook cells\n",
       "var notebookContainer = gd.closest('#notebook-container');\n",
       "if (notebookContainer) {{\n",
       "    x.observe(notebookContainer, {childList: true});\n",
       "}}\n",
       "\n",
       "// Listen for the clearing of the current output cell\n",
       "var outputEl = gd.closest('.output');\n",
       "if (outputEl) {{\n",
       "    x.observe(outputEl, {childList: true});\n",
       "}}\n",
       "\n",
       "                        })                };                });            </script>        </div>"
      ]
     },
     "metadata": {},
     "output_type": "display_data"
    }
   ],
   "source": [
    "# Create a horizontal bar chart for correlation with tackle \n",
    "fig1 = px.bar(x=tackle_correlation.values,\n",
    "             y=tackle_correlation.index,\n",
    "             orientation='h',\n",
    "             labels={'x': 'Correlation', 'y': 'Columns'},\n",
    "             title='Correlation with Tackles')\n",
    "fig1.show()"
   ]
  },
  {
   "cell_type": "markdown",
   "id": "673e4a2b",
   "metadata": {
    "papermill": {
     "duration": 0.019544,
     "end_time": "2024-01-04T08:56:20.277006",
     "exception": false,
     "start_time": "2024-01-04T08:56:20.257462",
     "status": "completed"
    },
    "tags": []
   },
   "source": [
    "#### Columns having lower correlation values are those from height to passProbability. We can eliminate those columns."
   ]
  },
  {
   "cell_type": "code",
   "execution_count": 30,
   "id": "91e29db4",
   "metadata": {
    "execution": {
     "iopub.execute_input": "2024-01-04T08:56:20.315981Z",
     "iopub.status.busy": "2024-01-04T08:56:20.315322Z",
     "iopub.status.idle": "2024-01-04T08:56:20.320540Z",
     "shell.execute_reply": "2024-01-04T08:56:20.319719Z"
    },
    "papermill": {
     "duration": 0.027606,
     "end_time": "2024-01-04T08:56:20.323116",
     "exception": false,
     "start_time": "2024-01-04T08:56:20.295510",
     "status": "completed"
    },
    "tags": []
   },
   "outputs": [],
   "source": [
    "tackle_correlation = tackle_correlation[(tackle_correlation>0.1)|(tackle_correlation<-0.1)]"
   ]
  },
  {
   "cell_type": "code",
   "execution_count": 31,
   "id": "89730812",
   "metadata": {
    "execution": {
     "iopub.execute_input": "2024-01-04T08:56:20.366191Z",
     "iopub.status.busy": "2024-01-04T08:56:20.365545Z",
     "iopub.status.idle": "2024-01-04T08:56:20.439892Z",
     "shell.execute_reply": "2024-01-04T08:56:20.438619Z"
    },
    "papermill": {
     "duration": 0.098374,
     "end_time": "2024-01-04T08:56:20.442540",
     "exception": false,
     "start_time": "2024-01-04T08:56:20.344166",
     "status": "completed"
    },
    "tags": []
   },
   "outputs": [
    {
     "data": {
      "text/html": [
       "<div>                            <div id=\"5ffa2a14-e4af-4318-a158-a19d0b000b90\" class=\"plotly-graph-div\" style=\"height:525px; width:100%;\"></div>            <script type=\"text/javascript\">                require([\"plotly\"], function(Plotly) {                    window.PLOTLYENV=window.PLOTLYENV || {};                                    if (document.getElementById(\"5ffa2a14-e4af-4318-a158-a19d0b000b90\")) {                    Plotly.newPlot(                        \"5ffa2a14-e4af-4318-a158-a19d0b000b90\",                        [{\"alignmentgroup\":\"True\",\"hovertemplate\":\"Correlation=%{x}\\u003cbr\\u003eColumns=%{y}\\u003cbr\\u003ecolor=%{marker.color}\\u003cextra\\u003e\\u003c\\u002fextra\\u003e\",\"legendgroup\":\"\",\"marker\":{\"color\":[1.0,0.15493350492181435,0.10602801317557495,-0.1349792266021123,-0.41185932003618525,-0.7799889360867911],\"coloraxis\":\"coloraxis\",\"pattern\":{\"shape\":\"\"}},\"name\":\"\",\"offsetgroup\":\"\",\"orientation\":\"h\",\"showlegend\":false,\"textposition\":\"auto\",\"x\":[1.0,0.15493350492181435,0.10602801317557495,-0.1349792266021123,-0.41185932003618525,-0.7799889360867911],\"xaxis\":\"x\",\"y\":[\"tackle\",\"passLength\",\"_CB\",\"weight\",\"pff_missedTackle\",\"assist\"],\"yaxis\":\"y\",\"type\":\"bar\"}],                        {\"template\":{\"data\":{\"histogram2dcontour\":[{\"type\":\"histogram2dcontour\",\"colorbar\":{\"outlinewidth\":0,\"ticks\":\"\"},\"colorscale\":[[0.0,\"#0d0887\"],[0.1111111111111111,\"#46039f\"],[0.2222222222222222,\"#7201a8\"],[0.3333333333333333,\"#9c179e\"],[0.4444444444444444,\"#bd3786\"],[0.5555555555555556,\"#d8576b\"],[0.6666666666666666,\"#ed7953\"],[0.7777777777777778,\"#fb9f3a\"],[0.8888888888888888,\"#fdca26\"],[1.0,\"#f0f921\"]]}],\"choropleth\":[{\"type\":\"choropleth\",\"colorbar\":{\"outlinewidth\":0,\"ticks\":\"\"}}],\"histogram2d\":[{\"type\":\"histogram2d\",\"colorbar\":{\"outlinewidth\":0,\"ticks\":\"\"},\"colorscale\":[[0.0,\"#0d0887\"],[0.1111111111111111,\"#46039f\"],[0.2222222222222222,\"#7201a8\"],[0.3333333333333333,\"#9c179e\"],[0.4444444444444444,\"#bd3786\"],[0.5555555555555556,\"#d8576b\"],[0.6666666666666666,\"#ed7953\"],[0.7777777777777778,\"#fb9f3a\"],[0.8888888888888888,\"#fdca26\"],[1.0,\"#f0f921\"]]}],\"heatmap\":[{\"type\":\"heatmap\",\"colorbar\":{\"outlinewidth\":0,\"ticks\":\"\"},\"colorscale\":[[0.0,\"#0d0887\"],[0.1111111111111111,\"#46039f\"],[0.2222222222222222,\"#7201a8\"],[0.3333333333333333,\"#9c179e\"],[0.4444444444444444,\"#bd3786\"],[0.5555555555555556,\"#d8576b\"],[0.6666666666666666,\"#ed7953\"],[0.7777777777777778,\"#fb9f3a\"],[0.8888888888888888,\"#fdca26\"],[1.0,\"#f0f921\"]]}],\"heatmapgl\":[{\"type\":\"heatmapgl\",\"colorbar\":{\"outlinewidth\":0,\"ticks\":\"\"},\"colorscale\":[[0.0,\"#0d0887\"],[0.1111111111111111,\"#46039f\"],[0.2222222222222222,\"#7201a8\"],[0.3333333333333333,\"#9c179e\"],[0.4444444444444444,\"#bd3786\"],[0.5555555555555556,\"#d8576b\"],[0.6666666666666666,\"#ed7953\"],[0.7777777777777778,\"#fb9f3a\"],[0.8888888888888888,\"#fdca26\"],[1.0,\"#f0f921\"]]}],\"contourcarpet\":[{\"type\":\"contourcarpet\",\"colorbar\":{\"outlinewidth\":0,\"ticks\":\"\"}}],\"contour\":[{\"type\":\"contour\",\"colorbar\":{\"outlinewidth\":0,\"ticks\":\"\"},\"colorscale\":[[0.0,\"#0d0887\"],[0.1111111111111111,\"#46039f\"],[0.2222222222222222,\"#7201a8\"],[0.3333333333333333,\"#9c179e\"],[0.4444444444444444,\"#bd3786\"],[0.5555555555555556,\"#d8576b\"],[0.6666666666666666,\"#ed7953\"],[0.7777777777777778,\"#fb9f3a\"],[0.8888888888888888,\"#fdca26\"],[1.0,\"#f0f921\"]]}],\"surface\":[{\"type\":\"surface\",\"colorbar\":{\"outlinewidth\":0,\"ticks\":\"\"},\"colorscale\":[[0.0,\"#0d0887\"],[0.1111111111111111,\"#46039f\"],[0.2222222222222222,\"#7201a8\"],[0.3333333333333333,\"#9c179e\"],[0.4444444444444444,\"#bd3786\"],[0.5555555555555556,\"#d8576b\"],[0.6666666666666666,\"#ed7953\"],[0.7777777777777778,\"#fb9f3a\"],[0.8888888888888888,\"#fdca26\"],[1.0,\"#f0f921\"]]}],\"mesh3d\":[{\"type\":\"mesh3d\",\"colorbar\":{\"outlinewidth\":0,\"ticks\":\"\"}}],\"scatter\":[{\"fillpattern\":{\"fillmode\":\"overlay\",\"size\":10,\"solidity\":0.2},\"type\":\"scatter\"}],\"parcoords\":[{\"type\":\"parcoords\",\"line\":{\"colorbar\":{\"outlinewidth\":0,\"ticks\":\"\"}}}],\"scatterpolargl\":[{\"type\":\"scatterpolargl\",\"marker\":{\"colorbar\":{\"outlinewidth\":0,\"ticks\":\"\"}}}],\"bar\":[{\"error_x\":{\"color\":\"#2a3f5f\"},\"error_y\":{\"color\":\"#2a3f5f\"},\"marker\":{\"line\":{\"color\":\"#E5ECF6\",\"width\":0.5},\"pattern\":{\"fillmode\":\"overlay\",\"size\":10,\"solidity\":0.2}},\"type\":\"bar\"}],\"scattergeo\":[{\"type\":\"scattergeo\",\"marker\":{\"colorbar\":{\"outlinewidth\":0,\"ticks\":\"\"}}}],\"scatterpolar\":[{\"type\":\"scatterpolar\",\"marker\":{\"colorbar\":{\"outlinewidth\":0,\"ticks\":\"\"}}}],\"histogram\":[{\"marker\":{\"pattern\":{\"fillmode\":\"overlay\",\"size\":10,\"solidity\":0.2}},\"type\":\"histogram\"}],\"scattergl\":[{\"type\":\"scattergl\",\"marker\":{\"colorbar\":{\"outlinewidth\":0,\"ticks\":\"\"}}}],\"scatter3d\":[{\"type\":\"scatter3d\",\"line\":{\"colorbar\":{\"outlinewidth\":0,\"ticks\":\"\"}},\"marker\":{\"colorbar\":{\"outlinewidth\":0,\"ticks\":\"\"}}}],\"scattermapbox\":[{\"type\":\"scattermapbox\",\"marker\":{\"colorbar\":{\"outlinewidth\":0,\"ticks\":\"\"}}}],\"scatterternary\":[{\"type\":\"scatterternary\",\"marker\":{\"colorbar\":{\"outlinewidth\":0,\"ticks\":\"\"}}}],\"scattercarpet\":[{\"type\":\"scattercarpet\",\"marker\":{\"colorbar\":{\"outlinewidth\":0,\"ticks\":\"\"}}}],\"carpet\":[{\"aaxis\":{\"endlinecolor\":\"#2a3f5f\",\"gridcolor\":\"white\",\"linecolor\":\"white\",\"minorgridcolor\":\"white\",\"startlinecolor\":\"#2a3f5f\"},\"baxis\":{\"endlinecolor\":\"#2a3f5f\",\"gridcolor\":\"white\",\"linecolor\":\"white\",\"minorgridcolor\":\"white\",\"startlinecolor\":\"#2a3f5f\"},\"type\":\"carpet\"}],\"table\":[{\"cells\":{\"fill\":{\"color\":\"#EBF0F8\"},\"line\":{\"color\":\"white\"}},\"header\":{\"fill\":{\"color\":\"#C8D4E3\"},\"line\":{\"color\":\"white\"}},\"type\":\"table\"}],\"barpolar\":[{\"marker\":{\"line\":{\"color\":\"#E5ECF6\",\"width\":0.5},\"pattern\":{\"fillmode\":\"overlay\",\"size\":10,\"solidity\":0.2}},\"type\":\"barpolar\"}],\"pie\":[{\"automargin\":true,\"type\":\"pie\"}]},\"layout\":{\"autotypenumbers\":\"strict\",\"colorway\":[\"#636efa\",\"#EF553B\",\"#00cc96\",\"#ab63fa\",\"#FFA15A\",\"#19d3f3\",\"#FF6692\",\"#B6E880\",\"#FF97FF\",\"#FECB52\"],\"font\":{\"color\":\"#2a3f5f\"},\"hovermode\":\"closest\",\"hoverlabel\":{\"align\":\"left\"},\"paper_bgcolor\":\"white\",\"plot_bgcolor\":\"#E5ECF6\",\"polar\":{\"bgcolor\":\"#E5ECF6\",\"angularaxis\":{\"gridcolor\":\"white\",\"linecolor\":\"white\",\"ticks\":\"\"},\"radialaxis\":{\"gridcolor\":\"white\",\"linecolor\":\"white\",\"ticks\":\"\"}},\"ternary\":{\"bgcolor\":\"#E5ECF6\",\"aaxis\":{\"gridcolor\":\"white\",\"linecolor\":\"white\",\"ticks\":\"\"},\"baxis\":{\"gridcolor\":\"white\",\"linecolor\":\"white\",\"ticks\":\"\"},\"caxis\":{\"gridcolor\":\"white\",\"linecolor\":\"white\",\"ticks\":\"\"}},\"coloraxis\":{\"colorbar\":{\"outlinewidth\":0,\"ticks\":\"\"}},\"colorscale\":{\"sequential\":[[0.0,\"#0d0887\"],[0.1111111111111111,\"#46039f\"],[0.2222222222222222,\"#7201a8\"],[0.3333333333333333,\"#9c179e\"],[0.4444444444444444,\"#bd3786\"],[0.5555555555555556,\"#d8576b\"],[0.6666666666666666,\"#ed7953\"],[0.7777777777777778,\"#fb9f3a\"],[0.8888888888888888,\"#fdca26\"],[1.0,\"#f0f921\"]],\"sequentialminus\":[[0.0,\"#0d0887\"],[0.1111111111111111,\"#46039f\"],[0.2222222222222222,\"#7201a8\"],[0.3333333333333333,\"#9c179e\"],[0.4444444444444444,\"#bd3786\"],[0.5555555555555556,\"#d8576b\"],[0.6666666666666666,\"#ed7953\"],[0.7777777777777778,\"#fb9f3a\"],[0.8888888888888888,\"#fdca26\"],[1.0,\"#f0f921\"]],\"diverging\":[[0,\"#8e0152\"],[0.1,\"#c51b7d\"],[0.2,\"#de77ae\"],[0.3,\"#f1b6da\"],[0.4,\"#fde0ef\"],[0.5,\"#f7f7f7\"],[0.6,\"#e6f5d0\"],[0.7,\"#b8e186\"],[0.8,\"#7fbc41\"],[0.9,\"#4d9221\"],[1,\"#276419\"]]},\"xaxis\":{\"gridcolor\":\"white\",\"linecolor\":\"white\",\"ticks\":\"\",\"title\":{\"standoff\":15},\"zerolinecolor\":\"white\",\"automargin\":true,\"zerolinewidth\":2},\"yaxis\":{\"gridcolor\":\"white\",\"linecolor\":\"white\",\"ticks\":\"\",\"title\":{\"standoff\":15},\"zerolinecolor\":\"white\",\"automargin\":true,\"zerolinewidth\":2},\"scene\":{\"xaxis\":{\"backgroundcolor\":\"#E5ECF6\",\"gridcolor\":\"white\",\"linecolor\":\"white\",\"showbackground\":true,\"ticks\":\"\",\"zerolinecolor\":\"white\",\"gridwidth\":2},\"yaxis\":{\"backgroundcolor\":\"#E5ECF6\",\"gridcolor\":\"white\",\"linecolor\":\"white\",\"showbackground\":true,\"ticks\":\"\",\"zerolinecolor\":\"white\",\"gridwidth\":2},\"zaxis\":{\"backgroundcolor\":\"#E5ECF6\",\"gridcolor\":\"white\",\"linecolor\":\"white\",\"showbackground\":true,\"ticks\":\"\",\"zerolinecolor\":\"white\",\"gridwidth\":2}},\"shapedefaults\":{\"line\":{\"color\":\"#2a3f5f\"}},\"annotationdefaults\":{\"arrowcolor\":\"#2a3f5f\",\"arrowhead\":0,\"arrowwidth\":1},\"geo\":{\"bgcolor\":\"white\",\"landcolor\":\"#E5ECF6\",\"subunitcolor\":\"white\",\"showland\":true,\"showlakes\":true,\"lakecolor\":\"white\"},\"title\":{\"x\":0.05},\"mapbox\":{\"style\":\"light\"}}},\"xaxis\":{\"anchor\":\"y\",\"domain\":[0.0,1.0],\"title\":{\"text\":\"Correlation\"}},\"yaxis\":{\"anchor\":\"x\",\"domain\":[0.0,1.0],\"title\":{\"text\":\"Columns\"}},\"coloraxis\":{\"colorbar\":{\"title\":{\"text\":\"color\"}},\"colorscale\":[[0.0,\"#0d0887\"],[0.1111111111111111,\"#46039f\"],[0.2222222222222222,\"#7201a8\"],[0.3333333333333333,\"#9c179e\"],[0.4444444444444444,\"#bd3786\"],[0.5555555555555556,\"#d8576b\"],[0.6666666666666666,\"#ed7953\"],[0.7777777777777778,\"#fb9f3a\"],[0.8888888888888888,\"#fdca26\"],[1.0,\"#f0f921\"]]},\"legend\":{\"tracegroupgap\":0},\"title\":{\"text\":\"Correlation with Tackles\"},\"barmode\":\"relative\"},                        {\"responsive\": true}                    ).then(function(){\n",
       "                            \n",
       "var gd = document.getElementById('5ffa2a14-e4af-4318-a158-a19d0b000b90');\n",
       "var x = new MutationObserver(function (mutations, observer) {{\n",
       "        var display = window.getComputedStyle(gd).display;\n",
       "        if (!display || display === 'none') {{\n",
       "            console.log([gd, 'removed!']);\n",
       "            Plotly.purge(gd);\n",
       "            observer.disconnect();\n",
       "        }}\n",
       "}});\n",
       "\n",
       "// Listen for the removal of the full notebook cells\n",
       "var notebookContainer = gd.closest('#notebook-container');\n",
       "if (notebookContainer) {{\n",
       "    x.observe(notebookContainer, {childList: true});\n",
       "}}\n",
       "\n",
       "// Listen for the clearing of the current output cell\n",
       "var outputEl = gd.closest('.output');\n",
       "if (outputEl) {{\n",
       "    x.observe(outputEl, {childList: true});\n",
       "}}\n",
       "\n",
       "                        })                };                });            </script>        </div>"
      ]
     },
     "metadata": {},
     "output_type": "display_data"
    }
   ],
   "source": [
    "# Create a horizontal bar chart for correlation with tackle \n",
    "fig1 = px.bar(x=tackle_correlation.values,\n",
    "             y=tackle_correlation.index,\n",
    "             orientation='h',\n",
    "             labels={'x': 'Correlation', 'y': 'Columns'},\n",
    "              color = tackle_correlation.values,\n",
    "             title='Correlation with Tackles')\n",
    "fig1.show()"
   ]
  },
  {
   "cell_type": "markdown",
   "id": "c508d5d2",
   "metadata": {
    "papermill": {
     "duration": 0.019362,
     "end_time": "2024-01-04T08:56:20.480858",
     "exception": false,
     "start_time": "2024-01-04T08:56:20.461496",
     "status": "completed"
    },
    "tags": []
   },
   "source": [
    "### Let's observe and interpret:\n",
    "#### 1. Players with assistance are least likely to make successful tackles.\n",
    "#### 2. The higher the weight of a player, the less likely is the tackle.\n",
    "#### 3. Cornerback is the only position that has a positive correlation with the successful tackle rate."
   ]
  },
  {
   "cell_type": "markdown",
   "id": "cba80701",
   "metadata": {
    "papermill": {
     "duration": 0.019368,
     "end_time": "2024-01-04T08:56:20.520083",
     "exception": false,
     "start_time": "2024-01-04T08:56:20.500715",
     "status": "completed"
    },
    "tags": []
   },
   "source": [
    "## Data Visualisation : Animations and More"
   ]
  },
  {
   "cell_type": "markdown",
   "id": "3e75ccdb",
   "metadata": {
    "papermill": {
     "duration": 0.020198,
     "end_time": "2024-01-04T08:56:20.559960",
     "exception": false,
     "start_time": "2024-01-04T08:56:20.539762",
     "status": "completed"
    },
    "tags": []
   },
   "source": [
    "### Let's try and create a dummy of a football field:"
   ]
  },
  {
   "cell_type": "markdown",
   "id": "99baa57d",
   "metadata": {
    "papermill": {
     "duration": 0.020793,
     "end_time": "2024-01-04T08:56:20.600800",
     "exception": false,
     "start_time": "2024-01-04T08:56:20.580007",
     "status": "completed"
    },
    "tags": []
   },
   "source": [
    "#### We will create a function that will take the input of the dataframe, the x and y coordinates of the players, the speed of that play's player, and the display name of the player. These inputs will help us create a proper classification of all plays and players on the visualisation."
   ]
  },
  {
   "cell_type": "code",
   "execution_count": 32,
   "id": "d395d96d",
   "metadata": {
    "execution": {
     "iopub.execute_input": "2024-01-04T08:56:20.643036Z",
     "iopub.status.busy": "2024-01-04T08:56:20.642649Z",
     "iopub.status.idle": "2024-01-04T08:56:20.651854Z",
     "shell.execute_reply": "2024-01-04T08:56:20.650570Z"
    },
    "papermill": {
     "duration": 0.033129,
     "end_time": "2024-01-04T08:56:20.654041",
     "exception": false,
     "start_time": "2024-01-04T08:56:20.620912",
     "status": "completed"
    },
    "tags": []
   },
   "outputs": [],
   "source": [
    "import plotly.graph_objects as go\n",
    "\n",
    "def create_field(df, x, y, s, p):\n",
    "    fig = px.scatter(df, x=x, y=y, size=s, labels={'size' : 'Speed (yards/second)'}, color=p)\n",
    "    # Add the center circle as a marker\n",
    "    fig.add_trace(go.Scatter(\n",
    "        x=[60],\n",
    "        y=[26.65],\n",
    "        mode='markers',\n",
    "        marker=dict(size=100, color='lightgreen'),\n",
    "        showlegend=False,\n",
    "    ))\n",
    "\n",
    "    fig.update_layout(\n",
    "        title='Football Field with Player Positions',\n",
    "        xaxis=dict(title='Player Position (yards)'),\n",
    "        yaxis=dict(title='Player Position (yards)'),\n",
    "        shapes=[\n",
    "            # Left Goal Area\n",
    "            dict(type='rect', x0=0, x1=6, y0=20.16, y1=33.13, line=dict(color='green')),\n",
    "            # Right Goal Area\n",
    "            dict(type='rect', x0=114, x1=120, y0=20.16, y1=33.13, line=dict(color='green')),\n",
    "            # Center Circle\n",
    "            dict(type='circle', xref='x', yref='y', x0=59, y0=26.65, x1=61, y1=26.65, line=dict(color='green')),\n",
    "            # Halfway Line\n",
    "            dict(type='line', x0=60, x1=60, y0=0, y1=53.3, line=dict(color='green')),\n",
    "        ],\n",
    "    )\n",
    "\n",
    "    # Show the plot\n",
    "    fig.show()\n"
   ]
  },
  {
   "cell_type": "code",
   "execution_count": 33,
   "id": "f07d227b",
   "metadata": {
    "execution": {
     "iopub.execute_input": "2024-01-04T08:56:20.696215Z",
     "iopub.status.busy": "2024-01-04T08:56:20.695225Z",
     "iopub.status.idle": "2024-01-04T08:56:20.755905Z",
     "shell.execute_reply": "2024-01-04T08:56:20.753438Z"
    },
    "papermill": {
     "duration": 0.084577,
     "end_time": "2024-01-04T08:56:20.758434",
     "exception": false,
     "start_time": "2024-01-04T08:56:20.673857",
     "status": "completed"
    },
    "tags": []
   },
   "outputs": [
    {
     "data": {
      "text/plain": [
       "array([nan, 'pass_arrived', 'pass_outcome_caught', 'tackle', 'run',\n",
       "       'first_contact', 'ball_snap', 'handoff', 'touchdown',\n",
       "       'out_of_bounds', 'man_in_motion', 'fumble', 'play_action',\n",
       "       'pass_forward', 'lateral', 'autoevent_passforward',\n",
       "       'autoevent_passinterrupted', 'line_set', 'qb_slide', 'shift',\n",
       "       'run_pass_option', 'qb_sack', 'pass_shovel', 'autoevent_ballsnap',\n",
       "       'snap_direct', 'fumble_defense_recovered',\n",
       "       'fumble_offense_recovered'], dtype=object)"
      ]
     },
     "execution_count": 33,
     "metadata": {},
     "output_type": "execute_result"
    }
   ],
   "source": [
    "track1['event'].unique()"
   ]
  },
  {
   "cell_type": "markdown",
   "id": "62a74675",
   "metadata": {
    "papermill": {
     "duration": 0.020894,
     "end_time": "2024-01-04T08:56:20.801446",
     "exception": false,
     "start_time": "2024-01-04T08:56:20.780552",
     "status": "completed"
    },
    "tags": []
   },
   "source": [
    "#### Let's try a sample plotting:"
   ]
  },
  {
   "cell_type": "code",
   "execution_count": 34,
   "id": "b8602e9b",
   "metadata": {
    "execution": {
     "iopub.execute_input": "2024-01-04T08:56:20.842766Z",
     "iopub.status.busy": "2024-01-04T08:56:20.842385Z",
     "iopub.status.idle": "2024-01-04T08:56:20.981136Z",
     "shell.execute_reply": "2024-01-04T08:56:20.980000Z"
    },
    "papermill": {
     "duration": 0.162678,
     "end_time": "2024-01-04T08:56:20.984118",
     "exception": false,
     "start_time": "2024-01-04T08:56:20.821440",
     "status": "completed"
    },
    "tags": []
   },
   "outputs": [
    {
     "data": {
      "text/html": [
       "<div>                            <div id=\"e1baa2da-70a5-4e9f-95bb-e7f0dbc9bc5e\" class=\"plotly-graph-div\" style=\"height:525px; width:100%;\"></div>            <script type=\"text/javascript\">                require([\"plotly\"], function(Plotly) {                    window.PLOTLYENV=window.PLOTLYENV || {};                                    if (document.getElementById(\"e1baa2da-70a5-4e9f-95bb-e7f0dbc9bc5e\")) {                    Plotly.newPlot(                        \"e1baa2da-70a5-4e9f-95bb-e7f0dbc9bc5e\",                        [{\"hovertemplate\":\"color=Rodger Saffold\\u003cbr\\u003ex=%{x}\\u003cbr\\u003ey=%{y}\\u003cbr\\u003eSpeed (yards\\u002fsecond)=%{marker.size}\\u003cextra\\u003e\\u003c\\u002fextra\\u003e\",\"legendgroup\":\"Rodger Saffold\",\"marker\":{\"color\":\"#636efa\",\"size\":[1.62,1.67,1.57,1.44,1.29,1.15,0.93,0.68,0.42,0.14,0.26,0.51,0.81,1.1,1.3,1.5,1.62,1.72,1.73,1.78,1.79,1.75],\"sizemode\":\"area\",\"sizeref\":0.015600000000000001,\"symbol\":\"circle\"},\"mode\":\"markers\",\"name\":\"Rodger Saffold\",\"orientation\":\"v\",\"showlegend\":true,\"x\":[88.37,88.47,88.56,88.64,88.72,88.8,88.87,88.91,88.94,88.95,88.92,88.9,88.84,88.75,88.65,88.53,88.39,88.23,88.09,87.93,87.77,87.61],\"xaxis\":\"x\",\"y\":[27.27,27.13,27.01,26.9,26.8,26.7,26.64,26.59,26.57,26.58,26.6,26.63,26.68,26.74,26.82,26.91,27.0,27.09,27.19,27.28,27.37,27.45],\"yaxis\":\"y\",\"type\":\"scatter\"},{\"hovertemplate\":\"color=Bobby Wagner\\u003cbr\\u003ex=%{x}\\u003cbr\\u003ey=%{y}\\u003cbr\\u003eSpeed (yards\\u002fsecond)=%{marker.size}\\u003cextra\\u003e\\u003c\\u002fextra\\u003e\",\"legendgroup\":\"Bobby Wagner\",\"marker\":{\"color\":\"#EF553B\",\"size\":[1.24,1.78,2.21,2.7,3.05,3.35,3.52,3.65,3.65,3.64,3.49,3.35,3.22,2.94,2.63,2.35,2.03,1.76,1.54,1.27,1.02,0.71],\"sizemode\":\"area\",\"sizeref\":0.015600000000000001,\"symbol\":\"circle\"},\"mode\":\"markers\",\"name\":\"Bobby Wagner\",\"orientation\":\"v\",\"showlegend\":true,\"x\":[78.25,78.2,78.16,78.14,78.12,78.11,78.1,78.1,78.11,78.12,78.15,78.18,78.22,78.28,78.36,78.44,78.53,78.62,78.73,78.84,78.94,79.02],\"xaxis\":\"x\",\"y\":[27.53,27.69,27.88,28.13,28.42,28.74,29.08,29.44,29.8,30.16,30.52,30.85,31.18,31.47,31.73,31.96,32.15,32.31,32.44,32.53,32.59,32.62],\"yaxis\":\"y\",\"type\":\"scatter\"},{\"hovertemplate\":\"color=Aaron Donald\\u003cbr\\u003ex=%{x}\\u003cbr\\u003ey=%{y}\\u003cbr\\u003eSpeed (yards\\u002fsecond)=%{marker.size}\\u003cextra\\u003e\\u003c\\u002fextra\\u003e\",\"legendgroup\":\"Aaron Donald\",\"marker\":{\"color\":\"#00cc96\",\"size\":[3.91,3.93,3.99,3.93,3.82,3.62,3.4,3.17,2.9,2.68,2.5,2.34,2.26,2.13,2.1,2.17,2.18,2.16,2.16,2.28,2.34,2.44],\"sizemode\":\"area\",\"sizeref\":0.015600000000000001,\"symbol\":\"circle\"},\"mode\":\"markers\",\"name\":\"Aaron Donald\",\"orientation\":\"v\",\"showlegend\":true,\"x\":[91.08,91.36,91.62,91.83,92.01,92.15,92.26,92.33,92.35,92.32,92.26,92.16,92.03,91.88,91.7,91.47,91.26,91.04,90.82,90.58,90.34,90.09],\"xaxis\":\"x\",\"y\":[31.61,31.32,30.98,30.65,30.3,29.96,29.63,29.31,29.02,28.74,28.49,28.28,28.08,27.94,27.82,27.74,27.68,27.66,27.66,27.68,27.72,27.78],\"yaxis\":\"y\",\"type\":\"scatter\"},{\"hovertemplate\":\"color=Mitch Morse\\u003cbr\\u003ex=%{x}\\u003cbr\\u003ey=%{y}\\u003cbr\\u003eSpeed (yards\\u002fsecond)=%{marker.size}\\u003cextra\\u003e\\u003c\\u002fextra\\u003e\",\"legendgroup\":\"Mitch Morse\",\"marker\":{\"color\":\"#ab63fa\",\"size\":[0.67,0.82,1.01,1.17,1.32,1.42,1.46,1.44,1.4,1.45,1.5,1.51,1.51,1.56,1.6,1.63,1.65,1.7,1.64,1.59,1.54,1.41],\"sizemode\":\"area\",\"sizeref\":0.015600000000000001,\"symbol\":\"circle\"},\"mode\":\"markers\",\"name\":\"Mitch Morse\",\"orientation\":\"v\",\"showlegend\":true,\"x\":[88.25,88.26,88.27,88.26,88.24,88.21,88.18,88.14,88.08,88.02,87.95,87.87,87.79,87.69,87.58,87.46,87.34,87.2,87.07,86.94,86.8,86.67],\"xaxis\":\"x\",\"y\":[28.74,28.82,28.92,29.04,29.17,29.31,29.45,29.59,29.72,29.87,30.03,30.17,30.3,30.44,30.56,30.68,30.8,30.91,31.01,31.11,31.2,31.26],\"yaxis\":\"y\",\"type\":\"scatter\"},{\"hovertemplate\":\"color=Stefon Diggs\\u003cbr\\u003ex=%{x}\\u003cbr\\u003ey=%{y}\\u003cbr\\u003eSpeed (yards\\u002fsecond)=%{marker.size}\\u003cextra\\u003e\\u003c\\u002fextra\\u003e\",\"legendgroup\":\"Stefon Diggs\",\"marker\":{\"color\":\"#FFA15A\",\"size\":[6.23,6.24,5.98,5.67,5.43,4.61,4.01,3.44,2.83,2.19,1.65,1.19],\"sizemode\":\"area\",\"sizeref\":0.015600000000000001,\"symbol\":\"circle\"},\"mode\":\"markers\",\"name\":\"Stefon Diggs\",\"orientation\":\"v\",\"showlegend\":true,\"x\":[80.6,80.48,80.34,80.19,80.01,79.85,79.69,79.54,79.41,79.31,79.23,79.18],\"xaxis\":\"x\",\"y\":[38.29,37.68,37.09,36.53,36.0,35.59,35.2,34.88,34.61,34.4,34.23,34.09],\"yaxis\":\"y\",\"type\":\"scatter\"},{\"marker\":{\"color\":\"lightgreen\",\"size\":100},\"mode\":\"markers\",\"showlegend\":false,\"x\":[60],\"y\":[26.65],\"type\":\"scatter\"}],                        {\"template\":{\"data\":{\"histogram2dcontour\":[{\"type\":\"histogram2dcontour\",\"colorbar\":{\"outlinewidth\":0,\"ticks\":\"\"},\"colorscale\":[[0.0,\"#0d0887\"],[0.1111111111111111,\"#46039f\"],[0.2222222222222222,\"#7201a8\"],[0.3333333333333333,\"#9c179e\"],[0.4444444444444444,\"#bd3786\"],[0.5555555555555556,\"#d8576b\"],[0.6666666666666666,\"#ed7953\"],[0.7777777777777778,\"#fb9f3a\"],[0.8888888888888888,\"#fdca26\"],[1.0,\"#f0f921\"]]}],\"choropleth\":[{\"type\":\"choropleth\",\"colorbar\":{\"outlinewidth\":0,\"ticks\":\"\"}}],\"histogram2d\":[{\"type\":\"histogram2d\",\"colorbar\":{\"outlinewidth\":0,\"ticks\":\"\"},\"colorscale\":[[0.0,\"#0d0887\"],[0.1111111111111111,\"#46039f\"],[0.2222222222222222,\"#7201a8\"],[0.3333333333333333,\"#9c179e\"],[0.4444444444444444,\"#bd3786\"],[0.5555555555555556,\"#d8576b\"],[0.6666666666666666,\"#ed7953\"],[0.7777777777777778,\"#fb9f3a\"],[0.8888888888888888,\"#fdca26\"],[1.0,\"#f0f921\"]]}],\"heatmap\":[{\"type\":\"heatmap\",\"colorbar\":{\"outlinewidth\":0,\"ticks\":\"\"},\"colorscale\":[[0.0,\"#0d0887\"],[0.1111111111111111,\"#46039f\"],[0.2222222222222222,\"#7201a8\"],[0.3333333333333333,\"#9c179e\"],[0.4444444444444444,\"#bd3786\"],[0.5555555555555556,\"#d8576b\"],[0.6666666666666666,\"#ed7953\"],[0.7777777777777778,\"#fb9f3a\"],[0.8888888888888888,\"#fdca26\"],[1.0,\"#f0f921\"]]}],\"heatmapgl\":[{\"type\":\"heatmapgl\",\"colorbar\":{\"outlinewidth\":0,\"ticks\":\"\"},\"colorscale\":[[0.0,\"#0d0887\"],[0.1111111111111111,\"#46039f\"],[0.2222222222222222,\"#7201a8\"],[0.3333333333333333,\"#9c179e\"],[0.4444444444444444,\"#bd3786\"],[0.5555555555555556,\"#d8576b\"],[0.6666666666666666,\"#ed7953\"],[0.7777777777777778,\"#fb9f3a\"],[0.8888888888888888,\"#fdca26\"],[1.0,\"#f0f921\"]]}],\"contourcarpet\":[{\"type\":\"contourcarpet\",\"colorbar\":{\"outlinewidth\":0,\"ticks\":\"\"}}],\"contour\":[{\"type\":\"contour\",\"colorbar\":{\"outlinewidth\":0,\"ticks\":\"\"},\"colorscale\":[[0.0,\"#0d0887\"],[0.1111111111111111,\"#46039f\"],[0.2222222222222222,\"#7201a8\"],[0.3333333333333333,\"#9c179e\"],[0.4444444444444444,\"#bd3786\"],[0.5555555555555556,\"#d8576b\"],[0.6666666666666666,\"#ed7953\"],[0.7777777777777778,\"#fb9f3a\"],[0.8888888888888888,\"#fdca26\"],[1.0,\"#f0f921\"]]}],\"surface\":[{\"type\":\"surface\",\"colorbar\":{\"outlinewidth\":0,\"ticks\":\"\"},\"colorscale\":[[0.0,\"#0d0887\"],[0.1111111111111111,\"#46039f\"],[0.2222222222222222,\"#7201a8\"],[0.3333333333333333,\"#9c179e\"],[0.4444444444444444,\"#bd3786\"],[0.5555555555555556,\"#d8576b\"],[0.6666666666666666,\"#ed7953\"],[0.7777777777777778,\"#fb9f3a\"],[0.8888888888888888,\"#fdca26\"],[1.0,\"#f0f921\"]]}],\"mesh3d\":[{\"type\":\"mesh3d\",\"colorbar\":{\"outlinewidth\":0,\"ticks\":\"\"}}],\"scatter\":[{\"fillpattern\":{\"fillmode\":\"overlay\",\"size\":10,\"solidity\":0.2},\"type\":\"scatter\"}],\"parcoords\":[{\"type\":\"parcoords\",\"line\":{\"colorbar\":{\"outlinewidth\":0,\"ticks\":\"\"}}}],\"scatterpolargl\":[{\"type\":\"scatterpolargl\",\"marker\":{\"colorbar\":{\"outlinewidth\":0,\"ticks\":\"\"}}}],\"bar\":[{\"error_x\":{\"color\":\"#2a3f5f\"},\"error_y\":{\"color\":\"#2a3f5f\"},\"marker\":{\"line\":{\"color\":\"#E5ECF6\",\"width\":0.5},\"pattern\":{\"fillmode\":\"overlay\",\"size\":10,\"solidity\":0.2}},\"type\":\"bar\"}],\"scattergeo\":[{\"type\":\"scattergeo\",\"marker\":{\"colorbar\":{\"outlinewidth\":0,\"ticks\":\"\"}}}],\"scatterpolar\":[{\"type\":\"scatterpolar\",\"marker\":{\"colorbar\":{\"outlinewidth\":0,\"ticks\":\"\"}}}],\"histogram\":[{\"marker\":{\"pattern\":{\"fillmode\":\"overlay\",\"size\":10,\"solidity\":0.2}},\"type\":\"histogram\"}],\"scattergl\":[{\"type\":\"scattergl\",\"marker\":{\"colorbar\":{\"outlinewidth\":0,\"ticks\":\"\"}}}],\"scatter3d\":[{\"type\":\"scatter3d\",\"line\":{\"colorbar\":{\"outlinewidth\":0,\"ticks\":\"\"}},\"marker\":{\"colorbar\":{\"outlinewidth\":0,\"ticks\":\"\"}}}],\"scattermapbox\":[{\"type\":\"scattermapbox\",\"marker\":{\"colorbar\":{\"outlinewidth\":0,\"ticks\":\"\"}}}],\"scatterternary\":[{\"type\":\"scatterternary\",\"marker\":{\"colorbar\":{\"outlinewidth\":0,\"ticks\":\"\"}}}],\"scattercarpet\":[{\"type\":\"scattercarpet\",\"marker\":{\"colorbar\":{\"outlinewidth\":0,\"ticks\":\"\"}}}],\"carpet\":[{\"aaxis\":{\"endlinecolor\":\"#2a3f5f\",\"gridcolor\":\"white\",\"linecolor\":\"white\",\"minorgridcolor\":\"white\",\"startlinecolor\":\"#2a3f5f\"},\"baxis\":{\"endlinecolor\":\"#2a3f5f\",\"gridcolor\":\"white\",\"linecolor\":\"white\",\"minorgridcolor\":\"white\",\"startlinecolor\":\"#2a3f5f\"},\"type\":\"carpet\"}],\"table\":[{\"cells\":{\"fill\":{\"color\":\"#EBF0F8\"},\"line\":{\"color\":\"white\"}},\"header\":{\"fill\":{\"color\":\"#C8D4E3\"},\"line\":{\"color\":\"white\"}},\"type\":\"table\"}],\"barpolar\":[{\"marker\":{\"line\":{\"color\":\"#E5ECF6\",\"width\":0.5},\"pattern\":{\"fillmode\":\"overlay\",\"size\":10,\"solidity\":0.2}},\"type\":\"barpolar\"}],\"pie\":[{\"automargin\":true,\"type\":\"pie\"}]},\"layout\":{\"autotypenumbers\":\"strict\",\"colorway\":[\"#636efa\",\"#EF553B\",\"#00cc96\",\"#ab63fa\",\"#FFA15A\",\"#19d3f3\",\"#FF6692\",\"#B6E880\",\"#FF97FF\",\"#FECB52\"],\"font\":{\"color\":\"#2a3f5f\"},\"hovermode\":\"closest\",\"hoverlabel\":{\"align\":\"left\"},\"paper_bgcolor\":\"white\",\"plot_bgcolor\":\"#E5ECF6\",\"polar\":{\"bgcolor\":\"#E5ECF6\",\"angularaxis\":{\"gridcolor\":\"white\",\"linecolor\":\"white\",\"ticks\":\"\"},\"radialaxis\":{\"gridcolor\":\"white\",\"linecolor\":\"white\",\"ticks\":\"\"}},\"ternary\":{\"bgcolor\":\"#E5ECF6\",\"aaxis\":{\"gridcolor\":\"white\",\"linecolor\":\"white\",\"ticks\":\"\"},\"baxis\":{\"gridcolor\":\"white\",\"linecolor\":\"white\",\"ticks\":\"\"},\"caxis\":{\"gridcolor\":\"white\",\"linecolor\":\"white\",\"ticks\":\"\"}},\"coloraxis\":{\"colorbar\":{\"outlinewidth\":0,\"ticks\":\"\"}},\"colorscale\":{\"sequential\":[[0.0,\"#0d0887\"],[0.1111111111111111,\"#46039f\"],[0.2222222222222222,\"#7201a8\"],[0.3333333333333333,\"#9c179e\"],[0.4444444444444444,\"#bd3786\"],[0.5555555555555556,\"#d8576b\"],[0.6666666666666666,\"#ed7953\"],[0.7777777777777778,\"#fb9f3a\"],[0.8888888888888888,\"#fdca26\"],[1.0,\"#f0f921\"]],\"sequentialminus\":[[0.0,\"#0d0887\"],[0.1111111111111111,\"#46039f\"],[0.2222222222222222,\"#7201a8\"],[0.3333333333333333,\"#9c179e\"],[0.4444444444444444,\"#bd3786\"],[0.5555555555555556,\"#d8576b\"],[0.6666666666666666,\"#ed7953\"],[0.7777777777777778,\"#fb9f3a\"],[0.8888888888888888,\"#fdca26\"],[1.0,\"#f0f921\"]],\"diverging\":[[0,\"#8e0152\"],[0.1,\"#c51b7d\"],[0.2,\"#de77ae\"],[0.3,\"#f1b6da\"],[0.4,\"#fde0ef\"],[0.5,\"#f7f7f7\"],[0.6,\"#e6f5d0\"],[0.7,\"#b8e186\"],[0.8,\"#7fbc41\"],[0.9,\"#4d9221\"],[1,\"#276419\"]]},\"xaxis\":{\"gridcolor\":\"white\",\"linecolor\":\"white\",\"ticks\":\"\",\"title\":{\"standoff\":15},\"zerolinecolor\":\"white\",\"automargin\":true,\"zerolinewidth\":2},\"yaxis\":{\"gridcolor\":\"white\",\"linecolor\":\"white\",\"ticks\":\"\",\"title\":{\"standoff\":15},\"zerolinecolor\":\"white\",\"automargin\":true,\"zerolinewidth\":2},\"scene\":{\"xaxis\":{\"backgroundcolor\":\"#E5ECF6\",\"gridcolor\":\"white\",\"linecolor\":\"white\",\"showbackground\":true,\"ticks\":\"\",\"zerolinecolor\":\"white\",\"gridwidth\":2},\"yaxis\":{\"backgroundcolor\":\"#E5ECF6\",\"gridcolor\":\"white\",\"linecolor\":\"white\",\"showbackground\":true,\"ticks\":\"\",\"zerolinecolor\":\"white\",\"gridwidth\":2},\"zaxis\":{\"backgroundcolor\":\"#E5ECF6\",\"gridcolor\":\"white\",\"linecolor\":\"white\",\"showbackground\":true,\"ticks\":\"\",\"zerolinecolor\":\"white\",\"gridwidth\":2}},\"shapedefaults\":{\"line\":{\"color\":\"#2a3f5f\"}},\"annotationdefaults\":{\"arrowcolor\":\"#2a3f5f\",\"arrowhead\":0,\"arrowwidth\":1},\"geo\":{\"bgcolor\":\"white\",\"landcolor\":\"#E5ECF6\",\"subunitcolor\":\"white\",\"showland\":true,\"showlakes\":true,\"lakecolor\":\"white\"},\"title\":{\"x\":0.05},\"mapbox\":{\"style\":\"light\"}}},\"xaxis\":{\"anchor\":\"y\",\"domain\":[0.0,1.0],\"title\":{\"text\":\"Player Position (yards)\"}},\"yaxis\":{\"anchor\":\"x\",\"domain\":[0.0,1.0],\"title\":{\"text\":\"Player Position (yards)\"}},\"legend\":{\"title\":{\"text\":\"color\"},\"tracegroupgap\":0,\"itemsizing\":\"constant\"},\"margin\":{\"t\":60},\"title\":{\"text\":\"Football Field with Player Positions\"},\"shapes\":[{\"line\":{\"color\":\"green\"},\"type\":\"rect\",\"x0\":0,\"x1\":6,\"y0\":20.16,\"y1\":33.13},{\"line\":{\"color\":\"green\"},\"type\":\"rect\",\"x0\":114,\"x1\":120,\"y0\":20.16,\"y1\":33.13},{\"line\":{\"color\":\"green\"},\"type\":\"circle\",\"x0\":59,\"x1\":61,\"xref\":\"x\",\"y0\":26.65,\"y1\":26.65,\"yref\":\"y\"},{\"line\":{\"color\":\"green\"},\"type\":\"line\",\"x0\":60,\"x1\":60,\"y0\":0,\"y1\":53.3}]},                        {\"responsive\": true}                    ).then(function(){\n",
       "                            \n",
       "var gd = document.getElementById('e1baa2da-70a5-4e9f-95bb-e7f0dbc9bc5e');\n",
       "var x = new MutationObserver(function (mutations, observer) {{\n",
       "        var display = window.getComputedStyle(gd).display;\n",
       "        if (!display || display === 'none') {{\n",
       "            console.log([gd, 'removed!']);\n",
       "            Plotly.purge(gd);\n",
       "            observer.disconnect();\n",
       "        }}\n",
       "}});\n",
       "\n",
       "// Listen for the removal of the full notebook cells\n",
       "var notebookContainer = gd.closest('#notebook-container');\n",
       "if (notebookContainer) {{\n",
       "    x.observe(notebookContainer, {childList: true});\n",
       "}}\n",
       "\n",
       "// Listen for the clearing of the current output cell\n",
       "var outputEl = gd.closest('.output');\n",
       "if (outputEl) {{\n",
       "    x.observe(outputEl, {childList: true});\n",
       "}}\n",
       "\n",
       "                        })                };                });            </script>        </div>"
      ]
     },
     "metadata": {},
     "output_type": "display_data"
    }
   ],
   "source": [
    "create_field(track1, track1['x'].iloc[:100], track1['y'].iloc[:100], track1['s'].iloc[:100], track1['displayName'].iloc[:100])"
   ]
  },
  {
   "cell_type": "markdown",
   "id": "51be651f",
   "metadata": {
    "papermill": {
     "duration": 0.019173,
     "end_time": "2024-01-04T08:56:21.023989",
     "exception": false,
     "start_time": "2024-01-04T08:56:21.004816",
     "status": "completed"
    },
    "tags": []
   },
   "source": [
    "#### This looks great! We can see a static visualisation of the players moving across the football field varied by their speed."
   ]
  },
  {
   "cell_type": "markdown",
   "id": "4d2337aa",
   "metadata": {
    "papermill": {
     "duration": 0.019753,
     "end_time": "2024-01-04T08:56:21.064063",
     "exception": false,
     "start_time": "2024-01-04T08:56:21.044310",
     "status": "completed"
    },
    "tags": []
   },
   "source": [
    "#### Let's isolate those play sessions that ended up in a tackle event."
   ]
  },
  {
   "cell_type": "code",
   "execution_count": 35,
   "id": "0693d79f",
   "metadata": {
    "execution": {
     "iopub.execute_input": "2024-01-04T08:56:21.106377Z",
     "iopub.status.busy": "2024-01-04T08:56:21.105757Z",
     "iopub.status.idle": "2024-01-04T08:56:21.157504Z",
     "shell.execute_reply": "2024-01-04T08:56:21.156335Z"
    },
    "papermill": {
     "duration": 0.075341,
     "end_time": "2024-01-04T08:56:21.160387",
     "exception": false,
     "start_time": "2024-01-04T08:56:21.085046",
     "status": "completed"
    },
    "tags": []
   },
   "outputs": [
    {
     "data": {
      "text/plain": [
       "1012"
      ]
     },
     "execution_count": 35,
     "metadata": {},
     "output_type": "execute_result"
    }
   ],
   "source": [
    "track1.loc[track1['event']=='tackle', 'playId'].nunique()"
   ]
  },
  {
   "cell_type": "markdown",
   "id": "1c097d0c",
   "metadata": {
    "papermill": {
     "duration": 0.018949,
     "end_time": "2024-01-04T08:56:21.200454",
     "exception": false,
     "start_time": "2024-01-04T08:56:21.181505",
     "status": "completed"
    },
    "tags": []
   },
   "source": [
    "#### There are 1012 plays that ended in a tackle. Let's try to visualise these tackles on the basis of the number of records."
   ]
  },
  {
   "cell_type": "code",
   "execution_count": 36,
   "id": "e627f9b3",
   "metadata": {
    "execution": {
     "iopub.execute_input": "2024-01-04T08:56:21.242609Z",
     "iopub.status.busy": "2024-01-04T08:56:21.242194Z",
     "iopub.status.idle": "2024-01-04T08:56:21.253214Z",
     "shell.execute_reply": "2024-01-04T08:56:21.252439Z"
    },
    "papermill": {
     "duration": 0.035158,
     "end_time": "2024-01-04T08:56:21.255559",
     "exception": false,
     "start_time": "2024-01-04T08:56:21.220401",
     "status": "completed"
    },
    "tags": []
   },
   "outputs": [],
   "source": [
    "def animate_field(df,n):\n",
    "    # Filter DataFrame for sessions ending in a tackle event\n",
    "    df = df.iloc[:n]\n",
    "    tackle_sessions = df[df['event'] == 'tackle']\n",
    "    x = df['x'].iloc[:n]\n",
    "    y = df['y'].iloc[:n]\n",
    "    s = df['s'].iloc[:n]\n",
    "    f = df['frameId'].iloc[:n]\n",
    "    d = df['displayName'].iloc[:n]\n",
    "    # Create a scatter plot for each playId ending in a tackle event\n",
    "    for playId, play_df in tackle_sessions.groupby(['gameId','playId']):\n",
    "        fig = px.scatter(play_df, x=x, y=y, size=s, animation_frame=f, color=d,\n",
    "                         labels={'size': 'Speed (yards/second)'})\n",
    "        \n",
    "        fig.add_trace(go.Scatter(\n",
    "        x=[60],\n",
    "        y=[26.65],\n",
    "        mode='markers',\n",
    "        marker=dict(size=100, color='lightgreen'),\n",
    "        showlegend=False,\n",
    "    ))\n",
    "        # football field layout\n",
    "        fig.update_layout(\n",
    "            title=f'Football Field - Game ID, Play ID: {playId} (Tackle Event)',\n",
    "            xaxis=dict(title='Player Position (yards)'),\n",
    "            yaxis=dict(title='Player Position (yards)'),\n",
    "            shapes=[\n",
    "                # Left Goal Area\n",
    "                dict(type='rect', x0=0, x1=6, y0=20.16, y1=33.13, line=dict(color='black')),\n",
    "                # Right Goal Area\n",
    "                dict(type='rect', x0=114, x1=120, y0=20.16, y1=33.13, line=dict(color='black')),\n",
    "                # Center Circle\n",
    "                dict(type='circle', xref='x', yref='y', x0=57, y0=26.65, x1=63, y1=26.65, line=dict(color='black')),\n",
    "                # Halfway Line\n",
    "                dict(type='line', x0=60, x1=60, y0=0, y1=53.3, line=dict(color='black')),\n",
    "            ]\n",
    "        )\n",
    "\n",
    "        # Show the plot\n",
    "        fig.show()"
   ]
  },
  {
   "cell_type": "code",
   "execution_count": 37,
   "id": "51691881",
   "metadata": {
    "execution": {
     "iopub.execute_input": "2024-01-04T08:56:21.300434Z",
     "iopub.status.busy": "2024-01-04T08:56:21.299834Z",
     "iopub.status.idle": "2024-01-04T08:56:21.861766Z",
     "shell.execute_reply": "2024-01-04T08:56:21.860627Z"
    },
    "papermill": {
     "duration": 0.588851,
     "end_time": "2024-01-04T08:56:21.864900",
     "exception": false,
     "start_time": "2024-01-04T08:56:21.276049",
     "status": "completed"
    },
    "tags": []
   },
   "outputs": [
    {
     "data": {
      "text/html": [
       "<div>                            <div id=\"4b637058-344f-43cb-b4e0-a09268a2c0cb\" class=\"plotly-graph-div\" style=\"height:525px; width:100%;\"></div>            <script type=\"text/javascript\">                require([\"plotly\"], function(Plotly) {                    window.PLOTLYENV=window.PLOTLYENV || {};                                    if (document.getElementById(\"4b637058-344f-43cb-b4e0-a09268a2c0cb\")) {                    Plotly.newPlot(                        \"4b637058-344f-43cb-b4e0-a09268a2c0cb\",                        [{\"hovertemplate\":\"color=Rodger Saffold\\u003cbr\\u003eanimation_frame=1\\u003cbr\\u003ex=%{x}\\u003cbr\\u003ey=%{y}\\u003cbr\\u003eSpeed (yards\\u002fsecond)=%{marker.size}\\u003cextra\\u003e\\u003c\\u002fextra\\u003e\",\"legendgroup\":\"Rodger Saffold\",\"marker\":{\"color\":\"#636efa\",\"size\":[1.62],\"sizemode\":\"area\",\"sizeref\":0.015600000000000001,\"symbol\":\"circle\"},\"mode\":\"markers\",\"name\":\"Rodger Saffold\",\"orientation\":\"v\",\"showlegend\":true,\"x\":[88.37],\"xaxis\":\"x\",\"y\":[27.27],\"yaxis\":\"y\",\"type\":\"scatter\"},{\"hovertemplate\":\"color=Bobby Wagner\\u003cbr\\u003eanimation_frame=1\\u003cbr\\u003ex=%{x}\\u003cbr\\u003ey=%{y}\\u003cbr\\u003eSpeed (yards\\u002fsecond)=%{marker.size}\\u003cextra\\u003e\\u003c\\u002fextra\\u003e\",\"legendgroup\":\"Bobby Wagner\",\"marker\":{\"color\":\"#EF553B\",\"size\":[1.24],\"sizemode\":\"area\",\"sizeref\":0.015600000000000001,\"symbol\":\"circle\"},\"mode\":\"markers\",\"name\":\"Bobby Wagner\",\"orientation\":\"v\",\"showlegend\":true,\"x\":[78.25],\"xaxis\":\"x\",\"y\":[27.53],\"yaxis\":\"y\",\"type\":\"scatter\"},{\"hovertemplate\":\"color=Aaron Donald\\u003cbr\\u003eanimation_frame=1\\u003cbr\\u003ex=%{x}\\u003cbr\\u003ey=%{y}\\u003cbr\\u003eSpeed (yards\\u002fsecond)=%{marker.size}\\u003cextra\\u003e\\u003c\\u002fextra\\u003e\",\"legendgroup\":\"Aaron Donald\",\"marker\":{\"color\":\"#00cc96\",\"size\":[3.91],\"sizemode\":\"area\",\"sizeref\":0.015600000000000001,\"symbol\":\"circle\"},\"mode\":\"markers\",\"name\":\"Aaron Donald\",\"orientation\":\"v\",\"showlegend\":true,\"x\":[91.08],\"xaxis\":\"x\",\"y\":[31.61],\"yaxis\":\"y\",\"type\":\"scatter\"},{\"hovertemplate\":\"color=Mitch Morse\\u003cbr\\u003eanimation_frame=1\\u003cbr\\u003ex=%{x}\\u003cbr\\u003ey=%{y}\\u003cbr\\u003eSpeed (yards\\u002fsecond)=%{marker.size}\\u003cextra\\u003e\\u003c\\u002fextra\\u003e\",\"legendgroup\":\"Mitch Morse\",\"marker\":{\"color\":\"#ab63fa\",\"size\":[0.67],\"sizemode\":\"area\",\"sizeref\":0.015600000000000001,\"symbol\":\"circle\"},\"mode\":\"markers\",\"name\":\"Mitch Morse\",\"orientation\":\"v\",\"showlegend\":true,\"x\":[88.25],\"xaxis\":\"x\",\"y\":[28.74],\"yaxis\":\"y\",\"type\":\"scatter\"},{\"hovertemplate\":\"color=Stefon Diggs\\u003cbr\\u003eanimation_frame=1\\u003cbr\\u003ex=%{x}\\u003cbr\\u003ey=%{y}\\u003cbr\\u003eSpeed (yards\\u002fsecond)=%{marker.size}\\u003cextra\\u003e\\u003c\\u002fextra\\u003e\",\"legendgroup\":\"Stefon Diggs\",\"marker\":{\"color\":\"#FFA15A\",\"size\":[6.23],\"sizemode\":\"area\",\"sizeref\":0.015600000000000001,\"symbol\":\"circle\"},\"mode\":\"markers\",\"name\":\"Stefon Diggs\",\"orientation\":\"v\",\"showlegend\":true,\"x\":[80.6],\"xaxis\":\"x\",\"y\":[38.29],\"yaxis\":\"y\",\"type\":\"scatter\"},{\"marker\":{\"color\":\"lightgreen\",\"size\":100},\"mode\":\"markers\",\"showlegend\":false,\"x\":[60],\"y\":[26.65],\"type\":\"scatter\"}],                        {\"template\":{\"data\":{\"histogram2dcontour\":[{\"type\":\"histogram2dcontour\",\"colorbar\":{\"outlinewidth\":0,\"ticks\":\"\"},\"colorscale\":[[0.0,\"#0d0887\"],[0.1111111111111111,\"#46039f\"],[0.2222222222222222,\"#7201a8\"],[0.3333333333333333,\"#9c179e\"],[0.4444444444444444,\"#bd3786\"],[0.5555555555555556,\"#d8576b\"],[0.6666666666666666,\"#ed7953\"],[0.7777777777777778,\"#fb9f3a\"],[0.8888888888888888,\"#fdca26\"],[1.0,\"#f0f921\"]]}],\"choropleth\":[{\"type\":\"choropleth\",\"colorbar\":{\"outlinewidth\":0,\"ticks\":\"\"}}],\"histogram2d\":[{\"type\":\"histogram2d\",\"colorbar\":{\"outlinewidth\":0,\"ticks\":\"\"},\"colorscale\":[[0.0,\"#0d0887\"],[0.1111111111111111,\"#46039f\"],[0.2222222222222222,\"#7201a8\"],[0.3333333333333333,\"#9c179e\"],[0.4444444444444444,\"#bd3786\"],[0.5555555555555556,\"#d8576b\"],[0.6666666666666666,\"#ed7953\"],[0.7777777777777778,\"#fb9f3a\"],[0.8888888888888888,\"#fdca26\"],[1.0,\"#f0f921\"]]}],\"heatmap\":[{\"type\":\"heatmap\",\"colorbar\":{\"outlinewidth\":0,\"ticks\":\"\"},\"colorscale\":[[0.0,\"#0d0887\"],[0.1111111111111111,\"#46039f\"],[0.2222222222222222,\"#7201a8\"],[0.3333333333333333,\"#9c179e\"],[0.4444444444444444,\"#bd3786\"],[0.5555555555555556,\"#d8576b\"],[0.6666666666666666,\"#ed7953\"],[0.7777777777777778,\"#fb9f3a\"],[0.8888888888888888,\"#fdca26\"],[1.0,\"#f0f921\"]]}],\"heatmapgl\":[{\"type\":\"heatmapgl\",\"colorbar\":{\"outlinewidth\":0,\"ticks\":\"\"},\"colorscale\":[[0.0,\"#0d0887\"],[0.1111111111111111,\"#46039f\"],[0.2222222222222222,\"#7201a8\"],[0.3333333333333333,\"#9c179e\"],[0.4444444444444444,\"#bd3786\"],[0.5555555555555556,\"#d8576b\"],[0.6666666666666666,\"#ed7953\"],[0.7777777777777778,\"#fb9f3a\"],[0.8888888888888888,\"#fdca26\"],[1.0,\"#f0f921\"]]}],\"contourcarpet\":[{\"type\":\"contourcarpet\",\"colorbar\":{\"outlinewidth\":0,\"ticks\":\"\"}}],\"contour\":[{\"type\":\"contour\",\"colorbar\":{\"outlinewidth\":0,\"ticks\":\"\"},\"colorscale\":[[0.0,\"#0d0887\"],[0.1111111111111111,\"#46039f\"],[0.2222222222222222,\"#7201a8\"],[0.3333333333333333,\"#9c179e\"],[0.4444444444444444,\"#bd3786\"],[0.5555555555555556,\"#d8576b\"],[0.6666666666666666,\"#ed7953\"],[0.7777777777777778,\"#fb9f3a\"],[0.8888888888888888,\"#fdca26\"],[1.0,\"#f0f921\"]]}],\"surface\":[{\"type\":\"surface\",\"colorbar\":{\"outlinewidth\":0,\"ticks\":\"\"},\"colorscale\":[[0.0,\"#0d0887\"],[0.1111111111111111,\"#46039f\"],[0.2222222222222222,\"#7201a8\"],[0.3333333333333333,\"#9c179e\"],[0.4444444444444444,\"#bd3786\"],[0.5555555555555556,\"#d8576b\"],[0.6666666666666666,\"#ed7953\"],[0.7777777777777778,\"#fb9f3a\"],[0.8888888888888888,\"#fdca26\"],[1.0,\"#f0f921\"]]}],\"mesh3d\":[{\"type\":\"mesh3d\",\"colorbar\":{\"outlinewidth\":0,\"ticks\":\"\"}}],\"scatter\":[{\"fillpattern\":{\"fillmode\":\"overlay\",\"size\":10,\"solidity\":0.2},\"type\":\"scatter\"}],\"parcoords\":[{\"type\":\"parcoords\",\"line\":{\"colorbar\":{\"outlinewidth\":0,\"ticks\":\"\"}}}],\"scatterpolargl\":[{\"type\":\"scatterpolargl\",\"marker\":{\"colorbar\":{\"outlinewidth\":0,\"ticks\":\"\"}}}],\"bar\":[{\"error_x\":{\"color\":\"#2a3f5f\"},\"error_y\":{\"color\":\"#2a3f5f\"},\"marker\":{\"line\":{\"color\":\"#E5ECF6\",\"width\":0.5},\"pattern\":{\"fillmode\":\"overlay\",\"size\":10,\"solidity\":0.2}},\"type\":\"bar\"}],\"scattergeo\":[{\"type\":\"scattergeo\",\"marker\":{\"colorbar\":{\"outlinewidth\":0,\"ticks\":\"\"}}}],\"scatterpolar\":[{\"type\":\"scatterpolar\",\"marker\":{\"colorbar\":{\"outlinewidth\":0,\"ticks\":\"\"}}}],\"histogram\":[{\"marker\":{\"pattern\":{\"fillmode\":\"overlay\",\"size\":10,\"solidity\":0.2}},\"type\":\"histogram\"}],\"scattergl\":[{\"type\":\"scattergl\",\"marker\":{\"colorbar\":{\"outlinewidth\":0,\"ticks\":\"\"}}}],\"scatter3d\":[{\"type\":\"scatter3d\",\"line\":{\"colorbar\":{\"outlinewidth\":0,\"ticks\":\"\"}},\"marker\":{\"colorbar\":{\"outlinewidth\":0,\"ticks\":\"\"}}}],\"scattermapbox\":[{\"type\":\"scattermapbox\",\"marker\":{\"colorbar\":{\"outlinewidth\":0,\"ticks\":\"\"}}}],\"scatterternary\":[{\"type\":\"scatterternary\",\"marker\":{\"colorbar\":{\"outlinewidth\":0,\"ticks\":\"\"}}}],\"scattercarpet\":[{\"type\":\"scattercarpet\",\"marker\":{\"colorbar\":{\"outlinewidth\":0,\"ticks\":\"\"}}}],\"carpet\":[{\"aaxis\":{\"endlinecolor\":\"#2a3f5f\",\"gridcolor\":\"white\",\"linecolor\":\"white\",\"minorgridcolor\":\"white\",\"startlinecolor\":\"#2a3f5f\"},\"baxis\":{\"endlinecolor\":\"#2a3f5f\",\"gridcolor\":\"white\",\"linecolor\":\"white\",\"minorgridcolor\":\"white\",\"startlinecolor\":\"#2a3f5f\"},\"type\":\"carpet\"}],\"table\":[{\"cells\":{\"fill\":{\"color\":\"#EBF0F8\"},\"line\":{\"color\":\"white\"}},\"header\":{\"fill\":{\"color\":\"#C8D4E3\"},\"line\":{\"color\":\"white\"}},\"type\":\"table\"}],\"barpolar\":[{\"marker\":{\"line\":{\"color\":\"#E5ECF6\",\"width\":0.5},\"pattern\":{\"fillmode\":\"overlay\",\"size\":10,\"solidity\":0.2}},\"type\":\"barpolar\"}],\"pie\":[{\"automargin\":true,\"type\":\"pie\"}]},\"layout\":{\"autotypenumbers\":\"strict\",\"colorway\":[\"#636efa\",\"#EF553B\",\"#00cc96\",\"#ab63fa\",\"#FFA15A\",\"#19d3f3\",\"#FF6692\",\"#B6E880\",\"#FF97FF\",\"#FECB52\"],\"font\":{\"color\":\"#2a3f5f\"},\"hovermode\":\"closest\",\"hoverlabel\":{\"align\":\"left\"},\"paper_bgcolor\":\"white\",\"plot_bgcolor\":\"#E5ECF6\",\"polar\":{\"bgcolor\":\"#E5ECF6\",\"angularaxis\":{\"gridcolor\":\"white\",\"linecolor\":\"white\",\"ticks\":\"\"},\"radialaxis\":{\"gridcolor\":\"white\",\"linecolor\":\"white\",\"ticks\":\"\"}},\"ternary\":{\"bgcolor\":\"#E5ECF6\",\"aaxis\":{\"gridcolor\":\"white\",\"linecolor\":\"white\",\"ticks\":\"\"},\"baxis\":{\"gridcolor\":\"white\",\"linecolor\":\"white\",\"ticks\":\"\"},\"caxis\":{\"gridcolor\":\"white\",\"linecolor\":\"white\",\"ticks\":\"\"}},\"coloraxis\":{\"colorbar\":{\"outlinewidth\":0,\"ticks\":\"\"}},\"colorscale\":{\"sequential\":[[0.0,\"#0d0887\"],[0.1111111111111111,\"#46039f\"],[0.2222222222222222,\"#7201a8\"],[0.3333333333333333,\"#9c179e\"],[0.4444444444444444,\"#bd3786\"],[0.5555555555555556,\"#d8576b\"],[0.6666666666666666,\"#ed7953\"],[0.7777777777777778,\"#fb9f3a\"],[0.8888888888888888,\"#fdca26\"],[1.0,\"#f0f921\"]],\"sequentialminus\":[[0.0,\"#0d0887\"],[0.1111111111111111,\"#46039f\"],[0.2222222222222222,\"#7201a8\"],[0.3333333333333333,\"#9c179e\"],[0.4444444444444444,\"#bd3786\"],[0.5555555555555556,\"#d8576b\"],[0.6666666666666666,\"#ed7953\"],[0.7777777777777778,\"#fb9f3a\"],[0.8888888888888888,\"#fdca26\"],[1.0,\"#f0f921\"]],\"diverging\":[[0,\"#8e0152\"],[0.1,\"#c51b7d\"],[0.2,\"#de77ae\"],[0.3,\"#f1b6da\"],[0.4,\"#fde0ef\"],[0.5,\"#f7f7f7\"],[0.6,\"#e6f5d0\"],[0.7,\"#b8e186\"],[0.8,\"#7fbc41\"],[0.9,\"#4d9221\"],[1,\"#276419\"]]},\"xaxis\":{\"gridcolor\":\"white\",\"linecolor\":\"white\",\"ticks\":\"\",\"title\":{\"standoff\":15},\"zerolinecolor\":\"white\",\"automargin\":true,\"zerolinewidth\":2},\"yaxis\":{\"gridcolor\":\"white\",\"linecolor\":\"white\",\"ticks\":\"\",\"title\":{\"standoff\":15},\"zerolinecolor\":\"white\",\"automargin\":true,\"zerolinewidth\":2},\"scene\":{\"xaxis\":{\"backgroundcolor\":\"#E5ECF6\",\"gridcolor\":\"white\",\"linecolor\":\"white\",\"showbackground\":true,\"ticks\":\"\",\"zerolinecolor\":\"white\",\"gridwidth\":2},\"yaxis\":{\"backgroundcolor\":\"#E5ECF6\",\"gridcolor\":\"white\",\"linecolor\":\"white\",\"showbackground\":true,\"ticks\":\"\",\"zerolinecolor\":\"white\",\"gridwidth\":2},\"zaxis\":{\"backgroundcolor\":\"#E5ECF6\",\"gridcolor\":\"white\",\"linecolor\":\"white\",\"showbackground\":true,\"ticks\":\"\",\"zerolinecolor\":\"white\",\"gridwidth\":2}},\"shapedefaults\":{\"line\":{\"color\":\"#2a3f5f\"}},\"annotationdefaults\":{\"arrowcolor\":\"#2a3f5f\",\"arrowhead\":0,\"arrowwidth\":1},\"geo\":{\"bgcolor\":\"white\",\"landcolor\":\"#E5ECF6\",\"subunitcolor\":\"white\",\"showland\":true,\"showlakes\":true,\"lakecolor\":\"white\"},\"title\":{\"x\":0.05},\"mapbox\":{\"style\":\"light\"}}},\"xaxis\":{\"anchor\":\"y\",\"domain\":[0.0,1.0],\"title\":{\"text\":\"Player Position (yards)\"}},\"yaxis\":{\"anchor\":\"x\",\"domain\":[0.0,1.0],\"title\":{\"text\":\"Player Position (yards)\"}},\"legend\":{\"title\":{\"text\":\"color\"},\"tracegroupgap\":0,\"itemsizing\":\"constant\"},\"margin\":{\"t\":60},\"updatemenus\":[{\"buttons\":[{\"args\":[null,{\"frame\":{\"duration\":500,\"redraw\":false},\"mode\":\"immediate\",\"fromcurrent\":true,\"transition\":{\"duration\":500,\"easing\":\"linear\"}}],\"label\":\"&#9654;\",\"method\":\"animate\"},{\"args\":[[null],{\"frame\":{\"duration\":0,\"redraw\":false},\"mode\":\"immediate\",\"fromcurrent\":true,\"transition\":{\"duration\":0,\"easing\":\"linear\"}}],\"label\":\"&#9724;\",\"method\":\"animate\"}],\"direction\":\"left\",\"pad\":{\"r\":10,\"t\":70},\"showactive\":false,\"type\":\"buttons\",\"x\":0.1,\"xanchor\":\"right\",\"y\":0,\"yanchor\":\"top\"}],\"sliders\":[{\"active\":0,\"currentvalue\":{\"prefix\":\"animation_frame=\"},\"len\":0.9,\"pad\":{\"b\":10,\"t\":60},\"steps\":[{\"args\":[[\"1\"],{\"frame\":{\"duration\":0,\"redraw\":false},\"mode\":\"immediate\",\"fromcurrent\":true,\"transition\":{\"duration\":0,\"easing\":\"linear\"}}],\"label\":\"1\",\"method\":\"animate\"},{\"args\":[[\"2\"],{\"frame\":{\"duration\":0,\"redraw\":false},\"mode\":\"immediate\",\"fromcurrent\":true,\"transition\":{\"duration\":0,\"easing\":\"linear\"}}],\"label\":\"2\",\"method\":\"animate\"},{\"args\":[[\"3\"],{\"frame\":{\"duration\":0,\"redraw\":false},\"mode\":\"immediate\",\"fromcurrent\":true,\"transition\":{\"duration\":0,\"easing\":\"linear\"}}],\"label\":\"3\",\"method\":\"animate\"},{\"args\":[[\"4\"],{\"frame\":{\"duration\":0,\"redraw\":false},\"mode\":\"immediate\",\"fromcurrent\":true,\"transition\":{\"duration\":0,\"easing\":\"linear\"}}],\"label\":\"4\",\"method\":\"animate\"},{\"args\":[[\"5\"],{\"frame\":{\"duration\":0,\"redraw\":false},\"mode\":\"immediate\",\"fromcurrent\":true,\"transition\":{\"duration\":0,\"easing\":\"linear\"}}],\"label\":\"5\",\"method\":\"animate\"},{\"args\":[[\"6\"],{\"frame\":{\"duration\":0,\"redraw\":false},\"mode\":\"immediate\",\"fromcurrent\":true,\"transition\":{\"duration\":0,\"easing\":\"linear\"}}],\"label\":\"6\",\"method\":\"animate\"},{\"args\":[[\"7\"],{\"frame\":{\"duration\":0,\"redraw\":false},\"mode\":\"immediate\",\"fromcurrent\":true,\"transition\":{\"duration\":0,\"easing\":\"linear\"}}],\"label\":\"7\",\"method\":\"animate\"},{\"args\":[[\"8\"],{\"frame\":{\"duration\":0,\"redraw\":false},\"mode\":\"immediate\",\"fromcurrent\":true,\"transition\":{\"duration\":0,\"easing\":\"linear\"}}],\"label\":\"8\",\"method\":\"animate\"},{\"args\":[[\"9\"],{\"frame\":{\"duration\":0,\"redraw\":false},\"mode\":\"immediate\",\"fromcurrent\":true,\"transition\":{\"duration\":0,\"easing\":\"linear\"}}],\"label\":\"9\",\"method\":\"animate\"},{\"args\":[[\"10\"],{\"frame\":{\"duration\":0,\"redraw\":false},\"mode\":\"immediate\",\"fromcurrent\":true,\"transition\":{\"duration\":0,\"easing\":\"linear\"}}],\"label\":\"10\",\"method\":\"animate\"},{\"args\":[[\"11\"],{\"frame\":{\"duration\":0,\"redraw\":false},\"mode\":\"immediate\",\"fromcurrent\":true,\"transition\":{\"duration\":0,\"easing\":\"linear\"}}],\"label\":\"11\",\"method\":\"animate\"},{\"args\":[[\"12\"],{\"frame\":{\"duration\":0,\"redraw\":false},\"mode\":\"immediate\",\"fromcurrent\":true,\"transition\":{\"duration\":0,\"easing\":\"linear\"}}],\"label\":\"12\",\"method\":\"animate\"},{\"args\":[[\"13\"],{\"frame\":{\"duration\":0,\"redraw\":false},\"mode\":\"immediate\",\"fromcurrent\":true,\"transition\":{\"duration\":0,\"easing\":\"linear\"}}],\"label\":\"13\",\"method\":\"animate\"},{\"args\":[[\"14\"],{\"frame\":{\"duration\":0,\"redraw\":false},\"mode\":\"immediate\",\"fromcurrent\":true,\"transition\":{\"duration\":0,\"easing\":\"linear\"}}],\"label\":\"14\",\"method\":\"animate\"},{\"args\":[[\"15\"],{\"frame\":{\"duration\":0,\"redraw\":false},\"mode\":\"immediate\",\"fromcurrent\":true,\"transition\":{\"duration\":0,\"easing\":\"linear\"}}],\"label\":\"15\",\"method\":\"animate\"},{\"args\":[[\"16\"],{\"frame\":{\"duration\":0,\"redraw\":false},\"mode\":\"immediate\",\"fromcurrent\":true,\"transition\":{\"duration\":0,\"easing\":\"linear\"}}],\"label\":\"16\",\"method\":\"animate\"},{\"args\":[[\"17\"],{\"frame\":{\"duration\":0,\"redraw\":false},\"mode\":\"immediate\",\"fromcurrent\":true,\"transition\":{\"duration\":0,\"easing\":\"linear\"}}],\"label\":\"17\",\"method\":\"animate\"},{\"args\":[[\"18\"],{\"frame\":{\"duration\":0,\"redraw\":false},\"mode\":\"immediate\",\"fromcurrent\":true,\"transition\":{\"duration\":0,\"easing\":\"linear\"}}],\"label\":\"18\",\"method\":\"animate\"},{\"args\":[[\"19\"],{\"frame\":{\"duration\":0,\"redraw\":false},\"mode\":\"immediate\",\"fromcurrent\":true,\"transition\":{\"duration\":0,\"easing\":\"linear\"}}],\"label\":\"19\",\"method\":\"animate\"},{\"args\":[[\"20\"],{\"frame\":{\"duration\":0,\"redraw\":false},\"mode\":\"immediate\",\"fromcurrent\":true,\"transition\":{\"duration\":0,\"easing\":\"linear\"}}],\"label\":\"20\",\"method\":\"animate\"},{\"args\":[[\"21\"],{\"frame\":{\"duration\":0,\"redraw\":false},\"mode\":\"immediate\",\"fromcurrent\":true,\"transition\":{\"duration\":0,\"easing\":\"linear\"}}],\"label\":\"21\",\"method\":\"animate\"},{\"args\":[[\"22\"],{\"frame\":{\"duration\":0,\"redraw\":false},\"mode\":\"immediate\",\"fromcurrent\":true,\"transition\":{\"duration\":0,\"easing\":\"linear\"}}],\"label\":\"22\",\"method\":\"animate\"}],\"x\":0.1,\"xanchor\":\"left\",\"y\":0,\"yanchor\":\"top\"}],\"title\":{\"text\":\"Football Field - Game ID, Play ID: (2022090800, 56) (Tackle Event)\"},\"shapes\":[{\"line\":{\"color\":\"black\"},\"type\":\"rect\",\"x0\":0,\"x1\":6,\"y0\":20.16,\"y1\":33.13},{\"line\":{\"color\":\"black\"},\"type\":\"rect\",\"x0\":114,\"x1\":120,\"y0\":20.16,\"y1\":33.13},{\"line\":{\"color\":\"black\"},\"type\":\"circle\",\"x0\":57,\"x1\":63,\"xref\":\"x\",\"y0\":26.65,\"y1\":26.65,\"yref\":\"y\"},{\"line\":{\"color\":\"black\"},\"type\":\"line\",\"x0\":60,\"x1\":60,\"y0\":0,\"y1\":53.3}]},                        {\"responsive\": true}                    ).then(function(){\n",
       "                            Plotly.addFrames('4b637058-344f-43cb-b4e0-a09268a2c0cb', [{\"data\":[{\"hovertemplate\":\"color=Rodger Saffold\\u003cbr\\u003eanimation_frame=1\\u003cbr\\u003ex=%{x}\\u003cbr\\u003ey=%{y}\\u003cbr\\u003eSpeed (yards\\u002fsecond)=%{marker.size}\\u003cextra\\u003e\\u003c\\u002fextra\\u003e\",\"legendgroup\":\"Rodger Saffold\",\"marker\":{\"color\":\"#636efa\",\"size\":[1.62],\"sizemode\":\"area\",\"sizeref\":0.015600000000000001,\"symbol\":\"circle\"},\"mode\":\"markers\",\"name\":\"Rodger Saffold\",\"orientation\":\"v\",\"showlegend\":true,\"x\":[88.37],\"xaxis\":\"x\",\"y\":[27.27],\"yaxis\":\"y\",\"type\":\"scatter\"},{\"hovertemplate\":\"color=Bobby Wagner\\u003cbr\\u003eanimation_frame=1\\u003cbr\\u003ex=%{x}\\u003cbr\\u003ey=%{y}\\u003cbr\\u003eSpeed (yards\\u002fsecond)=%{marker.size}\\u003cextra\\u003e\\u003c\\u002fextra\\u003e\",\"legendgroup\":\"Bobby Wagner\",\"marker\":{\"color\":\"#EF553B\",\"size\":[1.24],\"sizemode\":\"area\",\"sizeref\":0.015600000000000001,\"symbol\":\"circle\"},\"mode\":\"markers\",\"name\":\"Bobby Wagner\",\"orientation\":\"v\",\"showlegend\":true,\"x\":[78.25],\"xaxis\":\"x\",\"y\":[27.53],\"yaxis\":\"y\",\"type\":\"scatter\"},{\"hovertemplate\":\"color=Aaron Donald\\u003cbr\\u003eanimation_frame=1\\u003cbr\\u003ex=%{x}\\u003cbr\\u003ey=%{y}\\u003cbr\\u003eSpeed (yards\\u002fsecond)=%{marker.size}\\u003cextra\\u003e\\u003c\\u002fextra\\u003e\",\"legendgroup\":\"Aaron Donald\",\"marker\":{\"color\":\"#00cc96\",\"size\":[3.91],\"sizemode\":\"area\",\"sizeref\":0.015600000000000001,\"symbol\":\"circle\"},\"mode\":\"markers\",\"name\":\"Aaron Donald\",\"orientation\":\"v\",\"showlegend\":true,\"x\":[91.08],\"xaxis\":\"x\",\"y\":[31.61],\"yaxis\":\"y\",\"type\":\"scatter\"},{\"hovertemplate\":\"color=Mitch Morse\\u003cbr\\u003eanimation_frame=1\\u003cbr\\u003ex=%{x}\\u003cbr\\u003ey=%{y}\\u003cbr\\u003eSpeed (yards\\u002fsecond)=%{marker.size}\\u003cextra\\u003e\\u003c\\u002fextra\\u003e\",\"legendgroup\":\"Mitch Morse\",\"marker\":{\"color\":\"#ab63fa\",\"size\":[0.67],\"sizemode\":\"area\",\"sizeref\":0.015600000000000001,\"symbol\":\"circle\"},\"mode\":\"markers\",\"name\":\"Mitch Morse\",\"orientation\":\"v\",\"showlegend\":true,\"x\":[88.25],\"xaxis\":\"x\",\"y\":[28.74],\"yaxis\":\"y\",\"type\":\"scatter\"},{\"hovertemplate\":\"color=Stefon Diggs\\u003cbr\\u003eanimation_frame=1\\u003cbr\\u003ex=%{x}\\u003cbr\\u003ey=%{y}\\u003cbr\\u003eSpeed (yards\\u002fsecond)=%{marker.size}\\u003cextra\\u003e\\u003c\\u002fextra\\u003e\",\"legendgroup\":\"Stefon Diggs\",\"marker\":{\"color\":\"#FFA15A\",\"size\":[6.23],\"sizemode\":\"area\",\"sizeref\":0.015600000000000001,\"symbol\":\"circle\"},\"mode\":\"markers\",\"name\":\"Stefon Diggs\",\"orientation\":\"v\",\"showlegend\":true,\"x\":[80.6],\"xaxis\":\"x\",\"y\":[38.29],\"yaxis\":\"y\",\"type\":\"scatter\"}],\"name\":\"1\"},{\"data\":[{\"hovertemplate\":\"color=Rodger Saffold\\u003cbr\\u003eanimation_frame=2\\u003cbr\\u003ex=%{x}\\u003cbr\\u003ey=%{y}\\u003cbr\\u003eSpeed (yards\\u002fsecond)=%{marker.size}\\u003cextra\\u003e\\u003c\\u002fextra\\u003e\",\"legendgroup\":\"Rodger Saffold\",\"marker\":{\"color\":\"#636efa\",\"size\":[1.67],\"sizemode\":\"area\",\"sizeref\":0.015600000000000001,\"symbol\":\"circle\"},\"mode\":\"markers\",\"name\":\"Rodger Saffold\",\"orientation\":\"v\",\"showlegend\":true,\"x\":[88.47],\"xaxis\":\"x\",\"y\":[27.13],\"yaxis\":\"y\",\"type\":\"scatter\"},{\"hovertemplate\":\"color=Bobby Wagner\\u003cbr\\u003eanimation_frame=2\\u003cbr\\u003ex=%{x}\\u003cbr\\u003ey=%{y}\\u003cbr\\u003eSpeed (yards\\u002fsecond)=%{marker.size}\\u003cextra\\u003e\\u003c\\u002fextra\\u003e\",\"legendgroup\":\"Bobby Wagner\",\"marker\":{\"color\":\"#EF553B\",\"size\":[1.78],\"sizemode\":\"area\",\"sizeref\":0.015600000000000001,\"symbol\":\"circle\"},\"mode\":\"markers\",\"name\":\"Bobby Wagner\",\"orientation\":\"v\",\"showlegend\":true,\"x\":[78.2],\"xaxis\":\"x\",\"y\":[27.69],\"yaxis\":\"y\",\"type\":\"scatter\"},{\"hovertemplate\":\"color=Aaron Donald\\u003cbr\\u003eanimation_frame=2\\u003cbr\\u003ex=%{x}\\u003cbr\\u003ey=%{y}\\u003cbr\\u003eSpeed (yards\\u002fsecond)=%{marker.size}\\u003cextra\\u003e\\u003c\\u002fextra\\u003e\",\"legendgroup\":\"Aaron Donald\",\"marker\":{\"color\":\"#00cc96\",\"size\":[3.93],\"sizemode\":\"area\",\"sizeref\":0.015600000000000001,\"symbol\":\"circle\"},\"mode\":\"markers\",\"name\":\"Aaron Donald\",\"orientation\":\"v\",\"showlegend\":true,\"x\":[91.36],\"xaxis\":\"x\",\"y\":[31.32],\"yaxis\":\"y\",\"type\":\"scatter\"},{\"hovertemplate\":\"color=Mitch Morse\\u003cbr\\u003eanimation_frame=2\\u003cbr\\u003ex=%{x}\\u003cbr\\u003ey=%{y}\\u003cbr\\u003eSpeed (yards\\u002fsecond)=%{marker.size}\\u003cextra\\u003e\\u003c\\u002fextra\\u003e\",\"legendgroup\":\"Mitch Morse\",\"marker\":{\"color\":\"#ab63fa\",\"size\":[0.82],\"sizemode\":\"area\",\"sizeref\":0.015600000000000001,\"symbol\":\"circle\"},\"mode\":\"markers\",\"name\":\"Mitch Morse\",\"orientation\":\"v\",\"showlegend\":true,\"x\":[88.26],\"xaxis\":\"x\",\"y\":[28.82],\"yaxis\":\"y\",\"type\":\"scatter\"},{\"hovertemplate\":\"color=Stefon Diggs\\u003cbr\\u003eanimation_frame=2\\u003cbr\\u003ex=%{x}\\u003cbr\\u003ey=%{y}\\u003cbr\\u003eSpeed (yards\\u002fsecond)=%{marker.size}\\u003cextra\\u003e\\u003c\\u002fextra\\u003e\",\"legendgroup\":\"Stefon Diggs\",\"marker\":{\"color\":\"#FFA15A\",\"size\":[6.24],\"sizemode\":\"area\",\"sizeref\":0.015600000000000001,\"symbol\":\"circle\"},\"mode\":\"markers\",\"name\":\"Stefon Diggs\",\"orientation\":\"v\",\"showlegend\":true,\"x\":[80.48],\"xaxis\":\"x\",\"y\":[37.68],\"yaxis\":\"y\",\"type\":\"scatter\"}],\"name\":\"2\"},{\"data\":[{\"hovertemplate\":\"color=Rodger Saffold\\u003cbr\\u003eanimation_frame=3\\u003cbr\\u003ex=%{x}\\u003cbr\\u003ey=%{y}\\u003cbr\\u003eSpeed (yards\\u002fsecond)=%{marker.size}\\u003cextra\\u003e\\u003c\\u002fextra\\u003e\",\"legendgroup\":\"Rodger Saffold\",\"marker\":{\"color\":\"#636efa\",\"size\":[1.57],\"sizemode\":\"area\",\"sizeref\":0.015600000000000001,\"symbol\":\"circle\"},\"mode\":\"markers\",\"name\":\"Rodger Saffold\",\"orientation\":\"v\",\"showlegend\":true,\"x\":[88.56],\"xaxis\":\"x\",\"y\":[27.01],\"yaxis\":\"y\",\"type\":\"scatter\"},{\"hovertemplate\":\"color=Bobby Wagner\\u003cbr\\u003eanimation_frame=3\\u003cbr\\u003ex=%{x}\\u003cbr\\u003ey=%{y}\\u003cbr\\u003eSpeed (yards\\u002fsecond)=%{marker.size}\\u003cextra\\u003e\\u003c\\u002fextra\\u003e\",\"legendgroup\":\"Bobby Wagner\",\"marker\":{\"color\":\"#EF553B\",\"size\":[2.21],\"sizemode\":\"area\",\"sizeref\":0.015600000000000001,\"symbol\":\"circle\"},\"mode\":\"markers\",\"name\":\"Bobby Wagner\",\"orientation\":\"v\",\"showlegend\":true,\"x\":[78.16],\"xaxis\":\"x\",\"y\":[27.88],\"yaxis\":\"y\",\"type\":\"scatter\"},{\"hovertemplate\":\"color=Aaron Donald\\u003cbr\\u003eanimation_frame=3\\u003cbr\\u003ex=%{x}\\u003cbr\\u003ey=%{y}\\u003cbr\\u003eSpeed (yards\\u002fsecond)=%{marker.size}\\u003cextra\\u003e\\u003c\\u002fextra\\u003e\",\"legendgroup\":\"Aaron Donald\",\"marker\":{\"color\":\"#00cc96\",\"size\":[3.99],\"sizemode\":\"area\",\"sizeref\":0.015600000000000001,\"symbol\":\"circle\"},\"mode\":\"markers\",\"name\":\"Aaron Donald\",\"orientation\":\"v\",\"showlegend\":true,\"x\":[91.62],\"xaxis\":\"x\",\"y\":[30.98],\"yaxis\":\"y\",\"type\":\"scatter\"},{\"hovertemplate\":\"color=Mitch Morse\\u003cbr\\u003eanimation_frame=3\\u003cbr\\u003ex=%{x}\\u003cbr\\u003ey=%{y}\\u003cbr\\u003eSpeed (yards\\u002fsecond)=%{marker.size}\\u003cextra\\u003e\\u003c\\u002fextra\\u003e\",\"legendgroup\":\"Mitch Morse\",\"marker\":{\"color\":\"#ab63fa\",\"size\":[1.01],\"sizemode\":\"area\",\"sizeref\":0.015600000000000001,\"symbol\":\"circle\"},\"mode\":\"markers\",\"name\":\"Mitch Morse\",\"orientation\":\"v\",\"showlegend\":true,\"x\":[88.27],\"xaxis\":\"x\",\"y\":[28.92],\"yaxis\":\"y\",\"type\":\"scatter\"},{\"hovertemplate\":\"color=Stefon Diggs\\u003cbr\\u003eanimation_frame=3\\u003cbr\\u003ex=%{x}\\u003cbr\\u003ey=%{y}\\u003cbr\\u003eSpeed (yards\\u002fsecond)=%{marker.size}\\u003cextra\\u003e\\u003c\\u002fextra\\u003e\",\"legendgroup\":\"Stefon Diggs\",\"marker\":{\"color\":\"#FFA15A\",\"size\":[5.98],\"sizemode\":\"area\",\"sizeref\":0.015600000000000001,\"symbol\":\"circle\"},\"mode\":\"markers\",\"name\":\"Stefon Diggs\",\"orientation\":\"v\",\"showlegend\":true,\"x\":[80.34],\"xaxis\":\"x\",\"y\":[37.09],\"yaxis\":\"y\",\"type\":\"scatter\"}],\"name\":\"3\"},{\"data\":[{\"hovertemplate\":\"color=Rodger Saffold\\u003cbr\\u003eanimation_frame=4\\u003cbr\\u003ex=%{x}\\u003cbr\\u003ey=%{y}\\u003cbr\\u003eSpeed (yards\\u002fsecond)=%{marker.size}\\u003cextra\\u003e\\u003c\\u002fextra\\u003e\",\"legendgroup\":\"Rodger Saffold\",\"marker\":{\"color\":\"#636efa\",\"size\":[1.44],\"sizemode\":\"area\",\"sizeref\":0.015600000000000001,\"symbol\":\"circle\"},\"mode\":\"markers\",\"name\":\"Rodger Saffold\",\"orientation\":\"v\",\"showlegend\":true,\"x\":[88.64],\"xaxis\":\"x\",\"y\":[26.9],\"yaxis\":\"y\",\"type\":\"scatter\"},{\"hovertemplate\":\"color=Bobby Wagner\\u003cbr\\u003eanimation_frame=4\\u003cbr\\u003ex=%{x}\\u003cbr\\u003ey=%{y}\\u003cbr\\u003eSpeed (yards\\u002fsecond)=%{marker.size}\\u003cextra\\u003e\\u003c\\u002fextra\\u003e\",\"legendgroup\":\"Bobby Wagner\",\"marker\":{\"color\":\"#EF553B\",\"size\":[2.7],\"sizemode\":\"area\",\"sizeref\":0.015600000000000001,\"symbol\":\"circle\"},\"mode\":\"markers\",\"name\":\"Bobby Wagner\",\"orientation\":\"v\",\"showlegend\":true,\"x\":[78.14],\"xaxis\":\"x\",\"y\":[28.13],\"yaxis\":\"y\",\"type\":\"scatter\"},{\"hovertemplate\":\"color=Aaron Donald\\u003cbr\\u003eanimation_frame=4\\u003cbr\\u003ex=%{x}\\u003cbr\\u003ey=%{y}\\u003cbr\\u003eSpeed (yards\\u002fsecond)=%{marker.size}\\u003cextra\\u003e\\u003c\\u002fextra\\u003e\",\"legendgroup\":\"Aaron Donald\",\"marker\":{\"color\":\"#00cc96\",\"size\":[3.93],\"sizemode\":\"area\",\"sizeref\":0.015600000000000001,\"symbol\":\"circle\"},\"mode\":\"markers\",\"name\":\"Aaron Donald\",\"orientation\":\"v\",\"showlegend\":true,\"x\":[91.83],\"xaxis\":\"x\",\"y\":[30.65],\"yaxis\":\"y\",\"type\":\"scatter\"},{\"hovertemplate\":\"color=Mitch Morse\\u003cbr\\u003eanimation_frame=4\\u003cbr\\u003ex=%{x}\\u003cbr\\u003ey=%{y}\\u003cbr\\u003eSpeed (yards\\u002fsecond)=%{marker.size}\\u003cextra\\u003e\\u003c\\u002fextra\\u003e\",\"legendgroup\":\"Mitch Morse\",\"marker\":{\"color\":\"#ab63fa\",\"size\":[1.17],\"sizemode\":\"area\",\"sizeref\":0.015600000000000001,\"symbol\":\"circle\"},\"mode\":\"markers\",\"name\":\"Mitch Morse\",\"orientation\":\"v\",\"showlegend\":true,\"x\":[88.26],\"xaxis\":\"x\",\"y\":[29.04],\"yaxis\":\"y\",\"type\":\"scatter\"},{\"hovertemplate\":\"color=Stefon Diggs\\u003cbr\\u003eanimation_frame=4\\u003cbr\\u003ex=%{x}\\u003cbr\\u003ey=%{y}\\u003cbr\\u003eSpeed (yards\\u002fsecond)=%{marker.size}\\u003cextra\\u003e\\u003c\\u002fextra\\u003e\",\"legendgroup\":\"Stefon Diggs\",\"marker\":{\"color\":\"#FFA15A\",\"size\":[5.67],\"sizemode\":\"area\",\"sizeref\":0.015600000000000001,\"symbol\":\"circle\"},\"mode\":\"markers\",\"name\":\"Stefon Diggs\",\"orientation\":\"v\",\"showlegend\":true,\"x\":[80.19],\"xaxis\":\"x\",\"y\":[36.53],\"yaxis\":\"y\",\"type\":\"scatter\"}],\"name\":\"4\"},{\"data\":[{\"hovertemplate\":\"color=Rodger Saffold\\u003cbr\\u003eanimation_frame=5\\u003cbr\\u003ex=%{x}\\u003cbr\\u003ey=%{y}\\u003cbr\\u003eSpeed (yards\\u002fsecond)=%{marker.size}\\u003cextra\\u003e\\u003c\\u002fextra\\u003e\",\"legendgroup\":\"Rodger Saffold\",\"marker\":{\"color\":\"#636efa\",\"size\":[1.29],\"sizemode\":\"area\",\"sizeref\":0.015600000000000001,\"symbol\":\"circle\"},\"mode\":\"markers\",\"name\":\"Rodger Saffold\",\"orientation\":\"v\",\"showlegend\":true,\"x\":[88.72],\"xaxis\":\"x\",\"y\":[26.8],\"yaxis\":\"y\",\"type\":\"scatter\"},{\"hovertemplate\":\"color=Bobby Wagner\\u003cbr\\u003eanimation_frame=5\\u003cbr\\u003ex=%{x}\\u003cbr\\u003ey=%{y}\\u003cbr\\u003eSpeed (yards\\u002fsecond)=%{marker.size}\\u003cextra\\u003e\\u003c\\u002fextra\\u003e\",\"legendgroup\":\"Bobby Wagner\",\"marker\":{\"color\":\"#EF553B\",\"size\":[3.05],\"sizemode\":\"area\",\"sizeref\":0.015600000000000001,\"symbol\":\"circle\"},\"mode\":\"markers\",\"name\":\"Bobby Wagner\",\"orientation\":\"v\",\"showlegend\":true,\"x\":[78.12],\"xaxis\":\"x\",\"y\":[28.42],\"yaxis\":\"y\",\"type\":\"scatter\"},{\"hovertemplate\":\"color=Aaron Donald\\u003cbr\\u003eanimation_frame=5\\u003cbr\\u003ex=%{x}\\u003cbr\\u003ey=%{y}\\u003cbr\\u003eSpeed (yards\\u002fsecond)=%{marker.size}\\u003cextra\\u003e\\u003c\\u002fextra\\u003e\",\"legendgroup\":\"Aaron Donald\",\"marker\":{\"color\":\"#00cc96\",\"size\":[3.82],\"sizemode\":\"area\",\"sizeref\":0.015600000000000001,\"symbol\":\"circle\"},\"mode\":\"markers\",\"name\":\"Aaron Donald\",\"orientation\":\"v\",\"showlegend\":true,\"x\":[92.01],\"xaxis\":\"x\",\"y\":[30.3],\"yaxis\":\"y\",\"type\":\"scatter\"},{\"hovertemplate\":\"color=Mitch Morse\\u003cbr\\u003eanimation_frame=5\\u003cbr\\u003ex=%{x}\\u003cbr\\u003ey=%{y}\\u003cbr\\u003eSpeed (yards\\u002fsecond)=%{marker.size}\\u003cextra\\u003e\\u003c\\u002fextra\\u003e\",\"legendgroup\":\"Mitch Morse\",\"marker\":{\"color\":\"#ab63fa\",\"size\":[1.32],\"sizemode\":\"area\",\"sizeref\":0.015600000000000001,\"symbol\":\"circle\"},\"mode\":\"markers\",\"name\":\"Mitch Morse\",\"orientation\":\"v\",\"showlegend\":true,\"x\":[88.24],\"xaxis\":\"x\",\"y\":[29.17],\"yaxis\":\"y\",\"type\":\"scatter\"},{\"hovertemplate\":\"color=Stefon Diggs\\u003cbr\\u003eanimation_frame=5\\u003cbr\\u003ex=%{x}\\u003cbr\\u003ey=%{y}\\u003cbr\\u003eSpeed (yards\\u002fsecond)=%{marker.size}\\u003cextra\\u003e\\u003c\\u002fextra\\u003e\",\"legendgroup\":\"Stefon Diggs\",\"marker\":{\"color\":\"#FFA15A\",\"size\":[5.43],\"sizemode\":\"area\",\"sizeref\":0.015600000000000001,\"symbol\":\"circle\"},\"mode\":\"markers\",\"name\":\"Stefon Diggs\",\"orientation\":\"v\",\"showlegend\":true,\"x\":[80.01],\"xaxis\":\"x\",\"y\":[36.0],\"yaxis\":\"y\",\"type\":\"scatter\"}],\"name\":\"5\"},{\"data\":[{\"hovertemplate\":\"color=Rodger Saffold\\u003cbr\\u003eanimation_frame=6\\u003cbr\\u003ex=%{x}\\u003cbr\\u003ey=%{y}\\u003cbr\\u003eSpeed (yards\\u002fsecond)=%{marker.size}\\u003cextra\\u003e\\u003c\\u002fextra\\u003e\",\"legendgroup\":\"Rodger Saffold\",\"marker\":{\"color\":\"#636efa\",\"size\":[1.15],\"sizemode\":\"area\",\"sizeref\":0.015600000000000001,\"symbol\":\"circle\"},\"mode\":\"markers\",\"name\":\"Rodger Saffold\",\"orientation\":\"v\",\"showlegend\":true,\"x\":[88.8],\"xaxis\":\"x\",\"y\":[26.7],\"yaxis\":\"y\",\"type\":\"scatter\"},{\"hovertemplate\":\"color=Bobby Wagner\\u003cbr\\u003eanimation_frame=6\\u003cbr\\u003ex=%{x}\\u003cbr\\u003ey=%{y}\\u003cbr\\u003eSpeed (yards\\u002fsecond)=%{marker.size}\\u003cextra\\u003e\\u003c\\u002fextra\\u003e\",\"legendgroup\":\"Bobby Wagner\",\"marker\":{\"color\":\"#EF553B\",\"size\":[3.35],\"sizemode\":\"area\",\"sizeref\":0.015600000000000001,\"symbol\":\"circle\"},\"mode\":\"markers\",\"name\":\"Bobby Wagner\",\"orientation\":\"v\",\"showlegend\":true,\"x\":[78.11],\"xaxis\":\"x\",\"y\":[28.74],\"yaxis\":\"y\",\"type\":\"scatter\"},{\"hovertemplate\":\"color=Aaron Donald\\u003cbr\\u003eanimation_frame=6\\u003cbr\\u003ex=%{x}\\u003cbr\\u003ey=%{y}\\u003cbr\\u003eSpeed (yards\\u002fsecond)=%{marker.size}\\u003cextra\\u003e\\u003c\\u002fextra\\u003e\",\"legendgroup\":\"Aaron Donald\",\"marker\":{\"color\":\"#00cc96\",\"size\":[3.62],\"sizemode\":\"area\",\"sizeref\":0.015600000000000001,\"symbol\":\"circle\"},\"mode\":\"markers\",\"name\":\"Aaron Donald\",\"orientation\":\"v\",\"showlegend\":true,\"x\":[92.15],\"xaxis\":\"x\",\"y\":[29.96],\"yaxis\":\"y\",\"type\":\"scatter\"},{\"hovertemplate\":\"color=Mitch Morse\\u003cbr\\u003eanimation_frame=6\\u003cbr\\u003ex=%{x}\\u003cbr\\u003ey=%{y}\\u003cbr\\u003eSpeed (yards\\u002fsecond)=%{marker.size}\\u003cextra\\u003e\\u003c\\u002fextra\\u003e\",\"legendgroup\":\"Mitch Morse\",\"marker\":{\"color\":\"#ab63fa\",\"size\":[1.42],\"sizemode\":\"area\",\"sizeref\":0.015600000000000001,\"symbol\":\"circle\"},\"mode\":\"markers\",\"name\":\"Mitch Morse\",\"orientation\":\"v\",\"showlegend\":true,\"x\":[88.21],\"xaxis\":\"x\",\"y\":[29.31],\"yaxis\":\"y\",\"type\":\"scatter\"},{\"hovertemplate\":\"color=Stefon Diggs\\u003cbr\\u003eanimation_frame=6\\u003cbr\\u003ex=%{x}\\u003cbr\\u003ey=%{y}\\u003cbr\\u003eSpeed (yards\\u002fsecond)=%{marker.size}\\u003cextra\\u003e\\u003c\\u002fextra\\u003e\",\"legendgroup\":\"Stefon Diggs\",\"marker\":{\"color\":\"#FFA15A\",\"size\":[4.61],\"sizemode\":\"area\",\"sizeref\":0.015600000000000001,\"symbol\":\"circle\"},\"mode\":\"markers\",\"name\":\"Stefon Diggs\",\"orientation\":\"v\",\"showlegend\":true,\"x\":[79.85],\"xaxis\":\"x\",\"y\":[35.59],\"yaxis\":\"y\",\"type\":\"scatter\"}],\"name\":\"6\"},{\"data\":[{\"hovertemplate\":\"color=Rodger Saffold\\u003cbr\\u003eanimation_frame=7\\u003cbr\\u003ex=%{x}\\u003cbr\\u003ey=%{y}\\u003cbr\\u003eSpeed (yards\\u002fsecond)=%{marker.size}\\u003cextra\\u003e\\u003c\\u002fextra\\u003e\",\"legendgroup\":\"Rodger Saffold\",\"marker\":{\"color\":\"#636efa\",\"size\":[0.93],\"sizemode\":\"area\",\"sizeref\":0.015600000000000001,\"symbol\":\"circle\"},\"mode\":\"markers\",\"name\":\"Rodger Saffold\",\"orientation\":\"v\",\"showlegend\":true,\"x\":[88.87],\"xaxis\":\"x\",\"y\":[26.64],\"yaxis\":\"y\",\"type\":\"scatter\"},{\"hovertemplate\":\"color=Bobby Wagner\\u003cbr\\u003eanimation_frame=7\\u003cbr\\u003ex=%{x}\\u003cbr\\u003ey=%{y}\\u003cbr\\u003eSpeed (yards\\u002fsecond)=%{marker.size}\\u003cextra\\u003e\\u003c\\u002fextra\\u003e\",\"legendgroup\":\"Bobby Wagner\",\"marker\":{\"color\":\"#EF553B\",\"size\":[3.52],\"sizemode\":\"area\",\"sizeref\":0.015600000000000001,\"symbol\":\"circle\"},\"mode\":\"markers\",\"name\":\"Bobby Wagner\",\"orientation\":\"v\",\"showlegend\":true,\"x\":[78.1],\"xaxis\":\"x\",\"y\":[29.08],\"yaxis\":\"y\",\"type\":\"scatter\"},{\"hovertemplate\":\"color=Aaron Donald\\u003cbr\\u003eanimation_frame=7\\u003cbr\\u003ex=%{x}\\u003cbr\\u003ey=%{y}\\u003cbr\\u003eSpeed (yards\\u002fsecond)=%{marker.size}\\u003cextra\\u003e\\u003c\\u002fextra\\u003e\",\"legendgroup\":\"Aaron Donald\",\"marker\":{\"color\":\"#00cc96\",\"size\":[3.4],\"sizemode\":\"area\",\"sizeref\":0.015600000000000001,\"symbol\":\"circle\"},\"mode\":\"markers\",\"name\":\"Aaron Donald\",\"orientation\":\"v\",\"showlegend\":true,\"x\":[92.26],\"xaxis\":\"x\",\"y\":[29.63],\"yaxis\":\"y\",\"type\":\"scatter\"},{\"hovertemplate\":\"color=Mitch Morse\\u003cbr\\u003eanimation_frame=7\\u003cbr\\u003ex=%{x}\\u003cbr\\u003ey=%{y}\\u003cbr\\u003eSpeed (yards\\u002fsecond)=%{marker.size}\\u003cextra\\u003e\\u003c\\u002fextra\\u003e\",\"legendgroup\":\"Mitch Morse\",\"marker\":{\"color\":\"#ab63fa\",\"size\":[1.46],\"sizemode\":\"area\",\"sizeref\":0.015600000000000001,\"symbol\":\"circle\"},\"mode\":\"markers\",\"name\":\"Mitch Morse\",\"orientation\":\"v\",\"showlegend\":true,\"x\":[88.18],\"xaxis\":\"x\",\"y\":[29.45],\"yaxis\":\"y\",\"type\":\"scatter\"},{\"hovertemplate\":\"color=Stefon Diggs\\u003cbr\\u003eanimation_frame=7\\u003cbr\\u003ex=%{x}\\u003cbr\\u003ey=%{y}\\u003cbr\\u003eSpeed (yards\\u002fsecond)=%{marker.size}\\u003cextra\\u003e\\u003c\\u002fextra\\u003e\",\"legendgroup\":\"Stefon Diggs\",\"marker\":{\"color\":\"#FFA15A\",\"size\":[4.01],\"sizemode\":\"area\",\"sizeref\":0.015600000000000001,\"symbol\":\"circle\"},\"mode\":\"markers\",\"name\":\"Stefon Diggs\",\"orientation\":\"v\",\"showlegend\":true,\"x\":[79.69],\"xaxis\":\"x\",\"y\":[35.2],\"yaxis\":\"y\",\"type\":\"scatter\"}],\"name\":\"7\"},{\"data\":[{\"hovertemplate\":\"color=Rodger Saffold\\u003cbr\\u003eanimation_frame=8\\u003cbr\\u003ex=%{x}\\u003cbr\\u003ey=%{y}\\u003cbr\\u003eSpeed (yards\\u002fsecond)=%{marker.size}\\u003cextra\\u003e\\u003c\\u002fextra\\u003e\",\"legendgroup\":\"Rodger Saffold\",\"marker\":{\"color\":\"#636efa\",\"size\":[0.68],\"sizemode\":\"area\",\"sizeref\":0.015600000000000001,\"symbol\":\"circle\"},\"mode\":\"markers\",\"name\":\"Rodger Saffold\",\"orientation\":\"v\",\"showlegend\":true,\"x\":[88.91],\"xaxis\":\"x\",\"y\":[26.59],\"yaxis\":\"y\",\"type\":\"scatter\"},{\"hovertemplate\":\"color=Bobby Wagner\\u003cbr\\u003eanimation_frame=8\\u003cbr\\u003ex=%{x}\\u003cbr\\u003ey=%{y}\\u003cbr\\u003eSpeed (yards\\u002fsecond)=%{marker.size}\\u003cextra\\u003e\\u003c\\u002fextra\\u003e\",\"legendgroup\":\"Bobby Wagner\",\"marker\":{\"color\":\"#EF553B\",\"size\":[3.65],\"sizemode\":\"area\",\"sizeref\":0.015600000000000001,\"symbol\":\"circle\"},\"mode\":\"markers\",\"name\":\"Bobby Wagner\",\"orientation\":\"v\",\"showlegend\":true,\"x\":[78.1],\"xaxis\":\"x\",\"y\":[29.44],\"yaxis\":\"y\",\"type\":\"scatter\"},{\"hovertemplate\":\"color=Aaron Donald\\u003cbr\\u003eanimation_frame=8\\u003cbr\\u003ex=%{x}\\u003cbr\\u003ey=%{y}\\u003cbr\\u003eSpeed (yards\\u002fsecond)=%{marker.size}\\u003cextra\\u003e\\u003c\\u002fextra\\u003e\",\"legendgroup\":\"Aaron Donald\",\"marker\":{\"color\":\"#00cc96\",\"size\":[3.17],\"sizemode\":\"area\",\"sizeref\":0.015600000000000001,\"symbol\":\"circle\"},\"mode\":\"markers\",\"name\":\"Aaron Donald\",\"orientation\":\"v\",\"showlegend\":true,\"x\":[92.33],\"xaxis\":\"x\",\"y\":[29.31],\"yaxis\":\"y\",\"type\":\"scatter\"},{\"hovertemplate\":\"color=Mitch Morse\\u003cbr\\u003eanimation_frame=8\\u003cbr\\u003ex=%{x}\\u003cbr\\u003ey=%{y}\\u003cbr\\u003eSpeed (yards\\u002fsecond)=%{marker.size}\\u003cextra\\u003e\\u003c\\u002fextra\\u003e\",\"legendgroup\":\"Mitch Morse\",\"marker\":{\"color\":\"#ab63fa\",\"size\":[1.44],\"sizemode\":\"area\",\"sizeref\":0.015600000000000001,\"symbol\":\"circle\"},\"mode\":\"markers\",\"name\":\"Mitch Morse\",\"orientation\":\"v\",\"showlegend\":true,\"x\":[88.14],\"xaxis\":\"x\",\"y\":[29.59],\"yaxis\":\"y\",\"type\":\"scatter\"},{\"hovertemplate\":\"color=Stefon Diggs\\u003cbr\\u003eanimation_frame=8\\u003cbr\\u003ex=%{x}\\u003cbr\\u003ey=%{y}\\u003cbr\\u003eSpeed (yards\\u002fsecond)=%{marker.size}\\u003cextra\\u003e\\u003c\\u002fextra\\u003e\",\"legendgroup\":\"Stefon Diggs\",\"marker\":{\"color\":\"#FFA15A\",\"size\":[3.44],\"sizemode\":\"area\",\"sizeref\":0.015600000000000001,\"symbol\":\"circle\"},\"mode\":\"markers\",\"name\":\"Stefon Diggs\",\"orientation\":\"v\",\"showlegend\":true,\"x\":[79.54],\"xaxis\":\"x\",\"y\":[34.88],\"yaxis\":\"y\",\"type\":\"scatter\"}],\"name\":\"8\"},{\"data\":[{\"hovertemplate\":\"color=Rodger Saffold\\u003cbr\\u003eanimation_frame=9\\u003cbr\\u003ex=%{x}\\u003cbr\\u003ey=%{y}\\u003cbr\\u003eSpeed (yards\\u002fsecond)=%{marker.size}\\u003cextra\\u003e\\u003c\\u002fextra\\u003e\",\"legendgroup\":\"Rodger Saffold\",\"marker\":{\"color\":\"#636efa\",\"size\":[0.42],\"sizemode\":\"area\",\"sizeref\":0.015600000000000001,\"symbol\":\"circle\"},\"mode\":\"markers\",\"name\":\"Rodger Saffold\",\"orientation\":\"v\",\"showlegend\":true,\"x\":[88.94],\"xaxis\":\"x\",\"y\":[26.57],\"yaxis\":\"y\",\"type\":\"scatter\"},{\"hovertemplate\":\"color=Bobby Wagner\\u003cbr\\u003eanimation_frame=9\\u003cbr\\u003ex=%{x}\\u003cbr\\u003ey=%{y}\\u003cbr\\u003eSpeed (yards\\u002fsecond)=%{marker.size}\\u003cextra\\u003e\\u003c\\u002fextra\\u003e\",\"legendgroup\":\"Bobby Wagner\",\"marker\":{\"color\":\"#EF553B\",\"size\":[3.65],\"sizemode\":\"area\",\"sizeref\":0.015600000000000001,\"symbol\":\"circle\"},\"mode\":\"markers\",\"name\":\"Bobby Wagner\",\"orientation\":\"v\",\"showlegend\":true,\"x\":[78.11],\"xaxis\":\"x\",\"y\":[29.8],\"yaxis\":\"y\",\"type\":\"scatter\"},{\"hovertemplate\":\"color=Aaron Donald\\u003cbr\\u003eanimation_frame=9\\u003cbr\\u003ex=%{x}\\u003cbr\\u003ey=%{y}\\u003cbr\\u003eSpeed (yards\\u002fsecond)=%{marker.size}\\u003cextra\\u003e\\u003c\\u002fextra\\u003e\",\"legendgroup\":\"Aaron Donald\",\"marker\":{\"color\":\"#00cc96\",\"size\":[2.9],\"sizemode\":\"area\",\"sizeref\":0.015600000000000001,\"symbol\":\"circle\"},\"mode\":\"markers\",\"name\":\"Aaron Donald\",\"orientation\":\"v\",\"showlegend\":true,\"x\":[92.35],\"xaxis\":\"x\",\"y\":[29.02],\"yaxis\":\"y\",\"type\":\"scatter\"},{\"hovertemplate\":\"color=Mitch Morse\\u003cbr\\u003eanimation_frame=9\\u003cbr\\u003ex=%{x}\\u003cbr\\u003ey=%{y}\\u003cbr\\u003eSpeed (yards\\u002fsecond)=%{marker.size}\\u003cextra\\u003e\\u003c\\u002fextra\\u003e\",\"legendgroup\":\"Mitch Morse\",\"marker\":{\"color\":\"#ab63fa\",\"size\":[1.4],\"sizemode\":\"area\",\"sizeref\":0.015600000000000001,\"symbol\":\"circle\"},\"mode\":\"markers\",\"name\":\"Mitch Morse\",\"orientation\":\"v\",\"showlegend\":true,\"x\":[88.08],\"xaxis\":\"x\",\"y\":[29.72],\"yaxis\":\"y\",\"type\":\"scatter\"},{\"hovertemplate\":\"color=Stefon Diggs\\u003cbr\\u003eanimation_frame=9\\u003cbr\\u003ex=%{x}\\u003cbr\\u003ey=%{y}\\u003cbr\\u003eSpeed (yards\\u002fsecond)=%{marker.size}\\u003cextra\\u003e\\u003c\\u002fextra\\u003e\",\"legendgroup\":\"Stefon Diggs\",\"marker\":{\"color\":\"#FFA15A\",\"size\":[2.83],\"sizemode\":\"area\",\"sizeref\":0.015600000000000001,\"symbol\":\"circle\"},\"mode\":\"markers\",\"name\":\"Stefon Diggs\",\"orientation\":\"v\",\"showlegend\":true,\"x\":[79.41],\"xaxis\":\"x\",\"y\":[34.61],\"yaxis\":\"y\",\"type\":\"scatter\"}],\"name\":\"9\"},{\"data\":[{\"hovertemplate\":\"color=Rodger Saffold\\u003cbr\\u003eanimation_frame=10\\u003cbr\\u003ex=%{x}\\u003cbr\\u003ey=%{y}\\u003cbr\\u003eSpeed (yards\\u002fsecond)=%{marker.size}\\u003cextra\\u003e\\u003c\\u002fextra\\u003e\",\"legendgroup\":\"Rodger Saffold\",\"marker\":{\"color\":\"#636efa\",\"size\":[0.14],\"sizemode\":\"area\",\"sizeref\":0.015600000000000001,\"symbol\":\"circle\"},\"mode\":\"markers\",\"name\":\"Rodger Saffold\",\"orientation\":\"v\",\"showlegend\":true,\"x\":[88.95],\"xaxis\":\"x\",\"y\":[26.58],\"yaxis\":\"y\",\"type\":\"scatter\"},{\"hovertemplate\":\"color=Bobby Wagner\\u003cbr\\u003eanimation_frame=10\\u003cbr\\u003ex=%{x}\\u003cbr\\u003ey=%{y}\\u003cbr\\u003eSpeed (yards\\u002fsecond)=%{marker.size}\\u003cextra\\u003e\\u003c\\u002fextra\\u003e\",\"legendgroup\":\"Bobby Wagner\",\"marker\":{\"color\":\"#EF553B\",\"size\":[3.64],\"sizemode\":\"area\",\"sizeref\":0.015600000000000001,\"symbol\":\"circle\"},\"mode\":\"markers\",\"name\":\"Bobby Wagner\",\"orientation\":\"v\",\"showlegend\":true,\"x\":[78.12],\"xaxis\":\"x\",\"y\":[30.16],\"yaxis\":\"y\",\"type\":\"scatter\"},{\"hovertemplate\":\"color=Aaron Donald\\u003cbr\\u003eanimation_frame=10\\u003cbr\\u003ex=%{x}\\u003cbr\\u003ey=%{y}\\u003cbr\\u003eSpeed (yards\\u002fsecond)=%{marker.size}\\u003cextra\\u003e\\u003c\\u002fextra\\u003e\",\"legendgroup\":\"Aaron Donald\",\"marker\":{\"color\":\"#00cc96\",\"size\":[2.68],\"sizemode\":\"area\",\"sizeref\":0.015600000000000001,\"symbol\":\"circle\"},\"mode\":\"markers\",\"name\":\"Aaron Donald\",\"orientation\":\"v\",\"showlegend\":true,\"x\":[92.32],\"xaxis\":\"x\",\"y\":[28.74],\"yaxis\":\"y\",\"type\":\"scatter\"},{\"hovertemplate\":\"color=Mitch Morse\\u003cbr\\u003eanimation_frame=10\\u003cbr\\u003ex=%{x}\\u003cbr\\u003ey=%{y}\\u003cbr\\u003eSpeed (yards\\u002fsecond)=%{marker.size}\\u003cextra\\u003e\\u003c\\u002fextra\\u003e\",\"legendgroup\":\"Mitch Morse\",\"marker\":{\"color\":\"#ab63fa\",\"size\":[1.45],\"sizemode\":\"area\",\"sizeref\":0.015600000000000001,\"symbol\":\"circle\"},\"mode\":\"markers\",\"name\":\"Mitch Morse\",\"orientation\":\"v\",\"showlegend\":true,\"x\":[88.02],\"xaxis\":\"x\",\"y\":[29.87],\"yaxis\":\"y\",\"type\":\"scatter\"},{\"hovertemplate\":\"color=Stefon Diggs\\u003cbr\\u003eanimation_frame=10\\u003cbr\\u003ex=%{x}\\u003cbr\\u003ey=%{y}\\u003cbr\\u003eSpeed (yards\\u002fsecond)=%{marker.size}\\u003cextra\\u003e\\u003c\\u002fextra\\u003e\",\"legendgroup\":\"Stefon Diggs\",\"marker\":{\"color\":\"#FFA15A\",\"size\":[2.19],\"sizemode\":\"area\",\"sizeref\":0.015600000000000001,\"symbol\":\"circle\"},\"mode\":\"markers\",\"name\":\"Stefon Diggs\",\"orientation\":\"v\",\"showlegend\":true,\"x\":[79.31],\"xaxis\":\"x\",\"y\":[34.4],\"yaxis\":\"y\",\"type\":\"scatter\"}],\"name\":\"10\"},{\"data\":[{\"hovertemplate\":\"color=Rodger Saffold\\u003cbr\\u003eanimation_frame=11\\u003cbr\\u003ex=%{x}\\u003cbr\\u003ey=%{y}\\u003cbr\\u003eSpeed (yards\\u002fsecond)=%{marker.size}\\u003cextra\\u003e\\u003c\\u002fextra\\u003e\",\"legendgroup\":\"Rodger Saffold\",\"marker\":{\"color\":\"#636efa\",\"size\":[0.26],\"sizemode\":\"area\",\"sizeref\":0.015600000000000001,\"symbol\":\"circle\"},\"mode\":\"markers\",\"name\":\"Rodger Saffold\",\"orientation\":\"v\",\"showlegend\":true,\"x\":[88.92],\"xaxis\":\"x\",\"y\":[26.6],\"yaxis\":\"y\",\"type\":\"scatter\"},{\"hovertemplate\":\"color=Bobby Wagner\\u003cbr\\u003eanimation_frame=11\\u003cbr\\u003ex=%{x}\\u003cbr\\u003ey=%{y}\\u003cbr\\u003eSpeed (yards\\u002fsecond)=%{marker.size}\\u003cextra\\u003e\\u003c\\u002fextra\\u003e\",\"legendgroup\":\"Bobby Wagner\",\"marker\":{\"color\":\"#EF553B\",\"size\":[3.49],\"sizemode\":\"area\",\"sizeref\":0.015600000000000001,\"symbol\":\"circle\"},\"mode\":\"markers\",\"name\":\"Bobby Wagner\",\"orientation\":\"v\",\"showlegend\":true,\"x\":[78.15],\"xaxis\":\"x\",\"y\":[30.52],\"yaxis\":\"y\",\"type\":\"scatter\"},{\"hovertemplate\":\"color=Aaron Donald\\u003cbr\\u003eanimation_frame=11\\u003cbr\\u003ex=%{x}\\u003cbr\\u003ey=%{y}\\u003cbr\\u003eSpeed (yards\\u002fsecond)=%{marker.size}\\u003cextra\\u003e\\u003c\\u002fextra\\u003e\",\"legendgroup\":\"Aaron Donald\",\"marker\":{\"color\":\"#00cc96\",\"size\":[2.5],\"sizemode\":\"area\",\"sizeref\":0.015600000000000001,\"symbol\":\"circle\"},\"mode\":\"markers\",\"name\":\"Aaron Donald\",\"orientation\":\"v\",\"showlegend\":true,\"x\":[92.26],\"xaxis\":\"x\",\"y\":[28.49],\"yaxis\":\"y\",\"type\":\"scatter\"},{\"hovertemplate\":\"color=Mitch Morse\\u003cbr\\u003eanimation_frame=11\\u003cbr\\u003ex=%{x}\\u003cbr\\u003ey=%{y}\\u003cbr\\u003eSpeed (yards\\u002fsecond)=%{marker.size}\\u003cextra\\u003e\\u003c\\u002fextra\\u003e\",\"legendgroup\":\"Mitch Morse\",\"marker\":{\"color\":\"#ab63fa\",\"size\":[1.5],\"sizemode\":\"area\",\"sizeref\":0.015600000000000001,\"symbol\":\"circle\"},\"mode\":\"markers\",\"name\":\"Mitch Morse\",\"orientation\":\"v\",\"showlegend\":true,\"x\":[87.95],\"xaxis\":\"x\",\"y\":[30.03],\"yaxis\":\"y\",\"type\":\"scatter\"},{\"hovertemplate\":\"color=Stefon Diggs\\u003cbr\\u003eanimation_frame=11\\u003cbr\\u003ex=%{x}\\u003cbr\\u003ey=%{y}\\u003cbr\\u003eSpeed (yards\\u002fsecond)=%{marker.size}\\u003cextra\\u003e\\u003c\\u002fextra\\u003e\",\"legendgroup\":\"Stefon Diggs\",\"marker\":{\"color\":\"#FFA15A\",\"size\":[1.65],\"sizemode\":\"area\",\"sizeref\":0.015600000000000001,\"symbol\":\"circle\"},\"mode\":\"markers\",\"name\":\"Stefon Diggs\",\"orientation\":\"v\",\"showlegend\":true,\"x\":[79.23],\"xaxis\":\"x\",\"y\":[34.23],\"yaxis\":\"y\",\"type\":\"scatter\"}],\"name\":\"11\"},{\"data\":[{\"hovertemplate\":\"color=Rodger Saffold\\u003cbr\\u003eanimation_frame=12\\u003cbr\\u003ex=%{x}\\u003cbr\\u003ey=%{y}\\u003cbr\\u003eSpeed (yards\\u002fsecond)=%{marker.size}\\u003cextra\\u003e\\u003c\\u002fextra\\u003e\",\"legendgroup\":\"Rodger Saffold\",\"marker\":{\"color\":\"#636efa\",\"size\":[0.51],\"sizemode\":\"area\",\"sizeref\":0.015600000000000001,\"symbol\":\"circle\"},\"mode\":\"markers\",\"name\":\"Rodger Saffold\",\"orientation\":\"v\",\"showlegend\":true,\"x\":[88.9],\"xaxis\":\"x\",\"y\":[26.63],\"yaxis\":\"y\",\"type\":\"scatter\"},{\"hovertemplate\":\"color=Bobby Wagner\\u003cbr\\u003eanimation_frame=12\\u003cbr\\u003ex=%{x}\\u003cbr\\u003ey=%{y}\\u003cbr\\u003eSpeed (yards\\u002fsecond)=%{marker.size}\\u003cextra\\u003e\\u003c\\u002fextra\\u003e\",\"legendgroup\":\"Bobby Wagner\",\"marker\":{\"color\":\"#EF553B\",\"size\":[3.35],\"sizemode\":\"area\",\"sizeref\":0.015600000000000001,\"symbol\":\"circle\"},\"mode\":\"markers\",\"name\":\"Bobby Wagner\",\"orientation\":\"v\",\"showlegend\":true,\"x\":[78.18],\"xaxis\":\"x\",\"y\":[30.85],\"yaxis\":\"y\",\"type\":\"scatter\"},{\"hovertemplate\":\"color=Aaron Donald\\u003cbr\\u003eanimation_frame=12\\u003cbr\\u003ex=%{x}\\u003cbr\\u003ey=%{y}\\u003cbr\\u003eSpeed (yards\\u002fsecond)=%{marker.size}\\u003cextra\\u003e\\u003c\\u002fextra\\u003e\",\"legendgroup\":\"Aaron Donald\",\"marker\":{\"color\":\"#00cc96\",\"size\":[2.34],\"sizemode\":\"area\",\"sizeref\":0.015600000000000001,\"symbol\":\"circle\"},\"mode\":\"markers\",\"name\":\"Aaron Donald\",\"orientation\":\"v\",\"showlegend\":true,\"x\":[92.16],\"xaxis\":\"x\",\"y\":[28.28],\"yaxis\":\"y\",\"type\":\"scatter\"},{\"hovertemplate\":\"color=Mitch Morse\\u003cbr\\u003eanimation_frame=12\\u003cbr\\u003ex=%{x}\\u003cbr\\u003ey=%{y}\\u003cbr\\u003eSpeed (yards\\u002fsecond)=%{marker.size}\\u003cextra\\u003e\\u003c\\u002fextra\\u003e\",\"legendgroup\":\"Mitch Morse\",\"marker\":{\"color\":\"#ab63fa\",\"size\":[1.51],\"sizemode\":\"area\",\"sizeref\":0.015600000000000001,\"symbol\":\"circle\"},\"mode\":\"markers\",\"name\":\"Mitch Morse\",\"orientation\":\"v\",\"showlegend\":true,\"x\":[87.87],\"xaxis\":\"x\",\"y\":[30.17],\"yaxis\":\"y\",\"type\":\"scatter\"},{\"hovertemplate\":\"color=Stefon Diggs\\u003cbr\\u003eanimation_frame=12\\u003cbr\\u003ex=%{x}\\u003cbr\\u003ey=%{y}\\u003cbr\\u003eSpeed (yards\\u002fsecond)=%{marker.size}\\u003cextra\\u003e\\u003c\\u002fextra\\u003e\",\"legendgroup\":\"Stefon Diggs\",\"marker\":{\"color\":\"#FFA15A\",\"size\":[1.19],\"sizemode\":\"area\",\"sizeref\":0.015600000000000001,\"symbol\":\"circle\"},\"mode\":\"markers\",\"name\":\"Stefon Diggs\",\"orientation\":\"v\",\"showlegend\":true,\"x\":[79.18],\"xaxis\":\"x\",\"y\":[34.09],\"yaxis\":\"y\",\"type\":\"scatter\"}],\"name\":\"12\"},{\"data\":[{\"hovertemplate\":\"color=Rodger Saffold\\u003cbr\\u003eanimation_frame=13\\u003cbr\\u003ex=%{x}\\u003cbr\\u003ey=%{y}\\u003cbr\\u003eSpeed (yards\\u002fsecond)=%{marker.size}\\u003cextra\\u003e\\u003c\\u002fextra\\u003e\",\"legendgroup\":\"Rodger Saffold\",\"marker\":{\"color\":\"#636efa\",\"size\":[0.81],\"sizemode\":\"area\",\"sizeref\":0.015600000000000001,\"symbol\":\"circle\"},\"mode\":\"markers\",\"name\":\"Rodger Saffold\",\"orientation\":\"v\",\"showlegend\":true,\"x\":[88.84],\"xaxis\":\"x\",\"y\":[26.68],\"yaxis\":\"y\",\"type\":\"scatter\"},{\"hovertemplate\":\"color=Bobby Wagner\\u003cbr\\u003eanimation_frame=13\\u003cbr\\u003ex=%{x}\\u003cbr\\u003ey=%{y}\\u003cbr\\u003eSpeed (yards\\u002fsecond)=%{marker.size}\\u003cextra\\u003e\\u003c\\u002fextra\\u003e\",\"legendgroup\":\"Bobby Wagner\",\"marker\":{\"color\":\"#EF553B\",\"size\":[3.22],\"sizemode\":\"area\",\"sizeref\":0.015600000000000001,\"symbol\":\"circle\"},\"mode\":\"markers\",\"name\":\"Bobby Wagner\",\"orientation\":\"v\",\"showlegend\":true,\"x\":[78.22],\"xaxis\":\"x\",\"y\":[31.18],\"yaxis\":\"y\",\"type\":\"scatter\"},{\"hovertemplate\":\"color=Aaron Donald\\u003cbr\\u003eanimation_frame=13\\u003cbr\\u003ex=%{x}\\u003cbr\\u003ey=%{y}\\u003cbr\\u003eSpeed (yards\\u002fsecond)=%{marker.size}\\u003cextra\\u003e\\u003c\\u002fextra\\u003e\",\"legendgroup\":\"Aaron Donald\",\"marker\":{\"color\":\"#00cc96\",\"size\":[2.26],\"sizemode\":\"area\",\"sizeref\":0.015600000000000001,\"symbol\":\"circle\"},\"mode\":\"markers\",\"name\":\"Aaron Donald\",\"orientation\":\"v\",\"showlegend\":true,\"x\":[92.03],\"xaxis\":\"x\",\"y\":[28.08],\"yaxis\":\"y\",\"type\":\"scatter\"},{\"hovertemplate\":\"color=Mitch Morse\\u003cbr\\u003eanimation_frame=13\\u003cbr\\u003ex=%{x}\\u003cbr\\u003ey=%{y}\\u003cbr\\u003eSpeed (yards\\u002fsecond)=%{marker.size}\\u003cextra\\u003e\\u003c\\u002fextra\\u003e\",\"legendgroup\":\"Mitch Morse\",\"marker\":{\"color\":\"#ab63fa\",\"size\":[1.51],\"sizemode\":\"area\",\"sizeref\":0.015600000000000001,\"symbol\":\"circle\"},\"mode\":\"markers\",\"name\":\"Mitch Morse\",\"orientation\":\"v\",\"showlegend\":true,\"x\":[87.79],\"xaxis\":\"x\",\"y\":[30.3],\"yaxis\":\"y\",\"type\":\"scatter\"}],\"name\":\"13\"},{\"data\":[{\"hovertemplate\":\"color=Rodger Saffold\\u003cbr\\u003eanimation_frame=14\\u003cbr\\u003ex=%{x}\\u003cbr\\u003ey=%{y}\\u003cbr\\u003eSpeed (yards\\u002fsecond)=%{marker.size}\\u003cextra\\u003e\\u003c\\u002fextra\\u003e\",\"legendgroup\":\"Rodger Saffold\",\"marker\":{\"color\":\"#636efa\",\"size\":[1.1],\"sizemode\":\"area\",\"sizeref\":0.015600000000000001,\"symbol\":\"circle\"},\"mode\":\"markers\",\"name\":\"Rodger Saffold\",\"orientation\":\"v\",\"showlegend\":true,\"x\":[88.75],\"xaxis\":\"x\",\"y\":[26.74],\"yaxis\":\"y\",\"type\":\"scatter\"},{\"hovertemplate\":\"color=Bobby Wagner\\u003cbr\\u003eanimation_frame=14\\u003cbr\\u003ex=%{x}\\u003cbr\\u003ey=%{y}\\u003cbr\\u003eSpeed (yards\\u002fsecond)=%{marker.size}\\u003cextra\\u003e\\u003c\\u002fextra\\u003e\",\"legendgroup\":\"Bobby Wagner\",\"marker\":{\"color\":\"#EF553B\",\"size\":[2.94],\"sizemode\":\"area\",\"sizeref\":0.015600000000000001,\"symbol\":\"circle\"},\"mode\":\"markers\",\"name\":\"Bobby Wagner\",\"orientation\":\"v\",\"showlegend\":true,\"x\":[78.28],\"xaxis\":\"x\",\"y\":[31.47],\"yaxis\":\"y\",\"type\":\"scatter\"},{\"hovertemplate\":\"color=Aaron Donald\\u003cbr\\u003eanimation_frame=14\\u003cbr\\u003ex=%{x}\\u003cbr\\u003ey=%{y}\\u003cbr\\u003eSpeed (yards\\u002fsecond)=%{marker.size}\\u003cextra\\u003e\\u003c\\u002fextra\\u003e\",\"legendgroup\":\"Aaron Donald\",\"marker\":{\"color\":\"#00cc96\",\"size\":[2.13],\"sizemode\":\"area\",\"sizeref\":0.015600000000000001,\"symbol\":\"circle\"},\"mode\":\"markers\",\"name\":\"Aaron Donald\",\"orientation\":\"v\",\"showlegend\":true,\"x\":[91.88],\"xaxis\":\"x\",\"y\":[27.94],\"yaxis\":\"y\",\"type\":\"scatter\"},{\"hovertemplate\":\"color=Mitch Morse\\u003cbr\\u003eanimation_frame=14\\u003cbr\\u003ex=%{x}\\u003cbr\\u003ey=%{y}\\u003cbr\\u003eSpeed (yards\\u002fsecond)=%{marker.size}\\u003cextra\\u003e\\u003c\\u002fextra\\u003e\",\"legendgroup\":\"Mitch Morse\",\"marker\":{\"color\":\"#ab63fa\",\"size\":[1.56],\"sizemode\":\"area\",\"sizeref\":0.015600000000000001,\"symbol\":\"circle\"},\"mode\":\"markers\",\"name\":\"Mitch Morse\",\"orientation\":\"v\",\"showlegend\":true,\"x\":[87.69],\"xaxis\":\"x\",\"y\":[30.44],\"yaxis\":\"y\",\"type\":\"scatter\"}],\"name\":\"14\"},{\"data\":[{\"hovertemplate\":\"color=Rodger Saffold\\u003cbr\\u003eanimation_frame=15\\u003cbr\\u003ex=%{x}\\u003cbr\\u003ey=%{y}\\u003cbr\\u003eSpeed (yards\\u002fsecond)=%{marker.size}\\u003cextra\\u003e\\u003c\\u002fextra\\u003e\",\"legendgroup\":\"Rodger Saffold\",\"marker\":{\"color\":\"#636efa\",\"size\":[1.3],\"sizemode\":\"area\",\"sizeref\":0.015600000000000001,\"symbol\":\"circle\"},\"mode\":\"markers\",\"name\":\"Rodger Saffold\",\"orientation\":\"v\",\"showlegend\":true,\"x\":[88.65],\"xaxis\":\"x\",\"y\":[26.82],\"yaxis\":\"y\",\"type\":\"scatter\"},{\"hovertemplate\":\"color=Bobby Wagner\\u003cbr\\u003eanimation_frame=15\\u003cbr\\u003ex=%{x}\\u003cbr\\u003ey=%{y}\\u003cbr\\u003eSpeed (yards\\u002fsecond)=%{marker.size}\\u003cextra\\u003e\\u003c\\u002fextra\\u003e\",\"legendgroup\":\"Bobby Wagner\",\"marker\":{\"color\":\"#EF553B\",\"size\":[2.63],\"sizemode\":\"area\",\"sizeref\":0.015600000000000001,\"symbol\":\"circle\"},\"mode\":\"markers\",\"name\":\"Bobby Wagner\",\"orientation\":\"v\",\"showlegend\":true,\"x\":[78.36],\"xaxis\":\"x\",\"y\":[31.73],\"yaxis\":\"y\",\"type\":\"scatter\"},{\"hovertemplate\":\"color=Aaron Donald\\u003cbr\\u003eanimation_frame=15\\u003cbr\\u003ex=%{x}\\u003cbr\\u003ey=%{y}\\u003cbr\\u003eSpeed (yards\\u002fsecond)=%{marker.size}\\u003cextra\\u003e\\u003c\\u002fextra\\u003e\",\"legendgroup\":\"Aaron Donald\",\"marker\":{\"color\":\"#00cc96\",\"size\":[2.1],\"sizemode\":\"area\",\"sizeref\":0.015600000000000001,\"symbol\":\"circle\"},\"mode\":\"markers\",\"name\":\"Aaron Donald\",\"orientation\":\"v\",\"showlegend\":true,\"x\":[91.7],\"xaxis\":\"x\",\"y\":[27.82],\"yaxis\":\"y\",\"type\":\"scatter\"},{\"hovertemplate\":\"color=Mitch Morse\\u003cbr\\u003eanimation_frame=15\\u003cbr\\u003ex=%{x}\\u003cbr\\u003ey=%{y}\\u003cbr\\u003eSpeed (yards\\u002fsecond)=%{marker.size}\\u003cextra\\u003e\\u003c\\u002fextra\\u003e\",\"legendgroup\":\"Mitch Morse\",\"marker\":{\"color\":\"#ab63fa\",\"size\":[1.6],\"sizemode\":\"area\",\"sizeref\":0.015600000000000001,\"symbol\":\"circle\"},\"mode\":\"markers\",\"name\":\"Mitch Morse\",\"orientation\":\"v\",\"showlegend\":true,\"x\":[87.58],\"xaxis\":\"x\",\"y\":[30.56],\"yaxis\":\"y\",\"type\":\"scatter\"}],\"name\":\"15\"},{\"data\":[{\"hovertemplate\":\"color=Rodger Saffold\\u003cbr\\u003eanimation_frame=16\\u003cbr\\u003ex=%{x}\\u003cbr\\u003ey=%{y}\\u003cbr\\u003eSpeed (yards\\u002fsecond)=%{marker.size}\\u003cextra\\u003e\\u003c\\u002fextra\\u003e\",\"legendgroup\":\"Rodger Saffold\",\"marker\":{\"color\":\"#636efa\",\"size\":[1.5],\"sizemode\":\"area\",\"sizeref\":0.015600000000000001,\"symbol\":\"circle\"},\"mode\":\"markers\",\"name\":\"Rodger Saffold\",\"orientation\":\"v\",\"showlegend\":true,\"x\":[88.53],\"xaxis\":\"x\",\"y\":[26.91],\"yaxis\":\"y\",\"type\":\"scatter\"},{\"hovertemplate\":\"color=Bobby Wagner\\u003cbr\\u003eanimation_frame=16\\u003cbr\\u003ex=%{x}\\u003cbr\\u003ey=%{y}\\u003cbr\\u003eSpeed (yards\\u002fsecond)=%{marker.size}\\u003cextra\\u003e\\u003c\\u002fextra\\u003e\",\"legendgroup\":\"Bobby Wagner\",\"marker\":{\"color\":\"#EF553B\",\"size\":[2.35],\"sizemode\":\"area\",\"sizeref\":0.015600000000000001,\"symbol\":\"circle\"},\"mode\":\"markers\",\"name\":\"Bobby Wagner\",\"orientation\":\"v\",\"showlegend\":true,\"x\":[78.44],\"xaxis\":\"x\",\"y\":[31.96],\"yaxis\":\"y\",\"type\":\"scatter\"},{\"hovertemplate\":\"color=Aaron Donald\\u003cbr\\u003eanimation_frame=16\\u003cbr\\u003ex=%{x}\\u003cbr\\u003ey=%{y}\\u003cbr\\u003eSpeed (yards\\u002fsecond)=%{marker.size}\\u003cextra\\u003e\\u003c\\u002fextra\\u003e\",\"legendgroup\":\"Aaron Donald\",\"marker\":{\"color\":\"#00cc96\",\"size\":[2.17],\"sizemode\":\"area\",\"sizeref\":0.015600000000000001,\"symbol\":\"circle\"},\"mode\":\"markers\",\"name\":\"Aaron Donald\",\"orientation\":\"v\",\"showlegend\":true,\"x\":[91.47],\"xaxis\":\"x\",\"y\":[27.74],\"yaxis\":\"y\",\"type\":\"scatter\"},{\"hovertemplate\":\"color=Mitch Morse\\u003cbr\\u003eanimation_frame=16\\u003cbr\\u003ex=%{x}\\u003cbr\\u003ey=%{y}\\u003cbr\\u003eSpeed (yards\\u002fsecond)=%{marker.size}\\u003cextra\\u003e\\u003c\\u002fextra\\u003e\",\"legendgroup\":\"Mitch Morse\",\"marker\":{\"color\":\"#ab63fa\",\"size\":[1.63],\"sizemode\":\"area\",\"sizeref\":0.015600000000000001,\"symbol\":\"circle\"},\"mode\":\"markers\",\"name\":\"Mitch Morse\",\"orientation\":\"v\",\"showlegend\":true,\"x\":[87.46],\"xaxis\":\"x\",\"y\":[30.68],\"yaxis\":\"y\",\"type\":\"scatter\"}],\"name\":\"16\"},{\"data\":[{\"hovertemplate\":\"color=Rodger Saffold\\u003cbr\\u003eanimation_frame=17\\u003cbr\\u003ex=%{x}\\u003cbr\\u003ey=%{y}\\u003cbr\\u003eSpeed (yards\\u002fsecond)=%{marker.size}\\u003cextra\\u003e\\u003c\\u002fextra\\u003e\",\"legendgroup\":\"Rodger Saffold\",\"marker\":{\"color\":\"#636efa\",\"size\":[1.62],\"sizemode\":\"area\",\"sizeref\":0.015600000000000001,\"symbol\":\"circle\"},\"mode\":\"markers\",\"name\":\"Rodger Saffold\",\"orientation\":\"v\",\"showlegend\":true,\"x\":[88.39],\"xaxis\":\"x\",\"y\":[27.0],\"yaxis\":\"y\",\"type\":\"scatter\"},{\"hovertemplate\":\"color=Bobby Wagner\\u003cbr\\u003eanimation_frame=17\\u003cbr\\u003ex=%{x}\\u003cbr\\u003ey=%{y}\\u003cbr\\u003eSpeed (yards\\u002fsecond)=%{marker.size}\\u003cextra\\u003e\\u003c\\u002fextra\\u003e\",\"legendgroup\":\"Bobby Wagner\",\"marker\":{\"color\":\"#EF553B\",\"size\":[2.03],\"sizemode\":\"area\",\"sizeref\":0.015600000000000001,\"symbol\":\"circle\"},\"mode\":\"markers\",\"name\":\"Bobby Wagner\",\"orientation\":\"v\",\"showlegend\":true,\"x\":[78.53],\"xaxis\":\"x\",\"y\":[32.15],\"yaxis\":\"y\",\"type\":\"scatter\"},{\"hovertemplate\":\"color=Aaron Donald\\u003cbr\\u003eanimation_frame=17\\u003cbr\\u003ex=%{x}\\u003cbr\\u003ey=%{y}\\u003cbr\\u003eSpeed (yards\\u002fsecond)=%{marker.size}\\u003cextra\\u003e\\u003c\\u002fextra\\u003e\",\"legendgroup\":\"Aaron Donald\",\"marker\":{\"color\":\"#00cc96\",\"size\":[2.18],\"sizemode\":\"area\",\"sizeref\":0.015600000000000001,\"symbol\":\"circle\"},\"mode\":\"markers\",\"name\":\"Aaron Donald\",\"orientation\":\"v\",\"showlegend\":true,\"x\":[91.26],\"xaxis\":\"x\",\"y\":[27.68],\"yaxis\":\"y\",\"type\":\"scatter\"},{\"hovertemplate\":\"color=Mitch Morse\\u003cbr\\u003eanimation_frame=17\\u003cbr\\u003ex=%{x}\\u003cbr\\u003ey=%{y}\\u003cbr\\u003eSpeed (yards\\u002fsecond)=%{marker.size}\\u003cextra\\u003e\\u003c\\u002fextra\\u003e\",\"legendgroup\":\"Mitch Morse\",\"marker\":{\"color\":\"#ab63fa\",\"size\":[1.65],\"sizemode\":\"area\",\"sizeref\":0.015600000000000001,\"symbol\":\"circle\"},\"mode\":\"markers\",\"name\":\"Mitch Morse\",\"orientation\":\"v\",\"showlegend\":true,\"x\":[87.34],\"xaxis\":\"x\",\"y\":[30.8],\"yaxis\":\"y\",\"type\":\"scatter\"}],\"name\":\"17\"},{\"data\":[{\"hovertemplate\":\"color=Rodger Saffold\\u003cbr\\u003eanimation_frame=18\\u003cbr\\u003ex=%{x}\\u003cbr\\u003ey=%{y}\\u003cbr\\u003eSpeed (yards\\u002fsecond)=%{marker.size}\\u003cextra\\u003e\\u003c\\u002fextra\\u003e\",\"legendgroup\":\"Rodger Saffold\",\"marker\":{\"color\":\"#636efa\",\"size\":[1.72],\"sizemode\":\"area\",\"sizeref\":0.015600000000000001,\"symbol\":\"circle\"},\"mode\":\"markers\",\"name\":\"Rodger Saffold\",\"orientation\":\"v\",\"showlegend\":true,\"x\":[88.23],\"xaxis\":\"x\",\"y\":[27.09],\"yaxis\":\"y\",\"type\":\"scatter\"},{\"hovertemplate\":\"color=Bobby Wagner\\u003cbr\\u003eanimation_frame=18\\u003cbr\\u003ex=%{x}\\u003cbr\\u003ey=%{y}\\u003cbr\\u003eSpeed (yards\\u002fsecond)=%{marker.size}\\u003cextra\\u003e\\u003c\\u002fextra\\u003e\",\"legendgroup\":\"Bobby Wagner\",\"marker\":{\"color\":\"#EF553B\",\"size\":[1.76],\"sizemode\":\"area\",\"sizeref\":0.015600000000000001,\"symbol\":\"circle\"},\"mode\":\"markers\",\"name\":\"Bobby Wagner\",\"orientation\":\"v\",\"showlegend\":true,\"x\":[78.62],\"xaxis\":\"x\",\"y\":[32.31],\"yaxis\":\"y\",\"type\":\"scatter\"},{\"hovertemplate\":\"color=Aaron Donald\\u003cbr\\u003eanimation_frame=18\\u003cbr\\u003ex=%{x}\\u003cbr\\u003ey=%{y}\\u003cbr\\u003eSpeed (yards\\u002fsecond)=%{marker.size}\\u003cextra\\u003e\\u003c\\u002fextra\\u003e\",\"legendgroup\":\"Aaron Donald\",\"marker\":{\"color\":\"#00cc96\",\"size\":[2.16],\"sizemode\":\"area\",\"sizeref\":0.015600000000000001,\"symbol\":\"circle\"},\"mode\":\"markers\",\"name\":\"Aaron Donald\",\"orientation\":\"v\",\"showlegend\":true,\"x\":[91.04],\"xaxis\":\"x\",\"y\":[27.66],\"yaxis\":\"y\",\"type\":\"scatter\"},{\"hovertemplate\":\"color=Mitch Morse\\u003cbr\\u003eanimation_frame=18\\u003cbr\\u003ex=%{x}\\u003cbr\\u003ey=%{y}\\u003cbr\\u003eSpeed (yards\\u002fsecond)=%{marker.size}\\u003cextra\\u003e\\u003c\\u002fextra\\u003e\",\"legendgroup\":\"Mitch Morse\",\"marker\":{\"color\":\"#ab63fa\",\"size\":[1.7],\"sizemode\":\"area\",\"sizeref\":0.015600000000000001,\"symbol\":\"circle\"},\"mode\":\"markers\",\"name\":\"Mitch Morse\",\"orientation\":\"v\",\"showlegend\":true,\"x\":[87.2],\"xaxis\":\"x\",\"y\":[30.91],\"yaxis\":\"y\",\"type\":\"scatter\"}],\"name\":\"18\"},{\"data\":[{\"hovertemplate\":\"color=Rodger Saffold\\u003cbr\\u003eanimation_frame=19\\u003cbr\\u003ex=%{x}\\u003cbr\\u003ey=%{y}\\u003cbr\\u003eSpeed (yards\\u002fsecond)=%{marker.size}\\u003cextra\\u003e\\u003c\\u002fextra\\u003e\",\"legendgroup\":\"Rodger Saffold\",\"marker\":{\"color\":\"#636efa\",\"size\":[1.73],\"sizemode\":\"area\",\"sizeref\":0.015600000000000001,\"symbol\":\"circle\"},\"mode\":\"markers\",\"name\":\"Rodger Saffold\",\"orientation\":\"v\",\"showlegend\":true,\"x\":[88.09],\"xaxis\":\"x\",\"y\":[27.19],\"yaxis\":\"y\",\"type\":\"scatter\"},{\"hovertemplate\":\"color=Bobby Wagner\\u003cbr\\u003eanimation_frame=19\\u003cbr\\u003ex=%{x}\\u003cbr\\u003ey=%{y}\\u003cbr\\u003eSpeed (yards\\u002fsecond)=%{marker.size}\\u003cextra\\u003e\\u003c\\u002fextra\\u003e\",\"legendgroup\":\"Bobby Wagner\",\"marker\":{\"color\":\"#EF553B\",\"size\":[1.54],\"sizemode\":\"area\",\"sizeref\":0.015600000000000001,\"symbol\":\"circle\"},\"mode\":\"markers\",\"name\":\"Bobby Wagner\",\"orientation\":\"v\",\"showlegend\":true,\"x\":[78.73],\"xaxis\":\"x\",\"y\":[32.44],\"yaxis\":\"y\",\"type\":\"scatter\"},{\"hovertemplate\":\"color=Aaron Donald\\u003cbr\\u003eanimation_frame=19\\u003cbr\\u003ex=%{x}\\u003cbr\\u003ey=%{y}\\u003cbr\\u003eSpeed (yards\\u002fsecond)=%{marker.size}\\u003cextra\\u003e\\u003c\\u002fextra\\u003e\",\"legendgroup\":\"Aaron Donald\",\"marker\":{\"color\":\"#00cc96\",\"size\":[2.16],\"sizemode\":\"area\",\"sizeref\":0.015600000000000001,\"symbol\":\"circle\"},\"mode\":\"markers\",\"name\":\"Aaron Donald\",\"orientation\":\"v\",\"showlegend\":true,\"x\":[90.82],\"xaxis\":\"x\",\"y\":[27.66],\"yaxis\":\"y\",\"type\":\"scatter\"},{\"hovertemplate\":\"color=Mitch Morse\\u003cbr\\u003eanimation_frame=19\\u003cbr\\u003ex=%{x}\\u003cbr\\u003ey=%{y}\\u003cbr\\u003eSpeed (yards\\u002fsecond)=%{marker.size}\\u003cextra\\u003e\\u003c\\u002fextra\\u003e\",\"legendgroup\":\"Mitch Morse\",\"marker\":{\"color\":\"#ab63fa\",\"size\":[1.64],\"sizemode\":\"area\",\"sizeref\":0.015600000000000001,\"symbol\":\"circle\"},\"mode\":\"markers\",\"name\":\"Mitch Morse\",\"orientation\":\"v\",\"showlegend\":true,\"x\":[87.07],\"xaxis\":\"x\",\"y\":[31.01],\"yaxis\":\"y\",\"type\":\"scatter\"}],\"name\":\"19\"},{\"data\":[{\"hovertemplate\":\"color=Rodger Saffold\\u003cbr\\u003eanimation_frame=20\\u003cbr\\u003ex=%{x}\\u003cbr\\u003ey=%{y}\\u003cbr\\u003eSpeed (yards\\u002fsecond)=%{marker.size}\\u003cextra\\u003e\\u003c\\u002fextra\\u003e\",\"legendgroup\":\"Rodger Saffold\",\"marker\":{\"color\":\"#636efa\",\"size\":[1.78],\"sizemode\":\"area\",\"sizeref\":0.015600000000000001,\"symbol\":\"circle\"},\"mode\":\"markers\",\"name\":\"Rodger Saffold\",\"orientation\":\"v\",\"showlegend\":true,\"x\":[87.93],\"xaxis\":\"x\",\"y\":[27.28],\"yaxis\":\"y\",\"type\":\"scatter\"},{\"hovertemplate\":\"color=Bobby Wagner\\u003cbr\\u003eanimation_frame=20\\u003cbr\\u003ex=%{x}\\u003cbr\\u003ey=%{y}\\u003cbr\\u003eSpeed (yards\\u002fsecond)=%{marker.size}\\u003cextra\\u003e\\u003c\\u002fextra\\u003e\",\"legendgroup\":\"Bobby Wagner\",\"marker\":{\"color\":\"#EF553B\",\"size\":[1.27],\"sizemode\":\"area\",\"sizeref\":0.015600000000000001,\"symbol\":\"circle\"},\"mode\":\"markers\",\"name\":\"Bobby Wagner\",\"orientation\":\"v\",\"showlegend\":true,\"x\":[78.84],\"xaxis\":\"x\",\"y\":[32.53],\"yaxis\":\"y\",\"type\":\"scatter\"},{\"hovertemplate\":\"color=Aaron Donald\\u003cbr\\u003eanimation_frame=20\\u003cbr\\u003ex=%{x}\\u003cbr\\u003ey=%{y}\\u003cbr\\u003eSpeed (yards\\u002fsecond)=%{marker.size}\\u003cextra\\u003e\\u003c\\u002fextra\\u003e\",\"legendgroup\":\"Aaron Donald\",\"marker\":{\"color\":\"#00cc96\",\"size\":[2.28],\"sizemode\":\"area\",\"sizeref\":0.015600000000000001,\"symbol\":\"circle\"},\"mode\":\"markers\",\"name\":\"Aaron Donald\",\"orientation\":\"v\",\"showlegend\":true,\"x\":[90.58],\"xaxis\":\"x\",\"y\":[27.68],\"yaxis\":\"y\",\"type\":\"scatter\"},{\"hovertemplate\":\"color=Mitch Morse\\u003cbr\\u003eanimation_frame=20\\u003cbr\\u003ex=%{x}\\u003cbr\\u003ey=%{y}\\u003cbr\\u003eSpeed (yards\\u002fsecond)=%{marker.size}\\u003cextra\\u003e\\u003c\\u002fextra\\u003e\",\"legendgroup\":\"Mitch Morse\",\"marker\":{\"color\":\"#ab63fa\",\"size\":[1.59],\"sizemode\":\"area\",\"sizeref\":0.015600000000000001,\"symbol\":\"circle\"},\"mode\":\"markers\",\"name\":\"Mitch Morse\",\"orientation\":\"v\",\"showlegend\":true,\"x\":[86.94],\"xaxis\":\"x\",\"y\":[31.11],\"yaxis\":\"y\",\"type\":\"scatter\"}],\"name\":\"20\"},{\"data\":[{\"hovertemplate\":\"color=Rodger Saffold\\u003cbr\\u003eanimation_frame=21\\u003cbr\\u003ex=%{x}\\u003cbr\\u003ey=%{y}\\u003cbr\\u003eSpeed (yards\\u002fsecond)=%{marker.size}\\u003cextra\\u003e\\u003c\\u002fextra\\u003e\",\"legendgroup\":\"Rodger Saffold\",\"marker\":{\"color\":\"#636efa\",\"size\":[1.79],\"sizemode\":\"area\",\"sizeref\":0.015600000000000001,\"symbol\":\"circle\"},\"mode\":\"markers\",\"name\":\"Rodger Saffold\",\"orientation\":\"v\",\"showlegend\":true,\"x\":[87.77],\"xaxis\":\"x\",\"y\":[27.37],\"yaxis\":\"y\",\"type\":\"scatter\"},{\"hovertemplate\":\"color=Bobby Wagner\\u003cbr\\u003eanimation_frame=21\\u003cbr\\u003ex=%{x}\\u003cbr\\u003ey=%{y}\\u003cbr\\u003eSpeed (yards\\u002fsecond)=%{marker.size}\\u003cextra\\u003e\\u003c\\u002fextra\\u003e\",\"legendgroup\":\"Bobby Wagner\",\"marker\":{\"color\":\"#EF553B\",\"size\":[1.02],\"sizemode\":\"area\",\"sizeref\":0.015600000000000001,\"symbol\":\"circle\"},\"mode\":\"markers\",\"name\":\"Bobby Wagner\",\"orientation\":\"v\",\"showlegend\":true,\"x\":[78.94],\"xaxis\":\"x\",\"y\":[32.59],\"yaxis\":\"y\",\"type\":\"scatter\"},{\"hovertemplate\":\"color=Aaron Donald\\u003cbr\\u003eanimation_frame=21\\u003cbr\\u003ex=%{x}\\u003cbr\\u003ey=%{y}\\u003cbr\\u003eSpeed (yards\\u002fsecond)=%{marker.size}\\u003cextra\\u003e\\u003c\\u002fextra\\u003e\",\"legendgroup\":\"Aaron Donald\",\"marker\":{\"color\":\"#00cc96\",\"size\":[2.34],\"sizemode\":\"area\",\"sizeref\":0.015600000000000001,\"symbol\":\"circle\"},\"mode\":\"markers\",\"name\":\"Aaron Donald\",\"orientation\":\"v\",\"showlegend\":true,\"x\":[90.34],\"xaxis\":\"x\",\"y\":[27.72],\"yaxis\":\"y\",\"type\":\"scatter\"},{\"hovertemplate\":\"color=Mitch Morse\\u003cbr\\u003eanimation_frame=21\\u003cbr\\u003ex=%{x}\\u003cbr\\u003ey=%{y}\\u003cbr\\u003eSpeed (yards\\u002fsecond)=%{marker.size}\\u003cextra\\u003e\\u003c\\u002fextra\\u003e\",\"legendgroup\":\"Mitch Morse\",\"marker\":{\"color\":\"#ab63fa\",\"size\":[1.54],\"sizemode\":\"area\",\"sizeref\":0.015600000000000001,\"symbol\":\"circle\"},\"mode\":\"markers\",\"name\":\"Mitch Morse\",\"orientation\":\"v\",\"showlegend\":true,\"x\":[86.8],\"xaxis\":\"x\",\"y\":[31.2],\"yaxis\":\"y\",\"type\":\"scatter\"}],\"name\":\"21\"},{\"data\":[{\"hovertemplate\":\"color=Rodger Saffold\\u003cbr\\u003eanimation_frame=22\\u003cbr\\u003ex=%{x}\\u003cbr\\u003ey=%{y}\\u003cbr\\u003eSpeed (yards\\u002fsecond)=%{marker.size}\\u003cextra\\u003e\\u003c\\u002fextra\\u003e\",\"legendgroup\":\"Rodger Saffold\",\"marker\":{\"color\":\"#636efa\",\"size\":[1.75],\"sizemode\":\"area\",\"sizeref\":0.015600000000000001,\"symbol\":\"circle\"},\"mode\":\"markers\",\"name\":\"Rodger Saffold\",\"orientation\":\"v\",\"showlegend\":true,\"x\":[87.61],\"xaxis\":\"x\",\"y\":[27.45],\"yaxis\":\"y\",\"type\":\"scatter\"},{\"hovertemplate\":\"color=Bobby Wagner\\u003cbr\\u003eanimation_frame=22\\u003cbr\\u003ex=%{x}\\u003cbr\\u003ey=%{y}\\u003cbr\\u003eSpeed (yards\\u002fsecond)=%{marker.size}\\u003cextra\\u003e\\u003c\\u002fextra\\u003e\",\"legendgroup\":\"Bobby Wagner\",\"marker\":{\"color\":\"#EF553B\",\"size\":[0.71],\"sizemode\":\"area\",\"sizeref\":0.015600000000000001,\"symbol\":\"circle\"},\"mode\":\"markers\",\"name\":\"Bobby Wagner\",\"orientation\":\"v\",\"showlegend\":true,\"x\":[79.02],\"xaxis\":\"x\",\"y\":[32.62],\"yaxis\":\"y\",\"type\":\"scatter\"},{\"hovertemplate\":\"color=Aaron Donald\\u003cbr\\u003eanimation_frame=22\\u003cbr\\u003ex=%{x}\\u003cbr\\u003ey=%{y}\\u003cbr\\u003eSpeed (yards\\u002fsecond)=%{marker.size}\\u003cextra\\u003e\\u003c\\u002fextra\\u003e\",\"legendgroup\":\"Aaron Donald\",\"marker\":{\"color\":\"#00cc96\",\"size\":[2.44],\"sizemode\":\"area\",\"sizeref\":0.015600000000000001,\"symbol\":\"circle\"},\"mode\":\"markers\",\"name\":\"Aaron Donald\",\"orientation\":\"v\",\"showlegend\":true,\"x\":[90.09],\"xaxis\":\"x\",\"y\":[27.78],\"yaxis\":\"y\",\"type\":\"scatter\"},{\"hovertemplate\":\"color=Mitch Morse\\u003cbr\\u003eanimation_frame=22\\u003cbr\\u003ex=%{x}\\u003cbr\\u003ey=%{y}\\u003cbr\\u003eSpeed (yards\\u002fsecond)=%{marker.size}\\u003cextra\\u003e\\u003c\\u002fextra\\u003e\",\"legendgroup\":\"Mitch Morse\",\"marker\":{\"color\":\"#ab63fa\",\"size\":[1.41],\"sizemode\":\"area\",\"sizeref\":0.015600000000000001,\"symbol\":\"circle\"},\"mode\":\"markers\",\"name\":\"Mitch Morse\",\"orientation\":\"v\",\"showlegend\":true,\"x\":[86.67],\"xaxis\":\"x\",\"y\":[31.26],\"yaxis\":\"y\",\"type\":\"scatter\"}],\"name\":\"22\"}]);\n",
       "                        }).then(function(){\n",
       "                            \n",
       "var gd = document.getElementById('4b637058-344f-43cb-b4e0-a09268a2c0cb');\n",
       "var x = new MutationObserver(function (mutations, observer) {{\n",
       "        var display = window.getComputedStyle(gd).display;\n",
       "        if (!display || display === 'none') {{\n",
       "            console.log([gd, 'removed!']);\n",
       "            Plotly.purge(gd);\n",
       "            observer.disconnect();\n",
       "        }}\n",
       "}});\n",
       "\n",
       "// Listen for the removal of the full notebook cells\n",
       "var notebookContainer = gd.closest('#notebook-container');\n",
       "if (notebookContainer) {{\n",
       "    x.observe(notebookContainer, {childList: true});\n",
       "}}\n",
       "\n",
       "// Listen for the clearing of the current output cell\n",
       "var outputEl = gd.closest('.output');\n",
       "if (outputEl) {{\n",
       "    x.observe(outputEl, {childList: true});\n",
       "}}\n",
       "\n",
       "                        })                };                });            </script>        </div>"
      ]
     },
     "metadata": {},
     "output_type": "display_data"
    }
   ],
   "source": [
    "animate_field(track1,100)\n"
   ]
  },
  {
   "cell_type": "markdown",
   "id": "c29f2da3",
   "metadata": {
    "papermill": {
     "duration": 0.019815,
     "end_time": "2024-01-04T08:56:21.904828",
     "exception": false,
     "start_time": "2024-01-04T08:56:21.885013",
     "status": "completed"
    },
    "tags": []
   },
   "source": [
    "### An upgrade to the previous visualisation! We have created a function to animate the play that ended up in a tackle!"
   ]
  },
  {
   "cell_type": "markdown",
   "id": "71f13e86",
   "metadata": {
    "papermill": {
     "duration": 0.020012,
     "end_time": "2024-01-04T08:56:21.945866",
     "exception": false,
     "start_time": "2024-01-04T08:56:21.925854",
     "status": "completed"
    },
    "tags": []
   },
   "source": [
    "### For a more comprehensive understanding of how successful tackles work, let's plot a few graphs:\n",
    "By our understanding and using the correlation matrix, we can conclude that a few metrics matter in a successful tackle:\n",
    "1. Height and Weight (hence, tolerance of physical attack and strength of collision)\n",
    "2. yardsToGo\n",
    "3. down\n",
    "4. passLength\n",
    "5. birthDate"
   ]
  },
  {
   "cell_type": "markdown",
   "id": "c95a845f",
   "metadata": {
    "papermill": {
     "duration": 0.019791,
     "end_time": "2024-01-04T08:56:21.985872",
     "exception": false,
     "start_time": "2024-01-04T08:56:21.966081",
     "status": "completed"
    },
    "tags": []
   },
   "source": [
    "Height:"
   ]
  },
  {
   "cell_type": "code",
   "execution_count": 38,
   "id": "76ddd070",
   "metadata": {
    "execution": {
     "iopub.execute_input": "2024-01-04T08:56:22.029326Z",
     "iopub.status.busy": "2024-01-04T08:56:22.028289Z",
     "iopub.status.idle": "2024-01-04T08:56:22.130199Z",
     "shell.execute_reply": "2024-01-04T08:56:22.129363Z"
    },
    "papermill": {
     "duration": 0.125709,
     "end_time": "2024-01-04T08:56:22.132526",
     "exception": false,
     "start_time": "2024-01-04T08:56:22.006817",
     "status": "completed"
    },
    "tags": []
   },
   "outputs": [
    {
     "data": {
      "text/html": [
       "<div>                            <div id=\"903a9deb-6c1c-44b7-9747-00c96a572d1d\" class=\"plotly-graph-div\" style=\"height:525px; width:100%;\"></div>            <script type=\"text/javascript\">                require([\"plotly\"], function(Plotly) {                    window.PLOTLYENV=window.PLOTLYENV || {};                                    if (document.getElementById(\"903a9deb-6c1c-44b7-9747-00c96a572d1d\")) {                    Plotly.newPlot(                        \"903a9deb-6c1c-44b7-9747-00c96a572d1d\",                        [{\"alignmentgroup\":\"True\",\"bingroup\":\"x\",\"hovertemplate\":\"tackle=1\\u003cbr\\u003eheight=%{x}\\u003cbr\\u003ecount=%{y}\\u003cextra\\u003e\\u003c\\u002fextra\\u003e\",\"legendgroup\":\"1\",\"marker\":{\"color\":\"#636efa\",\"pattern\":{\"shape\":\"\"}},\"name\":\"1\",\"offsetgroup\":\"1\",\"orientation\":\"v\",\"showlegend\":true,\"x\":[71,71,71,71,71,77,71,75,71,72,72,77,77,72,72,77,72,72,72,72,72,77,77,77,77,77,77,71,71,71,71,71,71,71,71,74,74,74,77,71,71,74,74,74,74,74,76,73,73,73,73,73,73,73,71,71,71,72,73,72,72,72,72,74,74,79,79,77,77,76,75,75,76,78,71,77,77,77,74,72,72,72,74,72,76,74,75,77,71,71,71,74,71,74,74,74,72,73,73,76,71,71,75,77,74,74,74,74,74,74,75,75,75,75,75,72,72,74,74,74,71,74,72,72,73,74,74,74,76,77,77,72,72,76,76,73,75,75,72,72,72,74,71,71,71,71,77,70,72,77,73,71,71,71,72,74,74,74,74,74,73,73,73,73,73,72,73,73,73,73,71,71,71,72,72,72,72,72,73,73,73,72,72,72,72,72,77,72,72,72,72,72,76,73,72,72,72,72,74,78,73,73,73,72,79,76,72,72,77,77,75,75,75,73,73,73,73,73,73,75,73,77,77,77,73,74,74,74,72,72,73,75,75,75,76,71,72,75,72,72,72,72,72,76,76,76,73,73,73,73,73,73,73,73,72,72,72,72,72,71,71,74,72,75,75,75,71,71,75,72,72,72,72,72,72,72,72,72,72,72,72,72,72,72,75,77,77,77,77,77,77,71,71,71,71,71,71,74,73,73,73,73,73,75,72,72,72,72,73,73,73,73,72,72,72,72,80,77,77,77,77,79,79,75,73,77,75,73,73,73,73,73,73,73,73,71,77,76,72,72,72,72,77,77,77,73,71,71,71,74,74,73,73,73,73,73,73,73,73,72,73,73,73,73,73,69,74,76,76,76,74,73,73,73,72,72,72,72,74,69,69,69,78,73,73,73,73,76,72,72,72,72,72,77,74,74,74,74,74,74,74,73,79,72,72,72,76,75,73,73,70,70,70,70,73,74,71,72,75,72,72,77,72,71,72,71,72,72,72,77,77,77,77,77,77,77,77,77,77,77,77,79,71,79,71,71,71,76,71,71,74,74,77,76,76,76,71,70,74,71,76,76,75,75,78,76,76,76,74,74,74,73,78,76,76,72,72,72,72,72,72,73,71,71,77,77,77,77,73,73,73,73,73,73,72,72,72,71,72,72,72,72,75,77,77,71,71,71,71,71,71,74,74,74,71,71,71,71,76,72,71,71,71,71,74,72,72,72,74,74,74,75,75,75,75,73,73,73,79,79,76,72,72,72,72,72,72,72,72,72,75,76,76,76,71,71,71,76,76,70,72,72,73,74,74,73,77,78,75,72,72,72,72,72,72,72,73,75,77,77,77,77,77,79,73,71,71,71,71,73,71,71,74,74,74,73,73,73,75,72,72,72,72,72,72,72,72,72,75,75,75,75,72,73,73,73,73,75,72,78,73,78,76,75,75,73,74,74,74,74,75,76,76,75,73,73,73,73,73,73,78,75,75,75,75,75,75,69,77,77,76,76,76,76,71,70,70,70,70,70,70,71,71,71,71,71,71,74,77,74,73,74,74,73,73,73,73,73,73,75,72,72,71,71,71,71,71,71,71,72,71,71,72,72,72,72,72,73,77,72,72,72,72,72,71,76,76,71,71,73,73,73,74,69,69,69,72,72,72,72,72,72,75,76,72,77,77,74,77,71,71,72,72,72,72,73,77,77,72,74,72,71,74,74,74,73,73,70,70,75,75,75,75,75,75,77,77,77,72,72,78,77,71,73,73,73,73,72,72,72,72,71,71,71,71,71,75,76,76,76,75,75,75,75,74,72,72,75,69,77,75,73,73,73,71,71,77,77,77,72,74,74,73,73,73,79,72,72,72,72,72,72,72,72,72,72,72,75,75,75,75,75,75,71,71,71,71,71,71,71,71,72,72,72,72,72,72,72,72,69,76,73,73,76,73,73,73,73,73,73,73,69,72,72,71,71,71,73,77,77,77,77,77,76,75,71,71,71,71,75,70,76,76,76,76,75,72,72,72,72,74,77,77,74,74,74,74,73,73,74,70,72,72,72,72,72,74,74,74,74,74,74,76,76,76,76,76,76,76,73,69,72,72,75,74,72,72,72,72,72,72,74,74,76,74,72,73,71,71,71,71,71,71,71,71,71,71,71,74,74,74,74,74,74,74,74,73,72,73,72,76,73,73,73,73,76,71,71,71,71,70,70,70,72,71,71,71,72,76,76,75,73,73,73,73,73,73,70,72,77,72,74,73,73,74,74,74,74,74,74,69,72,72,72,72,72,77,77,77,73,73,71,71,71,71,71,71,73,74,74,74,71,71,71,71,70,70,70,74,74,74,74,75,73,68,68,75,75,75,73,73,79,70,70,76,69,75,75,73,73,73,73,73,77,77,70,70,70,70,73,75,73,73,73,72,72,72,72,72,72,72,69,76,69,69,69,69,72,72,72,72,71,74,74,74,74,76,76,72,72,75,75,75,75,75,75,75,75,75,75,75,76,76,76,75,74,74,74,74,74,71,71,71,71,71,72,72,76,71,72,77,74,74,74,74,74,74,75,75,75,75,72,72,72,72,75,75,75,72,74,77,72,72,72,69,69,74,72,72,75,75,75,75,75,75,76,76,71,69,69,69,69,69,76,76,77,71,71,71,71,78,72,72,76,73,73,73,73,73,73,73,73,73,74,74,73,73,72,75,75,75,72,72,72,73,73,74,77,72,72,72,72,69,69,74,74,74,74,74,70,70,75,75,75,75,75,75,76,76,76,77,77,77,77,69,69,69,74,72,71,71,71,73,76,74,74,74,74,74,74,74,74,73,73,73,76,76,75,75,75,72,72,72,74,75,75,75,75,75,70,70,70,70,70,70,75,75,75,79,72,72,74,69,69,69,77,74,72,72,72,72,76,75,75,75,76,76,76,76,76,76,76,76,74,70,70,70,70,72,73,71,74,77,71,76,75,75,75,75,72,75,71,71,71,71,71,71,71,75,75,77,74,74,75,76,77,78,78,76,70,70,70,70,70,75,72,72,72,72,77,79,72,75,72,72,72,72,72,72,72,72,72,69,69,69,75,75,77,74,74,74,74,78,75,76,75,72,76,76,76,76,76,72,72,73,73,73,73,73,72,75,75,75,72,72,72,72,75,75,74,72,72,75,77,77,77,80,72,72,72,78,78,78,70,76,79,79,79,79,79,72,72,72,75,69,69,69,74,74,75,75,75,75,75,75,75,78,76,75,75,75,75,75,75,75,75,75,71,77,77,77,77,77,77,76,72,72,72,72,73,74,71,71,71,71,71,74,74,73,73,72,72,72,72,72,78,70,70,74,74,72,72,72,72,71,71,71,71,71,71,71,69,74,78,75,72,72,75,75,75,75,75,76,72,75,75,75,75,75,75,74,71,71,71,75,76,76,71,72,72,72,72,70,70,70,75,73,77,77,72,72,75,77,75,75,75,75,75,75,75,73,73,73,73,73,74,73,75,78,71,71,71,72,75,75,69,69,69,69,74,74,74,72,72,72,75,75,75,76,78,74,74,74,74,74,74,74,74,75,73,73,73,73,73,73,73,71,76,73,73,73,75,76,74,74,74,74,75,71,75,76,76,76,76,76,72,72,72,72,72,72,75,69,69,69,69,76,76,78,78,73,73,75,75,75,69,69,69,69,75,74,74,74,74,75,75,75,75,75,75,75,75,75,76,76,73,73,73,73,73,73,77,77,77,77,74,74,74,74,74,71,72,72,72,72,72,72,72,73,73,73,73,72,71,71,71,74,74,74,74,72,72,72,72,77,75,72,72,72,72,72,72,72,72,77,77,77,72,72,72,72,72,72,74,74,74,74,75,74,74,75,74,74,74,73,73,69,73,73,73,73,76,74,74,71,71,71,71,71,71,74,74,74,74,74,74,74,74,74,74,74,74,74,73,73,73,75,75,75,75,75,75,75,76,74,74,74,74,72,72,74,71,71,76,76,76,76,76,75,75,72,69,72,75,75,77,72,72,75,72,76,76,74,74,73,73,73,73,72,72,72,72,76,71,75,75,75,75,76,76,76,76,76,77,74,74,74,74,74,77,73,73,74,79,79,71,75,75,75,75,75,75,75,75,77,75,72,72,76,75,75,72,72,76,76,77,77,77,76,76,76,77,77,76,76,76,76,75,72,72,72,72,72,72,76,74,74,74,74,74,74,74,75,70,69,69,69,69,69,69,69,72,73,71,77,74,74,74,74,74,73,73,73,73,73,74,74,74,73,73,73,73,75,75,75,75,75,75,72,72,72,72,72,72,72,73,73,79,72,72,72,78,78,77,77,75,75,73,73,78,73,73,73,79,79,76,73,76,76,72,72,72,72,72,72,72,74,75,74,75,75,75,75,75,75,72,73,73,73,73,73,73,73,71,71,77,74,74,74,74,74,76,75,74,74,75,75,72,72,72,75,75,75,75,75,75,75,73,75,75,75,75,72,76,76,73,73,73,73,73,75,72,75,75,75,75,70,71,77,73,77,74,74,76,74,77,72,72,72,72,76,74,74,74,74,74,74,72,75,77,76,72,72,72,74,71,71,75,74,74,74,74,74,74,74,74,73,73,74,74,75,73,73,75,72,72,72,72,72,74,74,74,74,72,75,75,75,75,72,76,76,76,76,76,75,72,72,72,72,72,72,72,72,72,72,72,72,75,75,75,77,72,77,77,71,77,72,71,71,71,71,71,71,72,72,72,72,72,72,77,77,77,77,74,74,74,76,70,70,70,71,75,71,77,77,77,75,72,77,77,75,75,75,75,75,75,75,75,75,75,72,75,74,72,72,73,71,71,76,75,75,77,77,75,76,76,76,73,73,73,73,72,72,72,72,72,72,72,77,72,72,72,72,72,72,74,75,72,74,74,74,72,76,69,72,72,72,72,75,75,75,74,74,74,75,74,74,74,74,74,74,70,75,75,75,75,76,74,74,74,74,74,72,70,74,74,74,74,75,75,75,71,71,76,76,75,76,75,77,77,77,77,76,76,72,72,72,72,72,72,72,72,72,73,73,73,79,72,72,72,72,75,75,75,75,75,75,75,73,78,77,77,77,77,77,76,75,71,71,75,75,74,75,72,72,70,70,77,75,76,73,74,74,74,74,77,79,72,72,77,75,75,73,73,73,73,73,73,73,73,78,77,73,73,73,73,73,73,73,73,73,72,72,72,72,72,75,75,75,75,75,75,71,71,71,71,75,70,70,70,75,68,74,74,75,74,74,74,74,73,73,73,73,73,73,68,68,68,68,68,76,76,77,73,73,73,73,73,74,74,74,74,79,79,75,75,75,75,75,71,71,74,74,74,73,73,74,74,70,70,69,69,69,69,69,74,74,73,75,74,72,72,72,72,72,76,75,75,75,73,73,73,77,73,76,73,72,72,73,73,73,73,73,75,74,73,76,76,74,76,73,74,74,73,76,71,71,71,71,71,74,74,74,71,71,71,71,71,73,73,73,71,71,71,71,71,71,77,73,76,76,76,76,76,76,75,75,76,75,75,74,74,77,77,77,73,76,76,77,73,73,73,73,77,72,72,72,72,72,76,74,75,75,75,75,75,76,69,69,75,75,75,74,74,74,74,74,74,74,74,74,74,74,74,75,74,76,71,71,75,75,76,76,76,76,76,76,71,73,73,74,74,74,73,79,79,70,70,70,70,70,71,71,71,71,71,71,71,71,76,75,75,73,73,73,73,71,71,75,77,77,76,76,76,76,74,74,73,73,73,73,73,72,72,76,73,75,75,75,75,76,73,77,79,72,72,72,72,72,72,73,76,73,72,73,73,73,73,69,76,76,76,76,76,76,76,74,74,74,73,79,75,71,72,72,73,73,73,73,75,74,75,74,75,80,80,76,76,76,71,71,71,71,71,71,71,77,73,73,77,77,75,74,73,76,74,76,72,72,72,75,75,75,75,75,75,70,70,75,76,76,76,73,73,73,73,74,74,74,74,79,79,75,75,75,68,75,71,71,73,73,73,72,74,71,71,74,74,74,74,74,77,77,75,73,74,74,77,76,75,76,76,76,77,77,77,73,72,75,75,77,77,77,69,73,73,69,69,74,72,72,71,71,71,76,76,73,73,73,74,74,74,74,74,74,77,73,73,73,75,74,72,74,74,74,73,73,73,73,74,74,74,74,74,74,75,73,76,75,75,75,76,75,75,76,76,73,73,74,72,72,72,72,75,76,75,75,75,75,75,75,75,75,75,75,75,77,77,71,71,71,71,71,71,77,77,77,70,72,71,71,71,71,71,71,72,72,76,76,71,74,72,74,71,73,73,73,72,72,72,72,78,71,70,70,75,77,77,76,73,73,73,73,72,72,74,75,75,75,71,77,73,73,76,73,73,75,75,78,75,71,75,75,75,75,75,75,75,73,77,77,77,76,76,76,76,76,76,74,70,70,75,74,71,71,71,71,71,74,72,72,72,70,70,70,75,77,77,72,75,75,76,72,71,73,73,73,73,73,71,71,71,71,71,71,71,71,75,75,75,75,77,70,70,74,75,71,77,77,77,70,70,70,70,69,69,71,71,71,74,72,72,72,72,70,70,70,70,70,70,70,70,70,70,75,73,77,77,77,72,73,73,72,76,73,73,73,73,73,73,78,71,71,71,71,71,71,75,75,74,74,73,73,73,78,73,73,73,76,76,76,75,71,70,77,74,71,71,71,71,71,74,72,72,72,72,78,75,77,72,72,72,70,77,77,73,74,74,74,74,76,73,73,73,73,73,73,73,73,73,73,73,75,73,71,71,71,71,71,75,75,75,75,75,74,74,74,74,72,75,72,75,69,74,71,78,75,73,73,75,72,72,72,70,72,70,70,70,75,72,72,77,77,77,77,72,72,72,72,72,77,72,72,72,72,72,75,75,75,75,75,71,71,72,73,73,73,71,71,71,71,72,73,71,71,71,71,73,74,74,72,72,72,72,75,75,71,71,71,71,71,73,73,73,73,73,73,73,73,73,72,72,72,72,72,72,72,76,72,72,72,76,76,76,76,79,79,72,72,73,75,75,75,73,73,73,73,76,72,72,72,72,72,72,72,76,76,76,72,72,72,72,72,75,75,71,71,75,72,72,76,76,76,76,73,73,74,74,72,72,73,77,75,73,73,75,73,73,73,73,73,75,72,72,74,72,72,72,72,72,72,72,73,74,74,74,75,75,75,75,73,73,73,73,72,72,72,72,72,72,72,70,72,76,73,73,75,75,75,78,74,72,76,73,76,76,73,73,73,73,72,72,73,73,73,73,73,73,73,71,71,75,74,74,73,71,71,73,73,73,71,74,74,72,72,72,72,72,72,75,75,75,75,71,71,75,73,71,71,71,71,70,70,69,75,76,73,71,71,73,73,73,73,73,74,69,73,76,78,75,75,75,73,73,73,73,73,70,70,77,77,71,75,73,73,73,73,77,74,70,70,74,73,71,71,72,72,72,72,74,70,70,70,70,70,70,71,71,71,73,73,73,73,73,73,75,72,72,72,72,72,72,72,74,74,76,76,72,72,72,76,72,72,72,72,71,71,71,71,71,76,74,74,74,74,73,75,74,76,72,72,72,71,74,76,76,77,73,73,71,71,71,71,72,72,72,72,72,72,72,72,72,72,76,72,76,73,73,73,73,73,73,73,77,74,77,74,74,74,74,74,74,73,73,73,73,71,76,72,72,72,72,72,71,71,76,72,72,72,72,72,72,71,71,77,72,72,72,72,72,72,72,72,72,72,71,71,71,71,71,71,76,77,77,77,75,75,75,76,71,71,72,72,72,72,72,76,76,76,73,71,75,75,78,78,72,72,72,71,73,72,72,76,72,72,72,72,72,72,77,71,71,73,73,73,73,73,71,76,72,72,72,71,71,72,72,75,75,75,75,72,72,72,72,78,74,76,74,74,74,77,71,71,71,71,76,71,72,72,72,72,76,74,77,72,70,76,75,71,71,74,73,75,73,73,73,72,72,72,72,72,72,72,75,73,73,77,74,74,76,76,76,76,75,72,72,72,71,75,75,75,75,75,71,72,72,72,72,72,76,76,77,73,77,74,74,74,74,71,71,72,76,70,70,70,70,70,70,74,74,74,74,74,73,73,73,73,73,72,72,72,72,72,72,72,72,70,68,68,71,71,71,71,76,72,72,72,72,72,72,71,71,71,77,76,76,75,76,72,72,75,75,75,72,72,72,74,74,77,77,75,71,71,71,73,72,72,72,72,76,77,77,76,76,76,76,76,76,72,72,72,72,72,72,72,72,77,73,73,73,73,73,72,72,72,72,75,75,72,72,72,72,72,75,75,72,72,74,74,74,74,74,74,76,76,76,76,72,72,72,72,77,77,75,75,75,75,75,76,76,76,71,75,75,75,75,75,71,72,72,72,72,73,77,75,76,72,71,70,73,73,73,73,73,73,72,72,72,76,76,76,72,72,72,76,70,78,71,76,76,76,77,72,72,72,72,72,72,75,75,75,75,75,76,74,74,72,72,78,71,72,72,72,72,72,78,78,73,71,71,71,77,77,76,76,72,72,72,72,72,76,73,73,73,73,73,73,76,72,72,72,72,72,78,69,69,69,69,69,69,69,69,69,77,73,73,73,73,73,71,71,73,73,73,73,72,76,77,77,78,70,76,74,72,72,74,74,74,74,72,72,72,72,72,72,72,74,78,78,78,77,73,79,79,74,74,74,74,74,74,77,74,69,76,76,76,76,76,73,73,73,73,73,73,73,73,73,71,69,69,69,69,69,69,73,73,73,73,73,72,72,73,72,72,72,72,72,72,72,74,73,73,73,73,73,71,71,73,70,70,74,74,74,76,74,74,74,74,74,74,73,75,71,71,74,74,74,74,73,73,76,76,76,75,76,76,76,75,75,77,77,77,77,69,69,69,72,72,72,72,72,75,71,71,71,71,71,75,74,77,77,77,77,71,71,71,71,76,76,76,72,72,72,72,72,72,73,74,73,73,73,74,74,74,74,73,73,75,75,75,75,75,75,75,74,70,73,73,73,73,74,74,74,74,76,75,75,75,75,75,75,77,77,77,69,69,69,74,72,72,72,72,71,71,71,71,73,73,73,74,76,73,73,72,75,69,69,69,69,69,69,73,73,73,73,73,73,73,73,73,74,74,74,74,74,74,76,72,72,74,74,74,74,74,74,74,74,73,74,70,70,78,78,75,75,75,75,79,79,76,77,77,71,69,69,69,69,69,75,71,74,72,72,72,72,72,71,71,71,71,71,71,71,71,71,71,71,71,75,70,76,76,76,76,74,74,74,74,74,74,74,72,73,68,68,72,73,73,75,75,75,74,74,74,73,73,74,70,69,69,74,74,74,74,74,75,77,77,72,75,74,74,74,74,74,74,74,75,77,77,77,69,69,69,75,72,72,72,74,71,71,71,71,71,73,73,73,75,73,73,72,72,72,72,72,72,72,72,73,73,73,73,73,75,73,73,73,74,74,74,75,75,72,74,74,74,74,75,77,77,73,73,73,73,76,76,69,69,69,75,75,71,71,76,79,79,72,73,73,73,73,73,73,72,73,73,73,73,73,73,71,74,74,70,71,74,71,71,70,73,75,74,74,74,70,70,68,68,68,68,68,77,71,74,73,72,71,72,72,72,72,71,73,77,77,76,76,76,76,73,71,71,77,77,77,75,77,76,73,73,73,73,76,72,77,73,73,73,73,73,76,76,70,68,74,74,74,74,76,70,73,73,69,71,71,70,70,70,70,70,72,75,75,76,75,75,71,71,71,72,72,72,72,76,76,70,70,76,69,69,69,74,74,75,72,72,77,76,77,73,73,73,73,73,73,72,72,73,73,73,73,73,73,73,71,73,73,73,73,73,73,73,73,72,76,76,76,76,73,73,73,73,73,72,72,78,73,70,70,72,72,76,74,77,77,77,77,76,74,71,71,71,71,74,74,74,72,72,74,75,75,74,78,77,77,77,77,77,75,79,74,74,76,76,76,76,71,71,71,71,72,72,72,72,72,71,72,72,73,73,73,73,73,74,73,73,74,73,73,71,73,73,73,73,73,71,71,71,71,71,71,73,71,71,71,70,70,74,74,74,74,74,74,74,74,74,73,72,72,74,74,74,74,77,73,73,73,72,72,73,73,73,73,76,76,72,76,76,69,69,69,69,69,78,78,73,73,77,77,74,74,75,79,79,73,73,73,73,73,73,77,75,73,73,73,73,73,73,69,69,69,77,70,70,75,71,73,73,73,73,74,74,73,73,73,73,73,73,73,72,71,71,71,75,72,72,72,72,73,73,73,73,73,73,73,72,72,72,72,75,74,74,77,77,74,73,73,73,79,74,74,72,72,72,72,72,73,73,79,73,73,73,73,73,73,73,73,73,71,71,71,71,75,75,73,73,78,74,73,73,73,73,73,75,75,75,75,75,75,73,73,73,72,71,71,71,71,71,72,73,73,73,73,73,73,74,74,74,74,75,75,75,75,74,74,75,75,77,77,72,72,72,72,72,72,72,72,73,73,73,73,72,72,72,71,73,74,74,74,76,76,76,69,78,73,73,73,73,73,73,71,71,71,71,71,71,75,73,73,73,73,75,75,75,73,78,76,76,75,75,75,72,72,72,78,78,70,70,70,70,72,72,72,72,72,72,72,75,75,78,71,71,71,73,73,73,71,71,71,73,73,73,73,77,77,74,74,78,75,73,73,71,71,71,71,71,71,71,74,73,73,73,73,75,75,75,75,75,75,75,73,73,73,73,73,73,73,73,73,73,73,73,73,73,73,74,75,77,74,74,74,74,74,74,70,70,75,75,75,73,73,71,71,71,71,71,71,71,74,74,72,72,72,72,77,72,74,74,74,74,74,74,75,75,75,72,72,72,72,72,72,72,72,76,76,77,77,75,75,74,73,73,73,73,71,71,71,71,73,73,73,73,73,73,73,73,73,75,75,75,75,73,73,74,74,74,74,74,76,73,73,73,73,75,69,70,75,74,75,78,78,76,72,72,74,74,74,74,74,74,71,74,76,76,76,76,75,69,69,69,69,76,76,73,73,73,73,74,75,73,73,73,73,73,73,73,73,73,73,73,73,73,73,71,71,73,73,73,73,75,75,75,75,74,77,77,77,77,76,71,76,73,76,76,76,76,76,76,76,75,72,72,72,75,74,73,75,75,75,70,70,71,74,76,77,74,74,74,76,76,76,76,76,75,75,71,73,76,71,71,71,73,73,73,75,75,75,75,73,73,73,73,73,71,71,71,71,75,75,75,75,75,73,73,73,75,73,73,73,73,73,73,73,73,73,73,73,71,78,73,73,76,73,73,74,72,72,72,72,74,69,69,69,69,69,75,77,77,78,74,74,74,71,71,71,71,73,73,73,73,73,77,74,74,74,74,74,74,71,79,79,76,71,71,73,73,73,73,71,72,73,73,73,73,71,71,73,71,73,73,73,73,73,75,71,75,73,73,73,73,75,77,77,70,70,70,70,76,76,76,76,76,76,73,74,74,74,74,75,75,75,75,73,73,73,71,77,77,72,72,72,74,78,78,70,71,71,77,77,73,73,73,73,73,71,73,73,73,75,71,71,71,73,78,78,78,73,73,73,73,73,73,73,73,75,75,75,75,77,73,73,70,70,70,75,70,70,70,71,75,70,70,70,70,68,68,74,78,78,71,71,71,72,72,72,71,71,74,74,77,77,77,75,75,73,73,71,74,74,74,74,68,75,75,74,74,73,72,68,71,71,71,75,76,76,73,73,73,73,73,72,71,71,71,71,73,76,76,76,75,75,75,78,73,72,72,72,73,74,74,74,74,74,74,74,74,73,71,74,76,73,73,73,75,72,72,72,73,73,73,73,73,71,71,71,71,72,75,69,69,75,75,75,73,78,74,74,74,74,72,75,75,75,71,71,74,71,71,74,75,73,71,71,71,69,73,73,72,73,73,73,73,77,74,74,74,74,74,74,77,77,73,73,73,73,73,74,74,74,72,72,72,69,73,73,73,73,73,73,73,73,69,71,71,71,71,71,74,74,72,74,74,74,74,74,74,74,74,74,74,72,72,72,72,72,69,73,75,75,75,72,77,77,77,75,75,75,77,74,76,73,73,71,71,73,74,75,75,75,75,77,74,72,72,73,73,73,73,74,69,74,74,74,77,74,77,77,77,77,73,77,77,77,76,76,76,76,77,77,77,72,73,74,74,74,74,74,74,74,74,74,74,72,72,72,72,78,78,77,77,73,73,77,70,74,73,73,73,71,71,71,71,76,71,71,71,75,76,76,76,77,75,72,75,74,74,74,74,74,74,73,74,74,77,73,73,73,73,73,73,73,73,73,75,75,72,72,72,72,72,73,73,73,73,73,73,74,76,72,74,69,76,76,78,73,75,75,75,75,77,77,74,74,74,75,71,71,75,73,73,71,71,71,71,71,71,71,71,71,71,76,76,76,70,70,70,71,71,71,71,71,75,77,74,74,74,74,74,77,77,75,75,75,75,75,75,75,76,72,72,72,72,72,72,73,73,73,73,73,73,75,71,71,71,71,71,71,72,72,72,72,72,72,71,71,71,71,71,71,75,78,78,78,74,74,74,73,76,76,76,70,70,76,73,73,73,73,71,71,77,70,70,70,70,71,71,71,71,71,71,73,71,74,74,74,74,73,73,74,74,74,77,76,72,72,72,73,73,73,72,72,72,72,72,72,72,74,71,71,71,71,72,74,74,73,76,76,76,69,69,74,74,74,74,74,73,76,76,73,74,74,71,74,74,74,71,71,75,77,77,74,74,72,72,72,72,72,72,75,69,70,70,70,70,70,74,73,73,73,71,71,71,71,74,71,74,74,73,74,74,73,73,73,74,71,73,73,73,73,73,79,79,74,74,74,74,74,74,74,74,74,74,74,74,75,72,72,72,72,71,71,71,71,71,71,71,71,75,75,75,69,69,69,69,76,76,76,76,76,76,76,73,73,73,73,74,73,75,75,74,74,74,74,70,70,70,70,74,71,71,71,71,73,73,73,73,73,75,75,75,75,75,75,74,76,73,74,75,72,73,73,73,73,73,77,72,74,76,74,74,74,74,74,74,74,77,77,77,77,72,72,72,72,72,71,71,71,74,74,74,73,74,74,74,74,72,72,72,72,72,74,76,76,76,72,74,74,74,74,74,74,75,75,74,70,70,70,70,70,71,74,72,73,73,73,73,73,75,75,75,75,75,75,69,71,72,72,72,72,72,72,74,73,77,77,77,77,71,74,74,72,72,72,72,72,72,76,71,71,71,71,71,71,71,71,71,71,71,71,74,74,74,74,74,74,74,74,74,73,73,73,73,76,73,76,74,74,74,74,70,74,73,71,71,71,71,76,73,73,73,73,73,73,73,73,72,72,74,74,73,71,74,74,74,74,71,72,72,72,71,71,71,71,71,70,70,70,70,75,76,76,76,73,73,75,75,71,74,74,74,69,69,69,76,75,71,71,71,71,71,74,73,73,73,73,76,77,75,73,70,71,71,71,71,73,73,73,69,69,69,72,72,72,75,74,74,74,74,74,74,74,75,75,75,76,76,74,74,74,72,72,75,75,70,70,70,70,72,71,71,71,73,74,75,74,74,74,76,76,76,76,72,72,72,72,72,72,72,79,70,73,73,73,73,73,74,79,73,74,74,75,75,75,74,72,72,72,72,72,73,73,77,74,76,73,73,73,73,73,73,73,73,76,74,74,77,77,76,75,77,75,70,69,69,69,69,76,76,76,76,76,76,76,76,76,74,73,73,73,72,72,70,70,70,75,72,72,72,72,72,72,72,72,73,78,73,73,73,73,73,73,74,74,73,78,72,72,72,72,75,71,71,71,75,75,75,75,73,73,73,73,72,72,73,73,73,78,74,75,75,75,69,69,76,79,76,76,75,79,74,74,74,74,74,73,70,72,72,72,70,70,78,76,73,72,72,72,72,76,69,73,73,73,73,72,72,72,74,74,74,74,74,74,74,74,74,70,73,73,73,73,73,69,69,69,69,76,76,79,70,70,76,71,71,79,69,69,69,75,70,70,70,70,76,76,71,71,71,71,71,71,73,73,70,70,70,70,70,78,73,73,73,75,75,75,72,72,72,72,72,72,72,72,76,74,73,71,71,71,71,76,73,71,71,71,71,72,72,72,72,76,73,73,73,73,70,70,70,75,69,69,69,74,76,74,74,74,74,77,72,72,72,72,72,70,70,71,70,73,73,75,72,72,72,72,75,73,73,73,73,71,71,72,72,72,72,72,72,72,75,73,73,73,75,75,75,75,75,72,77,72,72,72,72,72,73,73,73,73,73,73,73,69,74,72,73,73,73,73,73,73,73,79,74,74,74,74,74,74,76,76,77,75,77,74,74,69,76,76,76,76,76,74,74,74,74,79,72,72,72,72,72,72,70,70,70,78,73,73,73,72,72,72,72,72,72,74,76,73,73,73,73,74,73,73,74,76,76,76,76,76,71,75,75,75,75,75,75,72,72,73,73,73,76,71,71,71,71,71,69,69,69,69,69,69,76,76,76,76,76,76,71,71,71,79,75,75,75,75,75,75,78,71,75,75,75,70,70,74,74,74,74,78,70,73,74,74,78,73,74,72,72,72,72,76,69,73,73,74,74,73,71,71,71,71,71,71,71,71,71,71,71,71,71,71,76,73,71,71,72,72,72,76,73,73,73,73,73,73,76,76,75,75,75,75,69,76,76,76,76,76,76,76,76,72,72,72,72,72,70,70,71,71,70,73,72,72,73,71,77,75,71,71,71,71,71,76,75,72,72,72,72,72,74,73,73,73,74,79,73,70,74,70,70,70,74,74,74,74,76,74,68,73,73,73,73,70,75,71,68,68,74,74,75,75,75,75,75,75,69,69,76,76,76,72,71,71,74,74,79,79,79,77,74,76,75,70,70,70,71,71,71,74,74,70,73,73,73,74,74,70,72,71,71,73,73,73,76,71,71,71,71,71,72,73,71,71,72,72,72,72,72,72,74,71,75,76,74,71,74,73,74,74,74,72,72,72,76,76,71,71,73,74,76,71,74,75,75,72,71,71,74,74,74,74,74,75,75,71,71,71,71,71,71,73,73,73,73,73,70,70,70,70,70,70,76,76,76,72,73,72,72,72,74,74,74,69,69,69,70,70,70,74,75,76,76,68,68,68,74,72,72,72,72,72,72,72,71,71,74,74,74,74,74,74,77,76,75,72,72,73,74,74,74,74,74,74,77,78,74,71,73,73,70,72,73,73,76,76,76,76,76,73,73,73,76,72,72,73,73,69,69,73,72,73,73,73,73,73,73,73,72,75,72,72,72,72,76,73,73,73,73,72,72,72,77,73,73,73,73,75,75,72,72,72,72,72,72,72,77,74,73,75,69,69,69,74,74,73,73,73,73,76,76,72,72,72,72,69,69,69,69,72,70,70,70,70,70,74,74,74,74,74,74,74,75,70,73,73,73,73,73,73,76,73,76,72,72,72,72,74,77,77,72,75,75,74,74,74,72,72,70,70,74,69,69,69,69,69,74,74,73,78,77,76,71,73,73,73,73,73,73,73,73,76,76,76,72,72,73,73,73,73,73,73,73,73,73,73,73,77,74,74,74,73,76,73,73,73,73,74,72,72,72,74,71,71,77,74,74,74,74,74,74,72,72,72,72,72,72,72,72,72,72,78,78,76,77,77,75,76,73,76,70,70,70,70,70,70,71,74,74,71,73,73,73,73,73,73,73,73,73,73,73,73,75,72,72,72,72,72,72,72,76,76,72,73,73,73,70,70,72,71,72,72,72,72,72,72,71,71,72,75,75,75,77,77,77,77,75,71,73,69,71,71,80,80,73,75,77,77,77,75,70,70,70,70,70,70,73,74,74,74,74,74,75,77,75,76,76,76,76,76,76,75,70,70,70,70,75,75,77,68,68,75,75,71,71,71,71,71,71,71,71,71,74,74,77,75,75,76,76,76,77,73,74,74,75,71,72,72,71,78,78,73,73,73,73,71,72,74,74,74,74,77,77,75,72,72,72,72,72,70,70,70,72,72,71,71,71,71,74,75,70,70,70,74,74,74,74,74,74,74,74,74,74,69,73,73,73,73,70,75,68,68,73,74,75,70,75,75,75,71,71,71,71,71,72,71,74,74,77,76,75,71,70,70,70,70,70,76,69,69,69,69,71,71,71,74,74,74,77,68,76,71,71,71,71,71,76,76,73,73,71,75,75,73,76,73,73,73,73,73,73,73,70,70,70,70,74,75,75,74,74,74,74,74,74,74,76,73,68,72,72,72,72,72,75,76,76,77,72,73,73,73,73,73,72,73,73,75,75,75,75,71,71,72,72,72,72,75,75,77,74,70,70,69,69,80,71,71,71,71,71,71,71,71,75,70,74,70,70,70,70,74,74,74,74,74,74,69,70,77,77,77,75,73,76,76,76,70,72,76,70,68,68,68,70,70,76,75,75,75,75,75,75,76,76,78,71,74,74,77,72,70,70,70,69,69,72,72,78,73,73,71,71,77,72,72,75,75,71,71,71,71,71,76,70,70,70,74,74,74,74,72,72,74,74,74,76,74,74,74,74,74,74,74,74,74,76,70,75,73,73,68,75,75,75,75,75,75,75,75,75,75,75,70,70,76,76,70,76,69,69,69,69,69,69,69,69,69,74,76,76,77,71,71,71,71,75,75,76,75,75,76,76,71,73,73,72,75,75,75,72,72,72,72,72,71,76,71,71,71,72,73,73,73,73,77,77,73,71,71,71,73,73,73,73,73,72,72,75,75,75,73,73,73,73,72,72,72,72,72,72,72,77,75,75,75,77,77,69,69,69,80,76,77,77,74,74,71,71,71,75,76,76,72,72,76,76,70,70,70,70,70,70,70,70,73,77,76,72,72,72,71,73,73,73,75,75,75,74,74,73,73,73,73,72,73,72,72,72,72,72,72,72,72,73,73,73,73,73,73,75,77,69,71,71,76,75,75,74,74,76,78,78,78,78,73,73,73,76,79,76,76,71,71,71,73,73,73,76,76,75,75,75,75,75,75,75,75,76,72,72,72,72,73,76,76,76,76,76,75,75,75,75,72,72,72,72,72,72,72,73,69,69,69,78,78,78,72,72,72,72,76,76,76,74,74,77,75,74,71,71,71,73,73,76,77,77,74,74,74,74,74,71,71,71,75,75,75,75,72,72,72,72,77,77,71,75,75,75,75,75,72,72,77,73,73,73,73,76,69,74,69,69,74,74,77,72,70,74,75,75,75,75,74,74,74,76,74,74,74,74,74,74,74,75,75,78,76,76,76,76,78,74,74,74,74,74,77,75,75,75,75,75,70,70,74,74,74,74,74,74,74,74,71,74,74,74,74,76,76,76,76,71,71,71,71,76,75,75,74,72,72,72,72,72,72,72,77,74,73,73,73,77,69,69,69,69,69,71,71,71,71,71,71,73,76,76,76,74,76,74,74,74,74,78,76,76,71,71,71,71,71,73,73,73,77,77,76,76,77,73,72,72,72,72,72,77,74,74,74,74,75,75,75,74,71,77,77,74,74,74,72,75,73,77,72,72,72,74,77,73,73,77,71,69,72,69,69,72,72,72,72,77,77,77,76,77,77,76,74,77,72,72,72,72,72,73,73,74,76,74,74,74,74,74,74,71,71,71,71,71,71,74,74,73,73,73,73,77,71,75,74,74,74,74,74,74,71,71,71,71,72,72,72,72,74,73,73,73,73,73,74,71,74,74,74,72,72,74,74,74,76,75,74,74,74,74,74,74,74,75,75,76,77,74,77,74,74,74,77,76,76,76,77,71,74,74,70,70,70,70,70,70,70,69,76,75,75,75,73,69,75,77,77,76,71,71,71,71,71,75,73,73,73,73,73,73,76,76,76,75,73,71,72,72,72,77,77,77,71,71,76,76,76,76,76,76,75,72,72,72,72,72,72,72,76,74,78,72,72,73,73,73,73,73,75,75,75,75,71,71,73,73,73,74,71,75,75,75,75,74,76,76,76,74,74,75,76,76,77,77,71,71,71,74,76,76,76,76,76,76,75,71,72,71,71,71,71,71,71,75,72,75,76,76,71,71,71,71,71,71,72,72,72,72,76,77,78,78,78,72,71,71,71,73,73,73,73,73,73,73,73,73,73,73,75,74,71,71,75,75,72,72,78,71,71,71,74,74,71,71,76,76,76,76,72,75,75,76,76,76,76,76,76,76,78,72,70,70,75,75,73,73,73,73,73,73,71,71,76,76,76,76,76,76,75,74,74,74,74,74,73,75,74,72,72,72,72,72,78,73,77,77,77,74,74,74,74,71,75,72,76,76,76,76,74,75,75,73,73,73,73,73,73,73,73,73,73,73,73,74,74,72,69,75,71,71,71,71,71,71,71,76,71,71,74,74,71,74,74,74,76,72,72,72,72,72,72,72,72,76,75,75,75,75,75,75,75,76,76,76,77,77,74,74,74,74,74,74,75,76,73,76,69,73,76,76,76,76,74,74,70,75,72,70,70,70,70,70,70,75,74,73,73,74,74,74,72,72,72,72,72,72,72,72,71,71,71,71,71,71,71,71,71,77,77,71,71,71,71,72,74,74,73,73,73,73,73,73,73,75,75,75,71,72,78,78,71,71,71,78,76,72,72,75,71,71,71,71,75,74,75,74,70,73,72,75,75,76,76,76,76,76,76,71,74,74,70,70,70,70,70,74,74,74,71,71,71,71,71,71,75,75,75,75,75,75,77,72,72,75,72,72,72,72,72,77,75,75,75,72,72,72,73,71,72,72,72,72,72,72,72,72,72,71,75,72,72,72,72,72,72,72,73,73,73,71,71,71,69,69,69,69,77,73,76,76,76,70,76,75,70,70,70,70,71,74,74,74,74,71,71,71,71,75,74,74,74,73,73,73,73,73,73,71,75,71,75,73,73,73,73,71,71,71,76,76,73,74,71,71,75,75,74,74,76,71,71,75,75,76,76,76,75,69,69,76,76,74,75,75,73,77,77,73,73,73,73,76,75,75,75,75,75,75,76,76,76,76,77,70,70,70,70,70,70,70,70,73,77,75,75,71,71,71,71,71,77,77,73,73,73,73,73,73,73,73,73,73,73,73,73,77,77,77,74,74,74,74,74,74,74,74,75,75,75,75,73,73,71,71,71,71,71,71,75,71,71,71,71,74,74,74,74,74,74,72,72,72,72,72,72,75,76,76,76,77,74,74,75,77,76,72,72,72,73,73,76,76,76,76,76,76,71,76,75,71,74,70,70,70,70,70,71,71,71,71,71,71,71,73,77,74,73,74,74,74,73,73,73,73,73,73,73,73,76,75,75,75,75,75,75,73,73,73,73,73,71,71,74,74,71,71,74,75,69,76,76,76,74,75,74,74,75,75,77,77,73,73,73,73,73,73,73,76,75,75,72,77,73,73,73,72,72,72,72,72,69,69,77,77,72,74,75,74,74,74,74,74,74,74,74,75,71,71,71,71,71,73,74,74,74,74,74,74,75,75,75,73,73,73,73,73,73,73,72,72,72,76,76,78,78,75,70,70,74,78,76,73,73,73,73,73,75,71,74,75,72,78,73,73,73,72,72,72,72,72,72,71,70,70,70,70,73,73,71,71,71,71,75,75,75,75,73,73,73,73,73,72,72,72,69,69,69,69,77,73,73,74,74,73,78,76,76,72,72,72,72,72,72,72,72,73,73,73,73,73,73,73,73,73,73,73,73,73,76,74,78,78,78,73,73,73,73,73,79,76,73,73,73,73,72,72,72,72,72,72,72,75,75,75,75,75,75,77,75,72,72,72,77,77,77,77,71,74,75,74,73,73,73,73,73,72,73,74,72,72,74,74,74,73,78,76,72,72,72,72,72,72,72,75,71,71,71,71,71,74,74,74,74,74,74,73,73,73,72,72,69,69,75,74,71,76,73,73,73,72,71,71,71,71,71,72,71,71,71,71,71,71,71,72,72,72,72,72,72,72,71,72,76,76,76,72,74,74,74,73,73,73,73,72,72,78,74,76,75,75,75,71,72,72,72,72,72,77,72,72,76,74,71,71,71,71,72,72,75,75,75,71,71,71,71,71,71,74,69,69,72,75,74,74,75,75,75,75,75,72,77,75,75,77,72,72,72,75,75,74,74,74,74,75,75,72,72,72,72,72,72,72,72,72,72,73,75,77,77,77,77,77,77,77,77,74,74,75,75,70,74,72,72,72,72,72,70,70,70,73,73,74,74,72,72,72,72,72,72,72,72,71,71,74,74,76,72,73,69,69,69,75,75,75,74,74,74,74,74,76,75,72,75,75,74,74,74,74,74,74,74,71,74,74,74,74,74,74,74,74,74,74,74,74,74,74,74,74,74,70,74,74,74,74,75,75,75,75,76,76,76,75,70,74,70,70,75,76,76,76,76,76,76,76,76,76,71,75,69,69,69,69,76,75,71,71,71,77,77,73,73,76,76,75,75,76,76,76,69,74,72,72,72,72,72,72,72,72,75,74,74,74,74,74,74,76,78,75,74,74,74,74,74,74,73,73,73,73,73,73,73,74,74,74,74,74,74,75,75,75,75,75,76,76,75,70,70,70,70,74,74,73,73,73,73,73,74,73,76,76,74,74,76,75,71,76,73,75,69,76,76,76,73,73,73,73,76,75,75,75,75,75,75,75,75,75,75,75,75,72,77,72,72,72,72,72,73,72,77,77,77,72,75,71,71,71,71,71,77,71,71,71,71,75,76,71,75,72,72,72,72,72,72,73,72,72,72,75,77,72,72,72,72,73,72,72,72,72,72,72,72,72,69,71,71,71,71,71,71,71,72,72,72,72,72,76,75,72,75,75,75,72,72,72,72,77,77,75,72,76,74,74,74,74,74,72,72,70,70,70,70,73,76,76,76,73,71,71,71,71,71,71,74,74,75,75,75,75,73,73,75,69,69,69,69,73,69,69,75,75,71,73,73,73,72,73,77,73,73,73,73,73,73,75,75,73,73,73,73,73,73,73,73,73,73,77,77,75,78,76,76,76,76,76,75,70,74,74,74,74,70,70,70,73,73,73,76,75,75,71,74,76,76,76,72,74,74,74,74,77,74,74,74,74,74,72,72,78,70,73,73,73,71,71,73,77,76,76,76,76,76,76,76,76,76,78,70,70,70,70,70,70,70,70,70,73,73,69,73,69,69,69,69,69,77,75,73,73,74,74,74,74,73,73,73,73,72,72,72,73,73,73,76,76,76,74,74,74,74,74,74,74,75,72,72,70,70,70,70,70,73,71,74,73,73,78,73,79,79,77,77,77,76,76,76,76,76,75,71,71,71,71,71,73,77,70,70,76,76,71,71,71,71,71,73,73,70,70,70,70,76,75,75,76,77,74,75,74,75,75,76,76,76,76,76,76,74,75,75,72,72,72,78,78,73,73,73,73,73,71,71,71,77,77,77,74,74,73,73,74,74,71,71,77,77,71,71,71,77,71,71,71,71,71,71,75,75,69,72,71,71,71,76,76,75,71,71,71,71,71,71,71,75,72,72,72,72,72,76,76,69,69,69,77,77,77,77,77,77,70,70,70,70,70,76,71,71,71,71,71,75,72,73,73,73,76,76,76,72,74,77,77,77,75,75,75,74,75,77,72,72,72,72,76,77,77,71,71,71,71,74,76,71,76,72,75,71,71,71,71,71,71,73,73,75,72,72,72,72,72,72,72,72,76,70,74,74,77,77,74,76,74,74,73,71,71,71,71,71,73,73,73,73,74,73,73,73,75,72,72,72,72,74,75,75,77,70,70,70,70,70,70,74,75,75,75,75,77,75,76,74,76,75,76,71,71,71,71,71,74,74,69,74,74,75,73,73,73,73,73,77,70,76,76,76,76,71,71,71,71,73,73,73,73,73,73,73,73,72,72,72,72,74,74,77,77,77,77,77,75,75,75,74,76,74,74,74,71,76,76,69,69,69,73,73,73,73,73,74,74,73,75,75,75,75,75,75,75,75,75,75,75,75,77,71,71,71,71,71,71,71,71,73,73,76,76,76,76,76,76,75,70,70,70,70,75,75,72,72,72,72,74,74,74,69,69,69,69,69,69,77,77,77,76,73,73,73,73,72,74,74,75,75,73,73,73,73,72,72,72,72,70,70,70,70,73,73,73,74,74,74,78,76,76,76,76,74,73,74,74,74,74,74,74,74,73,73,73,73,73,73,73,73,73,73,71,72,72,72,76,74,74,74,75,76,74,74,74,75,71,74,74,74,71,77,73,73,73,73,73,71,71,76,70,70,70,76,76,76,76,74,71,71,71,72,74,74,74,71,73,74,69,69,69,75,76,69,76,74,74,74,75,74,69,73,75,69,76,73,73,73,73,73,73,73,73,73,73,73,74,74,74,69,74,74,74,69,71,71,75,76,76,76,76,76,76,76,76,76,78,75,75,69,76,76,76,73,73,73],\"xaxis\":\"x\",\"yaxis\":\"y\",\"type\":\"histogram\"},{\"alignmentgroup\":\"True\",\"bingroup\":\"x\",\"hovertemplate\":\"tackle=0\\u003cbr\\u003eheight=%{x}\\u003cbr\\u003ecount=%{y}\\u003cextra\\u003e\\u003c\\u002fextra\\u003e\",\"legendgroup\":\"0\",\"marker\":{\"color\":\"#EF553B\",\"pattern\":{\"shape\":\"\"}},\"name\":\"0\",\"offsetgroup\":\"0\",\"orientation\":\"v\",\"showlegend\":true,\"x\":[77,71,76,71,77,71,75,72,77,77,71,76,73,77,73,72,72,71,78,72,71,73,72,77,72,71,77,71,71,73,71,73,74,71,74,72,71,72,71,72,76,76,73,72,76,76,76,78,77,72,72,72,72,72,72,72,76,75,76,77,76,74,76,76,75,74,74,74,74,74,72,71,71,72,73,71,71,71,74,74,74,74,74,72,74,74,73,74,77,74,76,73,74,75,74,74,74,76,74,74,74,74,74,76,74,75,75,74,76,75,77,71,73,72,73,72,76,72,72,74,71,74,71,71,76,71,71,72,71,77,71,72,70,73,73,77,77,72,77,76,77,74,71,72,71,73,73,74,72,72,73,72,73,72,73,73,73,72,73,78,71,79,72,72,72,72,76,72,76,77,73,72,76,73,79,73,76,73,79,73,71,73,72,73,75,71,75,75,75,73,73,77,73,73,76,74,77,74,77,71,77,77,71,77,74,74,74,71,74,73,72,73,72,73,72,76,75,75,75,75,75,75,75,71,75,71,75,71,72,71,73,71,75,73,72,73,73,73,77,77,75,76,73,71,72,74,72,74,71,73,77,72,76,72,74,72,72,77,77,71,77,73,77,77,73,79,77,73,72,75,72,75,77,72,72,72,80,72,73,75,80,75,72,75,77,77,73,79,74,75,75,80,75,74,75,71,73,73,77,76,77,71,74,71,74,74,75,70,78,73,73,77,74,73,73,73,72,74,76,73,72,74,72,77,72,78,72,75,72,72,69,69,72,72,74,72,77,78,72,77,74,78,75,76,70,70,75,76,75,77,75,75,71,79,78,73,72,72,71,72,74,72,75,72,73,72,71,73,73,73,73,77,75,77,77,71,77,71,76,76,76,70,70,74,73,74,77,77,72,71,75,77,73,73,76,72,76,78,72,71,75,77,75,77,75,71,72,73,76,73,73,78,71,72,79,74,72,74,70,73,77,77,71,76,71,76,69,69,76,73,72,74,75,75,77,75,76,78,77,76,77,73,72,76,76,72,72,75,71,72,77,72,72,77,74,72,78,77,73,77,77,77,71,71,73,71,74,71,72,71,76,73,74,73,72,73,73,74,72,73,72,75,72,72,72,74,75,73,75,73,73,75,73,76,75,74,72,78,73,74,77,73,77,74,76,71,70,74,70,70,71,74,76,74,76,74,76,71,71,71,71,77,75,77,73,77,69,77,73,77,74,71,72,72,75,77,71,72,71,69,69,72,72,69,72,72,77,74,77,77,75,77,77,75,78,72,75,72,72,72,77,77,77,71,72,77,71,72,76,74,74,74,76,74,70,77,75,75,73,75,75,77,77,75,72,75,77,72,77,72,72,71,74,71,72,73,75,73,77,72,73,72,72,78,71,72,71,76,77,73,74,73,77,72,77,74,75,73,73,73,73,77,73,77,72,74,72,74,73,72,79,73,75,72,76,72,71,71,71,75,71,75,71,71,74,72,72,76,72,73,69,73,69,77,74,77,77,71,77,71,73,71,71,70,76,72,76,72,75,72,75,70,74,77,73,72,74,74,71,71,69,72,77,72,73,72,76,75,76,73,76,73,76,72,73,69,73,74,72,72,74,72,72,72,72,71,72,70,77,70,74,79,73,74,70,74,74,74,74,76,72,73,72,72,73,72,73,72,77,77,77,73,76,70,72,77,70,71,74,77,71,76,73,73,70,78,70,72,70,72,73,74,70,75,77,74,77,73,77,71,77,77,73,77,73,77,71,73,77,71,73,78,73,71,73,71,70,73,71,71,69,77,71,77,70,74,69,74,73,69,74,75,68,75,75,74,76,75,76,75,76,75,70,70,75,70,76,76,75,76,73,70,73,70,73,70,73,72,69,73,78,72,72,72,69,72,74,71,72,77,72,76,74,72,72,72,72,72,71,72,76,74,74,74,76,71,76,76,75,74,76,76,74,75,74,72,73,71,77,74,74,74,75,76,75,78,77,72,77,74,77,75,74,72,72,72,71,74,77,74,72,74,75,72,73,72,72,72,75,75,79,75,76,75,76,75,71,71,73,70,73,70,77,70,72,73,72,69,74,76,77,71,75,72,73,72,73,72,75,79,75,78,75,79,75,77,79,72,74,72,76,72,73,73,79,74,74,71,75,69,72,72,69,71,74,71,74,72,71,72,76,72,74,77,77,74,69,72,74,72,71,73,72,74,72,71,76,73,74,73,73,73,74,73,73,75,76,74,75,74,76,75,74,75,74,75,74,75,73,75,73,74,76,75,78,72,72,78,72,75,76,76,69,75,69,72,75,72,75,76,72,75,79,75,76,75,78,76,78,75,76,76,74,76,73,70,71,71,70,74,71,71,71,75,71,75,77,76,70,75,77,75,72,75,79,77,75,72,75,72,72,72,76,72,72,72,75,69,75,69,69,78,69,76,76,75,74,74,75,75,72,76,75,72,72,69,72,73,72,72,72,71,72,72,72,75,75,77,75,72,75,75,72,69,75,69,72,75,76,74,78,72,75,75,75,71,75,71,71,75,73,75,74,75,75,75,73,75,69,75,75,72,72,77,73,77,71,75,74,78,72,76,72,72,69,69,71,74,73,76,76,72,76,69,74,75,72,69,75,69,74,79,74,76,74,74,74,72,76,76,75,72,75,79,75,75,75,75,76,75,71,71,75,74,77,70,72,77,75,77,72,75,75,73,75,73,75,78,75,77,72,75,75,69,77,74,75,74,75,72,75,72,72,76,76,75,74,73,69,74,74,75,76,74,74,75,74,71,74,74,75,75,73,75,73,69,73,75,75,75,78,72,74,71,76,75,74,69,76,69,77,75,72,69,73,75,69,72,69,74,76,69,74,76,69,69,72,74,75,74,71,76,75,72,76,75,73,75,72,73,75,73,73,73,76,72,76,77,71,77,75,77,72,71,72,72,78,74,77,73,74,71,74,74,72,72,74,78,75,72,75,77,75,76,75,72,72,76,76,76,72,74,74,74,69,74,76,74,76,74,73,73,74,76,73,76,73,73,71,77,72,76,74,76,74,76,74,75,75,77,76,71,74,69,75,78,76,78,77,72,77,72,74,72,76,72,74,71,77,74,74,75,79,73,73,73,72,73,79,72,74,76,72,73,76,73,71,77,75,75,74,75,74,76,74,77,74,72,74,72,72,74,75,74,75,77,74,73,75,75,75,72,73,74,74,75,72,77,74,75,71,74,75,74,70,70,72,70,77,69,77,69,73,72,77,78,77,74,74,74,75,74,73,72,73,74,73,74,77,75,72,75,72,75,72,78,72,79,73,72,75,75,73,73,79,73,79,78,76,73,74,72,72,74,77,74,76,74,73,73,72,75,75,75,75,72,77,75,73,73,73,71,77,76,74,75,74,74,72,74,72,74,75,74,75,74,75,74,75,74,75,72,74,75,75,75,75,70,75,75,75,75,75,72,72,75,72,76,71,73,77,73,75,75,72,70,75,77,73,75,77,74,74,74,74,72,74,72,74,74,74,74,74,69,75,69,76,72,73,71,74,71,72,75,76,74,75,74,75,74,74,74,75,74,75,75,75,75,77,72,75,73,75,76,75,72,72,74,74,75,72,72,76,72,72,72,74,75,76,76,77,77,71,75,72,75,75,70,72,71,75,71,77,77,77,77,77,77,77,77,70,70,72,77,72,75,72,77,72,77,74,77,72,74,77,74,75,72,74,72,70,75,77,77,77,73,77,76,76,77,73,72,75,76,75,75,75,75,72,76,72,75,73,72,72,75,72,75,72,75,72,75,72,72,72,72,74,72,76,72,72,72,74,76,75,74,74,72,74,72,74,76,74,74,70,72,74,74,72,74,74,74,74,74,74,74,74,74,74,76,74,74,74,71,74,74,76,75,76,74,76,76,74,75,74,74,77,74,75,75,74,76,75,77,75,72,77,72,72,75,72,72,72,71,75,73,72,73,73,75,73,76,72,73,77,75,75,75,75,71,72,77,75,71,72,75,72,77,75,77,71,77,77,77,71,75,77,71,75,73,76,76,76,77,76,76,71,74,71,75,71,77,75,71,71,74,72,73,74,75,72,77,72,70,72,70,73,74,77,72,72,75,75,75,73,77,73,71,71,72,73,71,72,76,73,73,75,73,70,70,74,71,74,71,76,74,76,70,69,77,70,70,75,74,74,70,70,76,70,68,70,74,74,74,74,68,73,74,73,74,68,72,68,68,69,76,76,73,75,76,74,77,76,75,73,73,73,73,76,73,76,73,76,72,72,75,72,73,75,76,75,73,73,72,73,74,73,74,73,71,75,73,73,70,77,73,74,73,73,73,70,77,73,71,73,79,76,76,76,76,76,74,74,71,77,74,71,76,77,71,73,76,75,77,77,73,73,76,73,75,73,72,72,76,74,73,75,76,75,71,75,77,75,75,75,75,75,71,76,74,74,76,74,78,74,74,74,71,74,74,74,74,76,76,75,73,76,75,73,71,76,75,76,74,71,71,73,76,73,71,78,76,77,76,73,77,73,73,76,73,75,74,73,72,77,72,72,76,75,76,73,75,76,77,75,72,72,69,80,73,72,73,72,73,76,75,75,73,75,72,77,69,72,73,76,76,72,77,73,73,74,74,79,75,80,72,77,74,73,75,73,76,75,77,80,79,73,76,73,73,73,76,73,73,76,73,75,73,72,76,72,74,72,76,76,75,76,75,76,74,70,74,74,76,76,76,75,76,73,73,68,71,68,72,71,74,74,74,75,75,76,75,76,75,77,75,74,76,76,77,72,77,77,75,77,75,77,69,71,69,73,76,73,76,73,73,73,74,73,74,73,74,74,73,75,73,75,73,73,74,76,73,74,73,73,76,74,76,74,76,74,76,75,74,74,76,76,75,75,73,77,73,77,75,72,73,71,72,77,75,77,73,71,74,74,74,73,73,76,77,77,76,70,74,77,71,71,72,77,71,77,71,76,75,76,73,77,76,75,74,73,74,74,71,71,72,72,75,72,72,75,72,77,77,78,72,75,75,75,75,75,76,77,74,77,75,75,75,73,75,72,70,75,75,77,75,77,75,77,74,76,75,76,75,75,76,77,70,71,70,70,74,70,77,74,71,76,71,73,71,75,71,77,73,71,72,73,72,75,72,75,72,72,73,75,71,75,74,75,74,76,76,77,75,75,77,75,72,72,77,77,72,70,77,72,70,78,70,72,71,71,72,72,72,75,77,75,74,73,74,76,73,73,73,72,73,72,73,72,73,72,73,72,73,73,76,79,74,76,74,76,79,75,72,75,73,75,75,72,73,77,75,77,71,77,75,77,75,71,72,71,73,71,73,73,71,72,72,71,72,77,77,73,72,77,75,73,73,75,73,73,73,74,75,74,73,74,73,73,70,74,73,74,73,74,73,70,76,75,69,71,75,75,77,77,75,72,75,73,75,73,71,73,72,71,73,71,73,73,73,72,77,72,70,72,72,75,73,72,75,75,72,75,75,78,75,71,72,77,71,72,77,72,73,71,72,71,72,73,72,75,72,73,72,75,76,75,71,73,75,78,71,72,71,73,74,72,75,75,72,71,76,75,73,74,73,71,73,73,73,72,72,72,73,72,73,72,76,76,72,76,72,75,72,78,72,76,72,72,77,72,72,75,72,75,74,76,74,73,75,73,75,74,73,73,75,74,73,73,74,73,73,74,73,73,75,73,73,73,76,73,75,72,73,72,74,72,75,78,74,75,72,75,72,76,75,72,71,72,72,72,71,75,75,73,78,73,76,76,70,70,71,75,76,74,73,73,75,71,74,73,70,71,73,72,73,72,73,72,73,72,71,74,71,75,75,75,71,74,75,75,77,74,71,71,70,76,70,71,70,71,70,69,70,76,75,73,75,73,75,75,74,73,73,69,69,76,73,73,73,73,70,73,73,73,77,76,71,72,72,71,73,72,72,72,72,72,72,72,72,71,71,72,71,72,74,72,71,74,71,71,76,71,72,71,71,71,72,73,72,73,73,72,76,72,76,72,76,73,72,72,77,72,76,72,73,72,72,72,75,74,73,74,72,75,74,72,74,74,76,71,71,74,75,74,74,74,73,76,71,72,71,71,72,72,72,72,76,72,76,76,72,73,73,75,73,75,73,72,73,75,73,77,73,76,76,71,72,71,73,73,76,77,76,76,72,72,72,76,72,71,72,76,71,71,72,77,74,76,77,72,75,72,77,75,75,72,72,72,75,76,76,76,74,78,76,76,75,73,76,75,78,76,78,75,78,73,78,71,73,72,72,73,73,77,73,72,72,72,72,73,72,71,78,75,73,75,73,75,73,77,73,72,77,72,72,72,77,78,75,76,78,77,73,71,72,71,73,73,72,72,72,72,76,71,71,75,77,77,74,71,70,74,76,76,72,71,73,73,74,73,74,72,73,72,76,76,76,75,76,72,76,72,76,71,74,73,74,76,76,73,76,72,75,76,75,76,76,77,72,75,77,75,76,75,76,72,76,70,73,68,70,71,76,75,74,74,77,74,76,74,75,74,77,75,73,72,73,72,76,72,72,72,72,75,70,74,70,68,76,68,72,75,77,72,72,72,74,71,77,74,76,75,76,74,76,71,75,75,74,75,75,77,74,75,74,75,71,72,71,71,72,72,77,76,74,71,76,75,76,75,76,75,76,72,74,75,75,72,75,75,72,74,75,74,74,76,75,73,76,73,72,73,72,72,72,76,75,77,75,74,76,74,76,77,72,74,75,76,71,72,74,76,73,71,73,74,71,72,72,76,72,73,72,72,75,72,75,72,72,73,72,72,72,72,72,72,76,77,76,76,73,76,76,76,76,72,72,77,73,73,73,73,72,72,73,72,76,72,72,72,76,72,76,77,70,70,75,77,75,75,76,72,72,72,75,76,77,75,77,72,72,73,78,73,76,71,72,72,73,74,73,73,76,77,76,74,76,72,71,73,76,73,74,70,70,77,79,76,72,72,78,72,74,76,73,69,71,73,73,72,72,73,77,77,74,76,74,75,78,79,77,77,73,76,73,73,73,73,73,74,73,73,73,73,76,74,73,72,74,72,73,74,73,74,73,75,73,72,71,74,71,71,76,73,74,71,75,74,75,74,74,75,73,76,71,74,74,76,76,75,77,75,75,75,77,77,75,72,74,71,71,74,71,75,77,76,77,75,77,75,71,72,71,73,71,73,70,76,70,76,70,72,72,74,75,73,75,75,76,76,77,77,75,77,74,77,73,69,75,69,74,73,77,73,72,72,73,73,73,73,73,76,73,73,76,79,76,72,76,73,73,73,73,74,72,74,72,75,75,74,74,74,76,74,75,74,74,72,70,74,74,72,74,79,75,76,74,77,77,75,72,73,69,69,69,74,69,74,74,69,76,77,71,70,71,74,71,70,70,70,74,70,70,73,72,74,74,68,74,75,74,74,68,68,68,75,68,75,73,75,74,76,74,74,73,75,74,75,74,76,76,74,74,77,74,77,72,75,75,69,69,74,71,72,72,73,71,74,73,75,73,73,77,75,72,72,75,72,73,72,69,72,77,77,69,73,73,73,74,75,74,75,76,74,75,75,72,79,75,75,77,75,75,74,73,75,73,73,72,73,75,73,71,73,73,72,73,76,76,73,73,75,73,73,73,73,73,70,74,70,74,68,74,76,74,71,70,71,70,70,75,68,75,74,75,75,73,68,71,73,71,75,73,72,72,71,73,77,74,76,75,76,77,77,74,75,77,74,77,73,77,73,75,73,72,73,70,72,72,71,70,73,73,71,73,76,73,75,76,73,72,74,76,68,70,74,70,74,74,74,76,74,74,74,73,74,70,76,74,75,73,75,73,73,76,73,75,68,75,72,68,75,72,68,74,71,70,76,75,76,74,72,76,76,76,74,77,69,76,74,75,77,77,72,72,73,73,73,73,75,73,70,73,75,77,79,73,76,72,78,73,73,72,73,72,78,76,74,76,72,76,72,72,73,72,72,72,77,70,71,77,72,72,78,77,72,77,74,76,73,73,76,76,75,76,75,71,72,73,73,76,73,73,73,73,74,73,69,73,74,71,74,71,72,69,71,70,74,73,74,74,73,74,73,74,72,73,72,73,74,76,74,72,69,71,79,71,74,72,78,73,73,72,76,79,73,74,73,74,73,75,73,73,73,73,73,70,73,77,73,78,77,73,74,70,72,70,70,73,74,76,73,73,72,71,74,71,76,73,72,73,72,73,72,73,73,78,73,73,74,77,76,77,74,74,77,79,73,73,75,73,73,73,75,71,73,71,71,70,71,73,78,73,78,70,75,77,73,71,74,73,74,73,73,73,74,73,71,71,74,74,74,72,77,75,78,72,75,74,77,72,73,69,73,78,72,72,69,72,69,73,69,69,73,75,73,75,75,73,73,78,75,75,70,71,74,71,73,73,73,73,75,73,75,70,75,73,73,74,73,73,70,76,73,75,73,70,73,71,72,71,72,71,71,75,71,73,73,75,73,75,73,75,73,75,75,75,74,77,71,73,75,73,75,73,71,74,73,73,75,70,75,75,71,74,73,73,74,73,74,72,72,75,75,73,73,73,72,73,72,78,77,72,74,71,71,74,71,71,73,74,77,75,72,75,72,75,72,75,72,72,76,76,77,71,77,78,75,74,73,75,74,75,78,69,74,73,74,73,74,76,74,74,74,76,73,73,73,74,73,74,73,69,75,78,77,72,76,74,74,74,73,73,73,77,73,73,73,73,73,73,73,73,75,73,75,73,75,74,75,73,77,72,77,72,77,71,71,72,71,75,71,72,76,76,76,76,76,75,76,70,72,74,75,78,77,73,75,74,75,73,75,76,75,71,75,71,74,73,75,75,73,75,73,75,75,78,73,73,75,74,73,79,73,72,73,73,73,69,77,70,73,76,72,72,72,69,72,69,77,71,74,73,74,74,78,75,73,77,73,75,71,71,71,75,77,73,73,75,73,78,73,75,75,73,75,74,73,73,73,73,77,73,73,73,77,73,77,75,74,70,73,75,71,75,73,78,74,77,76,76,76,74,71,73,75,73,75,73,73,75,73,71,73,78,73,70,72,77,75,74,75,71,71,73,75,73,73,71,73,71,75,71,75,78,75,73,75,73,73,74,73,76,75,73,75,75,71,77,74,77,74,74,75,74,77,70,70,71,71,74,74,71,71,74,71,74,77,74,75,75,77,75,77,74,73,71,73,73,69,71,76,73,71,78,73,72,74,78,74,77,77,71,71,73,75,73,74,73,74,73,75,69,72,78,73,76,71,74,76,76,69,75,78,73,74,74,73,71,74,72,71,73,73,73,73,77,73,74,74,74,76,74,73,74,75,74,69,72,72,73,72,73,73,73,73,72,69,72,73,72,69,72,72,73,69,73,76,73,71,72,75,75,77,76,77,77,75,75,71,71,71,77,77,72,75,74,75,72,75,75,74,75,72,75,77,75,76,75,76,74,75,77,75,73,74,75,77,73,74,76,76,76,77,76,77,74,74,74,74,70,74,74,78,78,77,74,77,77,77,77,77,77,77,74,76,74,73,75,73,70,74,74,72,74,76,74,76,74,70,73,71,77,71,77,77,72,71,75,76,76,76,70,76,70,76,76,70,75,74,72,75,72,75,72,72,72,72,74,76,74,76,74,74,73,74,77,73,76,73,73,70,73,74,73,75,76,72,73,73,73,76,73,74,73,76,73,73,72,69,76,71,76,75,77,71,74,72,71,73,76,76,76,74,76,75,72,75,70,70,71,70,77,70,77,70,75,71,71,75,77,75,77,76,72,74,75,74,73,74,73,74,73,77,75,74,75,75,76,75,71,75,73,70,75,73,72,73,72,70,74,77,76,77,73,74,73,72,69,71,71,74,71,70,74,70,71,73,72,72,74,74,75,77,74,74,74,76,76,77,77,72,77,73,72,72,72,77,73,77,73,76,72,71,72,73,72,71,74,71,74,71,73,75,73,76,71,73,71,73,74,74,75,70,71,74,74,74,73,73,73,76,72,72,71,72,74,72,71,70,74,70,72,74,71,71,69,73,73,73,71,76,75,73,73,72,74,74,74,74,74,74,74,72,74,72,74,72,75,72,71,72,71,72,71,74,72,73,73,75,79,76,76,76,79,74,75,75,74,76,74,76,70,74,74,70,74,74,71,74,73,72,75,75,77,75,73,74,75,73,74,75,75,76,75,75,75,74,74,75,72,73,69,74,72,75,73,73,76,73,73,75,75,74,75,74,72,77,75,76,74,77,71,72,74,72,74,72,74,70,71,74,71,71,74,74,75,75,74,75,75,75,72,77,75,71,75,75,73,75,75,73,75,72,72,73,72,77,75,75,74,72,74,72,74,76,72,74,74,71,76,71,76,74,74,74,75,74,74,74,71,74,72,71,70,70,71,72,71,72,71,72,71,72,71,74,71,72,72,71,73,72,75,74,75,74,70,74,74,70,74,74,71,72,74,72,74,72,73,74,76,70,75,73,77,70,73,71,73,73,73,75,73,75,76,69,70,73,74,72,72,72,73,74,73,72,76,72,74,74,72,75,76,74,74,74,74,74,74,71,74,74,75,75,74,74,75,75,74,76,74,74,74,74,72,74,72,74,76,72,77,72,72,72,73,74,79,74,74,76,73,73,73,69,75,76,75,74,75,76,72,73,72,72,74,73,73,73,79,75,69,76,72,74,72,73,72,72,72,69,70,72,73,73,73,74,73,72,74,75,74,72,73,72,75,73,72,73,72,76,72,71,78,71,75,74,75,74,75,76,72,75,73,72,73,72,73,76,73,75,78,76,76,78,75,76,72,76,72,75,74,79,70,79,70,74,75,74,75,75,77,72,78,72,72,76,72,73,72,72,72,73,70,73,73,73,76,72,75,70,73,74,76,74,73,74,70,74,70,74,70,74,70,69,76,74,73,73,73,79,76,69,71,73,70,73,70,76,79,75,79,78,79,70,69,75,69,76,77,75,73,71,73,75,73,77,75,77,72,72,74,72,76,72,72,76,72,69,72,70,72,73,72,74,71,76,71,72,72,71,73,71,71,71,76,72,77,71,71,71,72,71,75,71,72,72,72,74,72,72,76,75,76,72,76,76,75,73,73,73,75,74,75,75,69,69,70,76,78,75,73,75,76,76,72,74,69,73,72,69,72,70,72,73,76,73,73,73,74,76,79,74,73,74,72,72,75,73,74,75,74,75,75,74,73,72,72,72,72,69,72,77,74,73,76,69,69,73,73,77,76,77,76,76,76,74,75,79,77,77,74,77,70,75,75,70,72,72,70,72,73,72,76,74,73,78,73,69,76,76,71,74,71,75,75,78,75,78,75,71,70,79,73,73,78,73,69,74,71,71,71,71,75,70,69,69,70,73,76,70,76,70,79,70,76,73,75,75,74,69,76,72,79,72,74,72,72,73,79,74,76,71,72,76,71,71,72,72,71,71,71,71,71,76,71,71,71,71,76,75,72,77,72,76,71,72,73,75,75,73,73,76,73,73,79,75,76,79,76,70,78,70,70,72,72,77,76,69,72,72,75,73,69,73,73,73,73,70,71,71,75,74,71,74,74,74,74,74,76,75,71,71,75,74,73,71,71,69,79,76,77,76,75,70,74,74,71,68,73,71,70,70,73,70,74,70,72,71,74,73,71,76,71,72,71,71,72,75,71,72,71,74,74,72,71,74,71,75,75,75,75,74,74,73,73,73,74,74,76,72,71,76,76,74,76,74,74,71,76,72,75,76,76,72,74,70,73,72,74,72,76,72,77,72,72,72,74,79,77,74,73,74,75,74,74,71,74,70,68,70,75,75,75,71,70,79,76,79,71,72,73,77,79,72,74,72,77,72,73,73,79,73,73,73,72,73,72,73,74,76,78,76,78,73,74,72,72,75,69,75,75,75,73,73,73,72,73,72,73,76,73,75,76,73,72,76,72,72,73,75,72,79,76,74,75,72,79,80,75,72,80,73,78,72,79,73,71,73,76,72,73,72,76,72,76,77,76,72,74,72,77,74,72,78,69,69,77,72,75,74,70,68,70,74,75,74,74,72,74,74,73,73,74,73,68,73,75,73,68,75,74,72,72,74,72,72,77,75,74,70,78,74,72,72,76,77,70,72,78,72,74,72,76,73,71,72,71,73,77,73,74,73,73,75,75,72,74,77,73,72,73,72,73,76,74,78,71,72,71,72,74,72,76,75,74,72,74,79,76,72,77,70,71,70,74,74,71,73,75,77,75,73,72,73,75,73,77,73,73,80,75,72,73,77,73,72,75,75,68,71,73,71,71,75,80,77,73,76,75,73,75,73,71,74,76,71,71,71,70,71,74,77,74,68,74,74,75,74,74,74,71,77,77,75,77,75,75,76,76,77,76,75,70,74,75,77,77,75,71,75,75,71,71,74,71,77,77,77,77,75,77,75,75,76,76,74,75,75,78,71,72,71,75,70,71,70,71,70,74,70,74,75,74,71,71,71,69,71,74,71,71,68,75,70,74,70,73,70,70,68,69,74,74,74,75,73,69,75,71,71,68,73,68,75,74,75,75,73,71,76,69,76,74,71,73,72,73,72,72,72,72,73,73,73,73,72,74,75,70,70,74,75,80,75,72,70,74,74,74,74,73,72,72,72,72,76,72,80,76,73,72,73,75,73,74,75,75,71,74,74,70,76,74,77,73,68,74,71,74,71,71,76,71,70,71,76,71,71,74,73,70,74,70,77,74,74,77,76,77,77,72,75,76,76,76,76,75,76,76,75,76,73,72,75,76,75,74,76,76,75,76,74,74,69,73,75,76,73,71,71,72,70,75,70,74,72,75,70,75,74,74,74,71,72,74,76,76,74,74,76,74,76,74,75,74,76,74,71,74,75,74,76,74,76,74,76,74,74,68,75,75,74,70,75,76,75,74,75,75,75,77,76,73,79,73,80,73,75,72,75,72,73,72,72,76,73,76,75,71,71,73,71,74,71,76,71,71,75,76,73,74,73,73,73,73,75,75,75,77,74,80,77,75,69,75,75,72,75,76,76,73,79,70,73,70,70,74,70,70,77,73,76,72,69,73,75,73,77,78,79,75,79,74,73,74,73,73,72,78,72,72,72,78,72,76,76,78,73,73,69,69,69,73,73,79,76,73,76,79,79,73,73,69,73,76,77,75,74,75,74,75,74,69,74,69,76,73,72,73,69,73,74,71,75,72,76,75,76,71,78,71,72,72,72,76,72,76,77,77,77,76,75,73,73,75,73,71,77,74,77,78,69,72,75,75,77,75,74,69,74,72,77,71,69,69,74,69,75,69,75,76,72,72,70,72,74,72,74,75,76,76,74,74,74,74,74,75,75,76,75,76,74,77,74,76,70,76,76,77,77,76,76,75,74,75,74,75,71,75,74,77,72,69,74,72,72,77,73,74,73,75,73,69,74,69,71,75,71,74,71,71,74,75,75,71,72,74,76,76,74,74,77,76,77,70,71,70,72,76,75,77,76,77,76,74,76,75,76,77,72,77,72,71,75,75,75,77,76,75,75,75,76,76,72,72,72,74,72,77,77,72,72,72,73,73,73,77,75,73,75,73,77,73,76,69,74,75,71,75,71,75,75,71,72,72,74,74,73,77,76,77,73,77,77,74,77,73,73,74,76,77,72,72,73,73,76,73,74,73,71,71,76,71,74,73,73,74,73,76,74,76,75,73,75,77,75,77,75,77,75,74,74,72,73,71,73,73,69,75,69,69,69,74,72,75,74,73,76,74,74,70,73,75,74,76,74,71,76,74,74,73,74,76,76,76,77,76,76,77,77,74,76,71,70,76,75,70,75,76,75,75,75,69,73,73,76,76,75,76,78,78,76,71,75,75,71,77,76,71,73,74,71,73,77,75,73,76,74,76,76,71,75,72,74,76,78,75,72,71,73,75,73,75,73,74,73,71,75,75,74,75,78,75,76,71,76,73,75,76,71,75,73,75,72,71,75,78,71,72,71,77,71,71,71,71,72,71,71,71,73,76,76,72,72,76,71,71,72,72,77,76,73,75,78,75,72,71,73,73,75,73,71,73,72,75,76,75,77,78,75,76,75,76,72,76,75,78,75,74,77,78,77,76,77,72,71,70,77,76,74,76,71,76,78,76,77,76,76,76,72,78,71,78,75,72,73,76,74,71,76,76,75,76,71,74,78,71,76,73,75,73,76,73,71,73,75,71,76,74,73,76,77,77,76,74,77,74,72,74,72,74,75,78,75,75,75,78,72,77,72,72,73,71,77,75,76,77,74,72,73,73,77,74,75,78,78,72,72,73,74,77,76,71,73,71,75,71,71,72,74,74,75,72,76,74,75,73,75,69,75,74,78,73,75,76,75,76,76,77,74,73,69,76,74,70,70,76,76,76,76,76,71,76,76,76,70,76,71,70,76,70,75,70,71,70,71,78,72,72,72,78,71,75,74,76,76,74,71,74,72,74,74,74,74,74,73,75,74,76,77,76,75,76,76,76,70,76,74,71,76,70,72,70,74,74,72,74,71,74,75,77,71,75,71,72,71,71,76,75,72,72,75,75,75,77,75,77,73,75,75,75,75,75,75,77,75,75,75,75,77,75,72,75,77,72,77,72,72,77,73,71,71,72,72,73,72,72,73,72,73,71,71,69,76,75,76,71,76,76,76,77,75,71,75,70,76,70,70,74,71,76,77,75,71,75,75,75,71,76,71,73,71,74,75,69,74,76,73,73,74,73,76,73,73,73,75,72,75,75,75,73,71,74,76,75,71,77,73,74,75,76,73,74,69,75,76,75,73,76,76,76,76,74,77,75,70,70,70,70,76,74,71,74,77,75,77,75,73,72,77,77,76,74,75,74,72,76,71,72,75,77,75,74,75,76,71,76,76,70,76,76,73,76,76,70,70,77,70,70,71,77,76,71,77,75,74,75,74,69,73,75,74,74,73,73,73,75,73,75,75,75,73,71,72,74,74,76,75,69,72,76,76,76,73,76,73,71,72,73,75,72,76,72,74,72,74,75,72,74,72,74,74,74,78,72,72,70,74,73,74,74,74,74,76,74,75,74,75,73,75,76,74,71,74,73,74,76,74,75,75,73,76,75,72,73,75,73,73,72,73,72,72,73,70,74,70,72,73,70,70,73,70,73,70,74,70,72,70,71,76,75,75,73,73,75,72,73,73,72,69,79,77,72,77,76,73,72,78,78,73,79,72,79,76,76,72,71,73,73,71,73,72,78,72,72,73,72,75,77,75,72,75,75,77,75,72,75,72,75,71,75,72,71,69,71,75,72,75,73,73,72,74,72,72,72,71,72,74,76,75,74,71,71,72,69,74,74,74,72,74,73,73,74,74,73,72,71,73,73,75,72,74,72,73,72,72,71,71,72,71,74,71,72,72,72,71,72,75,71,75,71,72,71,72,72,71,71,71,76,72,72,75,72,72,76,72,72,76,76,74,76,74,72,74,75,74,73,72,71,78,74,74,72,78,74,76,72,72,76,72,74,73,71,71,74,70,69,69,74,69,69,69,74,71,72,75,77,75,75,76,75,78,75,76,74,74,72,72,69,71,72,72,77,72,73,75,72,77,75,77,72,77,74,70,75,75,70,73,72,72,72,69,75,75,74,74,76,74,74,74,74,72,72,74,70,75,74,76,74,74,70,76,76,76,70,76,75,71,74,74,70,71,74,70,76,78,75,74,76,74,75,76,76,76,71,70,69,70,76,75,71,75,75,71,75,69,76,75,75,74,74,74,74,73,74,73,71,73,76,73,69,75,73,78,75,75,76,76,76,76,76,74,76,69,73,75,74,74,76,74,75,76,77,75,77,75,75,75,73,75,76,72,72,72,72,77,77,73,77,75,77,77,72,71,72,71,71,76,71,76,72,71,72,71,71,72,72,71,76,71,77,72,76,75,72,72,73,75,73,75,75,71,73,72,77,72,72,72,75,75,75,75,75,75,75,72,77,73,75,72,74,75,72,74,69,77,71,77,69,73,72,73,72,74,73,74,76,73,75,73,75,71,70,76,70,73,70,73,70,76,73,76,73,75,69,76,73,76,75,76,75,73,77,73,73,73,73,73,73,71,73,72,73,77,76,77,77,77,77,75,70,76,70,72,77,76,76,76,76,77,76,73,77,76,71,73,72,77,77,71,72,76,75,72,75,77,76,76,78,76,78,76,76,76,76,70,76,76,76,72,74,72,70,70,73,70,73,70,74,70,73,70,70,73,73,73,72,74,74,76,73,76,76,76,75,72,74,78,70,76,76,73,71,77,70,71,76,76,76,76,73,74,70,76,74,76,77,75,77,74,74,74,73,72,71,72,74,75,74,75,71,75,77,78,77,78,77,71,71,77,77,71,71,71,77,71,71,69,71,71,71,77,71,70,75,71,72,76,72,77,77,71,71,75,72,75,72,76,75,71,76,77,76,72,75,71,71,75,76,73,75,73,76,77,76,72,77,76,74,71,71,71,71,71,73,74,75,71,77,71,71,73,71,77,71,70,71,76,71,71,77,72,76,76,72,70,76,76,77,76,75,72,76,72,72,75,74,77,76,77,76,77,70,74,71,76,76,76,76,75,74,75,72,76,73,74,76,74,75,77,75,76,75,74,75,73,71,72,71,71,74,76,74,74,74,76,74,77,74,74,79,73,75,75,74,74,77,75,77,75,77,74,77,76,76,74,76,76,76,75,73,69,74,75,79,77,74,77,70,71,70,71,72,73,71,76,71,72,71,71,76,76,76,76,76,76,77,69,73,76,79,76,74,73,78,73,73,73,75,75,73,76,74,76,76,75,75,77,74,74,71,74,74,74,74,74,74,74,73,69,71,73,74,71,73,73,74,69,72,72,74,70,76,73,74,74,74,71,74,74,74,74,74,74,74,76,73,74,73,74,73,74,74,73,71,69,70,77,76,75,74,74,74,77,76,75,74,74,74,74,74,74,74,73,73,76,75,73,73,76,73,76,74,73,74,69,74,76,73,74,75,75,69,75,73,73],\"xaxis\":\"x\",\"yaxis\":\"y\",\"type\":\"histogram\"}],                        {\"template\":{\"data\":{\"histogram2dcontour\":[{\"type\":\"histogram2dcontour\",\"colorbar\":{\"outlinewidth\":0,\"ticks\":\"\"},\"colorscale\":[[0.0,\"#0d0887\"],[0.1111111111111111,\"#46039f\"],[0.2222222222222222,\"#7201a8\"],[0.3333333333333333,\"#9c179e\"],[0.4444444444444444,\"#bd3786\"],[0.5555555555555556,\"#d8576b\"],[0.6666666666666666,\"#ed7953\"],[0.7777777777777778,\"#fb9f3a\"],[0.8888888888888888,\"#fdca26\"],[1.0,\"#f0f921\"]]}],\"choropleth\":[{\"type\":\"choropleth\",\"colorbar\":{\"outlinewidth\":0,\"ticks\":\"\"}}],\"histogram2d\":[{\"type\":\"histogram2d\",\"colorbar\":{\"outlinewidth\":0,\"ticks\":\"\"},\"colorscale\":[[0.0,\"#0d0887\"],[0.1111111111111111,\"#46039f\"],[0.2222222222222222,\"#7201a8\"],[0.3333333333333333,\"#9c179e\"],[0.4444444444444444,\"#bd3786\"],[0.5555555555555556,\"#d8576b\"],[0.6666666666666666,\"#ed7953\"],[0.7777777777777778,\"#fb9f3a\"],[0.8888888888888888,\"#fdca26\"],[1.0,\"#f0f921\"]]}],\"heatmap\":[{\"type\":\"heatmap\",\"colorbar\":{\"outlinewidth\":0,\"ticks\":\"\"},\"colorscale\":[[0.0,\"#0d0887\"],[0.1111111111111111,\"#46039f\"],[0.2222222222222222,\"#7201a8\"],[0.3333333333333333,\"#9c179e\"],[0.4444444444444444,\"#bd3786\"],[0.5555555555555556,\"#d8576b\"],[0.6666666666666666,\"#ed7953\"],[0.7777777777777778,\"#fb9f3a\"],[0.8888888888888888,\"#fdca26\"],[1.0,\"#f0f921\"]]}],\"heatmapgl\":[{\"type\":\"heatmapgl\",\"colorbar\":{\"outlinewidth\":0,\"ticks\":\"\"},\"colorscale\":[[0.0,\"#0d0887\"],[0.1111111111111111,\"#46039f\"],[0.2222222222222222,\"#7201a8\"],[0.3333333333333333,\"#9c179e\"],[0.4444444444444444,\"#bd3786\"],[0.5555555555555556,\"#d8576b\"],[0.6666666666666666,\"#ed7953\"],[0.7777777777777778,\"#fb9f3a\"],[0.8888888888888888,\"#fdca26\"],[1.0,\"#f0f921\"]]}],\"contourcarpet\":[{\"type\":\"contourcarpet\",\"colorbar\":{\"outlinewidth\":0,\"ticks\":\"\"}}],\"contour\":[{\"type\":\"contour\",\"colorbar\":{\"outlinewidth\":0,\"ticks\":\"\"},\"colorscale\":[[0.0,\"#0d0887\"],[0.1111111111111111,\"#46039f\"],[0.2222222222222222,\"#7201a8\"],[0.3333333333333333,\"#9c179e\"],[0.4444444444444444,\"#bd3786\"],[0.5555555555555556,\"#d8576b\"],[0.6666666666666666,\"#ed7953\"],[0.7777777777777778,\"#fb9f3a\"],[0.8888888888888888,\"#fdca26\"],[1.0,\"#f0f921\"]]}],\"surface\":[{\"type\":\"surface\",\"colorbar\":{\"outlinewidth\":0,\"ticks\":\"\"},\"colorscale\":[[0.0,\"#0d0887\"],[0.1111111111111111,\"#46039f\"],[0.2222222222222222,\"#7201a8\"],[0.3333333333333333,\"#9c179e\"],[0.4444444444444444,\"#bd3786\"],[0.5555555555555556,\"#d8576b\"],[0.6666666666666666,\"#ed7953\"],[0.7777777777777778,\"#fb9f3a\"],[0.8888888888888888,\"#fdca26\"],[1.0,\"#f0f921\"]]}],\"mesh3d\":[{\"type\":\"mesh3d\",\"colorbar\":{\"outlinewidth\":0,\"ticks\":\"\"}}],\"scatter\":[{\"fillpattern\":{\"fillmode\":\"overlay\",\"size\":10,\"solidity\":0.2},\"type\":\"scatter\"}],\"parcoords\":[{\"type\":\"parcoords\",\"line\":{\"colorbar\":{\"outlinewidth\":0,\"ticks\":\"\"}}}],\"scatterpolargl\":[{\"type\":\"scatterpolargl\",\"marker\":{\"colorbar\":{\"outlinewidth\":0,\"ticks\":\"\"}}}],\"bar\":[{\"error_x\":{\"color\":\"#2a3f5f\"},\"error_y\":{\"color\":\"#2a3f5f\"},\"marker\":{\"line\":{\"color\":\"#E5ECF6\",\"width\":0.5},\"pattern\":{\"fillmode\":\"overlay\",\"size\":10,\"solidity\":0.2}},\"type\":\"bar\"}],\"scattergeo\":[{\"type\":\"scattergeo\",\"marker\":{\"colorbar\":{\"outlinewidth\":0,\"ticks\":\"\"}}}],\"scatterpolar\":[{\"type\":\"scatterpolar\",\"marker\":{\"colorbar\":{\"outlinewidth\":0,\"ticks\":\"\"}}}],\"histogram\":[{\"marker\":{\"pattern\":{\"fillmode\":\"overlay\",\"size\":10,\"solidity\":0.2}},\"type\":\"histogram\"}],\"scattergl\":[{\"type\":\"scattergl\",\"marker\":{\"colorbar\":{\"outlinewidth\":0,\"ticks\":\"\"}}}],\"scatter3d\":[{\"type\":\"scatter3d\",\"line\":{\"colorbar\":{\"outlinewidth\":0,\"ticks\":\"\"}},\"marker\":{\"colorbar\":{\"outlinewidth\":0,\"ticks\":\"\"}}}],\"scattermapbox\":[{\"type\":\"scattermapbox\",\"marker\":{\"colorbar\":{\"outlinewidth\":0,\"ticks\":\"\"}}}],\"scatterternary\":[{\"type\":\"scatterternary\",\"marker\":{\"colorbar\":{\"outlinewidth\":0,\"ticks\":\"\"}}}],\"scattercarpet\":[{\"type\":\"scattercarpet\",\"marker\":{\"colorbar\":{\"outlinewidth\":0,\"ticks\":\"\"}}}],\"carpet\":[{\"aaxis\":{\"endlinecolor\":\"#2a3f5f\",\"gridcolor\":\"white\",\"linecolor\":\"white\",\"minorgridcolor\":\"white\",\"startlinecolor\":\"#2a3f5f\"},\"baxis\":{\"endlinecolor\":\"#2a3f5f\",\"gridcolor\":\"white\",\"linecolor\":\"white\",\"minorgridcolor\":\"white\",\"startlinecolor\":\"#2a3f5f\"},\"type\":\"carpet\"}],\"table\":[{\"cells\":{\"fill\":{\"color\":\"#EBF0F8\"},\"line\":{\"color\":\"white\"}},\"header\":{\"fill\":{\"color\":\"#C8D4E3\"},\"line\":{\"color\":\"white\"}},\"type\":\"table\"}],\"barpolar\":[{\"marker\":{\"line\":{\"color\":\"#E5ECF6\",\"width\":0.5},\"pattern\":{\"fillmode\":\"overlay\",\"size\":10,\"solidity\":0.2}},\"type\":\"barpolar\"}],\"pie\":[{\"automargin\":true,\"type\":\"pie\"}]},\"layout\":{\"autotypenumbers\":\"strict\",\"colorway\":[\"#636efa\",\"#EF553B\",\"#00cc96\",\"#ab63fa\",\"#FFA15A\",\"#19d3f3\",\"#FF6692\",\"#B6E880\",\"#FF97FF\",\"#FECB52\"],\"font\":{\"color\":\"#2a3f5f\"},\"hovermode\":\"closest\",\"hoverlabel\":{\"align\":\"left\"},\"paper_bgcolor\":\"white\",\"plot_bgcolor\":\"#E5ECF6\",\"polar\":{\"bgcolor\":\"#E5ECF6\",\"angularaxis\":{\"gridcolor\":\"white\",\"linecolor\":\"white\",\"ticks\":\"\"},\"radialaxis\":{\"gridcolor\":\"white\",\"linecolor\":\"white\",\"ticks\":\"\"}},\"ternary\":{\"bgcolor\":\"#E5ECF6\",\"aaxis\":{\"gridcolor\":\"white\",\"linecolor\":\"white\",\"ticks\":\"\"},\"baxis\":{\"gridcolor\":\"white\",\"linecolor\":\"white\",\"ticks\":\"\"},\"caxis\":{\"gridcolor\":\"white\",\"linecolor\":\"white\",\"ticks\":\"\"}},\"coloraxis\":{\"colorbar\":{\"outlinewidth\":0,\"ticks\":\"\"}},\"colorscale\":{\"sequential\":[[0.0,\"#0d0887\"],[0.1111111111111111,\"#46039f\"],[0.2222222222222222,\"#7201a8\"],[0.3333333333333333,\"#9c179e\"],[0.4444444444444444,\"#bd3786\"],[0.5555555555555556,\"#d8576b\"],[0.6666666666666666,\"#ed7953\"],[0.7777777777777778,\"#fb9f3a\"],[0.8888888888888888,\"#fdca26\"],[1.0,\"#f0f921\"]],\"sequentialminus\":[[0.0,\"#0d0887\"],[0.1111111111111111,\"#46039f\"],[0.2222222222222222,\"#7201a8\"],[0.3333333333333333,\"#9c179e\"],[0.4444444444444444,\"#bd3786\"],[0.5555555555555556,\"#d8576b\"],[0.6666666666666666,\"#ed7953\"],[0.7777777777777778,\"#fb9f3a\"],[0.8888888888888888,\"#fdca26\"],[1.0,\"#f0f921\"]],\"diverging\":[[0,\"#8e0152\"],[0.1,\"#c51b7d\"],[0.2,\"#de77ae\"],[0.3,\"#f1b6da\"],[0.4,\"#fde0ef\"],[0.5,\"#f7f7f7\"],[0.6,\"#e6f5d0\"],[0.7,\"#b8e186\"],[0.8,\"#7fbc41\"],[0.9,\"#4d9221\"],[1,\"#276419\"]]},\"xaxis\":{\"gridcolor\":\"white\",\"linecolor\":\"white\",\"ticks\":\"\",\"title\":{\"standoff\":15},\"zerolinecolor\":\"white\",\"automargin\":true,\"zerolinewidth\":2},\"yaxis\":{\"gridcolor\":\"white\",\"linecolor\":\"white\",\"ticks\":\"\",\"title\":{\"standoff\":15},\"zerolinecolor\":\"white\",\"automargin\":true,\"zerolinewidth\":2},\"scene\":{\"xaxis\":{\"backgroundcolor\":\"#E5ECF6\",\"gridcolor\":\"white\",\"linecolor\":\"white\",\"showbackground\":true,\"ticks\":\"\",\"zerolinecolor\":\"white\",\"gridwidth\":2},\"yaxis\":{\"backgroundcolor\":\"#E5ECF6\",\"gridcolor\":\"white\",\"linecolor\":\"white\",\"showbackground\":true,\"ticks\":\"\",\"zerolinecolor\":\"white\",\"gridwidth\":2},\"zaxis\":{\"backgroundcolor\":\"#E5ECF6\",\"gridcolor\":\"white\",\"linecolor\":\"white\",\"showbackground\":true,\"ticks\":\"\",\"zerolinecolor\":\"white\",\"gridwidth\":2}},\"shapedefaults\":{\"line\":{\"color\":\"#2a3f5f\"}},\"annotationdefaults\":{\"arrowcolor\":\"#2a3f5f\",\"arrowhead\":0,\"arrowwidth\":1},\"geo\":{\"bgcolor\":\"white\",\"landcolor\":\"#E5ECF6\",\"subunitcolor\":\"white\",\"showland\":true,\"showlakes\":true,\"lakecolor\":\"white\"},\"title\":{\"x\":0.05},\"mapbox\":{\"style\":\"light\"}}},\"xaxis\":{\"anchor\":\"y\",\"domain\":[0.0,1.0],\"title\":{\"text\":\"Player Height\"}},\"yaxis\":{\"anchor\":\"x\",\"domain\":[0.0,1.0],\"title\":{\"text\":\"Count of Tackles\"}},\"legend\":{\"title\":{\"text\":\"tackle\"},\"tracegroupgap\":0},\"title\":{\"text\":\"Distribution of Tackles by Player Height\"},\"barmode\":\"relative\",\"bargroupgap\":0.1},                        {\"responsive\": true}                    ).then(function(){\n",
       "                            \n",
       "var gd = document.getElementById('903a9deb-6c1c-44b7-9747-00c96a572d1d');\n",
       "var x = new MutationObserver(function (mutations, observer) {{\n",
       "        var display = window.getComputedStyle(gd).display;\n",
       "        if (!display || display === 'none') {{\n",
       "            console.log([gd, 'removed!']);\n",
       "            Plotly.purge(gd);\n",
       "            observer.disconnect();\n",
       "        }}\n",
       "}});\n",
       "\n",
       "// Listen for the removal of the full notebook cells\n",
       "var notebookContainer = gd.closest('#notebook-container');\n",
       "if (notebookContainer) {{\n",
       "    x.observe(notebookContainer, {childList: true});\n",
       "}}\n",
       "\n",
       "// Listen for the clearing of the current output cell\n",
       "var outputEl = gd.closest('.output');\n",
       "if (outputEl) {{\n",
       "    x.observe(outputEl, {childList: true});\n",
       "}}\n",
       "\n",
       "                        })                };                });            </script>        </div>"
      ]
     },
     "metadata": {},
     "output_type": "display_data"
    }
   ],
   "source": [
    "fig = px.histogram(df, x='height', color='tackle', title='Distribution of Tackles by Player Height')\n",
    "\n",
    "# Update layout for better visualization\n",
    "fig.update_layout(\n",
    "    bargroupgap=0.1,\n",
    "    xaxis=dict(title='Player Height'),\n",
    "    yaxis=dict(title='Count of Tackles'),\n",
    ")\n",
    "\n",
    "# Show the plot\n",
    "fig.show()\n"
   ]
  },
  {
   "cell_type": "markdown",
   "id": "22123c41",
   "metadata": {
    "papermill": {
     "duration": 0.021232,
     "end_time": "2024-01-04T08:56:22.175470",
     "exception": false,
     "start_time": "2024-01-04T08:56:22.154238",
     "status": "completed"
    },
    "tags": []
   },
   "source": [
    "Weight:"
   ]
  },
  {
   "cell_type": "code",
   "execution_count": 39,
   "id": "59c972bf",
   "metadata": {
    "execution": {
     "iopub.execute_input": "2024-01-04T08:56:22.219577Z",
     "iopub.status.busy": "2024-01-04T08:56:22.218859Z",
     "iopub.status.idle": "2024-01-04T08:56:22.319065Z",
     "shell.execute_reply": "2024-01-04T08:56:22.317972Z"
    },
    "papermill": {
     "duration": 0.125046,
     "end_time": "2024-01-04T08:56:22.321575",
     "exception": false,
     "start_time": "2024-01-04T08:56:22.196529",
     "status": "completed"
    },
    "tags": []
   },
   "outputs": [
    {
     "data": {
      "text/html": [
       "<div>                            <div id=\"90f405d8-f299-47d3-9e09-cf5f8862b10a\" class=\"plotly-graph-div\" style=\"height:525px; width:100%;\"></div>            <script type=\"text/javascript\">                require([\"plotly\"], function(Plotly) {                    window.PLOTLYENV=window.PLOTLYENV || {};                                    if (document.getElementById(\"90f405d8-f299-47d3-9e09-cf5f8862b10a\")) {                    Plotly.newPlot(                        \"90f405d8-f299-47d3-9e09-cf5f8862b10a\",                        [{\"alignmentgroup\":\"True\",\"hovertemplate\":\"Tackle=%{x}\\u003cbr\\u003ePlayer Weight=%{y}\\u003cextra\\u003e\\u003c\\u002fextra\\u003e\",\"legendgroup\":\"1\",\"marker\":{\"color\":\"#636efa\"},\"name\":\"1\",\"notched\":false,\"offsetgroup\":\"1\",\"orientation\":\"v\",\"showlegend\":true,\"x\":[1,1,1,1,1,1,1,1,1,1,1,1,1,1,1,1,1,1,1,1,1,1,1,1,1,1,1,1,1,1,1,1,1,1,1,1,1,1,1,1,1,1,1,1,1,1,1,1,1,1,1,1,1,1,1,1,1,1,1,1,1,1,1,1,1,1,1,1,1,1,1,1,1,1,1,1,1,1,1,1,1,1,1,1,1,1,1,1,1,1,1,1,1,1,1,1,1,1,1,1,1,1,1,1,1,1,1,1,1,1,1,1,1,1,1,1,1,1,1,1,1,1,1,1,1,1,1,1,1,1,1,1,1,1,1,1,1,1,1,1,1,1,1,1,1,1,1,1,1,1,1,1,1,1,1,1,1,1,1,1,1,1,1,1,1,1,1,1,1,1,1,1,1,1,1,1,1,1,1,1,1,1,1,1,1,1,1,1,1,1,1,1,1,1,1,1,1,1,1,1,1,1,1,1,1,1,1,1,1,1,1,1,1,1,1,1,1,1,1,1,1,1,1,1,1,1,1,1,1,1,1,1,1,1,1,1,1,1,1,1,1,1,1,1,1,1,1,1,1,1,1,1,1,1,1,1,1,1,1,1,1,1,1,1,1,1,1,1,1,1,1,1,1,1,1,1,1,1,1,1,1,1,1,1,1,1,1,1,1,1,1,1,1,1,1,1,1,1,1,1,1,1,1,1,1,1,1,1,1,1,1,1,1,1,1,1,1,1,1,1,1,1,1,1,1,1,1,1,1,1,1,1,1,1,1,1,1,1,1,1,1,1,1,1,1,1,1,1,1,1,1,1,1,1,1,1,1,1,1,1,1,1,1,1,1,1,1,1,1,1,1,1,1,1,1,1,1,1,1,1,1,1,1,1,1,1,1,1,1,1,1,1,1,1,1,1,1,1,1,1,1,1,1,1,1,1,1,1,1,1,1,1,1,1,1,1,1,1,1,1,1,1,1,1,1,1,1,1,1,1,1,1,1,1,1,1,1,1,1,1,1,1,1,1,1,1,1,1,1,1,1,1,1,1,1,1,1,1,1,1,1,1,1,1,1,1,1,1,1,1,1,1,1,1,1,1,1,1,1,1,1,1,1,1,1,1,1,1,1,1,1,1,1,1,1,1,1,1,1,1,1,1,1,1,1,1,1,1,1,1,1,1,1,1,1,1,1,1,1,1,1,1,1,1,1,1,1,1,1,1,1,1,1,1,1,1,1,1,1,1,1,1,1,1,1,1,1,1,1,1,1,1,1,1,1,1,1,1,1,1,1,1,1,1,1,1,1,1,1,1,1,1,1,1,1,1,1,1,1,1,1,1,1,1,1,1,1,1,1,1,1,1,1,1,1,1,1,1,1,1,1,1,1,1,1,1,1,1,1,1,1,1,1,1,1,1,1,1,1,1,1,1,1,1,1,1,1,1,1,1,1,1,1,1,1,1,1,1,1,1,1,1,1,1,1,1,1,1,1,1,1,1,1,1,1,1,1,1,1,1,1,1,1,1,1,1,1,1,1,1,1,1,1,1,1,1,1,1,1,1,1,1,1,1,1,1,1,1,1,1,1,1,1,1,1,1,1,1,1,1,1,1,1,1,1,1,1,1,1,1,1,1,1,1,1,1,1,1,1,1,1,1,1,1,1,1,1,1,1,1,1,1,1,1,1,1,1,1,1,1,1,1,1,1,1,1,1,1,1,1,1,1,1,1,1,1,1,1,1,1,1,1,1,1,1,1,1,1,1,1,1,1,1,1,1,1,1,1,1,1,1,1,1,1,1,1,1,1,1,1,1,1,1,1,1,1,1,1,1,1,1,1,1,1,1,1,1,1,1,1,1,1,1,1,1,1,1,1,1,1,1,1,1,1,1,1,1,1,1,1,1,1,1,1,1,1,1,1,1,1,1,1,1,1,1,1,1,1,1,1,1,1,1,1,1,1,1,1,1,1,1,1,1,1,1,1,1,1,1,1,1,1,1,1,1,1,1,1,1,1,1,1,1,1,1,1,1,1,1,1,1,1,1,1,1,1,1,1,1,1,1,1,1,1,1,1,1,1,1,1,1,1,1,1,1,1,1,1,1,1,1,1,1,1,1,1,1,1,1,1,1,1,1,1,1,1,1,1,1,1,1,1,1,1,1,1,1,1,1,1,1,1,1,1,1,1,1,1,1,1,1,1,1,1,1,1,1,1,1,1,1,1,1,1,1,1,1,1,1,1,1,1,1,1,1,1,1,1,1,1,1,1,1,1,1,1,1,1,1,1,1,1,1,1,1,1,1,1,1,1,1,1,1,1,1,1,1,1,1,1,1,1,1,1,1,1,1,1,1,1,1,1,1,1,1,1,1,1,1,1,1,1,1,1,1,1,1,1,1,1,1,1,1,1,1,1,1,1,1,1,1,1,1,1,1,1,1,1,1,1,1,1,1,1,1,1,1,1,1,1,1,1,1,1,1,1,1,1,1,1,1,1,1,1,1,1,1,1,1,1,1,1,1,1,1,1,1,1,1,1,1,1,1,1,1,1,1,1,1,1,1,1,1,1,1,1,1,1,1,1,1,1,1,1,1,1,1,1,1,1,1,1,1,1,1,1,1,1,1,1,1,1,1,1,1,1,1,1,1,1,1,1,1,1,1,1,1,1,1,1,1,1,1,1,1,1,1,1,1,1,1,1,1,1,1,1,1,1,1,1,1,1,1,1,1,1,1,1,1,1,1,1,1,1,1,1,1,1,1,1,1,1,1,1,1,1,1,1,1,1,1,1,1,1,1,1,1,1,1,1,1,1,1,1,1,1,1,1,1,1,1,1,1,1,1,1,1,1,1,1,1,1,1,1,1,1,1,1,1,1,1,1,1,1,1,1,1,1,1,1,1,1,1,1,1,1,1,1,1,1,1,1,1,1,1,1,1,1,1,1,1,1,1,1,1,1,1,1,1,1,1,1,1,1,1,1,1,1,1,1,1,1,1,1,1,1,1,1,1,1,1,1,1,1,1,1,1,1,1,1,1,1,1,1,1,1,1,1,1,1,1,1,1,1,1,1,1,1,1,1,1,1,1,1,1,1,1,1,1,1,1,1,1,1,1,1,1,1,1,1,1,1,1,1,1,1,1,1,1,1,1,1,1,1,1,1,1,1,1,1,1,1,1,1,1,1,1,1,1,1,1,1,1,1,1,1,1,1,1,1,1,1,1,1,1,1,1,1,1,1,1,1,1,1,1,1,1,1,1,1,1,1,1,1,1,1,1,1,1,1,1,1,1,1,1,1,1,1,1,1,1,1,1,1,1,1,1,1,1,1,1,1,1,1,1,1,1,1,1,1,1,1,1,1,1,1,1,1,1,1,1,1,1,1,1,1,1,1,1,1,1,1,1,1,1,1,1,1,1,1,1,1,1,1,1,1,1,1,1,1,1,1,1,1,1,1,1,1,1,1,1,1,1,1,1,1,1,1,1,1,1,1,1,1,1,1,1,1,1,1,1,1,1,1,1,1,1,1,1,1,1,1,1,1,1,1,1,1,1,1,1,1,1,1,1,1,1,1,1,1,1,1,1,1,1,1,1,1,1,1,1,1,1,1,1,1,1,1,1,1,1,1,1,1,1,1,1,1,1,1,1,1,1,1,1,1,1,1,1,1,1,1,1,1,1,1,1,1,1,1,1,1,1,1,1,1,1,1,1,1,1,1,1,1,1,1,1,1,1,1,1,1,1,1,1,1,1,1,1,1,1,1,1,1,1,1,1,1,1,1,1,1,1,1,1,1,1,1,1,1,1,1,1,1,1,1,1,1,1,1,1,1,1,1,1,1,1,1,1,1,1,1,1,1,1,1,1,1,1,1,1,1,1,1,1,1,1,1,1,1,1,1,1,1,1,1,1,1,1,1,1,1,1,1,1,1,1,1,1,1,1,1,1,1,1,1,1,1,1,1,1,1,1,1,1,1,1,1,1,1,1,1,1,1,1,1,1,1,1,1,1,1,1,1,1,1,1,1,1,1,1,1,1,1,1,1,1,1,1,1,1,1,1,1,1,1,1,1,1,1,1,1,1,1,1,1,1,1,1,1,1,1,1,1,1,1,1,1,1,1,1,1,1,1,1,1,1,1,1,1,1,1,1,1,1,1,1,1,1,1,1,1,1,1,1,1,1,1,1,1,1,1,1,1,1,1,1,1,1,1,1,1,1,1,1,1,1,1,1,1,1,1,1,1,1,1,1,1,1,1,1,1,1,1,1,1,1,1,1,1,1,1,1,1,1,1,1,1,1,1,1,1,1,1,1,1,1,1,1,1,1,1,1,1,1,1,1,1,1,1,1,1,1,1,1,1,1,1,1,1,1,1,1,1,1,1,1,1,1,1,1,1,1,1,1,1,1,1,1,1,1,1,1,1,1,1,1,1,1,1,1,1,1,1,1,1,1,1,1,1,1,1,1,1,1,1,1,1,1,1,1,1,1,1,1,1,1,1,1,1,1,1,1,1,1,1,1,1,1,1,1,1,1,1,1,1,1,1,1,1,1,1,1,1,1,1,1,1,1,1,1,1,1,1,1,1,1,1,1,1,1,1,1,1,1,1,1,1,1,1,1,1,1,1,1,1,1,1,1,1,1,1,1,1,1,1,1,1,1,1,1,1,1,1,1,1,1,1,1,1,1,1,1,1,1,1,1,1,1,1,1,1,1,1,1,1,1,1,1,1,1,1,1,1,1,1,1,1,1,1,1,1,1,1,1,1,1,1,1,1,1,1,1,1,1,1,1,1,1,1,1,1,1,1,1,1,1,1,1,1,1,1,1,1,1,1,1,1,1,1,1,1,1,1,1,1,1,1,1,1,1,1,1,1,1,1,1,1,1,1,1,1,1,1,1,1,1,1,1,1,1,1,1,1,1,1,1,1,1,1,1,1,1,1,1,1,1,1,1,1,1,1,1,1,1,1,1,1,1,1,1,1,1,1,1,1,1,1,1,1,1,1,1,1,1,1,1,1,1,1,1,1,1,1,1,1,1,1,1,1,1,1,1,1,1,1,1,1,1,1,1,1,1,1,1,1,1,1,1,1,1,1,1,1,1,1,1,1,1,1,1,1,1,1,1,1,1,1,1,1,1,1,1,1,1,1,1,1,1,1,1,1,1,1,1,1,1,1,1,1,1,1,1,1,1,1,1,1,1,1,1,1,1,1,1,1,1,1,1,1,1,1,1,1,1,1,1,1,1,1,1,1,1,1,1,1,1,1,1,1,1,1,1,1,1,1,1,1,1,1,1,1,1,1,1,1,1,1,1,1,1,1,1,1,1,1,1,1,1,1,1,1,1,1,1,1,1,1,1,1,1,1,1,1,1,1,1,1,1,1,1,1,1,1,1,1,1,1,1,1,1,1,1,1,1,1,1,1,1,1,1,1,1,1,1,1,1,1,1,1,1,1,1,1,1,1,1,1,1,1,1,1,1,1,1,1,1,1,1,1,1,1,1,1,1,1,1,1,1,1,1,1,1,1,1,1,1,1,1,1,1,1,1,1,1,1,1,1,1,1,1,1,1,1,1,1,1,1,1,1,1,1,1,1,1,1,1,1,1,1,1,1,1,1,1,1,1,1,1,1,1,1,1,1,1,1,1,1,1,1,1,1,1,1,1,1,1,1,1,1,1,1,1,1,1,1,1,1,1,1,1,1,1,1,1,1,1,1,1,1,1,1,1,1,1,1,1,1,1,1,1,1,1,1,1,1,1,1,1,1,1,1,1,1,1,1,1,1,1,1,1,1,1,1,1,1,1,1,1,1,1,1,1,1,1,1,1,1,1,1,1,1,1,1,1,1,1,1,1,1,1,1,1,1,1,1,1,1,1,1,1,1,1,1,1,1,1,1,1,1,1,1,1,1,1,1,1,1,1,1,1,1,1,1,1,1,1,1,1,1,1,1,1,1,1,1,1,1,1,1,1,1,1,1,1,1,1,1,1,1,1,1,1,1,1,1,1,1,1,1,1,1,1,1,1,1,1,1,1,1,1,1,1,1,1,1,1,1,1,1,1,1,1,1,1,1,1,1,1,1,1,1,1,1,1,1,1,1,1,1,1,1,1,1,1,1,1,1,1,1,1,1,1,1,1,1,1,1,1,1,1,1,1,1,1,1,1,1,1,1,1,1,1,1,1,1,1,1,1,1,1,1,1,1,1,1,1,1,1,1,1,1,1,1,1,1,1,1,1,1,1,1,1,1,1,1,1,1,1,1,1,1,1,1,1,1,1,1,1,1,1,1,1,1,1,1,1,1,1,1,1,1,1,1,1,1,1,1,1,1,1,1,1,1,1,1,1,1,1,1,1,1,1,1,1,1,1,1,1,1,1,1,1,1,1,1,1,1,1,1,1,1,1,1,1,1,1,1,1,1,1,1,1,1,1,1,1,1,1,1,1,1,1,1,1,1,1,1,1,1,1,1,1,1,1,1,1,1,1,1,1,1,1,1,1,1,1,1,1,1,1,1,1,1,1,1,1,1,1,1,1,1,1,1,1,1,1,1,1,1,1,1,1,1,1,1,1,1,1,1,1,1,1,1,1,1,1,1,1,1,1,1,1,1,1,1,1,1,1,1,1,1,1,1,1,1,1,1,1,1,1,1,1,1,1,1,1,1,1,1,1,1,1,1,1,1,1,1,1,1,1,1,1,1,1,1,1,1,1,1,1,1,1,1,1,1,1,1,1,1,1,1,1,1,1,1,1,1,1,1,1,1,1,1,1,1,1,1,1,1,1,1,1,1,1,1,1,1,1,1,1,1,1,1,1,1,1,1,1,1,1,1,1,1,1,1,1,1,1,1,1,1,1,1,1,1,1,1,1,1,1,1,1,1,1,1,1,1,1,1,1,1,1,1,1,1,1,1,1,1,1,1,1,1,1,1,1,1,1,1,1,1,1,1,1,1,1,1,1,1,1,1,1,1,1,1,1,1,1,1,1,1,1,1,1,1,1,1,1,1,1,1,1,1,1,1,1,1,1,1,1,1,1,1,1,1,1,1,1,1,1,1,1,1,1,1,1,1,1,1,1,1,1,1,1,1,1,1,1,1,1,1,1,1,1,1,1,1,1,1,1,1,1,1,1,1,1,1,1,1,1,1,1,1,1,1,1,1,1,1,1,1,1,1,1,1,1,1,1,1,1,1,1,1,1,1,1,1,1,1,1,1,1,1,1,1,1,1,1,1,1,1,1,1,1,1,1,1,1,1,1,1,1,1,1,1,1,1,1,1,1,1,1,1,1,1,1,1,1,1,1,1,1,1,1,1,1,1,1,1,1,1,1,1,1,1,1,1,1,1,1,1,1,1,1,1,1,1,1,1,1,1,1,1,1,1,1,1,1,1,1,1,1,1,1,1,1,1,1,1,1,1,1,1,1,1,1,1,1,1,1,1,1,1,1,1,1,1,1,1,1,1,1,1,1,1,1,1,1,1,1,1,1,1,1,1,1,1,1,1,1,1,1,1,1,1,1,1,1,1,1,1,1,1,1,1,1,1,1,1,1,1,1,1,1,1,1,1,1,1,1,1,1,1,1,1,1,1,1,1,1,1,1,1,1,1,1,1,1,1,1,1,1,1,1,1,1,1,1,1,1,1,1,1,1,1,1,1,1,1,1,1,1,1,1,1,1,1,1,1,1,1,1,1,1,1,1,1,1,1,1,1,1,1,1,1,1,1,1,1,1,1,1,1,1,1,1,1,1,1,1,1,1,1,1,1,1,1,1,1,1,1,1,1,1,1,1,1,1,1,1,1,1,1,1,1,1,1,1,1,1,1,1,1,1,1,1,1,1,1,1,1,1,1,1,1,1,1,1,1,1,1,1,1,1,1,1,1,1,1,1,1,1,1,1,1,1,1,1,1,1,1,1,1,1,1,1,1,1,1,1,1,1,1,1,1,1,1,1,1,1,1,1,1,1,1,1,1,1,1,1,1,1,1,1,1,1,1,1,1,1,1,1,1,1,1,1,1,1,1,1,1,1,1,1,1,1,1,1,1,1,1,1,1,1,1,1,1,1,1,1,1,1,1,1,1,1,1,1,1,1,1,1,1,1,1,1,1,1,1,1,1,1,1,1,1,1,1,1,1,1,1,1,1,1,1,1,1,1,1,1,1,1,1,1,1,1,1,1,1,1,1,1,1,1,1,1,1,1,1,1,1,1,1,1,1,1,1,1,1,1,1,1,1,1,1,1,1,1,1,1,1,1,1,1,1,1,1,1,1,1,1,1,1,1,1,1,1,1,1,1,1,1,1,1,1,1,1,1,1,1,1,1,1,1,1,1,1,1,1,1,1,1,1,1,1,1,1,1,1,1,1,1,1,1,1,1,1,1,1,1,1,1,1,1,1,1,1,1,1,1,1,1,1,1,1,1,1,1,1,1,1,1,1,1,1,1,1,1,1,1,1,1,1,1,1,1,1,1,1,1,1,1,1,1,1,1,1,1,1,1,1,1,1,1,1,1,1,1,1,1,1,1,1,1,1,1,1,1,1,1,1,1,1,1,1,1,1,1,1,1,1,1,1,1,1,1,1,1,1,1,1,1,1,1,1,1,1,1,1,1,1,1,1,1,1,1,1,1,1,1,1,1,1,1,1,1,1,1,1,1,1,1,1,1,1,1,1,1,1,1,1,1,1,1,1,1,1,1,1,1,1,1,1,1,1,1,1,1,1,1,1,1,1,1,1,1,1,1,1,1,1,1,1,1,1,1,1,1,1,1,1,1,1,1,1,1,1,1,1,1,1,1,1,1,1,1,1,1,1,1,1,1,1,1,1,1,1,1,1,1,1,1,1,1,1,1,1,1,1,1,1,1,1,1,1,1,1,1,1,1,1,1,1,1,1,1,1,1,1,1,1,1,1,1,1,1,1,1,1,1,1,1,1,1,1,1,1,1,1,1,1,1,1,1,1,1,1,1,1,1,1,1,1,1,1,1,1,1,1,1,1,1,1,1,1,1,1,1,1,1,1,1,1,1,1,1,1,1,1,1,1,1,1,1,1,1,1,1,1,1,1,1,1,1,1,1,1,1,1,1,1,1,1,1,1,1,1,1,1,1,1,1,1,1,1,1,1,1,1,1,1,1,1,1,1,1,1,1,1,1,1,1,1,1,1,1,1,1,1,1,1,1,1,1,1,1,1,1,1,1,1,1,1,1,1,1,1,1,1,1,1,1,1,1,1,1,1,1,1,1,1,1,1,1,1,1,1,1,1,1,1,1,1,1,1,1,1,1,1,1,1,1,1,1,1,1,1,1,1,1,1,1,1,1,1,1,1,1,1,1,1,1,1,1,1,1,1,1,1,1,1,1,1,1,1,1,1,1,1,1,1,1,1,1,1,1,1,1,1,1,1,1,1,1,1,1,1,1,1,1,1,1,1,1,1,1,1,1,1,1,1,1,1,1,1,1,1,1,1,1,1,1,1,1,1,1,1,1,1,1,1,1,1,1,1,1,1,1,1,1,1,1,1,1,1,1,1,1,1,1,1,1,1,1,1,1,1,1,1,1,1,1,1,1,1,1,1,1,1,1,1,1,1,1,1,1,1,1,1,1,1,1,1,1,1,1,1,1,1,1,1,1,1,1,1,1,1,1,1,1,1,1,1,1,1,1,1,1,1,1,1,1,1,1,1,1,1,1,1,1,1,1,1,1,1,1,1,1,1,1,1,1,1,1,1,1,1,1,1,1,1,1,1,1,1,1,1,1,1,1,1,1,1,1,1,1,1,1,1,1,1,1,1,1,1,1,1,1,1,1,1,1,1,1,1,1,1,1,1,1,1,1,1,1,1,1,1,1,1,1,1,1,1,1,1,1,1,1,1,1,1,1,1,1,1,1,1,1,1,1,1,1,1,1,1,1,1,1,1,1,1,1,1,1,1,1,1,1,1,1,1,1,1,1,1,1,1,1,1,1,1,1,1,1,1,1,1,1,1,1,1,1,1,1,1,1,1,1,1,1,1,1,1,1,1,1,1,1,1,1,1,1,1,1,1,1,1,1,1,1,1,1,1,1,1,1,1,1,1,1,1,1,1,1,1,1,1,1,1,1,1,1,1,1,1,1,1,1,1,1,1,1,1,1,1,1,1,1,1,1,1,1,1,1,1,1,1,1,1,1,1,1,1,1,1,1,1,1,1,1,1,1,1,1,1,1,1,1,1,1,1,1,1,1,1,1,1,1,1,1,1,1,1,1,1,1,1,1,1,1,1,1,1,1,1,1,1,1,1,1,1,1,1,1,1,1,1,1,1,1,1,1,1,1,1,1,1,1,1,1,1,1,1,1,1,1,1,1,1,1,1,1,1,1,1,1,1,1,1,1,1,1,1,1,1,1,1,1,1,1,1,1,1,1,1,1,1,1,1,1,1,1,1,1,1,1,1,1,1,1,1,1,1,1,1,1,1,1,1,1,1,1,1,1,1,1,1,1,1,1,1,1,1,1,1,1,1,1,1,1,1,1,1,1,1,1,1,1,1,1,1,1,1,1,1,1,1,1,1,1,1,1,1,1,1,1,1,1,1,1,1,1,1,1,1,1,1,1,1,1,1,1,1,1,1,1,1,1,1,1,1,1,1,1,1,1,1,1,1,1,1,1,1,1,1,1,1,1,1,1,1,1,1,1,1,1,1,1,1,1,1,1,1,1,1,1,1,1,1,1,1,1,1,1,1,1,1,1,1,1,1,1,1,1,1,1,1,1,1,1,1,1,1,1,1,1,1,1,1,1,1,1,1,1,1,1,1,1,1,1,1,1,1,1,1,1,1,1,1,1,1,1,1,1,1,1,1,1,1,1,1,1,1,1,1,1,1,1,1,1,1,1,1,1,1,1,1,1,1,1,1,1,1,1,1,1,1,1,1,1,1,1,1,1,1,1,1,1,1,1,1,1,1,1,1,1,1,1,1,1,1,1,1,1,1,1,1,1,1,1,1,1,1,1,1,1,1,1,1,1,1,1,1,1,1,1,1,1,1,1,1,1,1,1,1,1,1,1,1,1,1,1,1,1,1,1,1,1,1,1,1,1,1,1,1,1,1,1,1,1,1,1,1,1,1,1,1,1,1,1,1,1,1,1,1,1,1,1,1,1,1,1,1,1,1,1,1,1,1,1,1,1,1,1,1,1,1,1,1,1,1,1,1,1,1,1,1,1,1,1,1,1,1,1,1,1,1,1,1,1,1,1,1,1,1,1,1,1,1,1,1,1,1,1,1,1,1,1,1,1,1,1,1,1,1,1,1,1,1,1,1,1,1,1,1,1,1,1,1,1,1,1,1,1,1,1,1,1,1,1,1,1,1,1,1,1,1,1,1,1,1,1,1,1,1,1,1,1,1,1,1,1,1,1,1,1,1,1,1,1,1,1,1,1,1,1,1,1,1,1,1,1,1,1,1,1,1,1,1,1,1,1,1,1,1,1,1,1,1,1,1,1,1,1,1,1,1,1,1,1,1,1,1,1,1,1,1,1,1,1,1,1,1,1,1,1,1,1,1,1,1,1,1,1,1,1,1,1,1,1,1,1,1,1,1,1,1,1,1,1,1,1,1,1,1,1,1,1,1,1,1,1,1,1,1,1,1,1,1,1,1,1,1,1,1,1,1,1,1,1,1,1,1,1,1,1,1,1,1,1,1,1,1,1,1,1,1,1,1,1,1,1,1,1,1,1,1,1,1,1,1,1,1,1,1,1,1,1,1,1,1,1,1,1,1,1,1,1,1,1,1,1,1,1,1,1,1,1,1,1,1,1,1,1,1,1,1,1,1,1,1,1,1,1,1,1,1,1,1,1,1,1,1,1,1,1,1,1,1,1,1,1,1,1,1,1,1,1,1,1,1,1,1,1,1,1,1,1,1,1,1,1,1,1,1,1,1,1,1,1,1,1,1,1,1,1,1,1,1,1,1,1,1,1,1,1,1,1,1,1,1,1,1,1,1,1,1,1,1,1,1,1,1,1,1,1,1,1,1,1,1,1,1,1,1,1,1,1,1,1,1,1,1,1,1,1,1,1,1,1,1,1,1,1,1,1,1,1,1,1,1,1,1,1,1,1,1,1,1,1,1,1,1,1,1,1,1,1,1,1,1,1,1,1,1,1,1,1,1,1,1,1,1,1,1,1,1,1,1,1,1,1,1,1,1,1,1,1,1,1,1,1,1,1,1,1,1,1,1,1,1,1,1,1,1,1,1,1,1,1,1,1,1,1,1,1,1,1,1,1,1,1,1,1,1,1,1,1,1,1,1,1,1,1,1,1,1,1,1,1,1,1,1,1,1,1,1,1,1,1,1,1,1,1,1,1,1,1,1,1,1,1,1,1,1,1,1,1,1,1,1,1,1,1,1,1,1,1,1,1,1,1,1,1,1,1,1,1,1,1,1,1,1,1,1,1,1,1,1,1,1,1,1,1,1,1,1,1,1,1,1,1,1,1,1,1,1,1,1,1,1,1,1,1,1,1,1,1,1,1,1,1,1,1,1,1,1,1,1,1,1,1,1,1,1,1,1,1,1,1,1,1,1,1,1,1,1,1,1,1,1,1,1,1,1,1,1,1,1,1,1,1,1,1,1,1,1,1,1,1,1,1,1,1,1,1,1,1,1,1,1,1,1,1,1,1,1,1,1,1,1,1,1,1,1,1,1,1,1,1,1,1,1,1,1,1,1,1,1,1,1,1,1,1,1,1,1,1,1,1,1,1,1,1,1,1,1,1,1,1,1,1,1,1,1,1,1,1,1,1,1,1,1,1,1,1,1,1,1,1,1,1,1,1,1,1,1,1,1,1,1,1,1,1,1,1,1,1,1,1,1,1,1,1,1,1,1,1,1,1,1,1,1,1,1,1,1,1,1,1,1,1,1,1,1,1,1,1,1,1,1,1,1,1,1,1,1,1,1,1,1,1,1,1,1,1,1,1,1,1,1,1,1,1,1,1,1,1,1,1,1,1,1,1,1,1,1,1,1,1,1,1,1,1,1,1,1,1,1,1,1,1,1,1,1,1,1,1,1,1,1,1,1,1,1,1,1,1,1,1,1,1,1,1,1,1,1,1,1,1,1,1,1,1,1,1,1,1,1,1,1,1,1,1,1,1,1,1,1,1,1,1,1,1,1,1,1,1,1,1,1,1,1,1,1,1,1,1,1,1,1,1,1,1,1,1,1,1,1,1,1,1,1,1,1,1,1,1,1,1,1,1,1,1,1,1,1,1,1,1,1,1,1,1,1,1,1,1,1,1,1,1,1,1,1,1,1,1,1,1,1,1,1,1,1,1,1,1,1,1,1,1,1,1,1,1,1,1,1,1,1,1,1,1,1,1,1,1,1,1,1,1,1,1,1,1,1,1,1,1,1,1,1,1,1,1,1,1,1,1,1,1,1,1,1,1,1,1,1,1,1,1,1,1,1,1,1,1,1,1,1,1,1,1,1,1,1,1,1,1,1,1,1,1,1,1,1,1,1,1,1,1,1,1,1,1,1,1,1,1,1,1,1,1,1,1,1,1,1,1,1,1,1,1,1,1,1,1,1,1,1,1,1,1,1,1,1,1,1,1,1,1,1,1,1,1,1,1,1,1,1,1,1,1,1,1,1,1,1,1,1,1,1,1,1,1,1,1,1,1,1,1,1,1,1,1,1,1,1,1,1,1,1,1,1,1,1,1,1,1,1,1,1,1,1,1,1,1,1,1,1,1,1,1,1,1,1,1,1,1,1,1,1,1,1,1,1,1,1,1,1,1,1,1,1,1,1,1,1,1,1,1,1,1,1,1,1,1,1,1,1,1,1,1,1,1,1,1,1,1,1,1,1,1,1,1,1,1,1,1,1,1,1,1,1,1,1,1,1,1,1,1,1,1,1,1,1,1,1,1,1,1,1,1,1,1,1,1,1,1,1,1,1,1,1,1,1,1,1,1,1,1,1,1,1,1,1,1,1,1,1,1,1,1,1,1,1,1,1,1,1,1,1,1,1,1,1,1,1,1,1,1,1,1,1,1,1,1,1,1,1,1,1,1,1,1,1,1,1,1,1,1,1,1,1,1,1,1,1,1,1,1,1,1,1,1,1,1,1,1,1,1,1,1,1,1,1,1,1,1,1,1,1,1,1,1,1,1,1,1,1,1,1,1,1,1,1,1,1,1,1,1,1,1,1,1,1,1,1,1,1,1,1,1,1,1,1,1,1,1,1,1,1,1,1,1,1,1,1,1,1,1,1,1,1,1,1,1,1,1,1,1,1,1,1,1,1,1,1,1,1,1,1,1,1,1,1,1,1,1,1,1,1,1,1,1,1,1,1,1,1,1,1,1,1,1,1,1,1,1,1,1,1,1,1,1,1,1,1,1,1,1,1,1,1,1,1,1,1,1,1,1,1,1,1,1,1,1,1,1,1,1,1,1,1,1,1,1,1,1,1,1,1,1,1,1,1,1,1,1,1,1,1,1,1,1,1,1,1,1,1,1,1,1,1,1,1,1,1,1,1,1,1,1,1,1,1,1,1,1,1,1,1,1,1,1,1,1,1,1,1,1,1,1,1,1,1,1,1,1,1,1,1,1,1,1,1,1,1,1,1,1,1,1,1,1,1,1,1,1,1,1,1,1,1,1,1,1,1,1,1,1,1,1,1,1,1,1,1,1,1,1,1,1,1,1,1,1,1,1,1,1,1,1,1,1,1,1,1,1,1,1,1,1,1,1,1,1,1,1,1,1,1,1,1,1,1,1,1,1,1,1,1,1,1,1,1,1,1,1,1,1,1,1,1,1,1,1,1,1,1,1,1,1,1,1,1,1,1,1,1,1,1,1,1,1,1,1,1,1,1,1,1,1,1,1,1,1,1,1,1,1,1,1,1,1,1,1,1,1,1,1,1,1,1,1,1,1,1,1,1,1,1,1,1,1,1,1,1,1,1,1,1,1,1,1,1,1,1,1,1,1,1,1,1,1,1,1,1,1,1,1,1,1,1,1,1,1,1,1,1,1,1,1,1,1,1,1,1,1,1,1,1,1,1,1,1,1,1,1,1,1,1,1,1,1,1,1,1,1,1,1,1,1,1,1,1,1,1,1,1,1,1,1,1,1,1,1,1,1,1,1,1,1,1,1,1,1,1,1,1,1,1,1,1,1,1,1,1,1,1,1,1,1,1,1,1,1,1,1,1,1,1,1,1,1,1,1,1,1,1,1,1,1,1,1,1,1,1,1,1,1,1,1,1,1,1,1,1,1,1,1,1,1,1,1,1,1,1,1,1,1,1,1,1,1,1,1,1,1,1,1,1,1,1,1,1,1,1,1,1,1,1,1,1,1,1,1,1,1,1,1,1,1,1,1,1,1,1,1,1,1,1,1,1,1,1,1,1,1,1,1,1,1,1,1,1,1,1,1,1,1,1,1,1,1,1,1,1,1,1,1,1,1,1,1,1,1,1,1,1,1,1,1,1,1,1,1,1,1,1,1,1,1,1,1,1,1,1,1,1,1,1,1,1,1,1,1,1,1,1,1,1,1,1,1,1,1,1,1,1,1,1,1,1,1,1,1,1,1,1,1,1,1,1,1,1,1,1,1,1,1,1,1,1,1,1,1,1,1,1,1,1,1,1,1,1,1,1,1,1,1,1,1,1,1,1,1,1,1,1,1,1,1,1,1,1,1,1,1,1,1,1,1,1,1,1,1,1,1,1,1,1,1,1,1,1,1,1,1,1,1,1,1,1,1,1,1,1,1,1,1,1,1,1,1,1,1,1,1,1,1,1,1,1,1,1,1,1,1,1,1,1,1,1,1,1,1,1,1,1,1,1,1,1,1,1,1,1,1,1,1,1,1,1,1,1,1,1,1,1,1,1,1,1,1,1,1,1,1,1,1,1,1,1,1,1,1,1,1,1,1,1,1,1,1,1,1,1,1,1,1,1,1,1,1,1,1,1,1,1,1,1,1,1,1,1,1,1,1,1,1,1,1,1,1,1,1,1,1,1,1,1,1,1,1,1,1,1,1,1,1,1,1,1,1,1,1,1,1,1,1,1,1,1,1,1,1,1,1,1,1,1,1,1,1,1,1,1,1,1,1,1,1,1,1,1,1,1,1,1,1,1,1,1,1,1,1,1,1,1,1,1,1,1,1,1,1,1,1,1,1,1,1,1,1,1,1,1,1,1,1,1,1,1,1,1,1,1,1,1,1,1,1,1,1,1,1,1,1,1,1,1,1,1,1,1,1,1,1,1,1,1,1,1,1,1,1,1,1,1,1,1,1,1,1,1,1,1,1,1,1,1,1,1,1,1,1,1,1,1,1,1,1,1,1,1,1,1,1,1,1,1,1,1,1,1,1,1,1,1,1,1,1,1,1,1,1,1,1,1,1,1,1,1,1,1,1,1,1,1,1,1,1,1,1,1,1,1,1,1,1,1,1,1,1,1,1,1,1,1,1,1,1,1,1,1,1,1,1,1,1,1,1,1,1,1,1,1,1,1,1,1,1,1,1,1,1,1,1,1,1,1,1,1,1,1,1,1,1,1,1,1,1,1,1,1,1,1,1,1,1,1,1,1,1,1,1,1,1,1,1,1,1,1,1,1,1,1,1,1,1,1,1,1,1,1,1,1,1,1,1,1,1,1,1,1,1,1,1,1,1,1,1,1,1,1,1,1,1,1,1,1,1,1,1,1,1,1,1,1,1,1,1,1,1,1,1,1,1,1,1,1,1,1,1,1,1,1,1,1,1,1,1,1,1,1,1,1,1,1,1,1,1,1,1,1,1,1,1,1,1,1,1,1,1,1,1,1,1,1,1,1,1,1,1,1,1,1,1,1,1,1,1,1,1,1,1,1,1,1,1,1,1,1,1,1,1,1,1,1,1,1,1,1,1,1,1,1,1,1,1,1,1,1,1,1,1,1,1,1,1,1,1,1,1,1,1,1,1,1,1,1,1,1,1,1,1,1,1,1,1,1,1,1,1,1,1,1,1,1,1,1,1,1,1,1,1,1,1,1,1,1,1,1,1,1,1,1,1,1,1,1,1,1,1,1,1,1,1,1,1,1,1,1,1,1,1,1,1,1,1,1,1,1,1,1,1,1,1,1,1,1,1,1,1,1,1,1,1,1,1,1,1,1,1,1,1,1,1,1,1,1,1,1,1,1,1,1,1,1,1,1,1,1,1,1,1,1,1,1,1,1,1,1,1,1,1,1,1,1,1,1,1,1,1,1,1,1,1,1,1,1,1,1,1,1,1,1,1,1,1,1,1,1,1,1,1,1,1,1,1,1,1,1,1,1,1,1,1,1,1,1,1,1,1,1,1,1,1,1,1,1,1,1,1,1,1,1,1,1,1,1,1,1,1,1,1,1,1,1,1,1,1,1,1,1,1,1,1,1,1,1,1,1,1,1,1,1,1,1,1,1,1,1,1,1,1,1,1,1,1,1,1,1,1,1,1,1,1,1,1,1,1,1,1,1,1,1,1,1,1,1,1,1,1,1,1,1,1,1,1,1,1,1,1,1,1,1,1,1,1,1,1,1,1,1,1,1,1,1,1,1,1,1,1,1,1,1,1,1,1,1,1,1,1,1,1,1,1,1,1,1,1,1,1,1,1,1,1,1,1,1,1,1,1,1,1,1,1,1,1,1,1,1,1,1,1,1,1,1,1,1,1,1,1,1,1,1,1,1,1,1,1,1,1,1,1,1,1,1,1,1,1,1,1,1,1,1,1,1,1,1,1,1,1,1,1,1,1,1,1,1,1,1,1,1,1,1,1,1,1,1,1,1,1,1,1,1,1,1,1,1,1,1,1,1,1,1,1,1,1,1,1,1,1,1,1,1,1,1,1,1,1,1,1,1,1,1,1,1,1,1,1,1,1,1,1,1,1,1,1,1,1,1,1,1,1,1,1,1,1,1,1,1,1,1,1,1,1,1,1,1,1,1,1,1,1,1,1,1,1,1,1,1,1,1,1,1,1,1,1,1,1,1,1,1,1,1,1,1,1,1,1,1,1,1,1,1,1,1,1,1,1,1,1,1,1,1,1,1,1,1,1,1,1,1,1,1,1,1,1,1,1,1,1,1,1,1,1,1,1,1,1,1,1,1,1,1,1,1,1,1,1,1,1,1,1,1,1,1,1,1,1,1,1,1,1,1,1,1,1,1,1,1,1,1,1,1,1,1,1,1,1,1,1,1,1,1,1,1,1,1,1,1,1,1,1,1,1,1,1,1,1,1,1,1,1,1,1,1,1,1,1,1,1,1,1,1,1,1,1,1,1,1,1,1,1,1,1,1,1,1,1,1,1,1,1,1,1,1,1,1,1,1,1,1,1,1,1,1,1,1,1,1,1,1,1,1,1,1,1,1,1,1,1,1,1,1,1,1,1,1,1,1,1,1,1,1,1,1,1,1,1,1,1,1,1,1,1,1,1,1,1,1,1,1,1,1,1,1,1,1,1,1,1,1,1,1,1,1,1,1,1,1,1,1,1,1,1,1,1,1,1,1,1,1,1,1,1,1,1,1,1,1,1,1,1,1,1,1,1,1,1,1,1,1,1,1,1,1,1,1,1,1,1,1,1,1,1,1,1,1,1,1,1,1,1,1,1,1,1,1,1,1,1,1,1,1,1,1,1,1,1,1,1,1,1,1,1,1,1,1,1,1,1,1,1,1,1,1,1,1,1,1,1,1,1,1,1,1,1,1,1,1,1,1,1,1,1,1,1,1,1,1,1,1,1,1,1,1,1,1,1,1,1,1,1,1,1,1,1,1,1,1,1,1,1,1,1,1,1,1,1,1,1,1,1,1,1,1,1,1,1,1,1,1,1,1,1,1,1,1,1,1,1,1,1,1,1,1,1,1,1,1,1,1,1,1,1,1,1,1,1,1,1,1,1,1,1,1,1,1,1,1,1,1,1,1,1,1,1,1,1,1,1,1,1,1,1,1,1,1,1,1,1,1,1,1,1,1,1,1,1,1,1,1,1,1,1,1,1,1,1,1,1,1,1,1,1,1,1,1,1,1,1,1,1,1,1,1,1,1,1,1,1,1,1,1,1,1,1,1,1,1,1,1,1,1,1,1,1,1,1,1,1,1,1,1,1,1,1,1,1,1,1,1,1,1,1,1,1,1,1,1,1,1,1,1,1,1,1,1,1,1,1,1,1,1,1,1,1,1,1,1,1,1,1,1,1,1,1,1,1,1,1,1,1,1,1,1,1,1,1,1,1,1,1,1,1,1,1,1,1,1,1,1,1,1,1,1,1,1,1,1,1,1,1,1,1,1,1,1,1,1,1,1,1,1,1,1,1,1,1,1,1,1,1,1,1,1,1,1,1,1,1,1,1,1,1,1,1,1,1,1,1,1,1,1,1,1,1,1,1,1,1,1,1,1,1,1,1,1,1,1,1,1,1,1,1,1,1,1,1,1,1,1,1,1,1,1,1,1,1,1,1,1,1,1,1,1,1,1,1,1,1,1,1,1,1,1,1,1,1,1,1,1,1,1,1,1,1,1,1,1,1,1,1,1,1,1,1,1,1,1,1,1,1,1,1,1,1,1,1,1,1,1,1,1,1,1,1,1,1,1,1,1,1,1,1,1,1,1,1,1,1,1,1,1,1,1,1,1,1,1,1,1,1,1,1,1,1,1,1,1,1,1,1,1,1,1,1,1,1,1,1,1,1,1,1,1,1,1,1,1,1,1,1,1,1,1,1,1,1,1,1,1,1,1,1,1,1,1,1,1,1,1,1,1,1,1,1,1,1,1,1,1,1,1,1,1,1,1,1,1,1,1,1,1,1,1,1,1,1,1,1,1,1,1,1,1,1,1,1,1,1,1,1,1,1,1,1,1,1,1,1,1,1,1,1,1,1,1,1,1,1,1,1,1,1,1,1,1,1,1,1,1,1,1,1,1,1,1,1,1,1,1,1,1,1,1,1,1,1,1,1,1,1,1,1,1,1,1,1,1,1,1,1,1,1,1,1,1,1,1,1,1,1,1,1,1,1,1,1,1,1,1,1,1,1,1,1,1,1,1,1,1,1,1,1,1,1,1,1,1,1,1,1,1,1,1,1,1,1,1,1,1,1,1,1,1,1,1,1,1,1,1,1,1,1,1,1,1,1,1,1,1,1,1,1,1,1,1,1,1,1,1,1,1,1,1,1,1,1,1,1,1,1,1,1,1,1,1,1,1,1,1,1,1,1,1,1,1,1,1,1,1,1,1,1,1,1,1,1,1,1,1,1,1,1,1,1,1,1,1,1,1,1,1,1,1,1,1,1,1,1,1,1,1,1,1,1,1,1,1,1,1,1,1,1,1,1,1,1,1,1,1,1,1,1,1,1,1,1,1,1,1,1,1,1,1,1,1,1,1,1,1,1,1,1,1,1,1,1,1,1,1,1,1,1,1,1,1,1,1,1,1,1,1,1,1,1,1,1,1,1,1,1,1,1,1,1,1,1,1,1,1,1,1,1,1,1,1,1,1,1,1,1,1,1,1,1,1,1,1,1,1,1,1,1,1,1,1,1,1,1,1,1,1,1,1,1,1,1,1,1,1,1,1,1,1,1,1,1,1,1,1,1,1,1,1,1,1,1,1,1,1,1,1,1,1,1,1,1,1,1,1,1,1,1,1,1,1,1,1,1,1,1,1,1,1,1,1,1,1,1,1,1,1,1,1,1,1,1,1,1,1,1,1,1,1,1,1,1,1,1,1,1,1,1,1,1,1,1,1,1,1,1,1,1,1,1,1,1,1,1,1,1,1,1,1,1,1,1,1,1,1,1,1,1,1,1,1,1,1,1,1,1,1,1,1,1,1,1,1,1,1,1,1,1,1,1,1,1,1,1,1,1,1,1,1,1,1,1,1,1,1,1,1,1,1,1,1,1,1,1,1,1,1,1,1,1,1,1,1,1,1,1,1,1,1,1,1,1,1,1,1,1,1,1,1,1,1,1,1,1,1,1,1,1,1,1,1,1,1,1,1,1,1,1,1,1,1,1,1,1,1,1,1,1,1,1,1,1,1,1,1,1,1,1,1,1,1,1,1,1,1,1,1,1,1,1,1,1,1,1,1,1,1,1,1,1,1,1,1,1,1,1,1,1,1,1,1,1,1,1,1,1,1,1,1,1,1,1,1,1,1,1,1,1,1,1,1,1,1,1,1,1,1,1,1,1,1,1,1,1,1,1,1,1,1,1,1,1,1,1,1,1,1,1,1,1,1,1,1,1,1,1,1,1,1,1,1,1,1,1,1,1,1,1,1,1,1,1,1,1,1,1,1,1,1,1,1,1,1,1,1,1,1,1,1,1,1,1,1,1,1,1,1,1,1,1,1,1,1,1,1,1,1,1,1,1,1,1,1,1,1,1,1,1,1,1,1,1,1,1,1,1,1,1,1,1,1,1,1,1,1,1,1,1,1,1,1,1,1,1,1,1,1,1,1,1,1,1,1,1,1,1,1,1,1,1,1,1,1,1,1,1,1,1,1,1,1,1,1,1,1,1,1,1,1,1,1,1,1,1,1,1,1,1,1,1,1,1,1,1,1,1,1,1,1,1,1,1,1,1,1,1,1,1,1,1,1,1,1,1,1,1,1,1,1,1,1,1,1,1,1,1,1,1,1,1,1,1,1,1,1,1,1,1,1,1,1,1,1,1,1,1,1,1,1,1,1,1,1,1,1,1,1,1,1,1,1,1,1,1,1,1,1,1,1,1,1,1,1,1,1,1,1,1,1,1,1,1,1,1,1,1,1,1,1,1,1,1,1,1,1,1,1,1,1,1,1,1,1,1,1,1,1,1,1,1,1,1,1,1,1,1,1,1,1,1,1,1,1,1,1,1,1,1,1,1,1,1,1,1,1,1,1,1,1,1,1,1,1,1,1,1,1,1,1,1,1,1,1,1,1,1,1,1,1,1,1,1,1,1,1,1,1,1,1,1,1,1,1,1,1,1,1,1,1,1,1,1,1,1,1,1,1,1,1,1,1,1,1,1,1,1,1,1,1,1,1,1,1,1,1,1,1,1,1,1,1,1,1,1,1,1,1,1,1,1,1,1,1,1,1,1,1,1,1,1,1,1,1,1,1,1,1,1,1,1,1,1,1,1,1,1,1,1,1,1,1,1,1,1,1,1,1,1,1,1,1,1,1,1,1,1,1,1,1,1,1,1,1,1,1,1,1,1,1,1,1,1,1,1,1,1,1,1,1,1,1,1,1,1,1,1,1,1,1,1,1,1,1,1,1,1,1,1,1,1,1,1,1,1,1,1,1,1,1,1,1,1,1,1,1,1,1,1,1,1,1,1,1,1,1,1,1,1,1,1,1,1,1,1,1,1,1,1,1,1,1,1,1,1,1,1,1,1,1,1,1,1,1,1,1,1],\"x0\":\" \",\"xaxis\":\"x\",\"y\":[184,184,184,184,184,240,196,308,185,191,191,248,248,197,197,250,223,223,223,223,223,250,250,250,250,250,250,192,192,192,192,192,185,185,185,196,196,196,240,196,196,230,230,230,230,230,330,208,208,208,208,208,208,287,200,200,200,208,205,242,242,242,242,205,205,253,253,252,252,273,250,250,322,341,184,248,248,248,230,194,194,194,234,190,268,210,219,240,196,196,196,205,200,230,230,205,208,208,208,330,192,192,219,250,190,190,190,190,190,190,219,219,219,256,256,170,170,220,220,220,200,205,242,242,312,205,205,205,330,252,252,208,208,240,240,312,295,295,190,190,190,285,184,184,184,184,248,200,195,262,216,196,196,196,242,230,230,230,230,230,208,208,208,208,208,242,206,206,206,206,200,200,200,242,237,237,237,195,233,233,233,242,242,242,242,242,252,208,208,208,208,208,330,280,190,190,190,190,307,281,216,216,216,195,275,347,195,250,252,248,245,245,233,215,215,215,215,215,215,236,195,240,240,240,280,230,230,230,242,208,208,236,236,236,266,200,242,305,242,242,208,208,208,250,330,330,280,280,280,280,195,195,195,195,190,190,190,190,190,202,202,270,182,233,233,233,193,193,308,191,191,191,191,223,223,223,223,223,223,223,223,223,223,223,294,250,250,250,250,250,250,192,185,192,192,185,185,196,235,235,195,195,195,300,205,205,205,197,227,227,227,227,197,206,206,206,300,252,252,252,252,253,253,250,195,275,267,195,195,195,195,195,195,195,195,210,275,336,223,223,223,223,250,250,250,195,192,192,192,196,196,196,196,196,196,196,196,196,196,205,200,200,200,200,200,187,247,315,315,315,225,230,230,230,238,238,238,205,225,187,187,187,290,205,205,205,205,275,205,205,205,205,193,266,225,225,225,225,225,225,225,205,253,193,193,193,322,267,195,195,190,190,190,190,185,265,192,191,250,191,191,250,223,185,223,192,223,223,223,250,250,250,250,250,250,250,250,250,250,250,250,253,192,253,192,192,192,322,185,185,196,196,277,232,232,240,200,196,209,200,270,270,306,306,341,240,240,240,209,209,209,224,296,273,273,214,214,214,214,214,214,230,200,200,265,265,265,265,195,195,195,195,224,224,191,191,191,185,197,197,223,223,267,250,250,192,192,192,192,192,185,196,196,196,210,210,224,212,285,203,212,212,212,212,213,203,188,188,207,207,207,238,238,238,238,205,205,205,253,253,280,188,188,188,188,188,188,188,188,188,250,280,280,322,190,190,190,340,340,190,186,205,222,280,280,222,280,341,290,237,191,191,191,223,223,223,195,250,250,250,250,250,250,253,195,192,192,192,192,195,185,185,196,196,196,204,204,204,204,232,232,232,232,232,232,232,232,232,204,204,204,204,205,193,193,193,193,260,205,285,287,308,275,260,260,205,238,238,238,238,250,322,322,267,310,195,195,195,195,195,341,197,197,197,197,197,197,185,248,248,260,260,260,260,190,195,195,195,195,195,195,185,191,190,190,190,190,233,240,230,208,230,230,208,208,208,208,208,208,284,232,232,200,200,200,200,200,200,200,242,190,190,242,242,242,242,242,280,252,208,208,208,208,208,191,330,330,185,185,280,280,312,233,190,190,190,190,190,190,190,190,190,260,281,198,248,248,230,250,202,202,230,230,230,230,191,264,240,242,230,242,196,230,230,230,208,208,180,180,228,228,228,228,228,228,318,318,318,212,243,301,264,200,191,191,191,191,212,242,242,208,211,211,211,211,211,195,330,330,330,195,195,195,195,285,190,190,230,188,248,245,215,215,215,184,184,240,240,240,242,230,230,280,208,208,292,225,225,225,225,225,225,225,225,225,225,225,236,236,236,236,236,236,200,200,200,200,184,184,184,184,242,242,242,242,242,242,242,208,190,266,212,212,330,280,280,280,195,195,195,195,190,190,190,202,202,202,285,248,255,255,255,255,255,265,196,196,196,196,245,195,256,256,256,265,308,204,204,204,204,280,240,240,230,230,230,230,208,212,285,195,242,242,242,242,198,207,207,207,207,207,207,215,215,215,330,330,330,330,312,190,190,190,265,285,198,198,198,198,198,198,302,302,265,195,223,195,192,192,192,192,192,185,185,185,185,185,185,196,196,196,196,196,196,196,235,195,237,222,179,242,244,244,244,244,290,188,188,188,188,190,190,190,180,233,233,233,180,322,322,267,195,195,195,195,195,222,190,237,295,205,235,222,185,185,185,185,185,185,235,185,237,237,237,237,196,250,250,250,195,287,192,192,192,185,185,185,195,196,196,196,226,226,226,226,198,198,198,250,250,250,250,279,227,185,185,200,200,200,287,205,253,190,190,288,188,250,267,195,195,195,195,195,270,270,190,190,190,190,222,279,194,220,220,207,207,207,207,207,207,207,190,287,190,190,190,190,194,194,194,194,192,248,248,248,248,287,268,305,199,242,242,242,242,242,242,242,242,242,242,242,287,287,287,300,210,210,210,210,210,194,194,194,194,194,192,192,300,192,196,321,234,234,234,190,190,190,219,219,219,256,170,170,196,196,240,240,300,305,287,261,207,207,207,190,190,248,199,199,242,242,242,242,242,242,300,287,195,205,205,205,205,205,352,352,262,194,194,194,194,265,192,192,300,206,206,206,206,206,206,206,206,206,250,250,206,206,196,240,300,300,237,237,237,233,233,287,261,207,207,207,207,190,190,248,248,248,248,248,199,199,242,242,242,242,242,242,287,287,287,265,265,265,265,184,184,184,245,202,205,205,194,200,290,245,245,245,245,250,250,250,250,203,203,203,270,270,311,311,311,193,193,193,215,203,203,203,203,280,199,199,199,199,199,199,290,305,305,289,207,207,248,190,190,190,261,248,199,199,199,199,287,242,242,242,287,287,260,260,260,260,260,260,308,195,195,195,195,190,228,190,233,335,194,300,225,225,225,225,190,300,190,190,190,190,190,191,191,265,265,261,233,233,260,281,288,265,265,281,199,199,199,199,199,290,190,190,190,190,270,289,195,242,195,195,207,207,207,207,207,207,207,190,190,190,240,290,261,248,248,248,248,265,242,287,300,205,220,220,220,220,220,197,197,227,227,227,227,227,230,305,245,245,197,197,197,197,240,240,287,206,206,305,252,261,261,300,193,193,193,270,270,270,199,336,289,289,289,289,289,195,195,195,235,190,190,190,248,248,242,242,242,242,242,242,242,265,287,223,223,223,223,223,223,223,223,223,240,255,255,255,255,255,265,300,190,190,190,190,328,287,240,240,240,240,240,202,202,205,205,193,193,193,193,193,265,199,199,237,237,195,195,195,195,178,178,178,178,178,178,178,190,248,270,242,199,199,242,242,242,242,242,287,196,300,235,235,235,235,235,235,194,194,194,300,300,300,202,230,230,230,230,180,180,180,228,191,318,318,196,196,240,261,300,300,212,212,212,212,212,191,191,191,191,191,287,200,379,301,211,211,211,193,195,310,190,190,190,190,248,248,287,199,199,199,242,242,242,287,265,290,237,237,237,237,237,237,237,253,245,245,245,245,245,245,245,194,300,210,210,210,300,291,220,251,251,251,366,310,366,205,205,205,330,330,193,193,193,193,193,193,253,197,197,197,197,265,265,265,265,198,198,200,200,200,190,190,190,190,242,248,248,248,248,300,300,242,242,242,242,242,242,242,287,287,203,236,236,236,236,236,260,260,260,260,185,185,185,185,185,194,192,192,192,192,192,192,192,195,195,195,195,196,189,189,189,193,214,214,214,232,232,232,232,261,296,193,193,193,193,193,193,193,193,252,252,252,194,194,194,194,194,194,234,234,210,190,219,210,210,219,237,237,237,245,245,197,245,245,245,245,265,220,220,192,192,192,192,192,192,234,234,234,234,234,234,234,234,190,190,190,190,190,210,210,210,219,219,219,219,219,219,256,265,220,220,220,220,305,305,251,310,310,205,205,330,330,330,253,253,196,197,196,230,230,350,194,194,295,190,268,268,210,210,215,215,215,215,209,209,209,209,233,191,203,203,203,203,233,233,233,233,233,250,234,234,234,234,234,250,188,188,200,270,270,191,219,219,219,219,219,219,219,219,250,256,170,170,315,214,214,305,305,240,315,250,250,250,280,280,280,350,350,285,285,285,285,290,194,194,194,194,194,194,268,210,210,210,210,210,210,210,219,200,205,205,205,205,205,205,205,237,206,192,290,234,234,234,234,190,208,206,206,206,206,250,250,250,233,206,206,206,219,219,219,219,219,256,170,170,170,170,237,237,237,233,233,275,305,305,305,275,275,250,250,230,230,305,305,281,216,216,216,275,272,285,208,200,347,195,194,194,194,194,194,196,210,230,234,245,245,245,245,245,245,225,195,215,215,215,215,215,212,192,192,290,234,234,234,234,234,285,230,190,190,256,256,225,225,225,236,236,236,236,236,236,305,195,256,256,305,305,210,250,250,212,212,212,212,212,295,190,230,230,230,230,187,202,280,285,290,270,270,253,200,248,194,194,194,194,268,210,210,210,210,210,210,185,230,265,290,202,202,202,215,205,205,311,234,234,234,234,234,234,234,190,200,200,245,245,305,240,240,311,190,190,190,190,190,215,215,215,215,205,305,230,230,230,185,285,285,290,290,290,305,210,185,185,185,185,185,205,205,194,194,194,305,235,235,235,250,230,250,250,211,318,230,211,202,202,202,202,202,230,230,230,230,230,230,318,321,321,321,234,234,234,285,180,180,180,211,228,211,318,318,318,310,243,264,264,219,219,219,219,219,219,219,219,219,219,210,256,220,305,305,200,211,211,240,195,295,250,250,310,285,285,285,208,208,208,208,185,212,212,210,210,185,185,288,194,194,194,194,194,194,234,256,305,210,210,210,185,285,188,206,206,206,206,275,269,269,215,215,215,234,234,234,234,234,234,234,180,234,234,234,234,310,234,234,234,234,234,185,180,196,196,196,196,219,219,219,202,202,320,320,275,240,295,250,250,246,288,314,314,210,210,210,210,210,210,185,185,185,215,215,215,270,209,209,209,209,203,203,235,235,235,235,235,200,301,250,250,250,250,250,233,214,202,202,212,212,235,212,230,230,180,180,264,228,291,188,200,200,200,200,318,270,243,243,264,212,212,238,191,191,230,230,200,200,200,301,280,333,215,215,215,215,215,215,215,215,209,209,209,209,209,203,203,203,203,203,203,226,226,226,226,200,198,198,198,200,185,305,280,303,250,250,250,250,227,227,227,227,227,227,185,185,185,185,185,233,233,255,188,188,188,188,230,200,200,200,200,270,270,303,303,200,200,200,191,191,280,242,265,230,230,300,300,190,190,188,188,188,188,188,305,305,215,203,200,209,209,209,209,209,280,203,203,203,188,207,207,300,217,290,244,179,179,244,244,244,244,244,304,195,229,233,291,200,291,188,200,200,230,280,188,188,188,188,188,195,195,195,191,191,191,191,191,229,238,238,233,233,233,233,233,233,295,230,315,242,242,242,242,242,255,255,315,304,304,235,235,295,295,295,217,280,280,300,215,215,215,215,255,209,209,209,209,209,233,300,203,203,203,203,203,272,188,188,269,269,250,234,215,215,215,215,215,215,215,215,215,234,234,234,234,314,202,202,234,234,310,233,233,233,233,233,191,188,188,200,200,200,238,270,270,180,180,180,180,180,191,191,191,191,191,191,191,191,280,214,214,198,198,198,198,202,202,275,255,255,314,314,235,272,305,305,215,215,215,215,215,209,209,315,227,203,203,203,203,233,235,252,300,205,205,205,205,205,205,227,220,227,197,227,227,227,227,180,336,233,233,233,233,233,233,200,200,200,238,270,214,210,197,197,238,238,238,227,214,184,305,300,256,300,300,315,272,272,210,210,210,210,210,210,210,275,227,227,272,272,239,184,215,272,200,233,209,209,209,203,203,203,203,203,203,195,195,261,233,233,233,238,188,188,188,200,200,200,200,270,270,261,261,261,180,300,170,170,238,238,238,191,216,210,210,216,216,216,216,216,275,275,300,240,242,242,320,315,259,280,280,280,310,310,292,195,209,203,203,265,265,265,184,200,200,184,184,245,202,202,205,205,205,291,291,188,188,188,200,200,200,200,200,200,255,238,200,200,203,250,205,245,245,245,238,238,238,238,250,250,250,250,250,250,311,240,270,311,311,311,280,203,203,290,290,227,227,184,192,205,205,205,235,253,235,235,235,235,235,235,235,235,235,235,235,250,250,193,193,193,193,193,193,287,287,287,198,204,202,202,202,202,202,202,230,243,342,342,185,235,230,170,185,197,197,197,230,230,230,230,301,211,180,180,228,318,264,250,205,205,205,205,240,240,232,212,212,212,211,302,191,191,309,200,200,379,379,301,260,212,235,235,235,235,235,235,235,200,250,250,250,260,260,260,260,260,260,233,195,195,225,235,190,202,202,202,202,235,230,230,230,180,180,180,228,318,318,243,225,225,281,232,190,191,191,191,200,200,191,211,211,211,211,211,211,211,260,260,310,310,288,205,205,200,235,202,250,250,264,200,200,200,200,205,205,202,202,202,235,230,230,230,230,180,180,180,180,180,180,180,180,180,180,228,191,318,318,318,243,206,233,237,200,233,233,233,233,191,191,275,211,211,211,211,211,211,195,195,307,307,305,305,305,281,216,216,216,200,200,347,235,211,205,265,250,205,202,202,202,202,235,230,230,230,230,245,228,264,243,243,243,205,264,264,200,235,250,250,250,270,191,191,191,191,191,191,200,200,200,200,200,195,240,211,211,211,211,211,311,311,195,195,195,215,215,215,215,205,305,205,305,188,235,195,245,233,195,307,236,230,230,230,205,212,180,180,180,228,243,212,264,318,318,318,243,243,243,243,243,264,225,225,225,225,225,236,236,236,236,305,184,184,212,200,212,212,211,211,211,211,212,195,202,202,202,202,285,209,209,212,212,182,182,245,236,190,190,190,190,190,215,215,215,215,215,215,215,215,215,225,195,195,195,195,195,195,250,229,229,195,256,256,256,256,292,292,225,225,212,236,236,236,202,202,202,202,268,230,230,230,230,230,230,230,268,332,268,225,225,225,225,225,305,305,184,184,309,195,195,250,266,266,266,212,212,228,228,202,202,195,295,245,215,215,236,204,204,204,204,204,204,205,205,235,232,232,232,232,232,232,232,193,235,235,235,204,204,204,204,193,193,193,193,205,205,205,205,205,205,205,190,225,266,285,212,236,236,236,285,261,200,250,195,266,266,212,212,212,212,324,324,195,195,195,195,195,195,195,202,202,197,200,200,307,193,193,215,215,215,184,228,203,225,225,225,225,225,225,236,236,236,236,202,202,305,195,184,184,184,184,185,185,183,328,250,236,193,193,292,212,212,212,212,228,183,292,275,310,328,328,328,195,195,205,205,292,187,187,255,255,202,238,236,236,236,236,280,209,202,202,209,307,190,190,195,195,202,230,308,201,201,201,201,201,201,194,194,210,195,195,202,202,202,202,309,230,230,230,230,230,202,225,230,230,279,332,225,225,225,318,200,200,200,200,210,210,210,210,210,279,235,254,235,235,253,259,235,279,202,202,202,183,318,279,279,295,232,232,190,190,190,190,225,202,195,195,195,195,195,195,195,195,256,229,256,203,203,203,203,236,236,236,252,185,260,185,185,185,185,185,185,202,202,202,202,183,250,230,230,230,230,230,183,183,268,225,225,225,225,225,225,189,189,252,232,232,232,202,202,202,202,202,202,202,183,183,183,183,183,183,272,252,252,295,307,307,307,295,190,190,195,195,195,195,195,234,234,234,240,198,205,205,262,262,200,200,200,192,202,230,230,250,230,230,230,230,230,230,295,192,197,240,240,240,240,240,198,332,225,225,225,198,198,195,195,300,300,300,265,202,202,202,202,265,203,318,203,203,203,295,197,197,197,197,257,190,195,195,195,202,256,245,287,193,198,309,235,185,185,245,197,235,202,202,232,230,230,230,230,230,230,230,260,205,205,325,232,232,332,332,332,268,309,225,225,225,183,235,235,235,235,309,183,202,202,202,202,202,318,318,295,232,250,245,245,245,250,190,190,225,318,195,195,195,195,195,195,255,255,255,255,255,202,202,202,202,202,225,230,230,230,230,230,230,230,190,180,180,170,170,170,170,332,225,225,191,191,191,191,210,210,210,275,315,315,309,257,195,195,311,311,311,202,202,202,242,250,295,295,259,190,190,190,202,202,195,195,195,256,255,255,256,256,256,256,256,215,204,204,204,204,204,204,204,204,355,202,202,202,202,202,230,230,230,230,245,245,225,225,225,225,225,309,309,195,202,207,207,207,207,207,207,215,215,215,215,202,202,202,202,295,295,340,340,340,265,265,205,205,205,206,255,255,255,255,297,190,195,195,195,202,202,277,306,232,214,200,196,202,202,202,202,202,202,230,230,225,250,250,250,230,230,230,260,196,296,200,240,240,332,295,225,225,225,225,225,225,309,309,309,309,309,240,209,209,214,214,296,200,202,202,202,202,202,296,296,190,200,200,200,265,265,318,257,195,195,195,195,195,318,196,196,196,196,200,205,315,238,238,238,238,238,290,187,187,187,187,187,187,187,187,187,266,205,205,205,205,205,196,196,202,202,202,202,202,250,266,266,290,185,268,232,225,225,225,225,225,225,195,195,195,202,202,202,202,247,290,290,290,295,232,310,310,232,232,232,232,232,232,265,250,184,252,252,252,252,252,207,207,207,207,207,207,207,207,207,188,184,184,184,184,184,184,217,217,217,217,217,179,179,229,202,202,202,202,202,202,202,215,244,244,244,244,244,205,188,200,190,190,245,245,245,270,195,195,195,195,195,195,229,347,233,233,250,250,250,250,203,240,242,242,242,305,304,270,270,305,305,295,300,265,265,184,184,184,202,202,202,202,202,345,205,205,205,205,205,347,245,255,255,255,255,196,196,196,196,256,256,256,204,204,204,204,204,204,212,280,200,200,200,245,245,245,245,212,212,245,245,245,347,347,347,347,250,195,203,203,203,240,207,207,207,207,270,311,311,265,265,203,280,265,265,265,184,184,184,250,202,202,202,202,205,205,205,205,196,196,200,225,315,230,230,238,327,187,187,187,187,187,187,205,205,205,200,200,200,200,200,200,245,245,245,245,245,245,290,205,205,250,250,250,215,225,225,225,225,203,247,185,185,290,290,345,345,203,280,310,310,242,265,265,205,184,184,184,184,184,347,205,215,202,202,202,202,202,205,205,205,205,205,205,226,226,226,226,226,226,303,198,260,260,260,260,250,250,250,250,250,250,250,208,227,185,185,208,200,200,303,200,200,250,250,250,203,203,215,190,188,188,305,305,305,305,305,311,270,270,208,345,215,215,215,215,215,215,215,203,265,265,265,184,184,184,280,202,202,202,250,205,205,205,205,205,235,235,235,305,195,195,205,205,205,205,197,197,197,197,227,227,227,227,227,245,200,200,200,250,250,245,245,245,197,250,250,250,250,305,252,252,203,203,203,203,270,270,180,180,180,203,280,210,210,290,300,300,192,207,207,229,217,217,217,179,244,244,244,244,244,244,188,235,235,195,170,255,188,188,190,229,255,195,195,195,190,190,180,180,180,180,180,275,170,216,229,180,233,191,191,191,191,210,240,275,275,315,315,242,242,240,213,213,295,295,295,259,300,290,207,207,207,207,290,179,300,244,244,244,244,244,260,260,198,185,250,250,250,250,288,190,227,227,188,188,233,190,190,190,190,190,180,303,303,288,200,200,233,233,233,180,180,180,180,304,304,190,190,288,188,188,188,305,242,305,208,208,295,290,300,207,207,207,207,217,217,179,179,244,244,244,244,244,244,244,233,196,196,196,196,196,205,200,200,200,315,315,315,315,230,230,230,230,230,238,238,290,205,190,190,205,205,242,225,266,266,266,266,304,185,233,233,233,233,225,225,225,180,180,247,305,305,253,290,295,295,295,295,300,327,310,185,185,242,242,242,242,196,196,196,196,200,200,200,200,200,194,205,205,207,207,207,207,207,235,217,217,195,244,244,188,212,212,212,240,240,208,208,208,208,208,208,240,188,188,188,190,190,195,195,195,195,216,216,216,216,216,240,191,191,305,305,305,305,253,229,229,229,191,191,240,240,240,240,242,242,190,310,310,184,184,184,184,184,340,340,235,235,295,295,185,185,305,293,293,217,217,217,217,217,217,300,305,244,244,244,244,244,244,205,205,205,262,190,190,305,233,206,206,206,206,250,250,206,206,206,206,206,229,229,180,233,233,233,304,237,237,237,237,233,233,233,233,233,233,216,180,180,180,180,305,235,235,295,300,307,216,216,216,272,185,185,196,196,196,196,205,193,193,293,200,200,200,200,200,200,200,200,210,225,225,225,225,240,250,210,210,261,203,210,210,210,210,210,240,240,240,240,240,240,245,245,212,190,208,208,208,208,208,191,240,210,210,210,210,210,216,216,216,216,250,250,250,250,305,305,295,295,253,253,191,191,191,191,191,191,191,191,240,240,240,240,190,190,190,188,207,203,203,203,310,278,278,184,340,235,200,200,200,200,210,225,225,225,225,225,225,240,207,210,210,210,240,240,240,210,265,234,234,205,205,205,200,196,196,262,262,191,191,191,191,200,200,200,200,200,200,200,295,295,265,192,192,192,240,240,240,198,198,198,207,207,207,207,241,305,230,230,265,325,200,200,225,225,225,225,225,225,225,203,210,210,210,210,240,240,240,240,240,240,240,203,203,203,203,203,236,236,236,236,236,236,236,236,236,236,185,307,260,185,185,185,185,185,185,191,191,250,250,295,195,195,189,189,188,188,188,188,188,203,230,232,232,232,232,252,210,203,203,203,203,203,230,296,296,296,210,210,210,210,210,210,210,210,272,272,252,252,318,307,315,200,200,200,200,225,225,225,225,245,210,210,210,210,210,210,210,210,240,240,240,240,245,245,290,237,237,237,237,265,245,245,245,245,366,197,191,250,315,295,265,265,291,181,181,220,220,203,203,203,203,310,230,205,205,205,205,253,197,197,197,197,265,265,198,198,198,198,315,200,200,200,200,200,200,200,200,200,200,200,200,200,200,200,225,225,210,210,210,210,240,240,240,240,203,255,255,255,255,215,196,256,212,256,256,256,256,256,256,256,308,204,204,204,255,280,212,245,245,245,195,195,188,207,215,241,203,203,203,215,215,215,215,215,265,265,206,329,265,178,178,178,200,200,200,255,297,278,278,200,200,200,200,200,225,225,225,225,240,240,240,240,240,245,245,245,295,200,196,196,196,196,196,196,196,196,196,196,194,290,200,200,315,230,230,225,238,238,238,238,225,187,187,187,187,187,295,266,266,290,225,225,225,188,188,188,188,207,207,207,207,207,241,203,203,203,203,203,203,178,310,310,242,178,178,200,200,200,200,196,205,200,200,200,200,225,225,207,198,210,210,210,210,210,240,198,278,245,245,245,200,278,277,277,191,191,196,196,270,270,240,240,240,240,235,209,209,209,209,314,314,314,314,207,207,207,198,241,241,214,214,214,230,296,296,200,200,200,285,340,224,224,200,200,200,198,235,235,235,240,225,225,225,210,261,261,261,210,210,210,210,210,210,210,210,240,240,240,240,241,245,245,195,195,195,300,191,191,191,178,295,190,190,190,190,180,180,250,265,265,170,170,170,191,191,191,210,210,250,216,275,275,275,311,259,207,240,213,242,242,250,250,185,259,259,315,315,329,176,185,178,178,178,213,205,205,212,212,212,212,240,191,208,208,208,208,240,234,234,234,205,205,205,262,240,200,200,200,240,216,216,216,216,216,216,305,265,240,192,203,248,240,240,240,300,191,191,191,240,240,240,240,240,198,198,198,198,190,305,184,184,300,300,320,235,265,203,203,203,203,201,252,252,252,197,197,265,195,195,225,305,212,208,208,208,184,203,203,232,236,236,236,236,260,185,185,185,185,216,216,253,253,195,195,195,195,195,214,214,214,232,191,191,184,235,240,240,240,240,240,240,240,184,189,189,189,189,189,193,193,190,214,214,214,214,214,214,214,214,214,214,232,232,232,232,232,184,235,296,296,296,210,252,252,252,318,318,307,260,265,305,212,212,208,208,240,216,235,235,235,235,262,215,203,203,220,220,220,220,215,187,185,185,216,253,305,253,253,253,253,240,294,294,294,310,310,310,310,275,275,275,191,240,215,215,215,215,215,215,215,215,215,215,198,198,198,198,340,340,262,262,235,235,240,175,251,212,212,212,208,208,208,208,215,196,196,196,245,256,256,256,270,245,204,265,280,280,216,216,216,216,240,305,305,253,212,212,212,212,212,212,212,212,212,245,265,191,191,191,191,191,240,240,240,240,240,240,251,310,190,207,184,215,215,340,235,265,265,265,265,270,355,302,302,302,305,208,208,255,212,212,208,208,208,208,208,208,208,208,208,208,260,260,260,195,195,195,190,190,190,190,190,225,335,216,216,216,305,305,253,253,225,225,225,225,225,284,284,281,232,191,191,191,191,191,240,240,240,240,240,240,305,190,190,190,190,190,190,190,190,190,190,190,190,191,191,191,191,191,191,265,340,340,340,233,265,265,228,281,281,281,175,175,280,212,212,212,212,208,208,253,201,201,201,201,210,194,194,194,194,210,195,210,216,216,216,216,240,240,305,305,305,253,278,191,191,190,240,240,240,200,200,200,200,200,200,200,232,210,210,210,210,190,254,254,253,310,310,278,184,184,235,235,235,235,235,235,310,310,296,265,232,208,232,232,232,205,205,260,311,311,308,308,236,236,236,236,236,236,265,190,201,201,201,201,201,282,202,202,202,194,194,194,194,230,210,246,246,204,197,197,195,195,195,230,210,234,234,234,234,234,300,300,230,230,230,230,230,230,230,230,230,230,230,230,277,200,200,200,200,210,210,210,210,210,210,210,210,265,265,265,190,190,190,190,315,315,315,315,315,230,230,215,215,215,215,254,253,259,259,235,235,308,308,201,201,201,201,235,194,194,194,194,195,195,195,195,195,235,235,235,235,235,235,215,287,220,185,264,203,220,220,220,220,220,275,198,215,310,185,185,185,230,230,230,230,294,275,275,262,200,200,200,200,200,210,210,210,215,215,215,253,235,235,235,235,198,198,198,198,198,318,279,279,279,233,230,230,230,234,234,234,335,335,308,201,201,201,201,201,194,235,200,195,195,195,195,195,223,223,223,223,223,223,183,240,205,205,205,205,205,205,237,205,255,255,255,265,240,230,230,190,190,190,190,200,200,279,210,210,210,210,210,210,210,210,210,240,240,240,202,202,235,235,235,235,235,235,235,205,205,205,205,310,296,265,237,237,232,308,201,235,253,194,194,194,194,279,195,195,195,195,195,195,195,195,321,321,203,242,205,193,230,230,230,282,210,200,200,200,210,210,210,210,210,185,185,185,185,281,250,250,250,296,235,281,291,195,235,235,235,183,183,183,310,328,195,195,195,195,195,318,205,205,205,205,279,255,240,235,201,194,194,194,194,195,195,253,188,188,188,206,206,206,234,215,215,234,234,234,234,234,250,234,234,314,310,230,230,230,200,200,250,250,180,180,180,180,200,210,210,210,198,254,259,235,235,318,279,279,314,314,236,236,236,236,236,236,236,300,195,202,202,202,202,202,246,300,234,197,197,235,235,235,215,203,203,203,203,198,220,220,275,215,287,234,234,234,234,234,234,234,234,318,185,185,294,294,310,277,275,265,195,190,190,190,190,315,315,315,230,230,230,230,230,230,215,215,215,215,198,198,195,195,195,300,236,236,236,236,236,236,236,236,234,280,201,202,202,202,202,202,197,197,204,308,232,232,232,232,204,188,188,188,204,204,204,204,193,193,193,193,205,205,234,234,234,285,238,265,265,265,190,190,315,300,255,275,260,300,238,238,238,238,238,310,195,324,324,324,170,170,280,255,201,236,236,236,236,315,190,202,202,202,202,321,321,321,203,203,203,203,242,242,242,242,242,185,234,234,234,234,234,190,190,190,190,315,230,300,185,185,250,193,193,300,183,183,183,328,195,195,195,195,275,275,195,195,195,195,195,195,205,205,170,170,170,170,170,280,292,201,201,238,240,300,236,236,236,236,236,236,236,236,315,197,234,224,224,224,224,285,245,212,212,212,202,203,237,200,200,300,234,234,234,234,195,195,170,277,190,190,190,230,230,207,207,207,207,270,188,188,188,188,188,195,195,190,170,201,201,290,237,237,237,237,280,245,245,245,245,202,202,236,236,236,236,236,236,236,258,202,202,201,235,235,235,235,235,203,262,203,203,203,203,203,220,220,220,220,220,220,220,187,185,198,234,234,234,234,234,234,234,300,185,185,185,185,185,185,310,310,240,277,275,215,215,190,315,315,315,230,230,215,215,215,215,300,198,198,198,198,198,198,195,195,195,280,201,201,201,236,236,236,236,236,236,230,315,202,202,202,202,246,204,204,197,234,234,234,234,234,192,205,205,205,205,205,205,200,200,234,234,234,315,192,192,192,192,192,190,190,190,190,190,190,315,315,315,315,230,230,198,198,198,300,300,300,300,300,300,300,320,197,265,320,320,195,195,203,203,203,203,320,170,201,230,230,320,245,245,236,236,236,236,315,190,202,202,246,246,204,210,210,210,210,210,210,210,210,210,224,224,224,224,224,300,245,212,212,200,200,200,300,234,234,234,234,234,234,315,315,258,277,277,277,190,315,315,315,315,230,230,230,230,188,188,188,188,188,195,195,190,190,170,201,237,237,245,202,285,280,202,202,202,202,202,269,252,236,236,236,236,236,230,201,202,202,230,300,204,195,197,195,195,195,255,255,255,255,315,250,180,234,234,234,234,190,261,210,180,180,250,250,265,265,265,265,265,265,190,190,315,315,315,191,210,210,216,216,300,300,300,275,250,315,311,195,195,195,213,213,213,250,250,170,201,201,201,230,230,201,200,194,194,195,195,195,310,224,224,224,224,224,200,285,212,212,188,200,200,200,200,200,235,210,238,269,254,199,230,253,235,235,235,188,188,237,280,310,199,190,296,318,279,199,213,290,290,237,202,202,232,232,232,232,232,316,316,199,199,205,205,205,205,196,196,196,200,200,195,195,195,195,195,195,315,315,315,205,230,238,238,193,255,255,255,187,187,187,190,190,190,216,261,275,275,180,180,180,250,205,205,205,205,193,191,191,210,210,225,225,225,216,216,216,275,315,311,193,193,240,247,247,242,242,242,242,320,290,250,193,196,196,185,193,200,200,315,315,315,315,315,230,230,230,275,238,238,236,205,187,187,235,197,195,195,195,195,195,195,195,197,300,205,205,205,205,220,205,205,205,205,197,197,197,252,227,227,227,227,245,305,205,205,197,197,197,340,340,266,225,236,305,180,180,180,247,247,192,192,196,230,315,315,238,238,238,238,187,187,187,187,193,198,198,198,198,198,250,250,250,250,250,250,250,200,190,227,227,227,227,227,227,288,194,275,205,205,205,205,225,266,266,193,200,200,225,225,280,193,193,190,190,305,188,188,188,188,188,247,247,194,290,270,242,196,196,196,196,196,196,200,200,200,315,315,315,238,238,203,203,203,195,236,236,236,236,236,236,236,252,185,185,185,205,275,195,195,195,195,214,205,205,205,225,189,189,252,214,214,214,214,214,214,232,232,232,232,232,232,232,232,193,193,290,290,272,252,252,307,242,230,295,195,195,195,195,195,195,210,255,255,213,235,235,235,235,235,235,235,235,195,195,195,195,300,205,205,205,205,205,205,205,220,220,197,227,227,227,190,190,191,210,197,197,197,197,340,191,210,213,206,305,305,305,252,252,275,275,311,213,240,180,213,213,300,300,192,300,310,310,310,263,195,195,195,195,195,195,240,255,255,255,250,250,311,277,314,232,232,232,232,232,232,306,190,190,190,190,261,261,310,180,180,306,306,170,170,170,210,210,210,210,210,210,216,216,275,311,311,240,240,240,340,190,209,209,314,200,214,214,213,296,296,190,190,190,190,200,204,250,250,250,250,265,310,315,204,204,204,204,204,195,195,195,191,191,226,226,226,226,250,303,198,198,190,250,250,250,250,250,250,250,250,250,250,188,227,227,227,227,190,311,180,180,240,250,303,190,200,200,200,170,170,170,170,170,191,210,280,265,275,315,311,213,190,190,190,190,190,288,188,188,188,188,213,213,213,242,305,305,270,185,315,226,226,226,226,226,288,260,235,195,194,270,270,195,220,195,195,195,195,195,195,195,198,198,198,198,250,300,300,250,250,250,250,250,250,250,288,227,185,205,205,205,205,197,263,220,220,252,206,227,227,227,227,227,340,227,227,245,245,245,245,194,194,197,197,197,340,200,200,252,265,190,190,188,188,300,226,226,226,226,226,226,226,226,303,198,250,198,198,198,198,250,250,250,250,250,250,188,190,277,277,277,306,190,232,232,232,196,214,240,190,185,185,185,196,196,270,306,306,303,200,200,200,240,240,296,200,209,209,265,214,190,190,190,188,188,214,214,296,190,190,200,200,265,204,204,279,279,178,226,226,226,226,315,198,198,198,280,250,250,250,321,321,203,203,203,250,202,202,202,242,242,242,242,242,242,275,202,291,227,227,185,303,303,303,200,200,200,200,200,200,200,200,185,185,250,250,190,288,188,188,188,188,188,188,188,183,183,305,275,275,270,195,195,195,195,291,291,257,279,255,315,315,178,235,235,205,300,300,252,205,205,205,205,205,210,220,193,193,193,197,227,227,227,227,287,287,205,185,185,185,197,197,197,197,197,204,204,245,245,245,205,205,205,205,204,204,204,204,204,204,206,302,235,235,305,252,252,180,180,180,300,336,250,250,245,245,210,210,210,252,336,336,205,205,220,220,200,200,200,200,200,200,200,200,216,262,200,197,197,197,210,227,227,227,256,245,245,250,250,193,206,206,206,237,240,206,206,206,206,237,237,237,237,193,193,233,233,233,233,305,252,180,210,210,336,256,256,307,307,200,281,281,281,281,216,216,216,347,275,200,200,210,210,210,193,240,240,347,347,235,235,235,235,235,235,235,235,250,203,203,203,203,220,287,234,234,234,234,205,205,205,205,196,196,196,196,196,196,196,240,187,187,187,262,262,262,200,200,200,200,318,318,318,185,185,294,264,215,192,192,192,240,240,310,275,275,215,215,215,215,215,198,198,198,300,265,265,320,198,198,198,198,262,262,205,235,235,235,235,235,203,203,240,220,220,220,220,287,187,215,188,188,234,215,280,206,180,234,269,269,269,269,215,215,215,320,234,234,234,234,234,234,234,234,234,295,310,310,310,310,295,185,185,185,185,215,294,264,250,250,250,250,180,180,196,196,196,196,196,196,196,215,185,215,215,215,215,320,320,320,320,185,185,185,185,314,235,235,215,203,203,203,203,203,203,203,240,185,220,220,220,262,187,187,187,187,187,193,193,193,193,193,185,197,318,318,318,215,310,185,185,185,185,266,342,342,185,185,185,185,185,197,197,197,294,294,310,310,275,205,204,204,204,204,204,250,215,215,215,215,235,235,235,245,185,250,240,245,245,245,218,235,220,275,203,203,203,185,294,220,220,275,185,187,190,187,187,205,205,205,205,255,255,255,325,265,265,318,185,294,190,190,190,190,190,205,328,237,310,215,215,215,215,215,215,240,240,240,240,240,178,202,237,205,205,205,205,262,185,250,237,237,237,237,237,237,178,178,178,178,209,203,203,203,215,220,220,220,220,220,215,185,215,215,215,321,321,203,203,203,275,281,202,202,202,202,242,242,242,328,291,318,294,215,294,185,185,185,294,310,310,310,275,185,215,215,185,185,185,185,185,185,185,183,250,281,281,281,236,183,291,262,262,275,185,185,195,195,195,238,236,236,236,236,236,236,257,265,234,205,240,192,196,196,196,255,255,255,196,196,256,256,256,256,256,256,308,204,204,204,204,204,204,204,205,280,262,200,200,212,212,212,212,212,245,245,245,245,192,192,240,240,240,203,198,300,300,320,320,203,255,255,205,203,203,265,205,205,355,355,206,206,206,302,265,234,234,234,234,234,205,192,196,224,224,224,224,224,224,290,200,290,300,285,212,212,212,212,212,212,203,203,200,200,300,270,262,262,262,200,192,192,192,240,240,240,240,240,240,240,240,240,240,240,265,207,198,198,265,320,188,188,265,190,190,190,203,203,202,202,247,234,234,234,200,205,205,232,232,232,232,232,232,232,262,200,196,196,306,306,240,240,240,240,240,240,198,198,240,240,240,240,240,240,315,209,209,209,209,209,190,314,203,214,214,214,214,204,296,190,265,265,265,203,203,203,203,197,315,204,234,234,234,234,203,205,205,203,236,236,236,236,236,236,236,236,236,236,236,193,185,200,190,320,192,192,192,192,192,192,198,247,198,189,193,193,198,203,214,214,272,232,232,232,232,232,232,232,232,340,300,300,265,265,320,320,296,272,272,272,252,252,203,203,203,203,203,203,307,247,245,295,190,245,260,260,260,260,308,308,195,284,232,195,195,195,195,195,195,284,308,204,204,235,235,235,232,232,232,232,232,232,232,232,190,190,190,190,190,190,190,190,190,335,335,188,188,188,188,205,235,235,193,193,193,193,193,193,193,225,225,225,191,232,285,285,190,190,190,308,275,200,200,260,195,191,191,191,265,238,256,214,190,210,324,260,197,260,260,260,260,260,260,190,233,235,195,195,195,195,195,308,235,235,190,190,190,190,190,190,223,223,223,223,223,223,265,195,226,313,205,205,205,205,205,265,295,225,225,232,232,232,328,190,195,195,195,195,195,195,195,195,195,191,265,226,226,226,226,226,226,226,205,205,205,185,185,185,183,183,183,183,288,228,281,260,260,207,281,284,195,195,195,195,190,308,308,308,308,190,190,190,190,265,290,290,237,245,245,245,245,245,245,310,225,190,260,210,210,210,210,190,190,190,291,291,198,220,191,191,265,265,251,251,205,310,310,366,366,205,205,205,253,197,197,265,265,233,260,260,228,288,288,198,198,198,198,281,200,200,200,200,200,250,260,260,260,260,335,195,195,195,195,195,195,195,195,228,240,265,260,190,190,190,190,190,335,335,203,203,203,203,203,203,236,236,236,236,236,236,236,260,260,260,185,185,185,185,185,185,185,185,225,225,225,225,195,195,190,190,190,189,189,189,318,191,191,191,191,214,214,214,214,214,214,232,232,232,232,232,232,307,272,272,272,252,233,233,260,260,281,190,190,190,318,318,295,295,260,260,260,260,190,281,225,191,233,195,195,195,195,195,190,191,190,190,190,190,190,228,335,290,245,237,237,237,245,245,245,245,245,245,245,245,265,225,225,225,225,260,265,210,210,210,210,210,190,190,220,220,191,191,251,200,197,205,205,205,214,250,233,233,260,260,288,288,198,198,198,198,228,228,228,281,200,200,190,270,204,204,204,232,232,232,232,324,188,188,280,280,206,234,269,215,215,215,215,215,234,234,234,234,188,188,188,188,188,193,235,235,235,235,235,235,204,204,204,210,193,193,193,193,193,193,205,205,205,310,310,285,285,250,180,180,261,308,275,198,198,198,198,198,260,202,238,275,324,295,204,204,204,232,232,232,232,232,232,195,200,200,200,200,216,206,188,188,188,188,204,204,204,204,193,193,193,193,193,205,205,205,205,205,205,205,262,206,206,250,250,206,308,275,275,237,237,237,237,237,237,237,237,233,233,233,233,233,233,233,233,210,210,210,310,310,255,307,281,281,281,216,216,216,216,216,275,347,204,204,204,204,232,232,232,232,232,232,232,223,223,223,223,223,223,265,313,205,205,205,255,255,265,265,188,238,204,238,193,193,193,193,193,324,310,238,190,190,202,261,261,310,308,275,195,195,195,195,195,195,195,260,240,240,240,240,240,202,202,238,238,238,238,205,205,205,324,324,183,183,277,237,209,325,204,204,204,232,224,224,224,224,224,237,212,212,212,212,212,212,212,203,203,203,200,200,200,200,202,188,300,300,300,188,235,235,235,210,193,193,193,205,205,285,261,275,238,238,238,195,188,188,188,188,237,285,324,324,340,305,190,190,190,190,237,237,197,197,280,202,202,202,202,202,202,255,188,188,206,234,215,234,223,223,223,223,313,226,255,313,313,280,206,206,206,269,269,215,215,215,215,250,250,205,205,205,205,205,205,205,205,205,205,205,295,255,255,255,255,255,255,265,265,234,234,234,234,180,196,190,190,190,190,190,180,180,180,328,328,196,196,195,195,195,195,195,195,226,226,240,202,202,202,320,226,205,188,188,188,269,269,269,215,215,215,215,215,314,234,321,281,281,242,202,202,202,202,202,242,195,242,242,242,242,242,242,242,242,242,242,242,242,242,242,242,242,242,185,234,234,234,234,234,234,234,234,310,310,320,250,180,196,185,185,281,250,250,250,250,250,250,250,250,257,202,240,183,183,183,183,275,328,195,195,195,246,246,292,292,314,314,291,240,257,257,235,188,196,206,206,206,206,206,206,206,206,269,234,234,215,215,215,215,320,295,250,290,290,237,237,237,237,245,245,245,245,245,245,245,234,234,234,234,234,234,234,234,234,234,234,310,310,250,180,180,180,180,196,196,210,210,210,210,210,220,198,320,320,251,251,265,200,310,205,198,253,197,265,265,314,198,198,198,198,314,200,200,200,200,200,250,250,223,223,223,223,223,226,255,190,205,205,205,205,205,195,255,255,255,190,340,210,210,210,210,210,270,224,224,224,224,255,280,212,238,200,200,200,188,190,190,328,195,195,195,238,246,226,226,226,226,205,188,188,188,188,188,188,188,188,183,190,190,190,190,190,190,190,205,205,205,205,205,265,250,237,223,223,223,205,205,205,205,255,255,295,321,250,203,203,203,203,203,195,195,185,185,185,185,236,250,250,250,205,193,193,240,240,240,240,202,202,281,281,281,281,205,205,290,183,183,183,183,205,183,183,328,328,195,205,205,205,205,292,255,236,236,236,236,236,236,250,240,203,203,203,236,236,236,236,236,236,236,260,277,314,296,232,232,232,232,232,314,196,185,185,185,185,196,196,196,195,195,195,270,306,306,189,193,240,240,240,214,209,209,209,209,265,214,214,214,214,214,232,214,296,200,190,190,190,200,200,224,277,232,232,232,232,232,232,232,232,240,296,200,200,200,200,200,200,200,200,200,206,206,205,206,205,205,205,205,205,262,306,206,206,250,250,250,307,206,206,206,206,237,237,237,233,233,233,240,240,240,209,209,209,209,209,209,209,314,214,214,200,200,200,200,200,190,200,307,305,305,281,216,275,272,277,277,277,232,232,232,232,232,314,193,193,193,193,193,190,287,198,198,342,342,185,185,185,185,185,197,197,196,196,196,196,270,306,306,250,250,232,260,232,235,235,309,240,240,240,240,240,209,314,314,214,214,214,296,296,190,190,190,190,190,200,200,200,265,265,250,245,245,190,190,192,192,212,212,340,340,210,210,210,270,212,224,224,224,224,224,290,238,201,200,193,193,193,285,285,238,212,212,212,212,212,212,212,238,203,200,200,200,200,300,300,201,201,201,287,287,287,287,287,302,198,198,198,198,198,342,185,185,185,185,185,235,240,197,197,197,250,250,250,193,350,302,302,302,235,235,235,207,238,325,193,193,193,188,280,285,285,193,193,193,193,170,309,185,250,204,235,196,196,196,196,196,196,212,212,308,204,204,204,204,204,204,204,204,265,195,280,280,287,287,232,342,170,170,197,185,185,185,185,185,197,197,197,197,350,212,212,212,245,204,204,204,204,232,235,235,250,195,195,195,195,195,195,207,265,265,265,265,270,205,205,302,265,255,280,193,193,193,193,193,290,290,197,237,237,366,245,245,245,245,245,287,198,342,342,342,342,185,185,185,185,197,210,210,210,210,210,210,210,204,204,204,204,232,232,302,302,302,302,302,260,235,235,220,309,251,251,251,310,205,205,197,197,197,198,198,198,198,198,245,245,190,260,260,260,260,260,200,200,200,200,200,200,250,255,195,195,195,196,196,196,196,196,212,212,256,256,256,256,256,256,265,200,200,200,200,308,308,204,204,204,204,280,280,280,205,205,205,205,205,205,262,262,262,215,206,206,206,206,237,250,250,245,245,206,206,206,206,237,237,237,237,195,195,195,195,233,233,233,207,207,207,275,215,215,255,255,290,213,237,237,237,237,237,237,237,245,245,245,245,245,245,245,245,245,245,190,321,321,321,275,203,203,203,240,250,202,202,242,281,193,242,242,242,193,255,210,210,210,210,213,190,190,330,185,185,185,275,250,250,291,251,193,193,193,181,220,220,220,310,213,251,197,183,183,366,205,197,257,237,237,237,366,251,197,245,366,197,330,245,245,245,245,245,245,198,210,210,210,210,220,220,220,197,251,251,251,197,310,310,366,205,205,205,330,330,330,330,330,330,253,253,253,197,265,265,265,198,198,198],\"y0\":\" \",\"yaxis\":\"y\",\"type\":\"box\"},{\"alignmentgroup\":\"True\",\"hovertemplate\":\"Tackle=%{x}\\u003cbr\\u003ePlayer Weight=%{y}\\u003cextra\\u003e\\u003c\\u002fextra\\u003e\",\"legendgroup\":\"0\",\"marker\":{\"color\":\"#EF553B\"},\"name\":\"0\",\"notched\":false,\"offsetgroup\":\"0\",\"orientation\":\"v\",\"showlegend\":true,\"x\":[0,0,0,0,0,0,0,0,0,0,0,0,0,0,0,0,0,0,0,0,0,0,0,0,0,0,0,0,0,0,0,0,0,0,0,0,0,0,0,0,0,0,0,0,0,0,0,0,0,0,0,0,0,0,0,0,0,0,0,0,0,0,0,0,0,0,0,0,0,0,0,0,0,0,0,0,0,0,0,0,0,0,0,0,0,0,0,0,0,0,0,0,0,0,0,0,0,0,0,0,0,0,0,0,0,0,0,0,0,0,0,0,0,0,0,0,0,0,0,0,0,0,0,0,0,0,0,0,0,0,0,0,0,0,0,0,0,0,0,0,0,0,0,0,0,0,0,0,0,0,0,0,0,0,0,0,0,0,0,0,0,0,0,0,0,0,0,0,0,0,0,0,0,0,0,0,0,0,0,0,0,0,0,0,0,0,0,0,0,0,0,0,0,0,0,0,0,0,0,0,0,0,0,0,0,0,0,0,0,0,0,0,0,0,0,0,0,0,0,0,0,0,0,0,0,0,0,0,0,0,0,0,0,0,0,0,0,0,0,0,0,0,0,0,0,0,0,0,0,0,0,0,0,0,0,0,0,0,0,0,0,0,0,0,0,0,0,0,0,0,0,0,0,0,0,0,0,0,0,0,0,0,0,0,0,0,0,0,0,0,0,0,0,0,0,0,0,0,0,0,0,0,0,0,0,0,0,0,0,0,0,0,0,0,0,0,0,0,0,0,0,0,0,0,0,0,0,0,0,0,0,0,0,0,0,0,0,0,0,0,0,0,0,0,0,0,0,0,0,0,0,0,0,0,0,0,0,0,0,0,0,0,0,0,0,0,0,0,0,0,0,0,0,0,0,0,0,0,0,0,0,0,0,0,0,0,0,0,0,0,0,0,0,0,0,0,0,0,0,0,0,0,0,0,0,0,0,0,0,0,0,0,0,0,0,0,0,0,0,0,0,0,0,0,0,0,0,0,0,0,0,0,0,0,0,0,0,0,0,0,0,0,0,0,0,0,0,0,0,0,0,0,0,0,0,0,0,0,0,0,0,0,0,0,0,0,0,0,0,0,0,0,0,0,0,0,0,0,0,0,0,0,0,0,0,0,0,0,0,0,0,0,0,0,0,0,0,0,0,0,0,0,0,0,0,0,0,0,0,0,0,0,0,0,0,0,0,0,0,0,0,0,0,0,0,0,0,0,0,0,0,0,0,0,0,0,0,0,0,0,0,0,0,0,0,0,0,0,0,0,0,0,0,0,0,0,0,0,0,0,0,0,0,0,0,0,0,0,0,0,0,0,0,0,0,0,0,0,0,0,0,0,0,0,0,0,0,0,0,0,0,0,0,0,0,0,0,0,0,0,0,0,0,0,0,0,0,0,0,0,0,0,0,0,0,0,0,0,0,0,0,0,0,0,0,0,0,0,0,0,0,0,0,0,0,0,0,0,0,0,0,0,0,0,0,0,0,0,0,0,0,0,0,0,0,0,0,0,0,0,0,0,0,0,0,0,0,0,0,0,0,0,0,0,0,0,0,0,0,0,0,0,0,0,0,0,0,0,0,0,0,0,0,0,0,0,0,0,0,0,0,0,0,0,0,0,0,0,0,0,0,0,0,0,0,0,0,0,0,0,0,0,0,0,0,0,0,0,0,0,0,0,0,0,0,0,0,0,0,0,0,0,0,0,0,0,0,0,0,0,0,0,0,0,0,0,0,0,0,0,0,0,0,0,0,0,0,0,0,0,0,0,0,0,0,0,0,0,0,0,0,0,0,0,0,0,0,0,0,0,0,0,0,0,0,0,0,0,0,0,0,0,0,0,0,0,0,0,0,0,0,0,0,0,0,0,0,0,0,0,0,0,0,0,0,0,0,0,0,0,0,0,0,0,0,0,0,0,0,0,0,0,0,0,0,0,0,0,0,0,0,0,0,0,0,0,0,0,0,0,0,0,0,0,0,0,0,0,0,0,0,0,0,0,0,0,0,0,0,0,0,0,0,0,0,0,0,0,0,0,0,0,0,0,0,0,0,0,0,0,0,0,0,0,0,0,0,0,0,0,0,0,0,0,0,0,0,0,0,0,0,0,0,0,0,0,0,0,0,0,0,0,0,0,0,0,0,0,0,0,0,0,0,0,0,0,0,0,0,0,0,0,0,0,0,0,0,0,0,0,0,0,0,0,0,0,0,0,0,0,0,0,0,0,0,0,0,0,0,0,0,0,0,0,0,0,0,0,0,0,0,0,0,0,0,0,0,0,0,0,0,0,0,0,0,0,0,0,0,0,0,0,0,0,0,0,0,0,0,0,0,0,0,0,0,0,0,0,0,0,0,0,0,0,0,0,0,0,0,0,0,0,0,0,0,0,0,0,0,0,0,0,0,0,0,0,0,0,0,0,0,0,0,0,0,0,0,0,0,0,0,0,0,0,0,0,0,0,0,0,0,0,0,0,0,0,0,0,0,0,0,0,0,0,0,0,0,0,0,0,0,0,0,0,0,0,0,0,0,0,0,0,0,0,0,0,0,0,0,0,0,0,0,0,0,0,0,0,0,0,0,0,0,0,0,0,0,0,0,0,0,0,0,0,0,0,0,0,0,0,0,0,0,0,0,0,0,0,0,0,0,0,0,0,0,0,0,0,0,0,0,0,0,0,0,0,0,0,0,0,0,0,0,0,0,0,0,0,0,0,0,0,0,0,0,0,0,0,0,0,0,0,0,0,0,0,0,0,0,0,0,0,0,0,0,0,0,0,0,0,0,0,0,0,0,0,0,0,0,0,0,0,0,0,0,0,0,0,0,0,0,0,0,0,0,0,0,0,0,0,0,0,0,0,0,0,0,0,0,0,0,0,0,0,0,0,0,0,0,0,0,0,0,0,0,0,0,0,0,0,0,0,0,0,0,0,0,0,0,0,0,0,0,0,0,0,0,0,0,0,0,0,0,0,0,0,0,0,0,0,0,0,0,0,0,0,0,0,0,0,0,0,0,0,0,0,0,0,0,0,0,0,0,0,0,0,0,0,0,0,0,0,0,0,0,0,0,0,0,0,0,0,0,0,0,0,0,0,0,0,0,0,0,0,0,0,0,0,0,0,0,0,0,0,0,0,0,0,0,0,0,0,0,0,0,0,0,0,0,0,0,0,0,0,0,0,0,0,0,0,0,0,0,0,0,0,0,0,0,0,0,0,0,0,0,0,0,0,0,0,0,0,0,0,0,0,0,0,0,0,0,0,0,0,0,0,0,0,0,0,0,0,0,0,0,0,0,0,0,0,0,0,0,0,0,0,0,0,0,0,0,0,0,0,0,0,0,0,0,0,0,0,0,0,0,0,0,0,0,0,0,0,0,0,0,0,0,0,0,0,0,0,0,0,0,0,0,0,0,0,0,0,0,0,0,0,0,0,0,0,0,0,0,0,0,0,0,0,0,0,0,0,0,0,0,0,0,0,0,0,0,0,0,0,0,0,0,0,0,0,0,0,0,0,0,0,0,0,0,0,0,0,0,0,0,0,0,0,0,0,0,0,0,0,0,0,0,0,0,0,0,0,0,0,0,0,0,0,0,0,0,0,0,0,0,0,0,0,0,0,0,0,0,0,0,0,0,0,0,0,0,0,0,0,0,0,0,0,0,0,0,0,0,0,0,0,0,0,0,0,0,0,0,0,0,0,0,0,0,0,0,0,0,0,0,0,0,0,0,0,0,0,0,0,0,0,0,0,0,0,0,0,0,0,0,0,0,0,0,0,0,0,0,0,0,0,0,0,0,0,0,0,0,0,0,0,0,0,0,0,0,0,0,0,0,0,0,0,0,0,0,0,0,0,0,0,0,0,0,0,0,0,0,0,0,0,0,0,0,0,0,0,0,0,0,0,0,0,0,0,0,0,0,0,0,0,0,0,0,0,0,0,0,0,0,0,0,0,0,0,0,0,0,0,0,0,0,0,0,0,0,0,0,0,0,0,0,0,0,0,0,0,0,0,0,0,0,0,0,0,0,0,0,0,0,0,0,0,0,0,0,0,0,0,0,0,0,0,0,0,0,0,0,0,0,0,0,0,0,0,0,0,0,0,0,0,0,0,0,0,0,0,0,0,0,0,0,0,0,0,0,0,0,0,0,0,0,0,0,0,0,0,0,0,0,0,0,0,0,0,0,0,0,0,0,0,0,0,0,0,0,0,0,0,0,0,0,0,0,0,0,0,0,0,0,0,0,0,0,0,0,0,0,0,0,0,0,0,0,0,0,0,0,0,0,0,0,0,0,0,0,0,0,0,0,0,0,0,0,0,0,0,0,0,0,0,0,0,0,0,0,0,0,0,0,0,0,0,0,0,0,0,0,0,0,0,0,0,0,0,0,0,0,0,0,0,0,0,0,0,0,0,0,0,0,0,0,0,0,0,0,0,0,0,0,0,0,0,0,0,0,0,0,0,0,0,0,0,0,0,0,0,0,0,0,0,0,0,0,0,0,0,0,0,0,0,0,0,0,0,0,0,0,0,0,0,0,0,0,0,0,0,0,0,0,0,0,0,0,0,0,0,0,0,0,0,0,0,0,0,0,0,0,0,0,0,0,0,0,0,0,0,0,0,0,0,0,0,0,0,0,0,0,0,0,0,0,0,0,0,0,0,0,0,0,0,0,0,0,0,0,0,0,0,0,0,0,0,0,0,0,0,0,0,0,0,0,0,0,0,0,0,0,0,0,0,0,0,0,0,0,0,0,0,0,0,0,0,0,0,0,0,0,0,0,0,0,0,0,0,0,0,0,0,0,0,0,0,0,0,0,0,0,0,0,0,0,0,0,0,0,0,0,0,0,0,0,0,0,0,0,0,0,0,0,0,0,0,0,0,0,0,0,0,0,0,0,0,0,0,0,0,0,0,0,0,0,0,0,0,0,0,0,0,0,0,0,0,0,0,0,0,0,0,0,0,0,0,0,0,0,0,0,0,0,0,0,0,0,0,0,0,0,0,0,0,0,0,0,0,0,0,0,0,0,0,0,0,0,0,0,0,0,0,0,0,0,0,0,0,0,0,0,0,0,0,0,0,0,0,0,0,0,0,0,0,0,0,0,0,0,0,0,0,0,0,0,0,0,0,0,0,0,0,0,0,0,0,0,0,0,0,0,0,0,0,0,0,0,0,0,0,0,0,0,0,0,0,0,0,0,0,0,0,0,0,0,0,0,0,0,0,0,0,0,0,0,0,0,0,0,0,0,0,0,0,0,0,0,0,0,0,0,0,0,0,0,0,0,0,0,0,0,0,0,0,0,0,0,0,0,0,0,0,0,0,0,0,0,0,0,0,0,0,0,0,0,0,0,0,0,0,0,0,0,0,0,0,0,0,0,0,0,0,0,0,0,0,0,0,0,0,0,0,0,0,0,0,0,0,0,0,0,0,0,0,0,0,0,0,0,0,0,0,0,0,0,0,0,0,0,0,0,0,0,0,0,0,0,0,0,0,0,0,0,0,0,0,0,0,0,0,0,0,0,0,0,0,0,0,0,0,0,0,0,0,0,0,0,0,0,0,0,0,0,0,0,0,0,0,0,0,0,0,0,0,0,0,0,0,0,0,0,0,0,0,0,0,0,0,0,0,0,0,0,0,0,0,0,0,0,0,0,0,0,0,0,0,0,0,0,0,0,0,0,0,0,0,0,0,0,0,0,0,0,0,0,0,0,0,0,0,0,0,0,0,0,0,0,0,0,0,0,0,0,0,0,0,0,0,0,0,0,0,0,0,0,0,0,0,0,0,0,0,0,0,0,0,0,0,0,0,0,0,0,0,0,0,0,0,0,0,0,0,0,0,0,0,0,0,0,0,0,0,0,0,0,0,0,0,0,0,0,0,0,0,0,0,0,0,0,0,0,0,0,0,0,0,0,0,0,0,0,0,0,0,0,0,0,0,0,0,0,0,0,0,0,0,0,0,0,0,0,0,0,0,0,0,0,0,0,0,0,0,0,0,0,0,0,0,0,0,0,0,0,0,0,0,0,0,0,0,0,0,0,0,0,0,0,0,0,0,0,0,0,0,0,0,0,0,0,0,0,0,0,0,0,0,0,0,0,0,0,0,0,0,0,0,0,0,0,0,0,0,0,0,0,0,0,0,0,0,0,0,0,0,0,0,0,0,0,0,0,0,0,0,0,0,0,0,0,0,0,0,0,0,0,0,0,0,0,0,0,0,0,0,0,0,0,0,0,0,0,0,0,0,0,0,0,0,0,0,0,0,0,0,0,0,0,0,0,0,0,0,0,0,0,0,0,0,0,0,0,0,0,0,0,0,0,0,0,0,0,0,0,0,0,0,0,0,0,0,0,0,0,0,0,0,0,0,0,0,0,0,0,0,0,0,0,0,0,0,0,0,0,0,0,0,0,0,0,0,0,0,0,0,0,0,0,0,0,0,0,0,0,0,0,0,0,0,0,0,0,0,0,0,0,0,0,0,0,0,0,0,0,0,0,0,0,0,0,0,0,0,0,0,0,0,0,0,0,0,0,0,0,0,0,0,0,0,0,0,0,0,0,0,0,0,0,0,0,0,0,0,0,0,0,0,0,0,0,0,0,0,0,0,0,0,0,0,0,0,0,0,0,0,0,0,0,0,0,0,0,0,0,0,0,0,0,0,0,0,0,0,0,0,0,0,0,0,0,0,0,0,0,0,0,0,0,0,0,0,0,0,0,0,0,0,0,0,0,0,0,0,0,0,0,0,0,0,0,0,0,0,0,0,0,0,0,0,0,0,0,0,0,0,0,0,0,0,0,0,0,0,0,0,0,0,0,0,0,0,0,0,0,0,0,0,0,0,0,0,0,0,0,0,0,0,0,0,0,0,0,0,0,0,0,0,0,0,0,0,0,0,0,0,0,0,0,0,0,0,0,0,0,0,0,0,0,0,0,0,0,0,0,0,0,0,0,0,0,0,0,0,0,0,0,0,0,0,0,0,0,0,0,0,0,0,0,0,0,0,0,0,0,0,0,0,0,0,0,0,0,0,0,0,0,0,0,0,0,0,0,0,0,0,0,0,0,0,0,0,0,0,0,0,0,0,0,0,0,0,0,0,0,0,0,0,0,0,0,0,0,0,0,0,0,0,0,0,0,0,0,0,0,0,0,0,0,0,0,0,0,0,0,0,0,0,0,0,0,0,0,0,0,0,0,0,0,0,0,0,0,0,0,0,0,0,0,0,0,0,0,0,0,0,0,0,0,0,0,0,0,0,0,0,0,0,0,0,0,0,0,0,0,0,0,0,0,0,0,0,0,0,0,0,0,0,0,0,0,0,0,0,0,0,0,0,0,0,0,0,0,0,0,0,0,0,0,0,0,0,0,0,0,0,0,0,0,0,0,0,0,0,0,0,0,0,0,0,0,0,0,0,0,0,0,0,0,0,0,0,0,0,0,0,0,0,0,0,0,0,0,0,0,0,0,0,0,0,0,0,0,0,0,0,0,0,0,0,0,0,0,0,0,0,0,0,0,0,0,0,0,0,0,0,0,0,0,0,0,0,0,0,0,0,0,0,0,0,0,0,0,0,0,0,0,0,0,0,0,0,0,0,0,0,0,0,0,0,0,0,0,0,0,0,0,0,0,0,0,0,0,0,0,0,0,0,0,0,0,0,0,0,0,0,0,0,0,0,0,0,0,0,0,0,0,0,0,0,0,0,0,0,0,0,0,0,0,0,0,0,0,0,0,0,0,0,0,0,0,0,0,0,0,0,0,0,0,0,0,0,0,0,0,0,0,0,0,0,0,0,0,0,0,0,0,0,0,0,0,0,0,0,0,0,0,0,0,0,0,0,0,0,0,0,0,0,0,0,0,0,0,0,0,0,0,0,0,0,0,0,0,0,0,0,0,0,0,0,0,0,0,0,0,0,0,0,0,0,0,0,0,0,0,0,0,0,0,0,0,0,0,0,0,0,0,0,0,0,0,0,0,0,0,0,0,0,0,0,0,0,0,0,0,0,0,0,0,0,0,0,0,0,0,0,0,0,0,0,0,0,0,0,0,0,0,0,0,0,0,0,0,0,0,0,0,0,0,0,0,0,0,0,0,0,0,0,0,0,0,0,0,0,0,0,0,0,0,0,0,0,0,0,0,0,0,0,0,0,0,0,0,0,0,0,0,0,0,0,0,0,0,0,0,0,0,0,0,0,0,0,0,0,0,0,0,0,0,0,0,0,0,0,0,0,0,0,0,0,0,0,0,0,0,0,0,0,0,0,0,0,0,0,0,0,0,0,0,0,0,0,0,0,0,0,0,0,0,0,0,0,0,0,0,0,0,0,0,0,0,0,0,0,0,0,0,0,0,0,0,0,0,0,0,0,0,0,0,0,0,0,0,0,0,0,0,0,0,0,0,0,0,0,0,0,0,0,0,0,0,0,0,0,0,0,0,0,0,0,0,0,0,0,0,0,0,0,0,0,0,0,0,0,0,0,0,0,0,0,0,0,0,0,0,0,0,0,0,0,0,0,0,0,0,0,0,0,0,0,0,0,0,0,0,0,0,0,0,0,0,0,0,0,0,0,0,0,0,0,0,0,0,0,0,0,0,0,0,0,0,0,0,0,0,0,0,0,0,0,0,0,0,0,0,0,0,0,0,0,0,0,0,0,0,0,0,0,0,0,0,0,0,0,0,0,0,0,0,0,0,0,0,0,0,0,0,0,0,0,0,0,0,0,0,0,0,0,0,0,0,0,0,0,0,0,0,0,0,0,0,0,0,0,0,0,0,0,0,0,0,0,0,0,0,0,0,0,0,0,0,0,0,0,0,0,0,0,0,0,0,0,0,0,0,0,0,0,0,0,0,0,0,0,0,0,0,0,0,0,0,0,0,0,0,0,0,0,0,0,0,0,0,0,0,0,0,0,0,0,0,0,0,0,0,0,0,0,0,0,0,0,0,0,0,0,0,0,0,0,0,0,0,0,0,0,0,0,0,0,0,0,0,0,0,0,0,0,0,0,0,0,0,0,0,0,0,0,0,0,0,0,0,0,0,0,0,0,0,0,0,0,0,0,0,0,0,0,0,0,0,0,0,0,0,0,0,0,0,0,0,0,0,0,0,0,0,0,0,0,0,0,0,0,0,0,0,0,0,0,0,0,0,0,0,0,0,0,0,0,0,0,0,0,0,0,0,0,0,0,0,0,0,0,0,0,0,0,0,0,0,0,0,0,0,0,0,0,0,0,0,0,0,0,0,0,0,0,0,0,0,0,0,0,0,0,0,0,0,0,0,0,0,0,0,0,0,0,0,0,0,0,0,0,0,0,0,0,0,0,0,0,0,0,0,0,0,0,0,0,0,0,0,0,0,0,0,0,0,0,0,0,0,0,0,0,0,0,0,0,0,0,0,0,0,0,0,0,0,0,0,0,0,0,0,0,0,0,0,0,0,0,0,0,0,0,0,0,0,0,0,0,0,0,0,0,0,0,0,0,0,0,0,0,0,0,0,0,0,0,0,0,0,0,0,0,0,0,0,0,0,0,0,0,0,0,0,0,0,0,0,0,0,0,0,0,0,0,0,0,0,0,0,0,0,0,0,0,0,0,0,0,0,0,0,0,0,0,0,0,0,0,0,0,0,0,0,0,0,0,0,0,0,0,0,0,0,0,0,0,0,0,0,0,0,0,0,0,0,0,0,0,0,0,0,0,0,0,0,0,0,0,0,0,0,0,0,0,0,0,0,0,0,0,0,0,0,0,0,0,0,0,0,0,0,0,0,0,0,0,0,0,0,0,0,0,0,0,0,0,0,0,0,0,0,0,0,0,0,0,0,0,0,0,0,0,0,0,0,0,0,0,0,0,0,0,0,0,0,0,0,0,0,0,0,0,0,0,0,0,0,0,0,0,0,0,0,0,0,0,0,0,0,0,0,0,0,0,0,0,0,0,0,0,0,0,0,0,0,0,0,0,0,0,0,0,0,0,0,0,0,0,0,0,0,0,0,0,0,0,0,0,0,0,0,0,0,0,0,0,0,0,0,0,0,0,0,0,0,0,0,0,0,0,0,0,0,0,0,0,0,0,0,0,0,0,0,0,0,0,0,0,0,0,0,0,0,0,0,0,0,0,0,0,0,0,0,0,0,0,0,0,0,0,0,0,0,0,0,0,0,0,0,0,0,0,0,0,0,0,0,0,0,0,0,0,0,0,0,0,0,0,0,0,0,0,0,0,0,0,0,0,0,0,0,0,0,0,0,0,0,0,0,0,0,0,0,0,0,0,0,0,0,0,0,0,0,0,0,0,0,0,0,0,0,0,0,0,0,0,0,0,0,0,0,0,0,0,0,0,0,0,0,0,0,0,0,0,0,0,0,0,0,0,0,0,0,0,0,0,0,0,0,0,0,0,0,0,0,0,0,0,0,0,0,0,0,0,0,0,0,0,0,0,0,0,0,0,0,0,0,0,0,0,0,0,0,0,0,0,0,0,0,0,0,0,0,0,0,0,0,0,0,0,0,0,0,0,0,0,0,0,0,0,0,0,0,0,0,0,0,0,0,0,0,0,0,0,0,0,0,0,0,0,0,0,0,0,0,0,0,0,0,0,0,0,0,0,0,0,0,0,0,0,0,0,0,0,0,0,0,0,0,0,0,0,0,0,0,0,0,0,0,0,0,0,0,0,0,0,0,0,0,0,0,0,0,0,0,0,0,0,0,0,0,0,0,0,0,0,0,0,0,0,0,0,0,0,0,0,0,0,0,0,0,0,0,0,0,0,0,0,0,0,0,0,0,0,0,0,0,0,0,0,0,0,0,0,0,0,0,0,0,0,0,0,0,0,0,0,0,0,0,0,0,0,0,0,0,0,0,0,0,0,0,0,0,0,0,0,0,0,0,0,0,0,0,0,0,0,0,0,0,0,0,0,0,0,0,0,0,0,0,0,0,0,0,0,0,0,0,0,0,0,0,0,0,0,0,0,0,0,0,0,0,0,0,0,0,0,0,0,0,0,0,0,0,0,0,0,0,0,0,0,0,0,0,0,0,0,0,0,0,0,0,0,0,0,0,0,0,0,0,0,0,0,0,0,0,0,0,0,0,0,0,0,0,0,0,0,0,0,0,0,0,0,0,0,0,0,0,0,0,0,0,0,0,0,0,0,0,0,0,0,0,0,0,0,0,0,0,0,0,0,0,0,0,0,0,0,0,0,0,0,0,0,0,0,0,0,0,0,0,0,0,0,0,0,0,0,0,0,0,0,0,0,0,0,0,0,0,0,0,0,0,0,0,0,0,0,0,0,0,0,0,0,0,0,0,0,0,0,0,0,0,0,0,0,0,0,0,0,0,0,0,0,0,0,0,0,0,0,0,0,0,0,0,0,0,0,0,0,0,0,0,0,0,0,0,0,0,0,0,0,0,0,0,0,0,0,0,0,0,0,0,0,0,0,0,0,0,0,0,0,0,0,0,0,0,0,0,0,0,0,0,0,0,0,0,0,0,0,0,0,0,0,0,0,0,0,0,0,0,0,0,0,0,0,0,0,0,0,0,0,0,0,0,0,0,0,0,0,0,0,0,0,0,0,0,0,0,0,0,0,0,0,0,0,0,0,0,0,0,0,0,0,0,0,0,0,0,0,0,0,0,0,0,0,0,0,0,0,0,0,0,0,0,0,0,0,0,0,0,0,0,0,0,0,0,0,0,0,0,0,0,0,0,0,0,0,0,0,0,0,0,0,0,0,0,0,0,0,0,0,0,0,0,0,0,0,0,0,0,0,0,0,0,0,0,0,0,0,0,0,0,0,0,0,0,0,0,0,0,0,0,0,0,0,0,0,0,0,0,0,0,0,0,0,0,0,0,0,0,0,0,0,0,0,0,0,0,0,0,0,0,0,0,0,0,0,0,0,0,0,0,0,0,0,0,0,0,0,0,0,0,0,0,0,0,0,0,0,0,0,0,0,0,0,0,0,0,0,0,0,0,0,0,0,0,0,0,0,0,0,0,0,0,0,0,0,0,0,0,0,0,0,0,0,0,0,0,0,0,0,0,0,0,0,0,0,0,0,0,0,0,0,0,0,0,0,0,0,0,0,0,0,0,0,0,0,0,0,0,0,0,0,0,0,0,0,0,0,0,0,0,0,0,0,0,0,0,0,0,0,0,0,0,0,0,0,0,0,0,0,0,0,0,0,0,0,0,0,0,0,0,0,0,0,0,0,0,0,0,0,0,0,0,0,0,0,0,0,0,0,0,0,0,0,0,0,0,0,0,0,0,0,0,0,0,0,0,0,0,0,0,0,0,0,0,0,0,0,0,0,0,0,0,0,0,0,0,0,0,0,0,0,0,0,0,0,0,0,0,0,0,0,0,0,0,0,0,0,0,0,0,0,0,0,0,0,0,0,0,0,0,0,0,0,0,0,0,0,0,0,0,0,0,0,0,0,0,0,0,0,0,0,0,0,0,0,0,0,0,0,0,0,0,0,0,0,0,0,0,0,0,0,0,0,0,0,0,0,0,0,0,0,0,0,0,0,0,0,0,0,0,0,0,0,0,0,0,0,0,0,0,0,0,0,0,0,0,0,0,0,0,0,0,0,0,0,0,0,0,0,0,0,0,0,0,0,0,0,0,0,0,0,0,0,0,0,0,0,0,0,0,0,0,0,0,0,0,0,0,0,0,0,0,0,0,0,0,0,0,0,0,0,0,0,0,0,0,0,0,0,0,0,0,0,0,0,0,0,0,0,0,0,0,0,0,0,0,0,0,0,0,0,0,0,0,0,0,0,0,0,0,0,0,0,0,0,0,0,0,0,0,0,0,0,0,0,0,0,0,0,0,0,0,0,0,0,0,0,0,0,0,0,0,0,0,0,0,0,0,0,0,0,0,0,0,0,0,0,0,0,0,0,0,0,0,0,0,0,0,0,0,0,0,0,0,0,0,0,0,0,0,0,0,0,0,0,0,0,0,0,0,0,0,0,0,0,0,0,0,0,0,0,0,0,0,0,0,0,0,0,0,0,0,0,0,0,0,0,0,0,0,0,0,0,0,0,0,0,0,0,0,0,0,0,0,0,0,0,0,0,0,0,0,0,0,0,0,0,0,0,0,0,0,0,0,0,0,0,0,0,0,0,0,0,0,0,0,0,0,0,0,0,0,0,0,0,0,0,0,0,0,0,0,0,0,0,0,0,0,0,0,0,0,0,0,0,0,0,0,0,0,0,0,0,0,0,0,0,0,0,0,0,0,0,0,0,0,0,0,0,0,0,0,0,0,0,0,0,0,0,0,0,0,0,0,0,0,0,0,0,0,0,0,0,0,0,0,0,0,0,0,0,0,0,0,0,0,0,0,0,0,0,0,0,0,0,0,0,0,0,0,0,0,0,0,0,0,0,0,0,0,0,0,0,0,0,0,0,0,0,0,0,0,0,0,0,0,0,0,0,0,0,0,0,0,0,0,0,0,0,0,0,0,0,0,0,0,0,0,0,0,0,0,0,0,0,0,0,0,0,0,0,0,0,0,0,0,0,0,0,0,0,0,0,0,0,0,0,0,0,0,0,0,0,0,0,0,0,0,0,0,0,0,0,0,0,0,0,0,0,0,0,0,0,0,0,0,0,0,0,0,0,0,0,0,0,0,0,0,0,0,0,0,0,0,0,0,0,0,0,0,0,0,0,0,0,0,0,0,0,0,0,0,0,0,0,0,0,0,0,0,0,0,0,0,0,0,0,0,0,0,0,0,0,0,0,0,0,0,0,0,0,0,0,0,0,0,0,0,0,0,0,0,0,0,0,0,0,0,0,0,0,0,0,0,0,0,0,0,0,0,0,0,0,0,0,0,0,0,0,0,0,0,0,0,0,0,0,0,0,0,0,0,0,0,0,0,0,0,0,0,0,0,0,0,0,0,0,0,0,0,0,0,0,0,0,0,0,0,0,0,0,0,0,0,0,0,0,0,0,0,0,0,0,0,0,0,0,0,0,0,0,0,0,0,0,0,0,0,0,0,0,0,0,0,0,0,0,0,0,0,0,0,0,0,0,0,0,0,0,0,0,0,0,0,0,0,0,0,0,0,0,0,0,0,0,0,0,0,0,0,0,0,0,0,0,0,0,0,0,0,0,0,0,0,0,0,0,0,0,0,0,0,0,0,0,0,0,0,0,0,0,0,0,0,0,0,0,0,0,0,0,0,0,0,0,0,0,0,0,0,0,0,0,0,0,0,0,0,0,0,0,0,0,0,0,0,0,0,0,0,0,0,0,0,0,0,0,0,0,0,0,0,0,0,0,0,0,0,0,0,0,0,0,0,0,0,0,0,0,0,0,0,0,0,0,0,0,0,0,0,0,0,0,0,0,0,0,0,0,0,0,0,0,0,0,0,0,0,0,0,0,0,0,0,0,0,0,0,0,0,0,0,0,0,0,0,0,0,0,0,0,0,0,0,0,0,0,0,0,0,0,0,0,0,0,0,0,0,0,0,0,0,0,0,0,0,0,0,0,0,0,0,0,0,0,0,0,0,0,0,0,0,0,0,0,0,0,0,0,0,0,0,0,0,0,0,0,0,0,0,0,0,0,0,0,0,0,0,0,0,0,0,0,0,0,0,0,0,0,0,0,0,0,0,0,0,0,0,0,0,0,0,0,0,0,0,0,0,0,0,0,0,0,0,0,0,0,0,0,0,0,0,0,0,0,0,0,0,0,0,0,0,0,0,0,0,0,0,0,0,0,0,0,0,0,0,0,0,0,0,0,0,0,0,0,0,0,0,0,0,0,0,0,0,0,0,0,0,0,0,0,0,0,0,0,0,0,0,0,0,0,0,0,0,0,0,0,0,0,0,0,0,0,0,0,0,0,0,0,0,0,0,0,0,0,0,0,0,0,0,0,0,0,0,0,0,0,0,0,0,0,0,0,0,0,0,0,0,0,0,0,0,0,0,0,0,0,0,0,0,0,0,0,0,0,0,0,0,0,0,0,0,0,0,0,0,0,0,0,0,0,0,0,0,0,0,0,0,0,0,0,0,0,0,0,0,0,0,0,0,0,0,0,0,0,0,0,0,0,0,0,0,0,0,0,0,0,0,0,0,0,0,0,0,0,0,0,0,0,0,0,0,0,0,0,0,0,0,0,0,0,0,0,0,0,0,0,0,0,0,0,0,0,0,0,0,0,0,0,0,0,0,0,0,0,0,0,0,0,0,0,0,0,0,0,0,0,0,0,0,0,0,0,0,0,0,0,0,0,0,0,0,0,0,0,0,0,0,0,0,0,0,0,0,0,0,0,0,0,0,0,0,0,0,0,0,0,0,0,0,0,0,0,0,0,0,0,0,0,0,0,0,0,0,0,0,0,0,0,0,0,0,0,0,0,0,0,0,0,0,0,0,0,0,0,0,0,0,0,0,0,0,0,0,0,0,0,0,0,0,0,0,0,0,0,0,0,0,0,0,0,0,0,0,0,0,0,0,0,0,0,0,0,0,0,0,0,0,0,0,0,0,0,0,0,0,0,0,0,0,0,0,0,0,0,0,0,0,0,0,0,0,0,0,0,0,0,0,0,0,0,0,0,0,0,0,0,0,0,0,0,0,0,0,0,0,0,0,0,0,0,0,0,0,0,0,0,0,0,0,0,0,0,0,0,0,0,0,0,0,0,0,0,0,0,0,0,0,0,0,0,0,0,0,0,0,0,0,0,0,0,0,0,0,0,0,0,0,0,0,0,0,0,0,0,0,0,0,0,0,0,0,0,0,0,0,0,0,0,0,0,0,0,0,0,0,0,0,0,0,0,0,0,0,0,0,0,0,0,0,0,0,0,0,0,0,0,0,0,0,0,0,0,0,0,0,0,0,0,0,0,0,0,0,0,0,0,0,0,0,0,0,0,0,0,0,0,0,0,0,0,0,0,0,0,0,0,0,0,0,0,0,0,0,0,0,0,0,0,0,0,0,0,0,0,0,0,0,0,0,0,0,0,0,0,0,0,0,0,0,0,0,0,0,0,0,0,0,0,0,0,0,0,0,0,0,0,0,0,0,0,0,0,0,0,0,0,0,0,0,0,0,0,0,0,0,0,0,0,0,0,0,0,0,0,0,0,0,0,0,0,0,0,0,0,0,0,0,0,0,0,0,0,0,0,0,0,0,0,0,0,0,0,0,0,0,0,0,0,0,0,0,0,0,0,0,0,0,0,0,0,0,0,0,0,0,0,0,0,0,0,0,0,0,0,0,0,0,0,0,0,0,0,0,0,0,0,0,0,0,0,0,0,0,0,0,0,0,0,0,0,0,0,0,0,0,0,0,0,0,0,0,0,0,0,0,0,0,0,0,0,0,0,0,0,0,0,0,0,0,0,0,0,0,0,0,0,0,0,0,0,0,0,0,0,0,0,0,0,0,0,0,0,0,0,0,0,0,0,0,0,0,0,0,0,0,0,0,0,0,0,0,0,0,0,0,0,0,0,0,0,0,0,0,0,0,0,0,0,0,0,0,0,0,0,0,0,0,0,0,0,0,0,0,0,0,0,0,0,0,0,0,0,0,0,0,0,0,0,0,0,0,0,0,0,0,0,0,0,0,0,0,0,0,0,0,0,0,0,0,0,0,0,0,0,0,0,0,0,0,0,0,0,0,0,0,0,0,0,0,0,0,0,0,0,0,0,0,0,0,0,0,0,0,0,0,0,0,0,0,0,0,0,0,0,0,0,0,0,0,0,0,0,0,0,0,0,0,0,0,0,0,0,0,0,0,0,0,0,0,0,0,0,0,0,0,0,0,0,0,0,0,0,0,0,0,0,0,0,0,0,0,0,0,0,0,0,0,0,0,0,0,0,0,0,0,0,0,0,0,0,0,0,0,0,0,0,0,0,0,0,0,0,0,0,0,0,0,0,0,0,0,0,0,0,0,0,0,0,0,0,0,0,0,0,0,0,0,0,0,0,0,0,0,0,0,0,0,0,0,0,0],\"x0\":\" \",\"xaxis\":\"x\",\"y\":[252,184,330,184,240,184,308,197,250,248,200,330,205,250,205,197,197,192,341,197,192,287,223,250,223,185,250,192,192,205,192,312,230,200,230,208,200,208,200,242,330,330,312,208,330,322,322,341,248,194,194,190,194,305,196,194,268,219,268,350,268,190,268,285,219,210,210,234,190,210,242,196,196,242,312,196,196,175,230,205,230,230,230,208,275,230,280,230,252,230,330,208,234,219,234,220,234,285,234,190,234,220,234,285,234,256,230,220,285,256,250,200,312,242,280,242,330,242,242,205,175,205,200,184,330,184,200,242,184,248,184,208,200,206,216,262,240,208,240,330,240,230,196,208,196,208,280,230,242,190,208,208,208,190,206,216,206,195,206,281,200,272,237,237,195,242,330,242,330,252,280,208,330,216,272,216,347,216,275,216,184,208,208,208,245,193,245,305,236,215,215,280,215,280,330,230,240,230,240,200,240,240,200,240,230,230,230,200,230,208,208,208,208,208,208,266,236,233,236,233,236,233,236,193,236,193,236,200,190,200,312,200,305,285,242,280,312,195,280,250,308,322,195,185,191,196,191,196,185,195,250,223,273,223,300,223,223,280,250,192,250,195,250,250,195,253,252,195,197,300,197,300,252,205,197,205,300,205,227,245,300,263,206,305,275,252,195,253,300,250,267,300,294,300,308,192,185,195,250,322,250,192,196,192,196,196,267,190,290,230,196,266,225,200,200,205,205,265,315,230,193,225,238,266,238,290,238,327,238,238,187,187,205,205,225,205,266,290,205,266,265,290,267,322,190,190,327,242,308,280,308,308,192,253,341,205,191,191,192,191,196,191,250,191,195,223,192,195,195,195,195,250,250,250,250,185,250,192,273,232,232,196,196,209,224,209,265,340,214,200,306,340,287,287,322,214,240,296,214,200,314,265,314,265,314,200,214,190,322,195,230,341,185,191,253,196,223,196,190,222,270,270,224,285,212,300,201,201,340,248,237,207,238,290,270,238,322,341,270,273,280,248,237,280,340,237,205,294,185,191,250,223,223,250,196,223,341,250,287,250,280,250,192,185,195,192,196,192,205,192,275,204,238,204,205,204,204,261,232,193,232,260,232,324,232,261,204,193,197,193,193,197,193,275,197,261,324,308,310,238,248,280,248,230,260,185,195,235,195,195,190,308,281,235,281,235,281,185,190,190,190,335,284,240,312,240,190,240,280,240,230,200,242,198,225,270,200,242,200,190,190,242,208,190,208,190,248,285,248,250,228,250,318,310,301,230,310,212,230,230,240,240,240,196,190,240,200,208,330,230,285,230,330,230,180,318,310,228,191,228,310,318,318,310,243,310,264,212,264,212,208,200,285,200,242,280,195,191,252,242,280,242,208,301,211,212,211,330,275,280,285,280,248,242,248,230,245,285,215,215,312,240,312,240,242,230,208,230,208,208,292,285,236,225,250,225,202,202,202,236,202,236,184,202,205,190,242,330,208,280,190,312,190,248,285,255,255,196,255,196,212,196,196,195,256,204,256,204,245,204,245,195,230,240,312,242,230,265,200,200,190,198,252,242,280,242,215,255,330,280,330,280,330,198,280,190,312,285,190,198,285,198,223,237,237,185,237,190,280,190,196,253,222,196,190,196,196,196,196,273,205,207,180,196,207,179,244,179,295,295,295,244,290,190,180,295,190,233,235,295,233,290,222,195,190,341,190,237,190,205,222,235,190,250,250,196,250,205,250,185,250,250,287,250,195,250,192,222,280,192,195,341,195,185,287,185,190,222,185,226,188,270,226,270,198,250,188,250,227,188,250,303,185,200,303,305,315,200,288,200,315,200,190,190,267,190,273,322,267,322,195,190,222,190,222,190,222,199,190,298,265,207,207,207,190,192,248,194,194,350,194,268,190,194,305,194,196,194,192,194,287,248,248,287,268,192,285,268,242,287,300,287,234,219,210,196,208,192,290,234,190,234,219,253,240,265,250,305,250,287,261,240,248,207,199,199,194,248,261,248,199,248,242,199,298,199,192,199,300,242,289,242,287,300,287,300,195,195,233,200,206,200,262,200,237,206,237,205,307,352,262,194,300,237,206,237,206,237,240,289,300,265,300,289,300,261,272,237,307,237,347,237,233,233,272,287,248,194,242,190,199,193,190,194,248,194,248,199,194,193,300,193,245,265,265,245,184,202,245,202,205,200,202,245,202,205,290,200,245,200,203,200,245,203,203,280,270,245,203,245,290,305,245,345,245,311,250,305,203,305,203,215,290,305,265,207,207,265,207,242,287,300,190,242,190,199,242,195,290,287,199,242,289,242,287,242,265,287,265,284,260,260,233,260,228,195,190,190,195,308,190,190,191,225,191,260,335,281,199,225,288,225,190,260,289,240,290,207,235,207,195,207,287,193,195,207,242,190,242,190,190,265,190,287,300,290,248,248,240,242,195,287,290,197,197,180,197,227,230,197,230,210,230,197,230,240,305,252,235,207,242,290,195,190,242,190,193,290,287,248,270,195,242,240,242,178,250,240,240,223,328,223,237,223,250,223,205,223,183,223,313,205,205,255,205,255,240,295,237,270,195,300,193,190,183,183,240,202,205,265,325,195,325,190,248,242,196,190,242,190,248,289,248,287,248,248,287,199,300,300,242,196,242,289,242,300,242,242,287,235,194,202,212,235,264,180,230,318,228,264,196,300,240,191,212,200,212,301,305,261,202,242,242,190,261,248,290,248,240,193,242,199,193,300,287,240,290,245,197,290,237,200,330,237,237,200,237,310,237,251,250,366,245,366,245,197,245,200,240,240,265,193,251,310,330,366,285,197,205,197,261,290,193,197,198,200,190,196,190,248,287,190,248,287,190,190,193,248,242,248,194,287,242,192,287,300,203,307,232,236,318,236,195,236,225,232,295,260,189,260,318,260,232,194,192,192,270,214,252,195,214,189,214,193,232,210,287,270,318,232,318,252,256,268,219,194,194,268,268,268,305,210,237,237,197,237,265,237,205,251,245,245,251,205,245,330,245,245,192,350,170,285,234,285,234,285,234,230,219,250,291,310,220,197,366,253,330,253,250,194,321,194,210,194,268,194,210,192,250,210,190,219,270,215,238,215,209,215,270,209,300,280,209,188,233,238,192,321,295,219,234,219,234,285,234,350,234,305,234,190,196,190,230,190,219,250,190,238,219,230,219,305,238,234,190,230,194,250,210,230,192,210,219,210,200,200,237,200,262,205,262,205,305,195,262,281,321,190,190,234,219,190,216,237,233,250,233,250,290,219,170,219,170,219,170,281,237,275,233,305,295,230,208,305,275,305,272,281,347,216,210,194,196,210,290,210,285,210,212,212,225,305,245,245,245,225,280,233,307,215,307,192,250,285,234,230,234,234,196,234,190,234,230,234,230,190,230,190,230,190,236,225,200,233,233,236,236,187,236,256,295,305,233,305,305,230,305,285,202,212,280,307,295,230,210,187,233,280,307,233,321,234,210,234,210,185,210,210,210,234,210,210,234,184,311,184,270,202,200,205,245,205,210,219,285,234,230,234,219,215,245,245,305,245,305,219,230,219,250,305,295,240,305,290,295,190,185,215,215,230,210,194,268,194,190,194,234,256,268,268,250,318,202,235,230,235,235,180,243,211,235,211,250,250,318,250,264,250,250,250,180,205,230,318,230,310,230,264,230,250,234,321,210,234,250,234,219,210,234,212,180,228,318,264,318,200,318,285,285,250,208,305,219,285,219,230,219,219,305,285,210,195,208,210,185,230,194,295,194,219,194,219,170,194,305,194,234,194,285,194,194,194,234,268,219,210,210,185,210,210,210,320,215,234,180,206,215,234,206,234,196,215,215,196,215,234,215,305,305,320,234,305,234,202,234,234,320,234,310,196,240,285,234,256,234,234,288,234,256,275,196,314,219,250,219,185,288,190,210,230,185,210,185,191,203,215,209,215,215,214,230,233,209,230,318,235,310,235,235,202,230,264,235,202,230,235,230,250,228,250,202,250,318,250,202,310,250,202,212,191,233,315,233,255,233,272,202,235,202,310,202,318,310,202,202,235,230,200,235,228,230,280,230,180,243,180,188,200,318,243,243,212,212,310,230,255,200,211,191,209,188,191,209,291,230,188,203,230,198,198,305,226,250,226,260,280,260,198,188,270,198,198,303,265,305,198,198,288,198,185,198,280,250,280,250,185,227,242,227,242,185,205,185,185,188,291,272,188,214,315,280,255,315,203,215,230,215,230,272,215,233,238,291,209,209,203,209,230,203,233,203,207,207,179,244,235,207,195,217,233,304,217,217,190,295,244,195,244,244,244,190,300,244,233,244,270,233,233,272,233,280,200,200,233,295,235,233,242,300,233,230,242,305,295,300,215,215,291,215,290,215,209,209,233,200,238,214,291,203,191,203,255,203,203,234,269,269,202,310,215,215,310,215,295,215,234,215,202,215,234,234,234,310,310,250,198,310,250,188,191,233,290,233,200,202,191,238,315,198,202,295,272,255,315,238,272,227,215,315,215,203,184,227,209,272,209,209,233,203,315,227,203,315,272,203,205,197,180,300,235,205,235,205,235,336,270,300,227,305,205,252,180,205,227,220,220,197,275,227,227,300,200,270,245,300,197,252,300,238,290,238,272,214,252,300,300,215,233,215,188,215,233,215,215,272,215,203,215,209,272,209,184,209,272,233,203,233,203,233,216,195,255,250,233,291,233,290,233,238,240,180,210,180,191,210,250,216,250,311,311,315,290,315,203,255,203,200,290,270,265,205,265,265,311,265,305,265,184,205,184,238,291,238,291,238,238,238,200,238,200,238,200,200,200,280,200,203,200,200,245,290,200,245,200,200,253,245,270,245,290,245,270,315,250,250,253,290,280,315,227,272,227,272,235,205,200,202,230,250,235,264,191,185,170,350,170,205,197,342,325,287,342,198,350,318,202,202,230,318,202,318,202,342,235,342,197,302,342,212,235,333,235,235,211,185,240,230,310,230,230,228,243,264,318,301,204,235,212,379,212,235,309,325,235,264,235,310,235,200,235,230,180,212,235,250,235,250,228,288,200,260,260,260,225,256,260,288,195,191,195,195,235,195,288,200,190,281,202,200,202,310,202,264,200,211,230,200,230,379,230,228,243,243,200,284,191,256,233,260,233,281,281,270,235,235,318,235,212,212,250,250,230,200,262,250,200,281,200,237,211,211,230,212,243,228,264,379,250,216,250,347,206,216,216,237,305,237,233,237,193,237,233,237,193,233,200,275,307,347,307,347,272,235,230,235,333,235,235,230,200,250,379,250,211,265,311,265,379,202,230,202,333,202,191,191,211,230,230,211,230,318,318,333,243,264,310,240,200,305,200,200,240,245,311,245,203,250,200,203,185,235,240,215,240,215,333,205,290,305,188,195,315,241,250,318,245,225,245,215,245,215,202,215,225,184,215,202,215,215,215,230,264,230,180,230,230,228,200,212,228,228,243,310,228,301,228,211,243,318,211,243,264,243,200,211,225,202,225,307,225,236,225,195,225,236,266,236,184,191,379,301,202,212,211,285,270,212,305,245,202,184,266,236,215,228,215,184,212,215,202,202,195,229,202,202,202,230,256,257,225,250,225,236,225,310,195,250,230,225,295,225,225,309,202,305,228,266,228,195,245,215,245,270,195,215,236,209,215,215,261,193,204,235,204,193,197,204,204,204,275,204,277,232,310,232,235,232,204,285,235,277,205,204,205,275,197,205,202,225,225,225,202,305,236,195,308,310,275,250,190,195,193,245,266,228,215,215,305,184,228,215,185,202,195,225,195,225,285,225,195,225,184,228,202,236,236,236,184,200,305,305,280,228,184,202,185,250,185,193,185,193,185,183,185,250,281,236,281,236,281,328,228,212,195,183,183,275,292,285,236,205,202,205,236,236,280,250,190,225,202,190,232,202,202,195,225,195,230,195,195,183,194,200,210,233,230,200,194,230,210,194,279,194,200,194,210,210,230,202,225,232,202,202,250,230,250,230,250,232,230,230,295,230,318,230,232,230,202,230,309,230,253,230,225,259,254,200,235,235,279,210,210,254,259,254,235,318,202,318,190,195,190,190,202,225,195,202,257,195,250,256,225,236,236,296,236,307,236,232,236,318,236,260,236,305,305,189,232,183,202,202,250,295,318,332,202,230,230,332,230,183,230,268,183,183,225,295,214,272,252,232,307,232,252,307,318,202,195,225,205,234,247,234,203,320,234,234,205,240,234,205,265,247,262,265,262,240,262,192,240,200,202,202,202,295,202,225,230,225,230,232,230,192,265,300,240,265,240,320,240,295,232,225,295,225,195,225,295,320,320,247,265,295,232,190,230,190,202,232,195,202,195,225,250,193,193,235,250,287,250,185,198,232,342,342,204,185,197,197,350,197,232,225,232,230,250,318,250,309,250,202,250,202,250,183,350,205,232,309,318,232,268,225,235,309,235,309,309,250,202,309,295,309,318,260,280,195,256,190,240,185,195,210,315,259,242,255,320,255,315,255,259,255,275,311,202,230,202,230,332,195,230,225,230,309,190,250,190,180,315,180,191,300,320,225,202,191,216,213,275,250,315,311,315,242,315,213,309,311,242,311,259,320,250,259,250,259,190,202,190,190,202,230,255,256,207,206,256,297,256,297,256,239,256,204,280,265,265,204,255,239,204,302,239,280,280,215,239,202,268,202,202,202,225,202,230,318,245,270,245,207,268,232,268,295,195,207,245,215,206,202,232,318,232,206,195,302,190,195,225,318,195,202,202,195,309,195,309,195,229,202,230,202,229,225,229,230,332,277,232,232,190,232,240,260,250,195,230,295,202,202,202,202,230,202,202,230,268,230,230,225,318,230,318,265,196,196,306,265,306,306,268,225,202,225,309,240,265,314,265,214,214,190,296,190,250,183,202,195,232,230,205,200,315,266,315,225,315,238,193,230,275,230,225,185,185,266,310,275,238,238,290,238,225,275,205,187,196,205,205,225,195,202,266,266,230,268,225,327,290,310,265,265,203,242,207,244,217,217,229,235,207,207,217,207,242,245,217,179,245,202,244,195,244,195,244,304,244,180,205,250,188,233,242,200,245,233,347,245,345,245,245,311,229,290,233,235,250,270,242,305,300,311,345,255,300,265,311,202,250,205,205,250,205,265,255,256,255,265,255,265,196,204,196,212,196,212,195,256,195,256,195,204,204,280,265,203,311,311,253,205,355,355,255,265,250,265,203,184,311,184,247,196,266,196,238,205,196,205,196,205,200,315,200,200,315,310,315,193,315,230,230,205,230,225,238,225,238,345,311,245,250,245,253,245,311,245,265,205,185,250,250,193,265,310,311,290,250,265,265,347,202,203,184,184,184,250,184,250,215,184,270,270,226,198,226,250,226,198,198,198,250,198,198,227,208,265,265,185,250,200,250,250,185,185,185,303,185,200,200,311,250,290,250,215,203,311,215,345,215,253,290,245,245,265,245,265,202,345,345,184,184,250,205,202,202,203,205,245,227,300,235,235,252,263,197,205,245,205,227,205,180,205,252,275,180,227,200,200,245,311,245,311,290,245,345,311,206,300,305,263,275,311,345,195,207,305,207,229,180,207,305,207,188,217,244,179,244,290,242,244,244,304,244,244,229,244,240,195,255,195,255,180,255,315,255,213,190,233,190,190,261,180,261,250,261,311,240,180,170,229,233,304,240,191,191,210,240,275,250,315,311,304,300,320,250,305,295,235,295,207,300,207,305,207,180,217,190,179,179,188,190,229,244,233,244,242,244,305,290,244,180,250,260,185,198,250,198,265,250,250,288,250,305,250,227,250,190,288,250,303,227,200,227,227,315,227,303,185,200,208,185,200,208,185,305,188,190,288,303,290,280,208,242,290,242,235,300,188,288,305,305,295,295,179,180,207,244,207,229,305,217,190,217,304,295,293,244,315,238,290,200,196,200,200,238,290,242,225,315,205,242,205,205,230,200,205,238,266,190,233,266,205,205,290,266,205,266,225,242,229,229,293,304,305,293,305,196,180,207,217,242,217,244,244,229,185,212,184,212,216,208,216,208,191,184,188,190,216,240,216,216,240,216,240,216,190,235,191,240,305,310,305,191,184,233,293,233,235,191,340,235,240,190,242,293,235,235,244,235,217,305,217,217,229,217,244,190,206,262,305,281,262,206,250,190,196,190,190,305,250,347,229,229,180,233,235,233,347,233,237,233,237,216,237,233,193,281,233,233,307,300,304,300,235,185,295,272,210,200,250,200,210,200,240,225,245,225,225,191,225,245,261,210,265,191,240,285,245,208,216,212,305,240,235,212,216,212,208,208,230,203,216,190,285,250,265,191,295,315,253,190,240,184,240,340,190,191,184,191,184,240,184,184,235,305,210,250,240,200,329,265,295,295,191,225,315,225,329,210,210,210,240,207,240,191,240,210,207,315,210,210,191,234,240,205,240,191,207,192,200,198,200,192,192,320,192,240,240,300,240,300,240,279,240,320,300,320,315,285,188,200,240,210,240,210,225,203,210,210,295,191,295,240,188,203,195,236,185,195,185,210,232,307,318,195,236,236,210,236,210,265,305,232,203,188,188,203,188,188,207,203,252,307,232,318,232,318,232,307,232,232,272,295,241,225,305,261,240,203,210,240,203,240,265,197,290,245,290,250,220,205,237,237,251,330,210,245,245,251,245,251,245,197,250,265,305,181,265,220,203,230,198,198,198,241,210,200,210,200,210,200,210,210,240,200,240,200,240,203,240,245,255,204,255,204,255,196,196,204,196,297,196,204,255,215,256,215,256,297,256,195,204,280,245,265,241,200,297,207,265,200,255,255,265,225,240,225,203,200,295,278,207,240,245,240,278,265,245,245,327,247,196,310,196,238,196,196,230,187,266,185,230,242,238,200,238,187,238,187,266,188,203,207,315,203,290,327,200,285,200,240,225,225,225,240,241,245,210,240,210,265,245,240,240,200,240,315,329,245,245,245,241,245,200,245,241,235,277,314,315,191,200,306,200,306,224,265,315,265,240,250,240,209,200,235,314,235,314,224,207,278,207,200,235,296,190,200,204,265,315,315,315,198,195,200,240,295,210,225,200,225,295,225,295,261,295,210,295,210,207,315,200,205,240,200,240,259,170,275,255,275,255,255,261,255,310,191,191,178,210,216,216,213,210,242,210,216,292,250,311,311,310,311,310,250,200,178,212,212,184,208,234,240,197,262,240,200,216,340,216,253,253,192,192,240,252,240,203,240,203,240,320,184,191,340,240,310,198,203,278,278,184,320,265,235,265,203,212,208,216,191,208,203,195,236,195,253,235,265,216,216,310,216,240,265,305,305,184,232,232,195,232,195,195,195,235,191,184,191,240,191,184,191,191,240,184,240,310,240,189,232,318,318,252,272,252,252,318,318,208,208,208,275,294,198,235,185,235,203,235,235,185,235,198,235,294,235,287,235,287,215,235,262,235,220,215,235,262,220,185,287,310,287,275,287,275,215,185,216,216,175,265,305,340,340,253,215,294,275,294,262,294,262,294,215,310,215,240,305,240,175,215,215,198,215,310,265,278,265,175,240,208,253,208,255,255,204,196,245,256,215,256,195,256,195,256,256,195,308,207,204,245,204,265,204,204,191,191,216,310,216,278,216,216,240,216,253,240,215,212,212,195,212,207,212,245,215,191,235,240,240,310,240,265,240,278,240,235,190,184,310,208,255,265,270,208,251,190,208,240,260,281,260,233,260,225,232,225,195,195,191,195,270,195,335,195,225,190,190,225,335,265,335,281,190,216,305,216,240,216,240,305,240,253,225,233,225,260,280,225,190,284,240,175,305,240,190,235,190,175,233,270,281,270,212,305,240,190,184,208,205,254,199,201,235,205,194,195,200,191,305,216,305,311,216,216,216,310,310,253,253,191,253,235,191,190,191,311,235,311,240,310,200,210,200,230,200,205,254,210,235,210,296,316,230,310,205,235,208,230,230,232,316,205,199,308,318,308,195,234,202,230,236,236,194,200,230,200,210,201,230,201,200,254,194,194,190,195,195,195,210,315,277,234,234,200,235,230,235,230,235,230,318,230,235,200,235,200,259,200,210,200,210,200,210,235,200,296,215,265,300,230,230,230,300,318,259,259,235,272,235,272,201,308,235,201,230,235,194,235,195,200,260,235,275,235,220,215,235,220,215,235,235,310,235,235,235,185,215,235,203,220,187,185,198,235,220,220,310,220,220,264,242,185,335,230,200,294,335,310,215,275,210,200,254,200,318,233,254,201,194,230,194,194,232,232,295,223,202,223,295,223,205,255,223,240,223,313,328,313,313,328,313,205,205,205,205,255,295,340,230,200,237,190,202,279,200,235,235,210,310,240,265,237,232,235,260,235,232,230,178,308,200,210,201,201,210,230,194,200,210,230,194,200,194,230,210,230,200,210,205,321,281,242,328,242,185,242,242,185,242,230,210,200,282,200,254,200,253,235,279,185,281,205,255,185,205,193,253,253,296,281,292,281,275,183,202,292,308,200,200,200,195,235,195,200,310,206,215,234,206,269,235,215,234,215,234,215,234,202,305,234,234,250,234,234,234,234,305,310,305,230,230,230,200,318,200,254,310,233,246,236,236,236,215,246,300,246,246,315,215,204,220,187,235,250,235,215,235,250,203,220,198,203,185,220,220,234,300,265,190,315,236,246,236,234,236,236,236,190,195,205,204,204,204,238,204,324,238,260,238,232,210,232,204,193,205,310,232,275,232,188,285,188,277,238,204,238,204,275,324,260,193,205,193,324,234,315,234,258,285,315,230,308,260,275,324,275,324,260,238,300,195,300,195,238,277,238,252,258,298,236,280,236,236,315,236,234,236,236,236,234,170,201,202,201,250,321,238,190,236,203,250,203,236,242,190,242,185,242,185,242,185,183,275,242,234,201,234,300,230,183,195,205,185,205,185,275,300,252,300,280,300,195,183,240,183,275,285,328,236,195,205,291,236,285,240,285,236,236,246,236,315,236,236,230,236,190,236,170,236,245,188,207,224,300,224,203,200,224,245,224,212,190,285,237,285,202,202,212,188,212,290,212,200,203,203,207,200,237,300,290,300,237,300,269,265,234,234,234,277,230,277,265,190,190,195,230,280,280,234,300,315,230,236,197,190,201,236,190,236,170,236,234,230,202,234,202,246,315,300,197,201,215,198,203,235,220,215,235,215,235,235,215,220,198,203,198,203,187,198,275,215,220,287,187,187,201,234,294,310,294,310,310,310,215,277,300,275,275,215,275,195,300,258,170,236,236,170,236,234,236,230,230,234,280,202,190,234,234,192,245,192,205,265,262,320,262,320,192,195,300,234,234,280,234,190,203,197,198,192,197,277,195,190,190,195,201,315,195,315,195,300,195,247,245,300,300,203,190,315,236,300,236,246,236,236,201,300,246,315,212,237,280,202,210,200,237,202,224,224,202,224,300,224,202,212,202,300,290,200,270,200,300,202,200,245,277,277,234,234,315,234,234,300,300,315,300,315,195,280,195,170,237,237,285,269,190,236,236,265,202,190,202,201,202,204,195,210,213,259,255,210,255,250,255,255,255,315,261,170,210,261,216,240,170,213,190,300,315,275,315,311,195,230,242,213,185,195,205,201,201,195,201,235,201,200,210,235,195,190,300,224,200,224,224,200,290,212,188,212,230,235,200,210,235,210,260,238,238,290,254,254,253,235,253,232,232,272,188,202,310,279,230,272,234,232,199,272,238,327,315,315,205,225,185,230,205,225,205,242,238,266,238,238,205,225,310,275,255,240,255,261,255,216,193,242,190,180,190,261,311,261,210,185,310,275,310,170,191,240,266,310,205,225,205,266,191,240,240,310,196,196,200,238,200,205,200,247,315,290,315,290,230,265,238,238,270,180,270,305,300,227,192,195,197,195,197,195,220,195,300,220,227,197,220,197,197,227,245,197,300,275,225,245,205,310,300,305,340,300,236,290,193,310,192,210,196,315,238,196,205,315,238,315,266,315,205,225,238,266,225,238,290,187,187,266,193,200,305,198,185,190,250,303,250,250,208,250,250,227,227,305,227,185,227,200,227,185,200,225,193,205,230,205,205,266,303,265,190,290,305,205,205,315,266,185,238,290,238,225,238,275,203,189,232,189,236,252,236,185,236,236,296,318,232,185,260,205,205,205,200,195,242,225,290,189,232,189,232,214,232,272,318,230,193,247,310,242,191,275,195,210,195,255,255,210,227,245,252,245,235,205,235,300,235,252,195,227,300,300,205,227,252,192,197,305,261,180,210,240,213,210,305,300,275,240,315,311,240,311,240,213,250,336,170,170,210,195,170,255,275,255,180,255,255,300,255,255,255,213,277,277,306,277,306,314,240,232,265,232,314,190,250,261,275,320,261,210,261,306,200,170,250,170,310,275,310,275,311,275,311,259,240,240,209,314,314,296,200,204,200,261,195,210,195,213,195,255,195,255,311,255,210,226,226,188,226,250,226,226,185,200,198,250,198,227,198,198,185,188,250,265,250,279,227,188,261,170,210,180,240,180,303,305,311,311,240,213,315,188,315,250,226,235,197,235,205,340,205,205,192,195,227,195,205,242,200,198,198,250,300,300,300,197,190,242,250,250,250,227,205,197,205,205,220,206,300,220,227,206,227,245,227,242,245,263,194,280,265,190,315,305,270,227,185,250,226,265,226,226,288,226,198,226,315,226,226,305,227,198,250,190,270,250,250,340,232,277,277,214,314,232,232,250,232,314,232,232,314,232,227,214,306,250,303,265,240,240,314,240,209,209,188,190,279,315,227,226,226,208,190,200,198,250,208,279,198,200,250,242,250,178,321,242,250,250,203,202,250,202,250,242,281,242,257,242,195,242,328,242,275,242,250,242,250,242,242,185,200,303,265,185,328,250,328,280,279,281,328,270,315,235,300,235,300,235,300,206,300,197,227,197,205,220,227,220,305,185,193,197,193,350,193,309,193,185,260,342,205,245,205,197,197,197,235,245,305,302,245,300,250,300,180,300,305,205,305,200,200,216,275,200,216,200,200,307,200,200,262,193,347,197,180,227,245,240,262,281,300,245,300,250,216,250,216,206,197,275,237,237,237,281,237,270,200,275,216,193,180,180,180,305,216,272,200,216,270,300,300,240,240,187,220,318,275,235,185,235,215,235,215,187,185,187,318,220,198,220,187,220,215,198,205,196,234,279,234,198,265,192,196,191,196,247,200,247,294,294,294,310,264,240,240,320,240,205,275,215,262,265,187,203,235,264,275,235,215,187,185,203,294,185,187,188,215,188,250,188,234,310,206,206,180,206,234,206,215,269,314,235,196,215,234,215,215,234,234,310,250,310,185,262,196,314,180,320,314,275,275,235,310,235,215,235,215,235,185,235,185,240,203,187,215,203,203,262,220,185,220,264,220,187,215,187,185,235,193,245,193,193,350,235,260,193,204,215,318,318,185,215,287,309,287,198,185,198,204,342,235,262,310,275,310,215,310,335,310,275,204,250,204,185,235,232,235,262,250,235,235,235,318,310,190,203,203,215,203,275,262,203,190,203,220,220,220,262,335,220,242,220,262,220,310,187,215,223,240,313,240,313,313,240,205,190,202,237,328,255,325,255,328,255,265,237,255,328,205,237,318,240,190,190,328,328,325,220,202,205,178,240,265,240,202,205,205,195,205,265,237,325,290,220,235,240,235,275,235,294,235,185,215,203,220,185,220,220,187,264,187,187,187,202,321,291,203,236,257,203,203,185,236,238,202,250,202,195,257,242,242,236,242,318,318,318,275,318,310,275,275,215,275,195,185,250,281,185,281,257,281,328,281,183,236,236,257,234,300,234,265,320,234,192,205,205,206,255,256,196,212,302,196,212,355,265,212,256,280,256,205,206,245,204,280,255,262,320,200,192,240,300,240,320,240,203,240,198,300,265,203,320,265,320,255,198,234,240,300,234,192,205,240,205,196,192,265,265,224,237,224,285,224,224,212,224,188,224,224,212,245,285,340,200,203,300,212,190,188,200,285,300,245,320,262,320,200,197,245,240,265,240,197,240,237,300,247,290,285,262,265,234,320,234,200,234,320,265,205,203,277,296,277,240,277,214,200,196,265,240,209,232,200,232,296,232,340,232,240,232,204,262,198,262,265,200,240,270,209,200,270,240,306,240,192,203,320,197,247,240,320,240,247,240,197,240,320,197,240,209,190,240,265,340,240,209,265,209,214,209,204,209,314,296,300,265,320,265,214,265,214,214,190,200,340,260,234,252,193,232,236,236,252,185,307,262,320,200,200,195,193,252,295,192,245,192,320,192,198,232,214,214,307,232,272,203,265,245,320,190,320,203,265,245,296,295,307,340,272,252,203,245,190,247,235,195,195,260,200,260,260,260,191,280,260,260,195,260,191,195,281,195,284,195,190,195,191,308,232,324,232,285,191,225,235,255,275,255,188,235,205,235,255,235,255,235,210,284,229,281,270,260,256,260,260,260,195,260,235,185,260,195,232,195,235,308,232,235,191,235,260,335,190,260,190,232,191,190,281,223,205,205,223,295,223,255,223,255,328,223,295,223,340,223,223,265,340,223,295,223,265,223,205,223,265,195,255,205,226,255,328,185,185,190,226,328,226,195,205,195,205,191,185,183,260,260,260,191,260,260,260,335,225,190,260,195,281,195,195,308,191,281,335,284,191,265,242,260,190,200,190,245,310,290,366,197,237,291,198,245,285,245,291,245,198,245,225,232,225,284,200,228,190,285,291,250,191,270,228,251,366,265,198,285,197,200,280,260,228,260,260,281,281,233,335,260,195,195,195,195,280,233,190,233,335,260,335,265,203,232,260,252,305,185,318,214,232,305,189,232,307,252,307,214,260,260,191,260,260,195,260,260,228,260,260,195,195,288,195,195,190,240,280,190,335,260,290,250,290,197,245,250,237,251,210,210,245,250,245,200,225,225,198,190,190,251,251,205,200,197,190,281,281,280,204,255,204,188,205,210,260,232,255,232,235,232,235,204,232,235,232,261,215,234,295,206,206,180,234,198,215,234,215,215,310,234,250,234,234,198,234,314,235,188,235,193,235,255,235,204,204,193,310,275,324,310,260,310,204,232,204,232,232,210,200,250,200,237,233,200,200,206,200,233,200,250,200,237,200,188,255,204,260,210,210,260,205,193,193,324,205,275,262,237,262,347,233,237,281,281,305,275,195,272,347,347,195,188,310,204,188,210,232,285,200,232,193,190,223,265,223,190,223,223,265,223,205,295,195,313,240,313,195,240,183,188,204,205,204,210,193,205,261,205,195,190,240,190,261,275,260,238,240,240,195,183,202,195,238,324,238,310,205,235,261,310,205,195,204,193,277,232,305,232,310,203,203,224,224,203,224,213,224,203,203,200,212,203,238,212,238,212,237,212,188,237,212,190,212,340,188,203,290,203,200,300,200,200,300,300,235,275,235,324,235,197,255,193,205,195,285,255,261,324,308,255,269,188,188,280,324,255,310,190,202,234,180,188,188,234,188,188,188,196,240,205,223,255,223,223,265,275,295,234,314,215,215,205,190,183,240,205,205,265,205,328,340,195,255,340,255,226,255,234,180,234,250,180,205,205,195,195,188,275,269,234,215,235,215,215,196,215,321,321,203,185,281,202,250,202,202,185,250,250,275,185,275,328,195,242,242,185,195,242,185,275,295,234,234,235,234,250,310,314,310,195,185,183,185,250,281,195,328,238,195,240,188,314,269,269,215,215,215,215,198,251,245,310,245,291,245,197,234,198,295,234,245,310,314,310,314,310,196,205,197,198,200,251,251,265,251,253,205,246,313,255,223,223,223,205,340,265,205,205,226,205,265,255,328,255,340,255,255,188,210,188,224,224,300,224,280,237,224,200,224,212,200,188,212,340,212,270,200,300,290,190,226,328,290,205,238,238,190,205,205,246,237,237,226,223,313,223,313,223,340,223,205,255,328,223,195,202,313,205,202,183,265,240,265,183,236,321,236,321,203,236,203,250,328,340,236,328,193,185,250,185,205,185,205,185,250,236,250,236,240,183,275,205,275,328,275,291,205,255,236,236,203,236,203,195,189,236,232,236,277,232,277,340,277,277,306,196,232,196,214,265,232,240,232,232,340,232,190,265,232,200,195,232,340,265,189,232,240,314,214,315,277,232,232,296,232,296,232,232,240,232,200,232,232,240,214,250,237,200,200,233,200,233,200,250,200,233,200,200,206,206,206,237,307,250,347,233,347,240,250,314,214,307,281,196,232,342,197,193,250,198,185,309,342,309,342,197,245,196,240,209,240,340,306,340,350,350,350,205,204,212,204,245,235,245,260,200,314,265,296,340,296,340,210,210,285,270,224,212,224,270,224,224,201,224,212,224,285,193,198,235,193,240,285,188,285,285,212,212,238,200,238,200,300,290,185,342,287,250,240,235,185,185,235,309,197,235,197,250,302,250,240,325,342,232,185,193,193,193,193,197,232,235,193,287,185,193,205,193,287,193,198,193,309,193,193,255,204,255,256,204,195,256,256,270,256,245,204,205,204,204,265,350,287,280,287,342,287,198,170,185,342,309,342,280,235,170,235,240,250,197,350,250,350,265,355,235,280,235,250,235,190,193,204,193,185,290,205,290,237,290,265,237,302,245,245,255,197,235,235,232,245,250,260,302,260,302,245,302,205,265,251,330,330,330,250,198,197,245,260,255,255,280,255,195,195,200,195,237,212,196,215,196,204,196,196,215,256,255,256,256,255,355,205,233,352,272,352,307,212,281,206,233,206,245,265,233,215,302,215,215,265,265,355,251,290,190,290,220,290,220,237,220,237,245,197,190,210,251,190,245,245,251,197,321,321,202,185,275,205,203,203,202,193,202,202,242,202,242,202,202,250,292,242,292,242,292,242,242,210,190,183,185,255,291,328,220,220,251,255,275,328,237,237,237,237,237,237,237,210,198,291,253,245,245,330,245,291,220,210,220,197,220,330,198,251,366,366,197,253,198,198],\"y0\":\" \",\"yaxis\":\"y\",\"type\":\"box\"}],                        {\"template\":{\"data\":{\"histogram2dcontour\":[{\"type\":\"histogram2dcontour\",\"colorbar\":{\"outlinewidth\":0,\"ticks\":\"\"},\"colorscale\":[[0.0,\"#0d0887\"],[0.1111111111111111,\"#46039f\"],[0.2222222222222222,\"#7201a8\"],[0.3333333333333333,\"#9c179e\"],[0.4444444444444444,\"#bd3786\"],[0.5555555555555556,\"#d8576b\"],[0.6666666666666666,\"#ed7953\"],[0.7777777777777778,\"#fb9f3a\"],[0.8888888888888888,\"#fdca26\"],[1.0,\"#f0f921\"]]}],\"choropleth\":[{\"type\":\"choropleth\",\"colorbar\":{\"outlinewidth\":0,\"ticks\":\"\"}}],\"histogram2d\":[{\"type\":\"histogram2d\",\"colorbar\":{\"outlinewidth\":0,\"ticks\":\"\"},\"colorscale\":[[0.0,\"#0d0887\"],[0.1111111111111111,\"#46039f\"],[0.2222222222222222,\"#7201a8\"],[0.3333333333333333,\"#9c179e\"],[0.4444444444444444,\"#bd3786\"],[0.5555555555555556,\"#d8576b\"],[0.6666666666666666,\"#ed7953\"],[0.7777777777777778,\"#fb9f3a\"],[0.8888888888888888,\"#fdca26\"],[1.0,\"#f0f921\"]]}],\"heatmap\":[{\"type\":\"heatmap\",\"colorbar\":{\"outlinewidth\":0,\"ticks\":\"\"},\"colorscale\":[[0.0,\"#0d0887\"],[0.1111111111111111,\"#46039f\"],[0.2222222222222222,\"#7201a8\"],[0.3333333333333333,\"#9c179e\"],[0.4444444444444444,\"#bd3786\"],[0.5555555555555556,\"#d8576b\"],[0.6666666666666666,\"#ed7953\"],[0.7777777777777778,\"#fb9f3a\"],[0.8888888888888888,\"#fdca26\"],[1.0,\"#f0f921\"]]}],\"heatmapgl\":[{\"type\":\"heatmapgl\",\"colorbar\":{\"outlinewidth\":0,\"ticks\":\"\"},\"colorscale\":[[0.0,\"#0d0887\"],[0.1111111111111111,\"#46039f\"],[0.2222222222222222,\"#7201a8\"],[0.3333333333333333,\"#9c179e\"],[0.4444444444444444,\"#bd3786\"],[0.5555555555555556,\"#d8576b\"],[0.6666666666666666,\"#ed7953\"],[0.7777777777777778,\"#fb9f3a\"],[0.8888888888888888,\"#fdca26\"],[1.0,\"#f0f921\"]]}],\"contourcarpet\":[{\"type\":\"contourcarpet\",\"colorbar\":{\"outlinewidth\":0,\"ticks\":\"\"}}],\"contour\":[{\"type\":\"contour\",\"colorbar\":{\"outlinewidth\":0,\"ticks\":\"\"},\"colorscale\":[[0.0,\"#0d0887\"],[0.1111111111111111,\"#46039f\"],[0.2222222222222222,\"#7201a8\"],[0.3333333333333333,\"#9c179e\"],[0.4444444444444444,\"#bd3786\"],[0.5555555555555556,\"#d8576b\"],[0.6666666666666666,\"#ed7953\"],[0.7777777777777778,\"#fb9f3a\"],[0.8888888888888888,\"#fdca26\"],[1.0,\"#f0f921\"]]}],\"surface\":[{\"type\":\"surface\",\"colorbar\":{\"outlinewidth\":0,\"ticks\":\"\"},\"colorscale\":[[0.0,\"#0d0887\"],[0.1111111111111111,\"#46039f\"],[0.2222222222222222,\"#7201a8\"],[0.3333333333333333,\"#9c179e\"],[0.4444444444444444,\"#bd3786\"],[0.5555555555555556,\"#d8576b\"],[0.6666666666666666,\"#ed7953\"],[0.7777777777777778,\"#fb9f3a\"],[0.8888888888888888,\"#fdca26\"],[1.0,\"#f0f921\"]]}],\"mesh3d\":[{\"type\":\"mesh3d\",\"colorbar\":{\"outlinewidth\":0,\"ticks\":\"\"}}],\"scatter\":[{\"fillpattern\":{\"fillmode\":\"overlay\",\"size\":10,\"solidity\":0.2},\"type\":\"scatter\"}],\"parcoords\":[{\"type\":\"parcoords\",\"line\":{\"colorbar\":{\"outlinewidth\":0,\"ticks\":\"\"}}}],\"scatterpolargl\":[{\"type\":\"scatterpolargl\",\"marker\":{\"colorbar\":{\"outlinewidth\":0,\"ticks\":\"\"}}}],\"bar\":[{\"error_x\":{\"color\":\"#2a3f5f\"},\"error_y\":{\"color\":\"#2a3f5f\"},\"marker\":{\"line\":{\"color\":\"#E5ECF6\",\"width\":0.5},\"pattern\":{\"fillmode\":\"overlay\",\"size\":10,\"solidity\":0.2}},\"type\":\"bar\"}],\"scattergeo\":[{\"type\":\"scattergeo\",\"marker\":{\"colorbar\":{\"outlinewidth\":0,\"ticks\":\"\"}}}],\"scatterpolar\":[{\"type\":\"scatterpolar\",\"marker\":{\"colorbar\":{\"outlinewidth\":0,\"ticks\":\"\"}}}],\"histogram\":[{\"marker\":{\"pattern\":{\"fillmode\":\"overlay\",\"size\":10,\"solidity\":0.2}},\"type\":\"histogram\"}],\"scattergl\":[{\"type\":\"scattergl\",\"marker\":{\"colorbar\":{\"outlinewidth\":0,\"ticks\":\"\"}}}],\"scatter3d\":[{\"type\":\"scatter3d\",\"line\":{\"colorbar\":{\"outlinewidth\":0,\"ticks\":\"\"}},\"marker\":{\"colorbar\":{\"outlinewidth\":0,\"ticks\":\"\"}}}],\"scattermapbox\":[{\"type\":\"scattermapbox\",\"marker\":{\"colorbar\":{\"outlinewidth\":0,\"ticks\":\"\"}}}],\"scatterternary\":[{\"type\":\"scatterternary\",\"marker\":{\"colorbar\":{\"outlinewidth\":0,\"ticks\":\"\"}}}],\"scattercarpet\":[{\"type\":\"scattercarpet\",\"marker\":{\"colorbar\":{\"outlinewidth\":0,\"ticks\":\"\"}}}],\"carpet\":[{\"aaxis\":{\"endlinecolor\":\"#2a3f5f\",\"gridcolor\":\"white\",\"linecolor\":\"white\",\"minorgridcolor\":\"white\",\"startlinecolor\":\"#2a3f5f\"},\"baxis\":{\"endlinecolor\":\"#2a3f5f\",\"gridcolor\":\"white\",\"linecolor\":\"white\",\"minorgridcolor\":\"white\",\"startlinecolor\":\"#2a3f5f\"},\"type\":\"carpet\"}],\"table\":[{\"cells\":{\"fill\":{\"color\":\"#EBF0F8\"},\"line\":{\"color\":\"white\"}},\"header\":{\"fill\":{\"color\":\"#C8D4E3\"},\"line\":{\"color\":\"white\"}},\"type\":\"table\"}],\"barpolar\":[{\"marker\":{\"line\":{\"color\":\"#E5ECF6\",\"width\":0.5},\"pattern\":{\"fillmode\":\"overlay\",\"size\":10,\"solidity\":0.2}},\"type\":\"barpolar\"}],\"pie\":[{\"automargin\":true,\"type\":\"pie\"}]},\"layout\":{\"autotypenumbers\":\"strict\",\"colorway\":[\"#636efa\",\"#EF553B\",\"#00cc96\",\"#ab63fa\",\"#FFA15A\",\"#19d3f3\",\"#FF6692\",\"#B6E880\",\"#FF97FF\",\"#FECB52\"],\"font\":{\"color\":\"#2a3f5f\"},\"hovermode\":\"closest\",\"hoverlabel\":{\"align\":\"left\"},\"paper_bgcolor\":\"white\",\"plot_bgcolor\":\"#E5ECF6\",\"polar\":{\"bgcolor\":\"#E5ECF6\",\"angularaxis\":{\"gridcolor\":\"white\",\"linecolor\":\"white\",\"ticks\":\"\"},\"radialaxis\":{\"gridcolor\":\"white\",\"linecolor\":\"white\",\"ticks\":\"\"}},\"ternary\":{\"bgcolor\":\"#E5ECF6\",\"aaxis\":{\"gridcolor\":\"white\",\"linecolor\":\"white\",\"ticks\":\"\"},\"baxis\":{\"gridcolor\":\"white\",\"linecolor\":\"white\",\"ticks\":\"\"},\"caxis\":{\"gridcolor\":\"white\",\"linecolor\":\"white\",\"ticks\":\"\"}},\"coloraxis\":{\"colorbar\":{\"outlinewidth\":0,\"ticks\":\"\"}},\"colorscale\":{\"sequential\":[[0.0,\"#0d0887\"],[0.1111111111111111,\"#46039f\"],[0.2222222222222222,\"#7201a8\"],[0.3333333333333333,\"#9c179e\"],[0.4444444444444444,\"#bd3786\"],[0.5555555555555556,\"#d8576b\"],[0.6666666666666666,\"#ed7953\"],[0.7777777777777778,\"#fb9f3a\"],[0.8888888888888888,\"#fdca26\"],[1.0,\"#f0f921\"]],\"sequentialminus\":[[0.0,\"#0d0887\"],[0.1111111111111111,\"#46039f\"],[0.2222222222222222,\"#7201a8\"],[0.3333333333333333,\"#9c179e\"],[0.4444444444444444,\"#bd3786\"],[0.5555555555555556,\"#d8576b\"],[0.6666666666666666,\"#ed7953\"],[0.7777777777777778,\"#fb9f3a\"],[0.8888888888888888,\"#fdca26\"],[1.0,\"#f0f921\"]],\"diverging\":[[0,\"#8e0152\"],[0.1,\"#c51b7d\"],[0.2,\"#de77ae\"],[0.3,\"#f1b6da\"],[0.4,\"#fde0ef\"],[0.5,\"#f7f7f7\"],[0.6,\"#e6f5d0\"],[0.7,\"#b8e186\"],[0.8,\"#7fbc41\"],[0.9,\"#4d9221\"],[1,\"#276419\"]]},\"xaxis\":{\"gridcolor\":\"white\",\"linecolor\":\"white\",\"ticks\":\"\",\"title\":{\"standoff\":15},\"zerolinecolor\":\"white\",\"automargin\":true,\"zerolinewidth\":2},\"yaxis\":{\"gridcolor\":\"white\",\"linecolor\":\"white\",\"ticks\":\"\",\"title\":{\"standoff\":15},\"zerolinecolor\":\"white\",\"automargin\":true,\"zerolinewidth\":2},\"scene\":{\"xaxis\":{\"backgroundcolor\":\"#E5ECF6\",\"gridcolor\":\"white\",\"linecolor\":\"white\",\"showbackground\":true,\"ticks\":\"\",\"zerolinecolor\":\"white\",\"gridwidth\":2},\"yaxis\":{\"backgroundcolor\":\"#E5ECF6\",\"gridcolor\":\"white\",\"linecolor\":\"white\",\"showbackground\":true,\"ticks\":\"\",\"zerolinecolor\":\"white\",\"gridwidth\":2},\"zaxis\":{\"backgroundcolor\":\"#E5ECF6\",\"gridcolor\":\"white\",\"linecolor\":\"white\",\"showbackground\":true,\"ticks\":\"\",\"zerolinecolor\":\"white\",\"gridwidth\":2}},\"shapedefaults\":{\"line\":{\"color\":\"#2a3f5f\"}},\"annotationdefaults\":{\"arrowcolor\":\"#2a3f5f\",\"arrowhead\":0,\"arrowwidth\":1},\"geo\":{\"bgcolor\":\"white\",\"landcolor\":\"#E5ECF6\",\"subunitcolor\":\"white\",\"showland\":true,\"showlakes\":true,\"lakecolor\":\"white\"},\"title\":{\"x\":0.05},\"mapbox\":{\"style\":\"light\"}}},\"xaxis\":{\"anchor\":\"y\",\"domain\":[0.0,1.0],\"title\":{\"text\":\"Tackle\"},\"categoryorder\":\"array\",\"categoryarray\":[1,0]},\"yaxis\":{\"anchor\":\"x\",\"domain\":[0.0,1.0],\"title\":{\"text\":\"Player Weight\"}},\"legend\":{\"title\":{\"text\":\"Tackle\"},\"tracegroupgap\":0},\"title\":{\"text\":\"Box Plot: Tackle vs Player Weight\"},\"boxmode\":\"overlay\"},                        {\"responsive\": true}                    ).then(function(){\n",
       "                            \n",
       "var gd = document.getElementById('90f405d8-f299-47d3-9e09-cf5f8862b10a');\n",
       "var x = new MutationObserver(function (mutations, observer) {{\n",
       "        var display = window.getComputedStyle(gd).display;\n",
       "        if (!display || display === 'none') {{\n",
       "            console.log([gd, 'removed!']);\n",
       "            Plotly.purge(gd);\n",
       "            observer.disconnect();\n",
       "        }}\n",
       "}});\n",
       "\n",
       "// Listen for the removal of the full notebook cells\n",
       "var notebookContainer = gd.closest('#notebook-container');\n",
       "if (notebookContainer) {{\n",
       "    x.observe(notebookContainer, {childList: true});\n",
       "}}\n",
       "\n",
       "// Listen for the clearing of the current output cell\n",
       "var outputEl = gd.closest('.output');\n",
       "if (outputEl) {{\n",
       "    x.observe(outputEl, {childList: true});\n",
       "}}\n",
       "\n",
       "                        })                };                });            </script>        </div>"
      ]
     },
     "metadata": {},
     "output_type": "display_data"
    }
   ],
   "source": [
    "fig_weight_box = px.box(df, x='tackle', y='weight', color='tackle', labels={'weight': 'Player Weight', 'tackle': 'Tackle'},\n",
    "                        title='Box Plot: Tackle vs Player Weight')\n",
    "fig_weight_box.update_layout(xaxis=dict(title='Tackle'), yaxis=dict(title='Player Weight'))\n",
    "fig_weight_box.show()"
   ]
  },
  {
   "cell_type": "markdown",
   "id": "876a54b9",
   "metadata": {
    "papermill": {
     "duration": 0.022952,
     "end_time": "2024-01-04T08:56:22.367950",
     "exception": false,
     "start_time": "2024-01-04T08:56:22.344998",
     "status": "completed"
    },
    "tags": []
   },
   "source": [
    "Pass Length:"
   ]
  },
  {
   "cell_type": "code",
   "execution_count": 40,
   "id": "9fe6e115",
   "metadata": {
    "execution": {
     "iopub.execute_input": "2024-01-04T08:56:22.417006Z",
     "iopub.status.busy": "2024-01-04T08:56:22.416581Z",
     "iopub.status.idle": "2024-01-04T08:56:22.484407Z",
     "shell.execute_reply": "2024-01-04T08:56:22.483542Z"
    },
    "papermill": {
     "duration": 0.09484,
     "end_time": "2024-01-04T08:56:22.486914",
     "exception": false,
     "start_time": "2024-01-04T08:56:22.392074",
     "status": "completed"
    },
    "tags": []
   },
   "outputs": [
    {
     "data": {
      "text/html": [
       "<div>                            <div id=\"719d20c2-1f5b-4655-b9a8-23c8a6215c48\" class=\"plotly-graph-div\" style=\"height:525px; width:100%;\"></div>            <script type=\"text/javascript\">                require([\"plotly\"], function(Plotly) {                    window.PLOTLYENV=window.PLOTLYENV || {};                                    if (document.getElementById(\"719d20c2-1f5b-4655-b9a8-23c8a6215c48\")) {                    Plotly.newPlot(                        \"719d20c2-1f5b-4655-b9a8-23c8a6215c48\",                        [{\"alignmentgroup\":\"True\",\"bingroup\":\"x\",\"hovertemplate\":\"Tackle=1\\u003cbr\\u003ePass Length=%{x}\\u003cbr\\u003ecount=%{y}\\u003cextra\\u003e\\u003c\\u002fextra\\u003e\",\"legendgroup\":\"1\",\"marker\":{\"color\":\"#636efa\",\"pattern\":{\"shape\":\"\"}},\"name\":\"1\",\"offsetgroup\":\"1\",\"orientation\":\"v\",\"showlegend\":true,\"x\":[null,-3.0,null,9.0,null,null,-5.0,null,null,6.0,22.0,-3.0,null,-4.0,-1.0,4.0,0.0,null,-2.0,6.0,3.0,3.0,null,null,5.0,4.0,12.0,-5.0,null,7.0,null,4.0,4.0,null,-3.0,6.0,2.0,3.0,6.0,10.0,40.0,null,null,null,1.0,2.0,null,null,12.0,5.0,10.0,4.0,-1.0,null,null,8.0,null,null,-1.0,1.0,null,-3.0,6.0,5.0,null,null,null,4.0,null,null,null,-3.0,null,null,11.0,null,null,null,null,-4.0,null,4.0,null,14.0,-1.0,null,3.0,null,2.0,20.0,10.0,13.0,null,12.0,0.0,null,null,0.0,null,null,6.0,15.0,4.0,null,null,null,null,20.0,1.0,6.0,null,null,5.0,null,null,3.0,null,1.0,-1.0,6.0,9.0,null,null,null,null,6.0,19.0,-3.0,null,null,null,-3.0,null,null,null,null,null,null,5.0,10.0,8.0,null,-2.0,-1.0,-2.0,null,null,33.0,null,null,null,6.0,2.0,6.0,4.0,null,null,null,5.0,6.0,7.0,6.0,6.0,4.0,-1.0,-2.0,-4.0,null,0.0,5.0,null,4.0,-1.0,1.0,-2.0,null,2.0,null,null,null,-2.0,5.0,null,null,-7.0,5.0,null,11.0,4.0,5.0,22.0,9.0,null,null,11.0,9.0,1.0,13.0,null,null,4.0,null,-6.0,null,null,null,null,null,2.0,null,null,null,null,10.0,2.0,6.0,null,6.0,-7.0,null,-7.0,null,-3.0,null,null,6.0,-9.0,-6.0,1.0,null,null,-4.0,null,0.0,null,11.0,6.0,null,-4.0,null,null,-3.0,11.0,null,null,null,null,null,null,null,5.0,2.0,-3.0,null,6.0,6.0,5.0,35.0,2.0,16.0,23.0,null,5.0,2.0,-4.0,5.0,1.0,null,-4.0,null,null,null,null,null,null,null,null,null,1.0,4.0,8.0,null,null,0.0,-2.0,null,null,9.0,1.0,-5.0,null,-2.0,null,null,3.0,6.0,0.0,null,null,null,null,-6.0,17.0,null,-2.0,null,null,13.0,5.0,null,null,4.0,17.0,4.0,5.0,5.0,null,6.0,null,null,null,6.0,null,null,21.0,-1.0,null,13.0,6.0,null,5.0,null,null,10.0,null,10.0,-2.0,null,null,null,null,null,5.0,13.0,null,null,null,null,2.0,null,2.0,13.0,11.0,null,11.0,15.0,4.0,null,0.0,null,3.0,null,-1.0,-1.0,25.0,-2.0,5.0,-2.0,null,null,null,3.0,-1.0,5.0,4.0,10.0,null,5.0,-1.0,6.0,3.0,23.0,null,2.0,5.0,2.0,5.0,null,5.0,null,18.0,3.0,-3.0,null,null,null,1.0,1.0,3.0,4.0,null,9.0,null,0.0,null,-4.0,null,null,21.0,42.0,11.0,0.0,8.0,0.0,24.0,null,null,-5.0,null,null,null,-6.0,null,null,null,-2.0,null,null,null,null,-1.0,null,null,null,3.0,0.0,null,null,null,4.0,0.0,null,null,null,null,8.0,25.0,null,null,0.0,5.0,19.0,null,3.0,-3.0,null,null,4.0,-2.0,17.0,null,null,null,null,-5.0,null,null,6.0,6.0,null,5.0,null,null,null,null,null,null,8.0,17.0,9.0,null,2.0,null,45.0,null,null,null,null,3.0,null,null,-6.0,null,null,null,null,3.0,12.0,null,5.0,-3.0,null,null,null,-5.0,6.0,null,null,3.0,-6.0,12.0,null,-6.0,12.0,null,null,4.0,13.0,null,null,4.0,8.0,4.0,28.0,3.0,null,null,0.0,36.0,null,16.0,null,null,1.0,1.0,13.0,5.0,null,null,null,null,2.0,6.0,0.0,4.0,2.0,null,2.0,15.0,null,null,null,null,null,5.0,null,5.0,null,null,null,4.0,null,null,null,null,null,null,null,null,null,-3.0,9.0,5.0,null,null,-5.0,null,null,4.0,4.0,3.0,null,-4.0,null,-4.0,11.0,null,7.0,19.0,0.0,5.0,null,10.0,5.0,16.0,null,null,null,23.0,null,null,null,4.0,null,null,null,null,3.0,19.0,3.0,-5.0,2.0,null,2.0,26.0,4.0,-4.0,null,18.0,null,null,null,null,null,null,7.0,null,null,3.0,1.0,null,null,null,null,null,13.0,null,2.0,null,13.0,null,null,-1.0,5.0,3.0,18.0,null,16.0,6.0,null,-4.0,null,-3.0,4.0,11.0,10.0,10.0,null,null,-3.0,null,-2.0,null,-4.0,10.0,9.0,-4.0,null,null,null,null,null,-6.0,4.0,-2.0,1.0,null,8.0,2.0,null,null,-2.0,4.0,26.0,5.0,null,null,1.0,null,null,4.0,20.0,-3.0,null,null,null,5.0,null,3.0,10.0,5.0,4.0,3.0,-2.0,null,null,0.0,9.0,null,-2.0,null,null,null,-5.0,-1.0,2.0,4.0,-1.0,6.0,6.0,11.0,5.0,-2.0,null,10.0,null,-2.0,null,null,null,null,null,null,null,null,-1.0,-4.0,-1.0,null,null,-2.0,5.0,0.0,null,-3.0,1.0,-1.0,1.0,12.0,-1.0,null,null,2.0,3.0,4.0,-5.0,null,null,null,6.0,null,null,null,-5.0,3.0,null,null,null,-2.0,null,-6.0,-4.0,-2.0,17.0,-4.0,null,4.0,null,null,-3.0,16.0,14.0,15.0,12.0,null,null,null,5.0,null,null,null,3.0,11.0,-1.0,null,-3.0,null,-2.0,null,null,0.0,16.0,null,null,0.0,null,null,-6.0,null,null,0.0,4.0,4.0,0.0,3.0,5.0,4.0,null,-6.0,5.0,null,2.0,null,11.0,3.0,null,null,5.0,-2.0,2.0,5.0,null,-2.0,null,6.0,null,null,null,9.0,6.0,null,null,14.0,null,null,null,null,null,6.0,8.0,0.0,null,null,-3.0,12.0,10.0,null,null,null,0.0,2.0,6.0,1.0,null,6.0,-3.0,null,6.0,null,null,5.0,null,null,2.0,null,null,null,4.0,12.0,14.0,null,null,-2.0,-1.0,null,null,5.0,3.0,-2.0,null,3.0,null,2.0,null,null,null,53.0,-1.0,-2.0,4.0,-4.0,-1.0,4.0,5.0,5.0,null,null,null,null,null,-2.0,11.0,5.0,null,null,null,null,13.0,null,null,null,null,null,null,null,null,2.0,0.0,4.0,null,10.0,4.0,0.0,9.0,7.0,22.0,2.0,7.0,7.0,25.0,6.0,5.0,8.0,null,11.0,0.0,13.0,8.0,0.0,-2.0,-4.0,null,null,null,-3.0,null,5.0,null,null,null,null,7.0,4.0,6.0,null,26.0,13.0,20.0,null,null,null,null,null,4.0,null,null,0.0,1.0,-1.0,null,null,3.0,5.0,0.0,4.0,0.0,3.0,null,1.0,7.0,0.0,null,5.0,null,null,3.0,-5.0,null,null,7.0,null,null,null,2.0,7.0,null,null,null,6.0,null,8.0,3.0,null,null,-1.0,-5.0,2.0,null,null,16.0,2.0,-2.0,null,null,0.0,36.0,16.0,-2.0,null,null,null,null,null,9.0,null,15.0,null,null,null,5.0,-5.0,null,13.0,null,null,null,-4.0,0.0,16.0,null,null,0.0,null,null,null,null,-2.0,null,null,null,null,null,null,-2.0,null,null,3.0,null,16.0,3.0,40.0,-4.0,null,null,null,5.0,null,null,null,null,null,null,6.0,19.0,8.0,null,null,-7.0,null,null,7.0,null,null,null,null,18.0,2.0,16.0,null,-6.0,4.0,16.0,8.0,18.0,12.0,null,3.0,null,null,9.0,null,4.0,null,null,null,17.0,19.0,6.0,null,-5.0,null,7.0,11.0,1.0,5.0,11.0,null,null,null,null,null,null,null,null,11.0,2.0,4.0,13.0,2.0,null,null,2.0,null,0.0,-3.0,null,null,11.0,null,null,null,null,10.0,null,null,-2.0,1.0,4.0,null,0.0,null,9.0,4.0,null,13.0,10.0,0.0,20.0,11.0,null,-1.0,0.0,7.0,null,null,8.0,5.0,23.0,0.0,null,null,5.0,null,2.0,4.0,4.0,null,null,6.0,6.0,0.0,null,null,7.0,7.0,3.0,7.0,null,2.0,null,-5.0,null,5.0,-4.0,null,-3.0,-5.0,null,6.0,null,3.0,null,null,-6.0,null,12.0,18.0,null,null,-1.0,null,null,7.0,null,5.0,null,null,null,null,null,0.0,1.0,13.0,null,13.0,null,null,null,null,null,7.0,6.0,6.0,9.0,1.0,5.0,1.0,null,null,7.0,null,4.0,5.0,7.0,7.0,null,null,null,null,3.0,-1.0,-4.0,null,null,null,0.0,15.0,-2.0,14.0,9.0,null,0.0,-8.0,-4.0,null,null,null,0.0,null,3.0,-4.0,3.0,2.0,null,null,null,null,null,2.0,null,15.0,2.0,null,5.0,null,5.0,2.0,4.0,null,10.0,null,5.0,2.0,6.0,16.0,7.0,6.0,8.0,null,5.0,null,null,1.0,1.0,null,null,null,null,null,null,6.0,3.0,16.0,7.0,null,12.0,13.0,1.0,null,null,null,null,null,16.0,15.0,null,null,null,1.0,null,-6.0,null,null,9.0,2.0,null,null,null,null,null,null,null,null,null,null,null,0.0,null,5.0,1.0,7.0,5.0,null,3.0,null,null,null,4.0,null,null,null,15.0,2.0,13.0,13.0,6.0,7.0,null,null,null,9.0,7.0,null,null,null,null,null,null,4.0,-4.0,null,null,null,null,null,null,null,null,null,null,16.0,null,1.0,null,null,5.0,1.0,4.0,-6.0,3.0,4.0,null,1.0,null,2.0,-5.0,-8.0,null,6.0,null,2.0,5.0,null,null,null,null,2.0,null,null,null,null,null,null,null,-2.0,-2.0,-5.0,7.0,6.0,null,null,null,2.0,null,null,0.0,null,-2.0,null,0.0,4.0,0.0,4.0,12.0,8.0,null,null,-5.0,null,null,null,2.0,9.0,null,null,29.0,6.0,6.0,null,null,11.0,null,null,-5.0,-2.0,-2.0,null,2.0,1.0,null,null,null,null,null,null,null,null,null,4.0,16.0,null,14.0,18.0,null,null,null,null,13.0,null,15.0,0.0,5.0,8.0,null,12.0,3.0,5.0,null,null,6.0,null,null,-3.0,null,null,35.0,17.0,47.0,null,-1.0,-1.0,10.0,6.0,0.0,47.0,null,null,null,null,15.0,6.0,-2.0,null,7.0,null,-3.0,null,null,8.0,null,null,null,null,6.0,27.0,10.0,null,null,null,null,null,16.0,null,5.0,null,null,null,null,null,5.0,null,3.0,null,2.0,null,null,9.0,null,null,8.0,11.0,null,null,null,null,null,null,null,null,null,null,4.0,2.0,null,null,null,10.0,5.0,1.0,9.0,7.0,null,null,null,4.0,8.0,null,null,null,null,-4.0,12.0,null,1.0,3.0,14.0,3.0,5.0,-3.0,null,null,5.0,null,14.0,null,null,null,5.0,null,null,null,null,3.0,null,null,-2.0,null,3.0,-5.0,-2.0,null,null,null,null,null,null,null,5.0,15.0,11.0,null,19.0,14.0,11.0,1.0,15.0,-1.0,3.0,13.0,20.0,null,30.0,null,null,1.0,17.0,31.0,null,2.0,13.0,null,null,null,0.0,null,null,14.0,null,0.0,8.0,4.0,null,1.0,null,null,null,null,null,null,7.0,1.0,null,null,null,null,null,null,0.0,12.0,19.0,3.0,null,null,null,null,null,null,null,null,null,null,null,-4.0,null,18.0,12.0,null,4.0,5.0,7.0,1.0,5.0,null,null,5.0,7.0,null,null,9.0,13.0,6.0,20.0,null,14.0,27.0,14.0,7.0,-5.0,-5.0,6.0,7.0,8.0,null,null,null,24.0,null,26.0,null,null,null,null,-2.0,null,-2.0,null,null,null,1.0,null,-6.0,13.0,null,-7.0,8.0,null,null,1.0,null,null,null,null,16.0,-5.0,null,null,-1.0,null,4.0,null,null,null,null,23.0,null,null,null,null,null,null,8.0,null,null,null,3.0,3.0,15.0,null,5.0,4.0,null,12.0,17.0,null,null,null,2.0,null,3.0,4.0,null,null,8.0,6.0,null,null,42.0,5.0,null,null,null,null,null,null,null,5.0,null,-1.0,null,null,null,null,null,null,null,null,null,null,10.0,2.0,-1.0,2.0,16.0,12.0,null,-1.0,-1.0,16.0,21.0,null,1.0,-6.0,9.0,6.0,-2.0,null,null,18.0,null,null,23.0,null,null,4.0,-6.0,0.0,11.0,null,null,9.0,24.0,5.0,8.0,-5.0,-3.0,null,null,null,null,-3.0,null,null,4.0,3.0,null,null,null,null,0.0,-1.0,4.0,4.0,null,null,-2.0,null,null,null,null,0.0,null,null,null,null,null,3.0,null,null,null,null,null,6.0,10.0,null,null,null,3.0,11.0,null,11.0,-2.0,11.0,null,null,-2.0,null,4.0,0.0,11.0,null,null,null,null,null,null,null,null,null,null,null,null,0.0,null,14.0,12.0,-3.0,null,null,-1.0,5.0,null,null,5.0,-2.0,9.0,2.0,4.0,6.0,null,null,null,null,null,5.0,null,7.0,null,null,null,-2.0,null,null,null,null,null,null,9.0,5.0,15.0,1.0,null,-2.0,6.0,-5.0,-1.0,3.0,4.0,17.0,null,null,4.0,null,null,null,null,null,-4.0,null,14.0,null,5.0,11.0,6.0,10.0,8.0,null,null,1.0,-1.0,null,null,0.0,null,10.0,null,null,null,null,null,-3.0,6.0,null,null,null,null,6.0,null,0.0,null,8.0,null,null,null,null,6.0,11.0,14.0,6.0,6.0,null,null,null,6.0,null,null,5.0,5.0,null,5.0,null,null,null,null,null,null,6.0,17.0,13.0,-1.0,11.0,13.0,5.0,11.0,10.0,-1.0,null,-2.0,null,null,6.0,null,1.0,null,null,-2.0,null,null,null,null,3.0,null,14.0,null,0.0,2.0,null,null,null,null,null,null,null,null,-4.0,null,null,-5.0,-5.0,9.0,14.0,2.0,null,null,null,null,null,null,null,null,null,null,5.0,null,null,8.0,null,null,null,null,null,null,null,null,null,null,-2.0,8.0,-1.0,0.0,6.0,null,null,null,null,null,null,null,21.0,12.0,null,0.0,8.0,11.0,9.0,11.0,0.0,null,null,null,20.0,21.0,null,3.0,1.0,17.0,null,8.0,null,8.0,17.0,null,3.0,null,null,5.0,18.0,null,6.0,null,null,6.0,3.0,null,9.0,null,null,null,null,null,null,null,2.0,null,null,null,null,2.0,null,4.0,null,-7.0,5.0,6.0,5.0,null,null,4.0,14.0,12.0,null,null,null,13.0,null,null,null,null,null,-7.0,null,null,null,null,null,null,5.0,4.0,1.0,-1.0,null,-1.0,1.0,5.0,-1.0,null,null,null,20.0,null,0.0,-5.0,10.0,-1.0,null,null,null,9.0,-7.0,null,null,null,null,null,null,null,2.0,null,null,null,null,null,-2.0,null,null,null,2.0,4.0,null,null,null,3.0,13.0,8.0,3.0,0.0,-3.0,null,14.0,5.0,null,null,14.0,null,2.0,7.0,-7.0,null,6.0,14.0,null,null,null,null,null,null,null,3.0,3.0,null,null,null,null,6.0,null,17.0,-6.0,10.0,null,null,27.0,9.0,8.0,4.0,1.0,null,null,0.0,null,-6.0,-3.0,6.0,null,null,null,null,null,null,null,null,1.0,null,5.0,null,null,null,19.0,4.0,null,null,13.0,null,6.0,null,-2.0,0.0,1.0,null,-4.0,0.0,0.0,0.0,5.0,-2.0,null,null,null,2.0,13.0,14.0,0.0,14.0,null,null,null,null,1.0,null,null,null,null,6.0,null,null,7.0,null,-3.0,null,null,null,null,null,null,14.0,20.0,-3.0,null,15.0,null,22.0,-2.0,9.0,null,null,null,null,null,null,3.0,null,8.0,6.0,null,null,null,null,-5.0,null,null,null,null,3.0,-2.0,36.0,-2.0,6.0,-2.0,3.0,4.0,4.0,27.0,6.0,-4.0,null,14.0,5.0,7.0,13.0,16.0,null,null,null,null,null,null,3.0,4.0,null,null,2.0,-5.0,null,null,null,null,null,5.0,null,null,null,null,null,null,null,null,null,null,-3.0,null,null,-5.0,null,-4.0,-3.0,null,null,null,4.0,4.0,1.0,null,null,null,null,null,null,null,null,6.0,8.0,null,null,null,null,null,null,5.0,17.0,6.0,1.0,-2.0,null,null,null,null,11.0,2.0,null,null,null,-2.0,null,null,2.0,null,null,null,null,14.0,null,-3.0,3.0,2.0,8.0,-6.0,-2.0,null,20.0,16.0,null,4.0,6.0,7.0,34.0,15.0,null,1.0,9.0,null,5.0,-4.0,0.0,null,8.0,15.0,14.0,16.0,null,20.0,null,null,null,null,null,0.0,null,null,null,null,null,null,null,null,null,null,null,null,null,null,null,null,null,-2.0,null,null,null,null,5.0,7.0,null,null,null,-2.0,4.0,10.0,5.0,null,4.0,null,-1.0,null,null,-1.0,null,4.0,null,null,4.0,29.0,null,null,null,null,null,7.0,0.0,null,-3.0,null,null,null,15.0,null,null,null,null,null,null,null,null,47.0,null,17.0,29.0,null,0.0,3.0,null,10.0,null,null,null,12.0,5.0,null,null,14.0,-5.0,null,21.0,-2.0,null,-5.0,11.0,null,-2.0,null,null,7.0,null,-3.0,-6.0,7.0,null,19.0,-4.0,null,11.0,18.0,29.0,-5.0,null,null,null,null,null,null,null,12.0,10.0,null,4.0,null,7.0,null,8.0,3.0,4.0,0.0,null,null,4.0,null,null,0.0,0.0,7.0,4.0,null,null,null,null,null,-8.0,null,null,null,16.0,-1.0,null,17.0,null,null,16.0,null,null,null,null,null,null,null,3.0,3.0,14.0,48.0,null,null,null,3.0,5.0,-5.0,-2.0,4.0,-4.0,3.0,7.0,null,3.0,null,null,null,null,17.0,null,-7.0,4.0,1.0,-3.0,3.0,-3.0,null,10.0,3.0,null,null,null,null,null,null,null,null,null,null,null,16.0,null,null,-5.0,23.0,0.0,null,6.0,19.0,4.0,-4.0,null,3.0,null,null,3.0,3.0,null,null,null,null,null,null,5.0,null,-5.0,null,null,3.0,5.0,null,null,-4.0,null,0.0,null,4.0,2.0,null,null,-3.0,15.0,null,null,null,null,null,7.0,3.0,27.0,null,null,18.0,4.0,null,17.0,null,3.0,null,23.0,-4.0,-2.0,null,null,null,-2.0,9.0,null,null,null,13.0,null,-2.0,15.0,3.0,null,null,null,12.0,5.0,null,4.0,null,null,null,null,11.0,2.0,-5.0,-4.0,-3.0,null,null,null,null,null,null,null,null,0.0,12.0,2.0,-1.0,1.0,-1.0,1.0,null,13.0,null,3.0,5.0,null,20.0,10.0,null,null,-3.0,0.0,3.0,7.0,3.0,16.0,null,null,1.0,null,6.0,4.0,null,12.0,null,12.0,-3.0,null,12.0,0.0,8.0,null,4.0,6.0,null,11.0,null,null,null,null,null,null,-6.0,0.0,-2.0,5.0,null,5.0,null,-2.0,null,null,null,20.0,null,4.0,null,null,-5.0,20.0,-3.0,4.0,null,-2.0,null,0.0,6.0,5.0,3.0,9.0,4.0,2.0,2.0,4.0,-3.0,null,null,null,null,-4.0,null,10.0,0.0,0.0,null,-4.0,null,null,-2.0,16.0,8.0,null,1.0,0.0,0.0,5.0,12.0,16.0,5.0,19.0,null,-6.0,null,null,null,null,null,null,null,4.0,7.0,null,null,null,null,null,null,-1.0,null,5.0,null,9.0,-4.0,1.0,null,null,null,null,4.0,null,null,3.0,null,null,null,null,3.0,null,-3.0,null,null,-3.0,3.0,5.0,2.0,1.0,9.0,13.0,5.0,8.0,null,null,7.0,-3.0,null,3.0,null,11.0,12.0,4.0,null,null,5.0,null,15.0,null,6.0,0.0,-4.0,null,1.0,9.0,null,null,null,7.0,null,null,6.0,-3.0,4.0,10.0,null,null,13.0,4.0,-1.0,5.0,null,-5.0,null,null,-4.0,null,null,null,null,-4.0,3.0,4.0,null,null,-2.0,null,-1.0,null,4.0,4.0,null,null,0.0,null,5.0,null,7.0,7.0,-2.0,14.0,30.0,null,null,null,13.0,null,6.0,16.0,27.0,8.0,null,19.0,5.0,null,17.0,4.0,12.0,null,null,null,12.0,-2.0,17.0,9.0,-1.0,null,null,null,null,null,null,null,null,null,null,null,6.0,-4.0,30.0,null,null,null,null,null,null,null,null,-4.0,null,null,null,null,-4.0,null,null,null,null,null,null,null,null,null,6.0,null,null,null,null,11.0,null,null,null,6.0,null,null,null,null,null,null,0.0,null,null,20.0,null,null,null,null,-3.0,null,null,null,null,null,null,null,null,null,null,6.0,1.0,null,null,27.0,2.0,-1.0,19.0,3.0,null,7.0,null,-4.0,null,6.0,null,13.0,null,4.0,7.0,4.0,null,2.0,6.0,4.0,null,0.0,-4.0,null,null,-4.0,null,13.0,null,20.0,null,null,9.0,5.0,null,null,6.0,4.0,-4.0,null,null,null,null,null,null,null,null,18.0,-3.0,40.0,15.0,3.0,0.0,null,18.0,14.0,-2.0,41.0,8.0,6.0,-2.0,null,15.0,null,15.0,null,7.0,2.0,null,null,null,10.0,null,null,2.0,-5.0,null,-5.0,null,null,null,27.0,null,2.0,-1.0,-5.0,null,null,18.0,null,-5.0,4.0,17.0,4.0,2.0,null,3.0,null,-3.0,5.0,2.0,14.0,null,8.0,null,null,8.0,null,null,null,null,null,null,null,7.0,null,null,null,-2.0,null,null,null,5.0,7.0,4.0,null,null,null,null,null,2.0,5.0,null,null,null,17.0,13.0,3.0,0.0,null,null,null,null,null,null,null,-1.0,null,5.0,null,null,null,-5.0,21.0,15.0,null,null,null,2.0,null,null,null,-3.0,1.0,16.0,null,null,null,3.0,-5.0,1.0,null,null,17.0,null,null,null,9.0,12.0,null,null,null,null,null,null,null,null,null,null,null,null,null,9.0,4.0,-4.0,null,null,null,1.0,-2.0,null,1.0,5.0,0.0,null,null,9.0,-5.0,2.0,9.0,-5.0,14.0,11.0,5.0,null,null,null,null,18.0,null,-1.0,null,0.0,null,null,-2.0,4.0,4.0,2.0,10.0,null,4.0,2.0,null,7.0,null,null,5.0,null,6.0,null,null,null,5.0,6.0,-5.0,null,5.0,null,3.0,-5.0,null,null,null,36.0,12.0,null,null,null,null,-5.0,21.0,3.0,0.0,14.0,null,1.0,1.0,11.0,4.0,null,15.0,null,null,null,null,null,null,null,null,null,1.0,-4.0,1.0,null,null,null,null,null,-1.0,null,null,3.0,22.0,null,null,14.0,-3.0,10.0,null,7.0,null,null,null,null,2.0,null,null,-5.0,null,null,-3.0,null,null,null,null,null,null,null,null,4.0,null,5.0,7.0,null,-1.0,6.0,null,null,null,null,null,null,15.0,null,null,null,null,null,11.0,null,null,null,null,null,null,null,null,null,null,null,null,null,null,null,null,null,null,0.0,null,16.0,13.0,51.0,null,null,null,null,5.0,-1.0,9.0,null,null,null,5.0,null,null,18.0,-4.0,null,null,null,null,null,null,null,null,null,null,-8.0,null,null,null,null,null,null,9.0,null,null,null,null,null,null,null,null,null,-3.0,null,null,null,12.0,null,1.0,0.0,null,null,null,null,25.0,null,null,null,null,-2.0,null,null,2.0,null,12.0,null,8.0,2.0,null,null,null,2.0,null,null,null,7.0,17.0,null,null,null,null,null,null,6.0,7.0,null,9.0,5.0,-2.0,null,17.0,null,null,null,null,-3.0,40.0,-4.0,null,null,null,2.0,4.0,18.0,null,null,null,null,null,10.0,0.0,5.0,null,14.0,null,15.0,9.0,null,null,null,7.0,null,null,null,null,null,null,null,-3.0,null,null,null,null,5.0,null,0.0,null,5.0,22.0,null,null,6.0,null,null,-2.0,null,null,null,4.0,-2.0,null,null,null,3.0,0.0,16.0,null,null,-2.0,null,null,2.0,null,null,null,null,null,2.0,10.0,null,null,null,null,null,null,null,0.0,-1.0,17.0,5.0,null,-3.0,null,null,null,null,20.0,null,12.0,null,null,null,null,4.0,null,null,null,null,null,-4.0,null,0.0,-1.0,null,null,-2.0,null,null,null,null,null,7.0,null,null,null,null,-2.0,null,null,null,null,null,6.0,null,13.0,null,2.0,null,null,null,null,null,-2.0,-4.0,16.0,null,null,null,8.0,13.0,-1.0,-2.0,38.0,null,null,9.0,null,null,16.0,null,null,null,null,20.0,15.0,12.0,-3.0,null,-2.0,null,null,13.0,null,2.0,null,null,1.0,null,null,null,null,null,6.0,-3.0,0.0,null,6.0,1.0,null,null,null,null,7.0,2.0,5.0,null,0.0,1.0,null,17.0,1.0,20.0,null,14.0,null,null,null,null,null,null,null,4.0,null,null,null,-5.0,null,21.0,7.0,0.0,15.0,-1.0,null,18.0,null,null,null,null,null,null,null,null,null,null,null,null,7.0,8.0,null,null,20.0,null,null,null,null,null,null,15.0,null,2.0,5.0,11.0,null,2.0,null,null,3.0,3.0,3.0,4.0,4.0,null,-3.0,22.0,null,null,0.0,15.0,4.0,2.0,3.0,6.0,null,10.0,7.0,25.0,null,2.0,null,3.0,-2.0,null,4.0,7.0,10.0,-3.0,-1.0,null,null,null,null,-3.0,8.0,0.0,4.0,5.0,-4.0,null,null,null,8.0,4.0,null,3.0,0.0,17.0,0.0,null,null,null,null,null,null,null,null,null,null,null,null,null,-6.0,4.0,null,3.0,null,12.0,null,2.0,10.0,-3.0,null,-5.0,null,-2.0,20.0,null,null,null,null,null,-4.0,-5.0,null,-2.0,4.0,null,null,4.0,null,0.0,3.0,null,1.0,null,null,null,1.0,null,13.0,-3.0,null,null,null,13.0,null,null,null,null,null,null,null,null,null,2.0,23.0,19.0,14.0,null,-1.0,0.0,8.0,1.0,null,null,null,null,null,2.0,null,null,null,null,null,1.0,12.0,null,-3.0,null,4.0,59.0,-5.0,0.0,8.0,10.0,3.0,21.0,8.0,-1.0,null,0.0,-2.0,null,null,1.0,35.0,null,null,3.0,16.0,null,null,null,null,16.0,13.0,18.0,16.0,11.0,4.0,null,6.0,2.0,null,14.0,null,null,0.0,2.0,null,null,null,0.0,null,null,null,4.0,null,8.0,26.0,null,null,null,null,-1.0,null,null,null,null,null,-4.0,null,null,null,null,-3.0,-1.0,null,7.0,-4.0,15.0,17.0,4.0,null,2.0,5.0,16.0,-1.0,null,3.0,20.0,null,5.0,null,2.0,2.0,4.0,null,-5.0,null,null,null,null,null,14.0,0.0,-5.0,null,null,5.0,null,2.0,0.0,10.0,null,12.0,null,null,1.0,null,3.0,5.0,3.0,10.0,4.0,4.0,9.0,18.0,-4.0,null,null,null,null,null,null,null,null,null,null,null,null,3.0,5.0,null,4.0,5.0,4.0,null,null,null,null,5.0,0.0,null,8.0,9.0,0.0,-3.0,null,-2.0,null,null,null,null,-2.0,null,null,null,-4.0,10.0,null,null,0.0,1.0,null,8.0,-3.0,-4.0,0.0,-2.0,null,15.0,2.0,null,21.0,-1.0,0.0,null,null,-5.0,-1.0,3.0,-1.0,null,null,null,null,-2.0,null,8.0,19.0,7.0,null,null,null,3.0,-3.0,-2.0,7.0,null,-3.0,null,null,null,null,2.0,14.0,null,5.0,15.0,19.0,14.0,4.0,null,2.0,0.0,5.0,2.0,null,5.0,null,null,0.0,null,null,3.0,null,9.0,null,null,7.0,14.0,9.0,12.0,null,null,3.0,3.0,5.0,5.0,null,null,null,5.0,3.0,null,1.0,9.0,3.0,17.0,1.0,6.0,null,-2.0,null,null,0.0,null,null,-1.0,-2.0,null,null,null,null,null,null,6.0,12.0,null,4.0,null,4.0,null,null,4.0,2.0,15.0,null,null,null,10.0,16.0,20.0,5.0,null,null,null,3.0,null,null,null,null,null,null,2.0,6.0,null,null,13.0,null,null,null,3.0,12.0,null,null,null,13.0,-2.0,null,null,13.0,null,2.0,4.0,-2.0,5.0,null,13.0,null,null,null,null,5.0,-2.0,null,null,0.0,10.0,null,10.0,9.0,null,15.0,15.0,13.0,null,15.0,null,4.0,5.0,5.0,null,null,null,4.0,2.0,null,6.0,null,-2.0,4.0,null,null,null,null,-5.0,4.0,7.0,2.0,6.0,null,null,2.0,21.0,18.0,-5.0,null,4.0,null,0.0,-1.0,null,null,null,null,null,null,null,null,null,-2.0,null,-1.0,4.0,null,null,null,null,null,null,null,null,null,null,null,null,null,null,null,1.0,null,null,null,25.0,6.0,12.0,4.0,1.0,null,8.0,-5.0,5.0,5.0,13.0,5.0,4.0,2.0,12.0,null,null,-1.0,3.0,null,4.0,12.0,null,14.0,7.0,-1.0,27.0,6.0,null,null,17.0,4.0,null,7.0,2.0,14.0,null,7.0,null,7.0,null,-3.0,null,9.0,9.0,-2.0,0.0,null,0.0,2.0,4.0,null,null,null,null,null,-3.0,null,null,1.0,null,-4.0,-5.0,-1.0,null,0.0,2.0,-3.0,null,3.0,null,null,-2.0,-4.0,null,-5.0,null,null,null,4.0,0.0,null,null,1.0,null,null,null,null,null,null,25.0,null,-6.0,17.0,null,null,5.0,null,5.0,null,5.0,4.0,null,12.0,null,null,null,null,null,0.0,14.0,6.0,5.0,22.0,null,null,3.0,4.0,9.0,5.0,null,6.0,7.0,19.0,null,null,3.0,null,null,5.0,null,null,0.0,13.0,null,3.0,14.0,null,null,10.0,14.0,null,null,null,null,null,null,null,null,4.0,null,null,null,9.0,7.0,17.0,-5.0,4.0,9.0,0.0,5.0,null,null,3.0,9.0,8.0,null,null,null,-2.0,11.0,null,0.0,-6.0,null,null,null,null,0.0,null,null,null,3.0,9.0,null,null,null,null,null,null,null,0.0,null,3.0,null,null,null,5.0,null,6.0,1.0,11.0,null,0.0,null,null,6.0,null,11.0,null,null,3.0,-6.0,null,9.0,null,null,null,null,null,null,null,4.0,20.0,-3.0,null,5.0,-2.0,null,null,null,2.0,null,null,3.0,4.0,17.0,5.0,null,36.0,15.0,-1.0,null,null,null,null,4.0,null,null,0.0,1.0,-1.0,0.0,null,null,null,null,null,3.0,1.0,null,null,null,5.0,4.0,3.0,null,7.0,null,null,null,null,5.0,null,null,3.0,null,17.0,null,null,16.0,1.0,34.0,3.0,null,null,1.0,11.0,4.0,9.0,-3.0,null,null,null,5.0,null,null,5.0,20.0,null,3.0,4.0,null,null,3.0,9.0,39.0,4.0,null,3.0,2.0,-8.0,null,4.0,7.0,-3.0,null,-3.0,null,0.0,17.0,null,null,null,5.0,2.0,null,null,6.0,null,null,null,null,null,2.0,5.0,21.0,4.0,null,1.0,3.0,null,1.0,null,null,null,null,null,null,null,null,null,16.0,5.0,null,6.0,7.0,14.0,10.0,18.0,null,null,null,null,null,null,6.0,null,3.0,null,-1.0,3.0,13.0,0.0,null,-4.0,null,null,null,6.0,12.0,14.0,-1.0,5.0,null,null,null,null,null,null,6.0,6.0,7.0,22.0,null,2.0,12.0,null,null,3.0,-6.0,null,null,-1.0,11.0,23.0,null,null,null,-6.0,null,null,null,21.0,null,16.0,19.0,null,18.0,null,null,0.0,null,null,1.0,1.0,16.0,null,18.0,null,6.0,null,-8.0,null,null,5.0,null,null,null,6.0,null,null,null,null,null,null,5.0,17.0,2.0,5.0,4.0,3.0,8.0,31.0,null,null,6.0,null,null,15.0,null,-1.0,null,4.0,21.0,null,0.0,6.0,18.0,14.0,null,null,15.0,1.0,7.0,5.0,null,null,null,null,6.0,null,null,null,2.0,null,null,2.0,null,null,null,23.0,null,null,11.0,3.0,1.0,null,null,null,null,4.0,3.0,5.0,null,null,null,6.0,-4.0,null,null,-3.0,6.0,null,null,6.0,null,null,null,3.0,-3.0,1.0,null,-3.0,null,null,null,-5.0,null,null,9.0,null,null,12.0,10.0,0.0,null,null,null,5.0,null,null,5.0,null,15.0,13.0,1.0,3.0,20.0,null,null,null,12.0,9.0,null,null,14.0,4.0,null,19.0,5.0,null,null,null,null,null,null,null,null,null,4.0,null,43.0,1.0,25.0,0.0,-2.0,2.0,-2.0,-4.0,5.0,19.0,null,3.0,11.0,null,null,-5.0,4.0,-4.0,4.0,null,5.0,null,5.0,2.0,4.0,null,null,null,null,null,-6.0,-2.0,null,6.0,null,12.0,1.0,null,0.0,21.0,-1.0,-2.0,null,15.0,14.0,14.0,42.0,6.0,-2.0,null,32.0,null,null,null,null,7.0,16.0,15.0,10.0,7.0,4.0,4.0,15.0,26.0,null,5.0,null,5.0,null,null,24.0,-2.0,null,null,4.0,4.0,null,null,null,null,-6.0,null,null,null,null,null,null,2.0,2.0,null,null,null,5.0,null,null,-5.0,null,null,4.0,null,null,null,null,null,null,20.0,0.0,null,null,6.0,13.0,-4.0,null,-1.0,null,null,null,6.0,null,null,null,null,-2.0,17.0,-1.0,12.0,0.0,null,5.0,null,null,null,-6.0,null,-2.0,null,null,null,null,null,null,6.0,null,8.0,null,null,null,null,null,null,null,7.0,null,20.0,null,-8.0,-4.0,5.0,6.0,0.0,5.0,null,null,15.0,null,0.0,4.0,2.0,9.0,-1.0,null,4.0,null,15.0,5.0,4.0,28.0,5.0,null,null,-3.0,null,null,null,null,null,-5.0,null,5.0,null,null,5.0,null,3.0,null,null,null,null,null,null,4.0,5.0,null,7.0,8.0,15.0,null,1.0,3.0,4.0,1.0,1.0,7.0,null,null,41.0,4.0,null,null,null,null,45.0,3.0,1.0,null,-2.0,null,-1.0,7.0,18.0,null,0.0,3.0,null,4.0,6.0,null,null,null,3.0,null,-4.0,2.0,null,null,null,-4.0,2.0,null,null,-2.0,5.0,null,null,5.0,34.0,2.0,null,9.0,null,0.0,5.0,null,null,null,null,null,null,null,null,null,6.0,null,null,null,1.0,11.0,null,15.0,5.0,null,null,6.0,14.0,null,-1.0,2.0,3.0,null,11.0,1.0,null,null,-3.0,null,3.0,0.0,1.0,null,null,null,-2.0,null,5.0,16.0,8.0,5.0,-1.0,2.0,16.0,14.0,null,4.0,15.0,6.0,4.0,0.0,-1.0,4.0,null,8.0,3.0,-2.0,6.0,null,null,-1.0,4.0,2.0,7.0,2.0,2.0,3.0,10.0,null,3.0,7.0,14.0,0.0,null,16.0,null,null,null,-6.0,null,null,8.0,null,null,null,null,null,null,null,null,null,null,null,null,2.0,null,15.0,null,22.0,33.0,-1.0,2.0,null,null,1.0,15.0,null,null,15.0,6.0,15.0,-3.0,-4.0,null,null,null,null,11.0,null,null,-3.0,null,null,null,14.0,null,null,null,null,null,null,null,null,null,null,null,null,null,null,null,null,null,null,null,null,-5.0,null,-3.0,-1.0,-3.0,7.0,null,null,null,null,null,null,null,null,4.0,null,13.0,9.0,9.0,null,null,3.0,2.0,1.0,9.0,5.0,-5.0,6.0,5.0,null,null,null,null,null,null,null,null,null,0.0,null,null,null,null,null,null,5.0,null,null,-1.0,null,8.0,null,null,null,null,null,0.0,null,11.0,8.0,11.0,5.0,null,2.0,19.0,2.0,3.0,null,null,-2.0,5.0,7.0,null,null,null,null,null,null,null,null,null,null,null,null,null,null,null,3.0,null,3.0,9.0,11.0,5.0,null,11.0,null,9.0,3.0,-5.0,5.0,15.0,null,-1.0,-1.0,7.0,null,null,null,-3.0,3.0,null,7.0,-3.0,null,null,null,-3.0,null,null,-4.0,null,-2.0,null,-3.0,2.0,null,null,null,-7.0,null,null,6.0,null,null,null,null,6.0,-2.0,null,null,null,null,-5.0,-2.0,22.0,-2.0,-6.0,4.0,9.0,-5.0,14.0,4.0,3.0,null,19.0,7.0,null,12.0,5.0,1.0,null,null,-4.0,null,null,null,null,null,null,null,null,null,3.0,null,null,null,31.0,7.0,null,1.0,null,15.0,-1.0,null,null,0.0,-1.0,null,3.0,15.0,null,-4.0,null,null,-5.0,null,null,null,-4.0,-4.0,null,null,null,null,3.0,null,null,null,null,null,null,18.0,12.0,16.0,null,5.0,null,null,7.0,11.0,null,15.0,-3.0,null,null,null,null,null,null,-2.0,null,null,null,null,5.0,9.0,null,-4.0,null,null,null,null,24.0,-6.0,0.0,null,null,9.0,null,null,null,null,null,-3.0,null,12.0,-1.0,null,null,null,2.0,null,null,6.0,4.0,null,-2.0,4.0,6.0,2.0,1.0,13.0,5.0,4.0,-3.0,null,null,null,39.0,8.0,17.0,11.0,-3.0,13.0,5.0,13.0,null,null,null,null,null,null,null,-6.0,6.0,-5.0,6.0,null,4.0,null,null,3.0,3.0,null,-4.0,null,null,2.0,null,8.0,null,17.0,null,null,null,null,6.0,null,null,null,-3.0,10.0,null,null,8.0,null,null,null,null,null,3.0,null,0.0,-4.0,9.0,null,-4.0,null,null,null,null,null,null,-4.0,1.0,3.0,null,null,-3.0,null,0.0,5.0,3.0,3.0,3.0,1.0,16.0,18.0,null,2.0,null,null,null,-5.0,-1.0,null,null,null,null,-3.0,null,null,-4.0,null,null,null,null,null,null,2.0,22.0,6.0,null,5.0,null,12.0,null,null,null,null,12.0,20.0,19.0,16.0,null,null,16.0,null,4.0,-3.0,null,null,null,null,null,-3.0,null,11.0,4.0,15.0,null,null,null,null,null,3.0,null,6.0,null,3.0,null,0.0,null,-2.0,null,3.0,null,null,null,6.0,-4.0,-3.0,-5.0,6.0,8.0,null,null,8.0,null,10.0,null,null,-4.0,2.0,-2.0,-6.0,-3.0,0.0,1.0,-4.0,6.0,null,null,null,null,null,null,null,null,null,3.0,10.0,-3.0,5.0,-4.0,null,11.0,null,null,2.0,12.0,21.0,14.0,null,6.0,15.0,13.0,null,6.0,null,-2.0,12.0,-3.0,null,null,0.0,null,null,null,null,5.0,19.0,1.0,-3.0,null,null,null,1.0,null,null,null,5.0,null,null,null,null,null,null,17.0,4.0,10.0,28.0,6.0,3.0,null,5.0,null,null,4.0,4.0,-1.0,3.0,null,null,null,null,null,null,9.0,6.0,null,7.0,32.0,null,null,-3.0,null,3.0,4.0,null,2.0,1.0,5.0,null,null,null,null,null,-4.0,null,6.0,7.0,-2.0,null,null,null,4.0,5.0,4.0,null,17.0,null,null,null,17.0,20.0,null,null,null,null,null,23.0,-6.0,11.0,3.0,null,8.0,null,5.0,3.0,21.0,null,19.0,46.0,null,2.0,null,-4.0,null,4.0,1.0,21.0,null,-5.0,5.0,null,null,12.0,-4.0,2.0,null,null,-2.0,-2.0,2.0,-3.0,-3.0,-2.0,13.0,15.0,21.0,null,19.0,null,null,null,3.0,null,null,null,null,null,null,3.0,4.0,null,null,null,null,null,null,3.0,5.0,-1.0,5.0,2.0,null,null,-6.0,-4.0,5.0,2.0,2.0,6.0,-2.0,null,33.0,9.0,null,2.0,10.0,11.0,null,1.0,null,null,null,null,3.0,null,null,1.0,null,null,20.0,null,null,null,null,null,null,null,null,1.0,-1.0,8.0,null,null,null,null,null,null,null,null,2.0,5.0,4.0,5.0,null,null,0.0,4.0,12.0,20.0,5.0,null,6.0,18.0,4.0,null,null,null,8.0,null,5.0,null,7.0,0.0,4.0,4.0,4.0,3.0,6.0,16.0,null,null,null,null,-5.0,4.0,14.0,5.0,5.0,3.0,25.0,-3.0,13.0,-2.0,-4.0,null,2.0,null,-3.0,4.0,null,0.0,15.0,null,null,null,null,null,null,null,null,null,-6.0,null,-2.0,null,null,2.0,12.0,2.0,null,null,null,null,-2.0,null,6.0,-3.0,null,null,null,-4.0,-2.0,null,4.0,null,null,null,3.0,-2.0,0.0,null,null,null,6.0,6.0,3.0,4.0,null,11.0,-4.0,-5.0,null,1.0,null,4.0,3.0,-3.0,null,6.0,4.0,5.0,null,null,null,null,5.0,null,null,6.0,8.0,null,6.0,null,null,3.0,null,null,null,5.0,null,null,6.0,5.0,13.0,3.0,5.0,18.0,-1.0,9.0,20.0,6.0,null,1.0,null,null,null,47.0,-3.0,null,null,null,null,5.0,null,3.0,null,null,null,17.0,null,3.0,null,null,2.0,-2.0,1.0,null,null,null,null,3.0,15.0,14.0,11.0,9.0,7.0,null,null,null,null,3.0,0.0,-1.0,null,null,null,5.0,null,2.0,null,40.0,3.0,6.0,4.0,null,5.0,8.0,5.0,-4.0,null,-6.0,3.0,23.0,null,null,-4.0,null,null,null,null,0.0,null,null,null,null,null,11.0,9.0,-5.0,null,null,8.0,-2.0,null,null,-2.0,0.0,null,null,-5.0,0.0,2.0,3.0,15.0,-5.0,5.0,8.0,4.0,4.0,1.0,null,0.0,null,null,4.0,2.0,-2.0,12.0,7.0,3.0,-5.0,-2.0,0.0,null,null,null,null,null,null,5.0,3.0,12.0,1.0,-3.0,3.0,null,null,null,null,1.0,null,null,null,null,null,null,null,null,14.0,null,3.0,3.0,null,6.0,-6.0,5.0,9.0,7.0,14.0,2.0,-1.0,-3.0,-2.0,null,null,null,-1.0,null,null,-5.0,-2.0,null,7.0,1.0,null,8.0,null,33.0,-1.0,19.0,null,19.0,7.0,null,5.0,5.0,null,null,11.0,null,6.0,null,null,40.0,null,null,-5.0,null,null,null,3.0,null,0.0,-3.0,null,null,null,12.0,null,1.0,null,null,-4.0,null,null,null,null,1.0,7.0,9.0,null,null,null,-4.0,null,null,null,null,null,null,null,null,-3.0,11.0,6.0,null,-5.0,null,null,null,16.0,-1.0,null,null,null,2.0,5.0,null,-1.0,-3.0,-2.0,1.0,null,19.0,null,null,23.0,null,-4.0,null,-3.0,-2.0,13.0,null,4.0,3.0,3.0,null,7.0,null,3.0,3.0,-3.0,null,5.0,4.0,null,10.0,null,3.0,null,null,-4.0,null,null,null,null,null,null,null,null,null,null,null,null,null,null,null,null,null,9.0,8.0,4.0,10.0,5.0,13.0,null,5.0,7.0,6.0,19.0,null,null,null,3.0,-3.0,null,5.0,-1.0,-1.0,null,3.0,null,null,-1.0,3.0,null,null,null,3.0,null,null,7.0,-4.0,-4.0,null,22.0,3.0,3.0,2.0,null,null,null,null,null,null,null,null,-4.0,2.0,null,null,5.0,null,-4.0,2.0,5.0,null,0.0,null,null,null,null,-4.0,null,null,5.0,null,null,null,null,5.0,7.0,3.0,8.0,null,null,null,null,null,null,null,null,null,-4.0,null,null,null,null,5.0,-1.0,null,17.0,6.0,null,null,null,null,null,null,null,5.0,null,null,null,2.0,0.0,null,null,null,-3.0,24.0,41.0,null,-3.0,null,null,null,null,null,null,null,null,null,null,null,null,null,2.0,null,null,19.0,1.0,-4.0,null,null,5.0,null,null,null,null,null,-6.0,null,1.0,-1.0,null,3.0,null,null,null,7.0,null,null,null,null,null,null,null,null,null,null,36.0,9.0,-3.0,21.0,null,9.0,0.0,12.0,12.0,null,null,null,null,3.0,null,4.0,1.0,null,0.0,null,5.0,6.0,null,-3.0,4.0,20.0,null,null,null,null,null,8.0,null,2.0,null,null,-3.0,7.0,null,null,3.0,null,12.0,4.0,1.0,null,4.0,-1.0,null,null,null,null,9.0,26.0,null,null,-3.0,4.0,null,7.0,4.0,null,null,5.0,12.0,19.0,14.0,19.0,5.0,3.0,null,null,null,null,null,null,null,null,null,null,21.0,null,null,8.0,8.0,-2.0,-3.0,null,null,11.0,-8.0,11.0,-2.0,15.0,10.0,5.0,null,-5.0,1.0,18.0,2.0,-2.0,6.0,10.0,6.0,9.0,3.0,4.0,-3.0,null,2.0,4.0,0.0,null,null,null,15.0,-4.0,4.0,null,4.0,null,null,null,null,null,null,14.0,10.0,1.0,null,null,3.0,-3.0,9.0,-1.0,null,null,null,-1.0,null,null,3.0,0.0,18.0,-2.0,4.0,-3.0,null,null,-3.0,-1.0,26.0,null,5.0,5.0,null,6.0,5.0,8.0,5.0,2.0,6.0,null,null,null,null,null,null,null,null,null,null,9.0,null,null,null,null,5.0,null,null,null,-1.0,0.0,21.0,null,null,null,6.0,10.0,null,null,2.0,null,null,null,-1.0,null,null,11.0,2.0,5.0,17.0,4.0,2.0,5.0,3.0,17.0,null,null,-4.0,null,null,6.0,11.0,13.0,2.0,null,null,-4.0,null,5.0,4.0,null,null,null,4.0,3.0,1.0,null,1.0,-2.0,13.0,-4.0,9.0,0.0,null,-2.0,null,-1.0,12.0,null,null,12.0,12.0,14.0,11.0,18.0,14.0,null,null,null,null,22.0,26.0,null,0.0,14.0,-4.0,null,null,0.0,null,null,7.0,6.0,null,18.0,null,13.0,11.0,4.0,null,null,2.0,1.0,null,null,2.0,null,null,-3.0,null,-2.0,1.0,null,null,-2.0,-5.0,null,3.0,24.0,null,11.0,null,null,6.0,9.0,15.0,23.0,null,4.0,7.0,23.0,2.0,null,-2.0,4.0,13.0,null,0.0,null,null,6.0,null,35.0,null,null,null,null,null,null,null,null,-4.0,null,21.0,null,2.0,null,null,20.0,null,null,null,null,null,11.0,null,21.0,null,null,null,null,null,-2.0,3.0,null,null,null,-5.0,null,null,null,2.0,null,null,null,null,null,null,28.0,0.0,null,null,null,-2.0,11.0,null,null,1.0,-5.0,5.0,0.0,14.0,17.0,null,null,0.0,null,5.0,null,null,null,null,null,-7.0,null,null,20.0,-2.0,null,null,-4.0,3.0,-2.0,null,null,7.0,6.0,null,-2.0,-2.0,null,null,-5.0,null,null,null,null,null,null,null,null,21.0,11.0,12.0,null,13.0,10.0,38.0,null,null,-5.0,null,null,-3.0,1.0,-4.0,-2.0,null,null,3.0,null,null,4.0,null,-4.0,4.0,null,-2.0,3.0,null,null,null,5.0,null,16.0,8.0,null,-4.0,null,null,null,-2.0,-4.0,6.0,null,12.0,null,null,null,null,null,null,null,null,null,null,13.0,-2.0,1.0,3.0,20.0,null,null,4.0,13.0,null,-3.0,13.0,2.0,0.0,null,null,null,0.0,null,null,10.0,10.0,null,null,null,null,null,21.0,null,null,-4.0,6.0,6.0,3.0,15.0,1.0,-1.0,15.0,12.0,5.0,null,3.0,5.0,-4.0,null,-6.0,null,null,3.0,null,null,3.0,2.0,null,null,2.0,-3.0,null,3.0,3.0,3.0,-3.0,null,4.0,18.0,1.0,2.0,-3.0,-4.0,-5.0,2.0,null,null,1.0,null,null,1.0,null,null,7.0,4.0,null,1.0,5.0,null,7.0,null,1.0,null,null,13.0,null,2.0,null,null,6.0,8.0,null,null,3.0,6.0,null,null,4.0,-2.0,16.0,5.0,6.0,null,-4.0,-5.0,3.0,2.0,-1.0,null,null,1.0,null,null,null,null,null,null,null,-5.0,null,null,-5.0,4.0,null,null,33.0,6.0,7.0,null,null,null,null,10.0,6.0,6.0,null,null,null,null,null,8.0,-1.0,null,-1.0,4.0,3.0,7.0,5.0,null,3.0,null,39.0,0.0,null,7.0,null,null,null,null,null,2.0,null,3.0,null,null,null,8.0,3.0,0.0,null,null,4.0,3.0,null,null,0.0,null,null,-3.0,null,2.0,null,7.0,null,null,null,-2.0,null,-2.0,null,null,1.0,0.0,null,null,null,null,0.0,null,null,19.0,4.0,null,1.0,4.0,7.0,null,5.0,null,3.0,-3.0,7.0,4.0,3.0,14.0,null,11.0,4.0,6.0,-1.0,null,null,null,null,-4.0,0.0,4.0,null,null,null,-3.0,null,null,null,null,16.0,null,0.0,null,null,null,null,4.0,5.0,null,null,1.0,null,-3.0,null,9.0,16.0,13.0,2.0,17.0,null,null,null,null,null,null,-2.0,2.0,18.0,15.0,null,-4.0,null,11.0,12.0,null,null,null,12.0,10.0,null,null,-1.0,null,null,null,8.0,9.0,-4.0,null,7.0,null,null,null,3.0,3.0,14.0,-2.0,null,null,null,null,null,null,0.0,15.0,null,null,null,null,-1.0,20.0,6.0,3.0,4.0,14.0,null,10.0,-2.0,5.0,12.0,null,null,null,null,4.0,1.0,4.0,13.0,0.0,null,-5.0,2.0,null,null,null,null,null,-3.0,6.0,-3.0,null,-1.0,4.0,13.0,6.0,5.0,-8.0,9.0,null,null,null,-7.0,4.0,6.0,-1.0,null,null,null,23.0,null,6.0,null,6.0,null,null,null,null,null,4.0,null,null,12.0,7.0,6.0,null,null,7.0,null,-2.0,37.0,null,-6.0,null,-2.0,null,null,null,null,4.0,null,null,-4.0,10.0,null,null,-1.0,-4.0,-4.0,1.0,null,null,4.0,5.0,null,null,3.0,3.0,3.0,null,null,5.0,7.0,13.0,7.0,7.0,null,null,-4.0,4.0,0.0,null,null,-2.0,null,11.0,10.0,0.0,null,null,null,13.0,null,null,null,null,3.0,16.0,null,null,6.0,null,-3.0,6.0,null,4.0,null,null,3.0,10.0,13.0,41.0,null,null,null,null,8.0,4.0,3.0,0.0,null,null,5.0,6.0,-7.0,4.0,null,null,-6.0,5.0,-8.0,51.0,4.0,null,null,null,null,-2.0,-3.0,-3.0,null,-2.0,null,16.0,-6.0,-2.0,null,null,null,null,-4.0,null,10.0,null,4.0,0.0,null,-5.0,null,-3.0,null,null,null,-4.0,null,null,null,null,null,7.0,4.0,5.0,null,-4.0,null,null,null,null,-5.0,null,6.0,13.0,3.0,null,8.0,null,6.0,0.0,4.0,null,null,14.0,-4.0,null,2.0,null,null,null,null,10.0,9.0,14.0,3.0,null,10.0,2.0,3.0,-4.0,null,9.0,null,null,null,null,-4.0,null,null,2.0,null,null,null,14.0,3.0,1.0,7.0,null,22.0,null,null,21.0,16.0,16.0,null,null,null,null,null,2.0,11.0,null,null,null,null,null,6.0,2.0,18.0,10.0,10.0,null,null,8.0,null,null,null,null,null,9.0,9.0,2.0,0.0,12.0,18.0,null,null,null,null,null,null,5.0,null,null,10.0,null,-1.0,null,11.0,null,-5.0,4.0,-3.0,9.0,19.0,13.0,null,null,null,5.0,null,null,null,null,12.0,null,3.0,null,2.0,0.0,null,null,null,3.0,null,null,null,null,6.0,null,-1.0,5.0,5.0,9.0,15.0,null,null,null,null,-5.0,4.0,4.0,0.0,-4.0,-1.0,null,null,null,-3.0,null,11.0,2.0,null,null,-1.0,null,null,null,4.0,null,7.0,null,null,0.0,5.0,17.0,4.0,2.0,10.0,17.0,2.0,null,9.0,null,null,null,8.0,13.0,16.0,9.0,5.0,25.0,1.0,null,null,null,null,15.0,-5.0,null,null,null,0.0,null,-5.0,null,null,null,null,null,null,null,null,null,null,-4.0,11.0,-2.0,null,-4.0,null,null,null,null,null,null,null,-3.0,-4.0,null,5.0,null,3.0,null,null,null,null,null,null,null,null,null,null,null,null,5.0,4.0,5.0,7.0,null,3.0,-4.0,13.0,6.0,null,-7.0,null,null,null,null,4.0,null,null,7.0,5.0,1.0,5.0,3.0,1.0,2.0,-1.0,0.0,null,null,0.0,null,null,-1.0,null,4.0,null,null,-5.0,null,null,null,null,null,null,null,-2.0,3.0,2.0,-3.0,-2.0,-1.0,null,null,null,null,null,null,0.0,-3.0,5.0,null,null,null,null,null,null,null,4.0,6.0,null,null,-2.0,2.0,null,null,-2.0,14.0,30.0,null,-5.0,null,null,4.0,5.0,-2.0,7.0,null,8.0,2.0,null,1.0,null,4.0,5.0,null,-1.0,null,7.0,null,1.0,2.0,32.0,12.0,null,7.0,8.0,null,4.0,-2.0,null,null,null,null,null,7.0,5.0,61.0,4.0,1.0,null,null,null,4.0,-3.0,null,null,null,null,null,null,-5.0,3.0,null,null,null,-6.0,3.0,null,6.0,3.0,8.0,-4.0,4.0,9.0,5.0,null,null,-5.0,-1.0,null,10.0,1.0,-4.0,null,null,null,null,null,null,-4.0,22.0,4.0,1.0,null,null,null,1.0,-6.0,4.0,9.0,-4.0,1.0,2.0,9.0,2.0,9.0,null,null,null,-4.0,1.0,null,null,2.0,11.0,4.0,-4.0,null,null,1.0,null,3.0,null,null,5.0,null,null,null,null,-3.0,5.0,10.0,-2.0,null,12.0,-1.0,5.0,null,null,8.0,32.0,17.0,15.0,null,-5.0,null,null,null,null,null,null,null,13.0,3.0,-3.0,9.0,13.0,12.0,-6.0,19.0,16.0,27.0,null,0.0,1.0,null,null,null,2.0,null,null,null,null,1.0,null,null,-1.0,null,2.0,null,-4.0,17.0,12.0,0.0,null,-4.0,null,null,null,-5.0,null,null,null,null,null,null,null,null,null,16.0,5.0,5.0,null,null,null,5.0,null,6.0,1.0,-7.0,null,null,null,null,null,null,null,14.0,null,15.0,7.0,6.0,2.0,null,null,null,26.0,4.0,8.0,4.0,6.0,-5.0,0.0,-4.0,5.0,5.0,null,null,null,null,15.0,6.0,-5.0,11.0,3.0,-6.0,null,null,null,null,1.0,null,null,null,5.0,2.0,-1.0,null,-2.0,null,-1.0,6.0,3.0,-1.0,11.0,14.0,null,3.0,14.0,null,null,null,5.0,0.0,null,null,-5.0,null,null,23.0,26.0,6.0,null,null,null,-3.0,5.0,6.0,2.0,8.0,null,2.0,-3.0,null,null,11.0,null,null,3.0,null,5.0,null,null,null,17.0,null,null,-6.0,8.0,null,4.0,null,3.0,19.0,null,null,5.0,-2.0,6.0,5.0,5.0,null,14.0,null,null,11.0,-6.0,null,null,null,6.0,null,0.0,-2.0,1.0,4.0,-5.0,null,4.0,6.0,3.0,0.0,1.0,7.0,null,2.0,-4.0,4.0,6.0,-3.0,5.0,4.0,1.0,4.0,null,null,11.0,null,5.0,6.0,18.0,5.0,null,1.0,-3.0,null,6.0,null,-4.0,null,5.0,3.0,15.0,null,null,null,null,7.0,-2.0,null,null,null,null,-3.0,null,6.0,null,null,null,null,null,null,null,null,null,6.0,2.0,-6.0,null,1.0,9.0,null,null,5.0,null,5.0,5.0,null,15.0,null,null,null,1.0,7.0,4.0,null,null,4.0,4.0,0.0,null,null,null,null,null,7.0,-4.0,-3.0,null,3.0,null,0.0,null,null,null,null,null,null,5.0,null,2.0,5.0,null,null,-5.0,32.0,21.0,null,null,null,1.0,11.0,null,null,2.0,null,null,null,null,null,6.0,-3.0,null,null,null,null,null,5.0,7.0,null,null,null,null,5.0,1.0,null,-4.0,-3.0,null,-4.0,null,3.0,null,11.0,2.0,null,null,null,null,11.0,16.0,null,-2.0,7.0,-4.0,3.0,6.0,5.0,5.0,23.0,-3.0,null,5.0,-2.0,null,6.0,4.0,24.0,-4.0,null,14.0,null,15.0,null,5.0,null,14.0,-3.0,null,28.0,-4.0,-3.0,-3.0,null,null,4.0,null,null,null,null,null,1.0,5.0,null,null,null,2.0,1.0,22.0,null,null,null,-6.0,-1.0,-4.0,13.0,1.0,null,null,-6.0,null,-4.0,3.0,null,null,null,null,4.0,4.0,8.0,null,null,null,6.0,null,-4.0,null,-4.0,null,4.0,null,null,null,null,4.0,4.0,-5.0,null,12.0,null,5.0,-1.0,null,-1.0,null,null,-4.0,3.0,-4.0,6.0,4.0,7.0,6.0,null,null,null,null,null,null,null,3.0,-2.0,null,null,-4.0,null,1.0,null,-5.0,null,null,10.0,16.0,4.0,4.0,null,-3.0,null,-4.0,null,null,null,null,null,8.0,6.0,null,6.0,null,null,-6.0,4.0,5.0,null,null,null,null,null,6.0,11.0,-3.0,-1.0,null,-5.0,null,null,-2.0,15.0,37.0,10.0,-2.0,-2.0,4.0,null,-3.0,0.0,-1.0,3.0,-4.0,8.0,6.0,7.0,1.0,6.0,0.0,6.0,9.0,null,31.0,null,-5.0,null,-4.0,null,null,null,null,0.0,11.0,null,null,null,3.0,0.0,6.0,2.0,6.0,null,26.0,null,null,null,null,26.0,0.0,9.0,null,6.0,5.0,3.0,11.0,7.0,null,null,14.0,4.0,11.0,null,null,10.0,-2.0,10.0,4.0,14.0,4.0,6.0,16.0,2.0,-3.0,-1.0,3.0,0.0,-4.0,0.0,27.0,4.0,-5.0,null,null,null,12.0,6.0,null,null,null,null,3.0,null,null,20.0,null,null,null,null,1.0,null,null,3.0,null,-3.0,-2.0,34.0,3.0,null,-6.0,7.0,3.0,null,null,-3.0,null,5.0,null,null,null,null,6.0,null,null,null,null,4.0,-5.0,null,null,1.0,null,-1.0,-1.0,null,null,0.0,null,null,4.0,null,null,null,null,null,21.0,11.0,5.0,null,null,null,null,null,1.0,8.0,0.0,5.0,16.0,4.0,null,null,null,null,null,-5.0,-6.0,-4.0,null,null,null,null,null,12.0,null,16.0,8.0,null,-3.0,10.0,null,null,null,3.0,6.0,null,-3.0,13.0,-6.0,null,4.0,null,5.0,null,30.0,null,null,13.0,6.0,null,6.0,0.0,null,-4.0,13.0,null,-4.0,null,null,13.0,4.0,-3.0,null,5.0,-4.0,5.0,4.0,8.0,null,12.0,-3.0,null,0.0,5.0,31.0,null,4.0,null,0.0,null,null,null,null,null,null,null,null,null,null,-4.0,17.0,null,null,null,null,-6.0,null,14.0,null,26.0,9.0,17.0,9.0,6.0,null,null,null,null,null,12.0,8.0,5.0,9.0,5.0,null,null,null,null,null,11.0,-6.0,11.0,-4.0,null,-3.0,15.0,6.0,14.0,4.0,null,null,4.0,6.0,null,null,null,6.0,null,null,null,null,11.0,5.0,null,null,null,8.0,5.0,22.0,5.0,null,null,null,30.0,3.0,null,3.0,null,1.0,-3.0,5.0,null,2.0,null,null,null,null,null,null,0.0,null,null,null,5.0,null,-4.0,-3.0,17.0,3.0,-5.0,4.0,null,6.0,5.0,0.0,4.0,null,null,3.0,9.0,null,null,null,null,4.0,-2.0,null,3.0,-6.0,19.0,19.0,28.0,null,3.0,11.0,-3.0,null,7.0,-3.0,null,null,1.0,null,null,44.0,null,null,3.0,-3.0,null,null,-1.0,0.0,11.0,null,4.0,9.0,3.0,-2.0,3.0,-4.0,4.0,4.0,3.0,null,0.0,3.0,null,3.0,null,2.0,-6.0,-4.0,-3.0,null,null,null,null,null,null,null,-5.0,null,null,null,null,null,null,-6.0,5.0,5.0,null,19.0,-5.0,3.0,null,5.0,3.0,null,null,-5.0,6.0,null,22.0,null,-3.0,12.0,4.0,5.0,null,null,null,5.0,null,16.0,null,null,null,null,null,null,-6.0,null,null,1.0,1.0,null,2.0,null,null,0.0,null,null,7.0,-4.0,null,null,null,6.0,null,1.0,10.0,null,null,null,0.0,null,-2.0,null,5.0,7.0,null,9.0,0.0,-1.0,1.0,null,-1.0,4.0,2.0,1.0,-9.0,null,null,null,5.0,null,null,null,null,null,null,12.0,11.0,3.0,null,null,14.0,6.0,null,0.0,12.0,null,11.0,null,null,null,-6.0,-8.0,null,-3.0,null,12.0,10.0,3.0,-5.0,1.0,3.0,null,-5.0,5.0,17.0,5.0,null,null,0.0,2.0,5.0,null,null,-3.0,null,null,8.0,15.0,6.0,3.0,null,1.0,null,3.0,2.0,null,28.0,null,null,null,null,null,null,null,16.0,30.0,6.0,19.0,null,3.0,null,null,null,null,null,11.0,null,null,4.0,-3.0,null,20.0,4.0,null,2.0,-5.0,9.0,-6.0,6.0,4.0,null,null,-3.0,4.0,null,2.0,4.0,null,1.0,5.0,null,12.0,6.0,16.0,null,-4.0,46.0,4.0,5.0,14.0,null,8.0,null,15.0,null,null,null,null,null,null,5.0,7.0,11.0,9.0,6.0,null,null,-1.0,null,null,7.0,2.0,13.0,16.0,null,null,-2.0,0.0,null,null,null,8.0,5.0,8.0,null,null,null,11.0,null,-3.0,null,null,18.0,19.0,null,null,null,null,46.0,null,null,null,8.0,null,-1.0,null,-2.0,3.0,null,null,-3.0,null,-3.0,null,3.0,null,null,8.0,null,null,0.0,6.0,null,null,null,null,1.0,12.0,3.0,3.0,-2.0,null,1.0,null,7.0,null,null,null,null,null,-2.0,13.0,null,null,null,null,0.0,3.0,null,7.0,-1.0,4.0,null,0.0,null,18.0,null,null,null,null,9.0,2.0,7.0,1.0,6.0,-3.0,5.0,null,-1.0,null,13.0,-3.0,4.0,3.0,0.0,5.0,-7.0,null,3.0,16.0,6.0,-5.0,21.0,37.0,null,null,-4.0,5.0,3.0,3.0,11.0,4.0,3.0,4.0,null,null,null,null,5.0,-2.0,null,null,1.0,4.0,5.0,-6.0,null,-2.0,9.0,5.0,0.0,-2.0,22.0,null,null,null,-1.0,-1.0,null,-2.0,null,null,0.0,3.0,13.0,null,null,null,2.0,null,3.0,0.0,null,null,null,-2.0,21.0,1.0,4.0,-2.0,3.0,4.0,null,-5.0,-1.0,3.0,15.0,9.0,5.0,5.0,4.0,6.0,null,null,null,null,0.0,null,null,null,null,-2.0,null,4.0,0.0,-1.0,null,null,-5.0,-5.0,null,null,17.0,7.0,-3.0,-2.0,3.0,null,null,null,3.0,18.0,null,null,0.0,7.0,-6.0,null,3.0,5.0,-2.0,null,null,null,null,null,null,1.0,-5.0,-1.0,null,4.0,null,2.0,null,3.0,6.0,null,null,1.0,0.0,null,null,null,10.0,null,15.0,null,14.0,13.0,14.0,null,null,null,null,-4.0,null,12.0,-1.0,null,8.0,null,5.0,null,null,null,-5.0,5.0,null,null,null,null,null,2.0,-5.0,null,null,null,null,11.0,5.0,11.0,null,null,null,14.0,null,5.0,null,null,null,4.0,null,18.0,5.0,null,-5.0,null,null,null,null,null,-2.0,null,null,null,null,null,null,null,18.0,5.0,2.0,18.0,null,1.0,null,13.0,null,-3.0,4.0,null,12.0,null,13.0,null,null,4.0,null,null,-6.0,null,null,null,null,4.0,6.0,-2.0,null,8.0,null,2.0,7.0,null,null,null,null,4.0,null,null,1.0,null,-1.0,null,14.0,10.0,null,null,4.0,5.0,12.0,5.0,-5.0,-5.0,null,null,4.0,null,3.0,null,null,2.0,null,null,null,null,null,null,null,null,null,null,3.0,-1.0,-2.0,9.0,8.0,17.0,15.0,null,null,17.0,14.0,null,null,13.0,20.0,null,5.0,null,-1.0,null,null,2.0,null,null,0.0,11.0,1.0,null,1.0,12.0,16.0,null,null,null,-2.0,null,null,-1.0,null,null,-3.0,null,1.0,3.0,null,2.0,null,null,null,null,-6.0,null,null,null,2.0,null,null,null,null,-2.0,null,-2.0,null,0.0,2.0,-3.0,6.0,-4.0,3.0,6.0,-4.0,18.0,5.0,4.0,null,2.0,5.0,-2.0,12.0,null,1.0,-2.0,null,null,null,null,null,null,null,null,13.0,null,null,null,null,null,15.0,null,null,2.0,null,null,null,null,6.0,16.0,7.0,null,0.0,null,null,null,null,null,3.0,-5.0,4.0,null,null,null,null,null,null,2.0,16.0,1.0,null,9.0,47.0,9.0,null,null,null,1.0,null,6.0,null,null,null,12.0,null,13.0,3.0,null,null,null,null,-2.0,null,null,null,null,null,4.0,13.0,4.0,-3.0,14.0,null,0.0,null,null,null,3.0,null,null,5.0,null,null,null,null,5.0,7.0,3.0,5.0,4.0,13.0,null,null,3.0,9.0,null,3.0,-3.0,null,null,19.0,-3.0,null,null,null,null,null,null,null,null,-5.0,3.0,-3.0,2.0,null,4.0,-3.0,3.0,null,null,17.0,20.0,-4.0,2.0,-2.0,17.0,-6.0,1.0,null,null,null,null,15.0,9.0,6.0,-3.0,-2.0,2.0,7.0,0.0,null,null,null,null,null,null,3.0,0.0,null,7.0,null,0.0,4.0,6.0,null,-5.0,13.0,null,null,1.0,-2.0,-3.0,null,8.0,null,null,null,0.0,null,18.0,null,null,null,null,-1.0,-3.0,null,null,3.0,-5.0,null,7.0,null,null,-2.0,null,null,null,null,null,4.0,null,null,null,-3.0,null,-4.0,4.0,null,10.0,null,null,null,null,null,null,null,null,null,null,null,null,14.0,14.0,null,null,null,null,-2.0,null,null,null,null,null,null,null,null,null,null,4.0,4.0],\"xaxis\":\"x\",\"yaxis\":\"y\",\"type\":\"histogram\"},{\"alignmentgroup\":\"True\",\"bingroup\":\"x\",\"hovertemplate\":\"Tackle=0\\u003cbr\\u003ePass Length=%{x}\\u003cbr\\u003ecount=%{y}\\u003cextra\\u003e\\u003c\\u002fextra\\u003e\",\"legendgroup\":\"0\",\"marker\":{\"color\":\"#EF553B\",\"pattern\":{\"shape\":\"\"}},\"name\":\"0\",\"offsetgroup\":\"0\",\"orientation\":\"v\",\"showlegend\":true,\"x\":[-3.0,null,null,null,null,-5.0,null,null,null,null,null,null,-4.0,-1.0,-1.0,4.0,null,null,null,5.0,5.0,-2.0,6.0,6.0,5.0,5.0,3.0,3.0,21.0,21.0,4.0,null,null,null,null,null,-1.0,-1.0,null,null,null,null,null,null,null,null,null,null,null,null,null,null,null,null,null,14.0,7.0,7.0,null,null,null,null,null,null,null,3.0,3.0,3.0,3.0,0.0,null,13.0,null,null,null,null,12.0,0.0,4.0,4.0,null,null,null,null,null,null,null,null,null,null,null,null,null,null,null,null,null,null,13.0,13.0,6.0,6.0,4.0,4.0,null,1.0,6.0,5.0,null,null,null,null,null,null,null,null,null,null,4.0,4.0,4.0,null,-1.0,null,null,null,null,null,null,null,null,null,null,null,null,null,10.0,10.0,null,null,null,null,3.0,3.0,4.0,null,null,1.0,1.0,6.0,2.0,2.0,-2.0,-2.0,null,null,-4.0,-4.0,null,null,1.0,null,null,-1.0,-1.0,null,null,null,null,null,null,null,null,null,null,null,null,null,null,null,2.0,2.0,2.0,null,null,null,null,null,-7.0,null,null,null,-7.0,null,-3.0,null,null,null,null,null,null,null,null,3.0,3.0,1.0,null,null,null,13.0,13.0,null,null,null,null,null,null,null,null,null,null,null,-5.0,-5.0,-1.0,-1.0,null,null,null,null,null,6.0,null,null,null,null,null,null,null,-4.0,null,null,null,null,null,null,5.0,5.0,1.0,null,null,null,null,0.0,0.0,-2.0,null,null,null,null,null,null,-2.0,null,null,null,null,7.0,7.0,null,null,null,null,null,null,null,null,null,null,null,null,null,null,null,null,9.0,6.0,null,null,21.0,21.0,-1.0,null,null,null,null,null,13.0,null,null,null,3.0,3.0,0.0,0.0,null,null,null,null,4.0,null,-1.0,-1.0,-2.0,5.0,5.0,-2.0,null,null,-1.0,-1.0,null,null,null,null,null,null,null,5.0,-1.0,null,null,null,4.0,4.0,0.0,0.0,0.0,-3.0,null,null,null,null,null,null,null,null,null,null,null,-5.0,null,null,null,null,null,-6.0,null,null,null,null,null,null,-2.0,null,null,null,null,3.0,null,null,null,null,null,null,null,null,null,null,null,null,-2.0,17.0,17.0,17.0,null,null,null,null,null,null,null,-5.0,null,null,null,null,null,null,null,null,null,null,null,null,17.0,null,2.0,null,null,null,-6.0,null,12.0,null,5.0,null,null,null,null,null,4.0,13.0,null,3.0,null,0.0,null,null,null,null,null,null,null,1.0,-4.0,null,null,null,null,null,null,null,null,null,null,null,null,5.0,14.0,14.0,null,null,null,null,null,null,null,null,-4.0,-4.0,null,null,11.0,7.0,-6.0,-6.0,8.0,8.0,0.0,null,null,null,4.0,4.0,23.0,null,4.0,null,null,null,null,4.0,4.0,4.0,4.0,null,null,null,null,-2.0,-2.0,-2.0,-2.0,-2.0,null,null,null,null,null,-4.0,-4.0,null,null,11.0,10.0,6.0,6.0,-2.0,null,null,null,null,null,null,null,null,-4.0,null,null,null,null,null,null,null,null,null,null,null,null,null,null,null,null,null,null,null,null,null,-3.0,null,null,3.0,5.0,null,-2.0,null,null,null,null,null,null,null,null,null,-1.0,-1.0,-1.0,-4.0,null,null,null,-6.0,-6.0,-6.0,-2.0,-2.0,0.0,null,null,null,null,null,1.0,-1.0,null,null,2.0,2.0,null,null,null,null,null,null,null,null,null,null,null,null,null,null,null,null,null,-5.0,null,null,null,null,3.0,3.0,null,null,-4.0,4.0,null,null,null,null,null,null,null,null,null,null,null,null,-3.0,null,null,null,null,16.0,-2.0,-2.0,null,5.0,5.0,null,null,0.0,null,null,6.0,6.0,5.0,2.0,5.0,5.0,-3.0,-3.0,-3.0,null,-2.0,-2.0,-2.0,6.0,0.0,0.0,-1.0,-1.0,null,null,null,5.0,5.0,6.0,4.0,4.0,null,5.0,null,6.0,6.0,null,null,null,-2.0,-2.0,-2.0,null,null,null,null,null,null,null,null,null,null,null,null,null,null,null,null,null,null,null,null,null,null,null,null,null,null,null,null,null,null,2.0,0.0,4.0,null,null,10.0,0.0,7.0,null,null,null,4.0,4.0,0.0,13.0,8.0,0.0,0.0,0.0,-1.0,-1.0,-1.0,null,null,null,-4.0,null,null,-3.0,null,null,null,null,null,6.0,null,null,null,null,null,null,0.0,null,null,null,null,-1.0,3.0,0.0,0.0,-5.0,null,7.0,7.0,7.0,7.0,null,null,null,null,null,-1.0,-1.0,null,null,null,null,null,null,null,null,null,null,null,null,null,null,null,null,null,-5.0,null,null,5.0,5.0,null,null,null,null,null,null,null,null,null,null,null,null,null,null,4.0,4.0,null,null,null,null,null,null,null,null,null,-4.0,4.0,4.0,null,null,null,null,null,null,null,null,null,null,null,null,null,null,null,null,null,null,null,null,null,null,20.0,20.0,-4.0,null,null,null,null,null,null,null,null,null,null,null,null,null,-6.0,4.0,4.0,null,9.0,null,4.0,4.0,null,null,null,null,null,null,null,null,null,null,null,null,17.0,17.0,4.0,4.0,null,null,-3.0,-3.0,null,null,null,null,-5.0,-5.0,null,null,null,null,null,null,null,null,null,null,null,null,6.0,6.0,null,null,-7.0,-7.0,null,null,null,null,null,null,null,null,null,3.0,3.0,null,null,null,null,null,null,null,null,null,null,null,null,null,null,null,null,null,-2.0,-2.0,null,6.0,6.0,7.0,1.0,1.0,1.0,10.0,10.0,null,null,-5.0,4.0,4.0,-4.0,-3.0,6.0,-6.0,null,null,null,null,null,null,null,null,null,4.0,4.0,null,null,null,null,null,null,null,null,null,null,5.0,null,null,1.0,1.0,null,null,null,null,null,null,null,null,null,null,null,5.0,5.0,null,null,-1.0,-4.0,null,null,null,null,null,null,null,null,0.0,0.0,0.0,0.0,-2.0,null,0.0,null,null,null,null,null,null,null,null,null,null,-1.0,-1.0,null,null,15.0,15.0,15.0,2.0,null,2.0,3.0,3.0,null,null,null,null,null,null,null,null,10.0,6.0,null,null,-1.0,null,null,null,5.0,5.0,12.0,12.0,12.0,12.0,null,null,null,null,null,null,null,null,null,null,null,null,null,null,4.0,4.0,null,null,null,8.0,8.0,11.0,null,null,null,-2.0,-2.0,null,null,null,null,null,null,null,2.0,2.0,null,5.0,null,null,null,null,null,-6.0,null,null,null,4.0,4.0,-8.0,6.0,null,null,2.0,null,null,null,null,-3.0,-3.0,null,null,2.0,2.0,null,null,null,null,null,null,null,null,3.0,3.0,-2.0,-2.0,null,null,5.0,5.0,0.0,null,null,4.0,null,null,-5.0,null,2.0,2.0,2.0,2.0,null,null,-1.0,-6.0,-6.0,null,null,-5.0,-2.0,null,null,null,null,null,null,null,null,null,null,null,null,null,null,null,null,null,null,null,0.0,null,null,5.0,null,null,null,-3.0,-1.0,null,null,-1.0,null,null,null,null,null,8.0,null,null,null,null,null,null,null,6.0,9.0,9.0,null,null,null,-5.0,-5.0,-5.0,null,null,null,null,null,null,null,null,null,null,null,5.0,null,null,null,null,null,null,null,null,null,null,null,null,null,null,null,null,null,null,null,null,null,25.0,null,4.0,4.0,null,null,null,null,null,null,null,null,0.0,null,null,null,null,null,null,null,null,null,null,null,null,null,null,null,null,null,null,null,null,null,null,null,null,null,null,null,null,5.0,5.0,-3.0,-3.0,null,null,null,null,2.0,2.0,3.0,3.0,3.0,null,null,null,null,null,null,null,null,7.0,null,null,null,null,0.0,0.0,3.0,null,null,null,null,null,null,null,null,null,null,null,null,-4.0,-4.0,-4.0,null,1.0,null,5.0,null,null,null,null,null,3.0,3.0,null,null,null,null,6.0,6.0,null,null,null,null,-6.0,null,null,null,null,null,null,null,null,null,null,null,null,null,null,null,null,20.0,20.0,null,null,null,null,null,23.0,8.0,null,null,null,null,null,3.0,null,null,null,null,null,null,null,null,null,null,null,-7.0,-7.0,3.0,3.0,3.0,4.0,null,5.0,5.0,null,null,null,2.0,2.0,2.0,null,null,null,-1.0,-6.0,null,null,9.0,-2.0,null,null,7.0,null,null,null,null,null,null,null,null,-6.0,0.0,null,5.0,5.0,24.0,8.0,-3.0,null,null,null,null,null,4.0,4.0,3.0,3.0,6.0,6.0,null,null,null,null,null,null,null,null,null,null,null,null,null,null,null,11.0,null,4.0,-5.0,-5.0,0.0,0.0,11.0,null,null,null,null,null,null,null,null,null,null,null,null,null,-3.0,-3.0,null,-4.0,-4.0,null,4.0,4.0,null,null,6.0,6.0,5.0,-2.0,null,null,2.0,2.0,4.0,null,-4.0,-4.0,null,null,null,null,null,null,null,null,null,null,null,null,null,null,null,5.0,null,null,null,-1.0,6.0,6.0,null,null,null,null,null,null,5.0,null,null,1.0,1.0,14.0,14.0,null,null,1.0,-1.0,-1.0,null,null,null,null,null,null,null,null,null,null,6.0,null,null,null,null,null,null,null,null,null,null,null,0.0,0.0,0.0,0.0,null,null,null,null,null,null,null,null,null,null,5.0,null,null,null,20.0,20.0,1.0,1.0,1.0,-2.0,null,null,null,6.0,null,null,null,null,null,null,null,1.0,null,-2.0,null,null,null,null,null,null,null,2.0,null,null,null,null,null,null,null,null,null,null,null,null,null,null,null,null,null,-5.0,9.0,2.0,null,null,null,null,null,null,null,null,null,null,null,null,null,null,null,null,null,null,null,0.0,16.0,8.0,8.0,0.0,1.0,null,null,null,null,null,null,null,null,null,-4.0,-4.0,-3.0,-3.0,null,8.0,null,null,null,null,3.0,2.0,2.0,null,null,null,5.0,null,null,null,null,null,null,null,null,6.0,null,null,null,null,null,null,null,null,null,null,null,null,null,2.0,null,null,null,null,2.0,null,null,null,null,6.0,null,null,5.0,5.0,null,null,null,null,null,5.0,5.0,null,-7.0,-7.0,null,null,4.0,4.0,-1.0,null,null,null,null,-6.0,-6.0,-6.0,0.0,10.0,10.0,null,null,null,null,null,null,null,null,0.0,0.0,0.0,null,null,null,null,null,null,null,null,null,null,null,null,null,null,null,null,null,null,null,null,null,null,null,null,null,null,null,null,null,null,null,null,null,null,null,null,null,null,null,null,null,-3.0,-3.0,6.0,6.0,null,null,null,null,null,null,-2.0,-2.0,3.0,null,6.0,null,null,null,null,null,null,null,1.0,null,null,-3.0,-3.0,0.0,null,null,null,null,null,null,6.0,null,null,null,null,null,null,null,null,null,null,null,null,null,null,null,-3.0,-3.0,19.0,19.0,15.0,15.0,null,null,null,null,null,-4.0,null,null,null,null,null,null,null,null,null,null,null,null,null,null,14.0,null,null,null,null,null,null,null,-2.0,null,null,null,null,null,null,null,2.0,2.0,2.0,null,null,null,null,-4.0,-4.0,null,null,null,null,null,null,null,-5.0,null,null,null,null,null,null,-2.0,6.0,null,null,null,null,null,null,null,-5.0,null,null,null,null,null,null,null,null,null,null,null,null,null,null,null,null,null,null,null,null,null,null,-3.0,null,null,null,null,null,null,null,null,null,null,null,null,null,null,11.0,null,null,null,null,null,null,null,null,null,null,null,null,null,14.0,-6.0,null,-4.0,null,null,6.0,6.0,null,null,null,null,null,null,null,null,null,null,null,null,null,null,null,null,null,null,null,null,null,null,null,null,null,-2.0,-2.0,-2.0,-2.0,4.0,4.0,-2.0,-2.0,null,null,null,null,null,null,null,null,null,null,-2.0,4.0,-4.0,-4.0,-4.0,-1.0,null,null,null,null,null,null,null,null,null,null,null,null,null,15.0,null,null,3.0,4.0,4.0,null,null,null,null,null,null,null,14.0,14.0,-5.0,null,null,6.0,6.0,null,null,-5.0,5.0,5.0,null,null,null,null,3.0,3.0,null,null,null,null,null,null,null,6.0,6.0,null,null,4.0,0.0,null,null,null,0.0,null,null,null,null,null,null,null,null,null,-2.0,-2.0,null,null,null,null,null,null,null,null,null,null,null,null,6.0,6.0,-2.0,4.0,null,null,-2.0,-2.0,null,3.0,null,null,null,null,null,null,null,null,null,null,null,17.0,null,null,null,null,null,null,null,null,null,null,null,null,null,null,15.0,15.0,0.0,null,null,null,null,3.0,null,null,null,null,null,null,null,null,null,null,null,-4.0,null,null,null,null,null,null,null,null,null,null,null,null,null,null,null,null,null,null,null,7.0,null,null,3.0,9.0,9.0,null,null,null,null,null,23.0,1.0,1.0,null,null,null,null,null,null,null,null,null,null,null,null,null,null,null,null,null,null,null,null,null,null,null,null,null,null,0.0,1.0,null,null,null,null,null,1.0,null,-2.0,-2.0,null,3.0,3.0,2.0,2.0,2.0,null,null,null,null,null,null,null,null,null,-3.0,null,null,null,null,null,null,null,6.0,6.0,null,12.0,null,null,null,5.0,5.0,null,null,5.0,null,null,0.0,0.0,-2.0,null,null,null,null,null,null,-2.0,-2.0,null,null,null,null,null,null,9.0,null,null,null,null,null,null,null,0.0,0.0,0.0,null,null,null,null,-1.0,-1.0,null,null,null,-4.0,-1.0,-1.0,-6.0,null,null,null,null,null,null,null,null,null,null,-2.0,-2.0,-2.0,null,null,null,null,null,null,null,null,null,null,null,null,12.0,12.0,1.0,null,null,null,null,null,null,null,null,null,null,null,3.0,null,null,null,12.0,12.0,null,null,-3.0,null,-3.0,-3.0,10.0,10.0,null,0.0,0.0,null,null,null,null,null,null,null,null,null,null,null,null,null,null,null,null,null,null,null,null,null,null,6.0,6.0,-3.0,4.0,null,null,null,7.0,7.0,13.0,4.0,4.0,4.0,null,null,null,null,null,null,null,-4.0,-4.0,null,null,null,null,null,10.0,10.0,10.0,-2.0,-2.0,null,null,1.0,1.0,-4.0,-4.0,4.0,null,null,1.0,1.0,7.0,null,null,14.0,null,13.0,null,null,null,null,null,null,null,null,null,1.0,1.0,null,null,null,null,null,null,null,null,null,null,-4.0,-4.0,null,null,null,null,null,null,-4.0,-4.0,null,null,null,null,null,null,0.0,0.0,0.0,null,null,null,null,null,null,null,null,null,null,4.0,4.0,4.0,1.0,null,null,2.0,null,null,null,null,null,19.0,3.0,null,null,7.0,null,null,null,null,null,4.0,4.0,null,2.0,2.0,6.0,17.0,17.0,null,null,9.0,5.0,null,null,6.0,6.0,null,null,null,null,null,null,null,4.0,4.0,15.0,null,null,null,10.0,null,null,null,null,null,null,2.0,-5.0,2.0,2.0,null,null,6.0,6.0,null,null,null,2.0,-1.0,-5.0,null,null,null,null,null,null,4.0,-4.0,-4.0,null,null,2.0,2.0,null,null,18.0,18.0,null,null,null,null,2.0,2.0,null,null,null,17.0,17.0,null,null,null,null,null,null,-1.0,-1.0,7.0,7.0,null,null,null,15.0,15.0,15.0,null,null,13.0,3.0,-4.0,-4.0,null,null,0.0,null,null,null,null,null,null,null,null,null,null,null,null,null,null,null,null,null,null,null,null,null,null,null,null,null,null,null,null,null,null,-3.0,null,null,null,null,null,null,null,null,1.0,1.0,null,null,null,null,null,null,null,null,12.0,null,null,null,null,null,null,null,null,null,null,2.0,2.0,null,null,11.0,5.0,null,null,null,null,null,null,null,null,null,null,null,null,-3.0,-3.0,null,null,null,null,-2.0,4.0,null,2.0,2.0,7.0,5.0,null,null,null,null,null,null,6.0,null,null,3.0,3.0,-5.0,null,null,5.0,null,null,12.0,null,null,null,null,null,null,null,null,-4.0,-4.0,-4.0,null,null,null,-2.0,-2.0,-2.0,null,null,null,null,null,null,null,null,null,null,null,null,null,null,-3.0,null,7.0,null,null,null,null,null,null,null,null,null,null,null,null,null,-3.0,-3.0,null,null,null,null,null,null,null,null,null,null,null,null,null,null,null,null,null,null,null,4.0,4.0,null,10.0,10.0,null,null,null,null,null,null,null,null,null,null,null,null,0.0,null,null,13.0,null,null,null,-2.0,-2.0,null,null,null,null,null,null,null,null,null,null,null,5.0,5.0,null,-4.0,null,null,null,null,null,-8.0,null,null,null,null,null,null,null,null,null,null,null,null,null,1.0,0.0,null,25.0,null,14.0,14.0,null,null,null,null,null,null,null,-1.0,-1.0,null,null,null,null,null,8.0,null,null,null,2.0,2.0,null,null,null,null,7.0,null,null,null,null,null,null,3.0,3.0,-2.0,null,null,null,null,null,null,null,null,null,null,-3.0,null,null,null,null,null,null,null,null,null,15.0,15.0,null,14.0,9.0,null,null,null,7.0,null,null,null,null,null,null,null,null,null,null,null,5.0,null,null,null,null,null,null,null,null,null,null,null,null,null,null,null,null,null,null,null,null,null,null,null,null,null,null,null,0.0,-1.0,-1.0,null,null,6.0,6.0,null,null,-2.0,-2.0,null,null,null,null,null,-4.0,-4.0,-4.0,null,null,null,null,null,null,null,null,null,null,null,null,null,null,null,null,null,null,null,null,null,null,-4.0,null,null,null,null,-2.0,null,null,null,null,null,null,null,null,null,null,null,null,null,null,null,null,null,-2.0,null,null,-1.0,-1.0,null,null,null,null,null,null,null,null,null,null,null,12.0,-3.0,null,-2.0,-2.0,null,13.0,null,null,null,null,null,null,null,null,null,null,null,null,null,1.0,null,null,null,null,null,null,null,null,null,6.0,null,5.0,1.0,null,null,null,14.0,null,null,null,null,null,null,null,null,null,20.0,20.0,null,null,null,5.0,11.0,2.0,null,null,0.0,0.0,null,null,null,15.0,2.0,null,2.0,2.0,2.0,-2.0,-2.0,null,null,1.0,1.0,null,null,null,null,null,null,null,null,null,null,null,-3.0,null,null,null,null,null,null,null,null,null,null,null,null,null,null,null,null,null,-3.0,-3.0,null,6.0,6.0,null,null,null,null,-2.0,-2.0,null,null,16.0,16.0,6.0,6.0,1.0,1.0,1.0,4.0,4.0,5.0,5.0,null,null,null,null,null,null,null,null,null,null,null,null,null,null,null,null,null,null,null,3.0,-3.0,-3.0,4.0,4.0,4.0,null,null,10.0,10.0,null,null,-1.0,27.0,null,null,null,null,null,null,5.0,5.0,-4.0,-4.0,null,null,null,null,null,null,null,null,null,null,null,null,null,null,null,null,-2.0,null,null,null,null,null,-4.0,null,null,null,-1.0,-1.0,null,7.0,1.0,1.0,null,null,null,-4.0,null,null,null,null,null,null,-5.0,null,null,null,null,10.0,null,null,null,null,null,5.0,5.0,5.0,null,13.0,13.0,null,null,null,42.0,42.0,null,null,null,null,4.0,4.0,4.0,null,null,null,null,null,null,null,null,null,null,null,null,null,null,null,null,null,9.0,-3.0,null,null,4.0,4.0,-2.0,null,null,null,null,null,null,null,null,null,null,8.0,8.0,null,null,null,-4.0,2.0,0.0,null,null,null,null,null,null,null,null,null,null,null,null,null,null,null,null,null,null,null,null,null,null,null,null,5.0,15.0,null,null,-1.0,-1.0,-1.0,null,5.0,null,null,null,7.0,7.0,null,0.0,null,null,null,1.0,1.0,null,null,null,null,null,null,null,null,null,null,-6.0,-6.0,null,null,3.0,null,null,3.0,null,null,1.0,1.0,6.0,-4.0,-4.0,null,null,null,null,null,null,null,null,null,null,null,null,null,null,null,null,null,null,9.0,9.0,null,19.0,19.0,19.0,19.0,null,null,null,null,null,null,null,null,null,null,null,null,null,null,16.0,null,null,null,null,null,null,-1.0,-1.0,null,null,null,3.0,null,0.0,0.0,null,null,null,null,null,null,null,null,null,null,null,null,null,null,13.0,null,null,null,null,null,null,null,null,null,null,2.0,null,null,null,null,null,0.0,0.0,5.0,5.0,null,null,null,25.0,25.0,null,null,null,null,null,null,null,null,2.0,6.0,null,4.0,null,null,null,null,-5.0,-5.0,-5.0,4.0,2.0,5.0,5.0,null,2.0,2.0,13.0,13.0,null,null,0.0,-1.0,null,null,2.0,2.0,2.0,null,null,null,null,null,null,null,null,2.0,-1.0,null,null,4.0,14.0,3.0,3.0,3.0,6.0,6.0,null,null,3.0,3.0,14.0,14.0,14.0,7.0,-3.0,2.0,2.0,4.0,null,null,null,null,null,null,null,null,null,null,null,null,null,null,null,null,null,null,null,null,-1.0,null,null,null,null,-5.0,null,-6.0,-6.0,null,null,null,5.0,5.0,null,2.0,2.0,null,null,null,null,null,null,null,null,null,null,0.0,null,null,null,19.0,-6.0,-6.0,null,null,null,null,null,null,null,null,null,4.0,4.0,null,null,null,-6.0,-6.0,null,null,null,0.0,0.0,null,null,8.0,-3.0,-3.0,null,null,null,0.0,null,null,null,0.0,0.0,null,null,null,9.0,null,null,null,null,null,null,null,-7.0,-7.0,-7.0,-7.0,null,null,5.0,null,0.0,null,6.0,null,null,null,null,null,null,null,null,null,null,-3.0,5.0,null,null,null,null,null,null,null,null,null,5.0,null,null,0.0,-1.0,0.0,null,null,null,null,null,3.0,null,null,null,null,4.0,1.0,1.0,-2.0,-2.0,null,null,null,null,null,null,null,3.0,3.0,null,null,3.0,null,-8.0,-8.0,null,null,null,6.0,6.0,null,null,15.0,15.0,null,null,null,null,null,null,null,null,null,null,null,null,7.0,-3.0,null,null,null,null,null,null,null,null,null,null,null,null,null,null,5.0,null,1.0,1.0,null,1.0,null,null,null,null,null,null,null,null,null,null,null,null,3.0,13.0,3.0,3.0,0.0,null,null,null,null,null,null,null,null,null,null,null,null,6.0,null,null,null,null,null,null,null,null,null,null,null,null,null,null,null,null,null,null,6.0,6.0,-8.0,null,null,null,null,null,null,null,null,null,null,null,null,null,null,null,null,null,null,null,null,null,4.0,null,null,null,null,null,null,null,null,null,-2.0,-2.0,null,null,6.0,6.0,null,null,5.0,5.0,5.0,5.0,3.0,3.0,19.0,19.0,null,null,null,-4.0,-4.0,null,6.0,6.0,null,null,null,null,null,null,null,13.0,13.0,13.0,null,-5.0,-5.0,null,null,null,null,null,null,null,null,null,null,null,null,null,null,0.0,0.0,null,null,4.0,null,-2.0,null,null,8.0,8.0,19.0,null,6.0,6.0,6.0,6.0,4.0,-4.0,null,null,2.0,2.0,null,null,-6.0,null,null,null,null,32.0,null,null,15.0,null,null,5.0,null,null,null,null,null,null,null,null,null,null,4.0,null,1.0,1.0,null,null,null,null,null,null,null,14.0,14.0,null,null,null,null,null,null,18.0,18.0,null,null,null,null,-4.0,-4.0,null,null,null,-5.0,16.0,16.0,null,null,null,null,null,null,null,null,13.0,null,null,null,-2.0,-2.0,null,null,null,null,-1.0,-1.0,null,-6.0,-6.0,null,12.0,12.0,null,null,-2.0,null,null,null,null,null,null,null,null,null,null,null,null,null,null,-8.0,-8.0,null,null,-4.0,null,null,null,null,5.0,-6.0,-6.0,null,null,4.0,5.0,null,null,null,null,null,null,null,null,null,null,null,3.0,null,8.0,1.0,7.0,null,null,6.0,6.0,3.0,-2.0,7.0,18.0,null,null,null,null,null,null,-4.0,null,null,null,null,null,null,null,null,null,null,null,null,null,2.0,2.0,null,null,null,null,null,null,null,-5.0,1.0,1.0,1.0,1.0,2.0,11.0,-3.0,null,null,null,null,null,-2.0,null,null,-5.0,-5.0,-5.0,-5.0,null,null,5.0,5.0,2.0,2.0,16.0,14.0,null,4.0,null,null,2.0,2.0,7.0,7.0,6.0,4.0,2.0,2.0,null,null,6.0,2.0,2.0,null,null,null,null,null,null,null,null,null,-1.0,2.0,null,null,15.0,5.0,5.0,null,null,null,5.0,5.0,14.0,14.0,null,null,null,null,null,null,null,null,null,null,null,null,null,null,null,null,null,null,null,null,null,null,null,0.0,null,null,null,-3.0,null,null,null,null,null,null,null,null,null,null,null,null,null,null,null,null,null,-5.0,-5.0,null,null,null,-1.0,null,null,null,null,2.0,3.0,null,null,2.0,1.0,null,null,6.0,null,null,null,-3.0,-3.0,1.0,1.0,null,null,null,null,null,null,null,null,null,0.0,null,null,null,null,null,null,null,null,null,null,null,null,null,null,null,null,null,null,null,null,4.0,4.0,5.0,null,null,null,null,null,null,null,null,null,null,-1.0,-1.0,null,null,null,null,null,null,null,11.0,7.0,7.0,null,null,null,null,null,null,7.0,null,null,-2.0,-2.0,null,null,null,null,-3.0,null,7.0,-3.0,null,null,null,null,null,-3.0,null,null,1.0,1.0,null,null,null,null,5.0,-2.0,-2.0,null,null,null,12.0,12.0,-7.0,null,null,null,null,-2.0,-5.0,-2.0,-2.0,null,null,null,null,null,null,null,null,1.0,null,-1.0,null,null,0.0,null,null,null,null,null,-5.0,null,null,null,null,null,-4.0,-4.0,null,null,null,null,null,null,null,-2.0,-2.0,null,null,null,null,null,null,null,null,null,null,null,null,null,null,null,null,null,null,null,null,null,null,null,-4.0,null,null,null,null,null,null,null,null,null,null,12.0,null,null,2.0,null,null,null,null,null,18.0,18.0,-2.0,-2.0,-2.0,-3.0,null,8.0,5.0,13.0,13.0,13.0,null,null,null,null,-4.0,-4.0,3.0,3.0,7.0,7.0,null,null,null,8.0,null,null,null,null,null,null,null,null,null,null,null,null,null,null,null,null,null,null,null,null,-4.0,null,null,null,null,null,null,null,null,null,-3.0,null,5.0,-3.0,-3.0,null,null,null,null,null,null,null,null,null,null,null,-1.0,null,null,null,null,null,null,null,null,null,null,null,null,null,null,null,null,null,null,null,null,null,null,null,null,null,null,null,null,null,null,19.0,null,null,null,null,null,null,null,null,null,-3.0,-5.0,-5.0,6.0,-4.0,6.0,6.0,null,null,null,null,null,null,null,null,null,null,-2.0,null,null,-6.0,null,-1.0,-1.0,null,null,null,null,null,3.0,-3.0,7.0,7.0,null,null,null,6.0,null,null,null,null,null,null,null,null,null,null,null,6.0,null,null,null,5.0,null,null,null,null,null,null,null,null,null,null,null,null,null,5.0,5.0,null,null,null,null,null,null,null,-1.0,null,null,3.0,null,null,null,null,null,null,null,null,null,null,null,null,null,null,null,null,1.0,null,null,null,null,null,null,null,-1.0,-1.0,null,null,null,11.0,null,3.0,3.0,null,null,null,null,null,null,null,null,null,null,null,null,null,-3.0,-3.0,-4.0,null,0.0,0.0,0.0,null,1.0,1.0,null,null,null,null,12.0,null,null,null,null,null,null,null,3.0,null,null,null,null,-1.0,null,null,null,null,null,null,-6.0,6.0,6.0,null,null,8.0,8.0,-2.0,null,null,null,null,2.0,2.0,null,1.0,null,null,null,null,null,-2.0,-2.0,null,null,5.0,null,7.0,7.0,7.0,null,null,null,null,null,null,null,null,-5.0,4.0,6.0,6.0,null,null,null,null,null,null,null,14.0,5.0,5.0,null,null,-3.0,6.0,6.0,null,null,null,null,14.0,14.0,null,null,null,null,null,null,null,null,null,-6.0,-6.0,null,null,null,null,null,null,null,null,null,null,null,null,null,null,null,null,null,null,null,3.0,3.0,4.0,4.0,null,null,null,null,null,null,-3.0,-3.0,null,0.0,0.0,0.0,3.0,10.0,10.0,8.0,8.0,5.0,5.0,null,null,null,null,null,null,null,null,1.0,null,null,null,null,null,5.0,5.0,null,null,null,null,null,null,null,null,null,null,null,null,null,3.0,null,null,null,null,-1.0,null,null,null,null,null,null,null,null,null,null,null,3.0,4.0,4.0,0.0,0.0,null,null,null,null,2.0,-2.0,null,null,4.0,4.0,4.0,null,null,null,null,null,null,null,null,null,null,-3.0,-3.0,null,null,15.0,15.0,11.0,9.0,9.0,5.0,5.0,null,null,null,null,null,null,null,0.0,-1.0,null,null,null,null,null,2.0,null,null,null,null,null,-5.0,null,null,null,6.0,6.0,6.0,6.0,null,null,-1.0,-1.0,-2.0,0.0,null,4.0,4.0,null,null,null,null,-3.0,-3.0,-5.0,2.0,3.0,4.0,4.0,4.0,3.0,3.0,-5.0,5.0,5.0,8.0,null,-3.0,-3.0,6.0,6.0,6.0,null,null,null,null,3.0,-5.0,null,null,null,null,null,null,null,null,null,null,null,null,null,null,null,null,null,null,-2.0,7.0,4.0,4.0,1.0,1.0,null,null,null,null,null,1.0,1.0,null,null,null,null,null,null,null,null,null,null,null,null,null,null,null,null,null,4.0,4.0,null,null,0.0,null,null,null,null,null,4.0,4.0,4.0,null,null,null,null,null,null,null,null,null,null,null,5.0,-3.0,null,null,null,null,-2.0,1.0,null,null,null,null,null,null,null,null,3.0,null,null,null,3.0,1.0,1.0,-2.0,-2.0,-3.0,5.0,null,null,null,null,null,null,-1.0,-1.0,-1.0,5.0,5.0,null,null,null,null,null,null,null,null,null,null,null,null,null,null,null,null,null,3.0,null,null,-1.0,3.0,null,null,5.0,5.0,-4.0,-4.0,-4.0,22.0,6.0,6.0,null,null,null,null,-8.0,-8.0,null,null,null,null,null,null,null,-4.0,5.0,0.0,-4.0,-4.0,null,null,null,null,null,null,6.0,6.0,null,6.0,6.0,null,null,null,1.0,1.0,-4.0,-4.0,null,null,null,null,null,2.0,null,1.0,1.0,null,-3.0,-3.0,-3.0,-1.0,-1.0,null,null,null,null,null,null,null,null,null,null,null,null,null,null,null,null,null,2.0,2.0,1.0,-4.0,null,null,null,null,null,null,null,null,null,null,null,1.0,1.0,1.0,1.0,4.0,4.0,4.0,null,4.0,null,null,1.0,-4.0,-4.0,-4.0,-4.0,null,null,null,null,null,null,null,6.0,4.0,2.0,2.0,null,null,null,null,null,null,null,null,null,null,2.0,2.0,null,null,8.0,8.0,null,null,null,null,null,null,19.0,5.0,7.0,7.0,0.0,0.0,null,null,null,null,null,null,null,null,null,8.0,3.0,3.0,null,null,-8.0,-8.0,-2.0,3.0,3.0,null,null,null,null,5.0,null,null,-5.0,-2.0,null,null,null,null,null,null,null,null,null,null,null,null,null,null,null,null,null,null,null,null,21.0,21.0,null,null,null,-1.0,null,null,null,null,null,null,null,null,null,null,null,null,null,4.0,null,null,null,-3.0,-1.0,null,null,null,null,null,8.0,null,null,null,5.0,5.0,null,null,null,null,-2.0,-2.0,null,null,null,null,null,6.0,6.0,null,null,null,null,null,null,null,null,4.0,17.0,null,null,null,null,null,null,null,null,null,2.0,2.0,null,null,null,null,3.0,3.0,null,null,null,null,3.0,0.0,0.0,0.0,0.0,null,null,9.0,null,null,null,null,null,null,null,5.0,5.0,null,null,0.0,6.0,6.0,null,null,null,null,11.0,11.0,null,null,null,null,2.0,2.0,null,1.0,null,null,null,null,null,null,5.0,5.0,5.0,null,null,null,null,11.0,null,null,null,-2.0,null,null,null,null,null,null,null,null,null,null,null,-4.0,-1.0,null,null,null,11.0,null,null,null,-2.0,null,null,-4.0,-4.0,null,null,null,null,null,null,null,null,null,null,null,null,null,null,null,null,null,null,null,null,null,null,null,null,null,null,null,null,null,null,0.0,null,null,null,null,null,null,null,null,null,null,null,null,null,-2.0,-2.0,null,null,null,10.0,10.0,-3.0,-3.0,17.0,17.0,38.0,null,null,null,null,null,null,null,3.0,3.0,-3.0,6.0,6.0,6.0,null,null,7.0,7.0,-2.0,null,null,null,null,null,-2.0,null,null,null,null,16.0,16.0,null,null,null,null,-4.0,null,null,2.0,2.0,null,null,null,10.0,null,21.0,21.0,null,-4.0,6.0,3.0,-1.0,12.0,3.0,3.0,null,null,null,3.0,null,null,null,null,null,null,null,3.0,null,null,2.0,-3.0,3.0,13.0,13.0,-3.0,null,1.0,1.0,1.0,2.0,9.0,9.0,3.0,3.0,null,null,null,null,null,null,null,null,null,null,null,null,null,null,null,null,null,null,null,null,null,null,null,4.0,-2.0,16.0,5.0,-6.0,-6.0,-4.0,null,null,1.0,null,null,null,null,null,null,null,null,null,null,null,null,-5.0,-5.0,null,4.0,7.0,null,null,null,null,null,null,null,null,-1.0,null,-1.0,null,null,null,null,null,null,null,8.0,3.0,null,null,null,null,null,null,null,null,4.0,4.0,null,null,null,null,-3.0,-3.0,null,null,-2.0,null,null,3.0,3.0,3.0,3.0,null,null,null,null,-2.0,-2.0,-2.0,-2.0,null,null,null,null,null,null,null,null,null,null,null,null,null,null,null,null,null,null,null,null,null,null,null,null,4.0,null,null,null,null,null,null,null,9.0,7.0,7.0,null,null,null,null,null,null,null,null,null,-2.0,18.0,11.0,12.0,null,null,null,null,null,null,null,null,-2.0,-2.0,null,null,null,null,4.0,-2.0,null,null,11.0,11.0,null,null,null,null,null,null,null,null,13.0,0.0,2.0,2.0,2.0,null,null,null,null,null,0.0,0.0,null,null,null,-1.0,null,null,-7.0,null,null,null,null,6.0,5.0,5.0,5.0,null,6.0,null,null,null,null,null,null,null,-2.0,null,null,null,4.0,-4.0,-4.0,null,2.0,2.0,null,null,null,null,-1.0,-1.0,1.0,null,7.0,7.0,8.0,8.0,null,null,null,null,null,null,null,3.0,null,null,null,3.0,3.0,null,null,null,null,null,null,null,null,null,null,null,null,null,null,null,null,null,null,-7.0,null,-6.0,-6.0,-6.0,2.0,2.0,-6.0,-6.0,-8.0,null,null,-2.0,null,null,null,null,-2.0,null,null,-6.0,7.0,7.0,null,null,-2.0,null,null,null,null,10.0,null,null,null,6.0,6.0,-4.0,null,null,null,-4.0,-4.0,null,null,3.0,null,null,null,null,null,2.0,null,null,null,null,0.0,0.0,3.0,-4.0,-4.0,null,null,null,-4.0,null,null,null,null,null,null,null,2.0,2.0,4.0,4.0,null,null,null,16.0,-3.0,-3.0,-3.0,-3.0,16.0,16.0,null,null,null,null,null,null,null,null,5.0,5.0,0.0,0.0,null,null,null,null,null,null,null,null,null,null,null,null,null,null,null,null,null,null,null,null,-3.0,9.0,null,null,null,null,null,null,null,null,null,null,-3.0,-3.0,null,null,null,null,null,null,null,null,null,null,12.0,null,-4.0,-4.0,null,null,null,null,null,null,null,null,null,null,null,null,null,null,null,null,null,null,null,null,null,null,null,null,null,null,null,null,null,null,null,-3.0,null,null,null,null,11.0,null,null,1.0,1.0,null,null,null,null,null,null,null,null,null,null,null,null,null,null,null,null,null,null,5.0,25.0,-4.0,-4.0,1.0,null,null,null,null,null,3.0,3.0,3.0,null,null,null,-5.0,null,-3.0,-3.0,null,null,null,null,4.0,4.0,null,null,null,null,null,null,null,null,null,null,-4.0,5.0,null,null,null,null,null,null,null,null,null,null,null,null,null,null,null,null,null,null,5.0,5.0,4.0,null,1.0,null,null,null,null,null,null,null,null,0.0,0.0,null,null,null,null,4.0,null,null,null,null,null,null,15.0,15.0,null,null,null,null,null,null,-3.0,null,null,null,null,null,null,null,4.0,null,null,null,null,null,null,null,null,null,null,null,null,null,null,null,null,null,null,3.0,3.0,-1.0,-1.0,null,7.0,7.0,7.0,null,null,1.0,null,7.0,null,null,null,null,null,null,null,null,null,null,null,null,null,null,null,null,null,null,-5.0,null,null,null,null,null,null,null,null,null,null,null,null,null,6.0,6.0,null,null,null,null,null,null,null,null,null,null,null,null,null,null,null,null,null,null,null,null,null,null,null,null,null,7.0,7.0,null,null,null,null,null,null,null,null,null,null,4.0,-4.0,null,null,-3.0,-3.0,-5.0,-5.0,null,null,1.0,-2.0,-2.0,-2.0,null,null,null,-4.0,null,null,null,null,null,null,4.0,null,null,null,null,null,null,null,null,null,-3.0,-3.0,null,null,null,8.0,null,null,null,-3.0,null,null,null,null,null,null,12.0,-6.0,null,null,null,null,null,null,null,null,null,null,null,null,null,null,null,null,null,null,null,null,null,null,null,null,null,null,null,null,null,null,null,null,null,null,5.0,-7.0,null,null,null,null,null,null,1.0,1.0,1.0,null,null,null,14.0,14.0,null,null,null,null,null,null,null,6.0,null,null,null,null,null,null,-6.0,1.0,null,null,null,5.0,5.0,2.0,null,null,null,null,null,3.0,3.0,-5.0,null,null,5.0,5.0,3.0,null,5.0,5.0,null,null,null,null,null,null,null,null,null,null,null,null,null,null,null,null,null,null,null,null,null,null,-5.0,-5.0,-5.0,-3.0,-3.0,null,null,null,null,null,null,null,null,null,null,null,null,null,null,null,null,null,14.0,14.0,null,null,-6.0,null,null,null,null,null,0.0,1.0,5.0,5.0,null,null,-3.0,-3.0,null,null,4.0,4.0,null,null,null,4.0,4.0,15.0,null,null,null,null,null,-2.0,null,null,null,null,null,null,null,null,null,null,null,null,null,8.0,8.0,null,null,null,null,null,null,null,null,-6.0,null,null,null,null,null,null,null,2.0,2.0,9.0,null,null,5.0,null,null,null,null,null,null,null,0.0,null,null,null,-3.0,15.0,15.0,null,null,null,null,null,null,null,null,null,null,null,null,null,null,null,null,-3.0,-3.0,null,null,null,null,3.0,3.0,-4.0,null,null,-2.0,null,5.0,5.0,24.0,null,null,null,null,null,-1.0,1.0,1.0,1.0,null,null,null,null,-6.0,-6.0,null,-4.0,-4.0,null,null,4.0,4.0,4.0,null,null,null,null,null,null,null,-4.0,-4.0,null,null,null,null,4.0,12.0,5.0,5.0,null,null,null,null,3.0,17.0,17.0,null,null,null,null,-4.0,null,null,null,null,0.0,0.0,-7.0,-7.0,-7.0,-7.0,null,null,null,null,null,-6.0,-6.0,-6.0,-6.0,-6.0,3.0,3.0,5.0,5.0,null,null,12.0,12.0,11.0,-3.0,2.0,2.0,-5.0,null,null,null,null,7.0,8.0,8.0,null,null,-2.0,4.0,null,null,null,null,3.0,3.0,1.0,1.0,null,null,null,null,null,null,4.0,4.0,-4.0,-4.0,5.0,5.0,6.0,6.0,null,null,null,null,null,null,-3.0,-3.0,-1.0,-1.0,null,null,null,-4.0,-4.0,0.0,0.0,0.0,2.0,-3.0,0.0,-4.0,-3.0,-3.0,null,null,-3.0,-3.0,null,null,null,null,null,null,null,null,null,null,null,null,null,null,null,7.0,7.0,7.0,null,null,null,4.0,4.0,null,-1.0,-1.0,null,null,null,null,null,null,null,null,null,null,null,null,null,null,21.0,1.0,null,null,0.0,null,null,null,null,null,-5.0,0.0,0.0,-4.0,null,null,null,null,null,-3.0,-5.0,-5.0,3.0,3.0,null,null,null,null,3.0,-4.0,-4.0,-4.0,null,null,null,null,null,null,null,null,null,null,-3.0,null,5.0,5.0,2.0,2.0,-6.0,-6.0,-4.0,-4.0,4.0,4.0,4.0,2.0,2.0,4.0,4.0,-2.0,-2.0,-2.0,9.0,9.0,4.0,4.0,-3.0,null,null,-1.0,-1.0,null,null,0.0,null,null,null,null,null,null,null,-4.0,-4.0,null,null,null,null,null,null,null,null,null,null,6.0,-2.0,null,null,null,null,3.0,3.0,15.0,15.0,14.0,null,null,4.0,null,null,null,6.0,null,null,null,6.0,null,null,null,null,null,null,null,null,3.0,null,-3.0,null,2.0,null,null,null,null,null,0.0,null,null,null,null,null,null,-4.0,-3.0,17.0,17.0,null,-2.0,null,3.0,-3.0,null,null,null,5.0,5.0,null,null,null,3.0,null,null,-1.0,-1.0,null,0.0,0.0,3.0,-2.0,-2.0,3.0,null,null,3.0,3.0,-4.0,null,null,4.0,4.0,4.0,null,null,null,null,null,null,null,-5.0,null,null,null,null,null,12.0,12.0,-5.0,null,null,-3.0,null,null,6.0,null,null,null,null,null,null,null,null,null,0.0,null,7.0,null,null,null,-5.0,-5.0,-9.0,null,null,null,null,null,null,null,null,null,null,11.0,11.0,11.0,11.0,null,null,null,-3.0,-3.0,10.0,null,6.0,6.0,3.0,null,1.0,null,null,null,28.0,null,null,null,null,null,null,null,null,null,null,6.0,null,null,null,-3.0,-3.0,null,null,null,null,null,null,2.0,2.0,2.0,null,null,null,null,null,null,null,null,null,null,null,9.0,6.0,3.0,3.0,null,null,null,2.0,-4.0,null,null,null,null,null,null,null,null,null,null,null,null,null,null,null,null,null,11.0,null,null,4.0,4.0,null,null,null,null,0.0,0.0,8.0,8.0,null,null,0.0,null,null,null,null,null,null,null,null,8.0,4.0,4.0,null,null,null,19.0,null,null,null,null,null,null,null,null,null,null,7.0,7.0,-5.0,-5.0,7.0,null,null,null,null,null,null,null,null,null,null,null,null,null,null,null,null,null,null,null,null,null,null,null,null,null,4.0,4.0,null,null,-6.0,-6.0,6.0,null,17.0,-5.0,null,null,null,null,null,null,null,null,null,2.0,2.0,null,2.0,2.0,2.0,null,4.0,-6.0,null,null,1.0,1.0,null,null,null,null,-2.0,9.0,13.0,13.0,null,null,null,null,null,2.0,2.0,null,null,null,null,null,null,4.0,null,null,null,7.0,-3.0,-1.0,-1.0,null,null,null,null,null,null,8.0,8.0,-2.0,null,null,null,null,null,null,null,1.0,1.0,1.0,2.0,2.0,null,null,null,3.0,null,null,null,null,null,null,null,null,null,-5.0,null,null,null,null,null,null,null,null,null,null,null,null,null,null,null,null,null,14.0,null,null,null,0.0,0.0,6.0,6.0,37.0,null,null,null,null,null,null,1.0,null,4.0,null,null,null,null,null,null,null,null,null,-6.0,null,null,4.0,null,1.0,null,-1.0,null,null,null,null,null,null,null,2.0,2.0,2.0,2.0,null,null,null,null,14.0,10.0,null,null,12.0,-6.0,-6.0,-6.0,-5.0,null,null,-5.0,null,null,null,null,null,null,null,null,null,null,null,null,null,null,null,null,null,null,null,null,-1.0,-1.0,9.0,null,null,null,null,null,20.0,null,null,null,null,null,null,3.0,15.0,15.0,-4.0,-4.0,-1.0,-1.0,null,null,null,null,null,null,null,-2.0,null,null,null,-2.0,null,null,null,null,null,null,null,null,null,13.0,null,null,null,null,null,null,2.0,null,null,null,null,null,null,1.0,1.0,16.0,16.0,null,null,null,19.0,19.0,-2.0,-2.0,null,null,null,-3.0,-3.0,null,3.0,3.0,null,4.0,4.0,null,null,null,null,null,null,3.0,3.0,5.0,null,null,5.0,null,null,null,null,null,null,null,null,null,null,null,null,null,4.0,-1.0,-1.0,null,null,null,-4.0,2.0,2.0,-6.0,1.0,-1.0,-1.0,-1.0,null,null,null,null,null,15.0,-3.0,-2.0,-4.0,-4.0,0.0,6.0,6.0,5.0,5.0,null,null,null,null,null,null,null,null,null,3.0,0.0,null,-5.0,null,null,null,null,null,null,null,-1.0,null,null,null,-2.0,null,null,null,null,null,4.0,-3.0,null,null,-4.0,null,null,null,null,4.0,null,null,null,null,null,null,null,null,null,null,null,null,null],\"xaxis\":\"x\",\"yaxis\":\"y\",\"type\":\"histogram\"}],                        {\"template\":{\"data\":{\"histogram2dcontour\":[{\"type\":\"histogram2dcontour\",\"colorbar\":{\"outlinewidth\":0,\"ticks\":\"\"},\"colorscale\":[[0.0,\"#0d0887\"],[0.1111111111111111,\"#46039f\"],[0.2222222222222222,\"#7201a8\"],[0.3333333333333333,\"#9c179e\"],[0.4444444444444444,\"#bd3786\"],[0.5555555555555556,\"#d8576b\"],[0.6666666666666666,\"#ed7953\"],[0.7777777777777778,\"#fb9f3a\"],[0.8888888888888888,\"#fdca26\"],[1.0,\"#f0f921\"]]}],\"choropleth\":[{\"type\":\"choropleth\",\"colorbar\":{\"outlinewidth\":0,\"ticks\":\"\"}}],\"histogram2d\":[{\"type\":\"histogram2d\",\"colorbar\":{\"outlinewidth\":0,\"ticks\":\"\"},\"colorscale\":[[0.0,\"#0d0887\"],[0.1111111111111111,\"#46039f\"],[0.2222222222222222,\"#7201a8\"],[0.3333333333333333,\"#9c179e\"],[0.4444444444444444,\"#bd3786\"],[0.5555555555555556,\"#d8576b\"],[0.6666666666666666,\"#ed7953\"],[0.7777777777777778,\"#fb9f3a\"],[0.8888888888888888,\"#fdca26\"],[1.0,\"#f0f921\"]]}],\"heatmap\":[{\"type\":\"heatmap\",\"colorbar\":{\"outlinewidth\":0,\"ticks\":\"\"},\"colorscale\":[[0.0,\"#0d0887\"],[0.1111111111111111,\"#46039f\"],[0.2222222222222222,\"#7201a8\"],[0.3333333333333333,\"#9c179e\"],[0.4444444444444444,\"#bd3786\"],[0.5555555555555556,\"#d8576b\"],[0.6666666666666666,\"#ed7953\"],[0.7777777777777778,\"#fb9f3a\"],[0.8888888888888888,\"#fdca26\"],[1.0,\"#f0f921\"]]}],\"heatmapgl\":[{\"type\":\"heatmapgl\",\"colorbar\":{\"outlinewidth\":0,\"ticks\":\"\"},\"colorscale\":[[0.0,\"#0d0887\"],[0.1111111111111111,\"#46039f\"],[0.2222222222222222,\"#7201a8\"],[0.3333333333333333,\"#9c179e\"],[0.4444444444444444,\"#bd3786\"],[0.5555555555555556,\"#d8576b\"],[0.6666666666666666,\"#ed7953\"],[0.7777777777777778,\"#fb9f3a\"],[0.8888888888888888,\"#fdca26\"],[1.0,\"#f0f921\"]]}],\"contourcarpet\":[{\"type\":\"contourcarpet\",\"colorbar\":{\"outlinewidth\":0,\"ticks\":\"\"}}],\"contour\":[{\"type\":\"contour\",\"colorbar\":{\"outlinewidth\":0,\"ticks\":\"\"},\"colorscale\":[[0.0,\"#0d0887\"],[0.1111111111111111,\"#46039f\"],[0.2222222222222222,\"#7201a8\"],[0.3333333333333333,\"#9c179e\"],[0.4444444444444444,\"#bd3786\"],[0.5555555555555556,\"#d8576b\"],[0.6666666666666666,\"#ed7953\"],[0.7777777777777778,\"#fb9f3a\"],[0.8888888888888888,\"#fdca26\"],[1.0,\"#f0f921\"]]}],\"surface\":[{\"type\":\"surface\",\"colorbar\":{\"outlinewidth\":0,\"ticks\":\"\"},\"colorscale\":[[0.0,\"#0d0887\"],[0.1111111111111111,\"#46039f\"],[0.2222222222222222,\"#7201a8\"],[0.3333333333333333,\"#9c179e\"],[0.4444444444444444,\"#bd3786\"],[0.5555555555555556,\"#d8576b\"],[0.6666666666666666,\"#ed7953\"],[0.7777777777777778,\"#fb9f3a\"],[0.8888888888888888,\"#fdca26\"],[1.0,\"#f0f921\"]]}],\"mesh3d\":[{\"type\":\"mesh3d\",\"colorbar\":{\"outlinewidth\":0,\"ticks\":\"\"}}],\"scatter\":[{\"fillpattern\":{\"fillmode\":\"overlay\",\"size\":10,\"solidity\":0.2},\"type\":\"scatter\"}],\"parcoords\":[{\"type\":\"parcoords\",\"line\":{\"colorbar\":{\"outlinewidth\":0,\"ticks\":\"\"}}}],\"scatterpolargl\":[{\"type\":\"scatterpolargl\",\"marker\":{\"colorbar\":{\"outlinewidth\":0,\"ticks\":\"\"}}}],\"bar\":[{\"error_x\":{\"color\":\"#2a3f5f\"},\"error_y\":{\"color\":\"#2a3f5f\"},\"marker\":{\"line\":{\"color\":\"#E5ECF6\",\"width\":0.5},\"pattern\":{\"fillmode\":\"overlay\",\"size\":10,\"solidity\":0.2}},\"type\":\"bar\"}],\"scattergeo\":[{\"type\":\"scattergeo\",\"marker\":{\"colorbar\":{\"outlinewidth\":0,\"ticks\":\"\"}}}],\"scatterpolar\":[{\"type\":\"scatterpolar\",\"marker\":{\"colorbar\":{\"outlinewidth\":0,\"ticks\":\"\"}}}],\"histogram\":[{\"marker\":{\"pattern\":{\"fillmode\":\"overlay\",\"size\":10,\"solidity\":0.2}},\"type\":\"histogram\"}],\"scattergl\":[{\"type\":\"scattergl\",\"marker\":{\"colorbar\":{\"outlinewidth\":0,\"ticks\":\"\"}}}],\"scatter3d\":[{\"type\":\"scatter3d\",\"line\":{\"colorbar\":{\"outlinewidth\":0,\"ticks\":\"\"}},\"marker\":{\"colorbar\":{\"outlinewidth\":0,\"ticks\":\"\"}}}],\"scattermapbox\":[{\"type\":\"scattermapbox\",\"marker\":{\"colorbar\":{\"outlinewidth\":0,\"ticks\":\"\"}}}],\"scatterternary\":[{\"type\":\"scatterternary\",\"marker\":{\"colorbar\":{\"outlinewidth\":0,\"ticks\":\"\"}}}],\"scattercarpet\":[{\"type\":\"scattercarpet\",\"marker\":{\"colorbar\":{\"outlinewidth\":0,\"ticks\":\"\"}}}],\"carpet\":[{\"aaxis\":{\"endlinecolor\":\"#2a3f5f\",\"gridcolor\":\"white\",\"linecolor\":\"white\",\"minorgridcolor\":\"white\",\"startlinecolor\":\"#2a3f5f\"},\"baxis\":{\"endlinecolor\":\"#2a3f5f\",\"gridcolor\":\"white\",\"linecolor\":\"white\",\"minorgridcolor\":\"white\",\"startlinecolor\":\"#2a3f5f\"},\"type\":\"carpet\"}],\"table\":[{\"cells\":{\"fill\":{\"color\":\"#EBF0F8\"},\"line\":{\"color\":\"white\"}},\"header\":{\"fill\":{\"color\":\"#C8D4E3\"},\"line\":{\"color\":\"white\"}},\"type\":\"table\"}],\"barpolar\":[{\"marker\":{\"line\":{\"color\":\"#E5ECF6\",\"width\":0.5},\"pattern\":{\"fillmode\":\"overlay\",\"size\":10,\"solidity\":0.2}},\"type\":\"barpolar\"}],\"pie\":[{\"automargin\":true,\"type\":\"pie\"}]},\"layout\":{\"autotypenumbers\":\"strict\",\"colorway\":[\"#636efa\",\"#EF553B\",\"#00cc96\",\"#ab63fa\",\"#FFA15A\",\"#19d3f3\",\"#FF6692\",\"#B6E880\",\"#FF97FF\",\"#FECB52\"],\"font\":{\"color\":\"#2a3f5f\"},\"hovermode\":\"closest\",\"hoverlabel\":{\"align\":\"left\"},\"paper_bgcolor\":\"white\",\"plot_bgcolor\":\"#E5ECF6\",\"polar\":{\"bgcolor\":\"#E5ECF6\",\"angularaxis\":{\"gridcolor\":\"white\",\"linecolor\":\"white\",\"ticks\":\"\"},\"radialaxis\":{\"gridcolor\":\"white\",\"linecolor\":\"white\",\"ticks\":\"\"}},\"ternary\":{\"bgcolor\":\"#E5ECF6\",\"aaxis\":{\"gridcolor\":\"white\",\"linecolor\":\"white\",\"ticks\":\"\"},\"baxis\":{\"gridcolor\":\"white\",\"linecolor\":\"white\",\"ticks\":\"\"},\"caxis\":{\"gridcolor\":\"white\",\"linecolor\":\"white\",\"ticks\":\"\"}},\"coloraxis\":{\"colorbar\":{\"outlinewidth\":0,\"ticks\":\"\"}},\"colorscale\":{\"sequential\":[[0.0,\"#0d0887\"],[0.1111111111111111,\"#46039f\"],[0.2222222222222222,\"#7201a8\"],[0.3333333333333333,\"#9c179e\"],[0.4444444444444444,\"#bd3786\"],[0.5555555555555556,\"#d8576b\"],[0.6666666666666666,\"#ed7953\"],[0.7777777777777778,\"#fb9f3a\"],[0.8888888888888888,\"#fdca26\"],[1.0,\"#f0f921\"]],\"sequentialminus\":[[0.0,\"#0d0887\"],[0.1111111111111111,\"#46039f\"],[0.2222222222222222,\"#7201a8\"],[0.3333333333333333,\"#9c179e\"],[0.4444444444444444,\"#bd3786\"],[0.5555555555555556,\"#d8576b\"],[0.6666666666666666,\"#ed7953\"],[0.7777777777777778,\"#fb9f3a\"],[0.8888888888888888,\"#fdca26\"],[1.0,\"#f0f921\"]],\"diverging\":[[0,\"#8e0152\"],[0.1,\"#c51b7d\"],[0.2,\"#de77ae\"],[0.3,\"#f1b6da\"],[0.4,\"#fde0ef\"],[0.5,\"#f7f7f7\"],[0.6,\"#e6f5d0\"],[0.7,\"#b8e186\"],[0.8,\"#7fbc41\"],[0.9,\"#4d9221\"],[1,\"#276419\"]]},\"xaxis\":{\"gridcolor\":\"white\",\"linecolor\":\"white\",\"ticks\":\"\",\"title\":{\"standoff\":15},\"zerolinecolor\":\"white\",\"automargin\":true,\"zerolinewidth\":2},\"yaxis\":{\"gridcolor\":\"white\",\"linecolor\":\"white\",\"ticks\":\"\",\"title\":{\"standoff\":15},\"zerolinecolor\":\"white\",\"automargin\":true,\"zerolinewidth\":2},\"scene\":{\"xaxis\":{\"backgroundcolor\":\"#E5ECF6\",\"gridcolor\":\"white\",\"linecolor\":\"white\",\"showbackground\":true,\"ticks\":\"\",\"zerolinecolor\":\"white\",\"gridwidth\":2},\"yaxis\":{\"backgroundcolor\":\"#E5ECF6\",\"gridcolor\":\"white\",\"linecolor\":\"white\",\"showbackground\":true,\"ticks\":\"\",\"zerolinecolor\":\"white\",\"gridwidth\":2},\"zaxis\":{\"backgroundcolor\":\"#E5ECF6\",\"gridcolor\":\"white\",\"linecolor\":\"white\",\"showbackground\":true,\"ticks\":\"\",\"zerolinecolor\":\"white\",\"gridwidth\":2}},\"shapedefaults\":{\"line\":{\"color\":\"#2a3f5f\"}},\"annotationdefaults\":{\"arrowcolor\":\"#2a3f5f\",\"arrowhead\":0,\"arrowwidth\":1},\"geo\":{\"bgcolor\":\"white\",\"landcolor\":\"#E5ECF6\",\"subunitcolor\":\"white\",\"showland\":true,\"showlakes\":true,\"lakecolor\":\"white\"},\"title\":{\"x\":0.05},\"mapbox\":{\"style\":\"light\"}}},\"xaxis\":{\"anchor\":\"y\",\"domain\":[0.0,1.0],\"title\":{\"text\":\"Pass Length\"}},\"yaxis\":{\"anchor\":\"x\",\"domain\":[0.0,1.0],\"title\":{\"text\":\"Count\"}},\"legend\":{\"title\":{\"text\":\"Tackle\"},\"tracegroupgap\":0},\"title\":{\"text\":\"Bar Plot: Tackle vs Pass Length\"},\"barmode\":\"group\"},                        {\"responsive\": true}                    ).then(function(){\n",
       "                            \n",
       "var gd = document.getElementById('719d20c2-1f5b-4655-b9a8-23c8a6215c48');\n",
       "var x = new MutationObserver(function (mutations, observer) {{\n",
       "        var display = window.getComputedStyle(gd).display;\n",
       "        if (!display || display === 'none') {{\n",
       "            console.log([gd, 'removed!']);\n",
       "            Plotly.purge(gd);\n",
       "            observer.disconnect();\n",
       "        }}\n",
       "}});\n",
       "\n",
       "// Listen for the removal of the full notebook cells\n",
       "var notebookContainer = gd.closest('#notebook-container');\n",
       "if (notebookContainer) {{\n",
       "    x.observe(notebookContainer, {childList: true});\n",
       "}}\n",
       "\n",
       "// Listen for the clearing of the current output cell\n",
       "var outputEl = gd.closest('.output');\n",
       "if (outputEl) {{\n",
       "    x.observe(outputEl, {childList: true});\n",
       "}}\n",
       "\n",
       "                        })                };                });            </script>        </div>"
      ]
     },
     "metadata": {},
     "output_type": "display_data"
    }
   ],
   "source": [
    "figpl = px.histogram(df, x='passLength', color='tackle', barmode='group', labels={'passLength': 'Pass Length', 'tackle': 'Tackle'},\n",
    "                             title='Bar Plot: Tackle vs Pass Length')\n",
    "figpl.update_layout(xaxis=dict(title='Pass Length'), yaxis=dict(title='Count'))\n",
    "figpl.show()"
   ]
  },
  {
   "cell_type": "code",
   "execution_count": 41,
   "id": "5794ab54",
   "metadata": {
    "execution": {
     "iopub.execute_input": "2024-01-04T08:56:22.537875Z",
     "iopub.status.busy": "2024-01-04T08:56:22.536749Z",
     "iopub.status.idle": "2024-01-04T08:56:22.707677Z",
     "shell.execute_reply": "2024-01-04T08:56:22.706539Z"
    },
    "papermill": {
     "duration": 0.198951,
     "end_time": "2024-01-04T08:56:22.710158",
     "exception": false,
     "start_time": "2024-01-04T08:56:22.511207",
     "status": "completed"
    },
    "tags": []
   },
   "outputs": [
    {
     "data": {
      "text/html": [
       "<div>                            <div id=\"7cce360f-fedd-456b-afca-b2190b9cfb04\" class=\"plotly-graph-div\" style=\"height:525px; width:100%;\"></div>            <script type=\"text/javascript\">                require([\"plotly\"], function(Plotly) {                    window.PLOTLYENV=window.PLOTLYENV || {};                                    if (document.getElementById(\"7cce360f-fedd-456b-afca-b2190b9cfb04\")) {                    Plotly.newPlot(                        \"7cce360f-fedd-456b-afca-b2190b9cfb04\",                        [{\"alignmentgroup\":\"True\",\"bingroup\":\"x\",\"hovertemplate\":\"Tackle=1\\u003cbr\\u003edownToGo=%{x}\\u003cbr\\u003ecount=%{y}\\u003cextra\\u003e\\u003c\\u002fextra\\u003e\",\"legendgroup\":\"1\",\"marker\":{\"color\":\"#636efa\",\"pattern\":{\"shape\":\"\"}},\"name\":\"1\",\"offsetgroup\":\"1\",\"orientation\":\"v\",\"showlegend\":true,\"x\":[10,12,10,20,10,10,6,10,10,42,24,10,18,12,18,20,10,2,8,8,9,20,10,20,20,10,42,30,2,18,10,10,10,4,18,6,8,10,16,6,21,10,8,15,10,18,10,20,10,10,21,15,10,10,14,12,21,12,10,10,10,6,18,10,18,3,10,10,10,10,10,38,7,10,3,18,2,10,8,8,10,10,7,30,10,3,14,24,16,8,14,10,10,20,6,12,10,15,14,10,14,10,12,10,10,12,10,10,9,10,8,24,12,6,10,10,28,10,6,10,10,9,6,3,8,10,14,48,10,20,8,10,10,10,20,8,10,10,10,12,12,10,16,10,10,6,10,14,10,15,10,30,6,10,6,20,10,10,10,10,10,9,30,10,12,60,18,10,10,9,10,10,6,12,20,10,20,10,24,10,15,10,10,10,10,12,10,18,16,12,10,30,3,8,28,12,20,18,10,10,18,10,20,10,10,10,12,57,21,10,10,12,12,15,6,3,3,15,10,20,18,3,10,10,8,22,10,10,28,2,10,10,2,12,20,8,10,10,12,10,10,15,30,10,10,14,12,6,10,12,10,20,8,10,10,10,10,14,5,10,6,10,10,10,30,10,10,10,30,20,10,12,10,2,26,10,15,2,16,24,54,10,36,10,18,8,10,10,10,16,10,6,12,10,10,10,15,18,4,10,10,10,6,2,20,10,10,10,20,10,10,10,10,10,21,10,10,20,10,10,5,10,4,20,38,22,10,15,20,12,10,27,3,18,18,20,20,10,44,6,10,7,30,10,10,10,8,10,10,10,6,52,30,8,3,12,24,10,9,20,4,15,8,9,10,4,40,20,10,2,10,12,18,21,10,24,2,10,6,20,10,38,18,10,27,3,20,4,10,10,20,10,27,10,10,10,4,10,10,10,10,30,10,8,8,10,2,2,10,66,12,10,9,10,10,3,10,10,15,10,10,2,16,5,20,20,6,10,10,10,10,10,10,6,10,45,10,10,21,18,10,3,10,14,4,12,10,12,10,10,2,15,10,20,10,2,10,28,10,28,10,18,1,2,21,12,10,10,38,42,6,39,2,3,6,10,7,10,20,10,10,6,10,10,10,10,10,20,20,20,10,24,20,10,12,10,42,10,10,10,66,3,6,10,4,14,10,10,52,22,20,5,30,20,10,12,20,30,10,10,10,27,10,10,18,14,27,20,10,10,10,10,3,10,20,42,16,20,10,20,9,10,2,20,10,14,10,6,10,15,12,24,16,3,20,4,24,10,10,10,10,5,10,10,20,12,36,10,10,10,10,16,10,6,10,20,10,39,30,10,10,10,10,14,10,27,8,10,20,10,10,20,10,14,10,20,10,10,14,10,10,24,10,10,10,10,6,10,22,10,10,2,10,10,10,10,10,10,22,26,2,3,3,10,4,20,10,3,10,10,18,10,10,9,10,10,10,10,10,4,10,10,12,6,10,39,4,26,18,3,4,10,15,10,33,8,22,10,2,22,10,18,20,10,12,3,20,10,4,6,3,12,30,20,20,10,3,20,10,10,9,36,8,28,20,10,20,10,10,10,10,10,10,9,10,10,10,3,36,20,30,10,63,10,10,8,10,45,10,10,16,10,10,10,10,20,10,10,6,10,17,10,24,10,30,20,10,15,10,10,4,10,6,5,16,39,10,24,16,10,8,10,10,10,24,18,12,21,10,10,10,20,14,10,22,20,39,10,10,12,3,12,38,10,10,10,16,45,48,57,16,12,10,10,20,10,14,10,10,20,10,10,15,10,10,4,18,6,12,10,20,12,40,10,12,8,10,39,10,2,15,18,27,4,33,10,10,15,10,10,12,10,18,10,10,16,54,3,24,15,10,15,20,10,10,10,20,10,9,9,10,6,8,10,15,10,10,14,10,27,10,10,10,22,8,10,10,4,12,10,26,10,10,10,9,3,10,10,20,20,15,39,40,12,51,20,10,6,20,10,15,3,10,12,10,26,10,20,6,10,10,10,10,18,10,10,12,12,10,10,18,3,75,10,3,24,10,10,10,20,20,12,10,10,9,10,10,4,10,4,24,10,36,10,10,10,10,16,6,36,12,10,14,10,10,10,12,45,32,14,24,27,10,10,10,10,10,10,10,15,10,20,10,10,10,10,14,34,15,10,32,10,10,20,1,10,16,20,10,11,10,10,10,10,10,20,20,12,10,10,20,18,18,10,10,20,10,10,10,20,18,9,10,8,10,20,10,12,33,20,10,10,12,10,10,12,10,10,10,10,10,20,2,4,18,10,42,2,15,27,15,18,30,10,8,12,10,10,10,20,20,10,12,3,15,10,10,2,10,6,10,10,16,18,10,10,6,14,3,10,10,10,20,2,3,6,10,6,10,9,20,10,2,24,8,4,30,8,10,10,10,15,10,12,2,10,10,10,5,10,10,10,10,10,10,30,10,10,18,10,10,10,24,10,10,20,10,10,8,10,40,10,6,3,9,40,10,40,10,18,27,16,16,10,10,20,10,10,3,36,9,10,12,10,10,10,9,10,16,10,8,57,12,12,10,18,9,6,18,5,10,10,10,10,10,14,30,18,18,16,22,10,10,26,10,33,10,20,14,16,10,3,6,10,14,20,36,24,12,10,10,20,24,10,30,20,10,30,15,10,10,14,8,14,20,15,10,30,33,3,10,60,10,10,15,28,10,4,10,10,10,2,10,12,40,10,81,10,10,10,10,10,10,10,2,10,8,20,10,4,10,4,10,10,10,9,12,10,10,2,10,10,12,10,14,10,10,10,10,10,39,36,33,24,30,10,10,10,14,10,6,9,10,75,4,9,24,45,10,10,4,10,8,12,10,20,20,8,8,10,10,9,10,30,10,20,26,18,12,10,18,18,10,18,7,1,10,10,3,10,10,10,10,10,8,12,3,3,6,10,33,10,10,20,10,10,6,10,10,10,12,10,45,27,10,10,15,12,8,10,4,4,18,20,20,2,10,10,10,10,21,10,30,28,10,10,27,10,15,10,10,10,8,6,2,10,4,10,20,12,12,10,10,10,10,4,20,3,10,20,3,10,20,6,10,20,9,20,12,10,10,38,10,3,10,6,3,8,10,14,6,10,10,10,10,18,40,10,10,2,6,10,10,14,3,8,15,10,12,30,20,3,6,10,10,10,3,10,2,10,10,3,24,10,20,8,20,10,18,69,20,10,6,10,18,12,10,20,10,14,16,18,10,10,16,20,10,20,10,10,10,8,10,3,54,12,10,22,10,10,8,14,10,10,10,12,3,10,10,15,10,10,21,36,20,3,8,10,4,10,10,72,20,10,12,10,10,12,12,18,18,10,10,20,8,10,20,30,10,18,2,10,3,12,10,10,10,10,10,15,6,24,6,10,10,20,18,10,14,8,40,60,18,20,33,10,10,10,20,33,10,4,10,10,16,10,24,10,10,3,2,20,10,10,18,12,10,20,6,4,18,39,20,10,10,27,18,8,10,20,10,10,20,10,10,10,45,20,15,10,10,10,8,10,32,10,16,3,10,10,6,18,6,14,10,12,10,10,10,10,10,10,10,10,12,12,9,10,3,6,10,9,10,16,10,14,10,10,18,10,30,10,10,20,12,42,10,12,8,10,18,10,10,15,27,16,21,10,10,10,10,24,10,10,10,5,10,16,10,10,8,20,6,4,20,10,10,16,10,4,10,10,10,10,6,10,10,16,8,24,27,10,10,10,21,42,10,9,10,10,10,10,63,10,9,16,30,10,8,20,4,10,10,33,3,10,6,10,10,24,50,10,16,10,8,10,8,10,10,10,14,10,10,3,10,10,6,10,10,3,16,10,10,10,10,20,16,14,10,10,10,10,10,10,8,10,10,21,10,21,10,10,14,10,60,21,10,10,24,27,28,10,4,10,18,12,15,10,14,15,34,8,10,10,10,20,10,57,10,10,10,10,14,14,10,10,10,8,8,10,8,15,10,10,10,4,10,10,10,10,10,10,10,12,20,8,36,2,20,10,10,4,10,20,8,10,6,10,10,9,10,20,10,3,14,10,32,20,8,10,10,24,28,10,10,9,16,14,10,18,4,8,14,10,10,3,3,30,10,10,9,16,10,10,8,10,10,20,10,10,10,9,10,5,1,10,6,22,10,10,16,9,10,20,4,16,48,3,9,10,10,10,24,21,33,22,10,4,10,10,21,10,10,14,24,20,6,20,10,15,10,51,51,15,10,20,6,6,10,12,10,10,10,20,10,10,10,10,24,10,20,9,10,10,18,9,20,8,3,10,8,12,3,6,10,14,10,2,5,16,27,10,30,10,20,10,10,20,14,27,10,28,14,10,10,3,10,10,28,10,10,3,14,10,10,10,5,3,10,12,36,10,22,36,10,15,2,20,10,30,3,3,10,10,10,8,10,14,3,16,10,10,4,36,10,63,4,10,3,10,6,10,6,10,16,12,18,14,6,6,10,10,15,8,10,10,10,4,18,16,10,3,10,20,14,3,6,10,10,8,12,32,10,20,10,4,10,4,24,12,10,2,12,18,10,10,10,10,10,10,38,10,10,3,18,8,42,14,1,21,10,10,10,2,10,10,14,10,6,18,10,10,9,16,4,10,10,10,10,10,12,12,10,10,10,12,10,20,5,30,10,10,16,15,20,10,6,10,10,12,10,20,8,22,10,10,22,3,10,18,15,10,10,10,9,16,10,10,10,10,10,16,2,36,10,10,10,51,26,10,21,12,10,9,10,15,10,10,18,10,10,12,10,10,10,10,10,10,30,9,4,10,20,7,20,12,14,8,50,15,5,10,10,10,4,10,12,12,18,10,8,36,14,12,28,10,10,6,10,16,45,10,30,10,10,10,20,12,6,10,10,10,10,8,10,20,10,15,10,10,4,6,12,10,9,2,10,3,10,10,6,33,10,10,10,12,10,10,19,10,12,15,18,8,10,10,10,10,27,10,14,4,24,10,2,10,20,6,20,14,6,10,10,2,10,16,30,6,9,10,16,3,10,20,32,33,4,10,10,10,12,10,2,18,10,2,21,22,8,12,10,10,22,10,10,6,21,20,10,6,10,10,10,9,12,10,12,10,16,10,10,9,10,10,57,39,20,12,10,14,16,24,10,27,20,20,10,10,40,10,10,10,16,16,10,10,22,20,15,8,10,12,18,6,32,12,21,18,10,22,20,10,10,4,10,20,46,10,21,14,9,10,10,28,10,30,22,10,10,10,10,10,10,14,10,10,9,18,4,28,10,34,10,20,10,18,15,10,5,30,24,14,20,10,10,10,6,10,10,2,10,12,10,3,10,10,10,10,8,10,54,10,10,30,12,12,6,10,10,18,12,4,27,10,10,10,10,10,10,28,18,18,3,10,22,10,3,27,10,10,10,14,10,14,4,20,10,5,8,5,10,14,6,12,20,20,24,18,27,3,14,10,10,38,14,10,10,10,10,18,10,10,9,3,14,10,6,8,24,10,10,10,14,4,10,12,10,16,3,10,10,2,10,16,9,10,10,2,4,10,10,10,12,4,14,14,20,14,10,10,10,20,10,10,6,10,10,26,20,10,10,12,10,10,10,10,4,15,21,10,10,10,20,6,20,18,10,10,16,4,10,10,8,10,10,20,10,36,10,27,14,18,20,16,20,10,10,20,10,15,12,14,10,6,12,18,14,10,18,21,10,10,18,15,10,10,27,10,10,10,10,3,10,14,9,10,4,12,22,10,18,27,20,10,9,6,10,10,6,10,10,10,36,10,10,10,10,10,10,8,20,10,30,10,18,30,15,10,54,10,10,10,10,10,3,10,15,12,6,10,10,6,8,18,14,10,20,12,10,51,33,10,10,10,10,10,3,10,3,10,10,21,15,10,30,16,4,12,4,5,10,16,16,10,10,18,18,10,15,6,10,18,8,36,20,10,10,15,10,18,10,26,10,10,10,10,25,10,27,10,10,14,10,4,10,10,10,16,10,10,15,10,20,12,15,18,10,10,10,10,16,10,14,10,20,10,10,20,2,10,16,10,45,14,10,10,32,24,2,20,15,10,15,10,9,6,10,10,10,4,8,57,10,27,10,3,12,20,10,10,20,20,10,10,21,10,16,18,10,20,10,10,10,20,8,10,16,10,10,22,22,10,3,18,18,10,5,8,10,10,2,3,10,20,10,10,42,15,54,18,20,21,10,14,10,15,10,4,16,3,10,18,10,10,10,39,10,4,20,34,10,24,20,10,10,20,10,66,10,22,20,3,10,10,10,20,10,12,10,22,50,10,10,10,20,10,20,10,30,2,10,12,30,16,10,10,10,10,24,12,9,10,14,10,10,10,27,18,21,10,8,18,69,6,30,10,18,3,10,36,20,18,14,81,6,10,11,51,3,10,4,10,30,6,20,8,10,36,10,10,28,20,10,10,15,10,28,38,10,10,10,10,16,20,9,10,10,10,10,20,10,3,10,4,20,14,6,10,8,10,10,15,18,20,10,24,10,16,10,12,5,10,14,30,10,16,20,10,18,20,9,10,15,20,15,14,4,10,10,15,10,6,16,10,10,10,8,8,10,15,10,72,12,10,10,4,18,6,10,2,16,18,10,20,30,10,3,10,32,20,22,10,20,16,9,10,9,21,18,10,10,10,24,10,20,22,10,10,18,12,20,2,10,8,10,20,14,2,20,10,15,24,15,10,10,12,10,10,8,10,20,3,10,4,14,14,4,16,10,10,15,4,10,3,10,10,2,15,16,10,10,22,10,3,6,10,18,20,20,10,10,10,10,8,10,10,10,10,20,20,20,3,10,10,16,16,4,30,20,21,21,9,10,18,10,20,30,10,10,3,10,24,10,3,20,6,10,10,10,10,10,30,10,10,18,20,10,20,4,39,20,20,10,30,30,10,30,12,10,18,10,24,3,20,15,16,33,10,10,10,10,18,2,10,20,16,10,15,16,10,20,10,4,12,10,20,24,20,5,10,10,10,10,15,10,18,10,12,8,18,4,20,18,39,20,14,18,10,27,18,20,10,10,10,10,10,4,6,27,24,6,30,5,10,30,10,16,20,27,10,3,10,4,10,10,20,3,6,8,10,4,14,22,36,12,10,33,3,10,20,10,10,20,10,10,3,10,10,30,24,18,14,30,10,10,10,14,12,10,3,6,15,20,16,10,10,10,9,10,4,10,8,20,10,10,9,10,2,30,10,10,24,10,10,10,16,10,16,10,5,20,20,10,10,10,32,20,60,10,6,18,20,10,8,14,14,33,40,12,12,8,20,10,10,20,18,10,10,12,27,9,10,10,12,10,21,10,18,39,10,30,10,69,24,32,10,10,10,10,10,6,10,16,16,10,20,10,8,9,27,18,10,54,12,10,10,10,10,8,10,10,10,20,18,10,20,10,12,18,10,12,9,10,10,2,10,12,27,10,20,44,8,10,10,10,10,10,10,10,10,10,10,24,12,20,48,10,10,10,3,10,26,21,21,2,10,10,16,3,5,10,24,20,15,20,18,10,54,42,18,12,16,15,3,10,20,10,18,10,10,10,18,10,27,20,30,18,20,4,10,10,10,10,15,10,10,20,10,10,10,10,20,10,16,4,10,26,33,8,10,12,10,22,9,10,10,38,14,32,18,10,20,10,8,15,42,10,10,10,15,21,36,15,18,10,10,14,6,20,10,10,16,20,24,10,10,9,10,10,30,10,3,12,10,30,10,16,10,10,9,6,3,10,15,10,6,10,22,20,20,12,10,10,10,10,12,10,10,10,10,14,10,20,14,14,6,10,10,18,15,18,16,10,10,20,10,15,10,9,15,8,10,18,10,10,12,10,10,10,10,9,9,10,4,8,10,10,10,10,18,10,10,4,10,10,24,10,14,20,10,20,10,20,10,10,16,10,6,16,10,21,10,10,10,10,3,10,10,8,21,10,15,10,10,18,10,20,45,10,16,10,10,10,10,12,10,10,10,21,20,16,18,22,10,10,27,20,10,10,10,10,10,10,10,22,10,12,27,22,30,6,10,10,10,10,2,10,10,10,20,14,27,10,10,18,20,10,10,20,20,20,10,10,10,10,10,21,15,10,10,3,10,10,15,20,30,12,18,12,14,10,10,10,20,20,12,10,12,48,42,50,8,10,3,10,10,10,14,10,12,12,10,18,10,3,15,10,20,10,10,24,12,10,15,9,3,10,5,10,10,15,18,10,16,6,8,10,24,6,15,12,20,48,16,10,10,10,20,10,14,10,18,24,10,12,20,9,4,10,20,27,10,16,10,10,10,10,10,10,2,10,21,10,18,20,12,10,21,14,10,10,8,14,44,8,10,4,3,10,10,10,10,12,10,10,6,15,40,6,10,18,20,16,57,14,10,12,10,14,2,12,10,10,20,10,30,28,10,20,10,22,10,10,10,10,8,4,18,10,6,10,4,10,24,10,6,10,12,10,10,12,10,10,16,33,10,30,20,10,10,4,12,18,18,57,30,20,10,2,40,21,10,10,66,22,16,16,45,15,10,10,15,18,16,10,10,10,45,10,10,18,30,3,6,16,10,10,18,20,10,6,16,20,10,30,10,10,10,14,30,10,20,16,18,10,10,20,12,10,10,21,16,10,15,10,18,10,10,10,10,24,10,10,12,10,18,10,10,10,18,6,20,18,10,10,15,4,4,6,16,22,14,14,10,10,10,10,10,14,21,16,10,3,10,18,1,15,10,10,12,4,20,2,10,10,10,10,10,6,16,20,14,14,10,10,16,24,10,10,28,18,21,14,16,10,20,6,10,18,12,10,22,20,10,10,20,10,10,42,14,10,10,10,10,3,10,6,6,10,10,15,9,16,20,24,48,10,10,6,2,10,8,10,10,14,1,15,20,20,4,20,10,10,12,12,10,10,4,10,10,10,10,10,20,20,20,10,10,10,10,10,10,20,10,32,39,10,10,10,10,10,42,15,27,20,5,10,7,14,10,8,10,10,10,10,44,10,10,10,10,14,10,16,10,2,3,12,30,10,10,21,12,18,9,16,10,18,24,10,20,10,10,10,10,15,12,15,10,18,30,10,10,16,20,10,20,3,33,10,10,10,20,18,10,3,10,12,20,10,16,20,10,10,6,10,22,6,26,51,10,10,10,22,26,4,10,10,10,10,10,10,3,18,10,15,10,10,10,10,18,14,10,10,5,6,30,10,6,4,3,10,10,10,10,10,10,10,6,12,22,72,63,10,10,16,18,12,18,10,10,3,10,10,14,10,45,22,15,12,20,10,10,8,6,10,10,10,14,10,12,10,2,10,3,22,32,10,4,3,10,4,22,16,20,20,12,9,10,27,30,10,10,10,2,10,10,10,6,10,2,10,10,10,20,14,10,14,10,10,2,5,4,10,10,10,33,18,10,18,2,15,10,10,20,2,3,10,2,10,30,15,12,10,10,24,24,12,10,10,20,10,10,2,18,10,10,10,10,10,10,10,10,20,40,10,6,10,10,10,10,10,10,36,10,20,45,42,10,18,21,6,12,6,10,10,20,30,10,14,39,10,78,12,10,6,20,14,10,12,10,15,8,24,4,20,10,14,2,10,8,10,12,27,14,30,3,20,10,16,26,9,10,10,10,20,21,10,10,18,9,51,24,30,10,10,10,12,24,10,8,24,20,10,9,34,14,10,10,18,10,14,30,20,20,10,10,24,10,14,14,10,10,24,32,10,12,15,10,22,10,10,10,24,10,10,39,20,21,10,10,28,12,10,12,10,14,10,10,28,15,22,10,10,10,10,18,15,4,20,10,12,4,14,15,10,8,10,10,20,24,10,10,10,38,2,10,10,6,12,10,10,9,14,20,10,10,36,30,20,10,6,10,14,30,14,10,10,6,10,46,20,10,12,4,10,10,24,18,15,14,10,10,9,16,12,10,18,10,10,18,2,10,10,8,10,16,33,24,18,10,10,4,12,10,18,10,6,10,10,3,10,2,14,10,48,10,28,6,20,26,6,10,10,12,20,10,10,2,3,54,10,10,20,27,8,10,20,10,10,10,10,20,10,20,10,18,14,14,10,20,12,20,40,10,6,10,72,10,3,20,20,10,10,10,14,10,10,10,32,10,20,10,9,10,6,9,18,12,10,10,8,10,5,10,10,20,3,36,15,15,20,57,20,4,10,10,10,42,3,10,10,10,10,18,9,10,14,10,10,12,3,2,14,10,26,10,10,21,10,45,10,16,2,10,4,10,39,10,40,10,10,10,10,12,18,40,18,20,18,30,10,10,10,3,20,4,10,2,45,45,10,18,18,10,10,33,10,4,10,10,6,3,3,10,10,10,30,10,33,18,20,20,6,16,15,4,10,10,6,34,18,10,14,6,10,8,10,10,16,16,10,3,6,10,15,10,10,10,6,10,10,45,18,4,4,12,10,8,10,6,4,30,22,9,20,27,10,20,10,10,12,18,12,4,10,10,16,10,10,28,10,10,10,10,6,10,20,10,10,15,20,5,10,10,20,3,12,10,10,21,15,18,12,12,10,12,10,22,10,10,10,10,20,10,16,51,9,20,10,10,10,10,2,6,10,10,10,10,4,10,20,20,12,2,12,10,6,12,27,10,10,24,10,4,21,12,10,20,10,20,6,2,10,9,10,18,10,2,12,44,10,12,10,10,10,10,10,20,39,10,10,10,12,18,10,12,10,10,10,10,12,10,10,10,8,7,6,10,20,10,10,10,10,12,24,2,6,10,10,10,10,10,8,20,20,10,21,10,15,10,10,30,10,14,10,21,28,10,10,3,8,20,14,10,20,20,10,8,10,4,10,10,24,10,20,10,9,10,10,10,12,10,42,10,4,36,10,10,10,10,20,6,8,10,10,12,10,8,24,20,10,9,4,10,14,12,20,12,20,20,10,10,50,10,10,20,10,22,10,10,10,40,28,10,10,10,2,10,5,10,9,10,20,20,46,12,20,26,20,10,18,10,10,20,10,10,10,10,15,10,9,14,10,10,2,10,10,10,12,20,10,21,20,20,10,20,20,10,10,27,10,2,10,15,16,40,10,6,10,10,6,30,15,8,14,3,18,10,10,10,10,8,10,10,10,10,2,16,20,3,10,4,16,28,12,10,10,10,22,10,10,10,10,12,42,10,4,10,9,10,10,5,14,4,10,10,10,45,36,22,10,20,6,10,10,3,10,2,10,10,10,32,10,21,12,10,10,10,20,10,20,10,10,16,36,4,10,3,16,24,10,18,24,20,18,10,16,10,12,10,10,6,10,10,10,2,22,10,10,10,16,10,27,10,12,10,10,6,10,30,30,10,20,16,10,10,10,6,20,8,10,4,14,15,14,20,10,4,81,60,10,10,10,18,36,9,10,10,10,10,10,10,39,10,10,18,10,10,39,8,10,15,10,16,10,10,10,45,12,10,12,8,12,21,10,34,2,20,6,10,14,51,10,10,10,10,10,3,32,1,10,24,1,10,10,10,3,10,10,3,12,10,10,10,10,10,24,10,20,14,3,10,30,30,10,10,24,10,18,10,10,15,20,2,16,12,8,8,14,10,18,18,10,18,10,10,40,9,20,10,20,10,10,22,10,10,20,9,10,9,10,10,10,10,10,10,12,10,20,10,10,39,14,10,16,16,14,33,12,10,10,10,10,8,14,9,20,10,13,10,16,10,10,20,4,20,6,10,12,6,10,14,16,14,18,18,10,10,4,20,10,10,4,10,10,3,2,4,30,15,27,28,20,16,10,2,10,10,15,10,20,8,42,10,21,10,10,10,12,10,10,20,9,12,10,20,18,10,10,10,10,6,16,10,10,10,10,15,3,14,10,10,16,10,10,20,10,6,30,9,8,10,20,10,10,10,10,14,4,30,10,10,10,10,10,18,3,14,6,16,15,10,9,10,10,10,15,10,16,10,30,10,3,10,10,9,32,10,10,30,36,24,10,10,14,20,10,10,22,20,10,12,36,16,10,10,42,10,39,22,10,20,18,10,10,10,14,10,15,6,10,22,10,10,20,6,10,15,10,10,10,15,3,10,15,18,10,8,10,20,21,10,10,10,20,10,16,8,10,4,14,12,8,6,10,10,10,10,14,10,20,10,15,30,10,20,10,10,22,10,3,10,16,18,10,15,10,14,10,10,10,60,20,10,10,9,3,10,22,10,10,8,10,10,6,10,10,10,10,10,10,10,6,15,10,20,12,10,10,10,5,34,10,10,15,10,10,10,4,14,6,10,48,10,10,18,10,10,3,10,27,6,36,20,10,10,20,12,3,20,4,10,3,20,15,2,6,10,18,20,10,16,10,6,10,10,10,12,10,10,54,2,10,4,10,9,10,20,20,20,14,10,18,10,16,10,10,16,10,38,14,10,16,10,28,10,10,10,10,10,8,4,10,10,10,3,10,12,15,10,16,2,10,24,20,10,24,51,20,10,10,20,10,36,10,10,10,4,10,10,8,10,9,20,10,28,2,10,10,2,20,6,63,10,20,10,8,20,10,10,10,3,10,4,10,10,10,10,38,10,10,20,8,36,40,20,10,10,20,24,10,10,14,16,10,3,10,21,8,16,10,12,2,10,10,10,3,10,6,10,10,10,20,14,12,10,6,10,15,40,8,24,10,4,10,16,10,4,10,10,10,10,20,28,10,14,10,10,22,10,10,10,10,10,2,10,12,6,8,10,10,10,24,9,10,10,45,24,10,8,18,66,6,4,10,10,10,3,10,33,3,10,4,10,20,10,10,20,4,8,10,20,16,20,2,48,30,10,10,4,10,20,10,10,10,20,8,6,10,30,10,10,21,10,10,18,6,18,20,10,20,9,10,30,16,20,10,10,10,10,24,9,20,10,10,20,10,10,10,10,26,16,20,8,10,26,2,6,10,3,10,10,20,20,18,10,10,10,30,10,4,3,20,10,10,10,2,10,6,10,10,12,10,10,10,10,4,3,18,18,10,24,10,14,10,12,10,8,4,10,10,10,14,24,6,8,10,20,10,20,21,10,12,30,10,10,24,10,22,10,36,10,15,6,10,20,18,10,10,10,8,10,8,8,10,10,8,2,18,6,22,10,10,10,15,10,10,18,21,22,36,16,10,10,16,10,10,10,45,10,9,15,10,3,10,6,10,20,10,10,10,10,8,21,10,10,2,10,24,10,10,3,18,6,10,20,10,16,12,30,63,12,33,10,10,10,10,6,27,2,10,6,28,27,12,10,10,20,10,10,10,10,10,3,6,10,12,14,10,10,10,10,10,12,10,21,10,3,24,12,10,10,10,14,10,10,10,20,3,6,12,10,10,10,4,10,10,10,10,9,2,20,10,10,3,10,10,15,10,12,48,10,36,10,3,1,10,10,42,14,15,8,10,10,20,6,4,12,10,10,20,9,6,10,10,10,20,22,12,14,10,48,44,20,10,3,12,20,10,6,10,20,10,3,20,4,9,20,10,15,10,10,20,16,10,20,48,15,10,10,10,16,10,10,10,10,3,10,20,10,10,12,18,10,8,22,10,9,18,33,10,21,10,10,22,20,30,10,20,15,30,12,10,10,10,10,10,12,20,10,10,18,10,18,12,4,2,9,14,15,10,10,10,10,10,33,10,6,24,10,10,10,10,22,6,10,10,10,27,10,24,10,16,22,18,10,10,4,10,10,39,39,66,16,10,20,10,10,36,46,10,10,10,10,8,10,10,18,14,10,33,22,14,28,10,10,18,10,22,2,10,10,12,24,22,4,10,10,18,10,10,20,3,10,10,20,20,10,10,10,20,10,20,16,10,10,20,16,10,10,8,10,10,10,10,12,12,12,12,15,21,12,39,4,6,6,4,20,10,10,10,12,9,10,10,14,18,14,14,9,20,21,12,4,20,21,10,6,10,20,10,3,14,10,1,42,4,10,10,10,10,10,10,12,3,10,2,10,10,10,10,20,60,10,20,10,10,10,30,20,3,24,10,10,10,12,8,10,114,36,10,10,10,10,20,18,10,9,51,10,48,10,6,30,8,10,10,12,10,18,12,10,10,24,15,16,16,10,10,10,20,14,14,14,10,20,10,9,36,10,30,2,6,10,45,10,21,2,10,10,16,10,10,5,10,16,6,15,26,10,10,10,10,10,9,10,10,10,16,15,6,10,18,18,75,10,22,16,10,18,10,3,4,10,10,10,10,16,10,18,12,10,16,8,20,12,20,18,10,20,27,36,20,10,72,10,9,10,10,10,10,16,10,10,10,10,3,10,10,5,6,32,10,10,1,10,10,6,10,10,10,4,10,20,21,20,18,30,10,32,20,18,10,21,10,16,6,10,12,10,10,10,20,10,18,8,20,14,6,10,10,9,10,20,20,10,10,10,4,10,3,10,10,12,28,10,10,10,10,10,8,4,10,24,10,10,10,20,8,21,6,10,10,34,24,36,8,10,10,10,39,16,10,20,10,12,10,10,14,30,12,10,10,10,10,12,10,20,24,10,3,10,10,6,16,20,6,28,2,4,51,10,10,42,14,10,22,10,10,12,3,24,20,10,10,3,10,8,10,4,10,6,20,24,9,3,10,10,10,16,10,10,45,2,15,9,10,4,18,10,6,2,10,8,10,10,10,14,24,12,12,3,30,12,10,30,10,10,18,20,10,6,9,10,18,6,8,10,6,12,10,10,45,10,10,10,28,15,12,10,10,10,10,24,10,12,12,12,14,20,10,10,10,6,10,10,10,2,10,10,5,8,10,10,2,10,22,15,10,21,6,20,9,10,18,4,6,10,10,10,10,10,10,20,3,30,6,10,10,18,2,45,10,18,10,21,14,10,16,20,27,45,10,10,20,10,20,10,10,20,14,10,26,10,10,10,10,4,18,10,54,10,75,10,14,10,30,20,3,24,10,10,10,3,26,10,10,10,24,10,10,8,10,10,10,10,16,10,20,16,10,3,20,16,10,10,6,16,20,10,6,22,20,16,10,10,18,15,51,38,9,20,15,4,10,24,27,20,10,16,10,10,36,20,10,10,10,10,15,10,10,10,10,8,3,10,20,36,27,10,60,12,10,4,16,10,10,10,10,40,20,24,10,10,18,14,10,10,10,10,2,22,10,10,10,6,10,10,20,15,10,18,10,10,10,10,4,34,10,10,8,8,16,6,12,6,20,57,16,10,6,10,10,3,10,6,10,21,10,27,10,10,33,10,2,16,20,10,57,26,10,10,10,3,8,10,10,10,10,21,10,20,10,9,20,10,21,10,9,20,15,8,10,10,21,12,10,2,10,10,10,4,20,10,3,10,10,4,3,10,20,20,6,10,2,21,10,10,10,14,6,12,4,10,16,26,10,10,21,10,5,10,10,6,28,10,10,32,10,10,12,10,12,15,10,6,15,10,10,8,10,3,10,48,10,6,10,4,20,10,10,18,10,10,10,10,10,10,12,3,10,18,24,10,3,10,30,12,8,10,20,21,10,10,20,10,46,10,12,20,10,3,4,10,18,9,6,30,10,10,10,33,8,12,10,10,14,75,20,10,10,10,30,10,6,21,10,14,11,10,10,10,10,10,10,21,18,10,10,10,8,10,20,6,32,4,10,10,10,20,22,10,34,2,10,10,10,10,10,3,10,21,10,10,21,10,4,16,20,24,20,10,10,14,18,14,30,10,10,10,28,30,14,15,10,3,6,12,10,10,10,10,33,10,20,16,12,10,10,10,20,20,6,18,10,20,10,10,20,10,14,14,10,10,10,10,10,10,10,26,10,10,20,9,10,10,4,10,27,10,10,6,14,10,18,51,20,36,12,10,20,15,10,24,12,32,12,12,12,14,10,16,10,2,5,10,28,10,10,10,10,6,20,10,26,10,4,10,12,10,28,10,27,10,6,18,10,4,10,10,20,10,10,10,20,6,36,10,10,10,10,10,9,10,9,10,10,30,4,10,10,6,10,3,10,10,10,20,16,10,10,14,10,2,12,10,14,18,10,10,10,10,20,10,10,8,18,10,10,16,14,10,3,10,24,45,14,10,2,10,10,14,10,10,6,20,24,9,10,10,16,10,12,10,10,15,15,20,54,10,10,10,30,33,10,24,10,15,24,18,15,10,10,33,10,10,10,10,12,10,10,12,20,10,18,54,18,20,18,6,10,32,10,10,20,10,10,10,12,8,40,10,10,10,10,30,10,21,10,12,20,19,10,10,10,6,10,15,10,10,12,10,10,6,10,20,10,10,10,22,16,10,10,10,10,12,15,15,20,10,4,20,10,20,14,24,22,10,10,6,30,10,10,24,8,6,12,20,4,10,14,10,3,24,20,14,45,10,22,60,30,12,20,10,10,18,10,18,10,10,20,10,10,10,4,12,16,10,10,10,10,10,20,10,10,24,4,20,10,20,18,6,8,10,24,20,10,15,10,10,12,10,32,10,10,20,4,14,6,10,10,10,10,3,2,10,10,10,20,18,10,2,58,66,10,4,21,16,16,10,2,10,10,10,10,10,10,10,10,10,10,18,10,10,10,20,69,10,4,18,10,3,10,14,18,30,4,18,78,8,18,14,10,18,20,10,20,21,20,20,10,10,10,10,5,10,12,10,27,10,10,25,12,10,10,20,10,10,10,33,24,10,10,6,10,10,10,16,14,8,6,10,10,10,18,10,3,10,14,10,18,39,20,16,12,10,20,10,18,12,10,2,45,10,10,20,10,12,3,10,10,12,8,21,3,4,18,10,20,4,10,10,10,20,24,10,4,10,10,12,15,10,12,10,15,42,10,10,24,8,10,10,10,10,10,30,10,24,10,15,10,10,10,14,10,10,14,18,10,15,10,10,34,10,10,10,14,10,10,16,12,32,12,18,10,5,10,21,10,10,10,24,10,10,3,14,6,20,24,10,10,10,10,10,27,20,10,10,10,108,10,10,9,10,2,10,6,10,10,10,10,12,6,3,18,10,10,8,10,10,48,10,10,10,20,10,14,6,66,10,10,10,10,10,2,9,20,12,5,10,8,16,16,10,10,14,10,3,18,30,26,12,22,21,10,4,20,30,10,4,10,16,10,10,10,40,10,6,5,30,10,18,24,10,20,15,10,4,20,10,20,10,44,3,30,10,4,15,6,10,10,10,10,10,14,15,18,10,40,10,8,15,18,28,4,10,10,24,6,10,10,2,16,10,10,9,10,10,10,12,10,3,20,10,10,27,10,10,10,10,20,10,10,33,10,18,10,20,26,10,15,30,10,10,10,18,20,45,28,10,10,6,4,10,18,20,10,10,10,10,16,10,10,10,8,12,10,33,24,3,27,6,2,10,6,28,10,8,5,10,10,10,12,3,10,21,10,10,10,20,10,10,10,10,10,5,10,15,24,10,18,10,10,6,20,36,3,30,20,18,10,4,4,10,9,36,20,16,8,9,10,16,39,10,10,10,9,6,16,20,15,10,10,10,10,10,16,16,9,10,20,10,60,10,12,50,10,30,10,10,10,20,10,20,8,8,16,16,6,10,20,3,24,30,30,4,20,10,10,10,6,18,3,30,40,4,10,10,10,10,44,10,2,10,3,14,10,10,16,18,10,6,10,10,30,27,10,18,20,24,10,10,10,16,10,12,10,4,27,10,60,10,8,10,21,3,10,12,10,24,16,2,10,10,18,10,10,9,10,3,10,10,10,33,10,24,14,26,22,10,4,20,10,10,22,10,10,8,14,9,1,10,10,2,20,10,3,20,10,10,10,11,12,16,20,15,10,4,20,10,10,12,21,10,2,10,48,3,2,10,14,10,10,10,10,28,10,20,18,4,10,10,8,10,2,4,10,20,10,10,10,18,3,34,20,18,14,10,12,20,3,33,4,10,18,3,20,10,63,3,3,10,10,10,10,10,20,84,20,10,10,10,16,10,10,14,24,10,1,30,10,4,9,36,10,26,10,24,24,10,10,10,6,10,14,10,16,14,10,12,32,33,10,10,10,8,10,10,10,9,15,10,10,20,10,10,10,10,8,44,10,10,10,10,14,3,24,15,32,10,10,36,10,10,10,14,15,10,3,10,81,14,10,10,21,36,24,18,10,10,10,14,34,18,30,10,10,10,10,28,10,10,6,10,36,10,10,2,20,10,10,10,20,16,20,10,10,51,10,10,10,10,10,21,22,16,18,15,10,10,10,28,14,12,12,10,14,18,23,20,10,14,10,15,46,27,10,15,15,10,24,24,20,10,8,3,10,10,14,10,19,18,5,26,16,10,6,10,10,10,10,12,4,12,20,10,39,20,30,10,20,10,12,14,6,18,14,10,16,10,10,10,3,33,24,14,10,20,10,20,10,9,10,14,16,10,12,10,4,4,8,10,10,27,6,22,3,12,12,21,3,20,10,10,10,20,10,10,8,20,20,6,27,14,18,10,18,10,15,10,20,10,10,12,20,10,3,10,10,10,10,8,10,10,18,10,4,18,32,10,10,20,10,10,14,20,18,20,10,2,10,10,27,10,10,6,10,12,10,33,39,10,10,10,20,10,36,16,10,10,10,20,10,6,6,10,20,12,20,10,20,10,12,10,16,8,15,16,10,10,10,20,14,30,10,10,22,20,20,26,18,18,10,6,33,10,10,10,10,10,10,10,12,8,18,4,12,10,10,16,20,10,10,21,18,10,6,10,10,20,14,10,6,10,10,10,27,10,36,10,20,2,10,10,10,10,12,12,6,10,15,30,10,8,20,30,10,9,10,10,8,6,3,36,10,10,15,12,1,18,6,16,5,10,4,15,42,10,10,15,3,15,8,2,18,10,10,10,4,20,3,20,20,30,28,20,8,24,10,10,14,20,16,8,10,10,10,27,20,10,10,10,20,10,4,10,10,10,14,33,42,10,63,10,10,10,10,15,7,10,14,10,10,20,38,3,10,14,10,16,10,6,20,10,10,57,10,10,10,10,12,14,34,10,8,18,20,10,10,10,6,10,36,2,20,30,10,18,21,10,10,18,10,12,10,10,66,30,18,6,10,14,10,10,10,10,10,10,18,10,20,10,40,10,10,3,10,12,18,16,39,6,12,24,10,10,22,9,4,10,10,3,10,10,3,16,5,10,10,26,10,2,10,10,18,10,8,14,10,10,12,10,30,10,10,10,10,20,10,4,16,10,10,10,60,10,10,6,12,10,20,20,16,10,20,14,10,10,20,24,10,20,10,10,10,10,19,10,48,10,20,10,10,10,20,20,12,10,22,10,54,27,10,10,10,10,10,4,6,5,20,14,10,10,10,30,2,15,10,6,10,10,20,10,36,10,6,10,10,10,10,9,4,40,10,12,5,10,9,10,10,10,45,10,20,20,20,10,16,20,10,10,15,54,16,10,14,16,10,30,12,3,10,14,3,10,24,8,10,12,18,10,20,4,10,12,10,10,15,24,10,10,2,36,10,22,14,12,10,10,8,16,10,20,14,10,6,8,16,10,21,10,20,6,10,12,20,4,4,10,10,16,6,10,10,3,6,16,12,14,10,10,10,10,10,10,2,6,20,10,10,10,4,10,8,21,10,20,20,18,18,39,10,8,6,10,3,4,10,14,14,3,10,10,10,10,20,30,10,6,10,12,16,24,10,10,10,10,14,3,4,10,10,10,20,10,10,3,20,10,20,10,10,14,10,10,10,3,10,8,3,36,10,10,8,2,10,14,18,10,10,6,6,48,3,30,10,21,30,30,15,2,10,4,6,15,10,1,12,21,20,10,10,4,6,20,6,10,14,12,10,16,4,10,20,18,10,2,78,10,4,3,10,3,10,15,20,10,10,4,42,10,10,10,24,10,34,16,10,81,10,10,6,10,10,10,10,10,10,24,10,10,6,10,4,10,18,18,20,20,12,18,15,4,21,2,10,10,6,9,10,10,22,2,9,14,30,12,10,20,6,10,30,10,10,2,6,20,10,10,24,20,10,10,2,18,4,45,10,10,16,10,10,14,20,10,10,10,10,27,10,2,22,15,10,10,20,8,20,6,10,20,30,10,10,4,10,21,51,12,16,2,10,10,10,2,10,10,32,24,12,10,42,14,10,28,10,24,20,10,3,12,3,10,10,20,10,4,10,10,10,2,20,18,54,10,10,3,12,10,10,20,8,10,16,10,30,18,18,10,10,10,6,10,14,24,16,10,6,20,8,3,10,10,10,16,10,10,4,10,10,10,10,10,10,10,10,10,3,15,6,4,20,10,10,33,10,10,10,4,10,8,14,10,10,20,10,10,10,75,10,10,14,26,10,16,10,14,10,2,10,12,18,10,10,12,12,10,10,10,14,10,51,30,10,10,16,24,20,20,10,10,20,16,12,24,10,20,3,10,36,15,10,10,10,20,20,3,10,36,20,10,10,10,8,12,15,10,3,14,3,20,10,20,20,20,10,3,10,22,10,18,10,6,18,4,10,10,10,10,10,10,12,15,10,10,10,45,16,20,10,10,26,10,10,10,39,10,14,10,21,19,10,3,6,10,10,4,22,2,10,10,10,10,33,10,10,10,14,12,10,10,16,21,10,10,40,16,10,10,2,10,10,10,3,10,10,10,10,12,16,10,20,20,6,10,10,10,16,10,16,14,16,10,16,10,6,12,36,10,18,18,10,10,24,33,26,10,10,8,12,18,10,10,52,10,33,20,4,10,10,12,10,33,10,4,21,10,20,15,18,10,18,40,20,10,10,12,10,7,10,20,10,10,10,10,10,10,30,10,10,27,8,20,30,63,10,10,20,3,10,20,10,12,10,10,10,10,14,10,10,10,10,2,10,8,10,10,10,28,10,10,20,10,16,26,10,16,10,40,10,12,4,16,10,12,20,10,4,20,10,22,24,45,18,10,60,10,16,14,10,27,2,24,10,8,10,10,10,22,26,10,25,48,20,10,10,20,8,6,20,6,12,10,6,10,54,10,10,20,10,26,20,10,10,10,10,21,10,15,4,16,10,24,8,10,10,1,14,27,10,10,15,18,10,5,32,20,8,2,24,6,10,10,60,3,6,10,10,4,10,10,20,27,14,12,10,15,10,12,6,10,20,2,10,12,10,10,3,10,10,15,10,22,8,10,4,20,3,20,10,20,39,14,10,38,10,10,10,10,10,24,10,20,10,45,10,12,10,10,10,14,10,10,10,10,2,10,18,10,12,8,21,10,3,10,8,10,10,10,10,26,90,10,3,20,16,10,10,10,18,10,18,22,21,14,10,10,10,12,3,14,8,20,6,10,10,12,14,16,10,9,10,24,10,14,10,10,16,10,15,21,10,10,9,10,10,20,4,10,21,12,3,10,10,20,10,10,2,10,36,10,12,18,10,10,24,2,20,24,10,14,10,9,10,10,10,10,12,30,10,10,24,10,30,16,26,6,10,10,10,12,10,10,16,10,39,10,38,22,28,10,10,10,10,10,10,14,10,10,6,10,12,9,14,20,20,5,10,22,20,9,10,10,10,10,10,14,16,10,39,10,10,10,6,10,10,10,4,10,6,12,2,10,10,18,10,12,10,10,9,12,10,10,10,3,6,10,10,10,15,18,10,12,10,57,10,60,2,10,12,12,10,10,15,9,20,14,10,16,16,10,22,10,10,10,10,10,10,24,4,24,14,10,6,10,10,18,10,18,14,3,10,10,20,10,10,10,10,10,18,10,10,15,10,9,32,10,15,15,10,12,20,10,10,4,10,40,10,3,54,10,6,36,10,9,10,2,10,30,10,10,28,10,10,10,10,8,4,14,10,3,10,20,14,8,10,16,10,10,10,10,14,10,10,10,10,10,10,10,8,10,10,10,10,10,39,4,12,20,12,10,10,10,6,6,10,52,10,10,22,10,10,10,18,42,10,10,3,8,14,18,19,3,10,10,10,10,24,27,14,10,10,10,10,20,10,15,10,18,20,4,10,16,18,10,10,10,14,36,14,10,10,36,15,16,20,30,10,8,10,10,18,8,3,10,10,24,14,3,10,14,33,10,12,10,10,10,14,16,10,27,10,16,10,16,10,14,10,14,10,34,10,12,21,10,12,27,30,10,16,2,10,10,20,20,21,10,10,9,10,14,10,10,10,10,6,12,20,10,3,32,18,75,20,10,10,6,2,15,10,12,10,10,15,20,10,20,20,10,10,10,12,10,8,18,10,15,36,9,10,3,4,4,26,10,30,48,33,15,10,18,14,10,10,10,6,20,10,22,10,10,3,10,10,10,10,10,10,20,9,10,10,10,10,27,6,6,12,2,10,6,22,24,42,10,10,10,10,10,30,15,18,36,10,10,10,10,4,10,32,10,10,6,10,20,10,10,10,10,30,18,8,12,9,12,16,6,10,54,10,24,10,14,10,6,4,12,20,10,3,4,10,3,10,12,15,10,6,9,14,10,10,16,22,16,8,4,6,12,18,4,18,10,20,10,10,28,10,10,18,10,8,10,10,10,20,5,10,1,6,10,16,10,10,10,10,10,2,7,10,12,10,10,12,10,10,18,27],\"xaxis\":\"x\",\"yaxis\":\"y\",\"type\":\"histogram\"},{\"alignmentgroup\":\"True\",\"bingroup\":\"x\",\"hovertemplate\":\"Tackle=0\\u003cbr\\u003edownToGo=%{x}\\u003cbr\\u003ecount=%{y}\\u003cextra\\u003e\\u003c\\u002fextra\\u003e\",\"legendgroup\":\"0\",\"marker\":{\"color\":\"#EF553B\",\"pattern\":{\"shape\":\"\"}},\"name\":\"0\",\"offsetgroup\":\"0\",\"orientation\":\"v\",\"showlegend\":true,\"x\":[12,10,10,10,10,6,10,10,10,6,6,6,12,18,18,20,10,10,10,10,10,8,30,30,10,10,16,16,20,20,10,10,16,16,10,20,10,10,12,10,10,18,10,10,10,10,32,32,8,7,12,12,10,10,10,30,22,22,10,10,4,4,10,10,3,14,10,10,10,12,24,10,10,10,10,10,20,6,4,4,12,10,10,10,10,10,10,10,10,20,20,10,10,10,4,4,9,9,10,10,18,18,12,12,10,9,10,12,6,10,10,9,6,10,10,10,10,8,30,30,30,10,10,10,10,10,10,10,7,7,10,10,10,10,10,10,21,21,8,8,10,10,20,20,6,20,20,18,18,30,20,20,60,60,3,3,57,57,10,10,12,10,10,24,24,6,6,6,6,8,8,10,10,20,20,10,10,51,51,10,21,21,21,10,10,10,12,3,10,20,10,10,18,3,10,10,10,10,10,10,8,10,10,10,10,28,10,10,2,10,10,10,10,10,10,2,10,10,2,2,48,48,12,12,9,9,20,10,10,16,16,10,20,20,10,10,10,10,10,30,10,10,10,10,12,12,24,24,16,10,36,10,10,10,10,18,8,10,8,8,4,4,6,12,12,10,4,21,21,3,3,10,10,20,20,4,4,3,3,10,10,10,10,12,12,6,10,10,10,38,38,22,10,10,8,8,7,10,22,22,10,10,10,48,48,8,8,8,8,24,20,9,9,4,40,40,20,10,10,10,10,2,10,10,20,20,2,2,10,6,18,12,12,24,24,10,10,10,27,10,10,10,2,2,2,3,10,10,10,10,10,15,10,10,10,10,2,16,16,5,5,20,20,20,10,10,10,6,10,10,10,48,48,3,10,10,14,12,10,2,10,10,28,28,28,18,18,1,2,2,20,20,21,10,10,12,10,10,42,42,39,39,8,8,2,20,8,6,10,10,20,24,10,10,10,10,6,20,20,20,10,20,30,10,18,27,20,10,10,10,10,10,10,10,10,10,10,10,9,10,10,10,16,10,10,10,10,10,10,10,10,10,10,10,10,39,39,14,14,10,10,20,20,27,10,21,21,30,30,10,20,10,10,10,10,14,10,10,3,3,10,10,8,8,4,4,10,10,10,10,10,10,10,10,10,10,10,20,20,4,10,10,39,39,33,22,10,10,18,10,10,20,20,15,15,10,10,10,10,10,10,2,2,6,6,10,10,4,4,3,3,3,3,12,20,20,6,6,10,10,10,3,36,30,20,10,14,14,15,36,36,10,10,5,16,39,39,39,10,4,16,10,10,10,10,8,8,10,10,10,10,10,10,18,10,10,20,10,10,2,2,10,10,10,3,12,10,10,4,4,38,10,10,10,10,10,10,45,57,8,8,15,15,10,10,12,14,4,4,20,20,10,16,16,10,10,10,10,12,8,10,10,10,2,18,24,24,27,9,9,6,6,12,57,57,20,20,15,15,14,14,10,10,10,10,8,18,18,27,34,34,10,10,10,10,12,10,10,51,10,10,10,15,3,14,14,10,12,12,57,57,57,10,21,21,10,10,10,10,10,10,10,10,10,10,24,8,8,10,10,10,10,18,18,14,14,8,8,3,3,10,10,12,45,32,14,14,24,10,10,4,4,4,2,2,10,14,34,15,15,15,10,10,10,10,10,10,32,10,20,1,10,20,10,10,10,10,10,10,10,12,12,10,10,8,8,10,10,10,9,8,10,10,10,10,10,10,10,10,10,10,10,10,15,15,20,14,14,14,10,10,10,42,10,10,2,2,2,2,10,10,10,12,10,10,9,9,4,4,4,12,12,15,15,10,10,10,16,16,10,10,20,20,6,10,10,16,3,3,10,10,10,10,12,12,5,5,8,4,10,10,15,10,18,18,18,2,10,16,16,10,10,10,10,10,20,20,10,10,10,10,10,20,20,10,10,10,18,10,10,10,9,10,18,10,10,3,36,9,2,2,10,16,16,10,10,18,10,10,20,20,10,10,12,12,30,30,10,10,18,18,15,15,10,10,24,24,10,10,10,10,33,10,10,20,20,14,10,10,10,10,10,10,10,10,16,16,10,10,10,10,10,10,20,10,10,10,10,10,10,10,10,10,10,10,10,10,10,10,10,10,4,4,18,18,4,10,10,12,30,30,30,10,10,10,10,10,21,21,10,10,10,10,10,22,22,10,10,10,10,10,10,6,6,16,16,10,10,10,10,10,10,10,10,14,10,10,10,10,3,3,3,20,20,10,10,20,20,10,10,12,12,10,10,10,9,6,6,10,10,10,10,10,10,20,20,20,20,18,18,18,10,10,5,5,10,10,12,12,3,10,24,24,10,10,20,20,20,6,10,10,10,10,10,10,10,10,10,10,3,3,10,27,20,10,8,10,20,20,24,24,26,26,26,26,10,10,10,10,4,20,20,3,3,3,3,20,10,10,20,20,12,12,20,20,20,20,10,10,10,42,42,3,3,6,2,10,10,20,12,12,20,8,12,12,10,10,10,18,10,10,10,15,15,10,10,10,20,10,10,10,10,10,10,10,10,10,15,15,20,10,10,21,21,8,9,9,10,10,54,54,10,10,15,15,12,10,10,10,10,10,10,10,42,42,42,42,20,20,20,10,10,40,40,20,8,20,10,10,10,6,6,10,10,10,10,3,12,10,6,10,8,8,20,20,40,9,9,10,20,9,9,10,3,10,10,2,10,10,18,18,8,10,18,18,10,10,10,10,10,10,20,20,45,10,10,10,10,10,8,8,8,16,10,10,10,10,10,10,10,10,6,10,10,12,12,4,4,10,4,4,10,10,10,10,10,10,10,3,3,10,10,15,3,20,20,10,10,10,10,10,20,20,20,45,10,10,10,10,5,5,20,10,10,10,10,16,16,10,16,16,10,10,6,6,10,10,10,10,10,10,10,10,45,45,20,20,10,10,6,6,48,48,42,42,42,20,20,10,10,10,10,10,10,10,3,10,10,6,10,10,16,10,20,20,10,10,16,10,10,10,10,10,10,10,10,10,10,10,10,60,10,6,6,10,10,18,18,10,10,10,10,21,21,10,10,10,10,8,10,10,10,10,10,10,10,10,10,10,4,4,4,8,10,10,8,8,10,10,10,10,10,20,10,12,12,3,10,10,14,10,10,4,4,10,10,20,20,14,14,14,10,10,27,27,27,10,10,18,18,10,10,10,10,10,10,20,20,4,48,10,20,20,24,33,22,22,10,10,10,10,10,10,10,44,44,24,20,10,10,10,10,51,10,6,10,10,10,10,10,10,10,10,20,20,10,4,4,8,10,10,3,3,10,10,10,10,10,10,16,28,3,10,6,6,10,10,28,10,14,10,10,10,5,10,10,10,10,12,22,22,15,15,20,10,10,3,10,10,10,10,6,6,10,10,2,2,8,8,10,3,28,28,10,4,4,4,4,10,10,10,5,5,6,10,10,10,10,14,24,24,24,10,8,8,10,10,48,48,14,8,12,20,20,10,10,34,34,2,2,4,24,24,16,16,10,12,10,10,10,10,10,10,38,10,10,10,10,10,42,10,10,10,10,10,10,10,10,10,8,8,4,4,2,3,10,10,16,4,10,10,20,20,39,39,16,16,16,6,22,10,10,12,10,10,10,10,10,10,10,20,8,10,10,10,10,10,10,22,3,9,10,3,3,10,10,16,16,10,10,2,10,10,15,15,16,16,16,10,26,21,10,10,10,10,10,10,10,10,10,30,9,36,36,10,10,4,10,14,14,50,15,36,36,10,10,10,10,10,10,10,10,10,16,16,14,14,10,10,2,20,12,12,20,20,10,18,18,10,10,10,10,10,10,10,2,2,2,10,10,4,9,10,10,12,12,10,10,10,10,10,10,10,10,33,9,10,10,10,10,10,10,10,10,18,10,10,25,25,10,10,10,9,9,10,10,6,20,20,10,10,15,15,20,32,22,22,4,12,12,12,10,10,10,10,20,20,8,10,10,10,10,6,6,6,12,10,10,10,10,10,20,20,8,8,8,12,12,12,12,10,10,6,6,21,21,10,10,10,10,10,10,10,6,10,10,10,10,10,10,4,4,10,10,10,16,45,45,15,15,10,10,16,16,10,10,10,10,20,8,18,6,6,6,6,18,20,20,4,10,10,10,10,46,10,10,10,10,10,10,9,10,10,10,10,10,10,10,28,28,10,10,10,10,10,10,12,12,10,10,18,18,7,10,10,10,10,10,10,10,10,10,12,10,10,10,10,10,10,18,18,4,27,10,5,5,2,10,10,10,28,3,10,10,10,10,10,10,8,8,8,22,10,14,10,10,10,14,4,10,10,10,10,10,20,10,5,10,10,8,8,12,20,10,10,9,10,10,10,8,10,10,10,10,10,4,10,10,20,20,14,10,10,10,10,20,20,10,6,6,10,10,10,24,10,12,10,10,10,20,6,6,10,10,20,20,10,10,20,10,10,16,10,10,10,10,10,10,10,10,10,10,36,16,10,21,10,10,21,21,27,10,3,3,12,22,10,16,16,18,18,18,20,10,10,9,6,10,9,9,9,24,24,24,10,10,10,10,10,6,6,6,6,10,10,36,10,10,10,10,10,10,20,10,30,60,60,60,54,10,10,10,6,8,8,10,10,10,12,12,10,51,33,57,57,16,20,20,10,10,8,8,10,10,10,18,18,18,1,1,21,21,10,10,18,10,10,2,2,10,10,10,10,10,10,10,10,10,10,10,45,45,10,12,10,10,4,4,14,10,10,10,18,10,10,10,10,15,10,22,22,10,10,10,9,9,6,6,10,10,10,10,10,20,20,20,20,5,5,8,8,10,16,10,10,7,7,20,10,10,10,10,10,10,10,10,10,10,10,10,2,2,18,10,16,16,8,10,10,10,10,54,10,10,18,10,3,10,10,14,14,14,34,10,10,10,10,10,20,10,16,16,10,10,10,20,2,2,2,10,10,10,10,10,4,4,4,22,50,5,5,10,10,10,4,4,14,14,12,30,4,4,10,10,10,10,10,10,10,10,8,10,10,10,51,3,3,10,10,10,10,10,10,10,10,3,4,4,30,10,4,4,18,18,18,10,10,3,3,20,20,20,30,30,30,8,8,10,10,10,10,10,10,10,10,8,8,10,10,10,10,10,10,10,3,10,4,10,10,20,20,10,10,20,10,10,30,30,18,20,3,3,21,21,21,26,26,10,10,4,10,10,10,10,4,12,12,12,12,14,14,18,18,10,16,16,10,10,33,33,10,10,20,30,2,2,10,10,10,15,15,10,2,2,6,6,10,10,10,10,10,10,8,8,14,14,20,2,10,10,10,10,10,10,15,12,10,10,10,2,2,8,10,10,10,10,14,10,10,4,6,6,10,10,16,10,15,10,20,20,3,14,14,4,4,20,20,20,10,10,10,10,16,10,10,10,10,10,10,4,3,3,16,16,16,30,30,20,21,4,10,10,38,38,18,10,10,10,10,3,10,10,10,2,2,24,24,3,10,10,20,20,18,18,18,14,14,18,18,20,20,32,32,10,10,10,4,4,30,10,10,30,10,24,3,3,10,10,16,10,4,10,20,14,14,10,10,10,10,10,10,12,4,39,39,20,20,30,30,21,21,16,16,18,18,10,6,10,10,10,12,20,20,20,8,8,12,10,10,2,2,10,10,10,18,18,18,3,10,10,24,10,10,9,9,9,14,30,10,10,10,10,10,10,20,20,20,10,10,14,14,9,10,10,20,10,24,10,10,10,16,16,10,10,10,10,10,20,10,27,27,10,20,20,12,9,10,10,10,10,10,10,12,10,2,2,16,16,26,26,10,10,10,69,24,32,5,5,5,10,10,10,6,10,10,14,14,16,16,15,15,22,22,10,10,10,10,27,27,10,10,10,10,10,10,21,21,10,20,20,30,30,10,10,10,10,10,30,30,30,6,6,10,10,10,10,8,8,10,10,10,10,24,24,12,10,10,51,51,51,10,10,10,10,10,3,10,2,8,8,8,10,10,20,20,2,2,10,10,24,20,20,20,20,10,10,10,10,20,20,10,10,18,12,16,3,6,6,18,10,10,18,27,27,20,4,10,10,10,28,28,16,4,10,22,10,10,10,9,10,10,10,32,10,10,9,9,4,4,8,8,14,14,15,42,15,36,36,18,14,1,10,10,10,10,16,24,8,8,12,12,10,8,8,9,20,20,30,16,10,10,10,24,10,10,12,10,10,10,10,18,18,10,10,10,15,18,18,18,18,10,10,10,10,10,4,4,3,3,15,9,15,8,10,10,10,18,16,16,10,10,10,9,9,10,24,24,8,8,10,10,10,10,10,18,18,10,10,14,10,10,16,13,13,10,10,18,18,8,10,10,10,10,15,10,24,24,24,18,18,10,20,20,45,10,10,10,10,9,9,60,60,10,10,12,10,10,20,20,10,10,6,6,10,22,10,20,6,6,10,10,10,27,10,10,6,6,30,30,10,10,10,10,10,18,18,20,10,10,21,15,10,10,3,3,10,10,10,20,20,10,10,20,20,20,33,33,12,7,7,7,10,10,18,18,28,28,12,10,10,4,4,42,8,10,10,12,42,42,8,8,10,10,3,3,12,12,20,18,18,9,9,10,10,10,10,10,20,20,6,8,6,15,6,6,48,10,10,10,10,10,8,8,20,20,18,24,20,42,42,42,10,10,10,9,10,10,10,10,10,16,16,3,3,3,20,20,18,18,12,12,10,10,10,10,10,45,45,12,12,10,10,14,14,10,10,16,10,10,10,10,10,10,10,10,10,10,10,10,10,10,10,10,10,10,10,10,10,10,28,10,10,20,20,10,22,10,10,10,8,4,18,10,10,10,18,18,18,10,10,10,10,10,10,6,10,12,4,4,10,10,10,56,56,10,10,15,15,10,10,2,40,40,10,10,45,10,10,18,18,30,6,10,3,3,12,12,6,6,6,10,10,15,15,15,20,10,6,20,10,3,3,12,12,10,14,18,20,10,21,10,10,18,10,24,24,10,10,10,10,10,10,3,3,1,15,10,2,10,10,10,10,9,9,10,10,10,28,21,10,12,10,10,18,18,4,4,10,10,20,20,10,10,10,14,14,14,10,20,20,10,16,16,10,10,10,10,36,36,10,10,10,3,3,10,10,10,10,10,10,10,16,16,10,10,10,10,34,34,12,12,10,10,14,14,42,42,42,12,12,10,10,10,7,10,10,16,16,12,12,4,4,10,10,4,4,10,10,10,10,10,3,10,10,3,3,3,4,4,10,10,10,10,10,33,6,6,4,4,22,22,20,20,14,14,6,6,3,10,10,10,10,10,10,10,10,10,10,3,3,18,7,15,15,10,16,16,10,10,10,10,6,6,12,22,20,20,10,10,10,72,16,10,10,10,12,12,20,8,6,42,42,21,10,10,10,10,12,10,12,12,2,24,24,32,10,10,10,10,3,3,10,10,30,30,9,20,20,10,10,10,10,10,2,10,10,20,20,20,4,10,6,6,18,18,2,10,6,6,3,10,2,10,10,12,10,10,10,4,4,42,42,5,5,24,10,18,10,10,6,6,18,18,18,10,10,10,10,10,10,10,10,12,12,14,20,20,21,21,21,10,10,39,10,10,10,10,10,10,10,15,10,10,8,26,26,24,4,10,10,20,10,10,10,10,3,3,10,10,8,10,10,10,10,10,10,10,10,10,10,21,10,10,10,24,30,8,8,10,10,6,6,10,10,10,10,20,20,10,10,10,10,20,20,20,20,20,20,10,21,21,21,21,10,10,4,4,10,10,10,9,9,10,3,3,15,15,32,10,22,10,10,10,10,10,10,12,12,12,10,10,10,10,24,14,14,10,10,10,10,10,14,14,14,4,4,10,28,12,12,10,10,10,14,14,10,10,10,18,10,10,14,14,10,24,24,10,10,10,10,10,10,10,10,10,10,10,10,10,10,10,20,6,10,30,14,10,10,6,66,66,66,46,10,10,10,10,10,10,10,10,14,10,9,16,10,10,10,10,10,10,10,10,12,12,18,4,12,54,27,15,15,20,10,12,12,12,20,20,10,18,10,10,20,20,20,10,10,10,10,10,26,26,10,10,32,32,32,10,10,10,10,7,7,7,16,16,10,10,10,10,10,6,6,10,10,57,42,10,10,10,10,3,10,10,2,38,38,10,10,10,10,10,10,10,10,10,4,10,10,10,10,30,10,10,17,17,3,20,10,4,4,8,8,32,32,10,10,10,14,14,10,10,10,15,15,10,10,10,10,10,10,10,10,16,6,6,10,15,15,10,10,10,10,45,4,30,30,3,30,30,10,10,10,10,22,22,9,10,10,12,12,10,10,28,6,6,10,10,10,24,24,20,10,20,3,12,40,40,2,21,18,18,12,10,10,51,20,10,10,10,10,2,6,10,10,10,10,10,20,57,57,20,20,3,3,10,10,10,10,10,48,48,7,7,24,12,10,10,6,20,20,10,10,10,10,6,6,20,20,10,10,10,10,12,12,10,10,2,2,12,10,10,8,8,10,20,10,10,12,10,10,10,8,8,8,10,20,10,10,10,15,10,10,14,10,21,10,10,28,8,8,8,4,10,10,57,57,10,12,12,12,42,10,2,2,10,10,10,10,4,36,8,12,10,3,3,10,10,10,14,14,10,22,22,20,10,10,1,1,20,20,20,12,12,10,10,20,10,10,15,15,9,9,10,18,18,10,10,14,48,15,20,10,27,10,10,10,10,20,20,10,10,3,26,26,28,28,16,16,10,10,10,10,10,10,22,22,39,39,10,10,10,42,42,10,16,16,10,10,18,18,4,16,16,24,24,24,6,10,10,2,10,10,10,10,10,10,12,12,10,10,6,20,20,42,42,10,2,22,10,12,5,5,6,6,6,10,36,36,36,36,10,10,10,10,4,4,8,8,81,12,12,10,10,39,10,10,12,12,10,34,2,20,10,10,10,14,3,3,10,10,10,10,54,54,10,10,3,1,10,10,10,3,3,10,10,24,10,10,10,10,10,10,10,10,10,6,6,10,10,10,10,10,10,14,10,10,5,5,10,10,10,18,10,10,10,27,27,10,10,8,14,14,14,20,20,20,10,18,18,12,12,10,22,10,10,10,10,10,10,10,10,10,10,10,20,14,10,10,10,10,16,10,10,10,10,12,10,10,16,16,20,20,12,12,10,3,3,16,14,10,10,4,4,10,3,20,10,20,8,10,10,10,10,12,18,10,5,5,10,10,10,3,14,4,4,8,8,10,10,10,10,10,10,10,78,78,6,6,14,3,3,10,10,20,20,18,30,30,30,30,10,10,24,6,10,10,22,22,20,10,10,10,10,10,10,6,6,12,10,42,42,10,39,22,10,8,8,10,10,10,10,18,10,8,8,10,10,22,36,36,20,4,14,10,10,2,2,10,10,10,20,10,10,10,42,42,20,20,3,20,20,10,10,24,24,4,4,10,10,10,16,16,18,18,18,10,14,14,14,12,12,20,20,10,10,10,10,10,14,14,10,9,3,10,10,8,3,3,8,8,4,4,10,10,15,15,10,10,16,16,12,12,12,10,30,30,10,10,8,27,4,4,7,36,12,12,20,20,10,10,2,2,20,20,4,10,10,10,10,6,6,6,6,9,20,6,18,20,20,10,10,10,10,10,16,10,10,10,4,10,10,18,18,10,16,16,14,10,10,10,10,10,10,10,10,16,16,20,20,10,10,10,10,8,10,10,16,9,9,4,4,4,4,10,10,36,10,10,16,16,6,6,3,3,4,10,8,10,9,10,10,10,10,28,20,20,18,18,10,10,3,3,9,20,20,10,10,10,4,4,20,3,3,10,10,8,20,10,10,1,1,10,10,10,10,10,10,15,40,24,10,10,10,10,10,10,10,10,28,14,10,10,10,10,10,22,10,10,10,14,14,20,20,10,10,10,6,8,8,4,4,32,32,10,10,45,45,8,3,3,10,10,6,6,10,10,10,33,10,10,8,8,8,48,2,2,10,10,10,10,8,10,30,10,10,10,10,10,10,10,18,18,18,30,16,10,10,10,10,10,10,10,26,16,20,20,21,21,33,33,10,10,10,30,6,6,10,10,10,10,10,10,9,9,9,10,10,6,16,16,12,4,10,10,12,10,4,16,16,10,10,10,4,4,20,10,21,12,12,14,14,14,12,12,18,18,18,10,10,10,6,10,10,20,18,10,10,10,10,10,10,10,10,10,2,10,10,10,8,2,2,2,10,10,10,10,10,10,10,10,21,16,2,2,16,10,10,10,7,10,10,63,12,12,33,6,10,10,10,10,12,12,12,3,3,20,20,20,27,10,10,12,10,8,8,10,10,14,14,10,10,10,36,36,10,10,10,14,10,10,10,10,10,10,10,10,4,4,10,27,10,10,10,48,10,10,3,10,10,10,10,10,10,30,30,30,10,20,20,4,10,10,10,10,10,10,10,4,4,20,10,10,10,10,10,10,14,14,14,14,6,6,6,6,10,10,10,10,3,3,4,4,9,20,38,38,10,20,10,18,8,10,10,10,10,10,4,4,4,10,10,10,10,10,10,10,50,50,30,10,10,10,10,12,10,10,10,10,10,10,10,10,10,12,12,10,10,10,33,10,27,10,10,16,15,15,10,10,10,10,4,66,66,10,10,30,30,16,10,6,6,6,36,36,10,10,10,10,10,16,16,10,10,40,40,10,10,12,12,12,4,6,6,6,6,10,10,4,20,10,24,24,10,10,10,10,10,10,10,10,10,10,4,4,10,20,20,14,14,14,14,10,10,10,10,10,10,10,10,6,10,1,42,42,3,3,20,20,20,20,2,2,4,4,10,10,3,20,10,10,10,10,30,10,10,4,4,20,3,10,10,10,10,6,6,8,21,21,21,36,9,9,10,10,10,10,16,16,10,10,10,10,10,10,10,8,8,6,6,10,18,18,12,2,2,20,20,10,10,10,10,24,24,10,10,10,12,12,20,20,2,10,10,10,10,10,10,10,6,6,14,14,9,20,20,2,2,10,10,10,10,10,16,20,20,12,12,12,8,8,5,5,5,10,18,18,18,18,14,14,10,10,10,10,16,10,10,16,16,6,6,10,10,10,10,4,10,10,16,10,10,10,10,16,10,10,12,12,10,10,1,10,10,15,15,15,15,8,8,10,10,10,10,4,10,10,10,2,2,2,10,10,20,20,18,21,21,21,14,14,10,32,32,20,10,10,10,30,30,30,10,10,10,10,10,18,6,10,10,10,2,2,10,20,20,4,4,28,14,14,10,10,8,8,10,10,10,10,10,10,6,6,6,14,14,30,30,10,10,10,10,6,10,10,6,6,10,10,4,10,10,42,10,10,10,10,10,10,22,10,10,12,12,3,10,10,10,10,10,10,10,4,4,3,3,10,45,10,12,12,10,10,10,10,10,30,10,20,12,12,6,10,10,10,10,10,10,10,10,10,10,10,10,28,12,12,12,10,10,10,10,18,18,18,20,20,12,14,20,27,27,10,10,10,10,10,10,20,20,10,20,20,10,10,8,8,10,18,10,21,9,9,10,10,16,27,12,12,10,20,10,10,10,10,20,14,10,10,4,4,4,18,54,75,10,10,10,10,10,10,6,6,21,21,16,10,10,6,6,22,33,33,8,8,20,16,16,18,15,38,20,16,16,4,10,10,10,10,10,20,16,10,20,27,27,6,6,10,20,20,15,10,45,45,10,10,10,10,20,36,10,16,2,2,18,18,14,14,10,4,10,20,20,20,20,14,14,14,8,8,10,10,16,20,20,20,20,6,10,10,10,10,10,10,57,6,10,10,10,4,4,10,10,10,6,12,12,10,27,27,10,10,20,20,2,2,6,6,10,9,10,21,10,10,22,22,6,10,8,8,9,9,10,4,3,10,10,10,10,10,10,10,10,10,10,10,10,14,14,12,10,10,10,10,10,10,10,10,10,10,10,2,2,10,10,10,10,10,4,4,2,2,10,10,10,10,10,10,10,18,10,6,6,20,20,10,10,10,2,2,2,4,4,24,10,10,10,30,12,14,14,10,10,10,10,3,3,10,46,46,10,10,10,10,10,10,18,10,10,6,10,45,45,10,33,12,14,14,10,10,10,10,6,21,21,10,6,6,10,10,10,10,34,34,2,10,10,10,57,57,10,10,10,10,10,66,66,36,36,10,10,20,18,8,8,20,20,10,10,34,34,12,12,33,10,10,4,4,10,20,15,15,10,10,10,10,10,10,10,10,10,10,10,10,10,20,10,10,10,10,10,10,10,10,6,20,15,10,10,10,10,10,10,10,6,6,10,10,10,10,3,10,10,10,10,6,10,10,10,16,16,20,20,10,10,10,20,6,10,10,10,10,10,4,4,10,9,9,9,9,9,9,9,10,10,10,10,10,6,16,16,10,10,10,10,10,10,12,12,10,10,10,10,10,10,10,10,10,10,14,10,10,15,15,10,10,10,10,15,10,10,10,10,10,10,10,45,45,30,30,30,30,4,4,24,24,24,10,10,10,16,16,10,10,2,2,20,10,10,16,16,54,18,32,10,10,63,63,19,10,10,20,22,10,10,10,12,15,20,20,20,10,10,10,10,24,22,6,10,10,10,10,10,10,24,6,10,14,10,14,10,10,45,10,30,30,30,12,20,20,10,10,18,10,10,10,16,10,10,10,4,14,14,20,20,8,3,3,15,10,10,10,10,10,10,10,10,12,10,12,12,10,10,10,10,3,2,10,10,10,20,10,2,2,3,3,2,58,58,10,66,16,14,14,10,10,10,10,10,10,10,10,10,18,10,10,10,20,10,10,21,20,10,10,10,10,10,10,2,2,9,9,10,10,10,27,10,10,12,10,10,4,4,40,40,24,24,18,18,3,3,16,16,33,33,24,10,10,10,6,6,3,3,10,10,10,10,10,10,10,10,20,20,14,14,4,10,10,10,20,10,4,10,10,10,8,8,10,18,18,20,20,3,3,20,20,20,10,10,10,10,15,10,10,10,16,16,2,2,5,10,10,10,14,14,3,3,10,27,10,10,10,10,10,8,8,108,10,10,10,10,2,10,10,10,10,6,6,10,10,10,10,10,3,3,8,10,10,6,66,10,10,10,10,10,15,15,15,20,12,5,10,10,10,10,12,12,4,10,10,2,40,5,5,10,10,10,10,10,20,20,24,24,15,10,10,10,10,10,4,4,20,10,10,10,10,44,10,10,10,14,14,10,8,6,6,10,6,10,10,2,10,10,10,20,20,2,2,10,10,15,10,10,10,10,10,10,10,10,20,10,4,10,10,10,10,10,10,10,10,16,10,10,10,10,10,10,10,10,33,24,4,4,3,30,30,10,10,10,10,20,20,10,5,24,10,10,36,3,4,16,10,10,10,10,40,40,39,10,10,6,6,6,15,10,10,18,18,10,10,10,10,10,18,18,10,4,4,10,30,30,30,30,30,30,10,20,10,30,30,10,10,16,10,10,10,10,10,10,10,10,10,10,10,10,10,10,10,10,10,10,44,3,3,10,10,10,10,18,24,24,24,10,10,10,10,10,10,10,10,10,10,10,12,4,4,4,10,10,4,4,27,10,20,20,20,20,6,6,10,10,10,10,10,10,10,10,16,16,10,10,10,10,10,10,10,10,10,20,20,3,3,10,8,8,8,10,10,10,10,10,22,10,10,32,32,4,4,10,10,10,10,10,10,10,10,4,4,12,12,4,20,20,20,2,10,10,10,48,3,2,14,10,10,10,10,10,10,28,20,18,4,18,18,10,10,10,10,10,10,2,10,20,1,1,10,10,10,10,2,4,18,20,20,20,10,20,20,6,6,10,10,10,84,1,18,18,10,10,10,10,10,10,26,10,10,10,10,10,10,10,10,10,10,10,10,10,12,12,10,10,10,10,10,10,10,10,10,10,10,20,20,15,15,15,10,10,10,10,10,10,10,15,10,10,10,10,10,10,12,12,10,3,3,3,3,4,4,19,19,10,10,10,36,36,10,10,10,10,2,2,20,20,16,10,10,10,10,10,10,10,10,10,10,2,2,10,10,10,9,9,23,20,10,10,10,10,3,3,12,12,6,6,14,14,14,10,10,10,10,10,10,10,10,10,5,16,6,10,12,12,10,10,10,10,12,12,18,18,12,12,20,20,10,10,20,20,20,10,10,10,10,10,10,20,20,10,10,10,4,4,15,15,32,32,20,10,10,10,7,7,7,16,10,10,10,10,10,10,24,10,10,10,10,10,10,10,10,9,18,18,3,3,10,12,10,10,20,14,20,20,28,28,10,10,18,10,3,3,3,3,20,20,10,10,3,8,10,18,14,14,10,10,20,10,10,10,10,10,10,12,12,12,12,10,10,6,6,10,10,10,20,10,10,20,36,36,10,6,6,6,6,6,10,10,20,20,10,10,10,10,10,10,10,10,22,10,10,9,9,20,33,10,10,12,12,8,8,18,10,10,3,3,12,10,6,10,10,10,20,20,9,10,10,10,8,8,8,6,10,10,10,10,5,5,10,10,15,15,6,10,10,10,10,10,10,10,10,10,10,18,18,8,8,10,10,10,4,4,10,10,3,10,10,10,20,20,10,10,15,15,8,2,10,10,8,8,10,10,20,30,28,28,10,10,10,10,15,15,6,6,10,12,12,4,4,10,10,20,38,3,3,14,10,10,10,16,18,18,18,10,10,10,10,10,57,10,10,10,10,10,10,10,12,8,8,20,3,3,10,10,10,10,10,63,63,10,6,10,30,10,10,10,10,15,15,10,18,6,10,10,10,10,10,10,10,3,10,10,10,16,5,10,10,2,10,10,18,10,10,16,16,10,10,3,3,10,10,10,60,60,8,10,20,20,19,48,10,6,3,3,20,10,18,18,6,2,2,10,10,10,10,10,10,10,10,5,10,10,10,10,10,10,10,10,10,20,20,20,20,10,10,54,16,42,42,10,10,14,3,24,10,10,10,15,34,34,36,14,14,18,18,6,6,10,10,10,10,12,3,3,10,10,16,16,16,10,10,16,16,16,16,10,3,12,12,12,14,27,27,10,4,4,3,3,9,20,20,20,20,10,10,1,1,3,3,16,16,39,39,10,10,10,6,10,10,10,10,10,10,10,10,10,10,10,10,10,10,10,10,4,4,9,9,51,51,3,12,12,20,20,20,10,14,10,6,10,10,10,10,10,10,10,10,1,20,10,4,8,8,10,10,10,10,10,10,10,63,63,63,3,3,3,39,39,10,5,5,10,10,10,10,10,34,34,34,34,2,2,10,10,10,24,18,10,10,20,21,2,10,10,10,6,16,16,10,2,9,9,9,6,10,10,10,10,10,10,10,10,10,12,10,10,10,10,10,28,28,28,10,10,15,15,10,10,10,16,16,60,60,10,10,8,8,10,10,10,14,14,10,10,20,20,20,20,20,10,10,10,4,4,10,10,51,16,2,2,27,15,15,20,20,24,42,42,10,10,10,16,16,10,10,20,20,10,10,15,4,10,10,2,10,10,18,18,10,10,10,10,6,10,10,24,10,6,6,20,8,10,10,10,10,10,10,10,10,3,20,10,33,10,10,10,4,8,14,3,3,12,12,10,10,10,75,10,10,10,10,10,14,10,20,20,20,10,10,10,10,10,36,10,10,10,10,3,24,24,20,10,10,10,10,3,20,20,20,3,22,10,10,10,9,9,9,10,18,8,8,18,10,10,10,10,10,30,30,10,10,10,14,8,8,10,10,12,10,10,2,2,10,10,10,10,12,20,6,10,10,20,20,16,6,18,10,10,10,10,10,10,24,24,33,33,33,33,10,10,10,33,33,21,10,30,30,10,10,27,8,8,63,10,10,10,20,3,10,10,10,10,20,10,10,14,10,2,54,54,10,10,10,10,10,10,14,14,14,10,10,10,10,10,10,10,10,10,10,10,10,10,10,10,12,12,10,12,10,22,10,10,10,10,10,10,20,20,20,20,2,2,2,10,10,10,25,9,9,26,26,8,10,10,6,20,20,10,10,10,10,10,10,10,10,10,10,10,4,4,26,18,18,10,10,10,24,10,10,5,5,5,10,7,10,10,12,20,20,10,10,10,2,2,12,10,10,10,10,3,20,20,22,10,10,10,10,10,10,8,6,6,6,6,6,10,39,10,10,10,10,10,10,10,10,10,8,10,10,20,20,3,3,3,10,10,10,10,20,20,20,20,16,22,14,10,10,24,24,10,10,10,10,10,10,4,4,8,8,10,9,9,15,15,10,10,8,8,10,10,9,10,10,10,10,30,10,10,6,10,10,10,10,10,12,12,28,10,10,10,10,10,10,10,10,10,10,10,10,20,20,6,20,10,10,10,10,4,10,10,10,12,10,10,10,10,10,3,6,6,10,10,10,10,10,10,10,10,10,10,57,10,10,10,10,10,10,10,22,10,10,10,10,10,6,10,10,14,3,3,3,20,20,10,10,10,10,18,15,10,40,3,54,10,6,10,10,10,10,36,36,36,10,10,21,21,14,14,3,3,10,9,10,10,10,69,69,69,28,10,10,10,14,10,10,20,14,10,16,10,10,10,10,10,10,10,10,10,10,10,10,10,10,10,10,10,16,16,10,10,39,4,20,6,10,10,6,10,42,42,10,10,54,54,10,10,10,10,10,20,10,16,18,10,10,8,20,20,24,24,10,10,10,10,3,33,12,10,10,10,2,2,27,16,10,10,10,8,8,22,22,12,12,10,10,10,16,16,10,10,10,10,10,16,16,3,20,20,10,24,24,8,8,10,10,10,15,10,10,36,12,12,4,6,6,10,8,8,10,10,10,30,30,24,24,10,10,9,9,34,34,6,10,6,6,42,10,10,10,10,10,16,16,16,16,30,36,10,16,16,10,78,78,10,10,4,10,10,10,10,10,10,10,6,10,10,8,12,16,16,10,14,10,20,4,10,12,12,10,10,16,22,16,8,4,6,18,10,10,20,10,10,12,12,10,6,6,10,8,8,10,20,5,10,10,16,10,10],\"xaxis\":\"x\",\"yaxis\":\"y\",\"type\":\"histogram\"}],                        {\"template\":{\"data\":{\"histogram2dcontour\":[{\"type\":\"histogram2dcontour\",\"colorbar\":{\"outlinewidth\":0,\"ticks\":\"\"},\"colorscale\":[[0.0,\"#0d0887\"],[0.1111111111111111,\"#46039f\"],[0.2222222222222222,\"#7201a8\"],[0.3333333333333333,\"#9c179e\"],[0.4444444444444444,\"#bd3786\"],[0.5555555555555556,\"#d8576b\"],[0.6666666666666666,\"#ed7953\"],[0.7777777777777778,\"#fb9f3a\"],[0.8888888888888888,\"#fdca26\"],[1.0,\"#f0f921\"]]}],\"choropleth\":[{\"type\":\"choropleth\",\"colorbar\":{\"outlinewidth\":0,\"ticks\":\"\"}}],\"histogram2d\":[{\"type\":\"histogram2d\",\"colorbar\":{\"outlinewidth\":0,\"ticks\":\"\"},\"colorscale\":[[0.0,\"#0d0887\"],[0.1111111111111111,\"#46039f\"],[0.2222222222222222,\"#7201a8\"],[0.3333333333333333,\"#9c179e\"],[0.4444444444444444,\"#bd3786\"],[0.5555555555555556,\"#d8576b\"],[0.6666666666666666,\"#ed7953\"],[0.7777777777777778,\"#fb9f3a\"],[0.8888888888888888,\"#fdca26\"],[1.0,\"#f0f921\"]]}],\"heatmap\":[{\"type\":\"heatmap\",\"colorbar\":{\"outlinewidth\":0,\"ticks\":\"\"},\"colorscale\":[[0.0,\"#0d0887\"],[0.1111111111111111,\"#46039f\"],[0.2222222222222222,\"#7201a8\"],[0.3333333333333333,\"#9c179e\"],[0.4444444444444444,\"#bd3786\"],[0.5555555555555556,\"#d8576b\"],[0.6666666666666666,\"#ed7953\"],[0.7777777777777778,\"#fb9f3a\"],[0.8888888888888888,\"#fdca26\"],[1.0,\"#f0f921\"]]}],\"heatmapgl\":[{\"type\":\"heatmapgl\",\"colorbar\":{\"outlinewidth\":0,\"ticks\":\"\"},\"colorscale\":[[0.0,\"#0d0887\"],[0.1111111111111111,\"#46039f\"],[0.2222222222222222,\"#7201a8\"],[0.3333333333333333,\"#9c179e\"],[0.4444444444444444,\"#bd3786\"],[0.5555555555555556,\"#d8576b\"],[0.6666666666666666,\"#ed7953\"],[0.7777777777777778,\"#fb9f3a\"],[0.8888888888888888,\"#fdca26\"],[1.0,\"#f0f921\"]]}],\"contourcarpet\":[{\"type\":\"contourcarpet\",\"colorbar\":{\"outlinewidth\":0,\"ticks\":\"\"}}],\"contour\":[{\"type\":\"contour\",\"colorbar\":{\"outlinewidth\":0,\"ticks\":\"\"},\"colorscale\":[[0.0,\"#0d0887\"],[0.1111111111111111,\"#46039f\"],[0.2222222222222222,\"#7201a8\"],[0.3333333333333333,\"#9c179e\"],[0.4444444444444444,\"#bd3786\"],[0.5555555555555556,\"#d8576b\"],[0.6666666666666666,\"#ed7953\"],[0.7777777777777778,\"#fb9f3a\"],[0.8888888888888888,\"#fdca26\"],[1.0,\"#f0f921\"]]}],\"surface\":[{\"type\":\"surface\",\"colorbar\":{\"outlinewidth\":0,\"ticks\":\"\"},\"colorscale\":[[0.0,\"#0d0887\"],[0.1111111111111111,\"#46039f\"],[0.2222222222222222,\"#7201a8\"],[0.3333333333333333,\"#9c179e\"],[0.4444444444444444,\"#bd3786\"],[0.5555555555555556,\"#d8576b\"],[0.6666666666666666,\"#ed7953\"],[0.7777777777777778,\"#fb9f3a\"],[0.8888888888888888,\"#fdca26\"],[1.0,\"#f0f921\"]]}],\"mesh3d\":[{\"type\":\"mesh3d\",\"colorbar\":{\"outlinewidth\":0,\"ticks\":\"\"}}],\"scatter\":[{\"fillpattern\":{\"fillmode\":\"overlay\",\"size\":10,\"solidity\":0.2},\"type\":\"scatter\"}],\"parcoords\":[{\"type\":\"parcoords\",\"line\":{\"colorbar\":{\"outlinewidth\":0,\"ticks\":\"\"}}}],\"scatterpolargl\":[{\"type\":\"scatterpolargl\",\"marker\":{\"colorbar\":{\"outlinewidth\":0,\"ticks\":\"\"}}}],\"bar\":[{\"error_x\":{\"color\":\"#2a3f5f\"},\"error_y\":{\"color\":\"#2a3f5f\"},\"marker\":{\"line\":{\"color\":\"#E5ECF6\",\"width\":0.5},\"pattern\":{\"fillmode\":\"overlay\",\"size\":10,\"solidity\":0.2}},\"type\":\"bar\"}],\"scattergeo\":[{\"type\":\"scattergeo\",\"marker\":{\"colorbar\":{\"outlinewidth\":0,\"ticks\":\"\"}}}],\"scatterpolar\":[{\"type\":\"scatterpolar\",\"marker\":{\"colorbar\":{\"outlinewidth\":0,\"ticks\":\"\"}}}],\"histogram\":[{\"marker\":{\"pattern\":{\"fillmode\":\"overlay\",\"size\":10,\"solidity\":0.2}},\"type\":\"histogram\"}],\"scattergl\":[{\"type\":\"scattergl\",\"marker\":{\"colorbar\":{\"outlinewidth\":0,\"ticks\":\"\"}}}],\"scatter3d\":[{\"type\":\"scatter3d\",\"line\":{\"colorbar\":{\"outlinewidth\":0,\"ticks\":\"\"}},\"marker\":{\"colorbar\":{\"outlinewidth\":0,\"ticks\":\"\"}}}],\"scattermapbox\":[{\"type\":\"scattermapbox\",\"marker\":{\"colorbar\":{\"outlinewidth\":0,\"ticks\":\"\"}}}],\"scatterternary\":[{\"type\":\"scatterternary\",\"marker\":{\"colorbar\":{\"outlinewidth\":0,\"ticks\":\"\"}}}],\"scattercarpet\":[{\"type\":\"scattercarpet\",\"marker\":{\"colorbar\":{\"outlinewidth\":0,\"ticks\":\"\"}}}],\"carpet\":[{\"aaxis\":{\"endlinecolor\":\"#2a3f5f\",\"gridcolor\":\"white\",\"linecolor\":\"white\",\"minorgridcolor\":\"white\",\"startlinecolor\":\"#2a3f5f\"},\"baxis\":{\"endlinecolor\":\"#2a3f5f\",\"gridcolor\":\"white\",\"linecolor\":\"white\",\"minorgridcolor\":\"white\",\"startlinecolor\":\"#2a3f5f\"},\"type\":\"carpet\"}],\"table\":[{\"cells\":{\"fill\":{\"color\":\"#EBF0F8\"},\"line\":{\"color\":\"white\"}},\"header\":{\"fill\":{\"color\":\"#C8D4E3\"},\"line\":{\"color\":\"white\"}},\"type\":\"table\"}],\"barpolar\":[{\"marker\":{\"line\":{\"color\":\"#E5ECF6\",\"width\":0.5},\"pattern\":{\"fillmode\":\"overlay\",\"size\":10,\"solidity\":0.2}},\"type\":\"barpolar\"}],\"pie\":[{\"automargin\":true,\"type\":\"pie\"}]},\"layout\":{\"autotypenumbers\":\"strict\",\"colorway\":[\"#636efa\",\"#EF553B\",\"#00cc96\",\"#ab63fa\",\"#FFA15A\",\"#19d3f3\",\"#FF6692\",\"#B6E880\",\"#FF97FF\",\"#FECB52\"],\"font\":{\"color\":\"#2a3f5f\"},\"hovermode\":\"closest\",\"hoverlabel\":{\"align\":\"left\"},\"paper_bgcolor\":\"white\",\"plot_bgcolor\":\"#E5ECF6\",\"polar\":{\"bgcolor\":\"#E5ECF6\",\"angularaxis\":{\"gridcolor\":\"white\",\"linecolor\":\"white\",\"ticks\":\"\"},\"radialaxis\":{\"gridcolor\":\"white\",\"linecolor\":\"white\",\"ticks\":\"\"}},\"ternary\":{\"bgcolor\":\"#E5ECF6\",\"aaxis\":{\"gridcolor\":\"white\",\"linecolor\":\"white\",\"ticks\":\"\"},\"baxis\":{\"gridcolor\":\"white\",\"linecolor\":\"white\",\"ticks\":\"\"},\"caxis\":{\"gridcolor\":\"white\",\"linecolor\":\"white\",\"ticks\":\"\"}},\"coloraxis\":{\"colorbar\":{\"outlinewidth\":0,\"ticks\":\"\"}},\"colorscale\":{\"sequential\":[[0.0,\"#0d0887\"],[0.1111111111111111,\"#46039f\"],[0.2222222222222222,\"#7201a8\"],[0.3333333333333333,\"#9c179e\"],[0.4444444444444444,\"#bd3786\"],[0.5555555555555556,\"#d8576b\"],[0.6666666666666666,\"#ed7953\"],[0.7777777777777778,\"#fb9f3a\"],[0.8888888888888888,\"#fdca26\"],[1.0,\"#f0f921\"]],\"sequentialminus\":[[0.0,\"#0d0887\"],[0.1111111111111111,\"#46039f\"],[0.2222222222222222,\"#7201a8\"],[0.3333333333333333,\"#9c179e\"],[0.4444444444444444,\"#bd3786\"],[0.5555555555555556,\"#d8576b\"],[0.6666666666666666,\"#ed7953\"],[0.7777777777777778,\"#fb9f3a\"],[0.8888888888888888,\"#fdca26\"],[1.0,\"#f0f921\"]],\"diverging\":[[0,\"#8e0152\"],[0.1,\"#c51b7d\"],[0.2,\"#de77ae\"],[0.3,\"#f1b6da\"],[0.4,\"#fde0ef\"],[0.5,\"#f7f7f7\"],[0.6,\"#e6f5d0\"],[0.7,\"#b8e186\"],[0.8,\"#7fbc41\"],[0.9,\"#4d9221\"],[1,\"#276419\"]]},\"xaxis\":{\"gridcolor\":\"white\",\"linecolor\":\"white\",\"ticks\":\"\",\"title\":{\"standoff\":15},\"zerolinecolor\":\"white\",\"automargin\":true,\"zerolinewidth\":2},\"yaxis\":{\"gridcolor\":\"white\",\"linecolor\":\"white\",\"ticks\":\"\",\"title\":{\"standoff\":15},\"zerolinecolor\":\"white\",\"automargin\":true,\"zerolinewidth\":2},\"scene\":{\"xaxis\":{\"backgroundcolor\":\"#E5ECF6\",\"gridcolor\":\"white\",\"linecolor\":\"white\",\"showbackground\":true,\"ticks\":\"\",\"zerolinecolor\":\"white\",\"gridwidth\":2},\"yaxis\":{\"backgroundcolor\":\"#E5ECF6\",\"gridcolor\":\"white\",\"linecolor\":\"white\",\"showbackground\":true,\"ticks\":\"\",\"zerolinecolor\":\"white\",\"gridwidth\":2},\"zaxis\":{\"backgroundcolor\":\"#E5ECF6\",\"gridcolor\":\"white\",\"linecolor\":\"white\",\"showbackground\":true,\"ticks\":\"\",\"zerolinecolor\":\"white\",\"gridwidth\":2}},\"shapedefaults\":{\"line\":{\"color\":\"#2a3f5f\"}},\"annotationdefaults\":{\"arrowcolor\":\"#2a3f5f\",\"arrowhead\":0,\"arrowwidth\":1},\"geo\":{\"bgcolor\":\"white\",\"landcolor\":\"#E5ECF6\",\"subunitcolor\":\"white\",\"showland\":true,\"showlakes\":true,\"lakecolor\":\"white\"},\"title\":{\"x\":0.05},\"mapbox\":{\"style\":\"light\"}}},\"xaxis\":{\"anchor\":\"y\",\"domain\":[0.0,1.0],\"title\":{\"text\":\"Down to Go\"}},\"yaxis\":{\"anchor\":\"x\",\"domain\":[0.0,1.0],\"title\":{\"text\":\"Count\"}},\"legend\":{\"title\":{\"text\":\"Tackle\"},\"tracegroupgap\":0},\"title\":{\"text\":\"Bar Plot: Yards to Go (Down) vs Tackle\"},\"barmode\":\"relative\"},                        {\"responsive\": true}                    ).then(function(){\n",
       "                            \n",
       "var gd = document.getElementById('7cce360f-fedd-456b-afca-b2190b9cfb04');\n",
       "var x = new MutationObserver(function (mutations, observer) {{\n",
       "        var display = window.getComputedStyle(gd).display;\n",
       "        if (!display || display === 'none') {{\n",
       "            console.log([gd, 'removed!']);\n",
       "            Plotly.purge(gd);\n",
       "            observer.disconnect();\n",
       "        }}\n",
       "}});\n",
       "\n",
       "// Listen for the removal of the full notebook cells\n",
       "var notebookContainer = gd.closest('#notebook-container');\n",
       "if (notebookContainer) {{\n",
       "    x.observe(notebookContainer, {childList: true});\n",
       "}}\n",
       "\n",
       "// Listen for the clearing of the current output cell\n",
       "var outputEl = gd.closest('.output');\n",
       "if (outputEl) {{\n",
       "    x.observe(outputEl, {childList: true});\n",
       "}}\n",
       "\n",
       "                        })                };                });            </script>        </div>"
      ]
     },
     "metadata": {},
     "output_type": "display_data"
    }
   ],
   "source": [
    "df['downToGo'] = df['yardsToGo']*df['down']\n",
    "figdown = px.histogram(df, x='downToGo', color='tackle', labels={'passLength': 'Pass Length', 'tackle': 'Tackle'},\n",
    "                             title='Bar Plot: Yards to Go (Down) vs Tackle')\n",
    "figdown.update_layout(xaxis=dict(title='Down to Go'), yaxis=dict(title='Count'))"
   ]
  },
  {
   "cell_type": "markdown",
   "id": "57ddd4ac",
   "metadata": {
    "papermill": {
     "duration": 0.02583,
     "end_time": "2024-01-04T08:56:22.760819",
     "exception": false,
     "start_time": "2024-01-04T08:56:22.734989",
     "status": "completed"
    },
    "tags": []
   },
   "source": [
    "### Let's create a feature dataset for predicting our tackle success. From the correlation matrix, we have inferred that only a few columns directly correlate to the tackle success rate."
   ]
  },
  {
   "cell_type": "markdown",
   "id": "485faa15",
   "metadata": {
    "papermill": {
     "duration": 0.024289,
     "end_time": "2024-01-04T08:56:22.809250",
     "exception": false,
     "start_time": "2024-01-04T08:56:22.784961",
     "status": "completed"
    },
    "tags": []
   },
   "source": [
    "We will use the following metrics in our classification model:"
   ]
  },
  {
   "cell_type": "code",
   "execution_count": 42,
   "id": "a1a56342",
   "metadata": {
    "execution": {
     "iopub.execute_input": "2024-01-04T08:56:22.858909Z",
     "iopub.status.busy": "2024-01-04T08:56:22.858519Z",
     "iopub.status.idle": "2024-01-04T08:56:22.864735Z",
     "shell.execute_reply": "2024-01-04T08:56:22.863903Z"
    },
    "papermill": {
     "duration": 0.033535,
     "end_time": "2024-01-04T08:56:22.866765",
     "exception": false,
     "start_time": "2024-01-04T08:56:22.833230",
     "status": "completed"
    },
    "tags": []
   },
   "outputs": [],
   "source": [
    "comp = df[['tackle', 'assist', 'passLength', 'height', 'weight', 'downToGo', 'quarter', 'forcedFumble']]"
   ]
  },
  {
   "cell_type": "markdown",
   "id": "2cd6bda0",
   "metadata": {
    "papermill": {
     "duration": 0.024793,
     "end_time": "2024-01-04T08:56:22.916205",
     "exception": false,
     "start_time": "2024-01-04T08:56:22.891412",
     "status": "completed"
    },
    "tags": []
   },
   "source": [
    "We used these metrics due to the following reasons:\n",
    "1. **assist, passLength** were correlated in the heatmap.\n",
    "2. The **height and weight** may determine the strength of the player, hence affect tackles.\n",
    "3. The **quarter** is a good indicative of the time of the game passed.\n",
    "4. The **downToGo** is a measure of how the team will plan its next offense.\n",
    "5. The **forcedFumble** is a measure of the team's and the player's offensive abilities."
   ]
  },
  {
   "cell_type": "code",
   "execution_count": 43,
   "id": "be37f5ba",
   "metadata": {
    "execution": {
     "iopub.execute_input": "2024-01-04T08:56:22.970729Z",
     "iopub.status.busy": "2024-01-04T08:56:22.969630Z",
     "iopub.status.idle": "2024-01-04T08:56:22.987596Z",
     "shell.execute_reply": "2024-01-04T08:56:22.986507Z"
    },
    "papermill": {
     "duration": 0.047628,
     "end_time": "2024-01-04T08:56:22.990263",
     "exception": false,
     "start_time": "2024-01-04T08:56:22.942635",
     "status": "completed"
    },
    "tags": []
   },
   "outputs": [
    {
     "data": {
      "text/html": [
       "<div>\n",
       "<style scoped>\n",
       "    .dataframe tbody tr th:only-of-type {\n",
       "        vertical-align: middle;\n",
       "    }\n",
       "\n",
       "    .dataframe tbody tr th {\n",
       "        vertical-align: top;\n",
       "    }\n",
       "\n",
       "    .dataframe thead th {\n",
       "        text-align: right;\n",
       "    }\n",
       "</style>\n",
       "<table border=\"1\" class=\"dataframe\">\n",
       "  <thead>\n",
       "    <tr style=\"text-align: right;\">\n",
       "      <th></th>\n",
       "      <th>tackle</th>\n",
       "      <th>assist</th>\n",
       "      <th>passLength</th>\n",
       "      <th>height</th>\n",
       "      <th>weight</th>\n",
       "      <th>downToGo</th>\n",
       "      <th>quarter</th>\n",
       "      <th>forcedFumble</th>\n",
       "    </tr>\n",
       "  </thead>\n",
       "  <tbody>\n",
       "    <tr>\n",
       "      <th>0</th>\n",
       "      <td>1</td>\n",
       "      <td>0</td>\n",
       "      <td>NaN</td>\n",
       "      <td>71</td>\n",
       "      <td>184</td>\n",
       "      <td>10</td>\n",
       "      <td>1</td>\n",
       "      <td>0</td>\n",
       "    </tr>\n",
       "    <tr>\n",
       "      <th>1</th>\n",
       "      <td>1</td>\n",
       "      <td>0</td>\n",
       "      <td>-3.0</td>\n",
       "      <td>71</td>\n",
       "      <td>184</td>\n",
       "      <td>12</td>\n",
       "      <td>2</td>\n",
       "      <td>0</td>\n",
       "    </tr>\n",
       "    <tr>\n",
       "      <th>2</th>\n",
       "      <td>0</td>\n",
       "      <td>0</td>\n",
       "      <td>-3.0</td>\n",
       "      <td>77</td>\n",
       "      <td>252</td>\n",
       "      <td>12</td>\n",
       "      <td>2</td>\n",
       "      <td>0</td>\n",
       "    </tr>\n",
       "    <tr>\n",
       "      <th>3</th>\n",
       "      <td>1</td>\n",
       "      <td>0</td>\n",
       "      <td>NaN</td>\n",
       "      <td>71</td>\n",
       "      <td>184</td>\n",
       "      <td>10</td>\n",
       "      <td>3</td>\n",
       "      <td>0</td>\n",
       "    </tr>\n",
       "    <tr>\n",
       "      <th>4</th>\n",
       "      <td>1</td>\n",
       "      <td>0</td>\n",
       "      <td>9.0</td>\n",
       "      <td>71</td>\n",
       "      <td>184</td>\n",
       "      <td>20</td>\n",
       "      <td>3</td>\n",
       "      <td>0</td>\n",
       "    </tr>\n",
       "    <tr>\n",
       "      <th>...</th>\n",
       "      <td>...</td>\n",
       "      <td>...</td>\n",
       "      <td>...</td>\n",
       "      <td>...</td>\n",
       "      <td>...</td>\n",
       "      <td>...</td>\n",
       "      <td>...</td>\n",
       "      <td>...</td>\n",
       "    </tr>\n",
       "    <tr>\n",
       "      <th>17421</th>\n",
       "      <td>1</td>\n",
       "      <td>0</td>\n",
       "      <td>NaN</td>\n",
       "      <td>76</td>\n",
       "      <td>265</td>\n",
       "      <td>12</td>\n",
       "      <td>4</td>\n",
       "      <td>0</td>\n",
       "    </tr>\n",
       "    <tr>\n",
       "      <th>17422</th>\n",
       "      <td>1</td>\n",
       "      <td>0</td>\n",
       "      <td>NaN</td>\n",
       "      <td>76</td>\n",
       "      <td>265</td>\n",
       "      <td>10</td>\n",
       "      <td>4</td>\n",
       "      <td>0</td>\n",
       "    </tr>\n",
       "    <tr>\n",
       "      <th>17423</th>\n",
       "      <td>1</td>\n",
       "      <td>0</td>\n",
       "      <td>NaN</td>\n",
       "      <td>73</td>\n",
       "      <td>198</td>\n",
       "      <td>10</td>\n",
       "      <td>1</td>\n",
       "      <td>1</td>\n",
       "    </tr>\n",
       "    <tr>\n",
       "      <th>17424</th>\n",
       "      <td>1</td>\n",
       "      <td>0</td>\n",
       "      <td>4.0</td>\n",
       "      <td>73</td>\n",
       "      <td>198</td>\n",
       "      <td>18</td>\n",
       "      <td>1</td>\n",
       "      <td>0</td>\n",
       "    </tr>\n",
       "    <tr>\n",
       "      <th>17425</th>\n",
       "      <td>1</td>\n",
       "      <td>0</td>\n",
       "      <td>4.0</td>\n",
       "      <td>73</td>\n",
       "      <td>198</td>\n",
       "      <td>27</td>\n",
       "      <td>4</td>\n",
       "      <td>0</td>\n",
       "    </tr>\n",
       "  </tbody>\n",
       "</table>\n",
       "<p>17426 rows × 8 columns</p>\n",
       "</div>"
      ],
      "text/plain": [
       "       tackle  assist  passLength  height  weight  downToGo  quarter  \\\n",
       "0           1       0         NaN      71     184        10        1   \n",
       "1           1       0        -3.0      71     184        12        2   \n",
       "2           0       0        -3.0      77     252        12        2   \n",
       "3           1       0         NaN      71     184        10        3   \n",
       "4           1       0         9.0      71     184        20        3   \n",
       "...       ...     ...         ...     ...     ...       ...      ...   \n",
       "17421       1       0         NaN      76     265        12        4   \n",
       "17422       1       0         NaN      76     265        10        4   \n",
       "17423       1       0         NaN      73     198        10        1   \n",
       "17424       1       0         4.0      73     198        18        1   \n",
       "17425       1       0         4.0      73     198        27        4   \n",
       "\n",
       "       forcedFumble  \n",
       "0                 0  \n",
       "1                 0  \n",
       "2                 0  \n",
       "3                 0  \n",
       "4                 0  \n",
       "...             ...  \n",
       "17421             0  \n",
       "17422             0  \n",
       "17423             1  \n",
       "17424             0  \n",
       "17425             0  \n",
       "\n",
       "[17426 rows x 8 columns]"
      ]
     },
     "execution_count": 43,
     "metadata": {},
     "output_type": "execute_result"
    }
   ],
   "source": [
    "comp"
   ]
  },
  {
   "cell_type": "markdown",
   "id": "1d8e692e",
   "metadata": {
    "papermill": {
     "duration": 0.027222,
     "end_time": "2024-01-04T08:56:23.043230",
     "exception": false,
     "start_time": "2024-01-04T08:56:23.016008",
     "status": "completed"
    },
    "tags": []
   },
   "source": [
    "## Let's build our classification model!"
   ]
  },
  {
   "cell_type": "markdown",
   "id": "b93516a9",
   "metadata": {
    "papermill": {
     "duration": 0.025482,
     "end_time": "2024-01-04T08:56:23.095871",
     "exception": false,
     "start_time": "2024-01-04T08:56:23.070389",
     "status": "completed"
    },
    "tags": []
   },
   "source": [
    "#### We will use a Support Vector Machine model."
   ]
  },
  {
   "cell_type": "code",
   "execution_count": 44,
   "id": "e1f2d2e6",
   "metadata": {
    "execution": {
     "iopub.execute_input": "2024-01-04T08:56:23.149257Z",
     "iopub.status.busy": "2024-01-04T08:56:23.148640Z",
     "iopub.status.idle": "2024-01-04T08:56:23.158914Z",
     "shell.execute_reply": "2024-01-04T08:56:23.158090Z"
    },
    "papermill": {
     "duration": 0.039642,
     "end_time": "2024-01-04T08:56:23.161589",
     "exception": false,
     "start_time": "2024-01-04T08:56:23.121947",
     "status": "completed"
    },
    "tags": []
   },
   "outputs": [],
   "source": [
    "comp=comp.fillna(method='bfill')"
   ]
  },
  {
   "cell_type": "code",
   "execution_count": 45,
   "id": "d7a54102",
   "metadata": {
    "execution": {
     "iopub.execute_input": "2024-01-04T08:56:23.212413Z",
     "iopub.status.busy": "2024-01-04T08:56:23.211812Z",
     "iopub.status.idle": "2024-01-04T08:56:24.680322Z",
     "shell.execute_reply": "2024-01-04T08:56:24.679055Z"
    },
    "papermill": {
     "duration": 1.497006,
     "end_time": "2024-01-04T08:56:24.683079",
     "exception": false,
     "start_time": "2024-01-04T08:56:23.186073",
     "status": "completed"
    },
    "tags": []
   },
   "outputs": [],
   "source": [
    "from sklearn.svm import SVC\n",
    "from sklearn.preprocessing import StandardScaler\n",
    "from sklearn.model_selection import train_test_split, cross_val_score\n",
    "from sklearn.metrics import accuracy_score"
   ]
  },
  {
   "cell_type": "code",
   "execution_count": 46,
   "id": "cf6b4781",
   "metadata": {
    "execution": {
     "iopub.execute_input": "2024-01-04T08:56:24.735186Z",
     "iopub.status.busy": "2024-01-04T08:56:24.734774Z",
     "iopub.status.idle": "2024-01-04T08:56:24.761691Z",
     "shell.execute_reply": "2024-01-04T08:56:24.760582Z"
    },
    "papermill": {
     "duration": 0.056119,
     "end_time": "2024-01-04T08:56:24.764271",
     "exception": false,
     "start_time": "2024-01-04T08:56:24.708152",
     "status": "completed"
    },
    "tags": []
   },
   "outputs": [],
   "source": [
    "# Splitting the dataset into training, validation, and test sets\n",
    "train, test = train_test_split(comp, test_size=0.8, random_state=42)\n",
    "\n",
    "X_train = pd.get_dummies(train.drop('tackle', axis=1), drop_first=True)\n",
    "y_train = train['tackle']\n",
    "\n",
    "X_test = pd.get_dummies(test.drop('tackle', axis=1), drop_first=True)\n",
    "y_test = test['tackle']\n",
    "\n",
    "# Standardize the numerical features\n",
    "# Note: Only standardize numerical columns. For simplicity, I'm assuming all columns are now either numerical or one-hot encoded\n",
    "scaler = StandardScaler()\n",
    "X_train = scaler.fit_transform(X_train)\n",
    "X_test = scaler.transform(X_test)\n",
    "\n",
    "# Now, the dataset should be ready for training and evaluating a model"
   ]
  },
  {
   "cell_type": "code",
   "execution_count": 47,
   "id": "ddacbb2a",
   "metadata": {
    "execution": {
     "iopub.execute_input": "2024-01-04T08:56:24.817831Z",
     "iopub.status.busy": "2024-01-04T08:56:24.817422Z",
     "iopub.status.idle": "2024-01-04T08:56:25.216445Z",
     "shell.execute_reply": "2024-01-04T08:56:25.215148Z"
    },
    "papermill": {
     "duration": 0.429508,
     "end_time": "2024-01-04T08:56:25.218798",
     "exception": false,
     "start_time": "2024-01-04T08:56:24.789290",
     "status": "completed"
    },
    "tags": []
   },
   "outputs": [
    {
     "name": "stdout",
     "output_type": "stream",
     "text": [
      "Model Accuracy: 0.884728498672979\n"
     ]
    }
   ],
   "source": [
    "# Create a Support Vector Classifier\n",
    "svc = SVC(kernel='linear', C=1.0, random_state=42)\n",
    "\n",
    "# Train the model\n",
    "svc.fit(X_train, y_train)\n",
    "\n",
    "# Make predictions\n",
    "y_pred = svc.predict(X_test)\n",
    "\n",
    "# Evaluate the model\n",
    "accuracy = accuracy_score(y_test, y_pred)\n",
    "print(f\"Model Accuracy: {accuracy}\")"
   ]
  },
  {
   "cell_type": "markdown",
   "id": "2e99936e",
   "metadata": {
    "papermill": {
     "duration": 0.025513,
     "end_time": "2024-01-04T08:56:25.269661",
     "exception": false,
     "start_time": "2024-01-04T08:56:25.244148",
     "status": "completed"
    },
    "tags": []
   },
   "source": [
    "## Our Support Vector Classifier works with an accuracy of 88.47%"
   ]
  },
  {
   "cell_type": "markdown",
   "id": "8233bfd7",
   "metadata": {
    "papermill": {
     "duration": 0.025178,
     "end_time": "2024-01-04T08:56:25.320732",
     "exception": false,
     "start_time": "2024-01-04T08:56:25.295554",
     "status": "completed"
    },
    "tags": []
   },
   "source": [
    "#### This gives us the opportunity to use it for real-world deployment as well. The accuracy is evident of the fact that with the metrics we chose, the tackle success rate is most affected."
   ]
  }
 ],
 "metadata": {
  "kaggle": {
   "accelerator": "none",
   "dataSources": [
    {
     "databundleVersionId": 6654553,
     "sourceId": 60305,
     "sourceType": "competition"
    }
   ],
   "dockerImageVersionId": 30626,
   "isGpuEnabled": false,
   "isInternetEnabled": true,
   "language": "python",
   "sourceType": "notebook"
  },
  "kernelspec": {
   "display_name": "Python 3",
   "language": "python",
   "name": "python3"
  },
  "language_info": {
   "codemirror_mode": {
    "name": "ipython",
    "version": 3
   },
   "file_extension": ".py",
   "mimetype": "text/x-python",
   "name": "python",
   "nbconvert_exporter": "python",
   "pygments_lexer": "ipython3",
   "version": "3.10.12"
  },
  "papermill": {
   "default_parameters": {},
   "duration": 19.838523,
   "end_time": "2024-01-04T08:56:26.175731",
   "environment_variables": {},
   "exception": null,
   "input_path": "__notebook__.ipynb",
   "output_path": "__notebook__.ipynb",
   "parameters": {},
   "start_time": "2024-01-04T08:56:06.337208",
   "version": "2.4.0"
  }
 },
 "nbformat": 4,
 "nbformat_minor": 5
}
