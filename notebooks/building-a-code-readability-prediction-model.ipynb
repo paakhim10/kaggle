{
 "cells": [
  {
   "cell_type": "markdown",
   "id": "71027514",
   "metadata": {
    "papermill": {
     "duration": 0.006636,
     "end_time": "2024-02-02T15:07:29.491795",
     "exception": false,
     "start_time": "2024-02-02T15:07:29.485159",
     "status": "completed"
    },
    "tags": []
   },
   "source": [
    "#### Doing this project has been amazing!\n",
    "\n",
    "I searched near and far for relevant datasets to predict code readability of code snippets, but could find none. I even turned to fellow Kagglers for help, but it was a challenge to find labelled data for training my model.\n",
    "\n",
    "As a result, *like a newbie*, I relied on research papers. I gathered valuable metrics that truly contribute to code readability and created a formula for a relevant readability score.\n",
    "\n",
    "**It was like a dream come true when my results matched closely with those of PyLint.**\n",
    "\n",
    "Hope you like the datasets and the notebook! "
   ]
  },
  {
   "cell_type": "code",
   "execution_count": 1,
   "id": "52d46189",
   "metadata": {
    "execution": {
     "iopub.execute_input": "2024-02-02T15:07:29.506555Z",
     "iopub.status.busy": "2024-02-02T15:07:29.505821Z",
     "iopub.status.idle": "2024-02-02T15:07:30.364004Z",
     "shell.execute_reply": "2024-02-02T15:07:30.362908Z"
    },
    "papermill": {
     "duration": 0.867976,
     "end_time": "2024-02-02T15:07:30.366135",
     "exception": false,
     "start_time": "2024-02-02T15:07:29.498159",
     "status": "completed"
    },
    "tags": []
   },
   "outputs": [
    {
     "name": "stdout",
     "output_type": "stream",
     "text": [
      "/kaggle/input/code-snippets-insights-and-readability/data_cpp.csv\n",
      "/kaggle/input/code-snippets-insights-and-readability/data_python.csv\n"
     ]
    }
   ],
   "source": [
    "# This Python 3 environment comes with many helpful analytics libraries installed\n",
    "# It is defined by the kaggle/python Docker image: https://github.com/kaggle/docker-python\n",
    "# For example, here's several helpful packages to load\n",
    "\n",
    "import numpy as np # linear algebra\n",
    "import pandas as pd # data processing, CSV file I/O (e.g. pd.read_csv)\n",
    "\n",
    "# Input data files are available in the read-only \"../input/\" directory\n",
    "# For example, running this (by clicking run or pressing Shift+Enter) will list all files under the input directory\n",
    "\n",
    "import os\n",
    "for dirname, _, filenames in os.walk('/kaggle/input'):\n",
    "    for filename in filenames:\n",
    "        print(os.path.join(dirname, filename))\n",
    "\n",
    "# You can write up to 20GB to the current directory (/kaggle/working/) that gets preserved as output when you create a version using \"Save & Run All\" \n",
    "# You can also write temporary files to /kaggle/temp/, but they won't be saved outside of the current session"
   ]
  },
  {
   "cell_type": "code",
   "execution_count": 2,
   "id": "4c8076b6",
   "metadata": {
    "execution": {
     "iopub.execute_input": "2024-02-02T15:07:30.380395Z",
     "iopub.status.busy": "2024-02-02T15:07:30.379889Z",
     "iopub.status.idle": "2024-02-02T15:07:30.383935Z",
     "shell.execute_reply": "2024-02-02T15:07:30.382993Z"
    },
    "papermill": {
     "duration": 0.013236,
     "end_time": "2024-02-02T15:07:30.385651",
     "exception": false,
     "start_time": "2024-02-02T15:07:30.372415",
     "status": "completed"
    },
    "tags": []
   },
   "outputs": [],
   "source": [
    "# df['readability'] = 10 - (0.1*df['identifiers'] + \n",
    "#                                0.09*df['line_length'] + \n",
    "#                                0.06*df['indents'] -\n",
    "#                                0.04*df['comments'] +\n",
    "#                                0.06*df['cyclomatic_complexity'])\n",
    "\n",
    "# #https://web.eecs.umich.edu/~weimerw/p/weimer-tse2010-readability-preprint.pdf"
   ]
  },
  {
   "cell_type": "markdown",
   "id": "bfca5485",
   "metadata": {
    "papermill": {
     "duration": 0.005897,
     "end_time": "2024-02-02T15:07:30.398085",
     "exception": false,
     "start_time": "2024-02-02T15:07:30.392188",
     "status": "completed"
    },
    "tags": []
   },
   "source": [
    "## Building a Readability Model for C++ Codes:"
   ]
  },
  {
   "cell_type": "code",
   "execution_count": 3,
   "id": "d25ca0b1",
   "metadata": {
    "execution": {
     "iopub.execute_input": "2024-02-02T15:07:30.412367Z",
     "iopub.status.busy": "2024-02-02T15:07:30.411523Z",
     "iopub.status.idle": "2024-02-02T15:07:32.064850Z",
     "shell.execute_reply": "2024-02-02T15:07:32.063912Z"
    },
    "papermill": {
     "duration": 1.662922,
     "end_time": "2024-02-02T15:07:32.067193",
     "exception": false,
     "start_time": "2024-02-02T15:07:30.404271",
     "status": "completed"
    },
    "tags": []
   },
   "outputs": [],
   "source": [
    "from sklearn.model_selection import train_test_split\n",
    "from sklearn.ensemble import RandomForestRegressor\n",
    "from sklearn.metrics import mean_absolute_error\n",
    "from sklearn.feature_extraction.text import CountVectorizer\n",
    "from sklearn.pipeline import make_pipeline"
   ]
  },
  {
   "cell_type": "code",
   "execution_count": 4,
   "id": "3690b531",
   "metadata": {
    "execution": {
     "iopub.execute_input": "2024-02-02T15:07:32.083292Z",
     "iopub.status.busy": "2024-02-02T15:07:32.082877Z",
     "iopub.status.idle": "2024-02-02T15:07:32.123198Z",
     "shell.execute_reply": "2024-02-02T15:07:32.122320Z"
    },
    "papermill": {
     "duration": 0.05133,
     "end_time": "2024-02-02T15:07:32.125495",
     "exception": false,
     "start_time": "2024-02-02T15:07:32.074165",
     "status": "completed"
    },
    "tags": []
   },
   "outputs": [],
   "source": [
    "df = pd.read_csv(\"/kaggle/input/code-snippets-insights-and-readability/data_cpp.csv\")"
   ]
  },
  {
   "cell_type": "code",
   "execution_count": 5,
   "id": "21e4994e",
   "metadata": {
    "execution": {
     "iopub.execute_input": "2024-02-02T15:07:32.139655Z",
     "iopub.status.busy": "2024-02-02T15:07:32.139138Z",
     "iopub.status.idle": "2024-02-02T15:07:32.155699Z",
     "shell.execute_reply": "2024-02-02T15:07:32.155049Z"
    },
    "papermill": {
     "duration": 0.025722,
     "end_time": "2024-02-02T15:07:32.157439",
     "exception": false,
     "start_time": "2024-02-02T15:07:32.131717",
     "status": "completed"
    },
    "tags": []
   },
   "outputs": [
    {
     "data": {
      "text/html": [
       "<div>\n",
       "<style scoped>\n",
       "    .dataframe tbody tr th:only-of-type {\n",
       "        vertical-align: middle;\n",
       "    }\n",
       "\n",
       "    .dataframe tbody tr th {\n",
       "        vertical-align: top;\n",
       "    }\n",
       "\n",
       "    .dataframe thead th {\n",
       "        text-align: right;\n",
       "    }\n",
       "</style>\n",
       "<table border=\"1\" class=\"dataframe\">\n",
       "  <thead>\n",
       "    <tr style=\"text-align: right;\">\n",
       "      <th></th>\n",
       "      <th>Unnamed: 0</th>\n",
       "      <th>Answer</th>\n",
       "      <th>num_of_lines</th>\n",
       "      <th>code_length</th>\n",
       "      <th>comments</th>\n",
       "      <th>cyclomatic_complexity</th>\n",
       "      <th>num_of_indents</th>\n",
       "      <th>loop_count</th>\n",
       "      <th>line_length</th>\n",
       "      <th>identifiers</th>\n",
       "      <th>readability</th>\n",
       "    </tr>\n",
       "  </thead>\n",
       "  <tbody>\n",
       "    <tr>\n",
       "      <th>0</th>\n",
       "      <td>0</td>\n",
       "      <td>class Solution {\\n public:\\n  vector&lt;int&gt; twoS...</td>\n",
       "      <td>8</td>\n",
       "      <td>347</td>\n",
       "      <td>0</td>\n",
       "      <td>1</td>\n",
       "      <td>4</td>\n",
       "      <td>2</td>\n",
       "      <td>43.375000</td>\n",
       "      <td>8</td>\n",
       "      <td>4.996250</td>\n",
       "    </tr>\n",
       "    <tr>\n",
       "      <th>1</th>\n",
       "      <td>1</td>\n",
       "      <td>class Solution {\\n public:\\n  ListNode* addTwo...</td>\n",
       "      <td>12</td>\n",
       "      <td>479</td>\n",
       "      <td>0</td>\n",
       "      <td>3</td>\n",
       "      <td>5</td>\n",
       "      <td>3</td>\n",
       "      <td>39.916667</td>\n",
       "      <td>2</td>\n",
       "      <td>5.727500</td>\n",
       "    </tr>\n",
       "    <tr>\n",
       "      <th>2</th>\n",
       "      <td>2</td>\n",
       "      <td>class Solution {\\n public:\\n  int lengthOfLong...</td>\n",
       "      <td>9</td>\n",
       "      <td>303</td>\n",
       "      <td>0</td>\n",
       "      <td>2</td>\n",
       "      <td>3</td>\n",
       "      <td>2</td>\n",
       "      <td>33.666667</td>\n",
       "      <td>6</td>\n",
       "      <td>6.070000</td>\n",
       "    </tr>\n",
       "    <tr>\n",
       "      <th>3</th>\n",
       "      <td>3</td>\n",
       "      <td>class Solution {\\n public:\\n  double findMedia...</td>\n",
       "      <td>16</td>\n",
       "      <td>1046</td>\n",
       "      <td>0</td>\n",
       "      <td>4</td>\n",
       "      <td>3</td>\n",
       "      <td>4</td>\n",
       "      <td>65.375000</td>\n",
       "      <td>22</td>\n",
       "      <td>1.496250</td>\n",
       "    </tr>\n",
       "    <tr>\n",
       "      <th>4</th>\n",
       "      <td>4</td>\n",
       "      <td>class Solution {\\n public:\\n  string longestPa...</td>\n",
       "      <td>14</td>\n",
       "      <td>916</td>\n",
       "      <td>3</td>\n",
       "      <td>4</td>\n",
       "      <td>9</td>\n",
       "      <td>7</td>\n",
       "      <td>65.428571</td>\n",
       "      <td>14</td>\n",
       "      <td>2.051429</td>\n",
       "    </tr>\n",
       "  </tbody>\n",
       "</table>\n",
       "</div>"
      ],
      "text/plain": [
       "   Unnamed: 0                                             Answer  \\\n",
       "0           0  class Solution {\\n public:\\n  vector<int> twoS...   \n",
       "1           1  class Solution {\\n public:\\n  ListNode* addTwo...   \n",
       "2           2  class Solution {\\n public:\\n  int lengthOfLong...   \n",
       "3           3  class Solution {\\n public:\\n  double findMedia...   \n",
       "4           4  class Solution {\\n public:\\n  string longestPa...   \n",
       "\n",
       "   num_of_lines  code_length  comments  cyclomatic_complexity  num_of_indents  \\\n",
       "0             8          347         0                      1               4   \n",
       "1            12          479         0                      3               5   \n",
       "2             9          303         0                      2               3   \n",
       "3            16         1046         0                      4               3   \n",
       "4            14          916         3                      4               9   \n",
       "\n",
       "   loop_count  line_length  identifiers  readability  \n",
       "0           2    43.375000            8     4.996250  \n",
       "1           3    39.916667            2     5.727500  \n",
       "2           2    33.666667            6     6.070000  \n",
       "3           4    65.375000           22     1.496250  \n",
       "4           7    65.428571           14     2.051429  "
      ]
     },
     "execution_count": 5,
     "metadata": {},
     "output_type": "execute_result"
    }
   ],
   "source": [
    "df.head()"
   ]
  },
  {
   "cell_type": "markdown",
   "id": "edadaca0",
   "metadata": {
    "papermill": {
     "duration": 0.006694,
     "end_time": "2024-02-02T15:07:32.170528",
     "exception": false,
     "start_time": "2024-02-02T15:07:32.163834",
     "status": "completed"
    },
    "tags": []
   },
   "source": [
    "#### Build necessary functions:"
   ]
  },
  {
   "cell_type": "code",
   "execution_count": 6,
   "id": "9c739099",
   "metadata": {
    "execution": {
     "iopub.execute_input": "2024-02-02T15:07:32.186159Z",
     "iopub.status.busy": "2024-02-02T15:07:32.185441Z",
     "iopub.status.idle": "2024-02-02T15:07:32.189753Z",
     "shell.execute_reply": "2024-02-02T15:07:32.188751Z"
    },
    "papermill": {
     "duration": 0.014379,
     "end_time": "2024-02-02T15:07:32.192006",
     "exception": false,
     "start_time": "2024-02-02T15:07:32.177627",
     "status": "completed"
    },
    "tags": []
   },
   "outputs": [],
   "source": [
    "def count_lines(text):\n",
    "    # Count the number of lines in the text\n",
    "    return str(text).count(';')"
   ]
  },
  {
   "cell_type": "code",
   "execution_count": 7,
   "id": "a663b6e8",
   "metadata": {
    "execution": {
     "iopub.execute_input": "2024-02-02T15:07:32.207135Z",
     "iopub.status.busy": "2024-02-02T15:07:32.206460Z",
     "iopub.status.idle": "2024-02-02T15:07:32.211644Z",
     "shell.execute_reply": "2024-02-02T15:07:32.210500Z"
    },
    "papermill": {
     "duration": 0.014579,
     "end_time": "2024-02-02T15:07:32.213383",
     "exception": false,
     "start_time": "2024-02-02T15:07:32.198804",
     "status": "completed"
    },
    "tags": []
   },
   "outputs": [],
   "source": [
    "import re\n",
    "\n",
    "def count_comments(code):\n",
    "    # Count the number of C++ comments using a regular expression\n",
    "    cpp_comments = re.findall(r'//.*|/\\*[\\s\\S]*?\\*/', code)\n",
    "    return len(cpp_comments)"
   ]
  },
  {
   "cell_type": "code",
   "execution_count": 8,
   "id": "d1f45f67",
   "metadata": {
    "execution": {
     "iopub.execute_input": "2024-02-02T15:07:32.227975Z",
     "iopub.status.busy": "2024-02-02T15:07:32.227342Z",
     "iopub.status.idle": "2024-02-02T15:07:32.233121Z",
     "shell.execute_reply": "2024-02-02T15:07:32.232420Z"
    },
    "papermill": {
     "duration": 0.014823,
     "end_time": "2024-02-02T15:07:32.234688",
     "exception": false,
     "start_time": "2024-02-02T15:07:32.219865",
     "status": "completed"
    },
    "tags": []
   },
   "outputs": [],
   "source": [
    "def cyclomatic_complexity(code):\n",
    "    \"\"\"Calculates the cyclomatic complexity of a C++ code snippet.\"\"\"\n",
    "    try:\n",
    "        decision_points = 0\n",
    "        exits = 0\n",
    "\n",
    "        for word in re.findall(r\"\\b\\w+\\b\", code):  # Extract words using a regular expression\n",
    "            if word in (\"if\", \"else\", \"while\", \"for\", \"switch\", \"case\", \"try\", \"catch\"):\n",
    "                decision_points += 1\n",
    "            elif word in (\"return\", \"break\", \"continue\", \"goto\", \"throw\"):\n",
    "                exits += 1\n",
    "\n",
    "        complexity = decision_points + 1 - exits\n",
    "        return complexity\n",
    "    except re.error as e:\n",
    "        print(f\"Error processing code: {e}\")\n",
    "        return None"
   ]
  },
  {
   "cell_type": "code",
   "execution_count": 9,
   "id": "75e78ca3",
   "metadata": {
    "execution": {
     "iopub.execute_input": "2024-02-02T15:07:32.249196Z",
     "iopub.status.busy": "2024-02-02T15:07:32.248530Z",
     "iopub.status.idle": "2024-02-02T15:07:32.252897Z",
     "shell.execute_reply": "2024-02-02T15:07:32.251823Z"
    },
    "papermill": {
     "duration": 0.013349,
     "end_time": "2024-02-02T15:07:32.254500",
     "exception": false,
     "start_time": "2024-02-02T15:07:32.241151",
     "status": "completed"
    },
    "tags": []
   },
   "outputs": [],
   "source": [
    "def count_indents(code):\n",
    "    num_indents = code.count('{')\n",
    "    return num_indents"
   ]
  },
  {
   "cell_type": "code",
   "execution_count": 10,
   "id": "239b40a4",
   "metadata": {
    "execution": {
     "iopub.execute_input": "2024-02-02T15:07:32.268304Z",
     "iopub.status.busy": "2024-02-02T15:07:32.267889Z",
     "iopub.status.idle": "2024-02-02T15:07:32.273078Z",
     "shell.execute_reply": "2024-02-02T15:07:32.271466Z"
    },
    "papermill": {
     "duration": 0.014374,
     "end_time": "2024-02-02T15:07:32.274968",
     "exception": false,
     "start_time": "2024-02-02T15:07:32.260594",
     "status": "completed"
    },
    "tags": []
   },
   "outputs": [],
   "source": [
    "def count_loops(code):\n",
    "    loop_keywords = ['for', 'while', 'if']\n",
    "    count = sum(code.lower().count(keyword) for keyword in loop_keywords)\n",
    "    return count"
   ]
  },
  {
   "cell_type": "code",
   "execution_count": 11,
   "id": "e16d0cc0",
   "metadata": {
    "execution": {
     "iopub.execute_input": "2024-02-02T15:07:32.289390Z",
     "iopub.status.busy": "2024-02-02T15:07:32.288710Z",
     "iopub.status.idle": "2024-02-02T15:07:32.294523Z",
     "shell.execute_reply": "2024-02-02T15:07:32.293756Z"
    },
    "papermill": {
     "duration": 0.014753,
     "end_time": "2024-02-02T15:07:32.296067",
     "exception": false,
     "start_time": "2024-02-02T15:07:32.281314",
     "status": "completed"
    },
    "tags": []
   },
   "outputs": [],
   "source": [
    "def count_identifiers(code):\n",
    "    \"\"\"Calculates the cyclomatic complexity of a C++ code snippet.\"\"\"\n",
    "    try:\n",
    "        count=0\n",
    "\n",
    "        for word in re.findall(r\"\\b\\w+\\b\", code):  # Extract words using a regular expression\n",
    "            if word in (\"int\", \"float\", \"double\", \"string\", \"char\", \"const\", \"bool\", \"void\", \"struct\", \"class\", \"namespace\"):\n",
    "                count +=1\n",
    "        return count\n",
    "    except re.error as e:\n",
    "        print(f\"Error processing code: {e}\")\n",
    "        return None"
   ]
  },
  {
   "cell_type": "markdown",
   "id": "e733d893",
   "metadata": {
    "papermill": {
     "duration": 0.005835,
     "end_time": "2024-02-02T15:07:32.308224",
     "exception": false,
     "start_time": "2024-02-02T15:07:32.302389",
     "status": "completed"
    },
    "tags": []
   },
   "source": [
    "#### Build our prediction:"
   ]
  },
  {
   "cell_type": "code",
   "execution_count": 12,
   "id": "6fc8e3e2",
   "metadata": {
    "execution": {
     "iopub.execute_input": "2024-02-02T15:07:32.322869Z",
     "iopub.status.busy": "2024-02-02T15:07:32.321929Z",
     "iopub.status.idle": "2024-02-02T15:07:32.341102Z",
     "shell.execute_reply": "2024-02-02T15:07:32.340047Z"
    },
    "papermill": {
     "duration": 0.028496,
     "end_time": "2024-02-02T15:07:32.342872",
     "exception": false,
     "start_time": "2024-02-02T15:07:32.314376",
     "status": "completed"
    },
    "tags": []
   },
   "outputs": [],
   "source": [
    "X = df[['num_of_lines', 'code_length', 'comments', 'cyclomatic_complexity', 'num_of_indents', 'loop_count', 'identifiers']]\n",
    "y = df['readability']\n",
    "\n",
    "# Split the data into training and testing sets\n",
    "X_train, X_test, y_train, y_test = train_test_split(X.values, y, test_size=0.2, random_state=42)"
   ]
  },
  {
   "cell_type": "code",
   "execution_count": 13,
   "id": "1711a03b",
   "metadata": {
    "execution": {
     "iopub.execute_input": "2024-02-02T15:07:32.358093Z",
     "iopub.status.busy": "2024-02-02T15:07:32.357315Z",
     "iopub.status.idle": "2024-02-02T15:07:32.817076Z",
     "shell.execute_reply": "2024-02-02T15:07:32.816415Z"
    },
    "papermill": {
     "duration": 0.469208,
     "end_time": "2024-02-02T15:07:32.818637",
     "exception": false,
     "start_time": "2024-02-02T15:07:32.349429",
     "status": "completed"
    },
    "tags": []
   },
   "outputs": [
    {
     "data": {
      "text/html": [
       "<style>#sk-container-id-1 {color: black;background-color: white;}#sk-container-id-1 pre{padding: 0;}#sk-container-id-1 div.sk-toggleable {background-color: white;}#sk-container-id-1 label.sk-toggleable__label {cursor: pointer;display: block;width: 100%;margin-bottom: 0;padding: 0.3em;box-sizing: border-box;text-align: center;}#sk-container-id-1 label.sk-toggleable__label-arrow:before {content: \"▸\";float: left;margin-right: 0.25em;color: #696969;}#sk-container-id-1 label.sk-toggleable__label-arrow:hover:before {color: black;}#sk-container-id-1 div.sk-estimator:hover label.sk-toggleable__label-arrow:before {color: black;}#sk-container-id-1 div.sk-toggleable__content {max-height: 0;max-width: 0;overflow: hidden;text-align: left;background-color: #f0f8ff;}#sk-container-id-1 div.sk-toggleable__content pre {margin: 0.2em;color: black;border-radius: 0.25em;background-color: #f0f8ff;}#sk-container-id-1 input.sk-toggleable__control:checked~div.sk-toggleable__content {max-height: 200px;max-width: 100%;overflow: auto;}#sk-container-id-1 input.sk-toggleable__control:checked~label.sk-toggleable__label-arrow:before {content: \"▾\";}#sk-container-id-1 div.sk-estimator input.sk-toggleable__control:checked~label.sk-toggleable__label {background-color: #d4ebff;}#sk-container-id-1 div.sk-label input.sk-toggleable__control:checked~label.sk-toggleable__label {background-color: #d4ebff;}#sk-container-id-1 input.sk-hidden--visually {border: 0;clip: rect(1px 1px 1px 1px);clip: rect(1px, 1px, 1px, 1px);height: 1px;margin: -1px;overflow: hidden;padding: 0;position: absolute;width: 1px;}#sk-container-id-1 div.sk-estimator {font-family: monospace;background-color: #f0f8ff;border: 1px dotted black;border-radius: 0.25em;box-sizing: border-box;margin-bottom: 0.5em;}#sk-container-id-1 div.sk-estimator:hover {background-color: #d4ebff;}#sk-container-id-1 div.sk-parallel-item::after {content: \"\";width: 100%;border-bottom: 1px solid gray;flex-grow: 1;}#sk-container-id-1 div.sk-label:hover label.sk-toggleable__label {background-color: #d4ebff;}#sk-container-id-1 div.sk-serial::before {content: \"\";position: absolute;border-left: 1px solid gray;box-sizing: border-box;top: 0;bottom: 0;left: 50%;z-index: 0;}#sk-container-id-1 div.sk-serial {display: flex;flex-direction: column;align-items: center;background-color: white;padding-right: 0.2em;padding-left: 0.2em;position: relative;}#sk-container-id-1 div.sk-item {position: relative;z-index: 1;}#sk-container-id-1 div.sk-parallel {display: flex;align-items: stretch;justify-content: center;background-color: white;position: relative;}#sk-container-id-1 div.sk-item::before, #sk-container-id-1 div.sk-parallel-item::before {content: \"\";position: absolute;border-left: 1px solid gray;box-sizing: border-box;top: 0;bottom: 0;left: 50%;z-index: -1;}#sk-container-id-1 div.sk-parallel-item {display: flex;flex-direction: column;z-index: 1;position: relative;background-color: white;}#sk-container-id-1 div.sk-parallel-item:first-child::after {align-self: flex-end;width: 50%;}#sk-container-id-1 div.sk-parallel-item:last-child::after {align-self: flex-start;width: 50%;}#sk-container-id-1 div.sk-parallel-item:only-child::after {width: 0;}#sk-container-id-1 div.sk-dashed-wrapped {border: 1px dashed gray;margin: 0 0.4em 0.5em 0.4em;box-sizing: border-box;padding-bottom: 0.4em;background-color: white;}#sk-container-id-1 div.sk-label label {font-family: monospace;font-weight: bold;display: inline-block;line-height: 1.2em;}#sk-container-id-1 div.sk-label-container {text-align: center;}#sk-container-id-1 div.sk-container {/* jupyter's `normalize.less` sets `[hidden] { display: none; }` but bootstrap.min.css set `[hidden] { display: none !important; }` so we also need the `!important` here to be able to override the default hidden behavior on the sphinx rendered scikit-learn.org. See: https://github.com/scikit-learn/scikit-learn/issues/21755 */display: inline-block !important;position: relative;}#sk-container-id-1 div.sk-text-repr-fallback {display: none;}</style><div id=\"sk-container-id-1\" class=\"sk-top-container\"><div class=\"sk-text-repr-fallback\"><pre>Pipeline(steps=[(&#x27;randomforestregressor&#x27;,\n",
       "                 RandomForestRegressor(n_estimators=120, random_state=0))])</pre><b>In a Jupyter environment, please rerun this cell to show the HTML representation or trust the notebook. <br />On GitHub, the HTML representation is unable to render, please try loading this page with nbviewer.org.</b></div><div class=\"sk-container\" hidden><div class=\"sk-item sk-dashed-wrapped\"><div class=\"sk-label-container\"><div class=\"sk-label sk-toggleable\"><input class=\"sk-toggleable__control sk-hidden--visually\" id=\"sk-estimator-id-1\" type=\"checkbox\" ><label for=\"sk-estimator-id-1\" class=\"sk-toggleable__label sk-toggleable__label-arrow\">Pipeline</label><div class=\"sk-toggleable__content\"><pre>Pipeline(steps=[(&#x27;randomforestregressor&#x27;,\n",
       "                 RandomForestRegressor(n_estimators=120, random_state=0))])</pre></div></div></div><div class=\"sk-serial\"><div class=\"sk-item\"><div class=\"sk-estimator sk-toggleable\"><input class=\"sk-toggleable__control sk-hidden--visually\" id=\"sk-estimator-id-2\" type=\"checkbox\" ><label for=\"sk-estimator-id-2\" class=\"sk-toggleable__label sk-toggleable__label-arrow\">RandomForestRegressor</label><div class=\"sk-toggleable__content\"><pre>RandomForestRegressor(n_estimators=120, random_state=0)</pre></div></div></div></div></div></div></div>"
      ],
      "text/plain": [
       "Pipeline(steps=[('randomforestregressor',\n",
       "                 RandomForestRegressor(n_estimators=120, random_state=0))])"
      ]
     },
     "execution_count": 13,
     "metadata": {},
     "output_type": "execute_result"
    }
   ],
   "source": [
    "model = make_pipeline(RandomForestRegressor(n_estimators=120, random_state=0))\n",
    "model.fit(X_train, y_train)"
   ]
  },
  {
   "cell_type": "code",
   "execution_count": 14,
   "id": "d84e0992",
   "metadata": {
    "execution": {
     "iopub.execute_input": "2024-02-02T15:07:32.833497Z",
     "iopub.status.busy": "2024-02-02T15:07:32.832761Z",
     "iopub.status.idle": "2024-02-02T15:07:32.850741Z",
     "shell.execute_reply": "2024-02-02T15:07:32.849398Z"
    },
    "papermill": {
     "duration": 0.027935,
     "end_time": "2024-02-02T15:07:32.853143",
     "exception": false,
     "start_time": "2024-02-02T15:07:32.825208",
     "status": "completed"
    },
    "tags": []
   },
   "outputs": [
    {
     "name": "stdout",
     "output_type": "stream",
     "text": [
      "Mean Absolute Error: 0.2472072290225429\n"
     ]
    }
   ],
   "source": [
    "y_pred = model.predict(X_test)\n",
    "mae = mean_absolute_error(y_test, y_pred)\n",
    "print(f'Mean Absolute Error: {mae}')"
   ]
  },
  {
   "cell_type": "code",
   "execution_count": 15,
   "id": "3791c36a",
   "metadata": {
    "execution": {
     "iopub.execute_input": "2024-02-02T15:07:32.868339Z",
     "iopub.status.busy": "2024-02-02T15:07:32.867940Z",
     "iopub.status.idle": "2024-02-02T15:07:32.882878Z",
     "shell.execute_reply": "2024-02-02T15:07:32.881672Z"
    },
    "papermill": {
     "duration": 0.025107,
     "end_time": "2024-02-02T15:07:32.885302",
     "exception": false,
     "start_time": "2024-02-02T15:07:32.860195",
     "status": "completed"
    },
    "tags": []
   },
   "outputs": [
    {
     "name": "stdout",
     "output_type": "stream",
     "text": [
      "Predicted Readability Score for User Input: 6.13\n",
      "Details about your code:\n",
      "Number of lines:10\n",
      "Number of characters:332\n",
      "Number of comments:0\n",
      "Number of loops:3\n",
      "Number of identifiers:1\n"
     ]
    }
   ],
   "source": [
    "user_input = \"\"\"ListNode* deleteDuplicates(ListNode* head) {\n",
    "    if(!head) return head;\n",
    "    ListNode *t = head, *p = head->next;\n",
    "    int pre = head->val;\n",
    "    while(p) {\n",
    "        if(pre != p->val) {\n",
    "            t->next = p;\n",
    "            pre = p->val;\n",
    "            t = t->next;\n",
    "        }\n",
    "        p = p->next;\n",
    "    }\n",
    "    t->next = NULL;\n",
    "    return head;\n",
    "}\"\"\"\n",
    "\n",
    "lines = len(user_input.split(';'))\n",
    "length = len(user_input)\n",
    "comments = count_comments(user_input)\n",
    "loops = count_loops(user_input)\n",
    "identifiers = count_identifiers(user_input)\n",
    "\n",
    "user_score = model.predict([[lines, length, \n",
    "                             comments, cyclomatic_complexity(user_input), \n",
    "                             count_indents(user_input), loops,\n",
    "                             identifiers]])\n",
    "print(f'Predicted Readability Score for User Input: {user_score[0]:.2f}')\n",
    "\n",
    "print(\"Details about your code:\")\n",
    "print(f\"Number of lines:{lines}\")\n",
    "print(f\"Number of characters:{length}\")\n",
    "print(f\"Number of comments:{comments}\")\n",
    "print(f\"Number of loops:{loops}\")\n",
    "print(f\"Number of identifiers:{identifiers}\")\n"
   ]
  },
  {
   "cell_type": "markdown",
   "id": "4f620f47",
   "metadata": {
    "papermill": {
     "duration": 0.006742,
     "end_time": "2024-02-02T15:07:32.899371",
     "exception": false,
     "start_time": "2024-02-02T15:07:32.892629",
     "status": "completed"
    },
    "tags": []
   },
   "source": [
    "## Building a Readability Model for Python Codes:"
   ]
  },
  {
   "cell_type": "code",
   "execution_count": 16,
   "id": "17e1b1e8",
   "metadata": {
    "execution": {
     "iopub.execute_input": "2024-02-02T15:07:32.914832Z",
     "iopub.status.busy": "2024-02-02T15:07:32.914497Z",
     "iopub.status.idle": "2024-02-02T15:07:32.951276Z",
     "shell.execute_reply": "2024-02-02T15:07:32.950530Z"
    },
    "papermill": {
     "duration": 0.047112,
     "end_time": "2024-02-02T15:07:32.953328",
     "exception": false,
     "start_time": "2024-02-02T15:07:32.906216",
     "status": "completed"
    },
    "tags": []
   },
   "outputs": [],
   "source": [
    "df1= pd.read_csv(\"/kaggle/input/code-snippets-insights-and-readability/data_python.csv\")"
   ]
  },
  {
   "cell_type": "code",
   "execution_count": 17,
   "id": "8c4bf583",
   "metadata": {
    "execution": {
     "iopub.execute_input": "2024-02-02T15:07:32.968427Z",
     "iopub.status.busy": "2024-02-02T15:07:32.967873Z",
     "iopub.status.idle": "2024-02-02T15:07:33.007527Z",
     "shell.execute_reply": "2024-02-02T15:07:33.006757Z"
    },
    "papermill": {
     "duration": 0.049569,
     "end_time": "2024-02-02T15:07:33.009881",
     "exception": false,
     "start_time": "2024-02-02T15:07:32.960312",
     "status": "completed"
    },
    "tags": []
   },
   "outputs": [],
   "source": [
    "import re\n",
    "\n",
    "def count_comments(code):\n",
    "    # Count the number of comments using a regular expression\n",
    "    comments = re.findall(r'#.*|(\\'\\'\\'[\\s\\S]*?\\'\\'\\'|\\\"\\\"\\\"[\\s\\S]*?\\\"\\\"\\`)|```[\\s\\S]*?```', code)\n",
    "    return len(comments)\n",
    "\n",
    "df1['comments'] = df1['python_solutions'].apply(count_comments)"
   ]
  },
  {
   "cell_type": "code",
   "execution_count": 18,
   "id": "2ab8735b",
   "metadata": {
    "execution": {
     "iopub.execute_input": "2024-02-02T15:07:33.025231Z",
     "iopub.status.busy": "2024-02-02T15:07:33.024661Z",
     "iopub.status.idle": "2024-02-02T15:07:33.168989Z",
     "shell.execute_reply": "2024-02-02T15:07:33.167754Z"
    },
    "papermill": {
     "duration": 0.154916,
     "end_time": "2024-02-02T15:07:33.171650",
     "exception": false,
     "start_time": "2024-02-02T15:07:33.016734",
     "status": "completed"
    },
    "tags": []
   },
   "outputs": [],
   "source": [
    "def cyclomatic_complexity(code):\n",
    "    decision_points = len(re.findall(r\"(if|elif|while|for)\\s+.*:\", code, re.IGNORECASE))\n",
    "    exits = len(re.findall(r\"(return|break|continue)\\b\", code, re.IGNORECASE))\n",
    "    complexity = decision_points + 1 - exits\n",
    "    return complexity\n",
    "\n",
    "df1['cyclomatic_complexity'] = df1['python_solutions'].apply(lambda x: cyclomatic_complexity(x))"
   ]
  },
  {
   "cell_type": "code",
   "execution_count": 19,
   "id": "8ce40953",
   "metadata": {
    "execution": {
     "iopub.execute_input": "2024-02-02T15:07:33.186996Z",
     "iopub.status.busy": "2024-02-02T15:07:33.186626Z",
     "iopub.status.idle": "2024-02-02T15:07:33.198591Z",
     "shell.execute_reply": "2024-02-02T15:07:33.197160Z"
    },
    "papermill": {
     "duration": 0.022265,
     "end_time": "2024-02-02T15:07:33.200806",
     "exception": false,
     "start_time": "2024-02-02T15:07:33.178541",
     "status": "completed"
    },
    "tags": []
   },
   "outputs": [],
   "source": [
    "import math\n",
    "def count_indents(code):\n",
    "    lines = code.split('\\n')\n",
    "    num_indents = 0\n",
    "    for line in lines:\n",
    "        num_indents += line.count('    ')  # Assuming each indent is represented by four spaces\n",
    "    return num_indents\n",
    "\n",
    "def calculate_rounded_ratio(row):\n",
    "    return math.ceil(row['num_of_indents'] / row['num_of_lines'])\n"
   ]
  },
  {
   "cell_type": "code",
   "execution_count": 20,
   "id": "41004365",
   "metadata": {
    "execution": {
     "iopub.execute_input": "2024-02-02T15:07:33.216069Z",
     "iopub.status.busy": "2024-02-02T15:07:33.215413Z",
     "iopub.status.idle": "2024-02-02T15:07:33.220371Z",
     "shell.execute_reply": "2024-02-02T15:07:33.219530Z"
    },
    "papermill": {
     "duration": 0.014271,
     "end_time": "2024-02-02T15:07:33.221984",
     "exception": false,
     "start_time": "2024-02-02T15:07:33.207713",
     "status": "completed"
    },
    "tags": []
   },
   "outputs": [],
   "source": [
    "def count_loops(code):\n",
    "    loop_keywords = ['for', 'while', 'if']\n",
    "    count = sum(code.lower().count(keyword) for keyword in loop_keywords)\n",
    "    return count"
   ]
  },
  {
   "cell_type": "code",
   "execution_count": 21,
   "id": "79082891",
   "metadata": {
    "execution": {
     "iopub.execute_input": "2024-02-02T15:07:33.236966Z",
     "iopub.status.busy": "2024-02-02T15:07:33.236163Z",
     "iopub.status.idle": "2024-02-02T15:07:33.241173Z",
     "shell.execute_reply": "2024-02-02T15:07:33.240478Z"
    },
    "papermill": {
     "duration": 0.014162,
     "end_time": "2024-02-02T15:07:33.242866",
     "exception": false,
     "start_time": "2024-02-02T15:07:33.228704",
     "status": "completed"
    },
    "tags": []
   },
   "outputs": [],
   "source": [
    "def count_identifiers(code):\n",
    "    identifiers = [':', '=', '==', '<', '>', ',']\n",
    "    count = sum(code.lower().count(keyword) for keyword in identifiers)\n",
    "    return count\n"
   ]
  },
  {
   "cell_type": "code",
   "execution_count": 22,
   "id": "8883d35f",
   "metadata": {
    "execution": {
     "iopub.execute_input": "2024-02-02T15:07:33.258193Z",
     "iopub.status.busy": "2024-02-02T15:07:33.257261Z",
     "iopub.status.idle": "2024-02-02T15:07:33.264497Z",
     "shell.execute_reply": "2024-02-02T15:07:33.263823Z"
    },
    "papermill": {
     "duration": 0.016781,
     "end_time": "2024-02-02T15:07:33.266389",
     "exception": false,
     "start_time": "2024-02-02T15:07:33.249608",
     "status": "completed"
    },
    "tags": []
   },
   "outputs": [],
   "source": [
    "X = df1[['num_of_lines', 'code_length', 'comments', 'cyclomatic_complexity', 'indents', 'loop_count', 'identifiers']]\n",
    "y = df1['readability']\n",
    "\n",
    "# Split the data into training and testing sets\n",
    "X_train, X_test, y_train, y_test = train_test_split(X.values, y, test_size=0.2, random_state=42)"
   ]
  },
  {
   "cell_type": "code",
   "execution_count": 23,
   "id": "679c1b68",
   "metadata": {
    "execution": {
     "iopub.execute_input": "2024-02-02T15:07:33.281759Z",
     "iopub.status.busy": "2024-02-02T15:07:33.280374Z",
     "iopub.status.idle": "2024-02-02T15:07:33.522955Z",
     "shell.execute_reply": "2024-02-02T15:07:33.522041Z"
    },
    "papermill": {
     "duration": 0.25175,
     "end_time": "2024-02-02T15:07:33.524869",
     "exception": false,
     "start_time": "2024-02-02T15:07:33.273119",
     "status": "completed"
    },
    "tags": []
   },
   "outputs": [
    {
     "data": {
      "text/html": [
       "<style>#sk-container-id-2 {color: black;background-color: white;}#sk-container-id-2 pre{padding: 0;}#sk-container-id-2 div.sk-toggleable {background-color: white;}#sk-container-id-2 label.sk-toggleable__label {cursor: pointer;display: block;width: 100%;margin-bottom: 0;padding: 0.3em;box-sizing: border-box;text-align: center;}#sk-container-id-2 label.sk-toggleable__label-arrow:before {content: \"▸\";float: left;margin-right: 0.25em;color: #696969;}#sk-container-id-2 label.sk-toggleable__label-arrow:hover:before {color: black;}#sk-container-id-2 div.sk-estimator:hover label.sk-toggleable__label-arrow:before {color: black;}#sk-container-id-2 div.sk-toggleable__content {max-height: 0;max-width: 0;overflow: hidden;text-align: left;background-color: #f0f8ff;}#sk-container-id-2 div.sk-toggleable__content pre {margin: 0.2em;color: black;border-radius: 0.25em;background-color: #f0f8ff;}#sk-container-id-2 input.sk-toggleable__control:checked~div.sk-toggleable__content {max-height: 200px;max-width: 100%;overflow: auto;}#sk-container-id-2 input.sk-toggleable__control:checked~label.sk-toggleable__label-arrow:before {content: \"▾\";}#sk-container-id-2 div.sk-estimator input.sk-toggleable__control:checked~label.sk-toggleable__label {background-color: #d4ebff;}#sk-container-id-2 div.sk-label input.sk-toggleable__control:checked~label.sk-toggleable__label {background-color: #d4ebff;}#sk-container-id-2 input.sk-hidden--visually {border: 0;clip: rect(1px 1px 1px 1px);clip: rect(1px, 1px, 1px, 1px);height: 1px;margin: -1px;overflow: hidden;padding: 0;position: absolute;width: 1px;}#sk-container-id-2 div.sk-estimator {font-family: monospace;background-color: #f0f8ff;border: 1px dotted black;border-radius: 0.25em;box-sizing: border-box;margin-bottom: 0.5em;}#sk-container-id-2 div.sk-estimator:hover {background-color: #d4ebff;}#sk-container-id-2 div.sk-parallel-item::after {content: \"\";width: 100%;border-bottom: 1px solid gray;flex-grow: 1;}#sk-container-id-2 div.sk-label:hover label.sk-toggleable__label {background-color: #d4ebff;}#sk-container-id-2 div.sk-serial::before {content: \"\";position: absolute;border-left: 1px solid gray;box-sizing: border-box;top: 0;bottom: 0;left: 50%;z-index: 0;}#sk-container-id-2 div.sk-serial {display: flex;flex-direction: column;align-items: center;background-color: white;padding-right: 0.2em;padding-left: 0.2em;position: relative;}#sk-container-id-2 div.sk-item {position: relative;z-index: 1;}#sk-container-id-2 div.sk-parallel {display: flex;align-items: stretch;justify-content: center;background-color: white;position: relative;}#sk-container-id-2 div.sk-item::before, #sk-container-id-2 div.sk-parallel-item::before {content: \"\";position: absolute;border-left: 1px solid gray;box-sizing: border-box;top: 0;bottom: 0;left: 50%;z-index: -1;}#sk-container-id-2 div.sk-parallel-item {display: flex;flex-direction: column;z-index: 1;position: relative;background-color: white;}#sk-container-id-2 div.sk-parallel-item:first-child::after {align-self: flex-end;width: 50%;}#sk-container-id-2 div.sk-parallel-item:last-child::after {align-self: flex-start;width: 50%;}#sk-container-id-2 div.sk-parallel-item:only-child::after {width: 0;}#sk-container-id-2 div.sk-dashed-wrapped {border: 1px dashed gray;margin: 0 0.4em 0.5em 0.4em;box-sizing: border-box;padding-bottom: 0.4em;background-color: white;}#sk-container-id-2 div.sk-label label {font-family: monospace;font-weight: bold;display: inline-block;line-height: 1.2em;}#sk-container-id-2 div.sk-label-container {text-align: center;}#sk-container-id-2 div.sk-container {/* jupyter's `normalize.less` sets `[hidden] { display: none; }` but bootstrap.min.css set `[hidden] { display: none !important; }` so we also need the `!important` here to be able to override the default hidden behavior on the sphinx rendered scikit-learn.org. See: https://github.com/scikit-learn/scikit-learn/issues/21755 */display: inline-block !important;position: relative;}#sk-container-id-2 div.sk-text-repr-fallback {display: none;}</style><div id=\"sk-container-id-2\" class=\"sk-top-container\"><div class=\"sk-text-repr-fallback\"><pre>Pipeline(steps=[(&#x27;randomforestregressor&#x27;,\n",
       "                 RandomForestRegressor(n_estimators=50, random_state=0))])</pre><b>In a Jupyter environment, please rerun this cell to show the HTML representation or trust the notebook. <br />On GitHub, the HTML representation is unable to render, please try loading this page with nbviewer.org.</b></div><div class=\"sk-container\" hidden><div class=\"sk-item sk-dashed-wrapped\"><div class=\"sk-label-container\"><div class=\"sk-label sk-toggleable\"><input class=\"sk-toggleable__control sk-hidden--visually\" id=\"sk-estimator-id-3\" type=\"checkbox\" ><label for=\"sk-estimator-id-3\" class=\"sk-toggleable__label sk-toggleable__label-arrow\">Pipeline</label><div class=\"sk-toggleable__content\"><pre>Pipeline(steps=[(&#x27;randomforestregressor&#x27;,\n",
       "                 RandomForestRegressor(n_estimators=50, random_state=0))])</pre></div></div></div><div class=\"sk-serial\"><div class=\"sk-item\"><div class=\"sk-estimator sk-toggleable\"><input class=\"sk-toggleable__control sk-hidden--visually\" id=\"sk-estimator-id-4\" type=\"checkbox\" ><label for=\"sk-estimator-id-4\" class=\"sk-toggleable__label sk-toggleable__label-arrow\">RandomForestRegressor</label><div class=\"sk-toggleable__content\"><pre>RandomForestRegressor(n_estimators=50, random_state=0)</pre></div></div></div></div></div></div></div>"
      ],
      "text/plain": [
       "Pipeline(steps=[('randomforestregressor',\n",
       "                 RandomForestRegressor(n_estimators=50, random_state=0))])"
      ]
     },
     "execution_count": 23,
     "metadata": {},
     "output_type": "execute_result"
    }
   ],
   "source": [
    "model = make_pipeline(RandomForestRegressor(n_estimators=50, random_state=0))\n",
    "model.fit(X_train, y_train)"
   ]
  },
  {
   "cell_type": "code",
   "execution_count": 24,
   "id": "c93629b9",
   "metadata": {
    "execution": {
     "iopub.execute_input": "2024-02-02T15:07:33.541599Z",
     "iopub.status.busy": "2024-02-02T15:07:33.540398Z",
     "iopub.status.idle": "2024-02-02T15:07:33.553354Z",
     "shell.execute_reply": "2024-02-02T15:07:33.552070Z"
    },
    "papermill": {
     "duration": 0.02365,
     "end_time": "2024-02-02T15:07:33.555807",
     "exception": false,
     "start_time": "2024-02-02T15:07:33.532157",
     "status": "completed"
    },
    "tags": []
   },
   "outputs": [
    {
     "name": "stdout",
     "output_type": "stream",
     "text": [
      "Mean Absolute Error: 0.29876820914776364\n"
     ]
    }
   ],
   "source": [
    "y_pred = model.predict(X_test)\n",
    "mae = mean_absolute_error(y_test, y_pred)\n",
    "print(f'Mean Absolute Error: {mae}')"
   ]
  },
  {
   "cell_type": "code",
   "execution_count": 25,
   "id": "17112ec1",
   "metadata": {
    "execution": {
     "iopub.execute_input": "2024-02-02T15:07:33.571414Z",
     "iopub.status.busy": "2024-02-02T15:07:33.571031Z",
     "iopub.status.idle": "2024-02-02T15:07:33.580451Z",
     "shell.execute_reply": "2024-02-02T15:07:33.579057Z"
    },
    "papermill": {
     "duration": 0.019582,
     "end_time": "2024-02-02T15:07:33.582457",
     "exception": false,
     "start_time": "2024-02-02T15:07:33.562875",
     "status": "completed"
    },
    "tags": []
   },
   "outputs": [
    {
     "name": "stdout",
     "output_type": "stream",
     "text": [
      "Predicted Readability Score for User Input: 4.36\n"
     ]
    }
   ],
   "source": [
    "user_input = \"\"\"class Solution:\n",
    "    def twoSum(self, nums: List[int], target: int) -> List[int]:\n",
    "        for i in range(len(nums)):\n",
    "            for j in range(i + 1, len(nums)):\n",
    "                if (i != j and nums[i] + nums[j] == target):\n",
    "                    return [i, j]\n",
    "        return []\"\"\"\n",
    "\n",
    "user_score = model.predict([[len(user_input.split('\\n')), len(user_input), \n",
    "                             count_comments(user_input), cyclomatic_complexity(user_input), \n",
    "                             count_indents(user_input), count_loops(user_input),\n",
    "                             count_identifiers(user_input)]])\n",
    "print(f'Predicted Readability Score for User Input: {user_score[0]:.2f}')"
   ]
  }
 ],
 "metadata": {
  "kaggle": {
   "accelerator": "none",
   "dataSources": [
    {
     "datasetId": 4390793,
     "sourceId": 7540319,
     "sourceType": "datasetVersion"
    }
   ],
   "dockerImageVersionId": 30646,
   "isGpuEnabled": false,
   "isInternetEnabled": true,
   "language": "python",
   "sourceType": "notebook"
  },
  "kernelspec": {
   "display_name": "Python 3",
   "language": "python",
   "name": "python3"
  },
  "language_info": {
   "codemirror_mode": {
    "name": "ipython",
    "version": 3
   },
   "file_extension": ".py",
   "mimetype": "text/x-python",
   "name": "python",
   "nbconvert_exporter": "python",
   "pygments_lexer": "ipython3",
   "version": "3.10.13"
  },
  "papermill": {
   "default_parameters": {},
   "duration": 7.004527,
   "end_time": "2024-02-02T15:07:34.112296",
   "environment_variables": {},
   "exception": null,
   "input_path": "__notebook__.ipynb",
   "output_path": "__notebook__.ipynb",
   "parameters": {},
   "start_time": "2024-02-02T15:07:27.107769",
   "version": "2.5.0"
  }
 },
 "nbformat": 4,
 "nbformat_minor": 5
}
